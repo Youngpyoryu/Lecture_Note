{
  "nbformat": 4,
  "nbformat_minor": 0,
  "metadata": {
    "colab": {
      "name": "07/23.R",
      "provenance": [],
      "authorship_tag": "ABX9TyOG165gfn3HJyaIADiAU1x+",
      "include_colab_link": true
    },
    "kernelspec": {
      "name": "python3",
      "display_name": "Python 3"
    },
    "language_info": {
      "name": "python"
    }
  },
  "cells": [
    {
      "cell_type": "markdown",
      "metadata": {
        "id": "view-in-github",
        "colab_type": "text"
      },
      "source": [
        "<a href=\"https://colab.research.google.com/github/Youngpyoryu/Ezen_academy/blob/main/07_23_R.ipynb\" target=\"_parent\"><img src=\"https://colab.research.google.com/assets/colab-badge.svg\" alt=\"Open In Colab\"/></a>"
      ]
    },
    {
      "cell_type": "code",
      "metadata": {
        "colab": {
          "base_uri": "https://localhost:8080/"
        },
        "id": "teZ8g4qPSeBE",
        "outputId": "00231e81-1743-4311-e51a-957969326a42"
      },
      "source": [
        "%load_ext rpy2.ipython"
      ],
      "execution_count": 51,
      "outputs": [
        {
          "output_type": "stream",
          "text": [
            "The rpy2.ipython extension is already loaded. To reload it, use:\n",
            "  %reload_ext rpy2.ipython\n"
          ],
          "name": "stdout"
        }
      ]
    },
    {
      "cell_type": "markdown",
      "metadata": {
        "id": "Ad-HN-r5SvNW"
      },
      "source": [
        "데이터는 크게 (1) 명목형 또는 순서형의 범주형 데이터 (categorical data)와 (2) 연속형 데이터 (continuous data) 로 구분할 수 있습니다.  R에서는 범주형 데이터를 요인(factor)형 데이터 구조라고 부르고 있으며, 순서(order)가 있는 경우는 순서형 요인(ordered factor)라고 해서 구분하기도 합니다.\n",
        "\n",
        " \n",
        "\n",
        "분석하고자 하는 데이터 셋을 받으면 제일 먼저 데이터 구조와 데이터 형태를 탐색하게 됩니다.  그리고 분석 목적과 시나리오에 따라서 변수를 변환하게 되지요.  이번 포스팅에서는 연속형 변수를 범주형 변수로 변환하는 3가지 방법에 대해서 알아보도록 하겠습니다.  통계기법 중 도수분포표, 교차분할표, 카이제곱 검정이라든지, 로지스틱회귀분석, 그래프 중 막대그림, 원그림, 점그림 등의 경우 범주형 변수로 변환을 해야만 하며, 데이터 탐색 시에도 범주형 변수로 변환하여 분포 형태나 집단 간 비교를 하게 되므로 이번 포스팅은 활용도가 매우 높다고 하겠습니다.\n",
        "\n",
        " \n",
        "\n",
        "cut() 함수, ifelse() 함수, within() 함수를 이용해서 아래 예를 들어 설명하도록 하겠습니다.\n",
        "\n",
        "\n",
        "\n",
        "출처: https://rfriend.tistory.com/38 [R, Python 분석과 프로그래밍의 친구 (by R Friend)]"
      ]
    },
    {
      "cell_type": "markdown",
      "metadata": {
        "id": "mgf4O2wrS3b1"
      },
      "source": [
        "(1) Cut"
      ]
    },
    {
      "cell_type": "code",
      "metadata": {
        "id": "0P6InS2uSh5D"
      },
      "source": [
        "%%R\n",
        "\n",
        "#통계시험 점수(stats_score)\n",
        "\n",
        "student_id<-c(\"s01\", \"s02\", \"s03\", \"s04\", \"s05\", \"s06\", \"s07\", \"s08\", \"s09\", \"s10\")\n",
        "stat_score<-c(56,94,82,79,64,82,78,80,76,78)"
      ],
      "execution_count": 52,
      "outputs": []
    },
    {
      "cell_type": "code",
      "metadata": {
        "colab": {
          "base_uri": "https://localhost:8080/"
        },
        "id": "iNRsdQElS7c3",
        "outputId": "e4d27ae2-732c-468d-977b-1ed009e88098"
      },
      "source": [
        "%%R\n",
        "mean(stat_score)"
      ],
      "execution_count": 53,
      "outputs": [
        {
          "output_type": "stream",
          "text": [
            "[1] 76.9\n"
          ],
          "name": "stdout"
        }
      ]
    },
    {
      "cell_type": "code",
      "metadata": {
        "colab": {
          "base_uri": "https://localhost:8080/",
          "height": 497
        },
        "id": "3XXQsM2ATLlE",
        "outputId": "d43b7735-bcef-459d-9517-d7c487cc9221"
      },
      "source": [
        "%%R\n",
        "hist(stat_score)"
      ],
      "execution_count": 54,
      "outputs": [
        {
          "output_type": "display_data",
          "data": {
            "image/png": "[encoded data removed]"
          },
          "metadata": {
            "tags": []
          }
        }
      ]
    },
    {
      "cell_type": "code",
      "metadata": {
        "colab": {
          "base_uri": "https://localhost:8080/"
        },
        "id": "Uc3xOg5QTTOz",
        "outputId": "8b2606a7-6370-4e21-b3ae-577b995435b9"
      },
      "source": [
        "%%R\n",
        "#데이터 프레임 생성\n",
        "score_d.f<-data.frame(student_id,stat_score)\n",
        "score_d.f"
      ],
      "execution_count": 55,
      "outputs": [
        {
          "output_type": "stream",
          "text": [
            "   student_id stat_score\n",
            "1         s01         56\n",
            "2         s02         94\n",
            "3         s03         82\n",
            "4         s04         79\n",
            "5         s05         64\n",
            "6         s06         82\n",
            "7         s07         78\n",
            "8         s08         80\n",
            "9         s09         76\n",
            "10        s10         78\n"
          ],
          "name": "stdout"
        }
      ]
    },
    {
      "cell_type": "code",
      "metadata": {
        "id": "ckxEpurQVfaX"
      },
      "source": [
        "%%R\n",
        "rm(studeint_id, stat_score)"
      ],
      "execution_count": 56,
      "outputs": []
    },
    {
      "cell_type": "markdown",
      "metadata": {
        "id": "n1AZJVSkVnlR"
      },
      "source": [
        "위의 통계시험 성적을 가지고 cut() 함수를 이용하여 \"수\", \"우\", \"미\", \"양\", \"가\" 등급을 매겨보도록 하겠습니다.\n",
        "\n",
        "right = TRUE 옵션을 주면 a < x <= b  와 같이 오른쪽 숫자까지 포함하여 해당 등급을 부여하게 됩니다.\n",
        "\n",
        "right = FALSE 옵션을 주면 a<= x <b 의 조건으로 등급을 부여하며, include.lowest = TRUE 옵션을 주면 구성요소 값이 최소값과 같아도 변환을 시키게 됩니다."
      ]
    },
    {
      "cell_type": "code",
      "metadata": {
        "colab": {
          "base_uri": "https://localhost:8080/"
        },
        "id": "pXYEyDnuVlRP",
        "outputId": "1653e3c3-e86e-4a95-9471-f256e4f6b195"
      },
      "source": [
        "%%R\n",
        "##cut()\n",
        "\n",
        "score_d.f <- transform(score_d.f,\n",
        "                       stat_score_1 = cut(stat_score, breaks = c(0, 60, 70, 80, 90, 100),\n",
        "                                          include.lowest = TRUE, \n",
        "                                          right = FALSE, \n",
        "                                          labels = c(\"가\", \"양\", \"미\", \"우\", \"수\")\n",
        "                                         ), \n",
        "                      stat_score_2 = cut(stat_score, breaks = c(0, 60, 70, 80, 90, 100), \n",
        "                                         include.lowest = FALSE, \n",
        "                                         right = FALSE, \n",
        "                                         labels = c(\"가\", \"양\", \"미\", \"우\", \"수\")\n",
        "                                         ),\n",
        "                      stat_score_3 = cut(stat_score, breaks = c(0, 60, 70, 80, 90, 100), \n",
        "                                         include.lowest = FALSE, \n",
        "                                         right = TRUE, \n",
        "                                        labels = c(\"가\", \"양\", \"미\", \"우\", \"수\")\n",
        "                                        ), \n",
        "                      stat_score_4 = cut(stat_score, breaks = c(0, 60, 70, 80, 90, 100),\n",
        "                                         include.lowest = TRUE, \n",
        "                                         right = TRUE,  \n",
        "                                         labels = c(\"가\", \"양\", \"미\", \"우\", \"수\")\n",
        "                                        )\n",
        "                        )\n",
        "\n",
        "score_d.f"
      ],
      "execution_count": 57,
      "outputs": [
        {
          "output_type": "stream",
          "text": [
            "   student_id stat_score stat_score_1 stat_score_2 stat_score_3 stat_score_4\n",
            "1         s01         56           가           가           가           가\n",
            "2         s02         94           수           수           수           수\n",
            "3         s03         82           우           우           우           우\n",
            "4         s04         79           미           미           미           미\n",
            "5         s05         64           양           양           양           양\n",
            "6         s06         82           우           우           우           우\n",
            "7         s07         78           미           미           미           미\n",
            "8         s08         80           우           우           미           미\n",
            "9         s09         76           미           미           미           미\n",
            "10        s10         78           미           미           미           미\n"
          ],
          "name": "stdout"
        }
      ]
    },
    {
      "cell_type": "markdown",
      "metadata": {
        "id": "wDKKGFY7Wasd"
      },
      "source": [
        "그런데 사용하다 보면 right 옵션, include.right 옵션, 그리고 labels 부여하는 순서도 그렇고, 머리속이 복잡해집니다. 아래의 ifelse()나 within() 함수는 위의 cut()보다는 수식의 부호를 직접 입력한다는 측면에서 사용하기에 더 편하고 직관적인 면이 있습니다.\n",
        "\n",
        "\n",
        "(2) ifelse()"
      ]
    },
    {
      "cell_type": "code",
      "metadata": {
        "colab": {
          "base_uri": "https://localhost:8080/"
        },
        "id": "tsttu23NVuQR",
        "outputId": "fac1b023-b2aa-4a5f-b95f-95b2189ffd4a"
      },
      "source": [
        "%%R\n",
        "attach(score_d.f)\n",
        "\n",
        "score_d.f <- transform(score_d.f, \n",
        "           stat_score_5 = ifelse(stat_score < 60, \"가\", \n",
        "                                 ifelse(stat_score >= 60 & stat_score < 70, \"양\", \n",
        "                                 ifelse(stat_score >= 70 & stat_score < 80, \"미\", \n",
        "                                 ifelse(stat_score >= 80 & stat_score < 90, \"우\", \"수\"\n",
        "                                 ))))\n",
        "                          )\n",
        "detach(score_d.f)\n",
        "score_d.f\n"
      ],
      "execution_count": 58,
      "outputs": [
        {
          "output_type": "stream",
          "text": [
            "R[write to console]: The following object is masked _by_ .GlobalEnv:\n",
            "\n",
            "    student_id\n",
            "\n",
            "\n"
          ],
          "name": "stderr"
        },
        {
          "output_type": "stream",
          "text": [
            "   student_id stat_score stat_score_1 stat_score_2 stat_score_3 stat_score_4\n",
            "1         s01         56           가           가           가           가\n",
            "2         s02         94           수           수           수           수\n",
            "3         s03         82           우           우           우           우\n",
            "4         s04         79           미           미           미           미\n",
            "5         s05         64           양           양           양           양\n",
            "6         s06         82           우           우           우           우\n",
            "7         s07         78           미           미           미           미\n",
            "8         s08         80           우           우           미           미\n",
            "9         s09         76           미           미           미           미\n",
            "10        s10         78           미           미           미           미\n",
            "   stat_score_5\n",
            "1            가\n",
            "2            수\n",
            "3            우\n",
            "4            미\n",
            "5            양\n",
            "6            우\n",
            "7            미\n",
            "8            우\n",
            "9            미\n",
            "10           미\n"
          ],
          "name": "stdout"
        }
      ]
    },
    {
      "cell_type": "code",
      "metadata": {
        "colab": {
          "base_uri": "https://localhost:8080/"
        },
        "id": "EZpD8eKpWmj5",
        "outputId": "ae94b81c-397a-4169-ddf5-d9be6ff4c176"
      },
      "source": [
        "%%R\n",
        "class(score_d.f$stat_score_5)"
      ],
      "execution_count": 59,
      "outputs": [
        {
          "output_type": "stream",
          "text": [
            "[1] \"character\"\n"
          ],
          "name": "stdout"
        }
      ]
    },
    {
      "cell_type": "markdown",
      "metadata": {
        "id": "x-gnBpV4aCW8"
      },
      "source": [
        "위 표의 제일 오른쪽에 'stat_score_5' 변수가 ifelse() 함수를 이용해서 만든 범주형 변수가 되겠습니다.  cut() 대비 수식 등호, 부등호를 직접 입력하니 직관적으로 분석가가 원하는 범주로 수식을 적을 수 있는 장점이 있습니다만, 범주의 수준(level)이 많아질 수록 괄호 열고 닫는데 유의해야 합니다.  위의 예제의 경우 5개 범주로 나누는데 괄호 열고 \"((((\"  닫는 것이 \"))))\" 총 4개가 사용이 되었네요.  갯수 조심하지 않으면 콘솔 창에 에러날거예요.  RStudio 사용하면 ifelse() 괄호 하나씩 더해갈 때 마다 괄호 닫는것도 저절로 생기니 차근 차근 하시면 될겁니다.\n",
        "\n",
        " \n",
        "\n",
        "그리고 stat_score_5 의 속성(class)이 요인(factor)이 아닌 문자(character)로 되어 있습니다.  만약 요인별로 통계 분석을 하고자 한다면 as.factor() 함수로 문자형을 요인형으로 먼저 변환을 시킨 후에 분석을 진행해야 합니다."
      ]
    },
    {
      "cell_type": "markdown",
      "metadata": {
        "id": "5YISGmEAaDU6"
      },
      "source": [
        "(3) within()"
      ]
    },
    {
      "cell_type": "code",
      "metadata": {
        "id": "caq5UE7SWwf4"
      },
      "source": [
        "%%R\n",
        "score_d.f <- within( score_d.f, {\n",
        "    stat_score_6 = character(0) \n",
        "    stat_score_6[ stat_score < 60 ] = \"가\" \n",
        "    stat_score_6[ stat_score >=60 & stat_score < 70 ] = \"양\" \n",
        "    stat_score_6[ stat_score >=70 & stat_score < 80 ] = \"미\" \n",
        "    stat_score_6[ stat_score >=80 & stat_score < 90 ] = \"우\" \n",
        "    stat_score_6[ stat_score >=90 ] = \"수\" \n",
        "    \n",
        "    stat_score_6 = factor(stat_score_6, level = c(\"수\", \"우\", \"미\", \"양\", \"가\"))\n",
        "  })"
      ],
      "execution_count": 60,
      "outputs": []
    },
    {
      "cell_type": "code",
      "metadata": {
        "colab": {
          "base_uri": "https://localhost:8080/"
        },
        "id": "lCbrHB9DaW1B",
        "outputId": "5a7ee7d8-120f-4095-dff4-550a6b213ceb"
      },
      "source": [
        "%%R\n",
        "score_d.f$stat_score_6"
      ],
      "execution_count": 61,
      "outputs": [
        {
          "output_type": "stream",
          "text": [
            " [1] 가 수 우 미 양 우 미 우 미 미\n",
            "Levels: 수 우 미 양 가\n"
          ],
          "name": "stdout"
        }
      ]
    },
    {
      "cell_type": "markdown",
      "metadata": {
        "id": "QWPK_9szbimP"
      },
      "source": [
        "within() 함수는 먼저 새로 만들 변수 stat_score_6 = character(0)  이라고 해서 문자형 변수라고 신규생성/지정을 해주고 시작합니다.\n",
        "\n",
        "수식 등호, 부등호로 구간 설정하구요, 제일 마지막 줄에 factor() 함수로 해서 level = c(\"수\", \"우\", \"미\", \"양\", \"가\") 라고 해서 수준을 지정해 줄 수 있습니다.  성적은 순서(order)가 있으므로 level 에 지정한 순서가 stat_score_6 요인 변수의 level 순서가 되겠습니다.\n",
        "\n",
        " \n",
        "\n",
        "score_d.f$stat_score_6  라고 해서 indexing을 해서 보면 제일 아랫줄에 \"Levels: 수 우 미 양 가\" 라고 해서 순서가 제대로 인식되어 있음을 알 수 있습니다.  개인적으로 within() 함수를 순서형 요인변수 만들 때 위 셋 중에서 가장 많이 사용하는 편입니다.\n",
        "\n",
        " \n",
        "\n",
        "아래는 제일 오른쪽에 within()함수로 만든 stat_score_6 변수까지 모두 한꺼번에 열어본 score_d.f 데이터 프레임이 되겠습니다. "
      ]
    },
    {
      "cell_type": "markdown",
      "metadata": {
        "id": "0NgKVdCrbsGS"
      },
      "source": [
        "# IRIS data를 이용하여 의사결정나무(Decision Tree) 모형 실습하기\n",
        "\n",
        "의사결정 나무는 간단하게 말해서 if~else와 같이 특정 조건을 기준으로 O/X로 나누어 분류/회귀를 진행하는 tree구조의 분류/회귀 데이터마이닝 기법이다.\n",
        "\n",
        " 이해도가 매우 높고 직관적이라는 장점이 있다. 그렇기에 많이 사용되며, 의사결정나무도 많은 머신러닝 기법과 동일하게 종속변수의 형태에 따라 분류와 회귀 문제로 나뉜다.\n",
        "\n",
        " 종속변수가 범주형일 경우 Decision Tree Classification으로 분류를 진행하고, 종속변수가 연속형일 경우 Decision Tree Regression으로 회귀를 진행한다. "
      ]
    },
    {
      "cell_type": "markdown",
      "metadata": {
        "id": "OD-VmzypcUOw"
      },
      "source": [
        "rpart : # Decision Tree 분석 및 시각화를 위한 패키지"
      ]
    },
    {
      "cell_type": "code",
      "metadata": {
        "colab": {
          "base_uri": "https://localhost:8080/"
        },
        "id": "Oap_j18vb6_V",
        "outputId": "ef411a5c-ca04-419c-c6bf-1373e5512e47"
      },
      "source": [
        "%%R\n",
        "install.packages('rpart')\n",
        "#라이브러리 load\n",
        "library(rpart)\n",
        "\n",
        "#Decision Tree 모델 생성\n",
        "c<-rpart(Species~., data = iris)\n",
        "c"
      ],
      "execution_count": 62,
      "outputs": [
        {
          "output_type": "stream",
          "text": [
            "R[write to console]: Installing package into ‘/usr/local/lib/R/site-library’\n",
            "(as ‘lib’ is unspecified)\n",
            "\n",
            "R[write to console]: trying URL 'https://cran.rstudio.com/src/contrib/rpart_4.1-15.tar.gz'\n",
            "\n",
            "R[write to console]: Content type 'application/x-gzip'\n",
            "R[write to console]:  length 639286 bytes (624 KB)\n",
            "\n",
            "R[write to console]: =\n",
            "R[write to console]: =\n",
            "R[write to console]: =\n",
            "R[write to console]: =\n",
            "R[write to console]: =\n",
            "R[write to console]: =\n",
            "R[write to console]: =\n",
            "R[write to console]: =\n",
            "R[write to console]: =\n",
            "R[write to console]: =\n",
            "R[write to console]: =\n",
            "R[write to console]: =\n",
            "R[write to console]: =\n",
            "R[write to console]: =\n",
            "R[write to console]: =\n",
            "R[write to console]: =\n",
            "R[write to console]: =\n",
            "R[write to console]: =\n",
            "R[write to console]: =\n",
            "R[write to console]: =\n",
            "R[write to console]: =\n",
            "R[write to console]: =\n",
            "R[write to console]: =\n",
            "R[write to console]: =\n",
            "R[write to console]: =\n",
            "R[write to console]: =\n",
            "R[write to console]: =\n",
            "R[write to console]: =\n",
            "R[write to console]: =\n",
            "R[write to console]: =\n",
            "R[write to console]: =\n",
            "R[write to console]: =\n",
            "R[write to console]: =\n",
            "R[write to console]: =\n",
            "R[write to console]: =\n",
            "R[write to console]: =\n",
            "R[write to console]: =\n",
            "R[write to console]: =\n",
            "R[write to console]: =\n",
            "R[write to console]: =\n",
            "R[write to console]: =\n",
            "R[write to console]: =\n",
            "R[write to console]: =\n",
            "R[write to console]: =\n",
            "R[write to console]: =\n",
            "R[write to console]: =\n",
            "R[write to console]: =\n",
            "R[write to console]: =\n",
            "R[write to console]: =\n",
            "R[write to console]: =\n",
            "R[write to console]: \n",
            "\n",
            "R[write to console]: downloaded 624 KB\n",
            "\n",
            "\n",
            "R[write to console]: \n",
            "\n",
            "R[write to console]: \n",
            "R[write to console]: The downloaded source packages are in\n",
            "\t‘/tmp/Rtmp8tyrE0/downloaded_packages’\n",
            "R[write to console]: \n",
            "R[write to console]: \n",
            "\n"
          ],
          "name": "stderr"
        },
        {
          "output_type": "stream",
          "text": [
            "n= 150 \n",
            "\n",
            "node), split, n, loss, yval, (yprob)\n",
            "      * denotes terminal node\n",
            "\n",
            "1) root 150 100 setosa (0.33333333 0.33333333 0.33333333)  \n",
            "  2) Petal.Length< 2.45 50   0 setosa (1.00000000 0.00000000 0.00000000) *\n",
            "  3) Petal.Length>=2.45 100  50 versicolor (0.00000000 0.50000000 0.50000000)  \n",
            "    6) Petal.Width< 1.75 54   5 versicolor (0.00000000 0.90740741 0.09259259) *\n",
            "    7) Petal.Width>=1.75 46   1 virginica (0.00000000 0.02173913 0.97826087) *\n"
          ],
          "name": "stdout"
        }
      ]
    },
    {
      "cell_type": "code",
      "metadata": {
        "colab": {
          "base_uri": "https://localhost:8080/",
          "height": 497
        },
        "id": "NdpPLNA2aY7Q",
        "outputId": "ddad807e-9f2d-4e15-d3b0-7e8abe5a803b"
      },
      "source": [
        "%%R\n",
        "# 시각화\n",
        "plot(c, compress=T, margin=0.3)\n",
        "text(c, cex=1.5)"
      ],
      "execution_count": 63,
      "outputs": [
        {
          "output_type": "display_data",
          "data": {
            "image/png": "[encoded data removed]"
          },
          "metadata": {
            "tags": []
          }
        }
      ]
    },
    {
      "cell_type": "code",
      "metadata": {
        "colab": {
          "base_uri": "https://localhost:8080/"
        },
        "id": "kj-8jXqicsHp",
        "outputId": "86b62f61-d3f6-4901-a5a5-e296879699c3"
      },
      "source": [
        "%%R\n",
        "# 예측\n",
        "head(predict(c, newdata = iris, type = \"class\"))\n",
        "tail(predict(c, newdata = iris, type = \"class\"))"
      ],
      "execution_count": 64,
      "outputs": [
        {
          "output_type": "stream",
          "text": [
            "      145       146       147       148       149       150 \n",
            "virginica virginica virginica virginica virginica virginica \n",
            "Levels: setosa versicolor virginica\n"
          ],
          "name": "stdout"
        }
      ]
    },
    {
      "cell_type": "markdown",
      "metadata": {
        "id": "y5geSPf4cvny"
      },
      "source": [
        " 위의 newdata에는 기존의 iris데이터를 동일하게 넣었다. 실습의 편의상 이렇게 진행한다. 만약 데이터를 train/test로 분리를 시킨 상태에서 진행한다면 newdata 부분에 test데이터를 넣으면 될 것이다. "
      ]
    },
    {
      "cell_type": "code",
      "metadata": {
        "colab": {
          "base_uri": "https://localhost:8080/",
          "height": 1000
        },
        "id": "GEa_Udj_cuYd",
        "outputId": "ad56fac7-f277-482d-d67e-48673a31a406"
      },
      "source": [
        "%%R\n",
        "# 시각화2\n",
        "install.packages(\"rpart.plot\")\n",
        "library(rpart.plot)\n",
        "prp(c, type = 4, extra = 2)"
      ],
      "execution_count": 65,
      "outputs": [
        {
          "output_type": "stream",
          "text": [
            "R[write to console]: Installing package into ‘/usr/local/lib/R/site-library’\n",
            "(as ‘lib’ is unspecified)\n",
            "\n",
            "R[write to console]: trying URL 'https://cran.rstudio.com/src/contrib/rpart.plot_3.0.9.tar.gz'\n",
            "\n",
            "R[write to console]: Content type 'application/x-gzip'\n",
            "R[write to console]:  length 671600 bytes (655 KB)\n",
            "\n",
            "R[write to console]: =\n",
            "R[write to console]: =\n",
            "R[write to console]: =\n",
            "R[write to console]: =\n",
            "R[write to console]: =\n",
            "R[write to console]: =\n",
            "R[write to console]: =\n",
            "R[write to console]: =\n",
            "R[write to console]: =\n",
            "R[write to console]: =\n",
            "R[write to console]: =\n",
            "R[write to console]: =\n",
            "R[write to console]: =\n",
            "R[write to console]: =\n",
            "R[write to console]: =\n",
            "R[write to console]: =\n",
            "R[write to console]: =\n",
            "R[write to console]: =\n",
            "R[write to console]: =\n",
            "R[write to console]: =\n",
            "R[write to console]: =\n",
            "R[write to console]: =\n",
            "R[write to console]: =\n",
            "R[write to console]: =\n",
            "R[write to console]: =\n",
            "R[write to console]: =\n",
            "R[write to console]: =\n",
            "R[write to console]: =\n",
            "R[write to console]: =\n",
            "R[write to console]: =\n",
            "R[write to console]: =\n",
            "R[write to console]: =\n",
            "R[write to console]: =\n",
            "R[write to console]: =\n",
            "R[write to console]: =\n",
            "R[write to console]: =\n",
            "R[write to console]: =\n",
            "R[write to console]: =\n",
            "R[write to console]: =\n",
            "R[write to console]: =\n",
            "R[write to console]: =\n",
            "R[write to console]: =\n",
            "R[write to console]: =\n",
            "R[write to console]: =\n",
            "R[write to console]: =\n",
            "R[write to console]: =\n",
            "R[write to console]: =\n",
            "R[write to console]: =\n",
            "R[write to console]: =\n",
            "R[write to console]: =\n",
            "R[write to console]: \n",
            "\n",
            "R[write to console]: downloaded 655 KB\n",
            "\n",
            "\n",
            "R[write to console]: \n",
            "\n",
            "R[write to console]: \n",
            "R[write to console]: The downloaded source packages are in\n",
            "\t‘/tmp/Rtmp8tyrE0/downloaded_packages’\n",
            "R[write to console]: \n",
            "R[write to console]: \n",
            "\n"
          ],
          "name": "stderr"
        },
        {
          "output_type": "display_data",
          "data": {
            "image/png": "[encoded data removed]"
          },
          "metadata": {
            "tags": []
          }
        }
      ]
    },
    {
      "cell_type": "markdown",
      "metadata": {
        "id": "6yF837EgdS7V"
      },
      "source": [
        " 위의 경우는 rpart.plot이란 패키지를 설치하고 이 패키지를 통해서 다른 방식으로 시각화 작업을 진행한 것이다. 이를 해석해 보자면, Petal.Lenght >= 2.5이면서 Petal.Width <1.8인 노드가 해당한 개체는 54개인데, 이 중에서 versicolor의 개수가 49개임을 나타낸다. 그렇기에 추가적인 자료가 이 조건에 맞게 들어오게 된다면, (실제로는 다른 범주일지라도) versicolor로 범주를 분류할 것이다."
      ]
    },
    {
      "cell_type": "code",
      "metadata": {
        "colab": {
          "base_uri": "https://localhost:8080/"
        },
        "id": "zJq1HiEpcx94",
        "outputId": "9e234ba3-03d4-40aa-8fb1-606a765b967e"
      },
      "source": [
        "%%R\n",
        "# rpart가 제공하는 정보\n",
        "ls(c)"
      ],
      "execution_count": 66,
      "outputs": [
        {
          "output_type": "stream",
          "text": [
            " [1] \"call\"                \"control\"             \"cptable\"            \n",
            " [4] \"frame\"               \"functions\"           \"method\"             \n",
            " [7] \"numresp\"             \"ordered\"             \"parms\"              \n",
            "[10] \"splits\"              \"terms\"               \"variable.importance\"\n",
            "[13] \"where\"               \"y\"                  \n"
          ],
          "name": "stdout"
        }
      ]
    },
    {
      "cell_type": "markdown",
      "metadata": {
        "id": "avHCYDWJdWlo"
      },
      "source": [
        "rpart를 통해서는 위와 같은 정보를 확인할 수 있다. 여기서 cptable은 트리의 크기(depth)에 따른 비용-복잡도 모수 (cost-complexity parameter / CP)를 제공하며, 교차타당성 오차(cross-validation error / xerror)를 함께 제공한다. 이 값들은 prune()또는 rpart.control()을 통한 가지치기(pruning)와 트리의 최대 크기를 제한하기 위한 옵션으로 사용된다. "
      ]
    },
    {
      "cell_type": "code",
      "metadata": {
        "colab": {
          "base_uri": "https://localhost:8080/"
        },
        "id": "J1vkly9QdUvH",
        "outputId": "0a5a45ec-b7a6-40dc-b8a2-11f87bea6888"
      },
      "source": [
        "%%R\n",
        "# cptable\n",
        "c$cptable"
      ],
      "execution_count": 67,
      "outputs": [
        {
          "output_type": "stream",
          "text": [
            "    CP nsplit rel error xerror       xstd\n",
            "1 0.50      0      1.00   1.15 0.05180090\n",
            "2 0.44      1      0.50   0.72 0.06118823\n",
            "3 0.01      2      0.06   0.09 0.02908608\n"
          ],
          "name": "stdout"
        }
      ]
    },
    {
      "cell_type": "code",
      "metadata": {
        "colab": {
          "base_uri": "https://localhost:8080/",
          "height": 497
        },
        "id": "tEK2GcMfdaDg",
        "outputId": "90eeef1b-13c6-44f6-d3c8-6e8e993ae1ba"
      },
      "source": [
        "%%R\n",
        "# 교차타당성 오차를 최소화하는 Tree로 가지치기(pruning)\n",
        "opt <- which.min(c$cptable[, \"xerror\"])\n",
        "cp <- c$cptable[opt,\"CP\"]\n",
        "prune.c <- prune(c, cp=cp)\n",
        "plot(prune.c)\n",
        "text(prune.c)\n"
      ],
      "execution_count": 68,
      "outputs": [
        {
          "output_type": "display_data",
          "data": {
            "image/png": "[encoded data removed]"
          },
          "metadata": {
            "tags": []
          }
        }
      ]
    },
    {
      "cell_type": "markdown",
      "metadata": {
        "id": "I48K9qsVdb3a"
      },
      "source": [
        "위의 결과를 보면 이전과 다른 결과가 출력되지는 않았다. 데이터셋이 단순한 특성이 있기에 그럴 것이다. "
      ]
    },
    {
      "cell_type": "code",
      "metadata": {
        "colab": {
          "base_uri": "https://localhost:8080/",
          "height": 497
        },
        "id": "WqA-EG3xdYBG",
        "outputId": "08ff3e90-f788-49d8-ebe5-9cf648a80f73"
      },
      "source": [
        "%%R\n",
        "# CP(cost-complexity parameter) 그래프\n",
        "plotcp(c)"
      ],
      "execution_count": 69,
      "outputs": [
        {
          "output_type": "display_data",
          "data": {
            "image/png": "[encoded data removed]"
          },
          "metadata": {
            "tags": []
          }
        }
      ]
    },
    {
      "cell_type": "markdown",
      "metadata": {
        "id": "aYslcTvLde0i"
      },
      "source": [
        " 위의 경우는 cross validation error에 따른 cp값을 나타낸 것이다. 유의수준 아래로 내려온 cp는 size=3일때이기에 size=3의 tree가 가장 적당하다. "
      ]
    },
    {
      "cell_type": "markdown",
      "metadata": {
        "id": "fcqSYlXSvbmd"
      },
      "source": [
        "# 결측치 확인 및 처리 : is.na(), sum(is.na()). na.rm = TURE, na.omit(), complete.cases()"
      ]
    },
    {
      "cell_type": "markdown",
      "metadata": {
        "id": "jkz4uskOwk_A"
      },
      "source": [
        "외부 텍스트 파일로 대용량의 데이터 셋을 R로 불러들이고 나면 가장 먼저 하는 것이 str()로 데이터 구조 파악하기, head(), tail()로 데이터 몇 개 미리보기, 그 다음에 하는 것이 바로 결측값 확인 및 처리, 특이값/영향치 확인 및 처리 등의 탐색적 데이터 분석입니다.\n",
        "\n",
        " \n",
        "\n",
        "R에서 결측값이 들어있는 상태에서 통계 분석을 진행하면 NA 라는 결과가 나올 뿐, 원하는 결과를 얻지 못합니다.  그리고 대부분의 R 통계 함수에는 옵션으로 \"na.rm = TRUE\" 라는 옵션을 제공해서 결측값을 통계량 계산할 때 포함하지 말지를 선택할 수 있게 해줍니다.\n",
        "\n",
        "## 결측값이 포함되어 있는지 확인하는 방법 : in.na()\n",
        "\n",
        "위의 벡터처럼 구성요소 갯수가 몇 개 안될 경우 is.na() 한 후에 TRUE, FALSE 논리형 값을 눈으로 보고 확인할 수 있습니다. 하지만 아래의 Cars93 데이터 프레임처럼 변수 갯수도 많고, 관측치 갯수도 많은 경우 (대부분의 실무에서 쓰는 데이터 셋은 이처럼 변수도 많고 관측치도 많지요) is.na() 함수만 가지고서는 아무래도 결측치 현황을 파악하는데 무리가 있습니다.\n",
        "\n",
        " \n"
      ]
    },
    {
      "cell_type": "code",
      "metadata": {
        "colab": {
          "base_uri": "https://localhost:8080/"
        },
        "id": "3zUXi3iavi3t",
        "outputId": "63d597d5-0ea6-41be-89fe-f1a8b178abba"
      },
      "source": [
        "%%R\n",
        "install.packages(\"MASS\")\n",
        "library(MASS)"
      ],
      "execution_count": 70,
      "outputs": [
        {
          "output_type": "stream",
          "text": [
            "R[write to console]: Installing package into ‘/usr/local/lib/R/site-library’\n",
            "(as ‘lib’ is unspecified)\n",
            "\n",
            "R[write to console]: trying URL 'https://cran.rstudio.com/src/contrib/MASS_7.3-54.tar.gz'\n",
            "\n",
            "R[write to console]: Content type 'application/x-gzip'\n",
            "R[write to console]:  length 506246 bytes (494 KB)\n",
            "\n",
            "R[write to console]: =\n",
            "R[write to console]: =\n",
            "R[write to console]: =\n",
            "R[write to console]: =\n",
            "R[write to console]: =\n",
            "R[write to console]: =\n",
            "R[write to console]: =\n",
            "R[write to console]: =\n",
            "R[write to console]: =\n",
            "R[write to console]: =\n",
            "R[write to console]: =\n",
            "R[write to console]: =\n",
            "R[write to console]: =\n",
            "R[write to console]: =\n",
            "R[write to console]: =\n",
            "R[write to console]: =\n",
            "R[write to console]: =\n",
            "R[write to console]: =\n",
            "R[write to console]: =\n",
            "R[write to console]: =\n",
            "R[write to console]: =\n",
            "R[write to console]: =\n",
            "R[write to console]: =\n",
            "R[write to console]: =\n",
            "R[write to console]: =\n",
            "R[write to console]: =\n",
            "R[write to console]: =\n",
            "R[write to console]: =\n",
            "R[write to console]: =\n",
            "R[write to console]: =\n",
            "R[write to console]: =\n",
            "R[write to console]: =\n",
            "R[write to console]: =\n",
            "R[write to console]: =\n",
            "R[write to console]: =\n",
            "R[write to console]: =\n",
            "R[write to console]: =\n",
            "R[write to console]: =\n",
            "R[write to console]: =\n",
            "R[write to console]: =\n",
            "R[write to console]: =\n",
            "R[write to console]: =\n",
            "R[write to console]: =\n",
            "R[write to console]: =\n",
            "R[write to console]: =\n",
            "R[write to console]: =\n",
            "R[write to console]: =\n",
            "R[write to console]: =\n",
            "R[write to console]: =\n",
            "R[write to console]: =\n",
            "R[write to console]: \n",
            "\n",
            "R[write to console]: downloaded 494 KB\n",
            "\n",
            "\n",
            "R[write to console]: \n",
            "\n",
            "R[write to console]: \n",
            "R[write to console]: The downloaded source packages are in\n",
            "\t‘/tmp/Rtmp8tyrE0/downloaded_packages’\n",
            "R[write to console]: \n",
            "R[write to console]: \n",
            "\n"
          ],
          "name": "stderr"
        }
      ]
    },
    {
      "cell_type": "code",
      "metadata": {
        "colab": {
          "base_uri": "https://localhost:8080/"
        },
        "id": "8WJkcnH82wZI",
        "outputId": "104f5c4b-8c72-4a77-b061-05143ca65ac2"
      },
      "source": [
        "%%R\n",
        "is.na(Cars93)"
      ],
      "execution_count": 71,
      "outputs": [
        {
          "output_type": "stream",
          "text": [
            "   Manufacturer Model  Type Min.Price Price Max.Price MPG.city MPG.highway\n",
            "1         FALSE FALSE FALSE     FALSE FALSE     FALSE    FALSE       FALSE\n",
            "2         FALSE FALSE FALSE     FALSE FALSE     FALSE    FALSE       FALSE\n",
            "3         FALSE FALSE FALSE     FALSE FALSE     FALSE    FALSE       FALSE\n",
            "4         FALSE FALSE FALSE     FALSE FALSE     FALSE    FALSE       FALSE\n",
            "5         FALSE FALSE FALSE     FALSE FALSE     FALSE    FALSE       FALSE\n",
            "6         FALSE FALSE FALSE     FALSE FALSE     FALSE    FALSE       FALSE\n",
            "7         FALSE FALSE FALSE     FALSE FALSE     FALSE    FALSE       FALSE\n",
            "8         FALSE FALSE FALSE     FALSE FALSE     FALSE    FALSE       FALSE\n",
            "9         FALSE FALSE FALSE     FALSE FALSE     FALSE    FALSE       FALSE\n",
            "10        FALSE FALSE FALSE     FALSE FALSE     FALSE    FALSE       FALSE\n",
            "11        FALSE FALSE FALSE     FALSE FALSE     FALSE    FALSE       FALSE\n",
            "12        FALSE FALSE FALSE     FALSE FALSE     FALSE    FALSE       FALSE\n",
            "13        FALSE FALSE FALSE     FALSE FALSE     FALSE    FALSE       FALSE\n",
            "14        FALSE FALSE FALSE     FALSE FALSE     FALSE    FALSE       FALSE\n",
            "15        FALSE FALSE FALSE     FALSE FALSE     FALSE    FALSE       FALSE\n",
            "16        FALSE FALSE FALSE     FALSE FALSE     FALSE    FALSE       FALSE\n",
            "17        FALSE FALSE FALSE     FALSE FALSE     FALSE    FALSE       FALSE\n",
            "18        FALSE FALSE FALSE     FALSE FALSE     FALSE    FALSE       FALSE\n",
            "19        FALSE FALSE FALSE     FALSE FALSE     FALSE    FALSE       FALSE\n",
            "20        FALSE FALSE FALSE     FALSE FALSE     FALSE    FALSE       FALSE\n",
            "21        FALSE FALSE FALSE     FALSE FALSE     FALSE    FALSE       FALSE\n",
            "22        FALSE FALSE FALSE     FALSE FALSE     FALSE    FALSE       FALSE\n",
            "23        FALSE FALSE FALSE     FALSE FALSE     FALSE    FALSE       FALSE\n",
            "24        FALSE FALSE FALSE     FALSE FALSE     FALSE    FALSE       FALSE\n",
            "25        FALSE FALSE FALSE     FALSE FALSE     FALSE    FALSE       FALSE\n",
            "26        FALSE FALSE FALSE     FALSE FALSE     FALSE    FALSE       FALSE\n",
            "27        FALSE FALSE FALSE     FALSE FALSE     FALSE    FALSE       FALSE\n",
            "28        FALSE FALSE FALSE     FALSE FALSE     FALSE    FALSE       FALSE\n",
            "29        FALSE FALSE FALSE     FALSE FALSE     FALSE    FALSE       FALSE\n",
            "30        FALSE FALSE FALSE     FALSE FALSE     FALSE    FALSE       FALSE\n",
            "31        FALSE FALSE FALSE     FALSE FALSE     FALSE    FALSE       FALSE\n",
            "32        FALSE FALSE FALSE     FALSE FALSE     FALSE    FALSE       FALSE\n",
            "33        FALSE FALSE FALSE     FALSE FALSE     FALSE    FALSE       FALSE\n",
            "34        FALSE FALSE FALSE     FALSE FALSE     FALSE    FALSE       FALSE\n",
            "35        FALSE FALSE FALSE     FALSE FALSE     FALSE    FALSE       FALSE\n",
            "36        FALSE FALSE FALSE     FALSE FALSE     FALSE    FALSE       FALSE\n",
            "37        FALSE FALSE FALSE     FALSE FALSE     FALSE    FALSE       FALSE\n",
            "38        FALSE FALSE FALSE     FALSE FALSE     FALSE    FALSE       FALSE\n",
            "39        FALSE FALSE FALSE     FALSE FALSE     FALSE    FALSE       FALSE\n",
            "40        FALSE FALSE FALSE     FALSE FALSE     FALSE    FALSE       FALSE\n",
            "41        FALSE FALSE FALSE     FALSE FALSE     FALSE    FALSE       FALSE\n",
            "42        FALSE FALSE FALSE     FALSE FALSE     FALSE    FALSE       FALSE\n",
            "43        FALSE FALSE FALSE     FALSE FALSE     FALSE    FALSE       FALSE\n",
            "44        FALSE FALSE FALSE     FALSE FALSE     FALSE    FALSE       FALSE\n",
            "45        FALSE FALSE FALSE     FALSE FALSE     FALSE    FALSE       FALSE\n",
            "46        FALSE FALSE FALSE     FALSE FALSE     FALSE    FALSE       FALSE\n",
            "47        FALSE FALSE FALSE     FALSE FALSE     FALSE    FALSE       FALSE\n",
            "48        FALSE FALSE FALSE     FALSE FALSE     FALSE    FALSE       FALSE\n",
            "49        FALSE FALSE FALSE     FALSE FALSE     FALSE    FALSE       FALSE\n",
            "50        FALSE FALSE FALSE     FALSE FALSE     FALSE    FALSE       FALSE\n",
            "51        FALSE FALSE FALSE     FALSE FALSE     FALSE    FALSE       FALSE\n",
            "52        FALSE FALSE FALSE     FALSE FALSE     FALSE    FALSE       FALSE\n",
            "53        FALSE FALSE FALSE     FALSE FALSE     FALSE    FALSE       FALSE\n",
            "54        FALSE FALSE FALSE     FALSE FALSE     FALSE    FALSE       FALSE\n",
            "55        FALSE FALSE FALSE     FALSE FALSE     FALSE    FALSE       FALSE\n",
            "56        FALSE FALSE FALSE     FALSE FALSE     FALSE    FALSE       FALSE\n",
            "57        FALSE FALSE FALSE     FALSE FALSE     FALSE    FALSE       FALSE\n",
            "58        FALSE FALSE FALSE     FALSE FALSE     FALSE    FALSE       FALSE\n",
            "59        FALSE FALSE FALSE     FALSE FALSE     FALSE    FALSE       FALSE\n",
            "60        FALSE FALSE FALSE     FALSE FALSE     FALSE    FALSE       FALSE\n",
            "61        FALSE FALSE FALSE     FALSE FALSE     FALSE    FALSE       FALSE\n",
            "62        FALSE FALSE FALSE     FALSE FALSE     FALSE    FALSE       FALSE\n",
            "63        FALSE FALSE FALSE     FALSE FALSE     FALSE    FALSE       FALSE\n",
            "64        FALSE FALSE FALSE     FALSE FALSE     FALSE    FALSE       FALSE\n",
            "65        FALSE FALSE FALSE     FALSE FALSE     FALSE    FALSE       FALSE\n",
            "66        FALSE FALSE FALSE     FALSE FALSE     FALSE    FALSE       FALSE\n",
            "67        FALSE FALSE FALSE     FALSE FALSE     FALSE    FALSE       FALSE\n",
            "68        FALSE FALSE FALSE     FALSE FALSE     FALSE    FALSE       FALSE\n",
            "69        FALSE FALSE FALSE     FALSE FALSE     FALSE    FALSE       FALSE\n",
            "70        FALSE FALSE FALSE     FALSE FALSE     FALSE    FALSE       FALSE\n",
            "71        FALSE FALSE FALSE     FALSE FALSE     FALSE    FALSE       FALSE\n",
            "72        FALSE FALSE FALSE     FALSE FALSE     FALSE    FALSE       FALSE\n",
            "73        FALSE FALSE FALSE     FALSE FALSE     FALSE    FALSE       FALSE\n",
            "74        FALSE FALSE FALSE     FALSE FALSE     FALSE    FALSE       FALSE\n",
            "75        FALSE FALSE FALSE     FALSE FALSE     FALSE    FALSE       FALSE\n",
            "76        FALSE FALSE FALSE     FALSE FALSE     FALSE    FALSE       FALSE\n",
            "77        FALSE FALSE FALSE     FALSE FALSE     FALSE    FALSE       FALSE\n",
            "78        FALSE FALSE FALSE     FALSE FALSE     FALSE    FALSE       FALSE\n",
            "79        FALSE FALSE FALSE     FALSE FALSE     FALSE    FALSE       FALSE\n",
            "80        FALSE FALSE FALSE     FALSE FALSE     FALSE    FALSE       FALSE\n",
            "81        FALSE FALSE FALSE     FALSE FALSE     FALSE    FALSE       FALSE\n",
            "82        FALSE FALSE FALSE     FALSE FALSE     FALSE    FALSE       FALSE\n",
            "83        FALSE FALSE FALSE     FALSE FALSE     FALSE    FALSE       FALSE\n",
            "84        FALSE FALSE FALSE     FALSE FALSE     FALSE    FALSE       FALSE\n",
            "85        FALSE FALSE FALSE     FALSE FALSE     FALSE    FALSE       FALSE\n",
            "86        FALSE FALSE FALSE     FALSE FALSE     FALSE    FALSE       FALSE\n",
            "87        FALSE FALSE FALSE     FALSE FALSE     FALSE    FALSE       FALSE\n",
            "88        FALSE FALSE FALSE     FALSE FALSE     FALSE    FALSE       FALSE\n",
            "89        FALSE FALSE FALSE     FALSE FALSE     FALSE    FALSE       FALSE\n",
            "90        FALSE FALSE FALSE     FALSE FALSE     FALSE    FALSE       FALSE\n",
            "91        FALSE FALSE FALSE     FALSE FALSE     FALSE    FALSE       FALSE\n",
            "92        FALSE FALSE FALSE     FALSE FALSE     FALSE    FALSE       FALSE\n",
            "93        FALSE FALSE FALSE     FALSE FALSE     FALSE    FALSE       FALSE\n",
            "   AirBags DriveTrain Cylinders EngineSize Horsepower   RPM Rev.per.mile\n",
            "1    FALSE      FALSE     FALSE      FALSE      FALSE FALSE        FALSE\n",
            "2    FALSE      FALSE     FALSE      FALSE      FALSE FALSE        FALSE\n",
            "3    FALSE      FALSE     FALSE      FALSE      FALSE FALSE        FALSE\n",
            "4    FALSE      FALSE     FALSE      FALSE      FALSE FALSE        FALSE\n",
            "5    FALSE      FALSE     FALSE      FALSE      FALSE FALSE        FALSE\n",
            "6    FALSE      FALSE     FALSE      FALSE      FALSE FALSE        FALSE\n",
            "7    FALSE      FALSE     FALSE      FALSE      FALSE FALSE        FALSE\n",
            "8    FALSE      FALSE     FALSE      FALSE      FALSE FALSE        FALSE\n",
            "9    FALSE      FALSE     FALSE      FALSE      FALSE FALSE        FALSE\n",
            "10   FALSE      FALSE     FALSE      FALSE      FALSE FALSE        FALSE\n",
            "11   FALSE      FALSE     FALSE      FALSE      FALSE FALSE        FALSE\n",
            "12   FALSE      FALSE     FALSE      FALSE      FALSE FALSE        FALSE\n",
            "13   FALSE      FALSE     FALSE      FALSE      FALSE FALSE        FALSE\n",
            "14   FALSE      FALSE     FALSE      FALSE      FALSE FALSE        FALSE\n",
            "15   FALSE      FALSE     FALSE      FALSE      FALSE FALSE        FALSE\n",
            "16   FALSE      FALSE     FALSE      FALSE      FALSE FALSE        FALSE\n",
            "17   FALSE      FALSE     FALSE      FALSE      FALSE FALSE        FALSE\n",
            "18   FALSE      FALSE     FALSE      FALSE      FALSE FALSE        FALSE\n",
            "19   FALSE      FALSE     FALSE      FALSE      FALSE FALSE        FALSE\n",
            "20   FALSE      FALSE     FALSE      FALSE      FALSE FALSE        FALSE\n",
            "21   FALSE      FALSE     FALSE      FALSE      FALSE FALSE        FALSE\n",
            "22   FALSE      FALSE     FALSE      FALSE      FALSE FALSE        FALSE\n",
            "23   FALSE      FALSE     FALSE      FALSE      FALSE FALSE        FALSE\n",
            "24   FALSE      FALSE     FALSE      FALSE      FALSE FALSE        FALSE\n",
            "25   FALSE      FALSE     FALSE      FALSE      FALSE FALSE        FALSE\n",
            "26   FALSE      FALSE     FALSE      FALSE      FALSE FALSE        FALSE\n",
            "27   FALSE      FALSE     FALSE      FALSE      FALSE FALSE        FALSE\n",
            "28   FALSE      FALSE     FALSE      FALSE      FALSE FALSE        FALSE\n",
            "29   FALSE      FALSE     FALSE      FALSE      FALSE FALSE        FALSE\n",
            "30   FALSE      FALSE     FALSE      FALSE      FALSE FALSE        FALSE\n",
            "31   FALSE      FALSE     FALSE      FALSE      FALSE FALSE        FALSE\n",
            "32   FALSE      FALSE     FALSE      FALSE      FALSE FALSE        FALSE\n",
            "33   FALSE      FALSE     FALSE      FALSE      FALSE FALSE        FALSE\n",
            "34   FALSE      FALSE     FALSE      FALSE      FALSE FALSE        FALSE\n",
            "35   FALSE      FALSE     FALSE      FALSE      FALSE FALSE        FALSE\n",
            "36   FALSE      FALSE     FALSE      FALSE      FALSE FALSE        FALSE\n",
            "37   FALSE      FALSE     FALSE      FALSE      FALSE FALSE        FALSE\n",
            "38   FALSE      FALSE     FALSE      FALSE      FALSE FALSE        FALSE\n",
            "39   FALSE      FALSE     FALSE      FALSE      FALSE FALSE        FALSE\n",
            "40   FALSE      FALSE     FALSE      FALSE      FALSE FALSE        FALSE\n",
            "41   FALSE      FALSE     FALSE      FALSE      FALSE FALSE        FALSE\n",
            "42   FALSE      FALSE     FALSE      FALSE      FALSE FALSE        FALSE\n",
            "43   FALSE      FALSE     FALSE      FALSE      FALSE FALSE        FALSE\n",
            "44   FALSE      FALSE     FALSE      FALSE      FALSE FALSE        FALSE\n",
            "45   FALSE      FALSE     FALSE      FALSE      FALSE FALSE        FALSE\n",
            "46   FALSE      FALSE     FALSE      FALSE      FALSE FALSE        FALSE\n",
            "47   FALSE      FALSE     FALSE      FALSE      FALSE FALSE        FALSE\n",
            "48   FALSE      FALSE     FALSE      FALSE      FALSE FALSE        FALSE\n",
            "49   FALSE      FALSE     FALSE      FALSE      FALSE FALSE        FALSE\n",
            "50   FALSE      FALSE     FALSE      FALSE      FALSE FALSE        FALSE\n",
            "51   FALSE      FALSE     FALSE      FALSE      FALSE FALSE        FALSE\n",
            "52   FALSE      FALSE     FALSE      FALSE      FALSE FALSE        FALSE\n",
            "53   FALSE      FALSE     FALSE      FALSE      FALSE FALSE        FALSE\n",
            "54   FALSE      FALSE     FALSE      FALSE      FALSE FALSE        FALSE\n",
            "55   FALSE      FALSE     FALSE      FALSE      FALSE FALSE        FALSE\n",
            "56   FALSE      FALSE     FALSE      FALSE      FALSE FALSE        FALSE\n",
            "57   FALSE      FALSE     FALSE      FALSE      FALSE FALSE        FALSE\n",
            "58   FALSE      FALSE     FALSE      FALSE      FALSE FALSE        FALSE\n",
            "59   FALSE      FALSE     FALSE      FALSE      FALSE FALSE        FALSE\n",
            "60   FALSE      FALSE     FALSE      FALSE      FALSE FALSE        FALSE\n",
            "61   FALSE      FALSE     FALSE      FALSE      FALSE FALSE        FALSE\n",
            "62   FALSE      FALSE     FALSE      FALSE      FALSE FALSE        FALSE\n",
            "63   FALSE      FALSE     FALSE      FALSE      FALSE FALSE        FALSE\n",
            "64   FALSE      FALSE     FALSE      FALSE      FALSE FALSE        FALSE\n",
            "65   FALSE      FALSE     FALSE      FALSE      FALSE FALSE        FALSE\n",
            "66   FALSE      FALSE     FALSE      FALSE      FALSE FALSE        FALSE\n",
            "67   FALSE      FALSE     FALSE      FALSE      FALSE FALSE        FALSE\n",
            "68   FALSE      FALSE     FALSE      FALSE      FALSE FALSE        FALSE\n",
            "69   FALSE      FALSE     FALSE      FALSE      FALSE FALSE        FALSE\n",
            "70   FALSE      FALSE     FALSE      FALSE      FALSE FALSE        FALSE\n",
            "71   FALSE      FALSE     FALSE      FALSE      FALSE FALSE        FALSE\n",
            "72   FALSE      FALSE     FALSE      FALSE      FALSE FALSE        FALSE\n",
            "73   FALSE      FALSE     FALSE      FALSE      FALSE FALSE        FALSE\n",
            "74   FALSE      FALSE     FALSE      FALSE      FALSE FALSE        FALSE\n",
            "75   FALSE      FALSE     FALSE      FALSE      FALSE FALSE        FALSE\n",
            "76   FALSE      FALSE     FALSE      FALSE      FALSE FALSE        FALSE\n",
            "77   FALSE      FALSE     FALSE      FALSE      FALSE FALSE        FALSE\n",
            "78   FALSE      FALSE     FALSE      FALSE      FALSE FALSE        FALSE\n",
            "79   FALSE      FALSE     FALSE      FALSE      FALSE FALSE        FALSE\n",
            "80   FALSE      FALSE     FALSE      FALSE      FALSE FALSE        FALSE\n",
            "81   FALSE      FALSE     FALSE      FALSE      FALSE FALSE        FALSE\n",
            "82   FALSE      FALSE     FALSE      FALSE      FALSE FALSE        FALSE\n",
            "83   FALSE      FALSE     FALSE      FALSE      FALSE FALSE        FALSE\n",
            "84   FALSE      FALSE     FALSE      FALSE      FALSE FALSE        FALSE\n",
            "85   FALSE      FALSE     FALSE      FALSE      FALSE FALSE        FALSE\n",
            "86   FALSE      FALSE     FALSE      FALSE      FALSE FALSE        FALSE\n",
            "87   FALSE      FALSE     FALSE      FALSE      FALSE FALSE        FALSE\n",
            "88   FALSE      FALSE     FALSE      FALSE      FALSE FALSE        FALSE\n",
            "89   FALSE      FALSE     FALSE      FALSE      FALSE FALSE        FALSE\n",
            "90   FALSE      FALSE     FALSE      FALSE      FALSE FALSE        FALSE\n",
            "91   FALSE      FALSE     FALSE      FALSE      FALSE FALSE        FALSE\n",
            "92   FALSE      FALSE     FALSE      FALSE      FALSE FALSE        FALSE\n",
            "93   FALSE      FALSE     FALSE      FALSE      FALSE FALSE        FALSE\n",
            "   Man.trans.avail Fuel.tank.capacity Passengers Length Wheelbase Width\n",
            "1            FALSE              FALSE      FALSE  FALSE     FALSE FALSE\n",
            "2            FALSE              FALSE      FALSE  FALSE     FALSE FALSE\n",
            "3            FALSE              FALSE      FALSE  FALSE     FALSE FALSE\n",
            "4            FALSE              FALSE      FALSE  FALSE     FALSE FALSE\n",
            "5            FALSE              FALSE      FALSE  FALSE     FALSE FALSE\n",
            "6            FALSE              FALSE      FALSE  FALSE     FALSE FALSE\n",
            "7            FALSE              FALSE      FALSE  FALSE     FALSE FALSE\n",
            "8            FALSE              FALSE      FALSE  FALSE     FALSE FALSE\n",
            "9            FALSE              FALSE      FALSE  FALSE     FALSE FALSE\n",
            "10           FALSE              FALSE      FALSE  FALSE     FALSE FALSE\n",
            "11           FALSE              FALSE      FALSE  FALSE     FALSE FALSE\n",
            "12           FALSE              FALSE      FALSE  FALSE     FALSE FALSE\n",
            "13           FALSE              FALSE      FALSE  FALSE     FALSE FALSE\n",
            "14           FALSE              FALSE      FALSE  FALSE     FALSE FALSE\n",
            "15           FALSE              FALSE      FALSE  FALSE     FALSE FALSE\n",
            "16           FALSE              FALSE      FALSE  FALSE     FALSE FALSE\n",
            "17           FALSE              FALSE      FALSE  FALSE     FALSE FALSE\n",
            "18           FALSE              FALSE      FALSE  FALSE     FALSE FALSE\n",
            "19           FALSE              FALSE      FALSE  FALSE     FALSE FALSE\n",
            "20           FALSE              FALSE      FALSE  FALSE     FALSE FALSE\n",
            "21           FALSE              FALSE      FALSE  FALSE     FALSE FALSE\n",
            "22           FALSE              FALSE      FALSE  FALSE     FALSE FALSE\n",
            "23           FALSE              FALSE      FALSE  FALSE     FALSE FALSE\n",
            "24           FALSE              FALSE      FALSE  FALSE     FALSE FALSE\n",
            "25           FALSE              FALSE      FALSE  FALSE     FALSE FALSE\n",
            "26           FALSE              FALSE      FALSE  FALSE     FALSE FALSE\n",
            "27           FALSE              FALSE      FALSE  FALSE     FALSE FALSE\n",
            "28           FALSE              FALSE      FALSE  FALSE     FALSE FALSE\n",
            "29           FALSE              FALSE      FALSE  FALSE     FALSE FALSE\n",
            "30           FALSE              FALSE      FALSE  FALSE     FALSE FALSE\n",
            "31           FALSE              FALSE      FALSE  FALSE     FALSE FALSE\n",
            "32           FALSE              FALSE      FALSE  FALSE     FALSE FALSE\n",
            "33           FALSE              FALSE      FALSE  FALSE     FALSE FALSE\n",
            "34           FALSE              FALSE      FALSE  FALSE     FALSE FALSE\n",
            "35           FALSE              FALSE      FALSE  FALSE     FALSE FALSE\n",
            "36           FALSE              FALSE      FALSE  FALSE     FALSE FALSE\n",
            "37           FALSE              FALSE      FALSE  FALSE     FALSE FALSE\n",
            "38           FALSE              FALSE      FALSE  FALSE     FALSE FALSE\n",
            "39           FALSE              FALSE      FALSE  FALSE     FALSE FALSE\n",
            "40           FALSE              FALSE      FALSE  FALSE     FALSE FALSE\n",
            "41           FALSE              FALSE      FALSE  FALSE     FALSE FALSE\n",
            "42           FALSE              FALSE      FALSE  FALSE     FALSE FALSE\n",
            "43           FALSE              FALSE      FALSE  FALSE     FALSE FALSE\n",
            "44           FALSE              FALSE      FALSE  FALSE     FALSE FALSE\n",
            "45           FALSE              FALSE      FALSE  FALSE     FALSE FALSE\n",
            "46           FALSE              FALSE      FALSE  FALSE     FALSE FALSE\n",
            "47           FALSE              FALSE      FALSE  FALSE     FALSE FALSE\n",
            "48           FALSE              FALSE      FALSE  FALSE     FALSE FALSE\n",
            "49           FALSE              FALSE      FALSE  FALSE     FALSE FALSE\n",
            "50           FALSE              FALSE      FALSE  FALSE     FALSE FALSE\n",
            "51           FALSE              FALSE      FALSE  FALSE     FALSE FALSE\n",
            "52           FALSE              FALSE      FALSE  FALSE     FALSE FALSE\n",
            "53           FALSE              FALSE      FALSE  FALSE     FALSE FALSE\n",
            "54           FALSE              FALSE      FALSE  FALSE     FALSE FALSE\n",
            "55           FALSE              FALSE      FALSE  FALSE     FALSE FALSE\n",
            "56           FALSE              FALSE      FALSE  FALSE     FALSE FALSE\n",
            "57           FALSE              FALSE      FALSE  FALSE     FALSE FALSE\n",
            "58           FALSE              FALSE      FALSE  FALSE     FALSE FALSE\n",
            "59           FALSE              FALSE      FALSE  FALSE     FALSE FALSE\n",
            "60           FALSE              FALSE      FALSE  FALSE     FALSE FALSE\n",
            "61           FALSE              FALSE      FALSE  FALSE     FALSE FALSE\n",
            "62           FALSE              FALSE      FALSE  FALSE     FALSE FALSE\n",
            "63           FALSE              FALSE      FALSE  FALSE     FALSE FALSE\n",
            "64           FALSE              FALSE      FALSE  FALSE     FALSE FALSE\n",
            "65           FALSE              FALSE      FALSE  FALSE     FALSE FALSE\n",
            "66           FALSE              FALSE      FALSE  FALSE     FALSE FALSE\n",
            "67           FALSE              FALSE      FALSE  FALSE     FALSE FALSE\n",
            "68           FALSE              FALSE      FALSE  FALSE     FALSE FALSE\n",
            "69           FALSE              FALSE      FALSE  FALSE     FALSE FALSE\n",
            "70           FALSE              FALSE      FALSE  FALSE     FALSE FALSE\n",
            "71           FALSE              FALSE      FALSE  FALSE     FALSE FALSE\n",
            "72           FALSE              FALSE      FALSE  FALSE     FALSE FALSE\n",
            "73           FALSE              FALSE      FALSE  FALSE     FALSE FALSE\n",
            "74           FALSE              FALSE      FALSE  FALSE     FALSE FALSE\n",
            "75           FALSE              FALSE      FALSE  FALSE     FALSE FALSE\n",
            "76           FALSE              FALSE      FALSE  FALSE     FALSE FALSE\n",
            "77           FALSE              FALSE      FALSE  FALSE     FALSE FALSE\n",
            "78           FALSE              FALSE      FALSE  FALSE     FALSE FALSE\n",
            "79           FALSE              FALSE      FALSE  FALSE     FALSE FALSE\n",
            "80           FALSE              FALSE      FALSE  FALSE     FALSE FALSE\n",
            "81           FALSE              FALSE      FALSE  FALSE     FALSE FALSE\n",
            "82           FALSE              FALSE      FALSE  FALSE     FALSE FALSE\n",
            "83           FALSE              FALSE      FALSE  FALSE     FALSE FALSE\n",
            "84           FALSE              FALSE      FALSE  FALSE     FALSE FALSE\n",
            "85           FALSE              FALSE      FALSE  FALSE     FALSE FALSE\n",
            "86           FALSE              FALSE      FALSE  FALSE     FALSE FALSE\n",
            "87           FALSE              FALSE      FALSE  FALSE     FALSE FALSE\n",
            "88           FALSE              FALSE      FALSE  FALSE     FALSE FALSE\n",
            "89           FALSE              FALSE      FALSE  FALSE     FALSE FALSE\n",
            "90           FALSE              FALSE      FALSE  FALSE     FALSE FALSE\n",
            "91           FALSE              FALSE      FALSE  FALSE     FALSE FALSE\n",
            "92           FALSE              FALSE      FALSE  FALSE     FALSE FALSE\n",
            "93           FALSE              FALSE      FALSE  FALSE     FALSE FALSE\n",
            "   Turn.circle Rear.seat.room Luggage.room Weight Origin  Make\n",
            "1        FALSE          FALSE        FALSE  FALSE  FALSE FALSE\n",
            "2        FALSE          FALSE        FALSE  FALSE  FALSE FALSE\n",
            "3        FALSE          FALSE        FALSE  FALSE  FALSE FALSE\n",
            "4        FALSE          FALSE        FALSE  FALSE  FALSE FALSE\n",
            "5        FALSE          FALSE        FALSE  FALSE  FALSE FALSE\n",
            "6        FALSE          FALSE        FALSE  FALSE  FALSE FALSE\n",
            "7        FALSE          FALSE        FALSE  FALSE  FALSE FALSE\n",
            "8        FALSE          FALSE        FALSE  FALSE  FALSE FALSE\n",
            "9        FALSE          FALSE        FALSE  FALSE  FALSE FALSE\n",
            "10       FALSE          FALSE        FALSE  FALSE  FALSE FALSE\n",
            "11       FALSE          FALSE        FALSE  FALSE  FALSE FALSE\n",
            "12       FALSE          FALSE        FALSE  FALSE  FALSE FALSE\n",
            "13       FALSE          FALSE        FALSE  FALSE  FALSE FALSE\n",
            "14       FALSE          FALSE        FALSE  FALSE  FALSE FALSE\n",
            "15       FALSE          FALSE        FALSE  FALSE  FALSE FALSE\n",
            "16       FALSE          FALSE         TRUE  FALSE  FALSE FALSE\n",
            "17       FALSE          FALSE         TRUE  FALSE  FALSE FALSE\n",
            "18       FALSE          FALSE        FALSE  FALSE  FALSE FALSE\n",
            "19       FALSE           TRUE         TRUE  FALSE  FALSE FALSE\n",
            "20       FALSE          FALSE        FALSE  FALSE  FALSE FALSE\n",
            "21       FALSE          FALSE        FALSE  FALSE  FALSE FALSE\n",
            "22       FALSE          FALSE        FALSE  FALSE  FALSE FALSE\n",
            "23       FALSE          FALSE        FALSE  FALSE  FALSE FALSE\n",
            "24       FALSE          FALSE        FALSE  FALSE  FALSE FALSE\n",
            "25       FALSE          FALSE        FALSE  FALSE  FALSE FALSE\n",
            "26       FALSE          FALSE         TRUE  FALSE  FALSE FALSE\n",
            "27       FALSE          FALSE        FALSE  FALSE  FALSE FALSE\n",
            "28       FALSE          FALSE        FALSE  FALSE  FALSE FALSE\n",
            "29       FALSE          FALSE        FALSE  FALSE  FALSE FALSE\n",
            "30       FALSE          FALSE        FALSE  FALSE  FALSE FALSE\n",
            "31       FALSE          FALSE        FALSE  FALSE  FALSE FALSE\n",
            "32       FALSE          FALSE        FALSE  FALSE  FALSE FALSE\n",
            "33       FALSE          FALSE        FALSE  FALSE  FALSE FALSE\n",
            "34       FALSE          FALSE        FALSE  FALSE  FALSE FALSE\n",
            "35       FALSE          FALSE        FALSE  FALSE  FALSE FALSE\n",
            "36       FALSE          FALSE         TRUE  FALSE  FALSE FALSE\n",
            "37       FALSE          FALSE        FALSE  FALSE  FALSE FALSE\n",
            "38       FALSE          FALSE        FALSE  FALSE  FALSE FALSE\n",
            "39       FALSE          FALSE        FALSE  FALSE  FALSE FALSE\n",
            "40       FALSE          FALSE        FALSE  FALSE  FALSE FALSE\n",
            "41       FALSE          FALSE        FALSE  FALSE  FALSE FALSE\n",
            "42       FALSE          FALSE        FALSE  FALSE  FALSE FALSE\n",
            "43       FALSE          FALSE        FALSE  FALSE  FALSE FALSE\n",
            "44       FALSE          FALSE        FALSE  FALSE  FALSE FALSE\n",
            "45       FALSE          FALSE        FALSE  FALSE  FALSE FALSE\n",
            "46       FALSE          FALSE        FALSE  FALSE  FALSE FALSE\n",
            "47       FALSE          FALSE        FALSE  FALSE  FALSE FALSE\n",
            "48       FALSE          FALSE        FALSE  FALSE  FALSE FALSE\n",
            "49       FALSE          FALSE        FALSE  FALSE  FALSE FALSE\n",
            "50       FALSE          FALSE        FALSE  FALSE  FALSE FALSE\n",
            "51       FALSE          FALSE        FALSE  FALSE  FALSE FALSE\n",
            "52       FALSE          FALSE        FALSE  FALSE  FALSE FALSE\n",
            "53       FALSE          FALSE        FALSE  FALSE  FALSE FALSE\n",
            "54       FALSE          FALSE        FALSE  FALSE  FALSE FALSE\n",
            "55       FALSE          FALSE        FALSE  FALSE  FALSE FALSE\n",
            "56       FALSE          FALSE         TRUE  FALSE  FALSE FALSE\n",
            "57       FALSE           TRUE         TRUE  FALSE  FALSE FALSE\n",
            "58       FALSE          FALSE        FALSE  FALSE  FALSE FALSE\n",
            "59       FALSE          FALSE        FALSE  FALSE  FALSE FALSE\n",
            "60       FALSE          FALSE        FALSE  FALSE  FALSE FALSE\n",
            "61       FALSE          FALSE        FALSE  FALSE  FALSE FALSE\n",
            "62       FALSE          FALSE        FALSE  FALSE  FALSE FALSE\n",
            "63       FALSE          FALSE        FALSE  FALSE  FALSE FALSE\n",
            "64       FALSE          FALSE        FALSE  FALSE  FALSE FALSE\n",
            "65       FALSE          FALSE        FALSE  FALSE  FALSE FALSE\n",
            "66       FALSE          FALSE         TRUE  FALSE  FALSE FALSE\n",
            "67       FALSE          FALSE        FALSE  FALSE  FALSE FALSE\n",
            "68       FALSE          FALSE        FALSE  FALSE  FALSE FALSE\n",
            "69       FALSE          FALSE        FALSE  FALSE  FALSE FALSE\n",
            "70       FALSE          FALSE         TRUE  FALSE  FALSE FALSE\n",
            "71       FALSE          FALSE        FALSE  FALSE  FALSE FALSE\n",
            "72       FALSE          FALSE        FALSE  FALSE  FALSE FALSE\n",
            "73       FALSE          FALSE        FALSE  FALSE  FALSE FALSE\n",
            "74       FALSE          FALSE        FALSE  FALSE  FALSE FALSE\n",
            "75       FALSE          FALSE        FALSE  FALSE  FALSE FALSE\n",
            "76       FALSE          FALSE        FALSE  FALSE  FALSE FALSE\n",
            "77       FALSE          FALSE        FALSE  FALSE  FALSE FALSE\n",
            "78       FALSE          FALSE        FALSE  FALSE  FALSE FALSE\n",
            "79       FALSE          FALSE        FALSE  FALSE  FALSE FALSE\n",
            "80       FALSE          FALSE        FALSE  FALSE  FALSE FALSE\n",
            "81       FALSE          FALSE        FALSE  FALSE  FALSE FALSE\n",
            "82       FALSE          FALSE        FALSE  FALSE  FALSE FALSE\n",
            "83       FALSE          FALSE        FALSE  FALSE  FALSE FALSE\n",
            "84       FALSE          FALSE        FALSE  FALSE  FALSE FALSE\n",
            "85       FALSE          FALSE        FALSE  FALSE  FALSE FALSE\n",
            "86       FALSE          FALSE        FALSE  FALSE  FALSE FALSE\n",
            "87       FALSE          FALSE         TRUE  FALSE  FALSE FALSE\n",
            "88       FALSE          FALSE        FALSE  FALSE  FALSE FALSE\n",
            "89       FALSE          FALSE         TRUE  FALSE  FALSE FALSE\n",
            "90       FALSE          FALSE        FALSE  FALSE  FALSE FALSE\n",
            "91       FALSE          FALSE        FALSE  FALSE  FALSE FALSE\n",
            "92       FALSE          FALSE        FALSE  FALSE  FALSE FALSE\n",
            "93       FALSE          FALSE        FALSE  FALSE  FALSE FALSE\n"
          ],
          "name": "stdout"
        }
      ]
    },
    {
      "cell_type": "markdown",
      "metadata": {
        "id": "7-5Od2ixL2dQ"
      },
      "source": [
        "(2) 결측값이 총 몇개인지 계산하는 방법 : sum(is.na())"
      ]
    },
    {
      "cell_type": "code",
      "metadata": {
        "colab": {
          "base_uri": "https://localhost:8080/"
        },
        "id": "e5crMoSVL1dz",
        "outputId": "40e6a56b-323b-46c7-94a5-987b8b0161ab"
      },
      "source": [
        "%%R\n",
        "# Cars93 데이터 프레임에 결측값 갯수 총 합계 구하기.\n",
        "sum(is.na(Cars93))"
      ],
      "execution_count": 72,
      "outputs": [
        {
          "output_type": "stream",
          "text": [
            "[1] 13\n"
          ],
          "name": "stdout"
        }
      ]
    },
    {
      "cell_type": "code",
      "metadata": {
        "colab": {
          "base_uri": "https://localhost:8080/"
        },
        "id": "skPN5bcpL9Oj",
        "outputId": "6d4c2a40-a518-4415-cecf-4b8ee35d9cd6"
      },
      "source": [
        "%%R\n",
        "# Cars93 의 각 변수별로 결측값 개수 구하기 (27개 중에서 4개만 예시로 함)\n",
        "sum(is.na(Cars93$Manufacturer)) "
      ],
      "execution_count": 73,
      "outputs": [
        {
          "output_type": "stream",
          "text": [
            "[1] 0\n"
          ],
          "name": "stdout"
        }
      ]
    },
    {
      "cell_type": "code",
      "metadata": {
        "colab": {
          "base_uri": "https://localhost:8080/"
        },
        "id": "O_2ORJpqMJO9",
        "outputId": "4b15be3d-f4f7-426e-c739-364f1c8d54e4"
      },
      "source": [
        "%%R\n",
        "sum(is.na(Cars93$Price)) "
      ],
      "execution_count": 74,
      "outputs": [
        {
          "output_type": "stream",
          "text": [
            "[1] 0\n"
          ],
          "name": "stdout"
        }
      ]
    },
    {
      "cell_type": "code",
      "metadata": {
        "colab": {
          "base_uri": "https://localhost:8080/"
        },
        "id": "Ugvk11bGMOQq",
        "outputId": "6b21f121-4fc5-461a-8765-54bd665d2ca8"
      },
      "source": [
        "%%R\n",
        "sum(is.na(Cars93$Rear.seat.room)) "
      ],
      "execution_count": 75,
      "outputs": [
        {
          "output_type": "stream",
          "text": [
            "[1] 2\n"
          ],
          "name": "stdout"
        }
      ]
    },
    {
      "cell_type": "code",
      "metadata": {
        "colab": {
          "base_uri": "https://localhost:8080/"
        },
        "id": "vadTB1ydMRXZ",
        "outputId": "850f4645-6415-46de-e9ce-5248167c10d1"
      },
      "source": [
        "%%R\n",
        "sum(is.na(Cars93$Luggage.room)) "
      ],
      "execution_count": 76,
      "outputs": [
        {
          "output_type": "stream",
          "text": [
            "[1] 11\n"
          ],
          "name": "stdout"
        }
      ]
    },
    {
      "cell_type": "markdown",
      "metadata": {
        "id": "eMrmaFX7MWVS"
      },
      "source": [
        "colSums() 함수를 사용하면 데이터 프레임 내 다수 변수들에 대해서 한번에 각 개별 변수별 결측값의 개수 합계를 구할 수 있습니다. 바로 위에서 개별 함수별로 일일이 sum(is.na(Cars93$Manufacturer))...이런 식으로 변수의 개수만큼 쓰는 것을 colSums() 함수로는 한줄이면 해결할 수 있으니 훨씬 편합니다. "
      ]
    },
    {
      "cell_type": "code",
      "metadata": {
        "colab": {
          "base_uri": "https://localhost:8080/"
        },
        "id": "_Bw8LJ2PMUjp",
        "outputId": "7f6c9eb5-cd92-4cdb-de5f-296403e47eff"
      },
      "source": [
        "%%R\n",
        "colSums(is.na(Cars93))"
      ],
      "execution_count": 77,
      "outputs": [
        {
          "output_type": "stream",
          "text": [
            "      Manufacturer              Model               Type          Min.Price \n",
            "                 0                  0                  0                  0 \n",
            "             Price          Max.Price           MPG.city        MPG.highway \n",
            "                 0                  0                  0                  0 \n",
            "           AirBags         DriveTrain          Cylinders         EngineSize \n",
            "                 0                  0                  0                  0 \n",
            "        Horsepower                RPM       Rev.per.mile    Man.trans.avail \n",
            "                 0                  0                  0                  0 \n",
            "Fuel.tank.capacity         Passengers             Length          Wheelbase \n",
            "                 0                  0                  0                  0 \n",
            "             Width        Turn.circle     Rear.seat.room       Luggage.room \n",
            "                 0                  0                  2                 11 \n",
            "            Weight             Origin               Make \n",
            "                 0                  0                  0 \n"
          ],
          "name": "stdout"
        }
      ]
    },
    {
      "cell_type": "markdown",
      "metadata": {
        "id": "LbdvyQJnMdoY"
      },
      "source": [
        "(3) 결측값을 통계 분석 시 제외(미포함) : na.rm = TRUE"
      ]
    },
    {
      "cell_type": "code",
      "metadata": {
        "colab": {
          "base_uri": "https://localhost:8080/"
        },
        "id": "Xode1YabMqdO",
        "outputId": "19c54203-01fa-4540-b9d6-64de4206016e"
      },
      "source": [
        "%%R\n",
        "sum(Cars93$Luggage.rom, na.rm = TRUE)"
      ],
      "execution_count": 78,
      "outputs": [
        {
          "output_type": "stream",
          "text": [
            "[1] 0\n"
          ],
          "name": "stdout"
        }
      ]
    },
    {
      "cell_type": "code",
      "metadata": {
        "colab": {
          "base_uri": "https://localhost:8080/"
        },
        "id": "8MP6RFwCMv4a",
        "outputId": "fb630dc1-fb83-4f1d-cd4f-f06fb23ab24c"
      },
      "source": [
        "%%R\n",
        "mean(Cars93$Luggage.rom, na.rm = TRUE)"
      ],
      "execution_count": 79,
      "outputs": [
        {
          "output_type": "stream",
          "text": [
            "[1] NA\n"
          ],
          "name": "stdout"
        }
      ]
    },
    {
      "cell_type": "markdown",
      "metadata": {
        "id": "AGCtyK2cOtyR"
      },
      "source": [
        "(4) 결측값이 들어 있는 행 전체를 데이터 셋에서 제거\n",
        "\n",
        "a.rm = TRUE 옵션은 원래의 데이터 셋은 그대로 둔채 통계량 계산할 때만 포함하지 않게 됩니다. 따라서 다수의 통계 함수 혹은 다수의 변수에 통계 함수를 사용해야 하는 경우 매번 na.rm = TRUE 옵션을 설정해주는게 번거로울 수 있겠지요?  차라리 원래 데이터 셋에서 결측값을 제거해버리면 되겠다는 생각이 드셨을 겁니다.\n",
        "\n",
        " \n",
        "\n",
        "결측값이 들어있는 행을 통째로 무식하게 제거하는 함수가 na.omit()이며, 좀더 예리하게 특정 행과 열을 지정해서 그곳에 결측값이 있는 경우만 메스로 정밀 수술하는 함수가 complete.cases()가 되겠습니다."
      ]
    },
    {
      "cell_type": "code",
      "metadata": {
        "colab": {
          "base_uri": "https://localhost:8080/"
        },
        "id": "eVZClszGM13a",
        "outputId": "4f633189-cc17-4b72-db65-03c4843164e4"
      },
      "source": [
        "%%R\n",
        "Cars93_1 <-na.omit(Cars93)\n",
        "str(Cars93_1)"
      ],
      "execution_count": 80,
      "outputs": [
        {
          "output_type": "stream",
          "text": [
            "'data.frame':\t82 obs. of  27 variables:\n",
            " $ Manufacturer      : Factor w/ 32 levels \"Acura\",\"Audi\",..: 1 1 2 2 3 4 4 4 4 5 ...\n",
            " $ Model             : Factor w/ 93 levels \"100\",\"190E\",\"240\",..: 49 56 9 1 6 24 54 74 73 35 ...\n",
            " $ Type              : Factor w/ 6 levels \"Compact\",\"Large\",..: 4 3 1 3 3 3 2 2 3 2 ...\n",
            " $ Min.Price         : num  12.9 29.2 25.9 30.8 23.7 14.2 19.9 22.6 26.3 33 ...\n",
            " $ Price             : num  15.9 33.9 29.1 37.7 30 15.7 20.8 23.7 26.3 34.7 ...\n",
            " $ Max.Price         : num  18.8 38.7 32.3 44.6 36.2 17.3 21.7 24.9 26.3 36.3 ...\n",
            " $ MPG.city          : int  25 18 20 19 22 22 19 16 19 16 ...\n",
            " $ MPG.highway       : int  31 25 26 26 30 31 28 25 27 25 ...\n",
            " $ AirBags           : Factor w/ 3 levels \"Driver & Passenger\",..: 3 1 2 1 2 2 2 2 2 2 ...\n",
            " $ DriveTrain        : Factor w/ 3 levels \"4WD\",\"Front\",..: 2 2 2 2 3 2 2 3 2 2 ...\n",
            " $ Cylinders         : Factor w/ 6 levels \"3\",\"4\",\"5\",\"6\",..: 2 4 4 4 2 2 4 4 4 5 ...\n",
            " $ EngineSize        : num  1.8 3.2 2.8 2.8 3.5 2.2 3.8 5.7 3.8 4.9 ...\n",
            " $ Horsepower        : int  140 200 172 172 208 110 170 180 170 200 ...\n",
            " $ RPM               : int  6300 5500 5500 5500 5700 5200 4800 4000 4800 4100 ...\n",
            " $ Rev.per.mile      : int  2890 2335 2280 2535 2545 2565 1570 1320 1690 1510 ...\n",
            " $ Man.trans.avail   : Factor w/ 2 levels \"No\",\"Yes\": 2 2 2 2 2 1 1 1 1 1 ...\n",
            " $ Fuel.tank.capacity: num  13.2 18 16.9 21.1 21.1 16.4 18 23 18.8 18 ...\n",
            " $ Passengers        : int  5 5 5 6 4 6 6 6 5 6 ...\n",
            " $ Length            : int  177 195 180 193 186 189 200 216 198 206 ...\n",
            " $ Wheelbase         : int  102 115 102 106 109 105 111 116 108 114 ...\n",
            " $ Width             : int  68 71 67 70 69 69 74 78 73 73 ...\n",
            " $ Turn.circle       : int  37 38 37 37 39 41 42 45 41 43 ...\n",
            " $ Rear.seat.room    : num  26.5 30 28 31 27 28 30.5 30.5 26.5 35 ...\n",
            " $ Luggage.room      : int  11 15 14 17 13 16 17 21 14 18 ...\n",
            " $ Weight            : int  2705 3560 3375 3405 3640 2880 3470 4105 3495 3620 ...\n",
            " $ Origin            : Factor w/ 2 levels \"USA\",\"non-USA\": 2 2 2 2 2 1 1 1 1 1 ...\n",
            " $ Make              : Factor w/ 93 levels \"Acura Integra\",..: 1 2 4 3 5 6 7 9 8 10 ...\n",
            " - attr(*, \"na.action\")= 'omit' Named int [1:11] 16 17 19 26 36 56 57 66 70 87 ...\n",
            "  ..- attr(*, \"names\")= chr [1:11] \"16\" \"17\" \"19\" \"26\" ...\n"
          ],
          "name": "stdout"
        }
      ]
    },
    {
      "cell_type": "markdown",
      "metadata": {
        "id": "weI9Ncg8PAjA"
      },
      "source": [
        "처음에 Cars93이  \"'data.frame': 93 obs. of  27 variables:\", 즉 93개의 관측치가 있었는데요,\n",
        "\n",
        "na.omit(Cars93) 함수를 적용한 후에 Cars93_1 이라는 이름으로 새로 저장해서 str()로 데이터 구조를 보니 \"'data.frame': 82 obs. of  27 variables:\", 즉 82개 관측치로 총 11개 관측치가 줄어들었음을 알 수 있습니다. 결측값이 하나라도 들어있는 행 11개가 통째로 삭제되어 버렸기 때문입니다.\n",
        "\n",
        " \n",
        "\n",
        "위의 예처럼 결측값이 들어있는 행을 통째로 삭제할 때는 만약의 사태를 대비해서 원본은 그대로 유지하고, 행을 삭제한 데이터 셋을 별도의 이름으로 저장해서 분석을 진행하는 것을 추천합니다.\n",
        "\n",
        "(5) 특정 행과 열에 결측값이 들어있는 행을 데이터 셋에서 제거 : complete.cases()"
      ]
    },
    {
      "cell_type": "code",
      "metadata": {
        "colab": {
          "base_uri": "https://localhost:8080/"
        },
        "id": "v44AOqeVO4mU",
        "outputId": "b536f55b-ea20-4e9f-b45d-902bb3eafcf8"
      },
      "source": [
        "%%R\n",
        "sum(is.na(Cars93))"
      ],
      "execution_count": 81,
      "outputs": [
        {
          "output_type": "stream",
          "text": [
            "[1] 13\n"
          ],
          "name": "stdout"
        }
      ]
    },
    {
      "cell_type": "code",
      "metadata": {
        "colab": {
          "base_uri": "https://localhost:8080/"
        },
        "id": "bcf1a2jEPJa7",
        "outputId": "77e04ffa-06e1-430d-da63-2cedc2e226fa"
      },
      "source": [
        "%%R\n",
        "# Cars93 데이터 프레임의 \"Rear.seat.room\" 칼럼 내 결측값이 있는 행 전체 삭제\n",
        "\n",
        "Cars93_2 <- Cars93[ complete.cases(Cars93[ , c(\"Rear.seat.room\")]), ]\n",
        "sum(is.na(Cars93_2))"
      ],
      "execution_count": 82,
      "outputs": [
        {
          "output_type": "stream",
          "text": [
            "[1] 9\n"
          ],
          "name": "stdout"
        }
      ]
    },
    {
      "cell_type": "code",
      "metadata": {
        "colab": {
          "base_uri": "https://localhost:8080/"
        },
        "id": "mHpMV1D8PNQ-",
        "outputId": "7411d4a2-d56d-4072-c926-3c0062cc3e55"
      },
      "source": [
        "%%R\n",
        "\n",
        "# Cars93 데이터 프레임의 23~24번째 칼럼 내 결측값이 있는 행 전체 삭제\n",
        "\n",
        "Cars93_3 <- Cars93[ complete.cases(Cars93[ , c(23:24)]), ]\n",
        "sum(is.na(Cars93_3))"
      ],
      "execution_count": 83,
      "outputs": [
        {
          "output_type": "stream",
          "text": [
            "[1] 0\n"
          ],
          "name": "stdout"
        }
      ]
    },
    {
      "cell_type": "code",
      "metadata": {
        "colab": {
          "base_uri": "https://localhost:8080/"
        },
        "id": "EDewJi5oPSo9",
        "outputId": "a9a8bf84-b7b5-463b-a8c0-c43a5bc74e15"
      },
      "source": [
        "%%R\n",
        "dim(Cars93_3) # 관측값이 82개로서 11개 줄어듬"
      ],
      "execution_count": 84,
      "outputs": [
        {
          "output_type": "stream",
          "text": [
            "[1] 82 27\n"
          ],
          "name": "stdout"
        }
      ]
    },
    {
      "cell_type": "code",
      "metadata": {
        "colab": {
          "base_uri": "https://localhost:8080/"
        },
        "id": "BU9c730RPbmy",
        "outputId": "76598a22-9015-4349-c5c5-4b6d846e8874"
      },
      "source": [
        "%%R\n",
        "str(Cars93_3) # 관측값이 82개로서 11개 줄어듬"
      ],
      "execution_count": 85,
      "outputs": [
        {
          "output_type": "stream",
          "text": [
            "'data.frame':\t82 obs. of  27 variables:\n",
            " $ Manufacturer      : Factor w/ 32 levels \"Acura\",\"Audi\",..: 1 1 2 2 3 4 4 4 4 5 ...\n",
            " $ Model             : Factor w/ 93 levels \"100\",\"190E\",\"240\",..: 49 56 9 1 6 24 54 74 73 35 ...\n",
            " $ Type              : Factor w/ 6 levels \"Compact\",\"Large\",..: 4 3 1 3 3 3 2 2 3 2 ...\n",
            " $ Min.Price         : num  12.9 29.2 25.9 30.8 23.7 14.2 19.9 22.6 26.3 33 ...\n",
            " $ Price             : num  15.9 33.9 29.1 37.7 30 15.7 20.8 23.7 26.3 34.7 ...\n",
            " $ Max.Price         : num  18.8 38.7 32.3 44.6 36.2 17.3 21.7 24.9 26.3 36.3 ...\n",
            " $ MPG.city          : int  25 18 20 19 22 22 19 16 19 16 ...\n",
            " $ MPG.highway       : int  31 25 26 26 30 31 28 25 27 25 ...\n",
            " $ AirBags           : Factor w/ 3 levels \"Driver & Passenger\",..: 3 1 2 1 2 2 2 2 2 2 ...\n",
            " $ DriveTrain        : Factor w/ 3 levels \"4WD\",\"Front\",..: 2 2 2 2 3 2 2 3 2 2 ...\n",
            " $ Cylinders         : Factor w/ 6 levels \"3\",\"4\",\"5\",\"6\",..: 2 4 4 4 2 2 4 4 4 5 ...\n",
            " $ EngineSize        : num  1.8 3.2 2.8 2.8 3.5 2.2 3.8 5.7 3.8 4.9 ...\n",
            " $ Horsepower        : int  140 200 172 172 208 110 170 180 170 200 ...\n",
            " $ RPM               : int  6300 5500 5500 5500 5700 5200 4800 4000 4800 4100 ...\n",
            " $ Rev.per.mile      : int  2890 2335 2280 2535 2545 2565 1570 1320 1690 1510 ...\n",
            " $ Man.trans.avail   : Factor w/ 2 levels \"No\",\"Yes\": 2 2 2 2 2 1 1 1 1 1 ...\n",
            " $ Fuel.tank.capacity: num  13.2 18 16.9 21.1 21.1 16.4 18 23 18.8 18 ...\n",
            " $ Passengers        : int  5 5 5 6 4 6 6 6 5 6 ...\n",
            " $ Length            : int  177 195 180 193 186 189 200 216 198 206 ...\n",
            " $ Wheelbase         : int  102 115 102 106 109 105 111 116 108 114 ...\n",
            " $ Width             : int  68 71 67 70 69 69 74 78 73 73 ...\n",
            " $ Turn.circle       : int  37 38 37 37 39 41 42 45 41 43 ...\n",
            " $ Rear.seat.room    : num  26.5 30 28 31 27 28 30.5 30.5 26.5 35 ...\n",
            " $ Luggage.room      : int  11 15 14 17 13 16 17 21 14 18 ...\n",
            " $ Weight            : int  2705 3560 3375 3405 3640 2880 3470 4105 3495 3620 ...\n",
            " $ Origin            : Factor w/ 2 levels \"USA\",\"non-USA\": 2 2 2 2 2 1 1 1 1 1 ...\n",
            " $ Make              : Factor w/ 93 levels \"Acura Integra\",..: 1 2 4 3 5 6 7 9 8 10 ...\n"
          ],
          "name": "stdout"
        }
      ]
    },
    {
      "cell_type": "markdown",
      "metadata": {
        "id": "ESyNItoaPghC"
      },
      "source": [
        "(6) 결측값을 다른 값으로 대체 : datasets$var[is.na(dataset$var)] <- new_value"
      ]
    },
    {
      "cell_type": "code",
      "metadata": {
        "colab": {
          "base_uri": "https://localhost:8080/"
        },
        "id": "biBP4OzSPwVT",
        "outputId": "76a8b523-90ff-4028-e6dc-0065ddec7a3a"
      },
      "source": [
        "%%R\n",
        "Cars93$Luggage.room"
      ],
      "execution_count": 86,
      "outputs": [
        {
          "output_type": "stream",
          "text": [
            " [1] 11 15 14 17 13 16 17 21 14 18 14 13 14 13 16 NA NA 20 NA 15 14 17 11 13 14\n",
            "[26] NA 16 11 11 15 12 12 13 12 18 NA 18 21 10 11  8 12 14 11 12  9 14 15 14  9\n",
            "[51] 19 22 16 13 14 NA NA 12 15  6 15 11 14 12 14 NA 14 14 16 NA 17  8 17 13 13\n",
            "[76] 16 18 14 12 10 15 14 10 11 13 15 NA 10 NA 14 15 14 15\n"
          ],
          "name": "stdout"
        }
      ]
    },
    {
      "cell_type": "code",
      "metadata": {
        "colab": {
          "base_uri": "https://localhost:8080/"
        },
        "id": "cfY-mbxgPwRg",
        "outputId": "3fbe6475-4c8a-4376-c2d5-d23e5019b52c"
      },
      "source": [
        "%%R\n",
        "sum(is.na(Cars93$Luggage.room))"
      ],
      "execution_count": 87,
      "outputs": [
        {
          "output_type": "stream",
          "text": [
            "[1] 11\n"
          ],
          "name": "stdout"
        }
      ]
    },
    {
      "cell_type": "code",
      "metadata": {
        "colab": {
          "base_uri": "https://localhost:8080/"
        },
        "id": "RHQrDrwOPeKV",
        "outputId": "dab4d5b7-adc9-4a1b-e1a7-eee0fd7566b3"
      },
      "source": [
        "%%R\n",
        "# Luggage.room 변수 내 결측값을 '0'으로 대체\n",
        "\n",
        "Cars93_4 <- Cars93\n",
        "Cars93_4$Luggage.room[is.na(Cars93_4$Luggage.room)] <- 0\n",
        "Cars93_4$Luggage.room\n",
        "\n"
      ],
      "execution_count": 88,
      "outputs": [
        {
          "output_type": "stream",
          "text": [
            " [1] 11 15 14 17 13 16 17 21 14 18 14 13 14 13 16  0  0 20  0 15 14 17 11 13 14\n",
            "[26]  0 16 11 11 15 12 12 13 12 18  0 18 21 10 11  8 12 14 11 12  9 14 15 14  9\n",
            "[51] 19 22 16 13 14  0  0 12 15  6 15 11 14 12 14  0 14 14 16  0 17  8 17 13 13\n",
            "[76] 16 18 14 12 10 15 14 10 11 13 15  0 10  0 14 15 14 15\n"
          ],
          "name": "stdout"
        }
      ]
    },
    {
      "cell_type": "markdown",
      "metadata": {
        "id": "XcIzycomRCL0"
      },
      "source": [
        "sum(is.na(Cars93$Luggage.room)) 함수를 사용해 Cars93의 Luggage.room 변수에 보면 11개의 결측값이 있음을 알 수 있습니다.  Luggage.room 변수 내 결측값을 indexing 기법을 활용해서 '0'로 대체하는 방법이 위의 예제가 되겠습니다.\n",
        "\n",
        " \n",
        "\n",
        "물론 '0'이 아니라 다른 값으로도 대체가 가능합니다.  아래의 예제에서는 결측값을 미포함(na.rm = TRUE)했을 때의 Luggage.room의 평균값으로 결측값을 대체하여 보도록 하겠습니다."
      ]
    },
    {
      "cell_type": "code",
      "metadata": {
        "colab": {
          "base_uri": "https://localhost:8080/"
        },
        "id": "zaykLqsfQ-oG",
        "outputId": "5fc5d2d7-daea-4456-bc69-2114cfe1624e"
      },
      "source": [
        "%%R\n",
        "Cars93_5 <- Cars93\n",
        "Cars93_5$Luggage.room[is.na(Cars93_5$Luggage.room)] <- mean(Cars93_5$Luggage.room, na.rm = TRUE)\n",
        "sum(is.na(Cars93_5$Luggage.room))\n",
        "Cars93_5$Luggage.room\n"
      ],
      "execution_count": 89,
      "outputs": [
        {
          "output_type": "stream",
          "text": [
            " [1] 11.00000 15.00000 14.00000 17.00000 13.00000 16.00000 17.00000 21.00000\n",
            " [9] 14.00000 18.00000 14.00000 13.00000 14.00000 13.00000 16.00000 13.89024\n",
            "[17] 13.89024 20.00000 13.89024 15.00000 14.00000 17.00000 11.00000 13.00000\n",
            "[25] 14.00000 13.89024 16.00000 11.00000 11.00000 15.00000 12.00000 12.00000\n",
            "[33] 13.00000 12.00000 18.00000 13.89024 18.00000 21.00000 10.00000 11.00000\n",
            "[41]  8.00000 12.00000 14.00000 11.00000 12.00000  9.00000 14.00000 15.00000\n",
            "[49] 14.00000  9.00000 19.00000 22.00000 16.00000 13.00000 14.00000 13.89024\n",
            "[57] 13.89024 12.00000 15.00000  6.00000 15.00000 11.00000 14.00000 12.00000\n",
            "[65] 14.00000 13.89024 14.00000 14.00000 16.00000 13.89024 17.00000  8.00000\n",
            "[73] 17.00000 13.00000 13.00000 16.00000 18.00000 14.00000 12.00000 10.00000\n",
            "[81] 15.00000 14.00000 10.00000 11.00000 13.00000 15.00000 13.89024 10.00000\n",
            "[89] 13.89024 14.00000 15.00000 14.00000 15.00000\n"
          ],
          "name": "stdout"
        }
      ]
    },
    {
      "cell_type": "markdown",
      "metadata": {
        "id": "VHisFh38RTxN"
      },
      "source": [
        "7) 데이터프레임의 모든 행의 결측값을 특정 값(가령, '0')으로 일괄 대체 \n",
        "\n",
        ": dataset[is.na(dataset)] <- 0"
      ]
    },
    {
      "cell_type": "code",
      "metadata": {
        "colab": {
          "base_uri": "https://localhost:8080/"
        },
        "id": "uhpFDSzoRHiH",
        "outputId": "56c860b5-6051-4636-bfcf-48b33ac307aa"
      },
      "source": [
        "%%R\n",
        "\n",
        "Cars93_6 <- Cars93\n",
        "# counting the number of missing values in Cars93 dataset\n",
        "sum(is.na(Cars93_6)) # 13\n",
        "# converting the missing value in Cars93 dataframe to '0'\n",
        "Cars93_6[is.na(Cars93_6)] <- 0\n",
        "\n",
        "# counting the number of missing values in Cars93 dataset\n",
        "sum(is.na(Cars93_6)) # 0\n",
        "\n"
      ],
      "execution_count": 90,
      "outputs": [
        {
          "output_type": "stream",
          "text": [
            "[1] 0\n"
          ],
          "name": "stdout"
        }
      ]
    },
    {
      "cell_type": "markdown",
      "metadata": {
        "id": "TsFBEE9v0X_M"
      },
      "source": [
        "이상치 역시 분석 결과를 왜곡시키기 때문에 결측 처리 후에 제외하고 분석해야 좀 더 정확한 결과를 가져올 수 있다.\n",
        "\n",
        " \n",
        "\n",
        "이상치의 종류에는 대표적으로 두 가지가 있는데, 아예 존재할 수 없는 값 혹은 극단적인 값이다. \n",
        "\n",
        " \n",
        "\n",
        "전자의 예로는 성별 변수에 3이라는 값이 들어간 것이며, 후자의 예로는 몸무게 변수에 200이라는 값이 들어간 것이다.\n",
        "\n",
        "성별 변수에 3이라는 값이 들어간 것은 논리적으로 존재할 수 없으므로 바로 결측 처리를 하고, 몸무게 변수에 200이라는 값이 들어갔으면, 정상 범위의 기준을 정해서 결측 처리를 함으로써 해결할 수 있다.\n",
        "\n",
        " \n",
        "\n",
        " \n",
        "\n",
        "그렇다면 극단치의 기준은 어떻게 정할까?\n",
        "\n",
        "통계적으로는 상하위 0.3% 나 상자 그림 1.5 IQR을 벗어나면 극단치로 판단한다.\n",
        "\n",
        "mpg 데이터로 예를 들어보자."
      ]
    },
    {
      "cell_type": "markdown",
      "metadata": {
        "id": "6LWRsLcn0cAa"
      },
      "source": [
        "<img src = \n",
        "'https://img1.daumcdn.net/thumb/R1280x0/?scode=mtistory2&fname=https%3A%2F%2Fblog.kakaocdn.net%2Fdn%2Fqlza7%2FbtqwTw0Ibbu%2FyX68PMhhSGvQCBbna8UKGk%2Fimg.png'>"
      ]
    },
    {
      "cell_type": "code",
      "metadata": {
        "id": "LrNJ4hYhRb4m",
        "colab": {
          "base_uri": "https://localhost:8080/",
          "height": 1000
        },
        "outputId": "636a0d19-d779-4568-d2ab-7e0ff623c415"
      },
      "source": [
        "%%R\n",
        "mpg <- as.data.frame(ggplot2::mpg)\n",
        "boxplot(mpg$hwy) \n",
        "boxplot(mpg$hwy)$stats #상자그림 통계치 출력\n",
        "#[1,] : 최소값\n",
        "#[2,] : 1분위수(25%)\n",
        "#[3,] : 평균(50%)\n",
        "#[4,] : 3사분위수(75%)\n",
        "#[5,] : 최대값\n"
      ],
      "execution_count": 91,
      "outputs": [
        {
          "output_type": "stream",
          "text": [
            "     [,1]\n",
            "[1,]   12\n",
            "[2,]   18\n",
            "[3,]   24\n",
            "[4,]   27\n",
            "[5,]   37\n"
          ],
          "name": "stdout"
        },
        {
          "output_type": "display_data",
          "data": {
            "image/png": "[encoded data removed]"
          },
          "metadata": {
            "tags": []
          }
        },
        {
          "output_type": "display_data",
          "data": {
            "image/png": "[encoded data removed]"
          },
          "metadata": {
            "tags": []
          }
        }
      ]
    },
    {
      "cell_type": "code",
      "metadata": {
        "colab": {
          "base_uri": "https://localhost:8080/",
          "height": 497
        },
        "id": "-GPFsqQ507UO",
        "outputId": "02907f59-26f0-4176-c9ee-d8b3e99720ee"
      },
      "source": [
        "# boxplot(mpg$hwy)$stats 실행 결과 에서 12미만이거나 37을 초과하는 경우는 이상할 데이터일 학률이 매우 높다\n",
        "\n",
        "%%R\n",
        "\n",
        "mpg$hwy<-ifelse(mpg$hwy<12 | mpg$hwy>37, NA,mpg$hwy)\n",
        "boxplot(mpg$hwy)"
      ],
      "execution_count": 93,
      "outputs": [
        {
          "output_type": "display_data",
          "data": {
            "image/png": "[encoded data removed]"
          },
          "metadata": {
            "tags": []
          }
        }
      ]
    },
    {
      "cell_type": "code",
      "metadata": {
        "id": "7oyyLqEZ2K3C"
      },
      "source": [
        ""
      ],
      "execution_count": 92,
      "outputs": []
    }
  ]
}