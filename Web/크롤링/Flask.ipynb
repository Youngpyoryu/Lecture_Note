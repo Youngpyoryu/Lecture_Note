{
  "nbformat": 4,
  "nbformat_minor": 0,
  "metadata": {
    "colab": {
      "name": "Flask.ipynb",
      "provenance": [],
      "collapsed_sections": []
    },
    "kernelspec": {
      "name": "python3",
      "display_name": "Python 3"
    },
    "language_info": {
      "name": "python"
    }
  },
  "cells": [
    {
      "cell_type": "markdown",
      "metadata": {
        "id": "bMemHfdgF8JG"
      },
      "source": [
        "새롭고 다양한 인터넷 서비스가 하루가 멀다 하고 수없이 만들어 짐. 이러한 서비스 대부분은 사용자와 만나는 지점에 웹 애플리케이션을 배치하고 있음. 결국, 웹 애플리케이션은 백 엔드(back-end)에 어떠한 시스템이 존재하든지 사용자에게는 가장 중요한 것이 되어버렸다. 특유의 간편함과 편리함으로 개발자들에게 사랑받고 있는 웹 개발 프레임워크인 플라스크(flask)를 이용한 웹 애플리케이션 개발 방법을 알아보자."
      ]
    },
    {
      "cell_type": "markdown",
      "metadata": {
        "id": "n1OaHZLKG_oC"
      },
      "source": [
        "새로운 언어를 배운다는 것은 어쩌면 새로운 문제 해결 방법을 배우는 것. 웹 애플리케이션 분야에서는 자바 기반의 스프링(Spring) 프레임워크의 수요가 가장 많으며, 대부분 개발이 스프링 프레임워크로 이뤄지고 있다. 하지만 스프링 프레임워크는 막강한 확장성과 기능적 장점에 상응하는 DI(Dependency Injection(프로그램 구성 요소들 사이의 의존성을 줄여, 결합도를 낮추기 위한 방법 중 하나로 소스코드에서의 의존성을 외부의 설정 파일 등을 이용해 해결하도록 하는 방법. 이로써 의존 객체의 변경과 단위 테스트가 쉬워지며, 코드 가독성, 재사용성 등이 높아짐.), AOP(Aspective Orentited Programming(기존 OOP의 단점을 보완하기 위한 하나의 도구로 핵심 로직(core concern)에 대한 영향을 최소화하고 공통 모듈(Cross cutting)을 효과적으로 주입할 수 있도록 개발하는 방법.)등 초보자가 이해하기에는 다소 복잡한 개념의 기술적 진입 장벽이 있으며, 초보자가 스스로 환경을 구축하는 것도 처음에는 쉽지 않은 편이다. 반면, 파이썬 기반의 마이크로 웹 프레임워크를 이용한 웹 개발은 상대적으로 직관적이며, 쉽게 이해할 수 있는 장점이 있기 때문에 파이썬을 사용하면 복잡하지 않은 구성으로 원하는 결과를 얻을 수 있다."
      ]
    },
    {
      "cell_type": "markdown",
      "metadata": {
        "id": "loHX3B1zEt0h"
      },
      "source": [
        "### 웹 애플리케이션 개발 동향\n",
        "\n",
        "1995년 HTML 2.0 발표 이후로 월드 와이드 웹(World Wide Web)은 우리의 일상에 깊숙이 자리를 잡음. 200년대 초반부터는 인터넷과 다양한 IT서비스가 급속도로 공공재화 됨.\n",
        "\n",
        "스마트폰과 태블릿 PC 같은 모바일 기반의 컴퓨팅 환경이 점점 강력해지면서 클라우드 컴퓨팅 기술과의 시너지효과로 장소와 시간에 구애받지 않고, 필요할 때 사용할 수 있는 주문형 방식(On-Demand)으로 이용할 수 있는 인프라 환경을 얻게 됨.\n",
        "\n",
        "<img src ='https://img1.daumcdn.net/thumb/R800x0/?scode=mtistory2&fname=https%3A%2F%2Ft1.daumcdn.net%2Fcfile%2Ftistory%2F2771214B56E9F4FE05'>\n",
        "\n",
        "출처 : https://hoonmaro.tistory.com/26"
      ]
    },
    {
      "cell_type": "markdown",
      "metadata": {
        "id": "Xk2KyK7wLRxr"
      },
      "source": [
        "- 최초의 웹은 단순히 링크로 연결된 HTML 문서를 화면에 구조화하여 보여 주는 것이 목적\n",
        "\n",
        "<img src = 'https://t1.daumcdn.net/blogcolumn/_home/O/u/02POu/1087174395361_asp02.gif'>\n",
        "\n",
        "\n",
        "\n",
        "\n",
        "## Restful(REST API 에서 REST는 Representational State Transfer 의 약자로 소프트웨어 프로그램 아키텍처의 한 형식 입니다.)\n",
        "- 즉, 자원을 이름 (자원의 표현) 으로 구분하여 해당 자원의 상태 (정보)를 주고 받는 모든 것을 의미한다.\n",
        "\n",
        "- 월드 와이드 웹 (WWW) 과 같은 분산 하이퍼미디어 시스템을 위한 소프트웨어 개발 아키텍처의 한 형식\n",
        "- REST는 기본적으로 웹의 기존 기술과 HTTP 프로토콜을 그대로 활용하기 때문에 웹의 장점을 최대한 활용할 수 있는 아키텍처 스타일이다.\n",
        "<img src = 'https://media.vlpt.us/images/somday/post/2a7df2da-2a3c-44af-b059-ee03efc125ef/restapi-image.png'>\n",
        "\n"
      ]
    },
    {
      "cell_type": "markdown",
      "metadata": {
        "id": "GNUdvHiTi3oj"
      },
      "source": [
        "# 프레임워크\n",
        "\n",
        " - Ruby\n",
        " - Scala\n",
        " - Bottle\n",
        "\n",
        "## 튜터리얼 참고 : https://flask.palletsprojects.com/en/2.0.x/\n",
        "\n",
        "- 2010.4.1 만우절에 릴리즈가 되었음. \n",
        "\n",
        "### 플라스크로 작성되어 있는 홈페이지\n",
        " - https://disqus.com/\n",
        " - https://www.pinterest.co.kr/\n",
        " - https://www.twilio.com/"
      ]
    },
    {
      "cell_type": "code",
      "metadata": {
        "colab": {
          "base_uri": "https://localhost:8080/"
        },
        "id": "y1zM1P6Pjl8z",
        "outputId": "b8482c41-28eb-4a8f-a388-466a1d44d999"
      },
      "source": [
        "!pip install flask\n",
        "!pip install flask_ngrok"
      ],
      "execution_count": 6,
      "outputs": [
        {
          "output_type": "stream",
          "text": [
            "Requirement already satisfied: flask in /usr/local/lib/python3.7/dist-packages (1.1.4)\n",
            "Requirement already satisfied: itsdangerous<2.0,>=0.24 in /usr/local/lib/python3.7/dist-packages (from flask) (1.1.0)\n",
            "Requirement already satisfied: Jinja2<3.0,>=2.10.1 in /usr/local/lib/python3.7/dist-packages (from flask) (2.11.3)\n",
            "Requirement already satisfied: Werkzeug<2.0,>=0.15 in /usr/local/lib/python3.7/dist-packages (from flask) (1.0.1)\n",
            "Requirement already satisfied: click<8.0,>=5.1 in /usr/local/lib/python3.7/dist-packages (from flask) (7.1.2)\n",
            "Requirement already satisfied: MarkupSafe>=0.23 in /usr/local/lib/python3.7/dist-packages (from Jinja2<3.0,>=2.10.1->flask) (2.0.1)\n",
            "Collecting flask_ngrok\n",
            "  Downloading flask_ngrok-0.0.25-py3-none-any.whl (3.1 kB)\n",
            "Requirement already satisfied: requests in /usr/local/lib/python3.7/dist-packages (from flask_ngrok) (2.23.0)\n",
            "Requirement already satisfied: Flask>=0.8 in /usr/local/lib/python3.7/dist-packages (from flask_ngrok) (1.1.4)\n",
            "Requirement already satisfied: itsdangerous<2.0,>=0.24 in /usr/local/lib/python3.7/dist-packages (from Flask>=0.8->flask_ngrok) (1.1.0)\n",
            "Requirement already satisfied: click<8.0,>=5.1 in /usr/local/lib/python3.7/dist-packages (from Flask>=0.8->flask_ngrok) (7.1.2)\n",
            "Requirement already satisfied: Jinja2<3.0,>=2.10.1 in /usr/local/lib/python3.7/dist-packages (from Flask>=0.8->flask_ngrok) (2.11.3)\n",
            "Requirement already satisfied: Werkzeug<2.0,>=0.15 in /usr/local/lib/python3.7/dist-packages (from Flask>=0.8->flask_ngrok) (1.0.1)\n",
            "Requirement already satisfied: MarkupSafe>=0.23 in /usr/local/lib/python3.7/dist-packages (from Jinja2<3.0,>=2.10.1->Flask>=0.8->flask_ngrok) (2.0.1)\n",
            "Requirement already satisfied: chardet<4,>=3.0.2 in /usr/local/lib/python3.7/dist-packages (from requests->flask_ngrok) (3.0.4)\n",
            "Requirement already satisfied: urllib3!=1.25.0,!=1.25.1,<1.26,>=1.21.1 in /usr/local/lib/python3.7/dist-packages (from requests->flask_ngrok) (1.24.3)\n",
            "Requirement already satisfied: idna<3,>=2.5 in /usr/local/lib/python3.7/dist-packages (from requests->flask_ngrok) (2.10)\n",
            "Requirement already satisfied: certifi>=2017.4.17 in /usr/local/lib/python3.7/dist-packages (from requests->flask_ngrok) (2021.5.30)\n",
            "Installing collected packages: flask-ngrok\n",
            "Successfully installed flask-ngrok-0.0.25\n"
          ],
          "name": "stdout"
        }
      ]
    },
    {
      "cell_type": "markdown",
      "metadata": {
        "id": "mekMsPvBktkT"
      },
      "source": [
        "- 코랩이 클라우드 환경이라 서버가 안띄어짐(로컬서버를 이용)\n",
        "\n",
        "- ngrok.io->github ->colab 하고 연결 해 준것.\n",
        "\n",
        "- 해결방법은 flaks_ngork이걸 써야함."
      ]
    },
    {
      "cell_type": "code",
      "metadata": {
        "id": "NyqHWI7IF1_3",
        "colab": {
          "base_uri": "https://localhost:8080/"
        },
        "outputId": "b949d990-4355-42d4-9421-1bc7e818ad54"
      },
      "source": [
        "# #간단한 예제\n",
        "# from flask import Flask\n",
        "# app = Flask(__name__)\n",
        "\n",
        "# @app.route('/')\n",
        "# def hello():\n",
        "\n",
        "#   return \"Hello World\"\n",
        "\n",
        "# if __name__ ==\"__main__\":\n",
        "#   app.run()"
      ],
      "execution_count": 4,
      "outputs": [
        {
          "output_type": "stream",
          "text": [
            " * Serving Flask app \"__main__\" (lazy loading)\n",
            " * Environment: production\n",
            "\u001b[31m   WARNING: This is a development server. Do not use it in a production deployment.\u001b[0m\n",
            "\u001b[2m   Use a production WSGI server instead.\u001b[0m\n",
            " * Debug mode: off\n"
          ],
          "name": "stdout"
        },
        {
          "output_type": "stream",
          "text": [
            " * Running on http://127.0.0.1:5000/ (Press CTRL+C to quit)\n"
          ],
          "name": "stderr"
        }
      ]
    },
    {
      "cell_type": "markdown",
      "metadata": {
        "id": "5efmrXZhnZk7"
      },
      "source": [
        ".py 파일"
      ]
    },
    {
      "cell_type": "code",
      "metadata": {
        "colab": {
          "base_uri": "https://localhost:8080/"
        },
        "id": "ibbt2PMSk220",
        "outputId": "22222092-2ecc-4d0e-f99b-f84e81bcfcae"
      },
      "source": [
        "# -*- coding : utf-8 -*-\n",
        "from flask import Flask\n",
        "from flask_ngrok import run_with_ngrok\n",
        "\n",
        "app = Flask(__name__)\n",
        "run_with_ngrok(app)\n",
        "@app.route('/')\n",
        "\n",
        "def home():\n",
        "     return \"Hello Flask!\"\n",
        "\n",
        "if __name__ == '__main__':\n",
        "     app.run()"
      ],
      "execution_count": 7,
      "outputs": [
        {
          "output_type": "stream",
          "text": [
            " * Serving Flask app \"__main__\" (lazy loading)\n",
            " * Environment: production\n",
            "\u001b[31m   WARNING: This is a development server. Do not use it in a production deployment.\u001b[0m\n",
            "\u001b[2m   Use a production WSGI server instead.\u001b[0m\n",
            " * Debug mode: off\n"
          ],
          "name": "stdout"
        },
        {
          "output_type": "stream",
          "text": [
            " * Running on http://127.0.0.1:5000/ (Press CTRL+C to quit)\n"
          ],
          "name": "stderr"
        },
        {
          "output_type": "stream",
          "text": [
            " * Running on http://d94e2d5ab3b9.ngrok.io\n",
            " * Traffic stats available on http://127.0.0.1:4040\n"
          ],
          "name": "stdout"
        },
        {
          "output_type": "stream",
          "text": [
            "127.0.0.1 - - [26/Jul/2021 02:10:40] \"\u001b[37mGET / HTTP/1.1\u001b[0m\" 200 -\n",
            "127.0.0.1 - - [26/Jul/2021 02:10:40] \"\u001b[33mGET /favicon.ico HTTP/1.1\u001b[0m\" 404 -\n"
          ],
          "name": "stderr"
        }
      ]
    },
    {
      "cell_type": "markdown",
      "metadata": {
        "id": "ogNth-z4laM5"
      },
      "source": [
        "# 플라스크 시작하기!\n",
        "\n",
        "<img src = 'data:image/png;base64,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'>"
      ]
    },
    {
      "cell_type": "markdown",
      "metadata": {
        "id": "gDNnhx9EmLFC"
      },
      "source": [
        "(1)플라스크 애플케이션은 특정 URL이 호출되면서 실행됨.\n",
        "\n",
        "(2) 요청한 URL(HTTP GET), 내용(HTTP POST)을 분석해서 비즈니스 로직을 실행.\n",
        "\n",
        "(3) 비즈니스 로직이 성공적으로 실행된 결과를 응답으로 전송함.\n",
        "\n",
        "(4) 마지막으로 응답으로 전송할 값을 화면(보통 HTML)에 출력됨.\n",
        "\n",
        "(5) 상황에 따라 쿠키나 세션을 사용하거나 프로그램의 상태를 기록하기 위해 로깅을 하고 오류가 발생할 경우에 처리할 로직을 별도로 제공할 수 있다."
      ]
    },
    {
      "cell_type": "code",
      "metadata": {
        "id": "zu0C9q_nnxV5"
      },
      "source": [
        "# app = Flask(__name__)\n",
        "# run_with_ngrok(app)\n",
        "# @app.route('/')\n",
        "\n",
        "# def home():\n",
        "#      return \"Hello Flask!\""
      ],
      "execution_count": null,
      "outputs": []
    },
    {
      "cell_type": "markdown",
      "metadata": {
        "id": "ns9VCgZgnyFB"
      },
      "source": [
        "플라스크 애플리케이션 만들려면 **Flask 객체를 만들**어야 함.->모듈을 불러옴. 애플케이션 객체인 app을 생성.\n",
        "\n",
        "특정 URL을 호출 ->함수 정의(View 함수)\n",
        "\n",
        "뷰(view)함수와 특정 URL을 일치하기 위해서 미리 정의한 route() 데코레이션를 사용."
      ]
    },
    {
      "cell_type": "code",
      "metadata": {
        "id": "k6ZLiNdpoR0A"
      },
      "source": [
        "# if __name__ == '__main__':\n",
        "#      app.run()"
      ],
      "execution_count": 8,
      "outputs": []
    },
    {
      "cell_type": "markdown",
      "metadata": {
        "id": "TwWd2Lqpozwx"
      },
      "source": [
        "파이썬 인터프리터에 의해 메인 모듈이 실행됐는지를 임포트 되어 사용됐는지 확인하여 메인 모듈이 실행됐으면 테스트 사용되는 로컬 서버인 run 함수를 실행하라."
      ]
    }
  ]
}