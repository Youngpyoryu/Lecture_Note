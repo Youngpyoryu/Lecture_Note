{
  "nbformat": 4,
  "nbformat_minor": 0,
  "metadata": {
    "colab": {
      "provenance": []
    },
    "kernelspec": {
      "name": "python3",
      "display_name": "Python 3"
    },
    "language_info": {
      "name": "python"
    }
  },
  "cells": [
    {
      "cell_type": "markdown",
      "source": [
        "# Medical Cost Personal Datasets"
      ],
      "metadata": {
        "id": "VBufkOaqBwMG"
      }
    },
    {
      "cell_type": "markdown",
      "source": [
        "### https://www.kaggle.com/datasets/mirichoi0218/insurance\n",
        "* Age: 피보험자의 나이\n",
        "* Sex: 피보험자의 성별\n",
        "* BMI: 피보험자의 체질량 지수 - $\\frac{Weight\\:(kg)}{\\left(Height\\:(m)\\right)^{2}}$\n",
        "* Children: 피보험자의 자녀의 수\n",
        "* Smoker: 흡연 여부 (yes / no)\n",
        "* Region: 피보험자가 거주하는 지역 (Southeast / Southwest / Northeast / Northwest)\n",
        "* Charges: 보험료"
      ],
      "metadata": {
        "id": "DtiwNis8bk6e"
      }
    },
    {
      "cell_type": "markdown",
      "source": [
        "#### 개인 건강 데이터를 이용한 심부전 예측 모델"
      ],
      "metadata": {
        "id": "lOaj-ZjIdiwA"
      }
    },
    {
      "cell_type": "markdown",
      "source": [
        "- age: 환자의 나이\n",
        "- anaemia: 환자의 빈혈증 여부 (0: 정상, 1: 빈혈)\n",
        "- creatinine_phosphokinase: 크레아틴키나제 검사 결과\n",
        "- diabetes: 당뇨병 여부 (0: 정상, 1: 당뇨)\n",
        "- ejection_fraction: 박출계수 (%)\n",
        "- high_blood_pressure: 고혈압 여부 (0: 정상, 1: 고혈압)\n",
        "- platelets: 혈소판 수 (kiloplatelets/mL)\n",
        "- serum_creatinine: 혈중 크레아틴 레벨 (mg/dL)\n",
        "- serum_sodium: 혈중 나트륨 레벨 (mEq/L)\n",
        "- sex: 성별 (0: 여성, 1: 남성)\n",
        "- smoking: 흡연 여부 (0: 비흡연, 1: 흡연)\n",
        "- time: 관찰 기간 (일)\n",
        "- DEATH_EVENT: 사망 여부 (0: 생존, 1: 사망)"
      ],
      "metadata": {
        "id": "_Akf4YFQdUpy"
      }
    },
    {
      "cell_type": "markdown",
      "source": [
        "- 링크 : https://www.kaggle.com/datasets/andrewmvd/heart-failure-clinical-data"
      ],
      "metadata": {
        "id": "9rTob6Nndo_V"
      }
    },
    {
      "cell_type": "markdown",
      "source": [
        "# Medical Cost Personal Datasets"
      ],
      "metadata": {
        "id": "vz5mtUoHCdVs"
      }
    },
    {
      "cell_type": "markdown",
      "source": [
        "### https://www.kaggle.com/datasets/mirichoi0218/insurance\n",
        "* Age: 피보험자의 나이\n",
        "* Sex: 피보험자의 성별\n",
        "* BMI: 피보험자의 체질량 지수 - $\\frac{Weight\\:(kg)}{\\left(Height\\:(m)\\right)^{2}}$\n",
        "* Children: 피보험자의 자녀의 수\n",
        "* Smoker: 흡연 여부 (yes / no)\n",
        "* Region: 피보험자가 거주하는 지역 (Southeast / Southwest / Northeast / Northwest)\n",
        "* Charges: 보험료"
      ],
      "metadata": {
        "id": "08s950MsCdVs"
      }
    }
  ]
}