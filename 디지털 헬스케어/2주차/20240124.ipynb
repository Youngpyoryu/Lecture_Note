{
  "nbformat": 4,
  "nbformat_minor": 0,
  "metadata": {
    "colab": {
      "provenance": []
    },
    "kernelspec": {
      "name": "python3",
      "display_name": "Python 3"
    },
    "language_info": {
      "name": "python"
    }
  },
  "cells": [
    {
      "cell_type": "markdown",
      "metadata": {
        "id": "yaBzuUKHfSnR"
      },
      "source": [
        "### Data description(데이터 설명)\n",
        "- (객관적 사실 데이터) Objective: factual information;\n",
        "- (의료적 관찰 데이터) Examination: results of medical examination;\n",
        "- (환자 응답 데이터) Subjective: information given by the patient.\n",
        "1. (나이) Age | Objective Feature | age | int (days)\n",
        "2. (키) Height | Objective Feature | height | int (cm) |\n",
        "3. (몸무게) Weight | Objective Feature | weight | float (kg) |\n",
        "4. (성별) Gender | Objective Feature | gender | categorical code |\n",
        "5. (수축기 혈압) Systolic blood pressure | Examination Feature | ap_hi | int |\n",
        "6. (이완기 혈압) Diastolic blood pressure | Examination Feature | ap_lo | int |\n",
        "7. (콜레스테롤 수치) Cholesterol | Examination Feature | cholesterol | 1: normal, 2: above normal, 3: well above normal |\n",
        "8. (당수치) Glucose | Examination Feature | gluc | 1: normal, 2: above normal, 3: well above normal |\n",
        "9. (흡연여부) Smoking | Subjective Feature | smoke | binary |\n",
        "10. (음주여부) Alcohol intake | Subjective Feature | alco | binary |\n",
        "11. (신체활동/운동 여부) Physical activity | Subjective Feature | active | binary |\n",
        "12.(심혈관질환 여부) Presence or absence of cardiovascular disease | Target Variable | cardio | binary |"
      ]
    },
    {
      "cell_type": "markdown",
      "source": [
        "## 링크 : https://www.kaggle.com/datasets/sulianova/cardiovascular-disease-dataset"
      ],
      "metadata": {
        "id": "PAc_EHABEtCR"
      }
    },
    {
      "cell_type": "code",
      "execution_count": null,
      "metadata": {
        "colab": {
          "base_uri": "https://localhost:8080/"
        },
        "id": "Ee_Qau1cgQ_a",
        "outputId": "687ad558-3c7f-4004-bad9-ce5c7bfd260b"
      },
      "outputs": [
        {
          "name": "stdout",
          "output_type": "stream",
          "text": [
            "Mounted at /content/drive\n"
          ]
        }
      ],
      "source": [
        "from google.colab import drive\n",
        "drive.mount('/content/drive')"
      ]
    }
  ]
}