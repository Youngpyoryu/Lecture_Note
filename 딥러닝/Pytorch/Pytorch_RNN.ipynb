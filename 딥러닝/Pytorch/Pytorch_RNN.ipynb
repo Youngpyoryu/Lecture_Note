{
  "nbformat": 4,
  "nbformat_minor": 0,
  "metadata": {
    "colab": {
      "provenance": [],
      "gpuType": "T4"
    },
    "kernelspec": {
      "name": "python3",
      "display_name": "Python 3"
    },
    "language_info": {
      "name": "python"
    },
    "accelerator": "GPU",
    "gpuClass": "standard"
  },
  "cells": [
    {
      "cell_type": "markdown",
      "source": [
        "#### RNN의 many to many 구조에 대한 간단 예"
      ],
      "metadata": {
        "id": "-An1wGPjZg7S"
      }
    },
    {
      "cell_type": "markdown",
      "source": [
        "\n",
        "\n",
        "```\n",
        "model = nn.RNN(input_size, hidden_size,num_layers,batch_frist=True)\n",
        "output, h_n = model(input)\n",
        "```\n",
        "\n",
        "- input_size : input의 feature수\n",
        "- hidden_size :  은닉상태의 feature 수\n",
        "- num_layers : 은닉층의 수 / num_layers가 2 이상이면 다층 RNN(Multi-layer RNN)이 됨.\n",
        "- batch_frist : input 텐서와 output 텐서 형태에서 batch_size의 위치에 대한 옵션\n",
        "    - True이면 batch가 맨 앞에 위치함.\n",
        "\n",
        "- input 텐서의 형태는 (batch_size, sequence_length, input_size) 순서\n",
        "\n",
        "- output 텐서의 형태는 (batch_size, sequence_length, num_directions *hidden_size) 순서\n",
        "    - num_directions은 방향의 수를 나타냄. Bidirectional RNN을 제외하고는 1이다.\n",
        "    - batch_first 옵션은 은닉상태의 형태에는 적용되지는 않음.\n",
        "\n"
      ],
      "metadata": {
        "id": "7hgPeM4PcRll"
      }
    },
    {
      "cell_type": "markdown",
      "source": [
        "- nn.RNN의 출력에는 output, h_n이 있음.\n",
        "    - output은 모든 타임 스텝에 대한 결과이고, h_n은 t=n인 마지막 타임 스텝에 대한 은닉 상태 값이다.\n",
        "    - h_n 형태는 (num_layers * num_directions, batch_size, hidden_size)이다.\n",
        "    - 이것은 batch_first=True 지정유무와 무관하다."
      ],
      "metadata": {
        "id": "3JgwkXyRddX-"
      }
    },
    {
      "cell_type": "code",
      "execution_count": 1,
      "metadata": {
        "colab": {
          "base_uri": "https://localhost:8080/"
        },
        "id": "hys6KnUnZTBa",
        "outputId": "8967b277-6dfc-42d3-c417-e39f2a46fce5"
      },
      "outputs": [
        {
          "output_type": "stream",
          "name": "stdout",
          "text": [
            "Input :  torch.Size([4, 5, 1]) \n",
            " tensor([[[ 1.],\n",
            "         [ 2.],\n",
            "         [ 3.],\n",
            "         [ 4.],\n",
            "         [ 5.]],\n",
            "\n",
            "        [[ 6.],\n",
            "         [ 7.],\n",
            "         [ 8.],\n",
            "         [ 9.],\n",
            "         [10.]],\n",
            "\n",
            "        [[11.],\n",
            "         [12.],\n",
            "         [13.],\n",
            "         [14.],\n",
            "         [15.]],\n",
            "\n",
            "        [[16.],\n",
            "         [17.],\n",
            "         [18.],\n",
            "         [19.],\n",
            "         [20.]]])\n",
            "\n",
            "output :  torch.Size([4, 5, 2]) \n",
            " tensor([[[-0.0819,  0.8100],\n",
            "         [-0.4311,  0.9332],\n",
            "         [-0.3162,  0.9748],\n",
            "         [-0.3979,  0.9875],\n",
            "         [-0.3675,  0.9944]],\n",
            "\n",
            "        [[-0.1081,  0.9953],\n",
            "         [-0.5145,  0.9986],\n",
            "         [-0.3269,  0.9995],\n",
            "         [-0.4254,  0.9997],\n",
            "         [-0.3820,  0.9999]],\n",
            "\n",
            "        [[-0.1342,  0.9999],\n",
            "         [-0.5245,  1.0000],\n",
            "         [-0.3458,  1.0000],\n",
            "         [-0.4382,  1.0000],\n",
            "         [-0.3982,  1.0000]],\n",
            "\n",
            "        [[-0.1601,  1.0000],\n",
            "         [-0.5328,  1.0000],\n",
            "         [-0.3648,  1.0000],\n",
            "         [-0.4506,  1.0000],\n",
            "         [-0.4143,  1.0000]]], grad_fn=<TransposeBackward1>)\n",
            "\n",
            "hidden :  torch.Size([1, 4, 2]) \n",
            " tensor([[[-0.3675,  0.9944],\n",
            "         [-0.3820,  0.9999],\n",
            "         [-0.3982,  1.0000],\n",
            "         [-0.4143,  1.0000]]], grad_fn=<StackBackward0>)\n"
          ]
        }
      ],
      "source": [
        "import torch\n",
        "import torch.nn as nn\n",
        "import numpy as np\n",
        "\n",
        "data = [[[1],[2],[3],[4],[5]],\n",
        "        [[6],[7],[8],[9],[10]],\n",
        "        [[11],[12],[13],[14],[15]],\n",
        "        [[16],[17],[18],[19],[20]]]\n",
        "\n",
        "inputs = torch.FloatTensor(np.array(data))\n",
        "\n",
        "INPUT_SIZE=1\n",
        "SEQUENCE_LENGTH=5\n",
        "HIDDEN_SIZE = 2\n",
        "NUM_LAYERS=1\n",
        "BACTH_SIZE=4\n",
        "\n",
        "torch.manual_seed(0) #reproduclibility\n",
        "model = nn.RNN(input_size= INPUT_SIZE, hidden_size=HIDDEN_SIZE, num_layers=NUM_LAYERS, batch_first = True)\n",
        "#input_size : (batch, seq_len, input_size)\n",
        "#output size : (batch,seq_len, num_directions*hidden_size)\n",
        "#h_n shape : (num_layers * num_directions, batch, hidden_size)\n",
        "output, h_n = model(inputs)\n",
        "\n",
        "print('Input : ', inputs.shape, '\\n', inputs)\n",
        "print('\\noutput : ', output.shape, '\\n', output)\n",
        "print('\\nhidden : ', h_n.shape, '\\n', h_n)"
      ]
    },
    {
      "cell_type": "markdown",
      "source": [
        "- nn.RNN 함수에서 batch_first=True이므로, 형태는 (batch_size, sequence_length, input_size) = (4,5,1)이고, 출력 데이터 형태도 (batch,sequence_length, num_direction *hidden_size) = (4,5,2) / 은닉상태의 형태는 batch_first=True는 지정과 무관하게 (num*layers * num_directions, batch, hidden_size) = (1,4,2)"
      ],
      "metadata": {
        "id": "AirmwtXbfxdh"
      }
    },
    {
      "cell_type": "markdown",
      "source": [
        "- 위는 20개의 데이터를 nn.RNN 클래스에서 원하는 형태에 맞추어 미리 변환한 후 모델 구축에 사용함.\n",
        "\n",
        "- 이번에는 20개의 데이터를 view()함수에 의해 원하는 형태로 변환한 후 RNN 모델을 구축해보자."
      ],
      "metadata": {
        "id": "C3VnlG_Kg_NX"
      }
    },
    {
      "cell_type": "code",
      "source": [
        "import torch\n",
        "import torch.nn as nn\n",
        "import numpy as np\n",
        "\n",
        "data = torch.Tensor([1,2,3,4,5,6,7,8,9,10,11,12,13,14,15,16,17,18,19,20])\n",
        "#print('Data : ', data.shape, '\\n', data)\n",
        "\n",
        "INPUT_SIZE=1\n",
        "SEQUENCE_LENGTH=5\n",
        "HIDDEN_SIZE = 2\n",
        "NUM_LAYERS=1\n",
        "BACTH_SIZE=4\n",
        "\n",
        "torch.manual_seed(0) #reproduclibility\n",
        "model = nn.RNN(input_size= INPUT_SIZE, hidden_size=HIDDEN_SIZE, num_layers=NUM_LAYERS, batch_first = True)\n",
        "#input_size : (batch, seq_len, input_size)\n",
        "input = data.view(BACTH_SIZE,SEQUENCE_LENGTH,INPUT_SIZE)\n",
        "#output size : (batch,seq_len, num_directions*hidden_size)\n",
        "#h_n shape : (num_layers * num_directions, batch, hidden_size)\n",
        "output, h_n = model(input)\n",
        "\n",
        "print('Input : ', input.shape, '\\n', input)\n",
        "print('\\noutput : ', output.shape, '\\n', output)\n",
        "print('\\nhidden : ', h_n.shape, '\\n', h_n)"
      ],
      "metadata": {
        "colab": {
          "base_uri": "https://localhost:8080/"
        },
        "id": "_qU_ACiTZ_-O",
        "outputId": "59397a25-ae6b-4201-b011-62860c237ca9"
      },
      "execution_count": 2,
      "outputs": [
        {
          "output_type": "stream",
          "name": "stdout",
          "text": [
            "Input :  torch.Size([4, 5, 1]) \n",
            " tensor([[[ 1.],\n",
            "         [ 2.],\n",
            "         [ 3.],\n",
            "         [ 4.],\n",
            "         [ 5.]],\n",
            "\n",
            "        [[ 6.],\n",
            "         [ 7.],\n",
            "         [ 8.],\n",
            "         [ 9.],\n",
            "         [10.]],\n",
            "\n",
            "        [[11.],\n",
            "         [12.],\n",
            "         [13.],\n",
            "         [14.],\n",
            "         [15.]],\n",
            "\n",
            "        [[16.],\n",
            "         [17.],\n",
            "         [18.],\n",
            "         [19.],\n",
            "         [20.]]])\n",
            "\n",
            "output :  torch.Size([4, 5, 2]) \n",
            " tensor([[[-0.0819,  0.8100],\n",
            "         [-0.4311,  0.9332],\n",
            "         [-0.3162,  0.9748],\n",
            "         [-0.3979,  0.9875],\n",
            "         [-0.3675,  0.9944]],\n",
            "\n",
            "        [[-0.1081,  0.9953],\n",
            "         [-0.5145,  0.9986],\n",
            "         [-0.3269,  0.9995],\n",
            "         [-0.4254,  0.9997],\n",
            "         [-0.3820,  0.9999]],\n",
            "\n",
            "        [[-0.1342,  0.9999],\n",
            "         [-0.5245,  1.0000],\n",
            "         [-0.3458,  1.0000],\n",
            "         [-0.4382,  1.0000],\n",
            "         [-0.3982,  1.0000]],\n",
            "\n",
            "        [[-0.1601,  1.0000],\n",
            "         [-0.5328,  1.0000],\n",
            "         [-0.3648,  1.0000],\n",
            "         [-0.4506,  1.0000],\n",
            "         [-0.4143,  1.0000]]], grad_fn=<TransposeBackward1>)\n",
            "\n",
            "hidden :  torch.Size([1, 4, 2]) \n",
            " tensor([[[-0.3675,  0.9944],\n",
            "         [-0.3820,  0.9999],\n",
            "         [-0.3982,  1.0000],\n",
            "         [-0.4143,  1.0000]]], grad_fn=<StackBackward0>)\n"
          ]
        }
      ]
    },
    {
      "cell_type": "markdown",
      "source": [
        "- 언어 모델\n",
        "    - 순차적으로 입력된 자료를 바탕으로 다음에 나올 단어(word)나 문자(character)를 예측하는 모델로 자연어 처리나 음성인식 분야에 활용되고 있다.\n",
        "    - 단어(word)를 기반으로 학습하는 단어-레벨 언어 모델(word-level language model) 과 문자(character)를 기반으로 학습하는 문자-레벨 언어 모델(word-level language model)이 있다."
      ],
      "metadata": {
        "id": "wA3yYyw1hcZc"
      }
    },
    {
      "cell_type": "markdown",
      "source": [
        "- epoch이 증가할수록 손실함수 값이 작아지면서 RNN 모델은 목표값을 잘 예측함을 알 수 있다."
      ],
      "metadata": {
        "id": "wSmB44czdMA5"
      }
    },
    {
      "cell_type": "markdown",
      "source": [
        "- hell에 해당되는 숫자 데이터 x_data, 'hell'에 해당되는 원-핫 인코딩 표현 x_one_hot, 그리고 'hell'에 대한 목표값 y_data에 대한 코드"
      ],
      "metadata": {
        "id": "-md3BUfYd3mR"
      }
    },
    {
      "cell_type": "code",
      "source": [
        "x_data=[[0,1,2,2]] #hell\n",
        "#batch_size=1\n",
        "x_one_hot = [[[1,0,0,0], #h\n",
        "             [0,1,0,0],#e\n",
        "             [0,0,1,0], #l\n",
        "             [0,0,1,0]]] #l\n",
        "y_data = [[1,2,2,3]] #ello"
      ],
      "metadata": {
        "id": "Su6JXN-XePa4"
      },
      "execution_count": 3,
      "outputs": []
    },
    {
      "cell_type": "markdown",
      "source": [
        "- nn.RNN 함수에서 인자 결정\n",
        "    - input_size를 정한다. 여기서는 input_size=4\n",
        "    - hidden_size를 정하기 위해서는 nn.RNN함수에서 outputs의 형태를 고려해야한다.\n",
        "    - 출력이 하나는 outputs로 하고 다른 하나는 다음 타임 스텝에서 hidden_state로 들어가기 때문이다."
      ],
      "metadata": {
        "id": "QkzLiqLvej_G"
      }
    },
    {
      "cell_type": "code",
      "source": [
        "char_set = ['h','e','l','o']\n",
        "input_size = len(char_set) #=4\n",
        "hidden_size = len(char_set) #=4\n",
        "num_layers=1"
      ],
      "metadata": {
        "id": "Q2FzOdS6e6Kq"
      },
      "execution_count": 4,
      "outputs": []
    },
    {
      "cell_type": "markdown",
      "source": [
        "- 배열을 텐서로 변환\n"
      ],
      "metadata": {
        "id": "JIKIRsDce-6H"
      }
    },
    {
      "cell_type": "code",
      "source": [
        "#transform as torch tensor\n",
        "inputs = torch.FloatTensor(x_one_hot)\n",
        "labels = torch.LongTensor(y_data)\n",
        "print('입력 데이터의 크기 : {}'.format(inputs.shape))\n",
        "print('레이블의 크기 : {}'.format(labels.shape))"
      ],
      "metadata": {
        "colab": {
          "base_uri": "https://localhost:8080/"
        },
        "id": "ECcSHdOMe9dy",
        "outputId": "91fd2a69-6b84-4872-918c-9e9ecb328a0d"
      },
      "execution_count": 5,
      "outputs": [
        {
          "output_type": "stream",
          "name": "stdout",
          "text": [
            "입력 데이터의 크기 : torch.Size([1, 4, 4])\n",
            "레이블의 크기 : torch.Size([1, 4])\n"
          ]
        }
      ]
    },
    {
      "cell_type": "markdown",
      "source": [
        "- 입력 데이터의 형태는 [1,4,4]는 (batch_size, sequence_length, input_size)이다."
      ],
      "metadata": {
        "id": "NEJWl4R9fULD"
      }
    },
    {
      "cell_type": "markdown",
      "source": [
        "- RNN 모델 생성\n",
        "    - batch_first이면, 입력 데이터의 크기는 (bacth_size, sequence_length, input_size) 순서가 된다."
      ],
      "metadata": {
        "id": "7OgdCV6BfJU5"
      }
    },
    {
      "cell_type": "code",
      "source": [
        "#declare RNN\n",
        "#batch_first gruarantees the order=(batch_size,sequence_length,input_size)\n",
        "rnn = torch.nn.RNN(input_size, hidden_size,num_layers, batch_first=True) #batch_first guarantees the order of ouput = (B, S, F)\n",
        "print(rnn)"
      ],
      "metadata": {
        "colab": {
          "base_uri": "https://localhost:8080/"
        },
        "id": "xWX5HpC8fIYo",
        "outputId": "18ea7f63-e713-40e4-afee-e87ca9042326"
      },
      "execution_count": 6,
      "outputs": [
        {
          "output_type": "stream",
          "name": "stdout",
          "text": [
            "RNN(4, 4, batch_first=True)\n"
          ]
        }
      ]
    },
    {
      "cell_type": "markdown",
      "source": [
        "- 손실함수와 최적화 방법 선택"
      ],
      "metadata": {
        "id": "oLd3X_VOgAkq"
      }
    },
    {
      "cell_type": "code",
      "source": [
        "import torch.optim as optim\n",
        "#loss & optimizer setting\n",
        "loss_function = torch.nn.CrossEntropyLoss()\n",
        "optimizer = optim.Adam(rnn.parameters(), lr=0.1)"
      ],
      "metadata": {
        "id": "Wlko4pf0fIa6"
      },
      "execution_count": 9,
      "outputs": []
    },
    {
      "cell_type": "markdown",
      "source": [
        "- RNN 모델 학습"
      ],
      "metadata": {
        "id": "asVb7xHPgEGJ"
      }
    },
    {
      "cell_type": "code",
      "source": [
        "for i in range(20):\n",
        "  outputs, _ = rnn(inputs)\n",
        "  loss = loss_function(outputs.view(-1, input_size), labels.view(-1))\n",
        "  loss.backward()\n",
        "  optimizer.step()\n",
        "  optimizer.zero_grad()\n",
        "  #print(outputs)\n",
        "  result = outputs.data.numpy().argmax(axis=2)\n",
        "  #print(result)\n",
        "  result_str = ''.join([char_set[c] for c in np.squeeze(result)])\n",
        "  #print(result_str)\n",
        "  print('epoch=',i+1,',', \"loss: \", round(loss.item(),4),',', \"pred: \", result_str)"
      ],
      "metadata": {
        "colab": {
          "base_uri": "https://localhost:8080/"
        },
        "id": "MX_FJr7qfIdB",
        "outputId": "9fd07218-521f-412f-ca53-b24b0c05c4fb"
      },
      "execution_count": 10,
      "outputs": [
        {
          "output_type": "stream",
          "name": "stdout",
          "text": [
            "epoch= 1 , loss:  1.7335 , pred:  hhhh\n",
            "epoch= 2 , loss:  1.3619 , pred:  holl\n",
            "epoch= 3 , loss:  1.1665 , pred:  ooll\n",
            "epoch= 4 , loss:  1.0635 , pred:  olll\n",
            "epoch= 5 , loss:  0.9962 , pred:  olll\n",
            "epoch= 6 , loss:  0.9314 , pred:  ooll\n",
            "epoch= 7 , loss:  0.8608 , pred:  eolo\n",
            "epoch= 8 , loss:  0.7983 , pred:  eolo\n",
            "epoch= 9 , loss:  0.7539 , pred:  eolo\n",
            "epoch= 10 , loss:  0.7072 , pred:  eolo\n",
            "epoch= 11 , loss:  0.6637 , pred:  eolo\n",
            "epoch= 12 , loss:  0.628 , pred:  eolo\n",
            "epoch= 13 , loss:  0.6 , pred:  eolo\n",
            "epoch= 14 , loss:  0.5782 , pred:  eolo\n",
            "epoch= 15 , loss:  0.5607 , pred:  eolo\n",
            "epoch= 16 , loss:  0.5463 , pred:  eolo\n",
            "epoch= 17 , loss:  0.5341 , pred:  eolo\n",
            "epoch= 18 , loss:  0.5238 , pred:  eolo\n",
            "epoch= 19 , loss:  0.5151 , pred:  eolo\n",
            "epoch= 20 , loss:  0.5077 , pred:  eolo\n"
          ]
        }
      ]
    },
    {
      "cell_type": "markdown",
      "source": [
        "\n",
        "\n",
        "```\n",
        "loss = loss_function(outputs.view(-1, input_size).labels.view(-1)\n",
        "```\n",
        "\n",
        "- nn.CrossEntropyLoss()함수를 사용하여 손실함수를 계산하는 경우 nn.CrossEntropyLoss()함수는 2개의 텐서 인자를 받는다.\n",
        "\n",
        "- 하나는 예측된 output값이고 다른 하나는 목표값이다. (인자들의 데이터 형태에 주의해야 한다, 그 이유는 데이터 형태가 서로 맞지 않은 경우 오류가 발생하기 때문이다.)\n",
        "\n",
        "- 현재 outputs.view(-1,input_size)의 형태는 [4,4]이고 y.view(-1)의 형태는 [4]이다. 이처럼 nn.CrossEntropyLoss()함수의 인자로서 outputs.view(-1, input_size)의 형태가 [4,?]인 경우 y.view(-1)의 형태는 [4]가 되어야 한다.\n",
        "\n"
      ],
      "metadata": {
        "id": "Upxm4B7hgmks"
      }
    },
    {
      "cell_type": "code",
      "source": [
        "#declare RNN\n",
        "#batch_first gruarantees the order=(batch_size,sequence_length,input_size)\n",
        "rnn = torch.nn.RNN(input_size, hidden_size,num_layers, batch_first=True) #batch_first guarantees the order of ouput = (B, S, F)\n",
        "outputs, _ = rnn(inputs)\n",
        "print(outputs.view(-1, input_size).shape)\n",
        "print(labels.view(-1).shape)\n",
        "\n",
        "#loss = loss_function(outputs.view(-1, input_size),label_view(-1))"
      ],
      "metadata": {
        "colab": {
          "base_uri": "https://localhost:8080/"
        },
        "id": "j9Mu0ucyfIfO",
        "outputId": "c945b6a5-0726-491f-80ba-c2a9082fe805"
      },
      "execution_count": 11,
      "outputs": [
        {
          "output_type": "stream",
          "name": "stdout",
          "text": [
            "torch.Size([4, 4])\n",
            "torch.Size([4])\n"
          ]
        }
      ]
    },
    {
      "cell_type": "markdown",
      "source": [
        "\n",
        "\n",
        "```\n",
        "result = outputs.data.numpy().argmax(axis=2)\n",
        "\n",
        "```\n",
        "- 최댓값이 있는 인덱스를 구하는 함수.\n",
        "    - 2차원 배열인 경우 axis=0이면 열, axis=1이면 행을 기준으로 계산.\n",
        "    - 3차원 배열인 경우 axis=1이면 열, axis=2이면 행을 기준으로 계산한다.\n",
        "    \n"
      ],
      "metadata": {
        "id": "JEWLaw81iEk2"
      }
    },
    {
      "cell_type": "code",
      "source": [
        "print(outputs)\n",
        "result = outputs.data.numpy().argmax(axis=2)\n",
        "print(result)"
      ],
      "metadata": {
        "colab": {
          "base_uri": "https://localhost:8080/"
        },
        "id": "K4xhbNwDh8_n",
        "outputId": "daf6b835-ca60-4908-d621-ba7e0eac9033"
      },
      "execution_count": 12,
      "outputs": [
        {
          "output_type": "stream",
          "name": "stdout",
          "text": [
            "tensor([[[ 0.5495, -0.3734, -0.0606, -0.5893],\n",
            "         [ 0.4305, -0.8899,  0.3382, -0.3102],\n",
            "         [ 0.3430, -0.6039,  0.4425, -0.1028],\n",
            "         [ 0.4783, -0.5452,  0.4491, -0.1519]]], grad_fn=<TransposeBackward1>)\n",
            "[[0 0 2 0]]\n"
          ]
        }
      ]
    },
    {
      "cell_type": "markdown",
      "source": [
        "- numpy.argmax()함수와 유사한 numpy.max()함수가 있다. 사용 예를 한번 봐보자."
      ],
      "metadata": {
        "id": "Vn7l3WYljT4w"
      }
    },
    {
      "cell_type": "code",
      "source": [
        "import numpy as np\n",
        "\n",
        "arr = np.array([[1,2,3,4],[4,5,6,7],[7,8,9,10]])\n",
        "print('array=\\n', arr)\n",
        "print('dimension',arr.ndim)\n",
        "print('argmax:', arr.argmax(axis=1))\n",
        "print('max:',arr.max(axis=1))"
      ],
      "metadata": {
        "colab": {
          "base_uri": "https://localhost:8080/"
        },
        "id": "CxWL0zWkh9B5",
        "outputId": "5e0192aa-2bc7-4105-8baf-82ff45a59737"
      },
      "execution_count": 13,
      "outputs": [
        {
          "output_type": "stream",
          "name": "stdout",
          "text": [
            "array=\n",
            " [[ 1  2  3  4]\n",
            " [ 4  5  6  7]\n",
            " [ 7  8  9 10]]\n",
            "dimension 2\n",
            "argmax: [3 3 3]\n",
            "max: [ 4  7 10]\n"
          ]
        }
      ]
    },
    {
      "cell_type": "markdown",
      "source": [
        "- 3차원 배열에서 numpy.argmax()함수와 numpy.max()함수의 사용 예"
      ],
      "metadata": {
        "id": "_L5t74mFj9wz"
      }
    },
    {
      "cell_type": "code",
      "source": [
        "import numpy as np\n",
        "\n",
        "import numpy as np\n",
        "\n",
        "arr = np.array([[[1,2,3,4],[4,5,6,7],[7,8,9,10]]])\n",
        "print('array=\\n', arr)\n",
        "print('dimension',arr.ndim)\n",
        "print('argmax:', arr.argmax(axis=2))\n",
        "print('max:',arr.max(axis=2))"
      ],
      "metadata": {
        "colab": {
          "base_uri": "https://localhost:8080/"
        },
        "id": "n4nIE6UJh9F9",
        "outputId": "6679ccb6-9e0b-45f6-e6bf-2833bdb3f7e6"
      },
      "execution_count": 14,
      "outputs": [
        {
          "output_type": "stream",
          "name": "stdout",
          "text": [
            "array=\n",
            " [[[ 1  2  3  4]\n",
            "  [ 4  5  6  7]\n",
            "  [ 7  8  9 10]]]\n",
            "dimension 3\n",
            "argmax: [[3 3 3]]\n",
            "max: [[ 4  7 10]]\n"
          ]
        }
      ]
    },
    {
      "cell_type": "code",
      "source": [
        "print(result)\n",
        "print(np.squeeze(result))\n",
        "print([char_set[c] for c in np.squeeze(result)])\n",
        "result_str = ''.join([char_set[c] for c in np.squeeze(result)])\n",
        "print(result_str)"
      ],
      "metadata": {
        "colab": {
          "base_uri": "https://localhost:8080/"
        },
        "id": "Yl-OlWXGh9Ib",
        "outputId": "b40fbd75-2656-49da-cc29-adfbd5addf2e"
      },
      "execution_count": 15,
      "outputs": [
        {
          "output_type": "stream",
          "name": "stdout",
          "text": [
            "[[0 0 2 0]]\n",
            "[0 0 2 0]\n",
            "['h', 'h', 'l', 'h']\n",
            "hhlh\n"
          ]
        }
      ]
    },
    {
      "cell_type": "code",
      "source": [
        "#word level language model\n",
        "import torch\n",
        "import numpy as np\n",
        "import torch.optim as optim\n",
        "\n",
        "torch.manual_seed(0) #reproduclibility\n",
        "\n",
        "char_set = ['h','e','l','o']\n",
        "input_size = len(char_set) #=4\n",
        "hidden_size = len(char_set) #=4\n",
        "num_layers=1\n",
        "\n",
        "x_data=[[0,1,2,2]] #hell\n",
        "#batch_size=1\n",
        "x_one_hot = [[[1,0,0,0], #h\n",
        "             [0,1,0,0],#e\n",
        "             [0,0,1,0], #l\n",
        "             [0,0,1,0]]] #l\n",
        "y_data = [[1,2,2,3]] #ello\n",
        "\n",
        "#transform as torch tensor\n",
        "inputs = torch.FloatTensor(x_one_hot)\n",
        "labels = torch.LongTensor(y_data)\n",
        "print('입력 데이터의 크기 : {}'.format(inputs.shape))\n",
        "print('레이블의 크기 : {}'.format(labels.shape))\n",
        "\n",
        "#declare RNN\n",
        "#batch_first gruarantees the order=(batch_size,sequence_length,input_size)\n",
        "rnn = torch.nn.RNN(input_size, hidden_size, batch_first=True) #batch_first guarantees the order of ouput = (B, S, F)\n",
        "\n",
        "#loss & optimizer setting\n",
        "criterion = torch.nn.CrossEntropyLoss()\n",
        "optimizer = optim.Adam(rnn.parameters(), lr=0.1)\n",
        "\n",
        "#start training\n",
        "\n",
        "for i in range(20):\n",
        "  outputs, _ = rnn(inputs)\n",
        "  loss = criterion(outputs.view(-1, input_size), labels.view(-1))\n",
        "  loss.backward()\n",
        "  optimizer.step()\n",
        "  optimizer.zero_grad()\n",
        "  #print(outputs)\n",
        "  result = outputs.data.numpy().argmax(axis=2)\n",
        "  #print(result)\n",
        "  result_str = ''.join([char_set[c] for c in np.squeeze(result)])\n",
        "  #print(result_str)\n",
        "  print('epoch=',i+1,',', \"loss: \", round(loss.item(),4),',', \"pred: \", result_str)"
      ],
      "metadata": {
        "colab": {
          "base_uri": "https://localhost:8080/"
        },
        "id": "8NfAjJifhPzH",
        "outputId": "d7d62aba-619c-43c7-bd61-5d6d760ffaf0"
      },
      "execution_count": 18,
      "outputs": [
        {
          "output_type": "stream",
          "name": "stdout",
          "text": [
            "입력 데이터의 크기 : torch.Size([1, 4, 4])\n",
            "레이블의 크기 : torch.Size([1, 4])\n",
            "epoch= 1 , loss:  1.1658 , pred:  elll\n",
            "epoch= 2 , loss:  0.9308 , pred:  llll\n",
            "epoch= 3 , loss:  0.816 , pred:  lllo\n",
            "epoch= 4 , loss:  0.7669 , pred:  lloo\n",
            "epoch= 5 , loss:  0.7018 , pred:  lllo\n",
            "epoch= 6 , loss:  0.6431 , pred:  ello\n",
            "epoch= 7 , loss:  0.5951 , pred:  ello\n",
            "epoch= 8 , loss:  0.5559 , pred:  ello\n",
            "epoch= 9 , loss:  0.5248 , pred:  ello\n",
            "epoch= 10 , loss:  0.5012 , pred:  ello\n",
            "epoch= 11 , loss:  0.4836 , pred:  ello\n",
            "epoch= 12 , loss:  0.469 , pred:  ello\n",
            "epoch= 13 , loss:  0.4572 , pred:  ello\n",
            "epoch= 14 , loss:  0.4503 , pred:  ello\n",
            "epoch= 15 , loss:  0.4463 , pred:  ello\n",
            "epoch= 16 , loss:  0.4414 , pred:  ello\n",
            "epoch= 17 , loss:  0.437 , pred:  ello\n",
            "epoch= 18 , loss:  0.4338 , pred:  ello\n",
            "epoch= 19 , loss:  0.4284 , pred:  ello\n",
            "epoch= 20 , loss:  0.4232 , pred:  ello\n"
          ]
        }
      ]
    },
    {
      "cell_type": "code",
      "source": [
        "#word level language model\n",
        "import torch\n",
        "import numpy as np\n",
        "import torch.optim as optim\n",
        "\n",
        "torch.manual_seed(0) #reproduclibility\n",
        "\n",
        "#hyperparameters\n",
        "learning_rate=0.1\n",
        "num_epochs=20\n",
        "\n",
        "char_set = ['h','e','l','o']\n",
        "\n",
        "#Teach hello:hell->ello\n",
        "x_data=[[0,1,2,2]] #hell\n",
        "#batch_size=1\n",
        "x_one_hot = [[[1,0,0,0], #h\n",
        "             [0,1,0,0],#e\n",
        "             [0,0,1,0], #l\n",
        "             [0,0,1,0]]] #l\n",
        "y_data = [[1,2,2,3]] #ello\n",
        "\n",
        "#As we have one batch of samples, we will change them to variabels only once\n",
        "inputs = torch.Tensor(x_one_hot)\n",
        "labels = torch.LongTensor(y_data)\n",
        "num_classes = 4\n",
        "input_size=4 #one-hot size\n",
        "hidden_size=4 #output from the RNN. 4 to directly predict one-hot\n",
        "num_layers = 1\n",
        "\n",
        "\n",
        "class RNN(nn.Module):\n",
        "    def __init__(self, num_classes, input_size, hidden_size, num_layers):\n",
        "        super(RNN,self).__init__()\n",
        "        self.num_classes = num_classes\n",
        "        self.input_size  = input_size\n",
        "        self.hidden_size = hidden_size\n",
        "        self.rnn = nn.RNN(input_size = input_size, hidden_size = hidden_size, num_layers=num_layers, batch_first=True)\n",
        "        self.fc = nn.Linear(hidden_size,num_classes)\n",
        "    def forward(self,x):\n",
        "        out, _ = self.rnn(x)\n",
        "        #Reshape output from (bacth, seq_len, hidden_size) to (batch*seq_len, hidden_size)\n",
        "        out = out.view(-1, self.hidden_size)\n",
        "        #Return outputs applied to fully connected layer\n",
        "        out = self.fc(out)\n",
        "        return out\n",
        "\n",
        "\n",
        "#Instantiate RNN Model\n",
        "rnn = RNN(num_classes, input_size, hidden_size, num_layers)\n",
        "#Set loss & optimizer  function\n",
        "loss_function = torch.nn.CrossEntropyLoss() #Softmax is internally computed.\n",
        "optimizer = optim.Adam(rnn.parameters(), lr=learning_rate)\n",
        "\n",
        "#Tran the model\n",
        "for epoch in range(num_epochs):\n",
        "  outputs = rnn(inputs)\n",
        "  loss = loss_function(outputs, labels.view(-1))\n",
        "  loss.backward()\n",
        "  optimizer.step()\n",
        "  optimizer.zero_grad()\n",
        "  result = outputs.data.numpy().argmax(axis=1)\n",
        "  result_str = ''.join([char_set[c] for c in np.squeeze(result)])\n",
        "  print('epoch=',epoch+1,',', \"loss: \", round(loss.item(),4),',', \"pred =  \", ''.join(result_str)) #ello"
      ],
      "metadata": {
        "colab": {
          "base_uri": "https://localhost:8080/"
        },
        "id": "MnsO5yN1pmVi",
        "outputId": "34508b4b-eb5e-49ca-cd23-a9a90c3825d7"
      },
      "execution_count": 19,
      "outputs": [
        {
          "output_type": "stream",
          "name": "stdout",
          "text": [
            "epoch= 1 , loss:  1.688 , pred =   hhhh\n",
            "epoch= 2 , loss:  1.3476 , pred =   hlll\n",
            "epoch= 3 , loss:  1.1333 , pred =   llll\n",
            "epoch= 4 , loss:  1.0257 , pred =   llll\n",
            "epoch= 5 , loss:  0.9769 , pred =   llll\n",
            "epoch= 6 , loss:  0.931 , pred =   llll\n",
            "epoch= 7 , loss:  0.8573 , pred =   llll\n",
            "epoch= 8 , loss:  0.7595 , pred =   elll\n",
            "epoch= 9 , loss:  0.6604 , pred =   elll\n",
            "epoch= 10 , loss:  0.5792 , pred =   elll\n",
            "epoch= 11 , loss:  0.5104 , pred =   elll\n",
            "epoch= 12 , loss:  0.4391 , pred =   ello\n",
            "epoch= 13 , loss:  0.3983 , pred =   ello\n",
            "epoch= 14 , loss:  0.3603 , pred =   ello\n",
            "epoch= 15 , loss:  0.3088 , pred =   ello\n",
            "epoch= 16 , loss:  0.2781 , pred =   ello\n",
            "epoch= 17 , loss:  0.2522 , pred =   ello\n",
            "epoch= 18 , loss:  0.2101 , pred =   ello\n",
            "epoch= 19 , loss:  0.1761 , pred =   ello\n",
            "epoch= 20 , loss:  0.146 , pred =   ello\n"
          ]
        }
      ]
    },
    {
      "cell_type": "code",
      "source": [
        "#word level language model\n",
        "import torch\n",
        "import numpy as np\n",
        "import torch.nn as nn\n",
        "import torch.optim as optim\n",
        "\n",
        "device = torch.device('cuda' if torch.cuda.is_available() else 'cpu')\n",
        "print('Device', device)\n",
        "\n",
        "torch.manual_seed(0) #reproduclibility\n",
        "\n",
        "#hyperparameters\n",
        "learning_rate=0.1\n",
        "num_epochs=20\n",
        "\n",
        "input_str = 'hell'\n",
        "label_str = 'ello'\n",
        "\n",
        "char_set = list(set(input_str+label_str))\n",
        "#print(char_set)\n",
        "#char_set = ['h','e','l','o']\n",
        "\n",
        "input_size = len(char_set) # RNN input size(one hot size)\n",
        "hidden_size = len(char_set) # RNN Output size\n",
        "num_classes = len(char_set) # final output size (RNN or softamx, etc.)\n",
        "num_layers = 1\n",
        "#batch_size = 1 #one sentence\n",
        "\n",
        "char_to_index = dict((c,i) for i,c in enumerate(char_set)) #문자에 고유한 정수 인덱스 부여\n",
        "#print(char_to_index)\n",
        "\n",
        "#1차원 리스트\n",
        "\n",
        "x_data = [char_to_index[c] for c in input_str]\n",
        "y_data = [char_to_index[c] for c in label_str]\n",
        "#print(x_data)\n",
        "#print(y_data)\n",
        "\n",
        "#2차원 리스트\n",
        "#텐서 연산인 unsqueeze(0)을 통해 해결할 수도 있었음.\n",
        "x_data = [x_data]\n",
        "y_data = [y_data]\n",
        "#print(x_data)\n",
        "#print(y_data)\n",
        "\n",
        "for x in x_data:\n",
        "    x_one_hot = [np.eye(input_size)[x]]\n",
        "#print(x_one_hot)\n",
        "#As we have one batch of samples, we will change them the variables only once\n",
        "inputs = torch.Tensor(x_one_hot)\n",
        "labels = torch.LongTensor(y_data)\n",
        "inputs = inputs.to(device)\n",
        "labels = labels.to(device)\n",
        "\n",
        "class RNN(nn.Module):\n",
        "    def __init__(self, num_classes, input_size, hidden_size, num_layers):\n",
        "        super(RNN,self).__init__()\n",
        "        self.num_classes = num_classes\n",
        "        self.input_size  = input_size\n",
        "        self.hidden_size = hidden_size\n",
        "        self.rnn = nn.RNN(input_size = input_size, hidden_size = hidden_size, num_layers=num_layers, batch_first=True)\n",
        "        self.fc = nn.Linear(hidden_size,num_classes)\n",
        "    def forward(self,x):\n",
        "        out, _ = self.rnn(x)\n",
        "        #Reshape output from (bacth, seq_len, hidden_size) to (batch*seq_len, hidden_size)\n",
        "        out = out.view(-1, self.hidden_size)\n",
        "        #Return outputs applied to fully connected layer\n",
        "        out = self.fc(out)\n",
        "        return out\n",
        "#Instantiate RNN Model\n",
        "rnn = RNN(num_classes, input_size, hidden_size, num_layers).to(device)\n",
        "#Set loss & optimizer  function\n",
        "loss_function = torch.nn.CrossEntropyLoss() #Softmax is internally computed.\n",
        "optimizer = optim.Adam(rnn.parameters(), lr=learning_rate)\n",
        "\n",
        "#Tran the model\n",
        "for epoch in range(num_epochs):\n",
        "  outputs = rnn(inputs)\n",
        "  loss = loss_function(outputs, labels.view(-1))\n",
        "  loss.backward()\n",
        "  optimizer.step()\n",
        "  optimizer.zero_grad()\n",
        "  result = outputs.cpu().data.numpy().argmax(axis=1)\n",
        "  result_str = ''.join([char_set[c] for c in np.squeeze(result)])\n",
        "  print('epoch=',epoch+1,',', \"loss: \", round(loss.item(),4),',', \"pred =  \", ''.join(result_str)) #ello"
      ],
      "metadata": {
        "colab": {
          "base_uri": "https://localhost:8080/"
        },
        "id": "7I0dCB8W844F",
        "outputId": "5d993b60-784b-45bd-f941-61c1ab6ed70c"
      },
      "execution_count": 24,
      "outputs": [
        {
          "output_type": "stream",
          "name": "stdout",
          "text": [
            "Device cuda\n",
            "epoch= 1 , loss:  1.5918 , pred =   hhhh\n",
            "epoch= 2 , loss:  1.3025 , pred =   lllo\n",
            "epoch= 3 , loss:  1.0968 , pred =   lllo\n",
            "epoch= 4 , loss:  0.9535 , pred =   llll\n",
            "epoch= 5 , loss:  0.8296 , pred =   lllo\n",
            "epoch= 6 , loss:  0.7136 , pred =   lllo\n",
            "epoch= 7 , loss:  0.5841 , pred =   lllo\n",
            "epoch= 8 , loss:  0.4818 , pred =   ello\n",
            "epoch= 9 , loss:  0.379 , pred =   ello\n",
            "epoch= 10 , loss:  0.3062 , pred =   ello\n",
            "epoch= 11 , loss:  0.2396 , pred =   ello\n",
            "epoch= 12 , loss:  0.1799 , pred =   ello\n",
            "epoch= 13 , loss:  0.1348 , pred =   ello\n",
            "epoch= 14 , loss:  0.1039 , pred =   ello\n",
            "epoch= 15 , loss:  0.0822 , pred =   ello\n",
            "epoch= 16 , loss:  0.0657 , pred =   ello\n",
            "epoch= 17 , loss:  0.0524 , pred =   ello\n",
            "epoch= 18 , loss:  0.0421 , pred =   ello\n",
            "epoch= 19 , loss:  0.0341 , pred =   ello\n",
            "epoch= 20 , loss:  0.0281 , pred =   ello\n"
          ]
        }
      ]
    },
    {
      "cell_type": "markdown",
      "source": [
        "- Airline Passengers\n",
        "    - 1949년 1월부터 1960년 1`2월까지 매달 국제선 승객의 수에 대한 데이터."
      ],
      "metadata": {
        "id": "wpHxE9oSAXwe"
      }
    },
    {
      "cell_type": "code",
      "source": [
        "#load data\n",
        "!wget https://raw.githubusercontent.com/jbrownlee/Datasets/master/airline-passengers.csv"
      ],
      "metadata": {
        "colab": {
          "base_uri": "https://localhost:8080/"
        },
        "id": "NDDFrBWY_EVC",
        "outputId": "9dda1cf8-9959-47a5-ac22-0c2658e8a582"
      },
      "execution_count": 25,
      "outputs": [
        {
          "output_type": "stream",
          "name": "stdout",
          "text": [
            "--2025-04-28 10:18:08--  https://raw.githubusercontent.com/jbrownlee/Datasets/master/airline-passengers.csv\n",
            "Resolving raw.githubusercontent.com (raw.githubusercontent.com)... 185.199.108.133, 185.199.109.133, 185.199.110.133, ...\n",
            "Connecting to raw.githubusercontent.com (raw.githubusercontent.com)|185.199.108.133|:443... connected.\n",
            "HTTP request sent, awaiting response... 200 OK\n",
            "Length: 2180 (2.1K) [text/plain]\n",
            "Saving to: ‘airline-passengers.csv’\n",
            "\n",
            "\rairline-passengers.   0%[                    ]       0  --.-KB/s               \rairline-passengers. 100%[===================>]   2.13K  --.-KB/s    in 0s      \n",
            "\n",
            "2025-04-28 10:18:08 (38.2 MB/s) - ‘airline-passengers.csv’ saved [2180/2180]\n",
            "\n"
          ]
        }
      ]
    },
    {
      "cell_type": "code",
      "source": [
        "#load package\n",
        "import numpy as np\n",
        "import matplotlib.pyplot as plt\n",
        "import pandas as pd\n",
        "import torch\n",
        "import torch.nn as nn\n",
        "from torch.autograd import Variable\n",
        "from sklearn.preprocessing import MinMaxScaler"
      ],
      "metadata": {
        "id": "yMKb5VUB_bNK"
      },
      "execution_count": 26,
      "outputs": []
    },
    {
      "cell_type": "markdown",
      "source": [
        "- Data"
      ],
      "metadata": {
        "id": "GbnbZKMQAmOX"
      }
    },
    {
      "cell_type": "code",
      "source": [
        "training_set = pd.read_csv('airline-passengers.csv')\n",
        "\n",
        "training_set = training_set.iloc[:,1:2].values\n",
        "\n",
        "plt.xlabel('month')\n",
        "plt.ylabel('number of passengers (1000s)')\n",
        "plt.plot(training_set)\n",
        "plt.show()"
      ],
      "metadata": {
        "colab": {
          "base_uri": "https://localhost:8080/",
          "height": 449
        },
        "id": "YndoWZ75_ejE",
        "outputId": "50743059-2085-4de2-a2ba-e774e3d68f9a"
      },
      "execution_count": 27,
      "outputs": [
        {
          "output_type": "display_data",
          "data": {
            "text/plain": [
              "<Figure size 640x480 with 1 Axes>"
            ],
            "image/png": "[encoded data removed]"
          },
          "metadata": {}
        }
      ]
    },
    {
      "cell_type": "markdown",
      "source": [
        "- 시계열 데이터이므로 몇 개의 타임스텝을 현재 시점에 반영할 것 인지 정합니다.\n",
        "\n",
        "- 즉, 현재 시점의 값은 지정한 시퀀스 길이에 맞게 직전 몇 개의 값과 연관되게끔 데이터를 재구성하는 것."
      ],
      "metadata": {
        "id": "VHa8BRzWApIE"
      }
    },
    {
      "cell_type": "code",
      "source": [
        "def sliding_windows(data, seq_length):\n",
        "    x = []\n",
        "    y = []\n",
        "\n",
        "    for i in range(len(data)-seq_length-1):\n",
        "        _x = data[i:(i+seq_length)]\n",
        "        _y = data[i+seq_length]\n",
        "        x.append(_x)\n",
        "        y.append(_y)\n",
        "\n",
        "    return np.array(x),np.array(y)\n",
        "\n",
        "sc = MinMaxScaler()\n",
        "training_data = sc.fit_transform(training_set)\n",
        "\n",
        "seq_length = 4\n",
        "x, y = sliding_windows(training_data, seq_length)\n",
        "\n",
        "train_size = int(len(y) * 0.30)\n",
        "test_size = len(y) - train_size\n",
        "\n",
        "dataX = Variable(torch.Tensor(np.array(x)))\n",
        "dataY = Variable(torch.Tensor(np.array(y)))\n",
        "\n",
        "trainX = Variable(torch.Tensor(np.array(x[0:train_size])))\n",
        "trainY = Variable(torch.Tensor(np.array(y[0:train_size])))\n",
        "\n",
        "testX = Variable(torch.Tensor(np.array(x[train_size:len(x)])))\n",
        "testY = Variable(torch.Tensor(np.array(y[train_size:len(y)])))\n",
        "\n",
        "print(training_data.shape)\n",
        "print(dataX.shape)\n",
        "print(dataY.shape)\n",
        "print(trainX.shape)\n",
        "print(trainY.shape)"
      ],
      "metadata": {
        "colab": {
          "base_uri": "https://localhost:8080/"
        },
        "id": "sxm0UhUW_gpT",
        "outputId": "869e5086-0ac3-4bca-f3c4-510e9e02aaae"
      },
      "execution_count": 28,
      "outputs": [
        {
          "output_type": "stream",
          "name": "stdout",
          "text": [
            "(144, 1)\n",
            "torch.Size([139, 4, 1])\n",
            "torch.Size([139, 1])\n",
            "torch.Size([41, 4, 1])\n",
            "torch.Size([41, 1])\n"
          ]
        }
      ]
    },
    {
      "cell_type": "markdown",
      "source": [
        "### Model\n",
        "\n",
        "이제는 시계열 데이터 모델링을 위한 LSTM 모델을 구현해줄 차례입니다. LSTM (Long Short-Term Memory) 는 입력 시퀀스의 타임 스텝 $t$에 따라 hidden state $h_t$, cell state $c_t$에 따른 출력을 Equation 1과 같이 계산합니다. Equation 1의 $i_t, f_t, g_t, o_t$는 각각 input, forget, cell, output 게이트이며 $\\sigma$는 sigmoid 함수를 말합니다.\n",
        "\n",
        "\n",
        "<img src='https://www.researchgate.net/profile/Savvas-Varsamopoulos/publication/329362532/figure/fig5/AS:699592479870977@1543807253596/Structure-of-the-LSTM-cell-and-equations-that-describe-the-gates-of-an-LSTM-cell_W640.jpg'>"
      ],
      "metadata": {
        "id": "LF469EGLEluP"
      }
    },
    {
      "cell_type": "markdown",
      "source": [
        "Pytorch 에서는 torch.nn 모듈에서 LSTM 클래스를 쉽게 호출할 수 있습니다. LSTM 클래스 생성시 필요한 파라미터는 다음과 같습니다. \"num_layer\" 아규먼트를 통해 Multi-layer LSTM을 쉽게 구성할 수 있으며 \"num_layer\"가 2 이상일 경우, 타임스텝 $t$, layer $l$에 대한 입력으로는 ($x_t^l, l \\geq 2$) $h_t^{l-1}$에 dropout이 적용된 텐서가 적용됩니다."
      ],
      "metadata": {
        "id": "NXwe8LfHE7QP"
      }
    },
    {
      "cell_type": "markdown",
      "source": [
        "- input_size : 입력 $x$의 feature차원\n",
        "- hidden_size : hidden_feature 차원\n",
        "- num_layers : LSTM 층의 개수로 2개 이상일 경우 bais항을 추가할지 말지를 결정.\n",
        "- bias : default : True / bais 항을 추가할지 말지를 결정.\n",
        "- batch_frist : default : False, True일 경우 입력, 출력 모두 [배치사이즈, 입력 길이, feature 차원] 으로 구성되고 fasle일 경우 입력, 출력 모두 [입력 길이, 배치 사이즈, feature 차원]이 됨. 이러한 텐서 차원 순서는 hidden/cell state에는 적용되지 않습니다.\n",
        "\n",
        "- dropout : 마지막 layer의 출력을 제외하고 dropout을 적용함."
      ],
      "metadata": {
        "id": "WDvsgu-HE9_E"
      }
    },
    {
      "cell_type": "markdown",
      "source": [
        "LSTM 모델을 사용할 때 주의할 점은 각 타임스텝 별로 hidden / cell state 가 업데이트되는 구조로 동작하기 때문에 초기 $h_0, c_0$를 목적에 맞게 선언해줄 수 있다는 점입니다 각각 [$D$*num_layers, 배치 사이즈, feature 차원] 크기로 되어있고 $D$는 bi-directional 일 경우 2, one-directional 일 경우 1이고 따로 제공되지 않을 경우 디폴트는 0으로 할당됩니다. 또한, 입력, 출력의 텐서 구조는 \"batch_first\" 아규먼트가 True / False 여부에 따라 배치 차원이 어디에 위치할지 결정됩니다. 일반적으로 배치 차원은 맨 앞에 있는 것이 편리하므로 \"batch_first=True\"로 설정하는 것이 낫습니다."
      ],
      "metadata": {
        "id": "w1ak0-VAFify"
      }
    },
    {
      "cell_type": "markdown",
      "source": [
        "LSTM 모델에 대해서 forward 함수를 진행할 경우 출력은 \"output, $(h_n, c_n)$\" 이 됩니다. 출력텐서는 (\"output\") \"batch_first\" 아규먼트에 따라 True일 경우 [배치 사이즈, 입력 길이, $D$*feature 차원] 으로 구성되며 각 타임스텝 $t$에 따른 마지막 LSTM layer의 $h_t$를 담습니다. $h_n, c_n$의 크기는 [$D$*num_layers, 배치 사이즈, feature 차원] 으로 구성되며 마지막 타임스텝의 hidden / cell state가 담깁니다"
      ],
      "metadata": {
        "id": "gQ28VbwNFkVQ"
      }
    },
    {
      "cell_type": "code",
      "source": [
        "class LSTM(nn.Module):\n",
        "\n",
        "    def __init__(self, num_classes, input_size, hidden_size, num_layers):\n",
        "        super(LSTM, self).__init__()\n",
        "\n",
        "        self.num_classes = num_classes\n",
        "        self.num_layers = num_layers\n",
        "        self.input_size = input_size\n",
        "        self.hidden_size = hidden_size\n",
        "        self.seq_length = seq_length\n",
        "\n",
        "        self.lstm = nn.LSTM(input_size=input_size, hidden_size=hidden_size,\n",
        "                            num_layers=num_layers, batch_first=True)\n",
        "\n",
        "        self.fc = nn.Linear(hidden_size, num_classes)\n",
        "\n",
        "    def forward(self, x):\n",
        "        h_0 = Variable(torch.zeros(\n",
        "            self.num_layers, x.size(0), self.hidden_size))\n",
        "\n",
        "        c_0 = Variable(torch.zeros(\n",
        "            self.num_layers, x.size(0), self.hidden_size))\n",
        "\n",
        "        # Propagate input through LSTM\n",
        "        ula, (h_out, _) = self.lstm(x, (h_0, c_0))\n",
        "\n",
        "        h_out = h_out.view(-1, self.hidden_size)\n",
        "\n",
        "        out = self.fc(h_out)\n",
        "\n",
        "        return out"
      ],
      "metadata": {
        "id": "PAWhp2zS_jGb"
      },
      "execution_count": 29,
      "outputs": []
    },
    {
      "cell_type": "markdown",
      "source": [
        "- $h_0, c_0$는 hidden / cell state의 초기값이기 때문에 requires_grad=False로 설정된 zero 텐서를 넣어줍니다.\n",
        "- 현재 시퀀스 길이는 4이고 마지막 시퀀스에 대해 fully-connected layer를 달아주고 싶기 때문에 $h_n$에 대하여 fully-connected layer를 진행시킵니다.\n",
        "LSTM 모델의 결과로 나오는 \"output\"의 마지막 타임스텝 값은 $h_n$과 같습니다."
      ],
      "metadata": {
        "id": "UOWzQjtcFrDr"
      }
    },
    {
      "cell_type": "markdown",
      "source": [
        "#### Train"
      ],
      "metadata": {
        "id": "rlucDaDxFt6g"
      }
    },
    {
      "cell_type": "code",
      "source": [
        "num_epochs = 2000\n",
        "learning_rate = 0.01\n",
        "\n",
        "input_size = 1\n",
        "hidden_size = 2\n",
        "num_layers = 1\n",
        "\n",
        "num_classes = 1\n",
        "\n",
        "lstm = LSTM(num_classes, input_size, hidden_size, num_layers)\n",
        "\n",
        "criterion = torch.nn.MSELoss()    # mean-squared error for regression\n",
        "optimizer = torch.optim.Adam(lstm.parameters(), lr=learning_rate)\n",
        "\n",
        "# Train the model\n",
        "for epoch in range(num_epochs):\n",
        "    outputs = lstm(trainX)\n",
        "    optimizer.zero_grad()\n",
        "\n",
        "    # obtain the loss function\n",
        "    loss = criterion(outputs, trainY)\n",
        "\n",
        "    loss.backward()\n",
        "\n",
        "    optimizer.step()\n",
        "    if epoch % 100 == 0:\n",
        "      print(\"Epoch: %d, loss: %1.5f\" % (epoch, loss.item()))\n",
        "\n"
      ],
      "metadata": {
        "colab": {
          "base_uri": "https://localhost:8080/"
        },
        "id": "l_ojB7mZ_k_5",
        "outputId": "7616a95e-193f-4414-f368-453ab9d30368"
      },
      "execution_count": 30,
      "outputs": [
        {
          "output_type": "stream",
          "name": "stdout",
          "text": [
            "Epoch: 0, loss: 0.10901\n",
            "Epoch: 100, loss: 0.00304\n",
            "Epoch: 200, loss: 0.00215\n",
            "Epoch: 300, loss: 0.00123\n",
            "Epoch: 400, loss: 0.00105\n",
            "Epoch: 500, loss: 0.00102\n",
            "Epoch: 600, loss: 0.00100\n",
            "Epoch: 700, loss: 0.00097\n",
            "Epoch: 800, loss: 0.00094\n",
            "Epoch: 900, loss: 0.00091\n",
            "Epoch: 1000, loss: 0.00088\n",
            "Epoch: 1100, loss: 0.00086\n",
            "Epoch: 1200, loss: 0.00085\n",
            "Epoch: 1300, loss: 0.00084\n",
            "Epoch: 1400, loss: 0.00084\n",
            "Epoch: 1500, loss: 0.00084\n",
            "Epoch: 1600, loss: 0.00083\n",
            "Epoch: 1700, loss: 0.00083\n",
            "Epoch: 1800, loss: 0.00083\n",
            "Epoch: 1900, loss: 0.00083\n"
          ]
        }
      ]
    },
    {
      "cell_type": "markdown",
      "source": [
        "#### Test\n",
        "\n",
        "- 테스트 진행 시에는 전에 선언했던 \"MinMaxScaler\" 객체의 \"inverse_transform\" 함수를 이용하여 원래 데이터 값으로 복원시킵니다."
      ],
      "metadata": {
        "id": "AwdXg9AcFwKw"
      }
    },
    {
      "cell_type": "code",
      "source": [
        "lstm.eval()\n",
        "\n",
        "# predict on training and test data\n",
        "all_predict = lstm(dataX)\n",
        "\n",
        "data_predict = all_predict.data.numpy()\n",
        "dataY_plot = dataY.data.numpy()\n",
        "\n",
        "data_predict = sc.inverse_transform(data_predict)\n",
        "dataY_plot = sc.inverse_transform(dataY_plot)\n",
        "\n",
        "plt.axvline(x=train_size, c='r', linestyle='--', label='right limit of GT used')\n",
        "\n",
        "plt.plot(dataY_plot, label='GT')\n",
        "plt.plot(data_predict, label='predictions')\n",
        "plt.suptitle('Time-Series Prediction')\n",
        "plt.legend()\n",
        "plt.show()\n",
        "\n"
      ],
      "metadata": {
        "colab": {
          "base_uri": "https://localhost:8080/",
          "height": 478
        },
        "id": "rtPLQwLlAIdB",
        "outputId": "7e5ee306-51d1-4e8d-ddfd-8e83a25a60df"
      },
      "execution_count": 31,
      "outputs": [
        {
          "output_type": "display_data",
          "data": {
            "text/plain": [
              "<Figure size 640x480 with 1 Axes>"
            ],
            "image/png": "[encoded data removed]"
          },
          "metadata": {}
        }
      ]
    },
    {
      "cell_type": "markdown",
      "source": [
        "- 참고) https://hongl.tistory.com/194\n",
        "\n"
      ],
      "metadata": {
        "id": "mW-0hr_HF5Ig"
      }
    },
    {
      "cell_type": "markdown",
      "source": [
        "- torchtext는 자연어 처리(NLP)분야에서 사용되는 dataloader, torchtext는 파일 가져오기, 토큰화, 단어 집합, 생성, 인코딩, 단어 벡터 생성 등의 작업을 지원하기 때문에 자연어 처리에서 많이 사용되고 있음."
      ],
      "metadata": {
        "id": "sg7Z6ivWOAST"
      }
    },
    {
      "cell_type": "code",
      "source": [
        "!pip install torchtext==0.4"
      ],
      "metadata": {
        "colab": {
          "base_uri": "https://localhost:8080/"
        },
        "id": "BddcGwARc8Kj",
        "outputId": "15af1b98-09c0-4491-a38f-d20fd83126ba"
      },
      "execution_count": 32,
      "outputs": [
        {
          "output_type": "stream",
          "name": "stdout",
          "text": [
            "Collecting torchtext==0.4\n",
            "  Downloading torchtext-0.4.0-py3-none-any.whl.metadata (5.0 kB)\n",
            "Requirement already satisfied: tqdm in /usr/local/lib/python3.11/dist-packages (from torchtext==0.4) (4.67.1)\n",
            "Requirement already satisfied: requests in /usr/local/lib/python3.11/dist-packages (from torchtext==0.4) (2.32.3)\n",
            "Requirement already satisfied: torch in /usr/local/lib/python3.11/dist-packages (from torchtext==0.4) (2.6.0+cu124)\n",
            "Requirement already satisfied: numpy in /usr/local/lib/python3.11/dist-packages (from torchtext==0.4) (2.0.2)\n",
            "Requirement already satisfied: six in /usr/local/lib/python3.11/dist-packages (from torchtext==0.4) (1.17.0)\n",
            "Requirement already satisfied: charset-normalizer<4,>=2 in /usr/local/lib/python3.11/dist-packages (from requests->torchtext==0.4) (3.4.1)\n",
            "Requirement already satisfied: idna<4,>=2.5 in /usr/local/lib/python3.11/dist-packages (from requests->torchtext==0.4) (3.10)\n",
            "Requirement already satisfied: urllib3<3,>=1.21.1 in /usr/local/lib/python3.11/dist-packages (from requests->torchtext==0.4) (2.3.0)\n",
            "Requirement already satisfied: certifi>=2017.4.17 in /usr/local/lib/python3.11/dist-packages (from requests->torchtext==0.4) (2025.1.31)\n",
            "Requirement already satisfied: filelock in /usr/local/lib/python3.11/dist-packages (from torch->torchtext==0.4) (3.18.0)\n",
            "Requirement already satisfied: typing-extensions>=4.10.0 in /usr/local/lib/python3.11/dist-packages (from torch->torchtext==0.4) (4.13.2)\n",
            "Requirement already satisfied: networkx in /usr/local/lib/python3.11/dist-packages (from torch->torchtext==0.4) (3.4.2)\n",
            "Requirement already satisfied: jinja2 in /usr/local/lib/python3.11/dist-packages (from torch->torchtext==0.4) (3.1.6)\n",
            "Requirement already satisfied: fsspec in /usr/local/lib/python3.11/dist-packages (from torch->torchtext==0.4) (2025.3.2)\n",
            "Collecting nvidia-cuda-nvrtc-cu12==12.4.127 (from torch->torchtext==0.4)\n",
            "  Downloading nvidia_cuda_nvrtc_cu12-12.4.127-py3-none-manylinux2014_x86_64.whl.metadata (1.5 kB)\n",
            "Collecting nvidia-cuda-runtime-cu12==12.4.127 (from torch->torchtext==0.4)\n",
            "  Downloading nvidia_cuda_runtime_cu12-12.4.127-py3-none-manylinux2014_x86_64.whl.metadata (1.5 kB)\n",
            "Collecting nvidia-cuda-cupti-cu12==12.4.127 (from torch->torchtext==0.4)\n",
            "  Downloading nvidia_cuda_cupti_cu12-12.4.127-py3-none-manylinux2014_x86_64.whl.metadata (1.6 kB)\n",
            "Collecting nvidia-cudnn-cu12==9.1.0.70 (from torch->torchtext==0.4)\n",
            "  Downloading nvidia_cudnn_cu12-9.1.0.70-py3-none-manylinux2014_x86_64.whl.metadata (1.6 kB)\n",
            "Collecting nvidia-cublas-cu12==12.4.5.8 (from torch->torchtext==0.4)\n",
            "  Downloading nvidia_cublas_cu12-12.4.5.8-py3-none-manylinux2014_x86_64.whl.metadata (1.5 kB)\n",
            "Collecting nvidia-cufft-cu12==11.2.1.3 (from torch->torchtext==0.4)\n",
            "  Downloading nvidia_cufft_cu12-11.2.1.3-py3-none-manylinux2014_x86_64.whl.metadata (1.5 kB)\n",
            "Collecting nvidia-curand-cu12==10.3.5.147 (from torch->torchtext==0.4)\n",
            "  Downloading nvidia_curand_cu12-10.3.5.147-py3-none-manylinux2014_x86_64.whl.metadata (1.5 kB)\n",
            "Collecting nvidia-cusolver-cu12==11.6.1.9 (from torch->torchtext==0.4)\n",
            "  Downloading nvidia_cusolver_cu12-11.6.1.9-py3-none-manylinux2014_x86_64.whl.metadata (1.6 kB)\n",
            "Collecting nvidia-cusparse-cu12==12.3.1.170 (from torch->torchtext==0.4)\n",
            "  Downloading nvidia_cusparse_cu12-12.3.1.170-py3-none-manylinux2014_x86_64.whl.metadata (1.6 kB)\n",
            "Requirement already satisfied: nvidia-cusparselt-cu12==0.6.2 in /usr/local/lib/python3.11/dist-packages (from torch->torchtext==0.4) (0.6.2)\n",
            "Requirement already satisfied: nvidia-nccl-cu12==2.21.5 in /usr/local/lib/python3.11/dist-packages (from torch->torchtext==0.4) (2.21.5)\n",
            "Requirement already satisfied: nvidia-nvtx-cu12==12.4.127 in /usr/local/lib/python3.11/dist-packages (from torch->torchtext==0.4) (12.4.127)\n",
            "Collecting nvidia-nvjitlink-cu12==12.4.127 (from torch->torchtext==0.4)\n",
            "  Downloading nvidia_nvjitlink_cu12-12.4.127-py3-none-manylinux2014_x86_64.whl.metadata (1.5 kB)\n",
            "Requirement already satisfied: triton==3.2.0 in /usr/local/lib/python3.11/dist-packages (from torch->torchtext==0.4) (3.2.0)\n",
            "Requirement already satisfied: sympy==1.13.1 in /usr/local/lib/python3.11/dist-packages (from torch->torchtext==0.4) (1.13.1)\n",
            "Requirement already satisfied: mpmath<1.4,>=1.1.0 in /usr/local/lib/python3.11/dist-packages (from sympy==1.13.1->torch->torchtext==0.4) (1.3.0)\n",
            "Requirement already satisfied: MarkupSafe>=2.0 in /usr/local/lib/python3.11/dist-packages (from jinja2->torch->torchtext==0.4) (3.0.2)\n",
            "Downloading torchtext-0.4.0-py3-none-any.whl (53 kB)\n",
            "\u001b[2K   \u001b[90m━━━━━━━━━━━━━━━━━━━━━━━━━━━━━━━━━━━━━━━━\u001b[0m \u001b[32m53.1/53.1 kB\u001b[0m \u001b[31m5.8 MB/s\u001b[0m eta \u001b[36m0:00:00\u001b[0m\n",
            "\u001b[?25hDownloading nvidia_cublas_cu12-12.4.5.8-py3-none-manylinux2014_x86_64.whl (363.4 MB)\n",
            "\u001b[2K   \u001b[90m━━━━━━━━━━━━━━━━━━━━━━━━━━━━━━━━━━━━━━━━\u001b[0m \u001b[32m363.4/363.4 MB\u001b[0m \u001b[31m4.3 MB/s\u001b[0m eta \u001b[36m0:00:00\u001b[0m\n",
            "\u001b[?25hDownloading nvidia_cuda_cupti_cu12-12.4.127-py3-none-manylinux2014_x86_64.whl (13.8 MB)\n",
            "\u001b[2K   \u001b[90m━━━━━━━━━━━━━━━━━━━━━━━━━━━━━━━━━━━━━━━━\u001b[0m \u001b[32m13.8/13.8 MB\u001b[0m \u001b[31m125.1 MB/s\u001b[0m eta \u001b[36m0:00:00\u001b[0m\n",
            "\u001b[?25hDownloading nvidia_cuda_nvrtc_cu12-12.4.127-py3-none-manylinux2014_x86_64.whl (24.6 MB)\n",
            "\u001b[2K   \u001b[90m━━━━━━━━━━━━━━━━━━━━━━━━━━━━━━━━━━━━━━━━\u001b[0m \u001b[32m24.6/24.6 MB\u001b[0m \u001b[31m93.8 MB/s\u001b[0m eta \u001b[36m0:00:00\u001b[0m\n",
            "\u001b[?25hDownloading nvidia_cuda_runtime_cu12-12.4.127-py3-none-manylinux2014_x86_64.whl (883 kB)\n",
            "\u001b[2K   \u001b[90m━━━━━━━━━━━━━━━━━━━━━━━━━━━━━━━━━━━━━━━━\u001b[0m \u001b[32m883.7/883.7 kB\u001b[0m \u001b[31m60.5 MB/s\u001b[0m eta \u001b[36m0:00:00\u001b[0m\n",
            "\u001b[?25hDownloading nvidia_cudnn_cu12-9.1.0.70-py3-none-manylinux2014_x86_64.whl (664.8 MB)\n",
            "\u001b[2K   \u001b[90m━━━━━━━━━━━━━━━━━━━━━━━━━━━━━━━━━━━━━━━━\u001b[0m \u001b[32m664.8/664.8 MB\u001b[0m \u001b[31m1.3 MB/s\u001b[0m eta \u001b[36m0:00:00\u001b[0m\n",
            "\u001b[?25hDownloading nvidia_cufft_cu12-11.2.1.3-py3-none-manylinux2014_x86_64.whl (211.5 MB)\n",
            "\u001b[2K   \u001b[90m━━━━━━━━━━━━━━━━━━━━━━━━━━━━━━━━━━━━━━━━\u001b[0m \u001b[32m211.5/211.5 MB\u001b[0m \u001b[31m5.7 MB/s\u001b[0m eta \u001b[36m0:00:00\u001b[0m\n",
            "\u001b[?25hDownloading nvidia_curand_cu12-10.3.5.147-py3-none-manylinux2014_x86_64.whl (56.3 MB)\n",
            "\u001b[2K   \u001b[90m━━━━━━━━━━━━━━━━━━━━━━━━━━━━━━━━━━━━━━━━\u001b[0m \u001b[32m56.3/56.3 MB\u001b[0m \u001b[31m14.3 MB/s\u001b[0m eta \u001b[36m0:00:00\u001b[0m\n",
            "\u001b[?25hDownloading nvidia_cusolver_cu12-11.6.1.9-py3-none-manylinux2014_x86_64.whl (127.9 MB)\n",
            "\u001b[2K   \u001b[90m━━━━━━━━━━━━━━━━━━━━━━━━━━━━━━━━━━━━━━━━\u001b[0m \u001b[32m127.9/127.9 MB\u001b[0m \u001b[31m7.9 MB/s\u001b[0m eta \u001b[36m0:00:00\u001b[0m\n",
            "\u001b[?25hDownloading nvidia_cusparse_cu12-12.3.1.170-py3-none-manylinux2014_x86_64.whl (207.5 MB)\n",
            "\u001b[2K   \u001b[90m━━━━━━━━━━━━━━━━━━━━━━━━━━━━━━━━━━━━━━━━\u001b[0m \u001b[32m207.5/207.5 MB\u001b[0m \u001b[31m6.0 MB/s\u001b[0m eta \u001b[36m0:00:00\u001b[0m\n",
            "\u001b[?25hDownloading nvidia_nvjitlink_cu12-12.4.127-py3-none-manylinux2014_x86_64.whl (21.1 MB)\n",
            "\u001b[2K   \u001b[90m━━━━━━━━━━━━━━━━━━━━━━━━━━━━━━━━━━━━━━━━\u001b[0m \u001b[32m21.1/21.1 MB\u001b[0m \u001b[31m75.9 MB/s\u001b[0m eta \u001b[36m0:00:00\u001b[0m\n",
            "\u001b[?25hInstalling collected packages: nvidia-nvjitlink-cu12, nvidia-curand-cu12, nvidia-cufft-cu12, nvidia-cuda-runtime-cu12, nvidia-cuda-nvrtc-cu12, nvidia-cuda-cupti-cu12, nvidia-cublas-cu12, nvidia-cusparse-cu12, nvidia-cudnn-cu12, nvidia-cusolver-cu12, torchtext\n",
            "  Attempting uninstall: nvidia-nvjitlink-cu12\n",
            "    Found existing installation: nvidia-nvjitlink-cu12 12.5.82\n",
            "    Uninstalling nvidia-nvjitlink-cu12-12.5.82:\n",
            "      Successfully uninstalled nvidia-nvjitlink-cu12-12.5.82\n",
            "  Attempting uninstall: nvidia-curand-cu12\n",
            "    Found existing installation: nvidia-curand-cu12 10.3.6.82\n",
            "    Uninstalling nvidia-curand-cu12-10.3.6.82:\n",
            "      Successfully uninstalled nvidia-curand-cu12-10.3.6.82\n",
            "  Attempting uninstall: nvidia-cufft-cu12\n",
            "    Found existing installation: nvidia-cufft-cu12 11.2.3.61\n",
            "    Uninstalling nvidia-cufft-cu12-11.2.3.61:\n",
            "      Successfully uninstalled nvidia-cufft-cu12-11.2.3.61\n",
            "  Attempting uninstall: nvidia-cuda-runtime-cu12\n",
            "    Found existing installation: nvidia-cuda-runtime-cu12 12.5.82\n",
            "    Uninstalling nvidia-cuda-runtime-cu12-12.5.82:\n",
            "      Successfully uninstalled nvidia-cuda-runtime-cu12-12.5.82\n",
            "  Attempting uninstall: nvidia-cuda-nvrtc-cu12\n",
            "    Found existing installation: nvidia-cuda-nvrtc-cu12 12.5.82\n",
            "    Uninstalling nvidia-cuda-nvrtc-cu12-12.5.82:\n",
            "      Successfully uninstalled nvidia-cuda-nvrtc-cu12-12.5.82\n",
            "  Attempting uninstall: nvidia-cuda-cupti-cu12\n",
            "    Found existing installation: nvidia-cuda-cupti-cu12 12.5.82\n",
            "    Uninstalling nvidia-cuda-cupti-cu12-12.5.82:\n",
            "      Successfully uninstalled nvidia-cuda-cupti-cu12-12.5.82\n",
            "  Attempting uninstall: nvidia-cublas-cu12\n",
            "    Found existing installation: nvidia-cublas-cu12 12.5.3.2\n",
            "    Uninstalling nvidia-cublas-cu12-12.5.3.2:\n",
            "      Successfully uninstalled nvidia-cublas-cu12-12.5.3.2\n",
            "  Attempting uninstall: nvidia-cusparse-cu12\n",
            "    Found existing installation: nvidia-cusparse-cu12 12.5.1.3\n",
            "    Uninstalling nvidia-cusparse-cu12-12.5.1.3:\n",
            "      Successfully uninstalled nvidia-cusparse-cu12-12.5.1.3\n",
            "  Attempting uninstall: nvidia-cudnn-cu12\n",
            "    Found existing installation: nvidia-cudnn-cu12 9.3.0.75\n",
            "    Uninstalling nvidia-cudnn-cu12-9.3.0.75:\n",
            "      Successfully uninstalled nvidia-cudnn-cu12-9.3.0.75\n",
            "  Attempting uninstall: nvidia-cusolver-cu12\n",
            "    Found existing installation: nvidia-cusolver-cu12 11.6.3.83\n",
            "    Uninstalling nvidia-cusolver-cu12-11.6.3.83:\n",
            "      Successfully uninstalled nvidia-cusolver-cu12-11.6.3.83\n",
            "Successfully installed nvidia-cublas-cu12-12.4.5.8 nvidia-cuda-cupti-cu12-12.4.127 nvidia-cuda-nvrtc-cu12-12.4.127 nvidia-cuda-runtime-cu12-12.4.127 nvidia-cudnn-cu12-9.1.0.70 nvidia-cufft-cu12-11.2.1.3 nvidia-curand-cu12-10.3.5.147 nvidia-cusolver-cu12-11.6.1.9 nvidia-cusparse-cu12-12.3.1.170 nvidia-nvjitlink-cu12-12.4.127 torchtext-0.4.0\n"
          ]
        }
      ]
    },
    {
      "cell_type": "code",
      "source": [
        "# 라이브러리 임포트\n",
        "import os\n",
        "import torch\n",
        "import torch.nn as nn\n",
        "import torch.nn.functional as F\n",
        "from torchtext import datasets, data # 자연어 데이터셋을 다루기 위해 토치비전이 아닌 토치 텍스트를 사용합니다.\n",
        "\n",
        "# 하이퍼파라미터 정의\n",
        "BATCH_SIZE = 64\n",
        "lr = 0.001\n",
        "EPOCHS = 10\n",
        "USE_CUDA = torch.cuda.is_available()\n",
        "DEVICE = torch.device(\"cuda\" if USE_CUDA else \"cpu\")\n",
        "print(\"다음 기기로 학습합니다:\", DEVICE)"
      ],
      "metadata": {
        "colab": {
          "base_uri": "https://localhost:8080/"
        },
        "id": "mfK_vS5COQbH",
        "outputId": "8f78e6ce-7dfe-4fd2-f3af-cafe44d30b4e"
      },
      "execution_count": 33,
      "outputs": [
        {
          "output_type": "stream",
          "name": "stdout",
          "text": [
            "다음 기기로 학습합니다: cuda\n"
          ]
        }
      ]
    },
    {
      "cell_type": "code",
      "source": [
        "# 데이터 로딩하기\n",
        "# 텍스트 형태의 영화 리뷰들과 그에 해당하는 리뷰들을 텐서로 바꿔주기\n",
        "TEXT = data.Field(sequential=True, batch_first=True, lower=True)\n",
        "# sequential = True : 데이터셋이 순차적인 데이터셋임을 명시\n",
        "# batch_first = True : 신경망에 입력되는 텐서의 첫 번째 차원값을 batch size로 지정\n",
        "# lower = True : 텍스트 데이터 속 모든 영문 알파벳이 소문자가 되도록 처리\n",
        "LABEL = data.Field(sequential=False, batch_first=True) #Label은 순차적 데이터가 아님\n",
        "trainset, testset = datasets.IMDB.splits(TEXT, LABEL) # train test 분리\n",
        "TEXT.build_vocab(trainset, min_freq=5) # 워드 임베딩에 필요한 단어 사전(word vocabulary) 만들기\n",
        "# min_freq = 5 : 학습 데이터에서 최소 5번 이상 등장한 단어만을 사전에 담음\n",
        "LABEL.build_vocab(trainset)\n",
        "\n",
        "# 학습용 데이터를 학습셋 80% 검증셋 20% 로 나누기\n",
        "trainset, valset = trainset.split(split_ratio=0.8)\n",
        "train_iter, val_iter, test_iter = data.BucketIterator.splits(\n",
        "        (trainset, valset, testset), batch_size=BATCH_SIZE,\n",
        "        shuffle=True, repeat=False)\n",
        "\n",
        "\n",
        "vocab_size = len(TEXT.vocab) #사전 속 단어들의 개수와 레이블 수 지정\n",
        "n_classes = 2\n",
        "\n",
        "print(\"[학습셋]: %d [검증셋]: %d [테스트셋]: %d [단어수]: %d [클래스] %d\"\n",
        "      % (len(trainset),len(valset), len(testset), vocab_size, n_classes))"
      ],
      "metadata": {
        "colab": {
          "base_uri": "https://localhost:8080/"
        },
        "id": "eHWzoJsmc66j",
        "outputId": "ad944497-e808-4d20-9195-fc6e9122c0ce"
      },
      "execution_count": 34,
      "outputs": [
        {
          "output_type": "stream",
          "name": "stdout",
          "text": [
            "downloading aclImdb_v1.tar.gz\n"
          ]
        },
        {
          "output_type": "stream",
          "name": "stderr",
          "text": [
            "aclImdb_v1.tar.gz: 100%|██████████| 84.1M/84.1M [00:25<00:00, 3.32MB/s]\n"
          ]
        },
        {
          "output_type": "stream",
          "name": "stdout",
          "text": [
            "[학습셋]: 20000 [검증셋]: 5000 [테스트셋]: 25000 [단어수]: 46159 [클래스] 2\n"
          ]
        }
      ]
    },
    {
      "cell_type": "markdown",
      "source": [
        "- RNN의 입력이 길어지면 기울기(경사도) 폭발(gradient explosion) 혹은 기울기(경사도) 소실(vanishing gradient)이 발생 가능합니다\n",
        "- 이러한 단점이 보완된 것이 GRU(Gated Recurrent Unit)로, GRU는 시계열 데이터 속 벡터 사이의 정보 전달량을 조절함으로써 기울기를 적정하게 유지하고 문장 앞부분의 정보가 끝까지 도달할 수 있도록 돕습니다.\n",
        "GRU에는 시계열 데이터 내 정보 전달량을 조절하는 업데이트 게이트(update gate)와 리셋 게이트(reset gate)라는 개념이 존재합니다.\n",
        "- 리셋 게이트는 새로운 입력이 이전 은닉 벡터와 어떻게 조합하는지를 결정합니다."
      ],
      "metadata": {
        "id": "mA9St5BKfJlC"
      }
    },
    {
      "cell_type": "code",
      "source": [
        "# RNN 모델 구현\n",
        "class BasicGRU(nn.Module):\n",
        "    def __init__(self, n_layers, hidden_dim, n_vocab, embed_dim, n_classes, dropout_p=0.2):\n",
        "        super(BasicGRU, self).__init__()\n",
        "        print(\"Building Basic GRU model...\")\n",
        "        self.n_layers = n_layers # 은닉 벡터들의 '층'이라고 할 수 있는 n_layers를 정의합니다.(보통 2이하로 정의)\n",
        "        self.embed = nn.Embedding(n_vocab, embed_dim)\n",
        "        # n_vocab : 전체 데이터셋의 모든 단어를 사전형태로 나타냈을 때 그 사전에 등재된 단어 수\n",
        "        # embed_dim : 임베딩된 단어 텐서가 지니는 차원 값\n",
        "        self.hidden_dim = hidden_dim # 은닉 벡터(hidden vector)의 차원값과 드롭아웃을 정의합니다.\n",
        "        self.dropout = nn.Dropout(dropout_p)\n",
        "        self.gru = nn.GRU(embed_dim, self.hidden_dim,\n",
        "                          num_layers=self.n_layers,\n",
        "                          batch_first=True) #위의 이유로 GRU를 사용합니다.\n",
        "        self.out = nn.Linear(self.hidden_dim, n_classes) # 압축된 텐서를 신경망에 통과시켜 예측을 출력합니다.\n",
        "\n",
        "    def forward(self, x): # 입력되는 x는 한 배치 속에 있는 모든 영화평입니다.\n",
        "        x = self.embed(x) # 워드 임베딩하면 시계열 데이터(벡터의 배열)로 변환됩니다.\n",
        "        h_0 = self._init_state(batch_size=x.size(0)) #첫 번쨰 은닉 벡터 H0를 정의해 x와 함께 입력해줍니다.\n",
        "        x, _ = self.gru(x, h_0)  # [i, b, h]\n",
        "        h_t = x[:,-1,:] # 영호 리뷰 배열들을 압축한 은닉벡터입니다.\n",
        "        self.dropout(h_t)\n",
        "        logit = self.out(h_t)  # [b, h] -> [b, o]\n",
        "        return logit\n",
        "\n",
        "    def _init_state(self, batch_size=1):\n",
        "        weight = next(self.parameters()).data\n",
        "        # parameters() 함수는 신경망 모듈의 가중치 형태를 반복자(iterator) 형태를 반환합니다.\n",
        "        # 즉 weight는 nn.GRU 모듈의 첫 번째 가중치 텐서를 말합니다.\n",
        "        return weight.new(self.n_layers, batch_size, self.hidden_dim).zero_()"
      ],
      "metadata": {
        "id": "4tIizRUrdVEg"
      },
      "execution_count": 35,
      "outputs": []
    },
    {
      "cell_type": "code",
      "source": [
        "# 학습함수와 평가함수 구현\n",
        "\n",
        "#학습함수\n",
        "def train(model, optimizer, train_iter):\n",
        "    model.train()\n",
        "    for b, batch in enumerate(train_iter): # 반복마다 배치 데이터를 반환합니다.\n",
        "        x, y = batch.text.to(DEVICE), batch.label.to(DEVICE)\n",
        "        y.data.sub_(1)  # 1과 2의 레이블 값을 모든 값에서 1씩 빼서 0과 1로 변환\n",
        "        optimizer.zero_grad() # 매번 기울기를 새로 계산\n",
        "        logit = model(x)\n",
        "        loss = F.cross_entropy(logit, y)\n",
        "        loss.backward()\n",
        "        optimizer.step() #오차를 구하고 최적화 반복\n",
        "\n",
        "#평가함수\n",
        "def evaluate(model, val_iter):\n",
        "    \"\"\"evaluate model\"\"\"\n",
        "    model.eval()\n",
        "    corrects, total_loss = 0, 0\n",
        "    for batch in val_iter:\n",
        "        x, y = batch.text.to(DEVICE), batch.label.to(DEVICE)\n",
        "        y.data.sub_(1) # 레이블 값을 0과 1로 변환\n",
        "        logit = model(x)\n",
        "        loss = F.cross_entropy(logit, y, reduction='sum') #오차의 합 구하기\n",
        "        total_loss += loss.item()\n",
        "        corrects += (logit.max(1)[1].view(y.size()).data == y.data).sum()\n",
        "    size = len(val_iter.dataset)\n",
        "    avg_loss = total_loss / size\n",
        "    avg_accuracy = 100.0 * corrects / size\n",
        "    return avg_loss, avg_accuracy #오찻값과 정확도의 평균 반환"
      ],
      "metadata": {
        "id": "uPVzsqVglQZb"
      },
      "execution_count": 36,
      "outputs": []
    },
    {
      "cell_type": "code",
      "source": [
        "# 모델 객체 정의\n",
        "model = BasicGRU(1, 256, vocab_size, 128, n_classes, 0.5).to(DEVICE)\n",
        "# 모델 내 은닉벡터의 차원값 = 256, 임베딩된 토큰의 차원값 = 128로 임의 설정\n",
        "optimizer = torch.optim.Adam(model.parameters(), lr=lr) # 최적화 알고리즘으로 Adam 사용"
      ],
      "metadata": {
        "colab": {
          "base_uri": "https://localhost:8080/"
        },
        "id": "VroAwrm4lRsv",
        "outputId": "67038631-8065-423c-92b3-72398d25959d"
      },
      "execution_count": 37,
      "outputs": [
        {
          "output_type": "stream",
          "name": "stdout",
          "text": [
            "Building Basic GRU model...\n"
          ]
        }
      ]
    },
    {
      "cell_type": "code",
      "source": [
        "#검증오차(val_loss) 최소화된 모델 저장\n",
        "best_val_loss = None\n",
        "for e in range(1, EPOCHS+1):\n",
        "    train(model, optimizer, train_iter)\n",
        "    val_loss, val_accuracy = evaluate(model, val_iter)\n",
        "\n",
        "    print(\"[이폭: %d] 검증 오차:%5.2f | 검증 정확도:%5.2f\" % (e, val_loss, val_accuracy))\n",
        "\n",
        "    # 검증 오차가 가장 적은 최적의 모델을 저장\n",
        "    if not best_val_loss or val_loss < best_val_loss:\n",
        "        if not os.path.isdir(\"snapshot\"):\n",
        "            os.makedirs(\"snapshot\")\n",
        "        torch.save(model.state_dict(), './snapshot/txtclassification.pt')\n",
        "        best_val_loss = val_loss"
      ],
      "metadata": {
        "colab": {
          "base_uri": "https://localhost:8080/"
        },
        "id": "6ndINDmWlSrz",
        "outputId": "31b6b357-dc3c-4c92-eb16-cfdaf2da381f"
      },
      "execution_count": 38,
      "outputs": [
        {
          "output_type": "stream",
          "name": "stdout",
          "text": [
            "[이폭: 1] 검증 오차: 0.69 | 검증 정확도:51.74\n",
            "[이폭: 2] 검증 오차: 0.70 | 검증 정확도:49.06\n",
            "[이폭: 3] 검증 오차: 0.63 | 검증 정확도:65.36\n",
            "[이폭: 4] 검증 오차: 0.34 | 검증 정확도:85.32\n",
            "[이폭: 5] 검증 오차: 0.31 | 검증 정확도:87.66\n",
            "[이폭: 6] 검증 오차: 0.32 | 검증 정확도:87.54\n",
            "[이폭: 7] 검증 오차: 0.36 | 검증 정확도:86.88\n",
            "[이폭: 8] 검증 오차: 0.41 | 검증 정확도:86.66\n",
            "[이폭: 9] 검증 오차: 0.41 | 검증 정확도:87.98\n",
            "[이폭: 10] 검증 오차: 0.42 | 검증 정확도:87.18\n"
          ]
        }
      ]
    },
    {
      "cell_type": "code",
      "source": [
        "# 검증셋에서 가장 성능이 좋았던 모델을 불러와 테스트\n",
        "model.load_state_dict(torch.load('./snapshot/txtclassification.pt'))\n",
        "test_loss, test_acc = evaluate(model, test_iter)\n",
        "print('테스트 오차: %5.2f | 테스트 정확도: %5.2f' % (test_loss, test_acc))"
      ],
      "metadata": {
        "colab": {
          "base_uri": "https://localhost:8080/"
        },
        "id": "xwkRKKIjlT6C",
        "outputId": "2ecf5b4a-e164-46ac-a6d5-daa1e423b05a"
      },
      "execution_count": 39,
      "outputs": [
        {
          "output_type": "stream",
          "name": "stdout",
          "text": [
            "테스트 오차:  0.31 | 테스트 정확도: 86.90\n"
          ]
        }
      ]
    },
    {
      "cell_type": "markdown",
      "source": [
        "- Seq2Seq 기계 번역\n",
        "  - 2010년 이후 인공지능에서 가장 큰 관심을 받은 건 알파고지만, 그와 더불어 크게 화제가 된 머신러닝 모델이 언어를 다른 언어로 해석해주는 뉴럴 기계 번역(Neural Machine Translation)모델입니다.\n",
        "  - RNN 기반의 번역 모델인 Sequence to Sequence (줄여서 Seq2Seq) 모델은 기계 번역의 새로운 패러다임을 열었다고 할 정도로 뛰어난 성능을 보여줬습니다.\n",
        "  - Seq2Seq 모델은 시퀀스(Sequence)를 입력받아 또 다른 시퀀스를 출력합니다. 한마디로 문장을 다른 문장으로 번역해주는 모델입니다.\n",
        "  - 일반적으로 Seq2Seq와 같은 기계 번역 모델이 이러한 능력을 학습하려면 흔히 병렬 말뭉치(parallel corpora)라고 하는 원문과 번역문이 쌍을 이루는 형태의 많은 텍스트 데이터가 필요합니다. 따라서 이런 모델을 제대로 학습시키려면 당연히 강력한 GPU, 복잡한 텍스트 전처리 과정, 긴 학습시간 등 많은 리소스가 됩니다.\n",
        "\n",
        "\n",
        "따라서, 이번 예제에서는 Seq2Seq 모델을 아주 간소화하여 한 언어의 문장을 다른 언어의 문장으로 번역하는 덩치 큰 모델이 아닌, 영어 알파벳 문자열 \"hello\"를 스페인어 알파벳 문자열 \"hola\"로 번역하는 미니 Seq2Seq 모델을 구현해보겠습니다.\n",
        "\n",
        "#### 개요\n",
        "- Seq2Seq는 각자 다른 역할을 하는 두 개의 RNN을 이어붙인 모델입니다.\n",
        "- 번역은 1. 원문을 이해하고, 2. 번역문을 작성하는 두 가지 동작으로 구성되는데, Seq2Seq 모델에서 이 두 역할을 각각 - 인코더(encoder)와 디코더(decoder)라는 두 RNN에 부여함으로써 번역합니다.\n",
        "- 인코더는 원문 속의 모든 단어를 입력받아 문장의 뜻을 내포하는 고정 크기의 텐서를 만들어냅니다. 이렇게 압축된 텐서는 원문의 뜻과 내용을 압축하고 있다고 하여 문맥 벡터(context vector)라고 합니다. 인코더 RNN은 원문 속의 토큰을 차례대로 입력받습니다. 원문 마지막 토큰에 해당하는 은닉 벡터는 원문의 뜻을 모두 내포하는 문맥 벡터입니다.\n",
        "- 디코더 또한 RNN 모델로, 인코더에서 원문 문맥 벡터를 이어받아 번역문 속의 토큰을 차례대로 예상합니다. 번역할 때 '원문이 말하는 바가 무엇인가'를 항상 생각하고 있어야 합니다. 이는 디코더가 번역문의 단어나 토큰을 출력할 때 인코더로부터 정보를 전달받아야 한 다는 뜻이기도 합니다."
      ],
      "metadata": {
        "id": "9R_8fHXnli9S"
      }
    },
    {
      "cell_type": "code",
      "source": [
        "# 모델구현하기\n",
        "import torch\n",
        "import torch.nn as nn\n",
        "import torch.nn.functional as F\n",
        "import random\n",
        "import matplotlib.pyplot as plt"
      ],
      "metadata": {
        "id": "GLjL3l1zlhqd"
      },
      "execution_count": 40,
      "outputs": []
    },
    {
      "cell_type": "markdown",
      "source": [
        "- 한 언어로 된 문장을 다른 언어로 번역하는 작업을 할 때는 보통 단어를 문장의 최소단위로 여겨 단어 단위의 임베딩(word embedding)을 하지만 이번 예제에선 간단한 영단어 \"hello\"를 스페인어 \"hola\"로 번역하는 작업을 할 것이므로 이번 예제에서는 단어 단위의 워드 임베딩이 아닌 글자 단위의 캐릭터 임베딩(Character embedding)을 사용하겠습니다."
      ],
      "metadata": {
        "id": "bC-4uejNp4Fd"
      }
    },
    {
      "cell_type": "code",
      "source": [
        "vocab_size = 256  # 총 아스키 코드 개수 (아스키 코드: 영문을 숫자로 변환하는 방식)\n",
        "x_ = list(map(ord, \"hello\"))  # 아스키 코드 리스트로 변환\n",
        "y_ = list(map(ord, \"hola\"))   # 아스키 코드 리스트로 변환\n",
        "print(\"hello -> \", x_)\n",
        "print(\"hola  -> \", y_)"
      ],
      "metadata": {
        "colab": {
          "base_uri": "https://localhost:8080/"
        },
        "id": "n3Y-pNaUp29K",
        "outputId": "4838df01-3f0a-4b09-d4fa-4ec597a9111a"
      },
      "execution_count": 41,
      "outputs": [
        {
          "output_type": "stream",
          "name": "stdout",
          "text": [
            "hello ->  [104, 101, 108, 108, 111]\n",
            "hola  ->  [104, 111, 108, 97]\n"
          ]
        }
      ]
    },
    {
      "cell_type": "code",
      "source": [
        "# 아스키 코드 리스트를 파이토치 텐서로 변환\n",
        "x = torch.LongTensor(x_)\n",
        "y = torch.LongTensor(y_)"
      ],
      "metadata": {
        "id": "Sqg9MYxIp6IY"
      },
      "execution_count": 42,
      "outputs": []
    },
    {
      "cell_type": "code",
      "source": [
        "# Seq2Seq 모델 클래스 정의\n",
        "class Seq2Seq(nn.Module):\n",
        "    def __init__(self, vocab_size, hidden_size):\n",
        "        super(Seq2Seq, self).__init__()\n",
        "        self.n_layers = 1\n",
        "        self.hidden_size = hidden_size\n",
        "        self.embedding = nn.Embedding(vocab_size, hidden_size) # hidden_size가 임베딩된 토큰의 차원값\n",
        "        self.encoder = nn.GRU(hidden_size, hidden_size)\n",
        "        self.decoder = nn.GRU(hidden_size, hidden_size) # encoder와 decoder 객체는 GRU\n",
        "        self.project = nn.Linear(hidden_size, vocab_size) # 번역문의 다음 토큰을 예상해내는 신경망\n",
        "\n",
        "    def forward(self, inputs, targets):\n",
        "        # 인코더에 들어갈 입력\n",
        "        initial_state = self._init_state()\n",
        "        embedding = self.embedding(inputs).unsqueeze(1)\n",
        "        # embedding = [seq_len, batch_size, embedding_size]\n",
        "\n",
        "        # 인코더 (Encoder)\n",
        "        encoder_output, encoder_state = self.encoder(embedding, initial_state)\n",
        "        # encoder_output = [seq_len, batch_size, hidden_size]\n",
        "        # encoder_state  = [n_layers, seq_len, hidden_size]\n",
        "\n",
        "        # 디코더에 들어갈 입력\n",
        "        decoder_state = encoder_state # 원문을 인코더에 입력시킨 문맥벡터 : encoder_state , 디코더의 첫 번째 은닉벡터 : decoder_state\n",
        "        decoder_input = torch.LongTensor([0]) # 0 : 아스키값의 공백 문자(null)를 뜻함\n",
        "\n",
        "        # 디코더 (Decoder)\n",
        "        outputs = []\n",
        "\n",
        "        for i in range(targets.size()[0]): #\"hola\"의 \"h\" 다음에 올 문자가 \"o\"임을 예측하기 위한 for 반복문\n",
        "            decoder_input = self.embedding(decoder_input).unsqueeze(1)\n",
        "            decoder_output, decoder_state = self.decoder(decoder_input, decoder_state)\n",
        "            projection = self.project(decoder_output)\n",
        "            outputs.append(projection) # 디코더의 출력값으로 다음 글자 예측하기\n",
        "\n",
        "            # 티처 포싱(Teacher Forcing) 사용\n",
        "            # 티처 포싱: 디코더 학습시 실제 번역문의 토큰을 디코더의 전 출력값 대신 입력으로 사용해 학습을 가속하는 방법\n",
        "            decoder_input = torch.LongTensor([targets[i]])\n",
        "\n",
        "        outputs = torch.stack(outputs).squeeze() # 번역문의 모든 토큰에 대한 결괏값들의 배열\n",
        "        return outputs\n",
        "\n",
        "    def _init_state(self, batch_size=1):\n",
        "        weight = next(self.parameters()).data\n",
        "        return weight.new(self.n_layers, batch_size, self.hidden_size).zero_()"
      ],
      "metadata": {
        "id": "am_yNVBJp7SS"
      },
      "execution_count": 43,
      "outputs": []
    },
    {
      "cell_type": "code",
      "source": [
        "seq2seq = Seq2Seq(vocab_size, 16)\n",
        "criterion = nn.CrossEntropyLoss() # 교차 엔트로피 오차를 구하는 CrossEntropyLoss()\n",
        "optimizer = torch.optim.Adam(seq2seq.parameters(), lr=1e-3) # 최적화 알고리즘"
      ],
      "metadata": {
        "id": "HkrolagJp8_w"
      },
      "execution_count": 44,
      "outputs": []
    },
    {
      "cell_type": "code",
      "source": [
        "# 1000번의 이폭에 걸쳐 모델 학습\n",
        "log = []\n",
        "for i in range(1000):\n",
        "    prediction = seq2seq(x, y)\n",
        "    loss = criterion(prediction, y)\n",
        "    optimizer.zero_grad()\n",
        "    loss.backward()\n",
        "    optimizer.step()\n",
        "    loss_val = loss.data\n",
        "    log.append(loss_val)\n",
        "    if i % 100 == 0:\n",
        "        print(\"\\n 반복:%d 오차: %s\" % (i, loss_val.item()))\n",
        "        _, top1 = prediction.data.topk(1, 1)\n",
        "        print([chr(c) for c in top1.squeeze().numpy().tolist()])"
      ],
      "metadata": {
        "colab": {
          "base_uri": "https://localhost:8080/"
        },
        "id": "lDlPtSy4p9zo",
        "outputId": "74f303f2-8bba-4cb8-a2f3-175f2510a05f"
      },
      "execution_count": 45,
      "outputs": [
        {
          "output_type": "stream",
          "name": "stdout",
          "text": [
            "\n",
            " 반복:0 오차: 5.368366718292236\n",
            "['P', '\\n', 'Ï', '_']\n",
            "\n",
            " 반복:100 오차: 2.0385162830352783\n",
            "['h', 'o', 'l', 'a']\n",
            "\n",
            " 반복:200 오차: 0.5287455320358276\n",
            "['h', 'o', 'l', 'a']\n",
            "\n",
            " 반복:300 오차: 0.2605275511741638\n",
            "['h', 'o', 'l', 'a']\n",
            "\n",
            " 반복:400 오차: 0.16916725039482117\n",
            "['h', 'o', 'l', 'a']\n",
            "\n",
            " 반복:500 오차: 0.12286531180143356\n",
            "['h', 'o', 'l', 'a']\n",
            "\n",
            " 반복:600 오차: 0.09478230029344559\n",
            "['h', 'o', 'l', 'a']\n",
            "\n",
            " 반복:700 오차: 0.07595538347959518\n",
            "['h', 'o', 'l', 'a']\n",
            "\n",
            " 반복:800 오차: 0.06248652935028076\n",
            "['h', 'o', 'l', 'a']\n",
            "\n",
            " 반복:900 오차: 0.052407462149858475\n",
            "['h', 'o', 'l', 'a']\n"
          ]
        }
      ]
    },
    {
      "cell_type": "code",
      "source": [
        "# 맷플롯립을 통한 오차가 줄어드는 모습 확인\n",
        "plt.plot(log)\n",
        "plt.ylabel('cross entropy loss')\n",
        "plt.show()"
      ],
      "metadata": {
        "colab": {
          "base_uri": "https://localhost:8080/",
          "height": 430
        },
        "id": "vTGf4qq2p-40",
        "outputId": "0940cde5-6d97-41a8-be96-af53548c544a"
      },
      "execution_count": 46,
      "outputs": [
        {
          "output_type": "display_data",
          "data": {
            "text/plain": [
              "<Figure size 640x480 with 1 Axes>"
            ],
            "image/png": "[encoded data removed]"
          },
          "metadata": {}
        }
      ]
    },
    {
      "cell_type": "markdown",
      "source": [
        "### IMDB를 활용한 RNN 구현"
      ],
      "metadata": {
        "id": "4FBroRgvIgoN"
      }
    },
    {
      "cell_type": "code",
      "source": [
        "import torch\n",
        "import torchtext\n",
        "import numpy as np\n",
        "import torch.nn as nn\n",
        "import torch.nn.functional as F\n",
        "import time"
      ],
      "metadata": {
        "id": "wETUPqYhqKxj"
      },
      "execution_count": 47,
      "outputs": []
    },
    {
      "cell_type": "markdown",
      "source": [
        "Field는 데이터 전처리를 위해 사용되며 여기에서 사용되는 파라미터는 다음과 같습니다.\n",
        "\n",
        "```\n",
        "torchtext.data.Field(lower=True, fix_length=200, batch_first=False)\n",
        "```\n",
        "\n",
        "- lower : 대문자를 모두 소문자로 변경. 기본값은 False\n",
        "- fix_length : 고정된 길이의 데이터를 얻을 수 있음. 여기에서는 데이터의 길이를 200으로 고정했으며, 200보다 짧으면 패딩 작업(padding)을 통해 200으로 맞추어줌.\n",
        "\n",
        "- batch_frist : 신경망에 입력되는 텐서의 첫번째 차원 값이 배치 크기(batch_size)가 되도록 합니다. 기본값은 false.\n",
        "\n",
        "- 모델의 네트워크로 입력되는 데이터는 [시퀀스 길이, 배치 크기, 은닉층의 뉴런 개수]([seq_len, batch_size, hidden_size]) 형태.\n",
        "  - batch_size = True로 설정하면 [배치크기, 시퀀스 길이, 은닉층뉴런 개수] ([batch_size, seq_len, hidden_size]) 형태로 변경.\n",
        "  - batch_size = True와 무관하게, [은닉층 개수, 배치 크기, 은닉층의 뉴런 개수] (num_layers, batch, hidden_size)\n",
        "\n"
      ],
      "metadata": {
        "id": "vw7Rg-SHIjs5"
      }
    },
    {
      "cell_type": "code",
      "source": [
        "start=time.time()\n",
        "TEXT = torchtext.data.Field(lower=True, fix_length=200, batch_first=False)\n",
        "LABEL =torchtext.data.Field(sequential=False)"
      ],
      "metadata": {
        "id": "98Vw7Th_H9E7"
      },
      "execution_count": 48,
      "outputs": []
    },
    {
      "cell_type": "markdown",
      "source": [
        "\n",
        "\n",
        "```\n",
        "torchtext.data.Field(sequential=False)\n",
        "```\n",
        "\n",
        "seqential : 데이터에 순서(sequenatial)이 있는지를 나타냄.\n",
        "\n"
      ],
      "metadata": {
        "id": "0FVJ70Z6LyxK"
      }
    },
    {
      "cell_type": "code",
      "source": [
        "train_data, test_data = torchtext.datasets.IMDB.splits(TEXT, LABEL)"
      ],
      "metadata": {
        "id": "weU0PzVKJ2zs"
      },
      "execution_count": 49,
      "outputs": []
    },
    {
      "cell_type": "markdown",
      "source": [
        "- split : 텍스트(text)와 레이블(label)로 분할."
      ],
      "metadata": {
        "id": "xD_Uk_wjL9Q4"
      }
    },
    {
      "cell_type": "code",
      "source": [
        "print(vars(train_data.examples[0]))"
      ],
      "metadata": {
        "colab": {
          "base_uri": "https://localhost:8080/"
        },
        "id": "WKA_KB9CJ8cW",
        "outputId": "6dd56ee7-6302-4ae0-db17-87b9cbba780c"
      },
      "execution_count": 50,
      "outputs": [
        {
          "output_type": "stream",
          "name": "stdout",
          "text": [
            "{'text': ['i', 'first', 'saw', 'this', 'movie', 'back', 'in', 'the', 'early', \"'90's\", 'when', 'it', 'was', 'first', 'released.', 'room', 'with', 'a', 'view', 'was', 'also', 'newly', 'out.', 'enchanted', 'april', 'had', 'so', 'much', 'more', 'to', 'offer!', 'i', 'found', 'it', 'much', 'more', 'real', 'and', 'earthy,', 'the', 'characters', 'more', 'believable', 'for', 'being', \"'normal'.\", 'by', 'the', 'end', 'of', 'the', 'film', 'i', 'felt', 'the', 'same', 'as', 'i', 'did', 'when', 'i', 'first', 'saw', 'the', 'bbc', 'production', 'of', 'pride', 'and', 'prejudice,', 'i', 'was', 'yearning', 'for', 'the', 'characters', 'to', 'find', 'what', 'they', 'were', 'looking', 'for', 'whether', 'it', 'was', 'isolation,', 'peace,', 'liberty', 'or', 'love.', 'you', 'get', 'a', 'sense', 'throughout', 'that', 'italy', 'is', 'so', 'far', 'removed', 'from', 'everything', 'they', 'have', 'ever', 'known,', 'that', 'they', 'are', 'so', 'decadent', 'for', 'taking', 'a', 'risk', 'and', 'leaving', 'behind', 'all', 'that', 'is', 'humdrum', 'and', 'constricting.', 'but', 'in', 'the', 'heat', 'of', 'the', 'spring', 'in', 'april,', \"everyone's\", 'lives', 'loosen', 'and', 'unravel', '(in', 'line', 'with', 'the', 'victorian', 'corsets)', 'and', 'are', 'slowly', 'rebuilt', 'to', \"everyone's\", 'satisfaction.', 'what', 'a', 'little', 'gem', 'of', 'a', 'film!', 'how', 'come', 'it', \"isn't\", 'more', 'well', 'known?'], 'label': 'pos'}\n"
          ]
        }
      ]
    },
    {
      "cell_type": "markdown",
      "source": [
        "- text와 label을 갖는 사전 형식(dict type)으로 구성되어 있음."
      ],
      "metadata": {
        "id": "0WdHUzgzMH1i"
      }
    },
    {
      "cell_type": "code",
      "source": [
        "import string\n",
        "\n",
        "for example in train_data.examples:\n",
        "    text = [x.lower() for x in vars(example)['text']]\n",
        "    text = [x.replace(\"<br\",\"\") for x in text]\n",
        "    text = [''.join(c for c in s if c not in string.punctuation) for s in text]\n",
        "    text = [s for s in text if s]\n",
        "    vars(example)['text'] = text\n",
        "\n",
        "for example in test_data.examples:\n",
        "    text = [x.lower() for x in vars(example)['text']]\n",
        "    text = [x.replace(\"<br\",\"\") for x in text]\n",
        "    text = [''.join(c for c in s if c not in string.punctuation) for s in text]\n",
        "    text = [s for s in text if s]\n",
        "    vars(example)['text'] = text"
      ],
      "metadata": {
        "id": "36k5zfDZH-PK"
      },
      "execution_count": 51,
      "outputs": []
    },
    {
      "cell_type": "markdown",
      "source": [
        "- 전처리 코드를 진행. 공백처리, 불필요한 문자 제거 등이 포함됨."
      ],
      "metadata": {
        "id": "wDN9rwH5SZN2"
      }
    },
    {
      "cell_type": "code",
      "source": [
        "import random\n",
        "train_data, valid_data = train_data.split(random_state = random.seed(0), split_ratio=0.8)"
      ],
      "metadata": {
        "id": "SvOfXcXlKQwQ"
      },
      "execution_count": 52,
      "outputs": []
    },
    {
      "cell_type": "code",
      "source": [
        "print(f'Number of training examples: {len(train_data)}')\n",
        "print(f'Number of validation examples: {len(valid_data)}')\n",
        "print(f'Number of testing examples: {len(test_data)}')"
      ],
      "metadata": {
        "colab": {
          "base_uri": "https://localhost:8080/"
        },
        "id": "rh2AMGIiKRmb",
        "outputId": "f31209b1-a5c9-4bdd-c43c-509474e4e4a2"
      },
      "execution_count": 53,
      "outputs": [
        {
          "output_type": "stream",
          "name": "stdout",
          "text": [
            "Number of training examples: 20000\n",
            "Number of validation examples: 5000\n",
            "Number of testing examples: 25000\n"
          ]
        }
      ]
    },
    {
      "cell_type": "markdown",
      "source": [
        "- 단어 집합을 만들어 보겠습니다.\n",
        "  - IMDB 데이터셋에 포함된 단어들을 이용하여 하나의 딕셔너리와 같은 집합을 만드는 것으로 이해하자.\n",
        "  - 단어 집합을 만들 때, 단어들의 중복은 제거된 상태에서 진행합니다."
      ],
      "metadata": {
        "id": "pEA01fsISlWB"
      }
    },
    {
      "cell_type": "code",
      "source": [
        "TEXT.build_vocab(train_data, max_size=10000, min_freq=10, vectors=None)\n",
        "LABEL.build_vocab(train_data)\n",
        "\n",
        "print(f\"Unique tokens in TEXT vocabulary: {len(TEXT.vocab)}\")\n",
        "print(f\"Unique tokens in LABEL vocabulary: {len(LABEL.vocab)}\")"
      ],
      "metadata": {
        "colab": {
          "base_uri": "https://localhost:8080/"
        },
        "id": "doxRmhuBKSnI",
        "outputId": "2f4ec66e-f1d8-4838-91a4-5ce3b65ba6ae"
      },
      "execution_count": 54,
      "outputs": [
        {
          "output_type": "stream",
          "name": "stdout",
          "text": [
            "Unique tokens in TEXT vocabulary: 10002\n",
            "Unique tokens in LABEL vocabulary: 3\n"
          ]
        }
      ]
    },
    {
      "cell_type": "markdown",
      "source": [
        "```\n",
        "TEXT.build_vocab(train_data, max_size=10000, min_freq=10, vectors=None)\n",
        "```\n",
        "\n",
        "- train_data : 훈련 데이터셋\n",
        "- max_size : 단어 집합의 크기로 단어 집합에 포함되는 어휘 수\n",
        "- min_freq : 훈련 데이터셋에서 특정 단어의 최소 등장 횟수\n",
        "- vectors : 임베딩 벡터를 지정할 수 있음. 임베딩 벡터는 워드 임베딩의 결과로 나온 벡터. / pytorch에서도 nn.embedding()을 통해 단어를 랜덤한 숫자 값으로 변환한 후 가중치를 학습하는 방법을 제공함.\n",
        "\n"
      ],
      "metadata": {
        "id": "lcC8KiXpUx_g"
      }
    },
    {
      "cell_type": "code",
      "source": [
        "print(LABEL.vocab.stoi)"
      ],
      "metadata": {
        "colab": {
          "base_uri": "https://localhost:8080/"
        },
        "id": "8MCkkZc0KUI1",
        "outputId": "7aaf4b63-a46e-410b-f864-ff2e9b34b401"
      },
      "execution_count": 55,
      "outputs": [
        {
          "output_type": "stream",
          "name": "stdout",
          "text": [
            "defaultdict(<bound method Vocab._default_unk_index of <torchtext.vocab.Vocab object at 0x7949c97c4ed0>>, {'<unk>': 0, 'pos': 1, 'neg': 2})\n"
          ]
        }
      ]
    },
    {
      "cell_type": "code",
      "source": [
        "BATCH_SIZE = 64\n",
        "device = torch.device('cuda:0' if torch.cuda.is_available() else 'cpu')\n",
        "\n",
        "embeding_dim = 100\n",
        "hidden_size = 300\n",
        "\n",
        "train_iterator, valid_iterator, test_iterator = torchtext.data.BucketIterator.splits(\n",
        "    (train_data, valid_data, test_data),\n",
        "    batch_size = BATCH_SIZE,\n",
        "    device = device)"
      ],
      "metadata": {
        "id": "E3-2vXfGKVTe"
      },
      "execution_count": 56,
      "outputs": []
    },
    {
      "cell_type": "markdown",
      "source": [
        "- BucketIterator : dataloader와 쓰임새가 같습니다.\n",
        "  - 즉, 배치 크기 단위로 값을 차례대로 꺼내어 메모리로 가져오고 싶을 때 사용.\n",
        "  - Field에서 fix_length를 사용하지 않았다면, BuckIterator에서 데이터의 길이를 조정할 수 있음.\n",
        "  - BucketIterator는 비슷한 길이의 데이터를 한 배치에 할당하여 패딩(Padding)을 최소화시켜줌."
      ],
      "metadata": {
        "id": "q7rQZw20SGXZ"
      }
    },
    {
      "cell_type": "markdown",
      "source": [
        "- nn.embedding()을 이용하여 임베딩 처리를 진행해 보자."
      ],
      "metadata": {
        "id": "0-kDxMukXALx"
      }
    },
    {
      "cell_type": "code",
      "source": [
        "class RNNCell_Encoder(nn.Module):\n",
        "    def __init__(self, input_dim, hidden_size):\n",
        "        super(RNNCell_Encoder, self).__init__()\n",
        "        self.rnn = nn.RNNCell(input_dim, hidden_size)\n",
        "\n",
        "    def forward(self, inputs):\n",
        "        bz = inputs.shape[1]\n",
        "        ht = torch.zeros((bz, hidden_size)).to(device)\n",
        "\n",
        "        for word in inputs:\n",
        "            ht = self.rnn(word, ht) #재귀적으로 발생하는 상태 값을 처리하기 위한 구문.\n",
        "        return ht\n",
        "\n",
        "class Net(nn.Module):\n",
        "    def __init__(self):\n",
        "        super(Net, self).__init__()\n",
        "        self.em = nn.Embedding(len(TEXT.vocab.stoi), embeding_dim)\n",
        "        self.rnn = RNNCell_Encoder(embeding_dim, hidden_size)\n",
        "        self.fc1 = nn.Linear(hidden_size, 256)\n",
        "        self.fc2 = nn.Linear(256, 3)\n",
        "\n",
        "    def forward(self, x):\n",
        "        x = self.em(x)\n",
        "        x = self.rnn(x)\n",
        "        x = F.relu(self.fc1(x))\n",
        "        x = self.fc2(x)\n",
        "        return x"
      ],
      "metadata": {
        "id": "kYe84moVKWfZ"
      },
      "execution_count": 57,
      "outputs": []
    },
    {
      "cell_type": "code",
      "source": [
        "model = Net()\n",
        "model.to(device)\n",
        "\n",
        "loss_fn = nn.CrossEntropyLoss()\n",
        "optimizer = torch.optim.Adam(model.parameters(), lr=0.0001)"
      ],
      "metadata": {
        "id": "Z7kPNEUBKZrt"
      },
      "execution_count": 58,
      "outputs": []
    },
    {
      "cell_type": "code",
      "source": [
        "def training(epoch, model, trainloader, validloader):\n",
        "    correct = 0\n",
        "    total = 0\n",
        "    running_loss = 0\n",
        "\n",
        "    model.train()\n",
        "    for b in trainloader:\n",
        "        x, y = b.text, b.label\n",
        "        x, y = x.to(device), y.to(device)\n",
        "        y_pred = model(x)\n",
        "        loss = loss_fn(y_pred, y)\n",
        "        optimizer.zero_grad()\n",
        "        loss.backward()\n",
        "        optimizer.step()\n",
        "        with torch.no_grad():\n",
        "            y_pred = torch.argmax(y_pred, dim=1)\n",
        "            correct += (y_pred == y).sum().item()\n",
        "            total += y.size(0)\n",
        "            running_loss += loss.item()\n",
        "    epoch_loss = running_loss / len(trainloader.dataset)\n",
        "    epoch_acc = correct / total\n",
        "\n",
        "    valid_correct = 0\n",
        "    valid_total = 0\n",
        "    valid_running_loss = 0\n",
        "\n",
        "    model.eval()\n",
        "    with torch.no_grad():\n",
        "        for b in validloader:\n",
        "            x, y = b.text, b.label\n",
        "            x, y = x.to(device), y.to(device)\n",
        "            y_pred = model(x)\n",
        "            loss = loss_fn(y_pred, y)\n",
        "            y_pred = torch.argmax(y_pred, dim=1)\n",
        "            valid_correct += (y_pred == y).sum().item()\n",
        "            valid_total += y.size(0)\n",
        "            valid_running_loss += loss.item()\n",
        "\n",
        "    epoch_valid_loss = valid_running_loss / len(validloader.dataset)\n",
        "    epoch_valid_acc = valid_correct / valid_total\n",
        "\n",
        "    print('epoch: ', epoch,\n",
        "          'loss： ', round(epoch_loss, 3),\n",
        "          'accuracy:', round(epoch_acc, 3),\n",
        "          'valid_loss： ', round(epoch_valid_loss, 3),\n",
        "          'valid_accuracy:', round(epoch_valid_acc, 3)\n",
        "          )\n",
        "    return epoch_loss, epoch_acc, epoch_valid_loss, epoch_valid_acc"
      ],
      "metadata": {
        "id": "uzlJoePbKaxV"
      },
      "execution_count": 59,
      "outputs": []
    },
    {
      "cell_type": "code",
      "source": [
        "epochs = 5\n",
        "train_loss = []\n",
        "train_acc = []\n",
        "valid_loss = []\n",
        "valid_acc = []\n",
        "\n",
        "for epoch in range(epochs):\n",
        "    epoch_loss, epoch_acc, epoch_valid_loss, epoch_valid_acc = training(epoch, model,train_iterator,valid_iterator)\n",
        "    train_loss.append(epoch_loss)\n",
        "    train_acc.append(epoch_acc)\n",
        "    valid_loss.append(epoch_valid_loss)\n",
        "    valid_acc.append(epoch_valid_acc)\n",
        "\n",
        "end = time.time()\n",
        "print(end-start)"
      ],
      "metadata": {
        "colab": {
          "base_uri": "https://localhost:8080/"
        },
        "id": "IhyqFYhkKcId",
        "outputId": "d16815cb-7b02-44a0-8b4e-7ea799d9147a"
      },
      "execution_count": 60,
      "outputs": [
        {
          "output_type": "stream",
          "name": "stdout",
          "text": [
            "epoch:  0 loss：  0.011 accuracy: 0.495 valid_loss：  0.011 valid_accuracy: 0.507\n",
            "epoch:  1 loss：  0.011 accuracy: 0.505 valid_loss：  0.011 valid_accuracy: 0.491\n",
            "epoch:  2 loss：  0.011 accuracy: 0.511 valid_loss：  0.011 valid_accuracy: 0.493\n",
            "epoch:  3 loss：  0.011 accuracy: 0.517 valid_loss：  0.011 valid_accuracy: 0.492\n",
            "epoch:  4 loss：  0.011 accuracy: 0.526 valid_loss：  0.011 valid_accuracy: 0.513\n",
            "143.09658360481262\n"
          ]
        }
      ]
    },
    {
      "cell_type": "code",
      "source": [
        "def evaluate(epoch, model, testloader):\n",
        "    test_correct = 0\n",
        "    test_total = 0\n",
        "    test_running_loss = 0\n",
        "\n",
        "    model.eval()\n",
        "    with torch.no_grad():\n",
        "        for b in testloader:\n",
        "            x, y = b.text, b.label\n",
        "            x, y = x.to(device), y.to(device)\n",
        "            y_pred = model(x)\n",
        "            loss = loss_fn(y_pred, y)\n",
        "            y_pred = torch.argmax(y_pred, dim=1)\n",
        "            test_correct += (y_pred == y).sum().item()\n",
        "            test_total += y.size(0)\n",
        "            test_running_loss += loss.item()\n",
        "\n",
        "    epoch_test_loss = test_running_loss / len(testloader.dataset)\n",
        "    epoch_test_acc = test_correct / test_total\n",
        "\n",
        "    print('epoch: ', epoch,\n",
        "          'test_loss： ', round(epoch_test_loss, 3),\n",
        "          'test_accuracy:', round(epoch_test_acc, 3)\n",
        "          )\n",
        "    return epoch_test_loss, epoch_test_acc"
      ],
      "metadata": {
        "id": "FUAYoRKpKdO4"
      },
      "execution_count": 61,
      "outputs": []
    },
    {
      "cell_type": "code",
      "source": [
        "epochs = 5\n",
        "test_loss = []\n",
        "test_acc = []\n",
        "\n",
        "for epoch in range(epochs):\n",
        "    epoch_test_loss, epoch_test_acc = evaluate(epoch,\n",
        "                                               model,\n",
        "                                               test_iterator)\n",
        "    test_loss.append(epoch_test_loss)\n",
        "    test_acc.append(epoch_test_acc)\n",
        "\n",
        "end = time.time()\n",
        "print(end-start)"
      ],
      "metadata": {
        "colab": {
          "base_uri": "https://localhost:8080/"
        },
        "id": "v3qz4-NVKhD8",
        "outputId": "2adceb59-4eab-4aad-dcf5-1a715e81f5a7"
      },
      "execution_count": 62,
      "outputs": [
        {
          "output_type": "stream",
          "name": "stdout",
          "text": [
            "epoch:  0 test_loss：  0.011 test_accuracy: 0.503\n",
            "epoch:  1 test_loss：  0.011 test_accuracy: 0.503\n",
            "epoch:  2 test_loss：  0.011 test_accuracy: 0.503\n",
            "epoch:  3 test_loss：  0.011 test_accuracy: 0.503\n",
            "epoch:  4 test_loss：  0.011 test_accuracy: 0.503\n",
            "180.21351718902588\n"
          ]
        }
      ]
    },
    {
      "cell_type": "markdown",
      "source": [
        "### RNN 계층적 구현\n",
        "  - 미세한 차이만 있다."
      ],
      "metadata": {
        "id": "GWXBOYIniGac"
      }
    },
    {
      "cell_type": "code",
      "source": [
        "!pip install torchtext==0.4"
      ],
      "metadata": {
        "colab": {
          "base_uri": "https://localhost:8080/"
        },
        "id": "EOEHPO_qiGIj",
        "outputId": "64f9add5-61e5-4c38-ff1b-2db9e363147f"
      },
      "execution_count": 63,
      "outputs": [
        {
          "output_type": "stream",
          "name": "stdout",
          "text": [
            "Requirement already satisfied: torchtext==0.4 in /usr/local/lib/python3.11/dist-packages (0.4.0)\n",
            "Requirement already satisfied: tqdm in /usr/local/lib/python3.11/dist-packages (from torchtext==0.4) (4.67.1)\n",
            "Requirement already satisfied: requests in /usr/local/lib/python3.11/dist-packages (from torchtext==0.4) (2.32.3)\n",
            "Requirement already satisfied: torch in /usr/local/lib/python3.11/dist-packages (from torchtext==0.4) (2.6.0+cu124)\n",
            "Requirement already satisfied: numpy in /usr/local/lib/python3.11/dist-packages (from torchtext==0.4) (2.0.2)\n",
            "Requirement already satisfied: six in /usr/local/lib/python3.11/dist-packages (from torchtext==0.4) (1.17.0)\n",
            "Requirement already satisfied: charset-normalizer<4,>=2 in /usr/local/lib/python3.11/dist-packages (from requests->torchtext==0.4) (3.4.1)\n",
            "Requirement already satisfied: idna<4,>=2.5 in /usr/local/lib/python3.11/dist-packages (from requests->torchtext==0.4) (3.10)\n",
            "Requirement already satisfied: urllib3<3,>=1.21.1 in /usr/local/lib/python3.11/dist-packages (from requests->torchtext==0.4) (2.3.0)\n",
            "Requirement already satisfied: certifi>=2017.4.17 in /usr/local/lib/python3.11/dist-packages (from requests->torchtext==0.4) (2025.1.31)\n",
            "Requirement already satisfied: filelock in /usr/local/lib/python3.11/dist-packages (from torch->torchtext==0.4) (3.18.0)\n",
            "Requirement already satisfied: typing-extensions>=4.10.0 in /usr/local/lib/python3.11/dist-packages (from torch->torchtext==0.4) (4.13.2)\n",
            "Requirement already satisfied: networkx in /usr/local/lib/python3.11/dist-packages (from torch->torchtext==0.4) (3.4.2)\n",
            "Requirement already satisfied: jinja2 in /usr/local/lib/python3.11/dist-packages (from torch->torchtext==0.4) (3.1.6)\n",
            "Requirement already satisfied: fsspec in /usr/local/lib/python3.11/dist-packages (from torch->torchtext==0.4) (2025.3.2)\n",
            "Requirement already satisfied: nvidia-cuda-nvrtc-cu12==12.4.127 in /usr/local/lib/python3.11/dist-packages (from torch->torchtext==0.4) (12.4.127)\n",
            "Requirement already satisfied: nvidia-cuda-runtime-cu12==12.4.127 in /usr/local/lib/python3.11/dist-packages (from torch->torchtext==0.4) (12.4.127)\n",
            "Requirement already satisfied: nvidia-cuda-cupti-cu12==12.4.127 in /usr/local/lib/python3.11/dist-packages (from torch->torchtext==0.4) (12.4.127)\n",
            "Requirement already satisfied: nvidia-cudnn-cu12==9.1.0.70 in /usr/local/lib/python3.11/dist-packages (from torch->torchtext==0.4) (9.1.0.70)\n",
            "Requirement already satisfied: nvidia-cublas-cu12==12.4.5.8 in /usr/local/lib/python3.11/dist-packages (from torch->torchtext==0.4) (12.4.5.8)\n",
            "Requirement already satisfied: nvidia-cufft-cu12==11.2.1.3 in /usr/local/lib/python3.11/dist-packages (from torch->torchtext==0.4) (11.2.1.3)\n",
            "Requirement already satisfied: nvidia-curand-cu12==10.3.5.147 in /usr/local/lib/python3.11/dist-packages (from torch->torchtext==0.4) (10.3.5.147)\n",
            "Requirement already satisfied: nvidia-cusolver-cu12==11.6.1.9 in /usr/local/lib/python3.11/dist-packages (from torch->torchtext==0.4) (11.6.1.9)\n",
            "Requirement already satisfied: nvidia-cusparse-cu12==12.3.1.170 in /usr/local/lib/python3.11/dist-packages (from torch->torchtext==0.4) (12.3.1.170)\n",
            "Requirement already satisfied: nvidia-cusparselt-cu12==0.6.2 in /usr/local/lib/python3.11/dist-packages (from torch->torchtext==0.4) (0.6.2)\n",
            "Requirement already satisfied: nvidia-nccl-cu12==2.21.5 in /usr/local/lib/python3.11/dist-packages (from torch->torchtext==0.4) (2.21.5)\n",
            "Requirement already satisfied: nvidia-nvtx-cu12==12.4.127 in /usr/local/lib/python3.11/dist-packages (from torch->torchtext==0.4) (12.4.127)\n",
            "Requirement already satisfied: nvidia-nvjitlink-cu12==12.4.127 in /usr/local/lib/python3.11/dist-packages (from torch->torchtext==0.4) (12.4.127)\n",
            "Requirement already satisfied: triton==3.2.0 in /usr/local/lib/python3.11/dist-packages (from torch->torchtext==0.4) (3.2.0)\n",
            "Requirement already satisfied: sympy==1.13.1 in /usr/local/lib/python3.11/dist-packages (from torch->torchtext==0.4) (1.13.1)\n",
            "Requirement already satisfied: mpmath<1.4,>=1.1.0 in /usr/local/lib/python3.11/dist-packages (from sympy==1.13.1->torch->torchtext==0.4) (1.3.0)\n",
            "Requirement already satisfied: MarkupSafe>=2.0 in /usr/local/lib/python3.11/dist-packages (from jinja2->torch->torchtext==0.4) (3.0.2)\n"
          ]
        }
      ]
    },
    {
      "cell_type": "code",
      "source": [
        "import torch\n",
        "import torchtext\n",
        "import numpy as np\n",
        "import torch.nn as nn\n",
        "import torch.nn.functional as F\n",
        "import time"
      ],
      "metadata": {
        "id": "nga0nPUoh-uq"
      },
      "execution_count": 64,
      "outputs": []
    },
    {
      "cell_type": "code",
      "source": [
        "start=time.time()\n",
        "TEXT = torchtext.data.Field(sequential = True, batch_first = True, lower = True)\n",
        "LABEL = torchtext.data.Field(sequential = False, batch_first = True)"
      ],
      "metadata": {
        "id": "WaFIDhSrh-ur"
      },
      "execution_count": 65,
      "outputs": []
    },
    {
      "cell_type": "code",
      "source": [
        "train_data, test_data = torchtext.datasets.IMDB.splits(TEXT, LABEL)\n",
        "train_data, valid_data = train_data.split(split_ratio = 0.8)\n",
        "\n",
        "TEXT.build_vocab(train_data, max_size=10000, min_freq=10, vectors=None)\n",
        "LABEL.build_vocab(train_data)\n",
        "\n",
        "BATCH_SIZE = 100\n",
        "device = torch.device('cuda:0' if torch.cuda.is_available() else 'cpu')"
      ],
      "metadata": {
        "id": "y5Lc4kR9h-ur"
      },
      "execution_count": 66,
      "outputs": []
    },
    {
      "cell_type": "code",
      "source": [
        "train_iterator, valid_iterator, test_iterator = torchtext.data.BucketIterator.splits(\n",
        "    (train_data, valid_data, test_data),\n",
        "    batch_size = BATCH_SIZE,\n",
        "    device = device)"
      ],
      "metadata": {
        "id": "zxZkMhByKiN6"
      },
      "execution_count": 67,
      "outputs": []
    },
    {
      "cell_type": "markdown",
      "source": [
        "-  vocab_size : 영화 리뷰에 대한 텍스트 길이,\n",
        "- n_classes : 레이블(긍정,부정)값을 지정.\n"
      ],
      "metadata": {
        "id": "uK2NpFTyFC69"
      }
    },
    {
      "cell_type": "code",
      "source": [
        "vocab_size = len(TEXT.vocab)\n",
        "n_classes = 2"
      ],
      "metadata": {
        "id": "xDguuSMDiXJu"
      },
      "execution_count": 68,
      "outputs": []
    },
    {
      "cell_type": "markdown",
      "source": [
        "\n",
        "\n",
        "```\n",
        "self.rnn = nn.RNN(embed_dim, self.hidden_dim, num_layers = self.n_layers, batch_first = True)\n",
        "```\n",
        "\n",
        "- embed_dim : 훈련 데이터셋의 특성(feature) 개수(칼럼 갯수)\n",
        "- self.hidden_dim : 은닉 계층의 뉴런(유닛) 개수\n",
        "- num_layers : RNN 계층의 갯수\n",
        "- batch_first : 기본값은 Flase, 입력 데이터의 형태는 (시퀀스의 길이, 배치 크기, 특성 개수)입니다. True로 설정하게 되면, 배치 크기가 맨 앞으로 오게 되며, (배치 크기, 시퀀스의 길이, 특성 개수) 형태가 됨.\n",
        "\n"
      ],
      "metadata": {
        "id": "rbmCOnGMFMoi"
      }
    },
    {
      "cell_type": "code",
      "source": [
        "class BasicRNN(nn.Module):\n",
        "    def __init__(self, n_layers, hidden_dim, n_vocab, embed_dim, n_classes, dropout_p = 0.2):\n",
        "        super(BasicRNN, self).__init__()\n",
        "        self.n_layers = n_layers\n",
        "        self.embed = nn.Embedding(n_vocab, embed_dim)\n",
        "        self.hidden_dim = hidden_dim\n",
        "        self.dropout = nn.Dropout(dropout_p)\n",
        "        self.rnn = nn.RNN(embed_dim, self.hidden_dim, num_layers = self.n_layers, batch_first = True)\n",
        "        self.out = nn.Linear(self.hidden_dim, n_classes)\n",
        "\n",
        "    def forward(self, x):\n",
        "        x = self.embed(x)\n",
        "        h_0 = self._init_state(batch_size = x.size(0))\n",
        "        x, _ = self.rnn(x, h_0)\n",
        "        h_t = x[:, -1, :]\n",
        "        self.dropout(h_t)\n",
        "        logit = torch.sigmoid(self.out(h_t))\n",
        "        return logit\n",
        "\n",
        "    def _init_state(self, batch_size = 1):\n",
        "        weight = next(self.parameters()).data\n",
        "        return weight.new(self.n_layers, batch_size, self.hidden_dim).zero_()"
      ],
      "metadata": {
        "id": "sx2L1GKMiYHS"
      },
      "execution_count": 69,
      "outputs": []
    },
    {
      "cell_type": "code",
      "source": [
        "model = BasicRNN(n_layers = 1, hidden_dim = 256, n_vocab = vocab_size, embed_dim = 128, n_classes = n_classes, dropout_p = 0.5)\n",
        "model.to(device)\n",
        "\n",
        "loss_fn = nn.CrossEntropyLoss()\n",
        "optimizer = torch.optim.Adam(model.parameters(), lr=0.0001)"
      ],
      "metadata": {
        "id": "CF2QJzZliZip"
      },
      "execution_count": 70,
      "outputs": []
    },
    {
      "cell_type": "code",
      "source": [
        "def train(model, optimizer, train_iter):\n",
        "    model.train()\n",
        "    for b, batch in enumerate(train_iter):\n",
        "        x, y = batch.text.to(device), batch.label.to(device)\n",
        "        y.data.sub_(1) #뺄셈에 대한 함수, 함수명에 '_'이 붙은 것은 inplace 연산을 하겠다는 의미.\n",
        "        optimizer.zero_grad()\n",
        "\n",
        "        logit = model(x)\n",
        "        loss = F.cross_entropy(logit, y)\n",
        "        loss.backward()\n",
        "        optimizer.step()\n",
        "\n",
        "        if b % 50 == 0:\n",
        "            print(\"Train Epoch: {} [{}/{} ({:.0f}%)]\\tLoss: {:.6f}\".format(e,\n",
        "                                                                           b * len(x),\n",
        "                                                                           len(train_iter.dataset),\n",
        "                                                                           100. * b / len(train_iter),\n",
        "                                                                           loss.item()))"
      ],
      "metadata": {
        "id": "PH-xClRjial8"
      },
      "execution_count": 71,
      "outputs": []
    },
    {
      "cell_type": "code",
      "source": [
        "def evaluate(model, val_iter):\n",
        "    model.eval()\n",
        "    corrects, total, total_loss = 0, 0, 0\n",
        "\n",
        "    for batch in val_iter:\n",
        "        x, y = batch.text.to(device), batch.label.to(device)\n",
        "        y.data.sub_(1)\n",
        "        logit = model(x)\n",
        "        loss = F.cross_entropy(logit, y, reduction = \"sum\")\n",
        "        total += y.size(0)\n",
        "        total_loss += loss.item()\n",
        "        corrects += (logit.max(1)[1].view(y.size()).data == y.data).sum()\n",
        "\n",
        "    avg_loss = total_loss / len(val_iter.dataset)\n",
        "    avg_accuracy = corrects / total\n",
        "    return avg_loss, avg_accuracy"
      ],
      "metadata": {
        "id": "R0DOkS20ib6w"
      },
      "execution_count": 72,
      "outputs": []
    },
    {
      "cell_type": "markdown",
      "source": [
        "\n",
        "\n",
        "```\n",
        "corrects += (logit.max(1)[1].view(y.size()).data == y.data).sum()\n",
        "```\n",
        "\n",
        "- max(1)[1] : max(dim=0)[0]은 최댓값을 나타내고, max(dim=0)[1] 최댓값을 갖는 데이터의 인덱스를 나타냄.\n",
        "\n",
        "- view(y.size()) : logit.max(1)[1] 결과는 y.size() 크기로 변경.\n",
        "\n",
        "-  data == y.data : 모델의 예측 결과(logit.max(1)[1].view(y.size()).data)가 레이블(실제값, y.data)과 같은지 확인함.\n",
        "\n",
        "- sum() : 모델의 예측 결과와 레이블(실제값)이 같으면 그 합을 corrects 변수에 누적하여 저장.\n",
        "\n"
      ],
      "metadata": {
        "id": "p-czhLgsIAHF"
      }
    },
    {
      "cell_type": "code",
      "source": [
        "BATCH_SIZE = 100\n",
        "LR = 0.001\n",
        "EPOCHS = 5\n",
        "for e in range(1, EPOCHS + 1):\n",
        "    train(model, optimizer, train_iterator)\n",
        "    val_loss, val_accuracy = evaluate(model, valid_iterator)\n",
        "    print(\"[EPOCH: %d], Validation Loss: %5.2f | Validation Accuracy: %5.2f\" % (e, val_loss, val_accuracy))"
      ],
      "metadata": {
        "colab": {
          "base_uri": "https://localhost:8080/"
        },
        "id": "ENNLsqNAizp4",
        "outputId": "b29ebd96-b948-4ac6-f742-40537c69d15a"
      },
      "execution_count": 73,
      "outputs": [
        {
          "output_type": "stream",
          "name": "stdout",
          "text": [
            "Train Epoch: 1 [0/20000 (0%)]\tLoss: 0.689679\n",
            "Train Epoch: 1 [5000/20000 (25%)]\tLoss: 0.693213\n",
            "Train Epoch: 1 [10000/20000 (50%)]\tLoss: 0.692673\n",
            "Train Epoch: 1 [15000/20000 (75%)]\tLoss: 0.699511\n",
            "[EPOCH: 1], Validation Loss:  0.69 | Validation Accuracy:  0.50\n",
            "Train Epoch: 2 [0/20000 (0%)]\tLoss: 0.694023\n",
            "Train Epoch: 2 [5000/20000 (25%)]\tLoss: 0.693710\n",
            "Train Epoch: 2 [10000/20000 (50%)]\tLoss: 0.692330\n",
            "Train Epoch: 2 [15000/20000 (75%)]\tLoss: 0.697187\n",
            "[EPOCH: 2], Validation Loss:  0.69 | Validation Accuracy:  0.50\n",
            "Train Epoch: 3 [0/20000 (0%)]\tLoss: 0.695271\n",
            "Train Epoch: 3 [5000/20000 (25%)]\tLoss: 0.692572\n",
            "Train Epoch: 3 [10000/20000 (50%)]\tLoss: 0.693820\n",
            "Train Epoch: 3 [15000/20000 (75%)]\tLoss: 0.691675\n",
            "[EPOCH: 3], Validation Loss:  0.69 | Validation Accuracy:  0.50\n",
            "Train Epoch: 4 [0/20000 (0%)]\tLoss: 0.687956\n",
            "Train Epoch: 4 [5000/20000 (25%)]\tLoss: 0.693896\n",
            "Train Epoch: 4 [10000/20000 (50%)]\tLoss: 0.693210\n",
            "Train Epoch: 4 [15000/20000 (75%)]\tLoss: 0.694819\n",
            "[EPOCH: 4], Validation Loss:  0.69 | Validation Accuracy:  0.51\n",
            "Train Epoch: 5 [0/20000 (0%)]\tLoss: 0.694675\n",
            "Train Epoch: 5 [5000/20000 (25%)]\tLoss: 0.694057\n",
            "Train Epoch: 5 [10000/20000 (50%)]\tLoss: 0.691674\n",
            "Train Epoch: 5 [15000/20000 (75%)]\tLoss: 0.687596\n",
            "[EPOCH: 5], Validation Loss:  0.69 | Validation Accuracy:  0.51\n"
          ]
        }
      ]
    },
    {
      "cell_type": "code",
      "source": [
        "test_loss, test_acc = evaluate(model,test_iterator)\n",
        "print(\"Test Loss: %5.2f | Test Accuracy: %5.2f\" % (test_loss, test_acc))"
      ],
      "metadata": {
        "colab": {
          "base_uri": "https://localhost:8080/"
        },
        "id": "5sTC-oPIi09f",
        "outputId": "f91c2f99-7e12-4283-9f8a-ed03545f138f"
      },
      "execution_count": 74,
      "outputs": [
        {
          "output_type": "stream",
          "name": "stdout",
          "text": [
            "Test Loss:  0.69 | Test Accuracy:  0.54\n"
          ]
        }
      ]
    },
    {
      "cell_type": "markdown",
      "source": [
        "# LSTM"
      ],
      "metadata": {
        "id": "S9fE7q6XtBuF"
      }
    },
    {
      "cell_type": "markdown",
      "source": [
        "### Model\n",
        "\n",
        "이제는 시계열 데이터 모델링을 위한 LSTM 모델을 구현해줄 차례입니다. LSTM (Long Short-Term Memory) 는 입력 시퀀스의 타임 스텝 $t$에 따라 hidden state $h_t$, cell state $c_t$에 따른 출력을 Equation 1과 같이 계산합니다. Equation 1의 $i_t, f_t, g_t, o_t$는 각각 input, forget, cell, output 게이트이며 $\\sigma$는 sigmoid 함수를 말합니다.\n",
        "\n",
        "\n",
        "<img src='https://www.researchgate.net/profile/Savvas-Varsamopoulos/publication/329362532/figure/fig5/AS:699592479870977@1543807253596/Structure-of-the-LSTM-cell-and-equations-that-describe-the-gates-of-an-LSTM-cell_W640.jpg'>"
      ],
      "metadata": {
        "id": "OgJkYMA2s_Wh"
      }
    },
    {
      "cell_type": "markdown",
      "source": [
        "Pytorch 에서는 torch.nn 모듈에서 LSTM 클래스를 쉽게 호출할 수 있습니다. LSTM 클래스 생성시 필요한 파라미터는 다음과 같습니다. \"num_layer\" 아규먼트를 통해 Multi-layer LSTM을 쉽게 구성할 수 있으며 \"num_layer\"가 2 이상일 경우, 타임스텝 $t$, layer $l$에 대한 입력으로는 ($x_t^l, l \\geq 2$) $h_t^{l-1}$에 dropout이 적용된 텐서가 적용됩니다."
      ],
      "metadata": {
        "id": "af3WBW9ss_Wi"
      }
    },
    {
      "cell_type": "markdown",
      "source": [
        "- input_size : 입력 $x$의 feature차원\n",
        "- hidden_size : hidden_feature 차원\n",
        "- num_layers : LSTM 층의 개수로 2개 이상일 경우 bais항을 추가할지 말지를 결정.\n",
        "- bias : default : True / bais 항을 추가할지 말지를 결정.\n",
        "- batch_frist : default : False, True일 경우 입력, 출력 모두 [배치사이즈, 입력 길이, feature 차원] 으로 구성되고 fasle일 경우 입력, 출력 모두 [입력 길이, 배치 사이즈, feature 차원]이 됨. 이러한 텐서 차원 순서는 hidden/cell state에는 적용되지 않습니다.\n",
        "\n",
        "- dropout : 마지막 layer의 출력을 제외하고 dropout을 적용함."
      ],
      "metadata": {
        "id": "lJPD1XUUs_Wi"
      }
    },
    {
      "cell_type": "markdown",
      "source": [
        "LSTM 모델을 사용할 때 주의할 점은 각 타임스텝 별로 hidden / cell state 가 업데이트되는 구조로 동작하기 때문에 초기 $h_0, c_0$를 목적에 맞게 선언해줄 수 있다는 점입니다 각각 [$D$*num_layers, 배치 사이즈, feature 차원] 크기로 되어있고 $D$는 bi-directional 일 경우 2, one-directional 일 경우 1이고 따로 제공되지 않을 경우 디폴트는 0으로 할당됩니다. 또한, 입력, 출력의 텐서 구조는 \"batch_first\" 아규먼트가 True / False 여부에 따라 배치 차원이 어디에 위치할지 결정됩니다. 일반적으로 배치 차원은 맨 앞에 있는 것이 편리하므로 \"batch_first=True\"로 설정하는 것이 낫습니다."
      ],
      "metadata": {
        "id": "cnJ76ua0s_Wi"
      }
    },
    {
      "cell_type": "markdown",
      "source": [
        "LSTM 모델에 대해서 forward 함수를 진행할 경우 출력은 \"output, $(h_n, c_n)$\" 이 됩니다. 출력텐서는 (\"output\") \"batch_first\" 아규먼트에 따라 True일 경우 [배치 사이즈, 입력 길이, $D$*feature 차원] 으로 구성되며 각 타임스텝 $t$에 따른 마지막 LSTM layer의 $h_t$를 담습니다. $h_n, c_n$의 크기는 [$D$*num_layers, 배치 사이즈, feature 차원] 으로 구성되며 마지막 타임스텝의 hidden / cell state가 담깁니다"
      ],
      "metadata": {
        "id": "oOFXcaz4s_Wj"
      }
    },
    {
      "cell_type": "code",
      "source": [
        "import torch\n",
        "import torch.nn as nn\n",
        "import torchvision.transforms as transforms\n",
        "import torchvision.datasets as dataset\n",
        "from torch.autograd import Variable\n",
        "from torch.nn import Parameter\n",
        "from torch import Tensor\n",
        "import torch.nn.functional as F\n",
        "from torch.utils.data import DataLoader\n",
        "import math\n",
        "\n",
        "device = torch.device('cuda:0' if torch.cuda.is_available() else 'cpu')\n",
        "cuda = True if torch.cuda.is_available() else False\n",
        "\n",
        "Tensor = torch.cuda.FloatTensor if cuda else torch.FloatTensor\n",
        "\n",
        "torch.manual_seed(125)\n",
        "if torch.cuda.is_available():\n",
        "    torch.cuda.manual_seed_all(125)"
      ],
      "metadata": {
        "id": "jdfSgebLi2sX"
      },
      "execution_count": 75,
      "outputs": []
    },
    {
      "cell_type": "code",
      "source": [
        "import torchvision.transforms as transforms\n",
        "\n",
        "mnist_transform = transforms.Compose([\n",
        "    transforms.ToTensor(),\n",
        "    transforms.Normalize((0.5,), (1.0,))\n",
        "])"
      ],
      "metadata": {
        "id": "D_b9HrkVtH7h"
      },
      "execution_count": 76,
      "outputs": []
    },
    {
      "cell_type": "code",
      "source": [
        "from torchvision.datasets import MNIST\n",
        "\n",
        "download_root = 'MNIST_DATASET/'\n",
        "\n",
        "train_dataset = MNIST(download_root, transform=mnist_transform, train=True, download=True)\n",
        "valid_dataset = MNIST(download_root, transform=mnist_transform, train=False, download=True)\n",
        "test_dataset = MNIST(download_root, transform=mnist_transform, train=False, download=True)"
      ],
      "metadata": {
        "colab": {
          "base_uri": "https://localhost:8080/"
        },
        "id": "rwXDHfmxtJMo",
        "outputId": "5c8da52e-f68d-4802-c393-54ae22640f88"
      },
      "execution_count": 77,
      "outputs": [
        {
          "output_type": "stream",
          "name": "stderr",
          "text": [
            "100%|██████████| 9.91M/9.91M [00:00<00:00, 12.7MB/s]\n",
            "100%|██████████| 28.9k/28.9k [00:00<00:00, 339kB/s]\n",
            "100%|██████████| 1.65M/1.65M [00:00<00:00, 3.17MB/s]\n",
            "100%|██████████| 4.54k/4.54k [00:00<00:00, 4.90MB/s]\n"
          ]
        }
      ]
    },
    {
      "cell_type": "code",
      "source": [
        "batch_size = 64\n",
        "train_loader = DataLoader(dataset=train_dataset,\n",
        "                         batch_size=batch_size,\n",
        "                         shuffle=True)\n",
        "valid_loader = DataLoader(dataset=test_dataset,\n",
        "                         batch_size=batch_size,\n",
        "                         shuffle=True)\n",
        "test_loader = DataLoader(dataset=test_dataset,\n",
        "                         batch_size=batch_size,\n",
        "                         shuffle=True)"
      ],
      "metadata": {
        "id": "O0TcL6idtKwa"
      },
      "execution_count": 78,
      "outputs": []
    },
    {
      "cell_type": "code",
      "source": [
        "batch_size = 100\n",
        "n_iters = 6000\n",
        "num_epochs = n_iters / (len(train_dataset) / batch_size)\n",
        "num_epochs = int(num_epochs)"
      ],
      "metadata": {
        "id": "O9YiAekFtNgy"
      },
      "execution_count": 79,
      "outputs": []
    },
    {
      "cell_type": "code",
      "source": [
        "class LSTMCell(nn.Module):\n",
        "    def __init__(self, input_size, hidden_size, bias=True):\n",
        "        super(LSTMCell, self).__init__()\n",
        "        self.input_size = input_size\n",
        "        self.hidden_size = hidden_size\n",
        "        self.bias = bias\n",
        "        self.x2h = nn.Linear(input_size, 4 * hidden_size, bias=bias)\n",
        "        self.h2h = nn.Linear(hidden_size, 4 * hidden_size, bias=bias)\n",
        "        self.reset_parameters()\n",
        "\n",
        "    def reset_parameters(self):\n",
        "        std = 1.0 / math.sqrt(self.hidden_size)\n",
        "        for w in self.parameters():\n",
        "            w.data.uniform_(-std, std)\n",
        "\n",
        "    def forward(self, x, hidden):\n",
        "        hx, cx = hidden\n",
        "        x = x.view(-1, x.size(1))\n",
        "\n",
        "        gates = self.x2h(x) + self.h2h(hx)\n",
        "        gates = gates.squeeze()\n",
        "        ingate, forgetgate, cellgate, outgate = gates.chunk(4, 1)\n",
        "\n",
        "        ingate = F.sigmoid(ingate)\n",
        "        forgetgate = F.sigmoid(forgetgate)\n",
        "        cellgate = F.tanh(cellgate)\n",
        "        outgate = F.sigmoid(outgate)\n",
        "\n",
        "        cy = torch.mul(cx, forgetgate) +  torch.mul(ingate, cellgate)\n",
        "        hy = torch.mul(outgate, F.tanh(cy))\n",
        "        return (hy, cy)"
      ],
      "metadata": {
        "id": "cxgdq3UutO96"
      },
      "execution_count": 80,
      "outputs": []
    },
    {
      "cell_type": "markdown",
      "source": [
        "\n",
        "\n",
        "```\n",
        "self.x2h = nn.Linear(input_size, 4 * hidden_size, bias=bias)\n",
        "self.h2h = nn.Linear(hidden_size, 4 * hidden_size, bias=bias)\n",
        "```\n",
        "\n",
        "- 왜 4 *hidden_size가 사용되고 있을까요?\n",
        "\n",
        "<img src='https://www.researchgate.net/profile/Savvas-Varsamopoulos/publication/329362532/figure/fig5/AS:699592479870977@1543807253596/Structure-of-the-LSTM-cell-and-equations-that-describe-the-gates-of-an-LSTM-cell_W640.jpg'>\n",
        "\n",
        "- 게이트는 망각, 입력, 셀, 출력으로 구성되어 있다.\n",
        "\n",
        "\n"
      ],
      "metadata": {
        "id": "99u8MltLXM2o"
      }
    },
    {
      "cell_type": "markdown",
      "source": [
        "\n",
        "\n",
        "```\n",
        "gates = F.linear(input, w_ih, b_ih) + F.linear(hx, w_hh, b_hh)\n",
        "```\n",
        "\n",
        "앞의 F.linear\n",
        "- input : 입력층으로 입력되는 훈련 데이터셋의 특성(feature) 수(Column 수)\n",
        "- w_ih : 입력층과 은닉층 사이의 가중치\n",
        "- b_ih : 입력층과 은닉층 사이의 바이어스\n",
        "\n",
        "뒤의 F.linear\n",
        "- hx : 은닉층의 뉴런/유닛 개수(은닉층의 특성(feature) 개수)\n",
        "- w_hh : 은닉층과 은닉층 사이의 가중치\n",
        "- b_hh : 은닉층과 은닉층 사이의 바이어스\n",
        "\n"
      ],
      "metadata": {
        "id": "U6Bx0ZP6e_87"
      }
    },
    {
      "cell_type": "code",
      "source": [
        "class LSTMModel(nn.Module):\n",
        "    def __init__(self, input_dim, hidden_dim, layer_dim, output_dim, bias=True):\n",
        "        super(LSTMModel, self).__init__()\n",
        "        self.hidden_dim = hidden_dim\n",
        "\n",
        "        self.layer_dim = layer_dim\n",
        "        self.lstm = LSTMCell(input_dim, hidden_dim, layer_dim)\n",
        "        self.fc = nn.Linear(hidden_dim, output_dim)\n",
        "\n",
        "    def forward(self, x):\n",
        "        if torch.cuda.is_available():\n",
        "            h0 = Variable(torch.zeros(self.layer_dim, x.size(0), self.hidden_dim).cuda())\n",
        "        else:\n",
        "            h0 = Variable(torch.zeros(self.layer_dim, x.size(0), self.hidden_dim))\n",
        "\n",
        "        if torch.cuda.is_available():\n",
        "            c0 = Variable(torch.zeros(self.layer_dim, x.size(0), self.hidden_dim).cuda())\n",
        "        else:\n",
        "            c0 = Variable(torch.zeros(self.layer_dim, x.size(0), hidden_dim))\n",
        "\n",
        "        outs = []\n",
        "        cn = c0[0,:,:]\n",
        "        hn = h0[0,:,:]\n",
        "\n",
        "        for seq in range(x.size(1)):\n",
        "            hn, cn = self.lstm(x[:,seq,:], (hn,cn))\n",
        "            outs.append(hn)\n",
        "\n",
        "        out = outs[-1].squeeze()\n",
        "        out = self.fc(out)\n",
        "        return out"
      ],
      "metadata": {
        "id": "otDX0Sg3tQku"
      },
      "execution_count": 81,
      "outputs": []
    },
    {
      "cell_type": "code",
      "source": [
        "input_dim = 28\n",
        "hidden_dim = 128\n",
        "layer_dim = 1\n",
        "output_dim = 10\n",
        "\n",
        "model = LSTMModel(input_dim, hidden_dim, layer_dim, output_dim)\n",
        "if torch.cuda.is_available():\n",
        "    model.cuda()\n",
        "criterion = nn.CrossEntropyLoss()\n",
        "learning_rate = 0.1\n",
        "optimizer = torch.optim.SGD(model.parameters(), lr=learning_rate)"
      ],
      "metadata": {
        "id": "F3Hm4lUdtSH-"
      },
      "execution_count": 82,
      "outputs": []
    },
    {
      "cell_type": "code",
      "source": [
        "seq_dim = 28\n",
        "loss_list = []\n",
        "iter = 0\n",
        "for epoch in range(num_epochs):\n",
        "    for i, (images, labels) in enumerate(train_loader):\n",
        "        if torch.cuda.is_available():\n",
        "            images = Variable(images.view(-1, seq_dim, input_dim).cuda())\n",
        "            labels = Variable(labels.cuda())\n",
        "        else:\n",
        "            images = Variable(images.view(-1, seq_dim, input_dim))\n",
        "            labels = Variable(labels)\n",
        "\n",
        "        optimizer.zero_grad()\n",
        "        outputs = model(images)\n",
        "        loss = criterion(outputs, labels)\n",
        "\n",
        "        if torch.cuda.is_available():\n",
        "            loss.cuda()\n",
        "\n",
        "        loss.backward()\n",
        "        optimizer.step()\n",
        "        loss_list.append(loss.item())\n",
        "        iter += 1\n",
        "\n",
        "        if iter % 500 == 0:\n",
        "            correct = 0\n",
        "            total = 0\n",
        "            for images, labels in valid_loader:\n",
        "                if torch.cuda.is_available():\n",
        "                    images = Variable(images.view(-1, seq_dim, input_dim).cuda())\n",
        "                else:\n",
        "                    images = Variable(images.view(-1 , seq_dim, input_dim))\n",
        "\n",
        "                outputs = model(images)\n",
        "                _, predicted = torch.max(outputs.data, 1)\n",
        "\n",
        "                total += labels.size(0)\n",
        "                if torch.cuda.is_available():\n",
        "                    correct += (predicted.cpu() == labels.cpu()).sum()\n",
        "                else:\n",
        "                    correct += (predicted == labels).sum()\n",
        "\n",
        "            accuracy = 100 * correct / total\n",
        "            print('Iteration: {}. Loss: {}. Accuracy: {}'.format(iter, loss.item(), accuracy))"
      ],
      "metadata": {
        "colab": {
          "base_uri": "https://localhost:8080/"
        },
        "id": "XB7Y0aNgtTxd",
        "outputId": "40975404-69c2-4160-b008-6132322770d2"
      },
      "execution_count": 83,
      "outputs": [
        {
          "output_type": "stream",
          "name": "stdout",
          "text": [
            "Iteration: 500. Loss: 2.237457275390625. Accuracy: 21.420000076293945\n",
            "Iteration: 1000. Loss: 0.9968994855880737. Accuracy: 74.94999694824219\n",
            "Iteration: 1500. Loss: 0.42673957347869873. Accuracy: 88.13999938964844\n",
            "Iteration: 2000. Loss: 0.30981600284576416. Accuracy: 93.56999969482422\n",
            "Iteration: 2500. Loss: 0.0558248832821846. Accuracy: 95.69000244140625\n",
            "Iteration: 3000. Loss: 0.09873700886964798. Accuracy: 95.58000183105469\n",
            "Iteration: 3500. Loss: 0.08254366368055344. Accuracy: 96.8499984741211\n",
            "Iteration: 4000. Loss: 0.03308983892202377. Accuracy: 97.08000183105469\n",
            "Iteration: 4500. Loss: 0.049307383596897125. Accuracy: 97.08000183105469\n",
            "Iteration: 5000. Loss: 0.08068697154521942. Accuracy: 96.69999694824219\n",
            "Iteration: 5500. Loss: 0.12790139019489288. Accuracy: 97.30999755859375\n",
            "Iteration: 6000. Loss: 0.007093742024153471. Accuracy: 97.66000366210938\n",
            "Iteration: 6500. Loss: 0.011727366596460342. Accuracy: 97.63999938964844\n",
            "Iteration: 7000. Loss: 0.008610538206994534. Accuracy: 98.06999969482422\n",
            "Iteration: 7500. Loss: 0.027341270819306374. Accuracy: 97.8499984741211\n",
            "Iteration: 8000. Loss: 0.10305538773536682. Accuracy: 97.5199966430664\n",
            "Iteration: 8500. Loss: 0.007204337045550346. Accuracy: 98.13999938964844\n",
            "Iteration: 9000. Loss: 0.012087937444448471. Accuracy: 97.4800033569336\n"
          ]
        }
      ]
    },
    {
      "cell_type": "code",
      "source": [
        "def evaluate(model, val_iter):\n",
        "    corrects, total, total_loss = 0, 0, 0\n",
        "    model.eval()\n",
        "    for images, labels in val_iter:\n",
        "        if torch.cuda.is_available():\n",
        "            images = Variable(images.view(-1, seq_dim, input_dim).cuda())\n",
        "        else:\n",
        "            images = Variable(images.view(-1 , seq_dim, input_dim)).to(device)\n",
        "        labels = labels.cuda()\n",
        "        logit = model(images).cuda()\n",
        "        loss = F.cross_entropy(logit, labels, reduction = \"sum\")\n",
        "        _, predicted = torch.max(logit.data, 1)\n",
        "        total += labels.size(0)\n",
        "        total_loss += loss.item()\n",
        "        corrects += (predicted == labels).sum()\n",
        "\n",
        "    avg_loss = total_loss / len(val_iter.dataset)\n",
        "    avg_accuracy = corrects / total\n",
        "    return avg_loss, avg_accuracy"
      ],
      "metadata": {
        "id": "9nHnoUXCtVto"
      },
      "execution_count": 84,
      "outputs": []
    },
    {
      "cell_type": "code",
      "source": [
        "test_loss, test_acc = evaluate(model,test_loader)\n",
        "print(\"Test Loss: %5.2f | Test Accuracy: %5.2f\" % (test_loss, test_acc))"
      ],
      "metadata": {
        "colab": {
          "base_uri": "https://localhost:8080/"
        },
        "id": "mslJge22tXVr",
        "outputId": "3b370bd8-fe50-4f12-fdc7-be559c5a1847"
      },
      "execution_count": 85,
      "outputs": [
        {
          "output_type": "stream",
          "name": "stdout",
          "text": [
            "Test Loss:  0.07 | Test Accuracy:  0.98\n"
          ]
        }
      ]
    },
    {
      "cell_type": "markdown",
      "source": [
        "## GRU\n",
        "- GRU는 기존 LSTM의 구조를 조금 더 간단하게 개선한 모델입니다. 그리고 모델의 대략적인 구조와 수식은 아래와 같습니다.\n",
        "\n",
        "-   LSTM의 경우 forget gate, input gate, output gate 3개의 gate가 있었지만, GRU에서는 reset gate, update gate 2개의 gate만을 사용합니다. 또한 cell state, hidden state가 합쳐져 하나의 hidden state로 표현하고 있습니다.\n",
        "  - Reset Gate : 이전 시점의 hidden state와 현 시점의 x를 활성화함수 시그모이드를 적용하여 구하는 방식입니다. 결과값은 0~1 사이의 값을 가질 것이며 이전 hidden state의 값을 얼마나 활용할 것인지에 대한 정보로 해석할 수 있을 것입니다.\n",
        "  \n",
        "  - Update Gate : STM의 input, forget gate와 비슷한 역할을 하며 과거와 현재의 정보를 각각 얼마나 반영할지에 대한 비율을 구하는 것이 핵심\n",
        "\n",
        "-  GRU는 기존 LSTM에 비해 더 간단한 구조를 가지고 있습니다. 그리고 마지막 출력값에 활성화함수를 적용하지 않습니다. 성능 면에서는 LSTM과 비교해서 우월하다고 할 수 없지만 학습할 파라미터가 더 적은 것이 장점이라고 할 수 있습니다.|\n",
        "\n"
      ],
      "metadata": {
        "id": "65tB5Qd4hKtU"
      }
    },
    {
      "cell_type": "markdown",
      "source": [
        "<img src='http://colah.github.io/posts/2015-08-Understanding-LSTMs/img/LSTM3-var-GRU.png'>"
      ],
      "metadata": {
        "id": "j2KXqqrbkviK"
      }
    },
    {
      "cell_type": "code",
      "source": [
        "import torch\n",
        "import torch.nn as nn\n",
        "import torchvision.transforms as transforms\n",
        "import torchvision.datasets as dataset\n",
        "from torch.autograd import Variable\n",
        "from torch.nn import Parameter\n",
        "from torch import Tensor\n",
        "import torch.nn.functional as F\n",
        "from torch.utils.data import DataLoader\n",
        "import math\n",
        "\n",
        "device = torch.device('cuda:0' if torch.cuda.is_available() else 'cpu')\n",
        "cuda = True if torch.cuda.is_available() else False\n",
        "\n",
        "Tensor = torch.cuda.FloatTensor if cuda else torch.FloatTensor\n",
        "\n",
        "torch.manual_seed(125)\n",
        "if torch.cuda.is_available():\n",
        "    torch.cuda.manual_seed_all(125)"
      ],
      "metadata": {
        "id": "W_hfO9mmtYg4"
      },
      "execution_count": 86,
      "outputs": []
    },
    {
      "cell_type": "code",
      "source": [
        "mnist_transform = transforms.Compose([\n",
        "    transforms.ToTensor(),\n",
        "    transforms.Normalize((0.5,), (1.0,))\n",
        "])"
      ],
      "metadata": {
        "id": "arBOcbYihMf8"
      },
      "execution_count": 87,
      "outputs": []
    },
    {
      "cell_type": "code",
      "source": [
        "from torchvision.datasets import MNIST\n",
        "download_root = 'MNIST_DATASET/'\n",
        "\n",
        "train_dataset = MNIST(download_root, transform=mnist_transform, train=True, download=True)\n",
        "valid_dataset = MNIST(download_root, transform=mnist_transform, train=False, download=True)\n",
        "test_dataset = MNIST(download_root, transform=mnist_transform, train=False, download=True)"
      ],
      "metadata": {
        "id": "h_bY-X-_hN2J"
      },
      "execution_count": 88,
      "outputs": []
    },
    {
      "cell_type": "code",
      "source": [
        "batch_size = 64\n",
        "train_loader = DataLoader(dataset=train_dataset,\n",
        "                         batch_size=batch_size,\n",
        "                         shuffle=True)\n",
        "valid_loader = DataLoader(dataset=test_dataset,\n",
        "                         batch_size=batch_size,\n",
        "                         shuffle=True)\n",
        "test_loader = DataLoader(dataset=test_dataset,\n",
        "                         batch_size=batch_size,\n",
        "                         shuffle=True)"
      ],
      "metadata": {
        "id": "4Hs6ERyUhO4z"
      },
      "execution_count": 89,
      "outputs": []
    },
    {
      "cell_type": "code",
      "source": [
        "batch_size = 100\n",
        "n_iters = 6000\n",
        "num_epochs = n_iters / (len(train_dataset) / batch_size)\n",
        "num_epochs = int(num_epochs)"
      ],
      "metadata": {
        "id": "wXfGvneRhP4r"
      },
      "execution_count": 90,
      "outputs": []
    },
    {
      "cell_type": "code",
      "source": [
        "class GRUCell(nn.Module):\n",
        "    def __init__(self, input_size, hidden_size, bias=True):\n",
        "        super(GRUCell, self).__init__()\n",
        "        self.input_size = input_size\n",
        "        self.hidden_size = hidden_size\n",
        "        self.bias = bias\n",
        "        self.x2h = nn.Linear(input_size, 3 * hidden_size, bias=bias)\n",
        "        self.h2h = nn.Linear(hidden_size, 3 * hidden_size, bias=bias)\n",
        "        self.reset_parameters()\n",
        "\n",
        "    def reset_parameters(self):\n",
        "        std = 1.0 / math.sqrt(self.hidden_size)\n",
        "        for w in self.parameters():\n",
        "            w.data.uniform_(-std, std)\n",
        "\n",
        "    def forward(self, x, hidden):\n",
        "        x = x.view(-1, x.size(1))\n",
        "\n",
        "        gate_x = self.x2h(x)\n",
        "        gate_h = self.h2h(hidden)\n",
        "\n",
        "        gate_x = gate_x.squeeze()\n",
        "        gate_h = gate_h.squeeze()\n",
        "\n",
        "        i_r, i_i, i_n = gate_x.chunk(3, 1)\n",
        "        h_r, h_i, h_n = gate_h.chunk(3, 1)\n",
        "\n",
        "        resetgate = F.sigmoid(i_r + h_r)\n",
        "        inputgate = F.sigmoid(i_i + h_i)\n",
        "        newgate = F.tanh(i_n + (resetgate * h_n))\n",
        "\n",
        "        hy = newgate + inputgate * (hidden - newgate)\n",
        "        return hy"
      ],
      "metadata": {
        "id": "_QaO-ZSFhQxw"
      },
      "execution_count": 91,
      "outputs": []
    },
    {
      "cell_type": "code",
      "source": [
        "class GRUModel(nn.Module):\n",
        "    def __init__(self, input_dim, hidden_dim, layer_dim, output_dim, bias=True):\n",
        "        super(GRUModel, self).__init__()\n",
        "        self.hidden_dim = hidden_dim\n",
        "        self.layer_dim = layer_dim\n",
        "        self.gru_cell = GRUCell(input_dim, hidden_dim, layer_dim)\n",
        "        self.fc = nn.Linear(hidden_dim, output_dim)\n",
        "\n",
        "    def forward(self, x):\n",
        "        if torch.cuda.is_available():\n",
        "            h0 = Variable(torch.zeros(self.layer_dim, x.size(0), self.hidden_dim).cuda())\n",
        "        else:\n",
        "            h0 = Variable(torch.zeros(self.layer_dim, x.size(0), self.hidden_dim))\n",
        "\n",
        "        outs = []\n",
        "        hn = h0[0,:,:]\n",
        "\n",
        "        for seq in range(x.size(1)):\n",
        "            hn = self.gru_cell(x[:,seq,:], hn)\n",
        "            outs.append(hn)\n",
        "\n",
        "        out = outs[-1].squeeze()\n",
        "        out = self.fc(out)\n",
        "        return out"
      ],
      "metadata": {
        "id": "wwtDLzE-hSlJ"
      },
      "execution_count": 92,
      "outputs": []
    },
    {
      "cell_type": "code",
      "source": [
        "input_dim = 28\n",
        "hidden_dim = 128\n",
        "layer_dim = 1\n",
        "output_dim = 10\n",
        "\n",
        "model = GRUModel(input_dim, hidden_dim, layer_dim, output_dim)\n",
        "\n",
        "if torch.cuda.is_available():\n",
        "    model.cuda()\n",
        "\n",
        "criterion = nn.CrossEntropyLoss()\n",
        "learning_rate = 0.1\n",
        "optimizer = torch.optim.SGD(model.parameters(), lr=learning_rate)"
      ],
      "metadata": {
        "id": "EXroob8EhTvV"
      },
      "execution_count": 93,
      "outputs": []
    },
    {
      "cell_type": "code",
      "source": [
        "seq_dim = 28\n",
        "loss_list = []\n",
        "iter = 0\n",
        "for epoch in range(num_epochs):\n",
        "    for i, (images, labels) in enumerate(train_loader):\n",
        "        if torch.cuda.is_available():\n",
        "            images = Variable(images.view(-1, seq_dim, input_dim).cuda())\n",
        "            labels = Variable(labels.cuda())\n",
        "        else:\n",
        "            images = Variable(images.view(-1, seq_dim, input_dim))\n",
        "            labels = Variable(labels)\n",
        "\n",
        "        optimizer.zero_grad()\n",
        "        outputs = model(images)\n",
        "        loss = criterion(outputs, labels)\n",
        "\n",
        "        if torch.cuda.is_available():\n",
        "            loss.cuda()\n",
        "\n",
        "        loss.backward()\n",
        "        optimizer.step()\n",
        "\n",
        "        loss_list.append(loss.item())\n",
        "        iter += 1\n",
        "\n",
        "        if iter % 500 == 0:\n",
        "            correct = 0\n",
        "            total = 0\n",
        "            for images, labels in valid_loader:\n",
        "                if torch.cuda.is_available():\n",
        "                    images = Variable(images.view(-1, seq_dim, input_dim).cuda())\n",
        "                else:\n",
        "                    images = Variable(images.view(-1 , seq_dim, input_dim))\n",
        "\n",
        "                outputs = model(images)\n",
        "                _, predicted = torch.max(outputs.data, 1)\n",
        "                total += labels.size(0)\n",
        "\n",
        "                if torch.cuda.is_available():\n",
        "                    correct += (predicted.cpu() == labels.cpu()).sum()\n",
        "                else:\n",
        "                    correct += (predicted == labels).sum()\n",
        "\n",
        "            accuracy = 100 * correct / total\n",
        "            print('Iteration: {}. Loss: {}. Accuracy: {}'.format(iter, loss.item(), accuracy))"
      ],
      "metadata": {
        "colab": {
          "base_uri": "https://localhost:8080/"
        },
        "id": "8_HqceMahU_6",
        "outputId": "a09e50c7-ee78-49d9-9650-194ffa245559"
      },
      "execution_count": 94,
      "outputs": [
        {
          "output_type": "stream",
          "name": "stdout",
          "text": [
            "Iteration: 500. Loss: 1.6616928577423096. Accuracy: 43.59000015258789\n",
            "Iteration: 1000. Loss: 0.8945668339729309. Accuracy: 76.19999694824219\n",
            "Iteration: 1500. Loss: 0.29147759079933167. Accuracy: 89.7300033569336\n",
            "Iteration: 2000. Loss: 0.23627927899360657. Accuracy: 93.51000213623047\n",
            "Iteration: 2500. Loss: 0.03288726136088371. Accuracy: 95.05000305175781\n",
            "Iteration: 3000. Loss: 0.030374974012374878. Accuracy: 95.81999969482422\n",
            "Iteration: 3500. Loss: 0.16210567951202393. Accuracy: 96.33999633789062\n",
            "Iteration: 4000. Loss: 0.19308766722679138. Accuracy: 96.19000244140625\n",
            "Iteration: 4500. Loss: 0.051720067858695984. Accuracy: 97.0\n",
            "Iteration: 5000. Loss: 0.13900163769721985. Accuracy: 97.26000213623047\n",
            "Iteration: 5500. Loss: 0.08090294152498245. Accuracy: 97.62000274658203\n",
            "Iteration: 6000. Loss: 0.10488356649875641. Accuracy: 97.69000244140625\n",
            "Iteration: 6500. Loss: 0.07984025031328201. Accuracy: 97.80000305175781\n",
            "Iteration: 7000. Loss: 0.10250380635261536. Accuracy: 97.55999755859375\n",
            "Iteration: 7500. Loss: 0.0647798627614975. Accuracy: 97.86000061035156\n",
            "Iteration: 8000. Loss: 0.10547610372304916. Accuracy: 97.80000305175781\n",
            "Iteration: 8500. Loss: 0.04281146451830864. Accuracy: 98.0199966430664\n",
            "Iteration: 9000. Loss: 0.041988763958215714. Accuracy: 98.22000122070312\n"
          ]
        }
      ]
    },
    {
      "cell_type": "code",
      "source": [
        "def evaluate(model, val_iter):\n",
        "    corrects, total, total_loss = 0, 0, 0\n",
        "    model.eval()\n",
        "    for images, labels in val_iter:\n",
        "        if torch.cuda.is_available():\n",
        "            images = Variable(images.view(-1, seq_dim, input_dim).cuda())\n",
        "        else:\n",
        "            images = Variable(images.view(-1 , seq_dim, input_dim)).to(device)\n",
        "        labels = labels.cuda()\n",
        "        logit = model(images).cuda()\n",
        "        loss = F.cross_entropy(logit, labels, reduction = \"sum\")\n",
        "        _, predicted = torch.max(logit.data, 1)\n",
        "        total += labels.size(0)\n",
        "        total_loss += loss.item()\n",
        "        corrects += (predicted == labels).sum()\n",
        "\n",
        "    avg_loss = total_loss / len(val_iter.dataset)\n",
        "    avg_accuracy = corrects / total\n",
        "    return avg_loss, avg_accuracy"
      ],
      "metadata": {
        "id": "S22NKeLEhWgA"
      },
      "execution_count": 95,
      "outputs": []
    },
    {
      "cell_type": "code",
      "source": [
        "test_loss, test_acc = evaluate(model,test_loader)\n",
        "print(\"Test Loss: %5.2f | Test Accuracy: %5.2f\" % (test_loss, test_acc))"
      ],
      "metadata": {
        "colab": {
          "base_uri": "https://localhost:8080/"
        },
        "id": "Js2_cE7ThYBD",
        "outputId": "f75b5123-5d73-4db5-8119-06682385e77b"
      },
      "execution_count": 96,
      "outputs": [
        {
          "output_type": "stream",
          "name": "stdout",
          "text": [
            "Test Loss:  0.07 | Test Accuracy:  0.98\n"
          ]
        }
      ]
    },
    {
      "cell_type": "markdown",
      "source": [
        "# Transformer\n"
      ],
      "metadata": {
        "id": "1oOiIPki8O6_"
      }
    },
    {
      "cell_type": "markdown",
      "source": [
        "# Transformer 참고 : https://cpm0722.github.io/pytorch-implementation/transformer"
      ],
      "metadata": {
        "id": "hfN-Q9iekHGq"
      }
    },
    {
      "cell_type": "code",
      "source": [
        "import torch\n",
        "import torch.nn as nn\n",
        "import math\n",
        "\n",
        "# Positional Encoding: 위치 정보를 추가해줌\n",
        "class PositionalEncoding(nn.Module):\n",
        "    def __init__(self, d_model, max_len=5000):\n",
        "        super(PositionalEncoding, self).__init__()\n",
        "\n",
        "        pe = torch.zeros(max_len, d_model)\n",
        "        position = torch.arange(0, max_len).unsqueeze(1).float()\n",
        "        div_term = torch.exp(torch.arange(0, d_model, 2).float() * (-math.log(10000.0) / d_model))\n",
        "\n",
        "        pe[:, 0::2] = torch.sin(position * div_term)\n",
        "        pe[:, 1::2] = torch.cos(position * div_term)\n",
        "\n",
        "        pe = pe.unsqueeze(0)  # (1, max_len, d_model)\n",
        "        self.register_buffer('pe', pe)  # 학습하지 않는 매개변수로 등록\n",
        "\n",
        "    def forward(self, x):\n",
        "        x = x + self.pe[:, :x.size(1)]\n",
        "        return x\n",
        "\n",
        "#  Scaled Dot-Product Attention: 핵심 attention 계산\n",
        "def scaled_dot_product_attention(q, k, v, mask=None):\n",
        "    d_k = q.size(-1)\n",
        "    scores = torch.matmul(q, k.transpose(-2, -1)) / math.sqrt(d_k)\n",
        "\n",
        "    if mask is not None:\n",
        "        scores = scores.masked_fill(mask == 0, -1e9)\n",
        "\n",
        "    attn = torch.softmax(scores, dim=-1)\n",
        "    output = torch.matmul(attn, v)\n",
        "    return output, attn\n",
        "\n",
        "#  Multi-Head Attention: 여러 개의 attention head\n",
        "class MultiHeadAttention(nn.Module):\n",
        "    def __init__(self, d_model, num_heads):\n",
        "        super(MultiHeadAttention, self).__init__()\n",
        "        assert d_model % num_heads == 0\n",
        "\n",
        "        self.d_k = d_model // num_heads\n",
        "        self.num_heads = num_heads\n",
        "\n",
        "        self.q_linear = nn.Linear(d_model, d_model)\n",
        "        self.k_linear = nn.Linear(d_model, d_model)\n",
        "        self.v_linear = nn.Linear(d_model, d_model)\n",
        "        self.out = nn.Linear(d_model, d_model)\n",
        "\n",
        "    def forward(self, q, k, v, mask=None):\n",
        "        batch_size = q.size(0)\n",
        "\n",
        "        # Linear projection + reshape\n",
        "        q = self.q_linear(q).view(batch_size, -1, self.num_heads, self.d_k).transpose(1,2)\n",
        "        k = self.k_linear(k).view(batch_size, -1, self.num_heads, self.d_k).transpose(1,2)\n",
        "        v = self.v_linear(v).view(batch_size, -1, self.num_heads, self.d_k).transpose(1,2)\n",
        "\n",
        "        # Apply scaled dot-product attention\n",
        "        output, attn = scaled_dot_product_attention(q, k, v, mask)\n",
        "\n",
        "        # Concatenate heads\n",
        "        output = output.transpose(1,2).contiguous().view(batch_size, -1, self.num_heads * self.d_k)\n",
        "\n",
        "        # Final linear layer\n",
        "        output = self.out(output)\n",
        "        return output\n",
        "\n",
        "#  Position-wise Feed Forward\n",
        "class PositionwiseFeedForward(nn.Module):\n",
        "    def __init__(self, d_model, d_ff):\n",
        "        super(PositionwiseFeedForward, self).__init__()\n",
        "        self.fc1 = nn.Linear(d_model, d_ff)\n",
        "        self.fc2 = nn.Linear(d_ff, d_model)\n",
        "\n",
        "    def forward(self, x):\n",
        "        return self.fc2(torch.relu(self.fc1(x)))\n",
        "\n",
        "#  Encoder Layer\n",
        "class EncoderLayer(nn.Module):\n",
        "    def __init__(self, d_model, num_heads, d_ff, dropout=0.1):\n",
        "        super(EncoderLayer, self).__init__()\n",
        "        self.self_attn = MultiHeadAttention(d_model, num_heads)\n",
        "        self.feed_forward = PositionwiseFeedForward(d_model, d_ff)\n",
        "        self.norm1 = nn.LayerNorm(d_model)\n",
        "        self.norm2 = nn.LayerNorm(d_model)\n",
        "        self.dropout1 = nn.Dropout(dropout)\n",
        "        self.dropout2 = nn.Dropout(dropout)\n",
        "\n",
        "    def forward(self, src, src_mask=None):\n",
        "        # Self Attention + Add & Norm\n",
        "        src2 = self.self_attn(src, src, src, src_mask)\n",
        "        src = self.norm1(src + self.dropout1(src2))\n",
        "        # Feed Forward + Add & Norm\n",
        "        src2 = self.feed_forward(src)\n",
        "        src = self.norm2(src + self.dropout2(src2))\n",
        "        return src\n",
        "\n",
        "#  Decoder Layer\n",
        "class DecoderLayer(nn.Module):\n",
        "    def __init__(self, d_model, num_heads, d_ff, dropout=0.1):\n",
        "        super(DecoderLayer, self).__init__()\n",
        "        self.self_attn = MultiHeadAttention(d_model, num_heads)\n",
        "        self.cross_attn = MultiHeadAttention(d_model, num_heads)\n",
        "        self.feed_forward = PositionwiseFeedForward(d_model, d_ff)\n",
        "        self.norm1 = nn.LayerNorm(d_model)\n",
        "        self.norm2 = nn.LayerNorm(d_model)\n",
        "        self.norm3 = nn.LayerNorm(d_model)\n",
        "        self.dropout1 = nn.Dropout(dropout)\n",
        "        self.dropout2 = nn.Dropout(dropout)\n",
        "        self.dropout3 = nn.Dropout(dropout)\n",
        "\n",
        "    def forward(self, tgt, memory, tgt_mask=None, memory_mask=None):\n",
        "        # Masked Self Attention\n",
        "        tgt2 = self.self_attn(tgt, tgt, tgt, tgt_mask)\n",
        "        tgt = self.norm1(tgt + self.dropout1(tgt2))\n",
        "        # Cross Attention (Decoder attends to Encoder output)\n",
        "        tgt2 = self.cross_attn(tgt, memory, memory, memory_mask)\n",
        "        tgt = self.norm2(tgt + self.dropout2(tgt2))\n",
        "        # Feed Forward\n",
        "        tgt2 = self.feed_forward(tgt)\n",
        "        tgt = self.norm3(tgt + self.dropout3(tgt2))\n",
        "        return tgt\n",
        "\n",
        "#  Full Encoder\n",
        "class Encoder(nn.Module):\n",
        "    def __init__(self, vocab_size, d_model, num_layers, num_heads, d_ff, dropout):\n",
        "        super(Encoder, self).__init__()\n",
        "        self.embedding = nn.Embedding(vocab_size, d_model)\n",
        "        self.pos_encoder = PositionalEncoding(d_model)\n",
        "        self.layers = nn.ModuleList([EncoderLayer(d_model, num_heads, d_ff, dropout) for _ in range(num_layers)])\n",
        "        self.dropout = nn.Dropout(dropout)\n",
        "\n",
        "    def forward(self, src, src_mask=None):\n",
        "        src = self.embedding(src) * math.sqrt(self.embedding.embedding_dim)\n",
        "        src = self.pos_encoder(src)\n",
        "        src = self.dropout(src)\n",
        "\n",
        "        for layer in self.layers:\n",
        "            src = layer(src, src_mask)\n",
        "\n",
        "        return src\n",
        "\n",
        "#  Full Decoder\n",
        "class Decoder(nn.Module):\n",
        "    def __init__(self, vocab_size, d_model, num_layers, num_heads, d_ff, dropout):\n",
        "        super(Decoder, self).__init__()\n",
        "        self.embedding = nn.Embedding(vocab_size, d_model)\n",
        "        self.pos_encoder = PositionalEncoding(d_model)\n",
        "        self.layers = nn.ModuleList([DecoderLayer(d_model, num_heads, d_ff, dropout) for _ in range(num_layers)])\n",
        "        self.dropout = nn.Dropout(dropout)\n",
        "\n",
        "    def forward(self, tgt, memory, tgt_mask=None, memory_mask=None):\n",
        "        tgt = self.embedding(tgt) * math.sqrt(self.embedding.embedding_dim)\n",
        "        tgt = self.pos_encoder(tgt)\n",
        "        tgt = self.dropout(tgt)\n",
        "\n",
        "        for layer in self.layers:\n",
        "            tgt = layer(tgt, memory, tgt_mask, memory_mask)\n",
        "\n",
        "        return tgt\n",
        "\n",
        "#  Transformer (Encoder + Decoder)\n",
        "class Transformer(nn.Module):\n",
        "    def __init__(self, src_vocab_size, tgt_vocab_size, d_model=512, num_layers=6, num_heads=8, d_ff=2048, dropout=0.1):\n",
        "        super(Transformer, self).__init__()\n",
        "        self.encoder = Encoder(src_vocab_size, d_model, num_layers, num_heads, d_ff, dropout)\n",
        "        self.decoder = Decoder(tgt_vocab_size, d_model, num_layers, num_heads, d_ff, dropout)\n",
        "        self.out = nn.Linear(d_model, tgt_vocab_size)\n",
        "\n",
        "    def forward(self, src, tgt, src_mask=None, tgt_mask=None, memory_mask=None):\n",
        "        memory = self.encoder(src, src_mask)\n",
        "        output = self.decoder(tgt, memory, tgt_mask, memory_mask)\n",
        "        output = self.out(output)\n",
        "        return output\n",
        "\n",
        "# Mask 생성 함수 (디코더용)\n",
        "def generate_square_subsequent_mask(sz):\n",
        "    mask = torch.triu(torch.ones(sz, sz), diagonal=1)\n",
        "    return mask == 0\n"
      ],
      "metadata": {
        "id": "dUNOUme3kJH9"
      },
      "execution_count": 102,
      "outputs": []
    },
    {
      "cell_type": "markdown",
      "source": [
        "#### Tiny 번역 시스템"
      ],
      "metadata": {
        "id": "9k3OAB2f90Ng"
      }
    },
    {
      "cell_type": "code",
      "source": [
        "# 간단한 source-target 데이터\n",
        "src_sentences = ['hello', 'world', 'hello world']\n",
        "tgt_sentences = ['안녕', '세계', '안녕 세계']"
      ],
      "metadata": {
        "id": "6rbHJCs591Z1"
      },
      "execution_count": 103,
      "outputs": []
    },
    {
      "cell_type": "markdown",
      "source": [
        "vocab 만들기"
      ],
      "metadata": {
        "id": "1BW0EDJV9268"
      }
    },
    {
      "cell_type": "code",
      "source": [
        "from collections import defaultdict\n",
        "\n",
        "def build_vocab(sentences):\n",
        "    vocab = {'<pad>': 0, '<sos>':1, '<eos>':2}\n",
        "    idx = 3\n",
        "    for sent in sentences:\n",
        "        for word in sent.split():\n",
        "            if word not in vocab:\n",
        "                vocab[word] = idx\n",
        "                idx += 1\n",
        "    return vocab\n",
        "\n",
        "src_vocab = build_vocab(src_sentences)\n",
        "tgt_vocab = build_vocab(tgt_sentences)\n",
        "\n",
        "print(src_vocab)\n",
        "print(tgt_vocab)"
      ],
      "metadata": {
        "colab": {
          "base_uri": "https://localhost:8080/"
        },
        "id": "qvHxWuak92Ym",
        "outputId": "6c3a914b-1a22-499f-f2a8-c3970567d46c"
      },
      "execution_count": 104,
      "outputs": [
        {
          "output_type": "stream",
          "name": "stdout",
          "text": [
            "{'<pad>': 0, '<sos>': 1, '<eos>': 2, 'hello': 3, 'world': 4}\n",
            "{'<pad>': 0, '<sos>': 1, '<eos>': 2, '안녕': 3, '세계': 4}\n"
          ]
        }
      ]
    },
    {
      "cell_type": "markdown",
      "source": [
        "문장 숫자 인덱스 변환"
      ],
      "metadata": {
        "id": "kCkhZyBi96GY"
      }
    },
    {
      "cell_type": "code",
      "source": [
        "def encode_sentence(sentence, vocab):\n",
        "    return [vocab['<sos>']] + [vocab[word] for word in sentence.split()] + [vocab['<eos>']]\n",
        "\n",
        "src_data = [encode_sentence(sent, src_vocab) for sent in src_sentences]\n",
        "tgt_data = [encode_sentence(sent, tgt_vocab) for sent in tgt_sentences]\n",
        "\n",
        "print(src_data)\n",
        "print(tgt_data)"
      ],
      "metadata": {
        "colab": {
          "base_uri": "https://localhost:8080/"
        },
        "id": "btXb5RF_9454",
        "outputId": "24175d62-8ec6-45e1-ff9f-3e3bbbdeb6ce"
      },
      "execution_count": 105,
      "outputs": [
        {
          "output_type": "stream",
          "name": "stdout",
          "text": [
            "[[1, 3, 2], [1, 4, 2], [1, 3, 4, 2]]\n",
            "[[1, 3, 2], [1, 4, 2], [1, 3, 4, 2]]\n"
          ]
        }
      ]
    },
    {
      "cell_type": "markdown",
      "source": [
        "패딩과 텐서 변환"
      ],
      "metadata": {
        "id": "XxpT_Nrr-A0A"
      }
    },
    {
      "cell_type": "code",
      "source": [
        "def pad_sequences(sequences, pad_idx):\n",
        "    max_len = max(len(seq) for seq in sequences)\n",
        "    return [seq + [pad_idx]*(max_len - len(seq)) for seq in sequences]\n",
        "\n",
        "src_padded = pad_sequences(src_data, src_vocab['<pad>'])\n",
        "tgt_padded = pad_sequences(tgt_data, tgt_vocab['<pad>'])\n",
        "\n",
        "src_input = torch.LongTensor(src_padded)\n",
        "tgt_input = torch.LongTensor(tgt_padded)\n",
        "\n",
        "print(src_input.shape)\n",
        "print(tgt_input.shape)"
      ],
      "metadata": {
        "colab": {
          "base_uri": "https://localhost:8080/"
        },
        "id": "X4vPkFYf974W",
        "outputId": "467af00f-7e2f-47d7-80cc-b7e22094d54c"
      },
      "execution_count": 106,
      "outputs": [
        {
          "output_type": "stream",
          "name": "stdout",
          "text": [
            "torch.Size([3, 4])\n",
            "torch.Size([3, 4])\n"
          ]
        }
      ]
    },
    {
      "cell_type": "markdown",
      "source": [
        "- transformer 모델 생성"
      ],
      "metadata": {
        "id": "AaaaFjZw-FAi"
      }
    },
    {
      "cell_type": "code",
      "source": [
        "SRC_VOCAB_SIZE = len(src_vocab)\n",
        "TGT_VOCAB_SIZE = len(tgt_vocab)\n",
        "D_MODEL = 32\n",
        "N_HEADS = 4\n",
        "N_LAYERS = 2\n",
        "D_FF = 128\n",
        "DROPOUT = 0.1\n",
        "\n",
        "model = Transformer(\n",
        "    src_vocab_size=SRC_VOCAB_SIZE,\n",
        "    tgt_vocab_size=TGT_VOCAB_SIZE,\n",
        "    d_model=D_MODEL,\n",
        "    num_layers=N_LAYERS,\n",
        "    num_heads=N_HEADS,\n",
        "    d_ff=D_FF,\n",
        "    dropout=DROPOUT\n",
        ").to('cuda' if torch.cuda.is_available() else 'cpu')"
      ],
      "metadata": {
        "id": "j3cAcV_Y-CNX"
      },
      "execution_count": 107,
      "outputs": []
    },
    {
      "cell_type": "markdown",
      "source": [
        "- Optimzer, Loss 정의"
      ],
      "metadata": {
        "id": "Bj5p355h-Kiv"
      }
    },
    {
      "cell_type": "code",
      "source": [
        "import torch.optim as optim\n",
        "\n",
        "optimizer = optim.Adam(model.parameters(), lr=0.001)\n",
        "criterion = nn.CrossEntropyLoss(ignore_index=src_vocab['<pad>'])"
      ],
      "metadata": {
        "id": "oXOM3gb6-G-R"
      },
      "execution_count": 108,
      "outputs": []
    },
    {
      "cell_type": "markdown",
      "source": [
        "- training"
      ],
      "metadata": {
        "id": "-DLta6DM-eZn"
      }
    },
    {
      "cell_type": "code",
      "source": [
        "EPOCHS = 50\n",
        "\n",
        "device = 'cuda' if torch.cuda.is_available() else 'cpu'\n",
        "src_input = src_input.to(device)\n",
        "tgt_input = tgt_input.to(device)\n",
        "\n",
        "for epoch in range(EPOCHS):\n",
        "    model.train()\n",
        "\n",
        "    # 타겟은 디코더 입력과 타겟 분리\n",
        "    tgt_input_seq = tgt_input[:, :-1]\n",
        "    tgt_output_seq = tgt_input[:, 1:]\n",
        "\n",
        "    # 마스크 생성\n",
        "    tgt_mask = generate_square_subsequent_mask(tgt_input_seq.size(1)).to(device)\n",
        "\n",
        "    output = model(src_input, tgt_input_seq, tgt_mask=tgt_mask)\n",
        "    output = output.view(-1, TGT_VOCAB_SIZE)\n",
        "    tgt_output_seq = tgt_output_seq.contiguous().view(-1)\n",
        "\n",
        "    loss = criterion(output, tgt_output_seq)\n",
        "\n",
        "    optimizer.zero_grad()\n",
        "    loss.backward()\n",
        "    optimizer.step()\n",
        "\n",
        "    if (epoch+1) % 5 == 0:\n",
        "        print(f'Epoch {epoch+1}, Loss {loss.item():.4f}')"
      ],
      "metadata": {
        "colab": {
          "base_uri": "https://localhost:8080/"
        },
        "id": "Ck_5KEY_-ctS",
        "outputId": "91016fef-e04e-4f24-ae74-c825ea9db987"
      },
      "execution_count": 109,
      "outputs": [
        {
          "output_type": "stream",
          "name": "stdout",
          "text": [
            "Epoch 5, Loss 1.2287\n",
            "Epoch 10, Loss 0.8478\n",
            "Epoch 15, Loss 0.7316\n",
            "Epoch 20, Loss 0.5541\n",
            "Epoch 25, Loss 0.5207\n",
            "Epoch 30, Loss 0.4034\n",
            "Epoch 35, Loss 0.2546\n",
            "Epoch 40, Loss 0.1678\n",
            "Epoch 45, Loss 0.1583\n",
            "Epoch 50, Loss 0.0988\n"
          ]
        }
      ]
    },
    {
      "cell_type": "code",
      "source": [],
      "metadata": {
        "id": "pkNsac0w__hz"
      },
      "execution_count": null,
      "outputs": []
    }
  ]
}