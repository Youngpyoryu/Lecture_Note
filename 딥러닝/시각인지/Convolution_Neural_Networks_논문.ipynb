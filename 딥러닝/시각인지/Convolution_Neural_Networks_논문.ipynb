{
  "nbformat": 4,
  "nbformat_minor": 0,
  "metadata": {
    "accelerator": "GPU",
    "colab": {
      "provenance": [],
      "machine_shape": "hm"
    },
    "kernelspec": {
      "display_name": "Python 3",
      "name": "python3"
    },
    "gpuClass": "premium"
  },
  "cells": [
    {
      "cell_type": "markdown",
      "source": [
        "- 연구 논문을 읽고 그 핵심을 이해한 다음 이를 코드로 구현하는 것은 모든 딥러닝 학습자가 또는 연구자가 갖춰야 할 중요한 능력이다.\n",
        "- 연구 논문의 내용을 실제로 구현해보는 과정은 논문의 저자가 거쳐 온 사고 과정을 이해하고 이를 진짜 유용한 문제를 푸는데 활용할 수 있도록 도와주는 열쇠이다.\n",
        "- 연구 논문을 이해하고 그 내용을 코드로 능숙하게 옮기는 능력을 갖추어야 한다.\n",
        "- 컴퓨터 비전은 매우 빠르게 발전하는 분야로, 항상 최신 연구를 접하며 지식의 최전선에서 뒤쳐지지 않도록 노력해야 한다.\n"
      ],
      "metadata": {
        "id": "ppenknUDtl9z"
      }
    },
    {
      "cell_type": "markdown",
      "metadata": {
        "id": "ot6-5dG7X745"
      },
      "source": [
        "# Lenet-5\n",
        "\n",
        "LeNet은 CNN을 처음으로 개발한 얀 르쿤(Yann Lecun) 연구팀이 1998년에 개발한 CNN 알고리즘의 이름이다. original 논문 제목은 \"Gradient-based learning applied to document recognition\"이다.\n",
        "\n",
        "참고 : https://bskyvision.com/418"
      ]
    },
    {
      "cell_type": "markdown",
      "metadata": {
        "id": "fF_lGp2BX_-M"
      },
      "source": [
        "\n",
        "네트워크를 보면,\n",
        "\n",
        "<img src = 'https://t1.daumcdn.net/cfile/tistory/99170D4C5C7E21250E'>\n"
      ]
    },
    {
      "cell_type": "markdown",
      "metadata": {
        "id": "wP1m13DGYHaa"
      },
      "source": [
        "그림1에서 볼 수 있듯이 LeNet-5는 인풋, 3개의 컨볼루션 레이어(C1, C3, C5), 2개의 서브샘플링 레이어(S2, S4), 1층의 full-connected 레이어(F6), 아웃풋 레이어로 구성되어 있다. 참고로 C1부터 F6까지 활성화 함수로 tanh을 사용한다.   "
      ]
    },
    {
      "cell_type": "markdown",
      "metadata": {
        "id": "P-TDfwdqYJtq"
      },
      "source": [
        "1)  C1 레이어: 입력 영상(여기서는 32 x 32 사이즈의 이미지)을 6개의 5 x 5 필터와 컨볼루션 연산을 해준다. 그 결과 6장의 28 x 28 특성 맵을 얻게 된다. \n"
      ]
    },
    {
      "cell_type": "markdown",
      "metadata": {
        "id": "P1sOxb8OYOjr"
      },
      "source": [
        "2) S2 레이어: 6장의 28 x 28 특성 맵에 대해 서브샘플링을 진행한다. 결과적으로 28 x 28 사이즈의 특성 맵이 14 x 14 사이즈의 특성맵으로 축소된다. 2 x 2 필터를 stride 2로 설정해서 서브샘플링해주기 때문이다. 사용하는 서브샘플링 방법은 평균 풀링(average pooling)이다. \n",
        "\n"
      ]
    },
    {
      "cell_type": "markdown",
      "metadata": {
        "id": "2cAFEmkuYTQ6"
      },
      "source": [
        "평균풀링인데 왜 훈련해야할 파라미터가 필요한지 의아할 수 있는데, original 논문에 의하면 평균을 낸 후에 한 개의 훈련가능한 가중치(trainable weight)를 곱해주고 또 한 개의 훈련가능한 바이어스(trainable bias)를 더해준다고 한다. 그 값이 시그모이드 함수를 통해 활성화된다. 참고로 그 가중치와 바이어스는 시그모이드의 비활성도를 조절해준다고 한다. "
      ]
    },
    {
      "cell_type": "markdown",
      "source": [
        "- Deep learning for Vision System Book 참고)"
      ],
      "metadata": {
        "id": "fXdgS2WZJ9I6"
      }
    },
    {
      "cell_type": "markdown",
      "source": [
        "1. Load MNIST database"
      ],
      "metadata": {
        "id": "scr3tNeEKJzz"
      }
    },
    {
      "cell_type": "code",
      "source": [
        "from keras.datasets import mnist\n",
        "\n",
        "# use Keras to import pre-shuffled MNIST database\n",
        "(X_train, y_train), (X_test, y_test) = mnist.load_data()\n",
        "\n",
        "print(\"The MNIST database has a training set of %d examples.\" % len(X_train))\n",
        "print(\"The MNIST database has a test set of %d examples.\" % len(X_test))"
      ],
      "metadata": {
        "colab": {
          "base_uri": "https://localhost:8080/"
        },
        "id": "9AizkbPrKANw",
        "outputId": "af9c64e9-55f3-4c9a-a82e-0ca53a3bb306"
      },
      "execution_count": 1,
      "outputs": [
        {
          "output_type": "stream",
          "name": "stdout",
          "text": [
            "The MNIST database has a training set of 60000 examples.\n",
            "The MNIST database has a test set of 10000 examples.\n"
          ]
        }
      ]
    },
    {
      "cell_type": "markdown",
      "source": [
        "2. Visualize the First six Training images"
      ],
      "metadata": {
        "id": "Qgvt_UoEKNeU"
      }
    },
    {
      "cell_type": "code",
      "source": [
        "import matplotlib.pyplot as plt\n",
        "%matplotlib inline\n",
        "import matplotlib.cm as cm\n",
        "import numpy as np\n",
        "\n",
        "# plot first six training images\n",
        "fig = plt.figure(figsize=(20,20))\n",
        "for i in range(6):\n",
        "    ax = fig.add_subplot(1, 6, i+1, xticks=[], yticks=[])\n",
        "    ax.imshow(X_train[i], cmap='gray')\n",
        "    ax.set_title(str(y_train[i]))"
      ],
      "metadata": {
        "colab": {
          "base_uri": "https://localhost:8080/",
          "height": 204
        },
        "id": "fIbO57xZKQon",
        "outputId": "e436cff4-59d1-4cc9-92f0-c4283bfcdcdd"
      },
      "execution_count": 2,
      "outputs": [
        {
          "output_type": "display_data",
          "data": {
            "text/plain": [
              "<Figure size 1440x1440 with 6 Axes>"
            ],
            "image/png": "[encoded data removed]"
          },
          "metadata": {}
        }
      ]
    },
    {
      "cell_type": "markdown",
      "source": [
        "3. View an Image in More Detail"
      ],
      "metadata": {
        "id": "5QqDWWUrKRmE"
      }
    },
    {
      "cell_type": "code",
      "source": [
        "def visualize_input(img, ax):\n",
        "    ax.imshow(img, cmap='gray')\n",
        "    width, height = img.shape\n",
        "    thresh = img.max()/2.5\n",
        "    for x in range(width):\n",
        "        for y in range(height):\n",
        "            ax.annotate(str(round(img[x][y],2)), xy=(y,x),\n",
        "                        horizontalalignment='center',\n",
        "                        verticalalignment='center',\n",
        "                        color='white' if img[x][y]<thresh else 'black')\n",
        "\n",
        "fig = plt.figure(figsize = (12,12)) \n",
        "ax = fig.add_subplot(111)\n",
        "visualize_input(X_train[0], ax)"
      ],
      "metadata": {
        "colab": {
          "base_uri": "https://localhost:8080/",
          "height": 700
        },
        "id": "l-ek9PbCKXbG",
        "outputId": "4fe0fa5e-8c7d-43a1-dc68-3bcb62aef99e"
      },
      "execution_count": 3,
      "outputs": [
        {
          "output_type": "display_data",
          "data": {
            "text/plain": [
              "<Figure size 864x864 with 1 Axes>"
            ],
            "image/png": "[encoded data removed]"
          },
          "metadata": {
            "needs_background": "light"
          }
        }
      ]
    },
    {
      "cell_type": "markdown",
      "source": [
        "4. Preprocess input images : Rescale the Images by Dividing Every Pixel in Every Image by 255"
      ],
      "metadata": {
        "id": "JEpc6lamKYaf"
      }
    },
    {
      "cell_type": "code",
      "source": [
        "# normalize the data to accelerate learning\n",
        "mean = np.mean(X_train)\n",
        "std = np.std(X_train)\n",
        "X_train = (X_train-mean)/(std+1e-7)\n",
        "X_test = (X_test-mean)/(std+1e-7)\n",
        "\n",
        "print('X_train shape:', X_train.shape)\n",
        "print(X_train.shape[0], 'train samples')\n",
        "print(X_test.shape[0], 'test samples')"
      ],
      "metadata": {
        "colab": {
          "base_uri": "https://localhost:8080/"
        },
        "id": "SccvlujhKhFa",
        "outputId": "79153911-6e4d-4eb7-c3a1-61d0bbac65ce"
      },
      "execution_count": 4,
      "outputs": [
        {
          "output_type": "stream",
          "name": "stdout",
          "text": [
            "X_train shape: (60000, 28, 28)\n",
            "60000 train samples\n",
            "10000 test samples\n"
          ]
        }
      ]
    },
    {
      "cell_type": "markdown",
      "source": [
        "5. Preprocess the lables : Encode Categorical Integer Labels Using a One-Hot Scheme"
      ],
      "metadata": {
        "id": "h-FDzrtLKh2s"
      }
    },
    {
      "cell_type": "code",
      "source": [
        "from keras.utils import np_utils\n",
        "\n",
        "num_classes = 10 \n",
        "# print first ten (integer-valued) training labels\n",
        "print('Integer-valued labels:')\n",
        "print(y_train[:10])\n",
        "\n",
        "# one-hot encode the labels\n",
        "# convert class vectors to binary class matrices\n",
        "y_train = np_utils.to_categorical(y_train, num_classes)\n",
        "y_test = np_utils.to_categorical(y_test, num_classes)\n",
        "\n",
        "# print first ten (one-hot) training labels\n",
        "print('One-hot labels:')\n",
        "print(y_train[:10])"
      ],
      "metadata": {
        "colab": {
          "base_uri": "https://localhost:8080/"
        },
        "id": "IfeIXiU7Koru",
        "outputId": "37a4bdea-740b-4486-cc52-03ffff1480af"
      },
      "execution_count": 5,
      "outputs": [
        {
          "output_type": "stream",
          "name": "stdout",
          "text": [
            "Integer-valued labels:\n",
            "[5 0 4 1 9 2 1 3 1 4]\n",
            "One-hot labels:\n",
            "[[0. 0. 0. 0. 0. 1. 0. 0. 0. 0.]\n",
            " [1. 0. 0. 0. 0. 0. 0. 0. 0. 0.]\n",
            " [0. 0. 0. 0. 1. 0. 0. 0. 0. 0.]\n",
            " [0. 1. 0. 0. 0. 0. 0. 0. 0. 0.]\n",
            " [0. 0. 0. 0. 0. 0. 0. 0. 0. 1.]\n",
            " [0. 0. 1. 0. 0. 0. 0. 0. 0. 0.]\n",
            " [0. 1. 0. 0. 0. 0. 0. 0. 0. 0.]\n",
            " [0. 0. 0. 1. 0. 0. 0. 0. 0. 0.]\n",
            " [0. 1. 0. 0. 0. 0. 0. 0. 0. 0.]\n",
            " [0. 0. 0. 0. 1. 0. 0. 0. 0. 0.]]\n"
          ]
        }
      ]
    },
    {
      "cell_type": "markdown",
      "source": [
        "6. Reshape data to fit our CNN (and input_shape)"
      ],
      "metadata": {
        "id": "W9O5H_LPKq3b"
      }
    },
    {
      "cell_type": "code",
      "source": [
        "# input image dimensions 28x28 pixel images. \n",
        "img_rows, img_cols = 28, 28\n",
        "\n",
        "X_train = X_train.reshape(X_train.shape[0], img_rows, img_cols, 1)\n",
        "X_test = X_test.reshape(X_test.shape[0], img_rows, img_cols, 1)\n",
        "input_shape = (img_rows, img_cols, 1)\n",
        "\n",
        "print('image input shape: ', input_shape)\n",
        "print('x_train shape:', X_train.shape)"
      ],
      "metadata": {
        "colab": {
          "base_uri": "https://localhost:8080/"
        },
        "id": "e0l0TaS4KscL",
        "outputId": "23bb8849-c38e-4e73-ab7a-a6d521213030"
      },
      "execution_count": 6,
      "outputs": [
        {
          "output_type": "stream",
          "name": "stdout",
          "text": [
            "image input shape:  (28, 28, 1)\n",
            "x_train shape: (60000, 28, 28, 1)\n"
          ]
        }
      ]
    },
    {
      "cell_type": "markdown",
      "source": [
        "7. Define the Model Architecture\n",
        "\n",
        "<img src = 'https://raw.githubusercontent.com/moelgendy/deep_learning_for_vision_systems/2c9d077b43003657cd8f6d5ddfb6f83ee8bae1f3/chapter_05/images/lenet_architecture.png'>"
      ],
      "metadata": {
        "id": "653eL4jaKr6c"
      }
    },
    {
      "cell_type": "markdown",
      "source": [
        "To implement LeNet-5 in Keras, read the original paper and extract the architecture information from pages 6, 7 and 8. Here are the main takeaways to build the LeNet-5 network:\n",
        "\n",
        "- Number of filters in each CONV layer: you can see from the diagram (and defined in the paper) that the depth (number of filters) of each convolutional layer is as follows: C1 = 6, C3 = 16, C5 = 120 layers.\n",
        "- Kernel size of each CONV layer: from the paper, the kernel_size is = 5 x 5\n",
        "\n",
        "- A subsampling layer (POOL) is added after each convolutional layer. The receptive field of each unit is a 2 x 2 area (i.e. pool_size = 2). Note that the LeNet-5 creators used average pooling which computes the average value of its inputs instead of the max pooling layer that we used in our earlier projects which passes the maximum value of its inputs. You can try both if you are interested to see the difference. For this experiment, we are going to follow the paper architecture.\n",
        "\n",
        "- Activation function: the creators of LeNet-5 used tanh activation function for the hidden layers because symmetric functions are believed to yield faster convergence compared to sigmoid functions. In general, you are strongly encouraged to add a ReLU activation function to every convolutional layer in your networks.\n",
        "\n",
        "- Things to remember\n",
        "\n",
        "- Always add a ReLU activation function to the Conv2D layers in your CNN. With the exception of the final layer in the network, Dense layers should also have a ReLU activation function.\n",
        "\n",
        "- When constructing a network for classification, the final layer in the network should be a Dense (FC) layer with a softmax activation function. The number of nodes in the final layer should equal the total number of classes in the dataset."
      ],
      "metadata": {
        "id": "tOKIHW-jK1sg"
      }
    },
    {
      "cell_type": "code",
      "source": [
        "from keras.models import Sequential\n",
        "from keras.layers import Conv2D, AveragePooling2D, Flatten, Dense"
      ],
      "metadata": {
        "id": "zkGjWwjsK9gw"
      },
      "execution_count": 7,
      "outputs": []
    },
    {
      "cell_type": "code",
      "source": [
        "#Instantiate an empty model\n",
        "model = Sequential()\n",
        "\n",
        "# C1 Convolutional Layer\n",
        "model.add(Conv2D(6, kernel_size=(5, 5), strides=(1, 1), activation='tanh', input_shape=input_shape, padding='same'))\n",
        "\n",
        "# S2 Pooling Layer\n",
        "model.add(AveragePooling2D(pool_size=(2, 2), strides=2, padding='valid'))\n",
        "\n",
        "# C3 Convolutional Layer\n",
        "model.add(Conv2D(16, kernel_size=(5, 5), strides=(1, 1), activation='tanh', padding='valid'))\n",
        "\n",
        "# S4 Pooling Layer\n",
        "model.add(AveragePooling2D(pool_size=(2, 2), strides=2, padding='valid'))\n",
        "\n",
        "# C5 Fully Connected Convolutional Layer\n",
        "model.add(Conv2D(120, kernel_size=(5, 5), strides=(1, 1), activation='tanh', padding='valid'))\n",
        "\n",
        "#Flatten the CNN output so that we can connect it with fully connected layers\n",
        "model.add(Flatten())\n",
        "\n",
        "# FC6 Fully Connected Layer\n",
        "model.add(Dense(84, activation='tanh'))\n",
        "\n",
        "# Output Layer with softmax activation\n",
        "model.add(Dense(10, activation='softmax'))\n",
        "\n",
        "# print the model summary\n",
        "model.summary()"
      ],
      "metadata": {
        "colab": {
          "base_uri": "https://localhost:8080/"
        },
        "id": "n9hS0qDyK-tY",
        "outputId": "89321e71-d5d1-4e3c-aa50-a13a60b35508"
      },
      "execution_count": 8,
      "outputs": [
        {
          "output_type": "stream",
          "name": "stdout",
          "text": [
            "Model: \"sequential\"\n",
            "_________________________________________________________________\n",
            " Layer (type)                Output Shape              Param #   \n",
            "=================================================================\n",
            " conv2d (Conv2D)             (None, 28, 28, 6)         156       \n",
            "                                                                 \n",
            " average_pooling2d (AverageP  (None, 14, 14, 6)        0         \n",
            " ooling2D)                                                       \n",
            "                                                                 \n",
            " conv2d_1 (Conv2D)           (None, 10, 10, 16)        2416      \n",
            "                                                                 \n",
            " average_pooling2d_1 (Averag  (None, 5, 5, 16)         0         \n",
            " ePooling2D)                                                     \n",
            "                                                                 \n",
            " conv2d_2 (Conv2D)           (None, 1, 1, 120)         48120     \n",
            "                                                                 \n",
            " flatten (Flatten)           (None, 120)               0         \n",
            "                                                                 \n",
            " dense (Dense)               (None, 84)                10164     \n",
            "                                                                 \n",
            " dense_1 (Dense)             (None, 10)                850       \n",
            "                                                                 \n",
            "=================================================================\n",
            "Total params: 61,706\n",
            "Trainable params: 61,706\n",
            "Non-trainable params: 0\n",
            "_________________________________________________________________\n"
          ]
        }
      ]
    },
    {
      "cell_type": "markdown",
      "source": [
        "8. Compile the Model\n",
        "\n",
        "In this exercise, we will use Adam optimizer"
      ],
      "metadata": {
        "id": "Mw6TAHrPLAPS"
      }
    },
    {
      "cell_type": "code",
      "source": [
        "# the loss function is categorical cross entropy since we have multiple classes (10) \n",
        "\n",
        "\n",
        "# compile the model by defining the loss function, optimizer, and performance metric\n",
        "model.compile(loss='categorical_crossentropy', optimizer='adam', metrics=['accuracy'])"
      ],
      "metadata": {
        "id": "uK7M8vm4LDYV"
      },
      "execution_count": 9,
      "outputs": []
    },
    {
      "cell_type": "markdown",
      "source": [
        "9. Train the Model\n",
        "\n",
        "LeCun and his team used scheduled decay learning where the value of the learning rate was decreased using the following schedule: 0.0005 for the first two epochs, 0.0002 for the next three epochs, 0.00005 for the next four, and then 0.00001 thereafter. In the paper, the authors trained their network for 20 epochs."
      ],
      "metadata": {
        "id": "czvVFaJYLEvY"
      }
    },
    {
      "cell_type": "code",
      "source": [
        "from keras.callbacks import ModelCheckpoint, LearningRateScheduler\n",
        "\n",
        "# set the learning rate schedule as created in the original paper\n",
        "def lr_schedule(epoch):\n",
        "    if epoch <= 2:     \n",
        "        lr = 5e-4\n",
        "    elif epoch > 2 and epoch <= 5:\n",
        "        lr = 2e-4\n",
        "    elif epoch > 5 and epoch <= 9:\n",
        "        lr = 5e-5\n",
        "    else: \n",
        "        lr = 1e-5\n",
        "    return lr\n",
        "\n",
        "lr_scheduler = LearningRateScheduler(lr_schedule)\n",
        "\n",
        "# set the checkpointer\n",
        "checkpointer = ModelCheckpoint(filepath='model.weights.best.hdf5', verbose=1, \n",
        "                               save_best_only=True)\n",
        "\n",
        "# train the model\n",
        "hist = model.fit(X_train, y_train, batch_size=32, epochs=20,\n",
        "          validation_data=(X_test, y_test), callbacks=[checkpointer, lr_scheduler], \n",
        "          verbose=2, shuffle=True)"
      ],
      "metadata": {
        "colab": {
          "base_uri": "https://localhost:8080/"
        },
        "id": "Vk_FwG8ZLGsE",
        "outputId": "250a81ce-853d-4fa6-ec33-5e1c5e83ca31"
      },
      "execution_count": 10,
      "outputs": [
        {
          "output_type": "stream",
          "name": "stdout",
          "text": [
            "Epoch 1/20\n",
            "\n",
            "Epoch 1: val_loss improved from inf to 0.08104, saving model to model.weights.best.hdf5\n",
            "1875/1875 - 15s - loss: 0.2260 - accuracy: 0.9337 - val_loss: 0.0810 - val_accuracy: 0.9752 - lr: 5.0000e-04 - 15s/epoch - 8ms/step\n",
            "Epoch 2/20\n",
            "\n",
            "Epoch 2: val_loss improved from 0.08104 to 0.05516, saving model to model.weights.best.hdf5\n",
            "1875/1875 - 5s - loss: 0.0767 - accuracy: 0.9769 - val_loss: 0.0552 - val_accuracy: 0.9824 - lr: 5.0000e-04 - 5s/epoch - 3ms/step\n",
            "Epoch 3/20\n",
            "\n",
            "Epoch 3: val_loss improved from 0.05516 to 0.04909, saving model to model.weights.best.hdf5\n",
            "1875/1875 - 5s - loss: 0.0560 - accuracy: 0.9828 - val_loss: 0.0491 - val_accuracy: 0.9843 - lr: 5.0000e-04 - 5s/epoch - 3ms/step\n",
            "Epoch 4/20\n",
            "\n",
            "Epoch 4: val_loss improved from 0.04909 to 0.03796, saving model to model.weights.best.hdf5\n",
            "1875/1875 - 5s - loss: 0.0345 - accuracy: 0.9897 - val_loss: 0.0380 - val_accuracy: 0.9870 - lr: 2.0000e-04 - 5s/epoch - 3ms/step\n",
            "Epoch 5/20\n",
            "\n",
            "Epoch 5: val_loss improved from 0.03796 to 0.03548, saving model to model.weights.best.hdf5\n",
            "1875/1875 - 5s - loss: 0.0296 - accuracy: 0.9916 - val_loss: 0.0355 - val_accuracy: 0.9881 - lr: 2.0000e-04 - 5s/epoch - 3ms/step\n",
            "Epoch 6/20\n",
            "\n",
            "Epoch 6: val_loss improved from 0.03548 to 0.03488, saving model to model.weights.best.hdf5\n",
            "1875/1875 - 5s - loss: 0.0262 - accuracy: 0.9921 - val_loss: 0.0349 - val_accuracy: 0.9893 - lr: 2.0000e-04 - 5s/epoch - 3ms/step\n",
            "Epoch 7/20\n",
            "\n",
            "Epoch 7: val_loss improved from 0.03488 to 0.03099, saving model to model.weights.best.hdf5\n",
            "1875/1875 - 5s - loss: 0.0188 - accuracy: 0.9951 - val_loss: 0.0310 - val_accuracy: 0.9898 - lr: 5.0000e-05 - 5s/epoch - 3ms/step\n",
            "Epoch 8/20\n",
            "\n",
            "Epoch 8: val_loss improved from 0.03099 to 0.02959, saving model to model.weights.best.hdf5\n",
            "1875/1875 - 5s - loss: 0.0175 - accuracy: 0.9956 - val_loss: 0.0296 - val_accuracy: 0.9902 - lr: 5.0000e-05 - 5s/epoch - 3ms/step\n",
            "Epoch 9/20\n",
            "\n",
            "Epoch 9: val_loss did not improve from 0.02959\n",
            "1875/1875 - 5s - loss: 0.0168 - accuracy: 0.9959 - val_loss: 0.0297 - val_accuracy: 0.9897 - lr: 5.0000e-05 - 5s/epoch - 3ms/step\n",
            "Epoch 10/20\n",
            "\n",
            "Epoch 10: val_loss did not improve from 0.02959\n",
            "1875/1875 - 5s - loss: 0.0159 - accuracy: 0.9960 - val_loss: 0.0300 - val_accuracy: 0.9893 - lr: 5.0000e-05 - 5s/epoch - 3ms/step\n",
            "Epoch 11/20\n",
            "\n",
            "Epoch 11: val_loss improved from 0.02959 to 0.02917, saving model to model.weights.best.hdf5\n",
            "1875/1875 - 5s - loss: 0.0140 - accuracy: 0.9968 - val_loss: 0.0292 - val_accuracy: 0.9897 - lr: 1.0000e-05 - 5s/epoch - 3ms/step\n",
            "Epoch 12/20\n",
            "\n",
            "Epoch 12: val_loss improved from 0.02917 to 0.02897, saving model to model.weights.best.hdf5\n",
            "1875/1875 - 5s - loss: 0.0138 - accuracy: 0.9970 - val_loss: 0.0290 - val_accuracy: 0.9897 - lr: 1.0000e-05 - 5s/epoch - 3ms/step\n",
            "Epoch 13/20\n",
            "\n",
            "Epoch 13: val_loss improved from 0.02897 to 0.02869, saving model to model.weights.best.hdf5\n",
            "1875/1875 - 5s - loss: 0.0136 - accuracy: 0.9970 - val_loss: 0.0287 - val_accuracy: 0.9899 - lr: 1.0000e-05 - 5s/epoch - 3ms/step\n",
            "Epoch 14/20\n",
            "\n",
            "Epoch 14: val_loss did not improve from 0.02869\n",
            "1875/1875 - 5s - loss: 0.0135 - accuracy: 0.9971 - val_loss: 0.0291 - val_accuracy: 0.9898 - lr: 1.0000e-05 - 5s/epoch - 3ms/step\n",
            "Epoch 15/20\n",
            "\n",
            "Epoch 15: val_loss did not improve from 0.02869\n",
            "1875/1875 - 6s - loss: 0.0133 - accuracy: 0.9972 - val_loss: 0.0290 - val_accuracy: 0.9901 - lr: 1.0000e-05 - 6s/epoch - 3ms/step\n",
            "Epoch 16/20\n",
            "\n",
            "Epoch 16: val_loss did not improve from 0.02869\n",
            "1875/1875 - 5s - loss: 0.0131 - accuracy: 0.9972 - val_loss: 0.0289 - val_accuracy: 0.9900 - lr: 1.0000e-05 - 5s/epoch - 3ms/step\n",
            "Epoch 17/20\n",
            "\n",
            "Epoch 17: val_loss did not improve from 0.02869\n",
            "1875/1875 - 5s - loss: 0.0130 - accuracy: 0.9971 - val_loss: 0.0288 - val_accuracy: 0.9898 - lr: 1.0000e-05 - 5s/epoch - 3ms/step\n",
            "Epoch 18/20\n",
            "\n",
            "Epoch 18: val_loss did not improve from 0.02869\n",
            "1875/1875 - 6s - loss: 0.0128 - accuracy: 0.9973 - val_loss: 0.0287 - val_accuracy: 0.9900 - lr: 1.0000e-05 - 6s/epoch - 3ms/step\n",
            "Epoch 19/20\n",
            "\n",
            "Epoch 19: val_loss did not improve from 0.02869\n",
            "1875/1875 - 5s - loss: 0.0127 - accuracy: 0.9973 - val_loss: 0.0288 - val_accuracy: 0.9899 - lr: 1.0000e-05 - 5s/epoch - 3ms/step\n",
            "Epoch 20/20\n",
            "\n",
            "Epoch 20: val_loss did not improve from 0.02869\n",
            "1875/1875 - 6s - loss: 0.0125 - accuracy: 0.9974 - val_loss: 0.0288 - val_accuracy: 0.9901 - lr: 1.0000e-05 - 6s/epoch - 3ms/step\n"
          ]
        }
      ]
    },
    {
      "cell_type": "markdown",
      "source": [
        "10. Load the Model with the Best Classification Accuracy on the Validation Set"
      ],
      "metadata": {
        "id": "FKUD3lHWLJhY"
      }
    },
    {
      "cell_type": "code",
      "source": [
        "# load the weights that yielded the best validation accuracy\n",
        "model.load_weights('model.weights.best.hdf5')"
      ],
      "metadata": {
        "id": "pZigfBAWLK4-"
      },
      "execution_count": 11,
      "outputs": []
    },
    {
      "cell_type": "markdown",
      "source": [
        "11. Calculate the Classification Accuracy on the Test Set"
      ],
      "metadata": {
        "id": "fg5X3qVSLOHb"
      }
    },
    {
      "cell_type": "code",
      "source": [
        "# evaluate test accuracy\n",
        "score = model.evaluate(X_test, y_test, verbose=0)\n",
        "accuracy = 100*score[1]\n",
        "\n",
        "# print test accuracy\n",
        "print('Test accuracy: %.4f%%' % accuracy)"
      ],
      "metadata": {
        "colab": {
          "base_uri": "https://localhost:8080/"
        },
        "id": "4kJiMlHJLK69",
        "outputId": "314e1731-8ab3-4c77-8b67-4b5ae23877e7"
      },
      "execution_count": 12,
      "outputs": [
        {
          "output_type": "stream",
          "name": "stdout",
          "text": [
            "Test accuracy: 98.9900%\n"
          ]
        }
      ]
    },
    {
      "cell_type": "markdown",
      "source": [
        "12. evaluate the model"
      ],
      "metadata": {
        "id": "pV_uQvv_LRDU"
      }
    },
    {
      "cell_type": "code",
      "source": [
        "import matplotlib.pyplot as plt\n",
        "\n",
        "f, ax = plt.subplots()\n",
        "ax.plot([None] + hist.history['accuracy'], 'o-')\n",
        "ax.plot([None] + hist.history['val_accuracy'], 'x-')\n",
        "# Plot legend and use the best location automatically: loc = 0.\n",
        "ax.legend(['Train acc', 'Validation acc'], loc = 0)\n",
        "ax.set_title('Training/Validation acc per Epoch')\n",
        "ax.set_xlabel('Epoch')\n",
        "ax.set_ylabel('acc')\n",
        "plt.show()"
      ],
      "metadata": {
        "colab": {
          "base_uri": "https://localhost:8080/",
          "height": 295
        },
        "id": "tCmO97vjLK89",
        "outputId": "fa84a41d-e8ab-4fa0-8d52-86d3db130db9"
      },
      "execution_count": 13,
      "outputs": [
        {
          "output_type": "display_data",
          "data": {
            "text/plain": [
              "<Figure size 432x288 with 1 Axes>"
            ],
            "image/png": "[encoded data removed]"
          },
          "metadata": {
            "needs_background": "light"
          }
        }
      ]
    },
    {
      "cell_type": "code",
      "source": [
        "import matplotlib.pyplot as plt\n",
        "\n",
        "f, ax = plt.subplots()\n",
        "ax.plot([None] + hist.history['loss'], 'o-')\n",
        "ax.plot([None] + hist.history['val_loss'], 'x-')\n",
        "\n",
        "# Plot legend and use the best location automatically: loc = 0.\n",
        "ax.legend(['Train loss', \"Val loss\"], loc = 0)\n",
        "ax.set_title('Training/Validation Loss per Epoch')\n",
        "ax.set_xlabel('Epoch')\n",
        "ax.set_ylabel('Loss')\n",
        "plt.show()"
      ],
      "metadata": {
        "colab": {
          "base_uri": "https://localhost:8080/",
          "height": 295
        },
        "id": "VbBXfXvxLK_L",
        "outputId": "d199127b-4c39-433e-8d24-b6622756ef32"
      },
      "execution_count": 14,
      "outputs": [
        {
          "output_type": "display_data",
          "data": {
            "text/plain": [
              "<Figure size 432x288 with 1 Axes>"
            ],
            "image/png": "[encoded data removed]"
          },
          "metadata": {
            "needs_background": "light"
          }
        }
      ]
    },
    {
      "cell_type": "markdown",
      "metadata": {
        "id": "ck3mFUdQYcer"
      },
      "source": [
        "# AlexNet"
      ]
    },
    {
      "cell_type": "markdown",
      "metadata": {
        "id": "aBPXEqbOYeuS"
      },
      "source": [
        "AlexNet의 기본구조는 LeNet-5와 크게 다르지 않다. 2개의 GPU로 병렬연산을 수행하기 위해서 병렬적인 구조로 설계되었다는 점이 가장 큰 변화이다. AlexNet의 구조도를 살펴보자"
      ]
    },
    {
      "cell_type": "markdown",
      "metadata": {
        "id": "66WzgAMyYhsq"
      },
      "source": [
        "<img src = 'https://img1.daumcdn.net/thumb/R1280x0/?scode=mtistory2&fname=https%3A%2F%2Ft1.daumcdn.net%2Fcfile%2Ftistory%2F99FEB93C5C80B5192E'>"
      ]
    },
    {
      "cell_type": "markdown",
      "metadata": {
        "id": "Y77HTG1KYk-S"
      },
      "source": [
        "AlexNet은 8개의 레이어로 구성되어 있다. 5개의 컨볼루션 레이어와 3개의 full-connected 레이어로 구성되어 있다. 두번째, 네번째, 다섯번째 컨볼루션 레이어들은 전 단계의 같은 채널의 특성맵들과만 연결되어 있는 반면, 세번째 컨볼루션 레이어는 전 단계의 두 채널의 특성맵들과 모두 연결되어 있다."
      ]
    },
    {
      "cell_type": "markdown",
      "metadata": {
        "id": "mK6N1c7yYp5y"
      },
      "source": [
        "이제 각 레이어마다 어떤 작업이 수행되는지 살펴보자. 우선 AlexNet에 입력 되는 것은 227 x 227 x 3 이미지다. (227 x 227 사이즈의 RGB 컬러 이미지를 뜻한다.) 그림에는 224로 되어 있는데 잘못된 겁니다. "
      ]
    },
    {
      "cell_type": "markdown",
      "source": [
        "<img src = 'https://raw.githubusercontent.com/moelgendy/deep_learning_for_vision_systems/2c9d077b43003657cd8f6d5ddfb6f83ee8bae1f3/chapter_05/images/alexnet_architecture.png'>"
      ],
      "metadata": {
        "id": "-84Q4SF6LYGW"
      }
    },
    {
      "cell_type": "code",
      "source": [
        "from keras.models import Sequential\n",
        "from keras.layers import Conv2D, AveragePooling2D, Flatten, Dense,Activation,MaxPool2D, BatchNormalization, Dropout\n",
        "from keras.regularizers import l2"
      ],
      "metadata": {
        "id": "a1EpDyGRLbHv"
      },
      "execution_count": 15,
      "outputs": []
    },
    {
      "cell_type": "code",
      "source": [
        "# Instantiate an empty sequential model\n",
        "model = Sequential(name=\"Alexnet\")\n",
        "# 1st layer (conv + pool + batchnorm)\n",
        "model.add(Conv2D(filters= 96, kernel_size= (11,11), strides=(4,4), padding='valid', kernel_regularizer=l2(0.0005),\n",
        "input_shape = (227,227,3)))\n",
        "model.add(Activation('relu'))  #<---- activation function can be added on its own layer or within the Conv2D function\n",
        "model.add(MaxPool2D(pool_size=(3,3), strides= (2,2), padding='valid'))\n",
        "model.add(BatchNormalization())\n",
        "    \n",
        "# 2nd layer (conv + pool + batchnorm)\n",
        "model.add(Conv2D(filters=256, kernel_size=(5,5), strides=(1,1), padding='same', kernel_regularizer=l2(0.0005)))\n",
        "model.add(Activation('relu'))\n",
        "model.add(MaxPool2D(pool_size=(3,3), strides=(2,2), padding='valid'))\n",
        "model.add(BatchNormalization())\n",
        "            \n",
        "# layer 3 (conv + batchnorm)      <--- note that the authors did not add a POOL layer here\n",
        "model.add(Conv2D(filters=384, kernel_size=(3,3), strides=(1,1), padding='same', kernel_regularizer=l2(0.0005)))\n",
        "model.add(Activation('relu'))\n",
        "model.add(BatchNormalization())\n",
        "        \n",
        "# layer 4 (conv + batchnorm)      <--- similar to layer 3\n",
        "model.add(Conv2D(filters=384, kernel_size=(3,3), strides=(1,1), padding='same', kernel_regularizer=l2(0.0005)))\n",
        "model.add(Activation('relu'))\n",
        "model.add(BatchNormalization())\n",
        "            \n",
        "# layer 5 (conv + batchnorm)  \n",
        "model.add(Conv2D(filters=256, kernel_size=(3,3), strides=(1,1), padding='same', kernel_regularizer=l2(0.0005)))\n",
        "model.add(Activation('relu'))\n",
        "model.add(BatchNormalization())\n",
        "model.add(MaxPool2D(pool_size=(3,3), strides=(2,2), padding='valid'))\n",
        "\n",
        "# Flatten the CNN output to feed it with fully connected layers\n",
        "model.add(Flatten())\n",
        "\n",
        "# layer 6 (Dense layer + dropout)  \n",
        "model.add(Dense(units = 4096, activation = 'relu'))\n",
        "model.add(Dropout(0.5))\n",
        "\n",
        "# layer 7 (Dense layers) \n",
        "model.add(Dense(units = 4096, activation = 'relu'))\n",
        "model.add(Dropout(0.5))\n",
        "                           \n",
        "# layer 8 (softmax output layer) \n",
        "model.add(Dense(units = 1000, activation = 'softmax'))\n",
        "\n",
        "# print the model summary\n",
        "model.summary()"
      ],
      "metadata": {
        "colab": {
          "base_uri": "https://localhost:8080/"
        },
        "id": "NVOPRarPLbJp",
        "outputId": "fbcd5bff-86a1-4bd0-e761-e1cf6ac00def"
      },
      "execution_count": 16,
      "outputs": [
        {
          "output_type": "stream",
          "name": "stdout",
          "text": [
            "Model: \"Alexnet\"\n",
            "_________________________________________________________________\n",
            " Layer (type)                Output Shape              Param #   \n",
            "=================================================================\n",
            " conv2d_3 (Conv2D)           (None, 55, 55, 96)        34944     \n",
            "                                                                 \n",
            " activation (Activation)     (None, 55, 55, 96)        0         \n",
            "                                                                 \n",
            " max_pooling2d (MaxPooling2D  (None, 27, 27, 96)       0         \n",
            " )                                                               \n",
            "                                                                 \n",
            " batch_normalization (BatchN  (None, 27, 27, 96)       384       \n",
            " ormalization)                                                   \n",
            "                                                                 \n",
            " conv2d_4 (Conv2D)           (None, 27, 27, 256)       614656    \n",
            "                                                                 \n",
            " activation_1 (Activation)   (None, 27, 27, 256)       0         \n",
            "                                                                 \n",
            " max_pooling2d_1 (MaxPooling  (None, 13, 13, 256)      0         \n",
            " 2D)                                                             \n",
            "                                                                 \n",
            " batch_normalization_1 (Batc  (None, 13, 13, 256)      1024      \n",
            " hNormalization)                                                 \n",
            "                                                                 \n",
            " conv2d_5 (Conv2D)           (None, 13, 13, 384)       885120    \n",
            "                                                                 \n",
            " activation_2 (Activation)   (None, 13, 13, 384)       0         \n",
            "                                                                 \n",
            " batch_normalization_2 (Batc  (None, 13, 13, 384)      1536      \n",
            " hNormalization)                                                 \n",
            "                                                                 \n",
            " conv2d_6 (Conv2D)           (None, 13, 13, 384)       1327488   \n",
            "                                                                 \n",
            " activation_3 (Activation)   (None, 13, 13, 384)       0         \n",
            "                                                                 \n",
            " batch_normalization_3 (Batc  (None, 13, 13, 384)      1536      \n",
            " hNormalization)                                                 \n",
            "                                                                 \n",
            " conv2d_7 (Conv2D)           (None, 13, 13, 256)       884992    \n",
            "                                                                 \n",
            " activation_4 (Activation)   (None, 13, 13, 256)       0         \n",
            "                                                                 \n",
            " batch_normalization_4 (Batc  (None, 13, 13, 256)      1024      \n",
            " hNormalization)                                                 \n",
            "                                                                 \n",
            " max_pooling2d_2 (MaxPooling  (None, 6, 6, 256)        0         \n",
            " 2D)                                                             \n",
            "                                                                 \n",
            " flatten_1 (Flatten)         (None, 9216)              0         \n",
            "                                                                 \n",
            " dense_2 (Dense)             (None, 4096)              37752832  \n",
            "                                                                 \n",
            " dropout (Dropout)           (None, 4096)              0         \n",
            "                                                                 \n",
            " dense_3 (Dense)             (None, 4096)              16781312  \n",
            "                                                                 \n",
            " dropout_1 (Dropout)         (None, 4096)              0         \n",
            "                                                                 \n",
            " dense_4 (Dense)             (None, 1000)              4097000   \n",
            "                                                                 \n",
            "=================================================================\n",
            "Total params: 62,383,848\n",
            "Trainable params: 62,381,096\n",
            "Non-trainable params: 2,752\n",
            "_________________________________________________________________\n"
          ]
        }
      ]
    },
    {
      "cell_type": "markdown",
      "metadata": {
        "id": "3euAK6M-Y-WO"
      },
      "source": [
        "# VGG-16/19"
      ]
    },
    {
      "cell_type": "markdown",
      "metadata": {
        "id": "Tq9aPQ7IZB_b"
      },
      "source": [
        "VGGNet은 16개 또는 19개의 층으로 구성된 모델을 의미한다(VGG16, VGG19로 불림). 이전에 포스팅한 VGG-F, VGG-M, VGG-S와는 차이가 있다. 그 모델들은 8개의 층을 가진 AlexNet과 유사한 모델들이다. 하지만 AlexNet와 같이 병렬적 구조로 이뤄지진 않았다. "
      ]
    },
    {
      "cell_type": "markdown",
      "metadata": {
        "id": "WjfMcv1QZFAw"
      },
      "source": [
        " - 역사적으로 봤을 때 VGGNet 모델부터 시작해서 네트워크의 깊이가 확 깊어졌다. 아래 그림을 참고하자. \n",
        "\n",
        "<img src = 'https://img1.daumcdn.net/thumb/R1280x0/?scode=mtistory2&fname=https%3A%2F%2Fblog.kakaocdn.net%2Fdn%2FdrYEZ4%2FbtqwpSXYd8U%2FLF8RkIhWpAmsgR67nfnZsk%2Fimg.png'>"
      ]
    },
    {
      "cell_type": "markdown",
      "metadata": {
        "id": "FFXTN1hLY-ae"
      },
      "source": [
        "VGGNet은 사용하기 쉬운 구조와 좋은 성능 덕분에 그 대회에서 우승을 거둔 조금 더 복잡한 형태의 GoogLeNet보다 더 인기를 얻었다. "
      ]
    },
    {
      "cell_type": "markdown",
      "metadata": {
        "id": "EHsEbiTWZNt7"
      },
      "source": [
        "개인적으로 나는 모든 필터 커널의 사이즈를 3 x 3으로 설정했기 때문에 네트워크의 깊이를 깊게 만들 수 있다고 생각한다. 왜냐하면 필터커널의 사이즈가 크면 그만큼 이미지의 사이즈가 금방 축소되기 때문에 네트워크의 깊이를 충분히 깊게 만들기 불가능하기 때문이다. "
      ]
    },
    {
      "cell_type": "markdown",
      "metadata": {
        "id": "ofZWyUnbZSvC"
      },
      "source": [
        "<img src= 'https://img1.daumcdn.net/thumb/R1280x0/?scode=mtistory2&fname=https%3A%2F%2Fblog.kakaocdn.net%2Fdn%2Fb1Vk5P%2FbtqwqjujKsa%2FTL2HyQ4kj6pNPz4TsirknK%2Fimg.png'>"
      ]
    },
    {
      "cell_type": "markdown",
      "metadata": {
        "id": "WzMb3L9HZhTb"
      },
      "source": [
        "그것은 바로 3 x 3 필터로 두 차례 컨볼루션을 하는 것과 5 x 5 필터로 한 번 컨볼루션을 하는 것이 결과적으로 동일한 사이즈의 특성맵을 산출한다는 것이다(아래 그림 참고). 3 x 3 필터로 세 차례 컨볼루션 하는 것은 7 x 7 필터로 한 번 컨볼루션 하는 것과 대응된다.\n",
        "\n",
        "<img src ='https://img1.daumcdn.net/thumb/R1280x0/?scode=mtistory2&fname=https%3A%2F%2Fblog.kakaocdn.net%2Fdn%2FT5kb2%2FbtqwonLQrNm%2Fd56nskDXEYoCWRDpxxkeAK%2Fimg.png'>"
      ]
    },
    {
      "cell_type": "markdown",
      "metadata": {
        "id": "zKx-HcexZn36"
      },
      "source": [
        "그러면 3 x 3 필터로 세 차례 컨볼루션을 하는 것이 7 x 7 필터로 한 번 컨볼루션하는 것보다 나은 점은 무엇일까? 일단 가중치 또는 파라미터의 갯수의 차이다. 3 x 3 필터가 3개면 총 27개의 가중치를 갖는다. 반면 7 x 7 필터는 49개의 가중치를 갖는다. CNN에서 가중치는 모두 훈련이 필요한 것들이므로, 가중치가 적다는 것은 그만큼 훈련시켜야할 것의 갯수가 작아진다. 따라서 학습의 속도가 빨라진다. 동시에 층의 갯수가 늘어나면서 특성에 비선형성을 더 증가시키기 때문에 특성이 점점 더 유용해진다. \n",
        "\n",
        " "
      ]
    },
    {
      "cell_type": "markdown",
      "metadata": {
        "id": "tiT2QB2OZqY7"
      },
      "source": [
        "## VGG 구조\n",
        "<img src = 'https://img1.daumcdn.net/thumb/R1280x0/?scode=mtistory2&fname=https%3A%2F%2Fblog.kakaocdn.net%2Fdn%2FK990l%2FbtqwDJ7C54R%2F664Ksm6gyTGBR1wK3YPDFk%2Fimg.png'>"
      ]
    },
    {
      "cell_type": "markdown",
      "source": [
        "<img src='https://raw.githubusercontent.com/moelgendy/deep_learning_for_vision_systems/2c9d077b43003657cd8f6d5ddfb6f83ee8bae1f3/chapter_05/images/vggnet_architecture.png'>"
      ],
      "metadata": {
        "id": "esNtHTipLiFY"
      }
    },
    {
      "cell_type": "code",
      "source": [
        "from keras.models import Sequential\n",
        "from keras.layers import Conv2D, AveragePooling2D, Flatten, Dense, Activation, MaxPool2D, BatchNormalization, Dropout, ZeroPadding2D"
      ],
      "metadata": {
        "id": "GC-StSy7Lkmy"
      },
      "execution_count": null,
      "outputs": []
    },
    {
      "cell_type": "markdown",
      "source": [
        "### VGG-16 (configuration D)"
      ],
      "metadata": {
        "id": "aNoPYzDjLnSq"
      }
    },
    {
      "cell_type": "code",
      "source": [
        "model = Sequential()\n",
        "\n",
        "# first block\n",
        "model.add(Conv2D(filters=64, kernel_size=(3,3), strides=(1,1), activation='relu', padding='same',input_shape=(224,224, 3)))\n",
        "model.add(Conv2D(filters=64, kernel_size=(3,3), strides=(1,1), activation='relu', padding='same'))\n",
        "model.add(MaxPool2D(pool_size=(2,2), strides=(2,2)))\n",
        "\n",
        "# second block\n",
        "model.add(Conv2D(filters=128, kernel_size=(3,3), strides=(1,1), activation='relu', padding='same'))\n",
        "model.add(Conv2D(filters=128, kernel_size=(3,3), strides=(1,1), activation='relu', padding='same'))\n",
        "model.add(MaxPool2D(pool_size=(2,2), strides=(2,2)))\n",
        "\n",
        "# third block\n",
        "model.add(Conv2D(filters=256, kernel_size=(3,3), strides=(1,1), activation='relu', padding='same'))\n",
        "model.add(Conv2D(filters=256, kernel_size=(3,3), strides=(1,1), activation='relu', padding='same'))\n",
        "model.add(Conv2D(filters=256, kernel_size=(3,3), strides=(1,1), activation='relu', padding='same'))\n",
        "model.add(MaxPool2D(pool_size=(2,2), strides=(2,2)))\n",
        "\n",
        "# forth block\n",
        "model.add(Conv2D(filters=512, kernel_size=(3,3), strides=(1,1), activation='relu', padding='same'))\n",
        "model.add(Conv2D(filters=512, kernel_size=(3,3), strides=(1,1), activation='relu', padding='same'))\n",
        "model.add(Conv2D(filters=512, kernel_size=(3,3), strides=(1,1), activation='relu', padding='same'))\n",
        "model.add(MaxPool2D(pool_size=(2,2), strides=(2,2)))\n",
        "\n",
        "# fifth block\n",
        "model.add(Conv2D(filters=512, kernel_size=(3,3), strides=(1,1), activation='relu', padding='same'))\n",
        "model.add(Conv2D(filters=512, kernel_size=(3,3), strides=(1,1), activation='relu', padding='same'))\n",
        "model.add(Conv2D(filters=512, kernel_size=(3,3), strides=(1,1), activation='relu', padding='same'))\n",
        "model.add(MaxPool2D(pool_size=(2,2), strides=(2,2)))\n",
        "\n",
        "# sixth block (classifier)\n",
        "model.add(Flatten())\n",
        "model.add(Dense(4096, activation='relu'))\n",
        "model.add(Dropout(0.5))\n",
        "model.add(Dense(4096, activation='relu'))\n",
        "model.add(Dropout(0.5))\n",
        "model.add(Dense(1000, activation='softmax'))\n",
        "\n",
        "model.summary()"
      ],
      "metadata": {
        "colab": {
          "base_uri": "https://localhost:8080/"
        },
        "id": "zVyJ-jOiLkot",
        "outputId": "17d8a08b-e0ca-4a12-f1f7-c7254b6be769"
      },
      "execution_count": 17,
      "outputs": [
        {
          "output_type": "stream",
          "name": "stdout",
          "text": [
            "Model: \"sequential_1\"\n",
            "_________________________________________________________________\n",
            " Layer (type)                Output Shape              Param #   \n",
            "=================================================================\n",
            " conv2d_8 (Conv2D)           (None, 224, 224, 64)      1792      \n",
            "                                                                 \n",
            " conv2d_9 (Conv2D)           (None, 224, 224, 64)      36928     \n",
            "                                                                 \n",
            " max_pooling2d_3 (MaxPooling  (None, 112, 112, 64)     0         \n",
            " 2D)                                                             \n",
            "                                                                 \n",
            " conv2d_10 (Conv2D)          (None, 112, 112, 128)     73856     \n",
            "                                                                 \n",
            " conv2d_11 (Conv2D)          (None, 112, 112, 128)     147584    \n",
            "                                                                 \n",
            " max_pooling2d_4 (MaxPooling  (None, 56, 56, 128)      0         \n",
            " 2D)                                                             \n",
            "                                                                 \n",
            " conv2d_12 (Conv2D)          (None, 56, 56, 256)       295168    \n",
            "                                                                 \n",
            " conv2d_13 (Conv2D)          (None, 56, 56, 256)       590080    \n",
            "                                                                 \n",
            " conv2d_14 (Conv2D)          (None, 56, 56, 256)       590080    \n",
            "                                                                 \n",
            " max_pooling2d_5 (MaxPooling  (None, 28, 28, 256)      0         \n",
            " 2D)                                                             \n",
            "                                                                 \n",
            " conv2d_15 (Conv2D)          (None, 28, 28, 512)       1180160   \n",
            "                                                                 \n",
            " conv2d_16 (Conv2D)          (None, 28, 28, 512)       2359808   \n",
            "                                                                 \n",
            " conv2d_17 (Conv2D)          (None, 28, 28, 512)       2359808   \n",
            "                                                                 \n",
            " max_pooling2d_6 (MaxPooling  (None, 14, 14, 512)      0         \n",
            " 2D)                                                             \n",
            "                                                                 \n",
            " conv2d_18 (Conv2D)          (None, 14, 14, 512)       2359808   \n",
            "                                                                 \n",
            " conv2d_19 (Conv2D)          (None, 14, 14, 512)       2359808   \n",
            "                                                                 \n",
            " conv2d_20 (Conv2D)          (None, 14, 14, 512)       2359808   \n",
            "                                                                 \n",
            " max_pooling2d_7 (MaxPooling  (None, 7, 7, 512)        0         \n",
            " 2D)                                                             \n",
            "                                                                 \n",
            " flatten_2 (Flatten)         (None, 25088)             0         \n",
            "                                                                 \n",
            " dense_5 (Dense)             (None, 4096)              102764544 \n",
            "                                                                 \n",
            " dropout_2 (Dropout)         (None, 4096)              0         \n",
            "                                                                 \n",
            " dense_6 (Dense)             (None, 4096)              16781312  \n",
            "                                                                 \n",
            " dropout_3 (Dropout)         (None, 4096)              0         \n",
            "                                                                 \n",
            " dense_7 (Dense)             (None, 1000)              4097000   \n",
            "                                                                 \n",
            "=================================================================\n",
            "Total params: 138,357,544\n",
            "Trainable params: 138,357,544\n",
            "Non-trainable params: 0\n",
            "_________________________________________________________________\n"
          ]
        }
      ]
    },
    {
      "cell_type": "markdown",
      "source": [
        "### VGG-19 (configuration E)"
      ],
      "metadata": {
        "id": "8fmkRl_zLqLI"
      }
    },
    {
      "cell_type": "code",
      "source": [
        "vgg_19 = Sequential()\n",
        "\n",
        "# first block\n",
        "vgg_19.add(Conv2D(filters=64, kernel_size=(3,3), strides=(1,1), activation='relu', padding='same',input_shape=(224,224, 3)))\n",
        "vgg_19.add(Conv2D(filters=64, kernel_size=(3,3), strides=(1,1), activation='relu', padding='same'))\n",
        "vgg_19.add(MaxPool2D((2,2), strides=(2,2)))\n",
        "\n",
        "# second block\n",
        "vgg_19.add(Conv2D(filters=128, kernel_size=(3,3), strides=(1,1), activation='relu', padding='same'))\n",
        "vgg_19.add(Conv2D(filters=128, kernel_size=(3,3), strides=(1,1), activation='relu', padding='same'))\n",
        "vgg_19.add(MaxPool2D((2,2), strides=(2,2)))\n",
        "\n",
        "# third block\n",
        "vgg_19.add(Conv2D(filters=256, kernel_size=(3,3), strides=(1,1), activation='relu', padding='same'))\n",
        "vgg_19.add(Conv2D(filters=256, kernel_size=(3,3), strides=(1,1), activation='relu', padding='same'))\n",
        "vgg_19.add(Conv2D(filters=256, kernel_size=(3,3), strides=(1,1), activation='relu', padding='same'))\n",
        "vgg_19.add(Conv2D(filters=256, kernel_size=(3,3), strides=(1,1), activation='relu', padding='same'))\n",
        "vgg_19.add(MaxPool2D((2,2), strides=(2,2)))\n",
        "\n",
        "# forth block\n",
        "vgg_19.add(Conv2D(filters=512, kernel_size=(3,3), strides=(1,1), activation='relu', padding='same'))\n",
        "vgg_19.add(Conv2D(filters=512, kernel_size=(3,3), strides=(1,1), activation='relu', padding='same'))\n",
        "vgg_19.add(Conv2D(filters=512, kernel_size=(3,3), strides=(1,1), activation='relu', padding='same'))\n",
        "vgg_19.add(Conv2D(filters=512, kernel_size=(3,3), strides=(1,1), activation='relu', padding='same'))\n",
        "vgg_19.add(MaxPool2D((2,2), strides=(2,2)))\n",
        "\n",
        "# fifth block\n",
        "vgg_19.add(Conv2D(filters=512, kernel_size=(3,3), strides=(1,1), activation='relu', padding='same'))\n",
        "vgg_19.add(Conv2D(filters=512, kernel_size=(3,3), strides=(1,1), activation='relu', padding='same'))\n",
        "vgg_19.add(Conv2D(filters=512, kernel_size=(3,3), strides=(1,1), activation='relu', padding='same'))\n",
        "vgg_19.add(Conv2D(filters=512, kernel_size=(3,3), strides=(1,1), activation='relu', padding='same'))\n",
        "vgg_19.add(MaxPool2D((2,2), strides=(2,2)))\n",
        "\n",
        "# seventh block (classifier)\n",
        "vgg_19.add(Flatten())\n",
        "vgg_19.add(Dense(4096, activation='relu'))\n",
        "vgg_19.add(Dropout(0.5))\n",
        "vgg_19.add(Dense(4096, activation='relu'))\n",
        "vgg_19.add(Dropout(0.5))\n",
        "vgg_19.add(Dense(1000, activation='softmax'))\n",
        "\n",
        "vgg_19.summary()"
      ],
      "metadata": {
        "colab": {
          "base_uri": "https://localhost:8080/"
        },
        "id": "V_IIQtvgLkrB",
        "outputId": "ec1ed4e1-d0e1-45f7-b5b0-39666d6aea71"
      },
      "execution_count": 18,
      "outputs": [
        {
          "output_type": "stream",
          "name": "stdout",
          "text": [
            "Model: \"sequential_2\"\n",
            "_________________________________________________________________\n",
            " Layer (type)                Output Shape              Param #   \n",
            "=================================================================\n",
            " conv2d_21 (Conv2D)          (None, 224, 224, 64)      1792      \n",
            "                                                                 \n",
            " conv2d_22 (Conv2D)          (None, 224, 224, 64)      36928     \n",
            "                                                                 \n",
            " max_pooling2d_8 (MaxPooling  (None, 112, 112, 64)     0         \n",
            " 2D)                                                             \n",
            "                                                                 \n",
            " conv2d_23 (Conv2D)          (None, 112, 112, 128)     73856     \n",
            "                                                                 \n",
            " conv2d_24 (Conv2D)          (None, 112, 112, 128)     147584    \n",
            "                                                                 \n",
            " max_pooling2d_9 (MaxPooling  (None, 56, 56, 128)      0         \n",
            " 2D)                                                             \n",
            "                                                                 \n",
            " conv2d_25 (Conv2D)          (None, 56, 56, 256)       295168    \n",
            "                                                                 \n",
            " conv2d_26 (Conv2D)          (None, 56, 56, 256)       590080    \n",
            "                                                                 \n",
            " conv2d_27 (Conv2D)          (None, 56, 56, 256)       590080    \n",
            "                                                                 \n",
            " conv2d_28 (Conv2D)          (None, 56, 56, 256)       590080    \n",
            "                                                                 \n",
            " max_pooling2d_10 (MaxPoolin  (None, 28, 28, 256)      0         \n",
            " g2D)                                                            \n",
            "                                                                 \n",
            " conv2d_29 (Conv2D)          (None, 28, 28, 512)       1180160   \n",
            "                                                                 \n",
            " conv2d_30 (Conv2D)          (None, 28, 28, 512)       2359808   \n",
            "                                                                 \n",
            " conv2d_31 (Conv2D)          (None, 28, 28, 512)       2359808   \n",
            "                                                                 \n",
            " conv2d_32 (Conv2D)          (None, 28, 28, 512)       2359808   \n",
            "                                                                 \n",
            " max_pooling2d_11 (MaxPoolin  (None, 14, 14, 512)      0         \n",
            " g2D)                                                            \n",
            "                                                                 \n",
            " conv2d_33 (Conv2D)          (None, 14, 14, 512)       2359808   \n",
            "                                                                 \n",
            " conv2d_34 (Conv2D)          (None, 14, 14, 512)       2359808   \n",
            "                                                                 \n",
            " conv2d_35 (Conv2D)          (None, 14, 14, 512)       2359808   \n",
            "                                                                 \n",
            " conv2d_36 (Conv2D)          (None, 14, 14, 512)       2359808   \n",
            "                                                                 \n",
            " max_pooling2d_12 (MaxPoolin  (None, 7, 7, 512)        0         \n",
            " g2D)                                                            \n",
            "                                                                 \n",
            " flatten_3 (Flatten)         (None, 25088)             0         \n",
            "                                                                 \n",
            " dense_8 (Dense)             (None, 4096)              102764544 \n",
            "                                                                 \n",
            " dropout_4 (Dropout)         (None, 4096)              0         \n",
            "                                                                 \n",
            " dense_9 (Dense)             (None, 4096)              16781312  \n",
            "                                                                 \n",
            " dropout_5 (Dropout)         (None, 4096)              0         \n",
            "                                                                 \n",
            " dense_10 (Dense)            (None, 1000)              4097000   \n",
            "                                                                 \n",
            "=================================================================\n",
            "Total params: 143,667,240\n",
            "Trainable params: 143,667,240\n",
            "Non-trainable params: 0\n",
            "_________________________________________________________________\n"
          ]
        }
      ]
    },
    {
      "cell_type": "markdown",
      "source": [
        "# Inception(Going Deeper With Convolutions)\n",
        "\n",
        "\n",
        "참고 : https://kangbk0120.github.io/articles/2018-01/inception-googlenet-review\n",
        "\n",
        "참고 : https://jjuon.tistory.com/26\n",
        "\n",
        "[Going Deeper with Convolutions](https://arxiv.org/abs/1409.4842)\n",
        "\n",
        "## Introduction\n",
        "\n",
        "-  GoogLeNet은 본 논문에서 소개될 Inception 모듈의 한 형태이며, ILSVRC 2014에서 top-5 error 6.67%로 우승을 차지했습니다.\n",
        "\n",
        "- GoogLeNEt은 22개의 층으로 구성되었으나(VGGNet보다 층수는 많다.)\n",
        "\n",
        "- 최근 3년간(2012~2015) CNN 분야는 급속도로 발전해 왔습니다. 이러한 발전은 대개 하드웨어의 발전뿐만 아니라 주로 네트워크 구조에 대한 기발한 아이디어가 원인입니다. 본 논문에서 소개될 GoogLeNet은 AlexNet에 비해 1/12배 작은 파라미터를 가지면서 더 정확한 성능을 냈습니다.(VGGNet : 1억 3800만개, GoogLeNet:1,300만개)\n",
        "\n",
        " \n",
        "\n",
        "- GoogLeNet에서 주목할 만한 점은 본 논문에서는 전력과 메모리 사용을 효율적으로 설계하여 모바일이나 임베디드 환경에 적용시킬 수 있게 한 것입니다. GoogLeNet은 inference시에 합곱(multiply-adds) 연산 횟수를 15억 번 이하로 지정하여 단순히 학문적 호기심이 아닌 실제로 적용시킬 수 있게 하였습니다.\n",
        "\n",
        "\n",
        "- GoogLeNet을 이루는 Inception 모듈은 Lin et al.에서 유래했습니다. 본 논문의 제목에서 deep는 두 가지 의미를 가집니다. 첫번째론 **Inception 모듈**이라는 새로운 형태의 구성을 제안한 것이고, 두번째론 말 **그대로 매우 깊은 network**를 의미합니다. \n",
        "\n",
        "\n",
        "- 일반적으로 Convolution Neural Network(이하 CNN)에서 네트워크가 깊어지면 깊어질수록, 즉 더 많은 레이어를 가질수록 성능이 좋아지는 것은 분명함. 이러한 방식의 문제점은 네트워크가 깊어질수록 학습해야하는 파라미터의 수가 늘어난다는 것에 있습니다. 특히 이러한 특징이 두드러지는 것은 깊은 곳에 위치한 Convolution연산입니다.\n",
        "\n",
        "- 대부분의 CNN에서 이미지가 Convolution연산을 거치게 되면 channel은 커지고 height와 width는 줄어듭니다. 자 구체적인 예를 들어 자세히 알아봅시다. 192 x 28 x 28(C x H x W)의 크기를 가지는 데이터가 있다고 해볼까요? 필터의 크기는 5x5, 스트라이드는 1, 패딩은 2라고 합시다. 필터가 32개 있다고 하면 결과는 32 x 28 x 28이 되겠죠. 문제는 여기서 생겨납니다. 각 필터는 192 x 5 x 5의 크기를 갖고, 결과는 32x28x28이므로, 총 필요한 연산은 192x5x5x32x28x28이 됩니다. 이는 120만개에 이르는 엄청난 연산을 필요로 하죠. 이러한 연산들을 몇 층씩 쌓는다는 것은 너무 부담스러운 일입니다.\n",
        "\n",
        "- 만약 직접 모델을 설계해야하는 상황이라면? 필터의 크기와 같은 하이퍼파라미터를 설정하는 것에서부터 고민이 시작될 겁니다. 하지만 Inception이라는 것을 사용하면 이러한 문제를 어느정도 해결할 수 있습니다.\n",
        "\n",
        "- 커널 크기나 풀링층의 배치는 대체로 실험을 통해 시행착오를 거치며 최적의 결과를 내는 값을 찾아 결정함. 인셉션에서는 필터 크기나 풀링층의 배치를 직접 결정하는 대신 블록 전체에 똑같은 설정을 적용하고 이를 인셉션 모듈이라고 함"
      ],
      "metadata": {
        "id": "3PbPMxSTDiP1"
      }
    },
    {
      "cell_type": "markdown",
      "source": [
        "### Network in Network\n",
        "\n",
        "본격적으로 논문에 대해 설명하기 전에 잠깐 설명하고 넘어가고 싶은 것이 있습니다. Network in Network라는 논문입니다.\n",
        "\n",
        "우리가 일반적으로 생각하는 Convolution layer는 필터가 움직이면서 해당하는 입력 부분과 곱/합 연산을 수행하고, 활성화함수를 거쳐 결과를 만들어낸다고 생각할 수 있습니다. 근데 만약 데이터의 분포가 저러한 선형 관계로 표현될 수 없는 비선형적인 관계라면? 그래서 이 논문에서는 비선형적 관계를 표현할 수 있도록, 단순한 곱/합 연산이 아니라 Multi Layer Perceptron, 즉 MLP를 중간에 넣어버립니다. 그래서 이 논문의 제목이 Network in Network(NIN)인 겁니다."
      ],
      "metadata": {
        "id": "I8G2KCaQpuCp"
      }
    },
    {
      "cell_type": "markdown",
      "source": [
        "<img src='https://user-images.githubusercontent.com/25279765/34998212-cf38899a-fb21-11e7-97a2-beb346108f2c.jpg'>"
      ],
      "metadata": {
        "id": "AQzD7XQHpwo5"
      }
    },
    {
      "cell_type": "markdown",
      "source": [
        "- 왼쪽이 우리가 생각하는 일반적인 Conv 레이어, 오른쪽이 이 논문에서 제안하는 MLP Conv"
      ],
      "metadata": {
        "id": "SRxmDLK1pz1t"
      }
    },
    {
      "cell_type": "markdown",
      "source": [
        "논문에 따르면, MLP 또한 Convolution의 필터처럼 역전파를 통해 학습되고, 그 자체가 깊은 구조를 가질 수 있으므로 MLP를 사용했다고 합니다."
      ],
      "metadata": {
        "id": "KdT_6dPop2Uo"
      }
    },
    {
      "cell_type": "markdown",
      "source": [
        "<img src='https://user-images.githubusercontent.com/25279765/34998215-d150d458-fb21-11e7-961d-1f677b421529.jpg'>"
      ],
      "metadata": {
        "id": "cC-erjeNp3GC"
      }
    },
    {
      "cell_type": "markdown",
      "source": [
        "이런 식으로 MLP Conv를 세 개 쌓고, 마지막에 Fully-Connected Layer를 넣는 대신 Global Average Pooling을 넣었습니다. 이는 오버피팅을 방지하는 효과가 있다고 합니다. 그런데 여기서 한가지 중요한 점이 생겨납니다.\n",
        "\n",
        "자 여기서 MLP Conv의 연산을 식으로 나타내면(\n",
        "i\n",
        ",\n",
        "j\n",
        "는 feature map에서 픽셀의 위치, \n",
        "k\n",
        "는 feature map의 k번째 채널, \n",
        "n\n",
        "은 MLP Conv의 n번째 레이어)\n",
        "\n",
        "$f_{i,j,k_1}^{1} = max(w_{k_1}^{1 \\intercal}x_{i,j} + b_{k_1}, 0)$\n",
        "…\n",
        "\n",
        "$f_{i,j,k_n}^{n} = max(w_{k_n}^{n \\intercal}f_{i,j}^{n-1} + b_{k_n}, 0)$\n",
        "이 됩니다. 첫번째식은 일반적인 CNN 연산($f_{i,j,k} = max(w_{k}^T,0)$ $i,j$는 픽셀의  index, $x_{i,j}$는 그 점을 중심으로 하는 input patch이며,k는 채널의 index)과 동일하다고 볼 수 있습니다. 물론 bias가 더해져 있긴 하지만 CNN에서도 bias를 추가해줄 수 있으니까요. 중요한 것은 마지막 식입니다. 마지막 식은 cross channel parametri(c pooling(CCCP)을 일반적인 Conv 레이어에 적용한 것과 같습니다. 이는 첫번째 식이 일반적인 CNN과 동일하기 때문인데요, 무슨 소린지 모르겠죠?"
      ],
      "metadata": {
        "id": "CSthkh6hp6ao"
      }
    },
    {
      "cell_type": "markdown",
      "source": [
        "<img src='https://user-images.githubusercontent.com/25279765/35000804-aacc58f0-fb28-11e7-9b27-f28c4a6568a2.jpg'>"
      ],
      "metadata": {
        "id": "yi-Ikwk9qfmp"
      }
    },
    {
      "cell_type": "markdown",
      "source": [
        "이렇게 일반적인 Convolution 연산을 거치고, 마지막에 하나의 값으로 매핑하는 과정을 CCCP라고 볼 수 있습니다. 즉\n",
        "\n"
      ],
      "metadata": {
        "id": "E4JNcbgVqiaA"
      }
    },
    {
      "cell_type": "markdown",
      "source": [
        "<img src='https://user-images.githubusercontent.com/25279765/35000899-eae138fc-fb28-11e7-9271-1faf59f7f3d6.jpg'>"
      ],
      "metadata": {
        "id": "jXVdCh0pqjbp"
      }
    },
    {
      "cell_type": "markdown",
      "source": [
        "요 사진의 연산을 수행한다고 볼 수 있습니다. 위의 두 사진에서 볼 수 있듯, 이 과정(n개의 레이어를 사용하는 MLP Conv)은 일반적인 Convolution 연산을 적용한 다음필터 크기가 1x1인 Convolution을 적용한 것과 동일합니다. 앞에서 말한 NIN의 목적이 무엇이었는지 기억하시나요? MLP의 도입을 통해 비선형적인 관계를 더 잘 표현하는 것이었습니다. 바로 위에서 보였듯, 결국 MLP를 통해 구하는 관계는 일반적인 CNN과 1x1 Conv의 결합으로도 표현할 수 있습니다. 즉 NIN의 의의는 이러한 1x1 Conv의 도입이라고 할 수 있죠. 결과적으로 1x1 Conv를 적절하게 사용하면 비선형적 함수를 더 잘 만들어낼 수 있게 되는 것입니다. 또한 1x1 Conv의 장점은 이것만이 아닙니다. 1x1 Conv는 채널 단위에서 Pooling을 해줍니다. 즉 1x1 Conv의 수를 입력의 채널보다 작게 하면 dimension reduction, 차원 축소가 가능한 것이죠."
      ],
      "metadata": {
        "id": "zI8LeT9Pqlma"
      }
    },
    {
      "cell_type": "markdown",
      "metadata": {
        "id": "be_lbwWraBSV"
      },
      "source": [
        "# GoogleNet\n",
        "\n",
        "\n",
        "- GoogLeNet은 2014년 이미지넷 이미지 인식 대회(ILSVRC)에서 VGGNet(VGG19)을 이기고 우승을 차지한 알고리즘이다. GoogLeNet은 19층의 VGG19보다 좀 더 깊은 22층으로 구성되어 있다. GoogLeNet의 original 논문은 Christian Szegedy 등에 의해 2015 CVPR에 개제된 \"Going Deeper with Convolutions\"이다. GoogLeNet이란 이름에서 알 수 있듯이 구글이 이 알고리즘 개발에 참여했다. \n",
        "\n",
        "## GoogleNet의 구조\n",
        "\n",
        "<img src = 'https://img1.daumcdn.net/thumb/R1280x0/?scode=mtistory2&fname=https%3A%2F%2Fblog.kakaocdn.net%2Fdn%2FIq9NO%2FbtqyPWk5PBX%2FK2JicGjIjj5w0eFIbhx4bK%2Fimg.png'>"
      ]
    },
    {
      "cell_type": "markdown",
      "metadata": {
        "id": "FOJFvfowbapz"
      },
      "source": [
        "GoogLeNet은 총 9개의 인셉션 모듈을 포함하고 있다. 인셉션 모듈을 하나 확대해서 자세히 살펴보자. \n",
        "\n",
        "<img src = 'https://img1.daumcdn.net/thumb/R1280x0/?scode=mtistory2&fname=https%3A%2F%2Fblog.kakaocdn.net%2Fdn%2F14Um2%2FbtqyQ5nKlEA%2FhjSsZaYiBukseySytXWFCK%2Fimg.png'>"
      ]
    },
    {
      "cell_type": "markdown",
      "metadata": {
        "id": "N8ECMPOGbuYL"
      },
      "source": [
        "GoogLeNet에 실제로 사용된 모듈은 1x1 컨볼루션이 포함된 (b) 모델이다. 아까 살펴봤듯이 1x1 컨볼루션은 특성맵의 장수를 줄여주는 역할을 한다. 노란색 블럭으로 표현된 1x1 컨볼루션을 제외한 나이브(naive) 버전을 살펴보면, 이전 층에서 생성된 특성맵을 1x1 컨볼루션, 3x3 컨볼루션, 5x5 컨볼루션, 3x3 최대풀링해준 결과 얻은 특성맵들을 모두 함께 쌓아준다. AlexNet, VGGNet 등의 이전 CNN 모델들은 한 층에서 동일한 사이즈의 필터커널을 이용해서 컨볼루션을 해줬던 것과 차이가 있다. 따라서 좀 더 다양한 종류의 특성이 도출된다. 여기에 1x1 컨볼루션이 포함되었으니 당연히 연산량은 많이 줄어들었을 것이다. "
      ]
    },
    {
      "cell_type": "markdown",
      "metadata": {
        "id": "7yugsEQ1aNMz"
      },
      "source": [
        "### 1X1 컨볼루션\n",
        "\n",
        "<img src = 'https://img1.daumcdn.net/thumb/R1280x0/?scode=mtistory2&fname=https%3A%2F%2Fblog.kakaocdn.net%2Fdn%2FMzPze%2FbtqyQy5e3NM%2F5HPtmAwVQzKJTj6wgWautk%2Fimg.png'>"
      ]
    },
    {
      "cell_type": "markdown",
      "metadata": {
        "id": "TklGWijuaSNb"
      },
      "source": [
        "1 x 1 컨볼루션은 어떤 의미를 갖는 것일까? 왜 해주는 것일까? GoogLeNet에서 1 x 1 컨볼루션은 특성맵의 갯수를 줄이는 목적으로 사용된다. 특성맵의 갯수가 줄어들면 그만큼 연산량이 줄어든다.\n",
        "\n",
        " \n",
        "\n",
        "예를 들어, 480장의 14 x 14 사이즈의 특성맵(14 x 14 x 480)이 있다고 가정해보자. 이것을 48개의 5 x 5 x 480의 필터커널로 컨볼루션을 해주면 48장의 14 x 14의 특성맵(14 x 14 x 48)이 생성된다. (zero padding을 2로, 컨볼루션 보폭은 1로 설정했다고 가정했다.) 이때 필요한 연산횟수는 얼마나 될까? 바로 (14 x 14 x 48) x (5 x 5 x 480) = 약 112.9M이 된다. \n",
        "\n",
        "<img src = 'https://img1.daumcdn.net/thumb/R1280x0/?scode=mtistory2&fname=https%3A%2F%2Fblog.kakaocdn.net%2Fdn%2Fbt4AxN%2FbtqyQ6NHO6u%2FezqfgBmWfkN5N2C49icbR1%2Fimg.png'>\n"
      ]
    },
    {
      "cell_type": "markdown",
      "source": [
        "- 차원 축소층(1x1  합성곱층)\n",
        "    - 1x1 합성곱층을 사용해서 1억 6300만 회의 곱셈을 약 10분의 1로 줄일 수 있다. 이 층을 축소층(reduce layer)이라고 부르는 것도 이 때문이다.\n",
        "    - 3x3 또는 5x5처럼 크기가 큰 필터를 포함하는 합성곱층 앞에 1x1 합성곱층을 배치해서 입력의 깊이를 축소하고 필요한 연산 횟수를 그만큼 줄인다.\n",
        "    - Bottleneck layer이라고 하는데, 신경망 구조 내에서 차원을 축소하는 이 층의 역할이 마치 병에서 가장 좁은 병목을 연상케 하기 때문."
      ],
      "metadata": {
        "id": "D9lsSoVlGMAK"
      }
    },
    {
      "cell_type": "markdown",
      "metadata": {
        "id": "NFABAHdabW2C"
      },
      "source": [
        "### Inception 모듈\n",
        "\n",
        "<img src = 'https://img1.daumcdn.net/thumb/R1280x0/?scode=mtistory2&fname=https%3A%2F%2Fblog.kakaocdn.net%2Fdn%2FbHZHKC%2FbtqyQ5aekdF%2F3rkScmoIxS4P4fia96lQwk%2Fimg.png'>\n"
      ]
    },
    {
      "cell_type": "markdown",
      "metadata": {
        "id": "cAtY-yeJbwnK"
      },
      "source": [
        "### Global average Pooling\n",
        "\n",
        "AlexNet, VGGNet 등에서는 fully connected (FC) 층들이 망의 후반부에 연결되어 있다. 그러나 GoogLeNet은 FC 방식 대신에 global average pooling이란 방식을 사용한다. global average pooling은 전 층에서 산출된 특성맵들을 각각 평균낸 것을 이어서 1차원 벡터를 만들어주는 것이다. 1차원 벡터를 만들어줘야 최종적으로 이미지 분류를 위한 softmax 층을 연결해줄 수 있기 때문이다. 만약 전 층에서 1024장의 7 x 7의 특성맵이 생성되었다면, 1024장의 7 x 7 특성맵 각각 평균내주어 얻은 1024개의 값을 하나의 벡터로 연결해주는 것이다.\n",
        "\n",
        "<img src = 'https://img1.daumcdn.net/thumb/R1280x0/?scode=mtistory2&fname=https%3A%2F%2Fblog.kakaocdn.net%2Fdn%2FbwTHh0%2FbtqB2uyArWI%2FqBr48Ik8bl4bK1oOEJa3bk%2Fimg.png'>"
      ]
    },
    {
      "cell_type": "markdown",
      "metadata": {
        "id": "AkIepWGmb5xj"
      },
      "source": [
        "이렇게 해줌으로 얻을 수 있는 장점은 가중치의 갯수를 상당히 많이 없애준다는 것이다. 만약 FC 방식을 사용한다면 훈련이 필요한 가중치의 갯수가 7 x 7 x 1024 x 1024 = 51.3M이지만 global average pooling을 사용하면 가중치가 단 한개도 필요하지 않다. "
      ]
    },
    {
      "cell_type": "markdown",
      "metadata": {
        "id": "wsW6eHFPb7k7"
      },
      "source": [
        "### auxiliary classifier\n",
        "\n",
        "네트워크의 깊이가 깊어지면 깊어질수록 vanishing gradient 문제를 피하기 어려워진다. 그러니까 가중치를 훈련하는 과정에 역전파(back propagation)를 주로 활용하는데, 역전파과정에서 가중치를 업데이트하는데 사용되는 gradient가 점점 작아져서 0이 되어버리는 것이다. 따라서 네트워크 내의 가중치들이 제대로 훈련되지 않는다. 이 문제를 극복하기 위해서 GoogLeNet에서는 네트워크 중간에 두 개의 보조 분류기(auxiliary classifier)를 달아주었다. \n",
        "\n",
        "<img src = 'https://img1.daumcdn.net/thumb/R1280x0/?scode=mtistory2&fname=https%3A%2F%2Fblog.kakaocdn.net%2Fdn%2FbD5poT%2FbtqyQM98EkX%2FnbxasUSmCO1WnaIyIsvUD0%2Fimg.png'>"
      ]
    },
    {
      "cell_type": "markdown",
      "source": [
        "- GoogleNet Implementation"
      ],
      "metadata": {
        "id": "jWCtNRcgfYE7"
      }
    },
    {
      "cell_type": "code",
      "source": [
        "from tensorflow.keras.layers import Input, Conv2D, MaxPooling2D,\\\n",
        " Flatten, AveragePooling2D, Dense, Dropout, GlobalAveragePooling2D, concatenate\n",
        "from tensorflow.keras.datasets import mnist \n",
        "# from tensorflow.keras.layers.merge import \n",
        "from tensorflow.keras.utils import plot_model\n",
        "from tensorflow.keras.models import Model\n",
        "from tensorflow.keras.optimizers import Adam\n",
        "from tensorflow.keras.initializers import glorot_uniform, Constant\n",
        "from tensorflow.keras.utils import to_categorical\n",
        "import matplotlib.pyplot as plt\n",
        "from tensorflow.keras.utils import plot_model"
      ],
      "metadata": {
        "id": "SdkbUN0Nfajy"
      },
      "execution_count": null,
      "outputs": []
    },
    {
      "cell_type": "code",
      "source": [
        "(images_train, labels_train), (images_test, labels_test) = mnist.load_data()\n",
        "train_labels = to_categorical(labels_train)\n",
        "test_labels = to_categorical(labels_test)"
      ],
      "metadata": {
        "id": "bLDmfKRBfal5"
      },
      "execution_count": null,
      "outputs": []
    },
    {
      "cell_type": "code",
      "source": [
        "image_height = 28\n",
        "image_width = 28\n",
        "channel = 1\n",
        "input_shape = (image_height, image_width, channel)\n",
        "number_classes = 10\n",
        "batch_size = 120\n",
        "epochs = 3\n",
        "optimizer = Adam()\n",
        "kernel_init = glorot_uniform()\n",
        "bias_init = Constant(value = 0.2)"
      ],
      "metadata": {
        "id": "5dr8HDymfaoB"
      },
      "execution_count": null,
      "outputs": []
    },
    {
      "cell_type": "code",
      "source": [
        "def inceptionMadule(InputLayer, filter1, filter2_in, filter2_out, filter3_in, filter3_out, filter4_out):\n",
        "  C1 = Conv2D(filter1, (1, 1), padding = 'same', activation = 'relu')(InputLayer)\n",
        "\n",
        "  C2 = Conv2D(filter2_in, (1, 1), padding = 'same', activation = 'relu')(InputLayer)\n",
        "  C2 = Conv2D(filter2_out, (3, 3), padding = 'same', activation = 'relu')(C2)\n",
        "\n",
        "  C3 = Conv2D(filter3_in, (1, 1), padding = 'same', activation = 'relu')(InputLayer)\n",
        "  C3 = Conv2D(filter3_out, (5, 5), padding = 'same', activation = 'relu')(C3)\n",
        "\n",
        "  pool = MaxPooling2D((3, 3), strides = (1, 1), padding = 'same')(InputLayer)\n",
        "  pool = Conv2D(filter4_out, (1, 1), padding = 'same', activation = 'relu')(pool)\n",
        "\n",
        "  OutLayer = concatenate([C1, C2, C3, pool], axis = -1)\n",
        "  return OutLayer"
      ],
      "metadata": {
        "id": "IcZ4ruG-faqA"
      },
      "execution_count": null,
      "outputs": []
    },
    {
      "cell_type": "code",
      "source": [
        "input_layer = Input(shape = input_shape)\n",
        "L = Conv2D(64, (7, 7), padding = 'same', strides = (2, 2), activation = 'relu',\n",
        "           kernel_initializer = kernel_init, bias_initializer = bias_init)(input_layer)\n",
        "L = MaxPooling2D((3, 3), padding = 'same', strides = (2, 2))(L)\n",
        "L = Conv2D(64, (1, 1), padding = 'same', strides = (1, 1), activation = 'relu')(L)\n",
        "L = Conv2D(192, (3, 3), padding = 'same', strides = (1, 1), activation = 'relu')(L)\n",
        "L = MaxPooling2D((3, 3), padding = 'same', strides = (2, 2))(L)\n",
        "# inception_3a\n",
        "L = inceptionMadule(L, filter1 = 64, filter2_in = 96, filter2_out = 128, filter3_in = 16, filter3_out = 32, filter4_out = 32)\n",
        "# inception_3b\n",
        "L = inceptionMadule(L, filter1 = 128, filter2_in = 128, filter2_out = 192, filter3_in = 32, filter3_out = 96, filter4_out = 64)\n",
        "L = MaxPooling2D((3, 3), padding = 'same', strides=(2, 2))(L)\n",
        "# inception_4a\n",
        "L = inceptionMadule(L, filter1 = 192, filter2_in = 96, filter2_out = 208, filter3_in = 16, filter3_out = 48, filter4_out = 64)\n",
        "\n",
        "O1 = AveragePooling2D((5, 5), strides = (2,2), padding='same')(L)\n",
        "O1 = Conv2D(128, (1, 1), padding = 'same', activation = 'relu')(O1)\n",
        "O1 = Flatten()(O1)\n",
        "O1 = Dense(1024, activation='relu')(O1)\n",
        "O1 = Dropout(0.7)(O1)\n",
        "softmax0 = Dense(10, activation = 'softmax')(O1)\n",
        "\n",
        "# inception_4b\n",
        "L = inceptionMadule(L, filter1 = 160, filter2_in = 112, filter2_out = 224,\n",
        " filter3_in = 24, filter3_out = 64, filter4_out = 64)\n",
        "# inception_4c\n",
        "L = inceptionMadule(L, filter1 = 128, filter2_in = 128, filter2_out = 256,\n",
        " filter3_in = 24, filter3_out = 64, filter4_out = 64)\n",
        "# inception_4d\n",
        "L = inceptionMadule(L, filter1 = 112, filter2_in = 144, filter2_out = 288,\n",
        " filter3_in = 32, filter3_out = 64, filter4_out = 64)\n",
        "\n",
        "O2 = AveragePooling2D((5, 5), strides = (2,2), padding='same')(L)\n",
        "O2 = Conv2D(128, (1, 1), padding = 'same', activation = 'relu')(O2)\n",
        "O2 = Flatten()(O2)\n",
        "O2 = Dense(1024, activation = 'relu')(O2) \n",
        "O2 = Dropout(0.7)(O2)\n",
        "softmax1 = Dense(10, activation = 'softmax')(O2)\n",
        "\n",
        "# inception_4e\n",
        "L = inceptionMadule(L, filter1 = 256, filter2_in = 160, filter2_out = 320,\n",
        " filter3_in = 32, filter3_out = 128, filter4_out = 128)\n",
        "L = MaxPooling2D((3, 3), padding = 'same', strides = (2, 2))(L)\n",
        "# inception_5a\n",
        "L = inceptionMadule(L, filter1 = 256, filter2_in = 160, filter2_out = 320,\n",
        " filter3_in = 32, filter3_out = 128, filter4_out = 128)\n",
        "# inception_5b\n",
        "L = inceptionMadule(L, filter1 = 384, filter2_in = 192, filter2_out = 384,\n",
        " filter3_in = 48, filter3_out = 128, filter4_out = 128)\n",
        "L = GlobalAveragePooling2D()(L)\n",
        "L = Dropout(0.4)(L)\n",
        "softmax2 = Dense(10, activation = 'softmax')(L)"
      ],
      "metadata": {
        "id": "iUmdwj3tffVv"
      },
      "execution_count": null,
      "outputs": []
    },
    {
      "cell_type": "code",
      "source": [
        "model = Model(input_layer, [softmax2, softmax1, softmax0])\n",
        "model.compile(loss=['categorical_crossentropy', 'categorical_crossentropy', 'categorical_crossentropy'],\n",
        "              loss_weights=[1, 0.3, 0.3], optimizer=optimizer, metrics=['accuracy'])"
      ],
      "metadata": {
        "id": "9JRZdsZiffX_"
      },
      "execution_count": null,
      "outputs": []
    },
    {
      "cell_type": "code",
      "source": [
        "ModelHistory = model.fit(images_train, [train_labels, train_labels, train_labels],\n",
        "                         validation_data=(images_test, [test_labels,test_labels, test_labels]),\n",
        "                         epochs=epochs, batch_size=batch_size)"
      ],
      "metadata": {
        "id": "fYy0X0ZEffZ_"
      },
      "execution_count": null,
      "outputs": []
    },
    {
      "cell_type": "code",
      "source": [
        "# Draw Loss Plot\n",
        "plt.plot(ModelHistory.history['loss'], color = 'blue', label = 'Traning Data Loss')\n",
        "plt.plot(ModelHistory.history['val_loss'], color = 'red', label = 'Validation Data Loss')\n",
        "plt.title('Loss')\n",
        "plt.xlabel('Epochs')\n",
        "plt.ylabel('Loss')\n",
        "plt.legend()\n",
        "plt.show()\n",
        "\n",
        "# Draw Accuracy Plot\n",
        "plt.plot(ModelHistory.history['dense_4_accuracy'], color = 'blue', label = 'Traning Data Accuracy')\n",
        "plt.plot(ModelHistory.history['val_dense_4_accuracy'], color = 'red', label = 'Validation Data Accuracy')\n",
        "plt.title('Accuracy')\n",
        "plt.xlabel('Epochs')\n",
        "plt.ylabel('Accuracy')\n",
        "plt.legend()\n",
        "plt.show()"
      ],
      "metadata": {
        "id": "09BEKkL5ffb-"
      },
      "execution_count": null,
      "outputs": []
    },
    {
      "cell_type": "code",
      "source": [
        "plot_model(model, show_shapes=True, to_file='model_architecture.png')"
      ],
      "metadata": {
        "id": "iqAGN6IlfkJ3"
      },
      "execution_count": null,
      "outputs": []
    },
    {
      "cell_type": "code",
      "source": [
        "model.evaluate(images_test, [test_labels,test_labels, test_labels])"
      ],
      "metadata": {
        "id": "cgw1fxNLfkL1"
      },
      "execution_count": null,
      "outputs": []
    },
    {
      "cell_type": "markdown",
      "source": [
        "- Deep learning for Vision systems book 참고"
      ],
      "metadata": {
        "id": "dMYs7ZyPJX8m"
      }
    },
    {
      "cell_type": "markdown",
      "source": [
        "- Colab pro+로 계산하였음."
      ],
      "metadata": {
        "id": "pm5lu6iFjYn4"
      }
    },
    {
      "cell_type": "markdown",
      "source": [
        "- cifar10 -> Googlenet\n",
        "\n",
        "1. Import libraries"
      ],
      "metadata": {
        "id": "utVpaMKmHmIU"
      }
    },
    {
      "cell_type": "code",
      "source": [
        "import keras\n",
        "from keras.layers import Layer\n",
        "import keras.backend as K\n",
        "import tensorflow as tf\n",
        "from keras.datasets import cifar10"
      ],
      "metadata": {
        "id": "P0nUJo3kHpAd"
      },
      "execution_count": 5,
      "outputs": []
    },
    {
      "cell_type": "code",
      "source": [
        "from keras.models import Model\n",
        "from keras.layers import Conv2D, MaxPool2D,  \\\n",
        "    Dropout, Dense, Input, concatenate,      \\\n",
        "    GlobalAveragePooling2D, AveragePooling2D,\\\n",
        "    Flatten\n",
        "\n",
        "import cv2 \n",
        "import numpy as np \n",
        "from keras.datasets import cifar10 \n",
        "from keras import backend as K \n",
        "from keras.utils import np_utils\n",
        "\n",
        "import math \n",
        "from keras.optimizers import SGD \n",
        "from keras.callbacks import LearningRateScheduler"
      ],
      "metadata": {
        "id": "q60f6pjTQTrO"
      },
      "execution_count": 6,
      "outputs": []
    },
    {
      "cell_type": "markdown",
      "source": [
        "2. Prepare the dataset"
      ],
      "metadata": {
        "id": "e-8lQcwxHqYq"
      }
    },
    {
      "cell_type": "code",
      "source": [
        "num_classes = 10\n",
        "\n",
        "def load_cifar10_data(img_rows, img_cols):\n",
        "\n",
        "    # Load cifar10 training and validation sets\n",
        "    (X_train, Y_train), (X_valid, Y_valid) = cifar10.load_data()\n",
        "\n",
        "    # Resize training images\n",
        "    X_train = np.array([cv2.resize(img, (img_rows,img_cols)) for img in X_train[:,:,:,:]])\n",
        "    X_valid = np.array([cv2.resize(img, (img_rows,img_cols)) for img in X_valid[:,:,:,:]])\n",
        "\n",
        "    # Transform targets to keras compatible format\n",
        "    Y_train = np_utils.to_categorical(Y_train, num_classes)\n",
        "    Y_valid = np_utils.to_categorical(Y_valid, num_classes)\n",
        "    \n",
        "    X_train = X_train.astype('float32')\n",
        "    X_valid = X_valid.astype('float32')\n",
        "\n",
        "    # preprocess data\n",
        "    X_train = X_train / 255.0\n",
        "    X_valid = X_valid / 255.0\n",
        "\n",
        "    return X_train, Y_train, X_valid, Y_valid"
      ],
      "metadata": {
        "id": "UT8P_uV3HpCJ"
      },
      "execution_count": 7,
      "outputs": []
    },
    {
      "cell_type": "markdown",
      "source": [
        "- 원래 input size는 224이지만 GPU 용량제한으로 112로 제한하여 학습을 시킵니다"
      ],
      "metadata": {
        "id": "yUxiS2LSfMTR"
      }
    },
    {
      "cell_type": "code",
      "source": [
        "X_train, y_train, X_test, y_test = load_cifar10_data(112, 112)"
      ],
      "metadata": {
        "id": "znoERJZ0HpEA"
      },
      "execution_count": 12,
      "outputs": []
    },
    {
      "cell_type": "markdown",
      "source": [
        "3. Create the inception modeule"
      ],
      "metadata": {
        "id": "KyhZVQAnH5T-"
      }
    },
    {
      "cell_type": "markdown",
      "source": [
        "<img src='https://raw.githubusercontent.com/moelgendy/deep_learning_for_vision_systems/2c9d077b43003657cd8f6d5ddfb6f83ee8bae1f3/chapter_05/images/inception_module.png'>"
      ],
      "metadata": {
        "id": "_rZiavTvH8d2"
      }
    },
    {
      "cell_type": "code",
      "source": [
        "def inception_module(x,\n",
        "                     filters_1x1,\n",
        "                     filters_3x3_reduce,\n",
        "                     filters_3x3,\n",
        "                     filters_5x5_reduce,\n",
        "                     filters_5x5,\n",
        "                     filters_pool_proj,\n",
        "                     name=None):\n",
        "    \n",
        "    conv_1x1 = Conv2D(filters_1x1, (1, 1), padding='same', activation='relu', kernel_initializer=kernel_init, bias_initializer=bias_init)(x)\n",
        "    \n",
        "    conv_3x3 = Conv2D(filters_3x3_reduce, (1, 1), padding='same', activation='relu', kernel_initializer=kernel_init, bias_initializer=bias_init)(x)\n",
        "    conv_3x3 = Conv2D(filters_3x3, (3, 3), padding='same', activation='relu', kernel_initializer=kernel_init, bias_initializer=bias_init)(conv_3x3)\n",
        "\n",
        "    conv_5x5 = Conv2D(filters_5x5_reduce, (1, 1), padding='same', activation='relu', kernel_initializer=kernel_init, bias_initializer=bias_init)(x)\n",
        "    conv_5x5 = Conv2D(filters_5x5, (5, 5), padding='same', activation='relu', kernel_initializer=kernel_init, bias_initializer=bias_init)(conv_5x5)\n",
        "\n",
        "    pool_proj = MaxPool2D((3, 3), strides=(1, 1), padding='same')(x)\n",
        "    pool_proj = Conv2D(filters_pool_proj, (1, 1), padding='same', activation='relu', kernel_initializer=kernel_init, bias_initializer=bias_init)(pool_proj)\n",
        "\n",
        "    output = concatenate([conv_1x1, conv_3x3, conv_5x5, pool_proj], axis=3, name=name)\n",
        "    \n",
        "    return output"
      ],
      "metadata": {
        "id": "6exfMlKkHpGJ"
      },
      "execution_count": 13,
      "outputs": []
    },
    {
      "cell_type": "markdown",
      "source": [
        "4. Cretate the GoogLeNet architecture\n",
        "\n",
        "<img src='https://raw.githubusercontent.com/moelgendy/deep_learning_for_vision_systems/2c9d077b43003657cd8f6d5ddfb6f83ee8bae1f3/chapter_05/images/inception_architecture.png'>"
      ],
      "metadata": {
        "id": "nA8zP7srIBJs"
      }
    },
    {
      "cell_type": "code",
      "source": [
        "kernel_init = keras.initializers.glorot_uniform()\n",
        "bias_init = keras.initializers.Constant(value=0.2)"
      ],
      "metadata": {
        "id": "_ogjJ1pnHpIL"
      },
      "execution_count": 14,
      "outputs": []
    },
    {
      "cell_type": "markdown",
      "source": [
        "- 원래 input size는 224이지만 GPU 용량제한으로 112로 제한하여 학습을 시킵니다"
      ],
      "metadata": {
        "id": "Oi7QwxswfVAZ"
      }
    },
    {
      "cell_type": "code",
      "source": [
        "input_layer = Input(shape=(112, 112, 3))\n",
        "\n",
        "x = Conv2D(64, (7, 7), padding='same', strides=(2, 2), activation='relu', name='conv_1_7x7/2', kernel_initializer=kernel_init, bias_initializer=bias_init)(input_layer)\n",
        "x = MaxPool2D((3, 3), padding='same', strides=(2, 2), name='max_pool_1_3x3/2')(x)\n",
        "x = Conv2D(64, (1, 1), padding='same', strides=(1, 1), activation='relu', name='conv_2a_3x3/1')(x)\n",
        "x = Conv2D(192, (3, 3), padding='same', strides=(1, 1), activation='relu', name='conv_2b_3x3/1')(x)\n",
        "x = MaxPool2D((3, 3), padding='same', strides=(2, 2), name='max_pool_2_3x3/2')(x)\n",
        "\n",
        "x = inception_module(x,\n",
        "                     filters_1x1=64,\n",
        "                     filters_3x3_reduce=96,\n",
        "                     filters_3x3=128,\n",
        "                     filters_5x5_reduce=16,\n",
        "                     filters_5x5=32,\n",
        "                     filters_pool_proj=32,\n",
        "                     name='inception_3a')\n",
        "\n",
        "x = inception_module(x,\n",
        "                     filters_1x1=128,\n",
        "                     filters_3x3_reduce=128,\n",
        "                     filters_3x3=192,\n",
        "                     filters_5x5_reduce=32,\n",
        "                     filters_5x5=96,\n",
        "                     filters_pool_proj=64,\n",
        "                     name='inception_3b')\n",
        "\n",
        "x = MaxPool2D((3, 3), padding='same', strides=(2, 2), name='max_pool_3_3x3/2')(x)\n",
        "\n",
        "x = inception_module(x,\n",
        "                     filters_1x1=192,\n",
        "                     filters_3x3_reduce=96,\n",
        "                     filters_3x3=208,\n",
        "                     filters_5x5_reduce=16,\n",
        "                     filters_5x5=48,\n",
        "                     filters_pool_proj=64,\n",
        "                     name='inception_4a')\n",
        "\n",
        "\n",
        "x1 = AveragePooling2D((5, 5), strides=3)(x)\n",
        "x1 = Conv2D(128, (1, 1), padding='same', activation='relu')(x1)\n",
        "x1 = Flatten()(x1)\n",
        "x1 = Dense(1024, activation='relu')(x1)\n",
        "x1 = Dropout(0.7)(x1)\n",
        "x1 = Dense(10, activation='softmax', name='auxilliary_output_1')(x1)\n",
        "\n",
        "x = inception_module(x,\n",
        "                     filters_1x1=160,\n",
        "                     filters_3x3_reduce=112,\n",
        "                     filters_3x3=224,\n",
        "                     filters_5x5_reduce=24,\n",
        "                     filters_5x5=64,\n",
        "                     filters_pool_proj=64,\n",
        "                     name='inception_4b')\n",
        "\n",
        "x = inception_module(x,\n",
        "                     filters_1x1=128,\n",
        "                     filters_3x3_reduce=128,\n",
        "                     filters_3x3=256,\n",
        "                     filters_5x5_reduce=24,\n",
        "                     filters_5x5=64,\n",
        "                     filters_pool_proj=64,\n",
        "                     name='inception_4c')\n",
        "\n",
        "x = inception_module(x,\n",
        "                     filters_1x1=112,\n",
        "                     filters_3x3_reduce=144,\n",
        "                     filters_3x3=288,\n",
        "                     filters_5x5_reduce=32,\n",
        "                     filters_5x5=64,\n",
        "                     filters_pool_proj=64,\n",
        "                     name='inception_4d')\n",
        "\n",
        "\n",
        "x2 = AveragePooling2D((5, 5), strides=3)(x)\n",
        "x2 = Conv2D(128, (1, 1), padding='same', activation='relu')(x2)\n",
        "x2 = Flatten()(x2)\n",
        "x2 = Dense(1024, activation='relu')(x2)\n",
        "x2 = Dropout(0.7)(x2)\n",
        "x2 = Dense(10, activation='softmax', name='auxilliary_output_2')(x2)\n",
        "\n",
        "x = inception_module(x,\n",
        "                     filters_1x1=256,\n",
        "                     filters_3x3_reduce=160,\n",
        "                     filters_3x3=320,\n",
        "                     filters_5x5_reduce=32,\n",
        "                     filters_5x5=128,\n",
        "                     filters_pool_proj=128,\n",
        "                     name='inception_4e')\n",
        "\n",
        "x = MaxPool2D((3, 3), padding='same', strides=(2, 2), name='max_pool_4_3x3/2')(x)\n",
        "\n",
        "x = inception_module(x,\n",
        "                     filters_1x1=256,\n",
        "                     filters_3x3_reduce=160,\n",
        "                     filters_3x3=320,\n",
        "                     filters_5x5_reduce=32,\n",
        "                     filters_5x5=128,\n",
        "                     filters_pool_proj=128,\n",
        "                     name='inception_5a')\n",
        "\n",
        "x = inception_module(x,\n",
        "                     filters_1x1=384,\n",
        "                     filters_3x3_reduce=192,\n",
        "                     filters_3x3=384,\n",
        "                     filters_5x5_reduce=48,\n",
        "                     filters_5x5=128,\n",
        "                     filters_pool_proj=128,\n",
        "                     name='inception_5b')\n",
        "\n",
        "x = GlobalAveragePooling2D(name='avg_pool_5_3x3/1')(x)\n",
        "\n",
        "x = Dropout(0.4)(x)\n",
        "\n",
        "x = Dense(10, activation='softmax', name='output')(x)"
      ],
      "metadata": {
        "id": "fx_cZkRpHpJ_"
      },
      "execution_count": 15,
      "outputs": []
    },
    {
      "cell_type": "code",
      "source": [
        "model = Model(input_layer, [x, x1, x2], name='inception_v1')"
      ],
      "metadata": {
        "id": "I8H85tYMIZUw"
      },
      "execution_count": 16,
      "outputs": []
    },
    {
      "cell_type": "code",
      "source": [
        "model.summary()"
      ],
      "metadata": {
        "id": "3xmixnIFIaHA",
        "colab": {
          "base_uri": "https://localhost:8080/"
        },
        "outputId": "6f6e79e2-5fb6-4469-f4ee-4b5779be0a96"
      },
      "execution_count": 17,
      "outputs": [
        {
          "output_type": "stream",
          "name": "stdout",
          "text": [
            "Model: \"inception_v1\"\n",
            "__________________________________________________________________________________________________\n",
            " Layer (type)                   Output Shape         Param #     Connected to                     \n",
            "==================================================================================================\n",
            " input_2 (InputLayer)           [(None, 112, 112, 3  0           []                               \n",
            "                                )]                                                                \n",
            "                                                                                                  \n",
            " conv_1_7x7/2 (Conv2D)          (None, 56, 56, 64)   9472        ['input_2[0][0]']                \n",
            "                                                                                                  \n",
            " max_pool_1_3x3/2 (MaxPooling2D  (None, 28, 28, 64)  0           ['conv_1_7x7/2[0][0]']           \n",
            " )                                                                                                \n",
            "                                                                                                  \n",
            " conv_2a_3x3/1 (Conv2D)         (None, 28, 28, 64)   4160        ['max_pool_1_3x3/2[0][0]']       \n",
            "                                                                                                  \n",
            " conv_2b_3x3/1 (Conv2D)         (None, 28, 28, 192)  110784      ['conv_2a_3x3/1[0][0]']          \n",
            "                                                                                                  \n",
            " max_pool_2_3x3/2 (MaxPooling2D  (None, 14, 14, 192)  0          ['conv_2b_3x3/1[0][0]']          \n",
            " )                                                                                                \n",
            "                                                                                                  \n",
            " conv2d_19 (Conv2D)             (None, 14, 14, 96)   18528       ['max_pool_2_3x3/2[0][0]']       \n",
            "                                                                                                  \n",
            " conv2d_21 (Conv2D)             (None, 14, 14, 16)   3088        ['max_pool_2_3x3/2[0][0]']       \n",
            "                                                                                                  \n",
            " max_pooling2d_3 (MaxPooling2D)  (None, 14, 14, 192)  0          ['max_pool_2_3x3/2[0][0]']       \n",
            "                                                                                                  \n",
            " conv2d_18 (Conv2D)             (None, 14, 14, 64)   12352       ['max_pool_2_3x3/2[0][0]']       \n",
            "                                                                                                  \n",
            " conv2d_20 (Conv2D)             (None, 14, 14, 128)  110720      ['conv2d_19[0][0]']              \n",
            "                                                                                                  \n",
            " conv2d_22 (Conv2D)             (None, 14, 14, 32)   12832       ['conv2d_21[0][0]']              \n",
            "                                                                                                  \n",
            " conv2d_23 (Conv2D)             (None, 14, 14, 32)   6176        ['max_pooling2d_3[0][0]']        \n",
            "                                                                                                  \n",
            " inception_3a (Concatenate)     (None, 14, 14, 256)  0           ['conv2d_18[0][0]',              \n",
            "                                                                  'conv2d_20[0][0]',              \n",
            "                                                                  'conv2d_22[0][0]',              \n",
            "                                                                  'conv2d_23[0][0]']              \n",
            "                                                                                                  \n",
            " conv2d_25 (Conv2D)             (None, 14, 14, 128)  32896       ['inception_3a[0][0]']           \n",
            "                                                                                                  \n",
            " conv2d_27 (Conv2D)             (None, 14, 14, 32)   8224        ['inception_3a[0][0]']           \n",
            "                                                                                                  \n",
            " max_pooling2d_4 (MaxPooling2D)  (None, 14, 14, 256)  0          ['inception_3a[0][0]']           \n",
            "                                                                                                  \n",
            " conv2d_24 (Conv2D)             (None, 14, 14, 128)  32896       ['inception_3a[0][0]']           \n",
            "                                                                                                  \n",
            " conv2d_26 (Conv2D)             (None, 14, 14, 192)  221376      ['conv2d_25[0][0]']              \n",
            "                                                                                                  \n",
            " conv2d_28 (Conv2D)             (None, 14, 14, 96)   76896       ['conv2d_27[0][0]']              \n",
            "                                                                                                  \n",
            " conv2d_29 (Conv2D)             (None, 14, 14, 64)   16448       ['max_pooling2d_4[0][0]']        \n",
            "                                                                                                  \n",
            " inception_3b (Concatenate)     (None, 14, 14, 480)  0           ['conv2d_24[0][0]',              \n",
            "                                                                  'conv2d_26[0][0]',              \n",
            "                                                                  'conv2d_28[0][0]',              \n",
            "                                                                  'conv2d_29[0][0]']              \n",
            "                                                                                                  \n",
            " max_pool_3_3x3/2 (MaxPooling2D  (None, 7, 7, 480)   0           ['inception_3b[0][0]']           \n",
            " )                                                                                                \n",
            "                                                                                                  \n",
            " conv2d_31 (Conv2D)             (None, 7, 7, 96)     46176       ['max_pool_3_3x3/2[0][0]']       \n",
            "                                                                                                  \n",
            " conv2d_33 (Conv2D)             (None, 7, 7, 16)     7696        ['max_pool_3_3x3/2[0][0]']       \n",
            "                                                                                                  \n",
            " max_pooling2d_5 (MaxPooling2D)  (None, 7, 7, 480)   0           ['max_pool_3_3x3/2[0][0]']       \n",
            "                                                                                                  \n",
            " conv2d_30 (Conv2D)             (None, 7, 7, 192)    92352       ['max_pool_3_3x3/2[0][0]']       \n",
            "                                                                                                  \n",
            " conv2d_32 (Conv2D)             (None, 7, 7, 208)    179920      ['conv2d_31[0][0]']              \n",
            "                                                                                                  \n",
            " conv2d_34 (Conv2D)             (None, 7, 7, 48)     19248       ['conv2d_33[0][0]']              \n",
            "                                                                                                  \n",
            " conv2d_35 (Conv2D)             (None, 7, 7, 64)     30784       ['max_pooling2d_5[0][0]']        \n",
            "                                                                                                  \n",
            " inception_4a (Concatenate)     (None, 7, 7, 512)    0           ['conv2d_30[0][0]',              \n",
            "                                                                  'conv2d_32[0][0]',              \n",
            "                                                                  'conv2d_34[0][0]',              \n",
            "                                                                  'conv2d_35[0][0]']              \n",
            "                                                                                                  \n",
            " conv2d_38 (Conv2D)             (None, 7, 7, 112)    57456       ['inception_4a[0][0]']           \n",
            "                                                                                                  \n",
            " conv2d_40 (Conv2D)             (None, 7, 7, 24)     12312       ['inception_4a[0][0]']           \n",
            "                                                                                                  \n",
            " max_pooling2d_6 (MaxPooling2D)  (None, 7, 7, 512)   0           ['inception_4a[0][0]']           \n",
            "                                                                                                  \n",
            " conv2d_37 (Conv2D)             (None, 7, 7, 160)    82080       ['inception_4a[0][0]']           \n",
            "                                                                                                  \n",
            " conv2d_39 (Conv2D)             (None, 7, 7, 224)    226016      ['conv2d_38[0][0]']              \n",
            "                                                                                                  \n",
            " conv2d_41 (Conv2D)             (None, 7, 7, 64)     38464       ['conv2d_40[0][0]']              \n",
            "                                                                                                  \n",
            " conv2d_42 (Conv2D)             (None, 7, 7, 64)     32832       ['max_pooling2d_6[0][0]']        \n",
            "                                                                                                  \n",
            " inception_4b (Concatenate)     (None, 7, 7, 512)    0           ['conv2d_37[0][0]',              \n",
            "                                                                  'conv2d_39[0][0]',              \n",
            "                                                                  'conv2d_41[0][0]',              \n",
            "                                                                  'conv2d_42[0][0]']              \n",
            "                                                                                                  \n",
            " conv2d_44 (Conv2D)             (None, 7, 7, 128)    65664       ['inception_4b[0][0]']           \n",
            "                                                                                                  \n",
            " conv2d_46 (Conv2D)             (None, 7, 7, 24)     12312       ['inception_4b[0][0]']           \n",
            "                                                                                                  \n",
            " max_pooling2d_7 (MaxPooling2D)  (None, 7, 7, 512)   0           ['inception_4b[0][0]']           \n",
            "                                                                                                  \n",
            " conv2d_43 (Conv2D)             (None, 7, 7, 128)    65664       ['inception_4b[0][0]']           \n",
            "                                                                                                  \n",
            " conv2d_45 (Conv2D)             (None, 7, 7, 256)    295168      ['conv2d_44[0][0]']              \n",
            "                                                                                                  \n",
            " conv2d_47 (Conv2D)             (None, 7, 7, 64)     38464       ['conv2d_46[0][0]']              \n",
            "                                                                                                  \n",
            " conv2d_48 (Conv2D)             (None, 7, 7, 64)     32832       ['max_pooling2d_7[0][0]']        \n",
            "                                                                                                  \n",
            " inception_4c (Concatenate)     (None, 7, 7, 512)    0           ['conv2d_43[0][0]',              \n",
            "                                                                  'conv2d_45[0][0]',              \n",
            "                                                                  'conv2d_47[0][0]',              \n",
            "                                                                  'conv2d_48[0][0]']              \n",
            "                                                                                                  \n",
            " conv2d_50 (Conv2D)             (None, 7, 7, 144)    73872       ['inception_4c[0][0]']           \n",
            "                                                                                                  \n",
            " conv2d_52 (Conv2D)             (None, 7, 7, 32)     16416       ['inception_4c[0][0]']           \n",
            "                                                                                                  \n",
            " max_pooling2d_8 (MaxPooling2D)  (None, 7, 7, 512)   0           ['inception_4c[0][0]']           \n",
            "                                                                                                  \n",
            " conv2d_49 (Conv2D)             (None, 7, 7, 112)    57456       ['inception_4c[0][0]']           \n",
            "                                                                                                  \n",
            " conv2d_51 (Conv2D)             (None, 7, 7, 288)    373536      ['conv2d_50[0][0]']              \n",
            "                                                                                                  \n",
            " conv2d_53 (Conv2D)             (None, 7, 7, 64)     51264       ['conv2d_52[0][0]']              \n",
            "                                                                                                  \n",
            " conv2d_54 (Conv2D)             (None, 7, 7, 64)     32832       ['max_pooling2d_8[0][0]']        \n",
            "                                                                                                  \n",
            " inception_4d (Concatenate)     (None, 7, 7, 528)    0           ['conv2d_49[0][0]',              \n",
            "                                                                  'conv2d_51[0][0]',              \n",
            "                                                                  'conv2d_53[0][0]',              \n",
            "                                                                  'conv2d_54[0][0]']              \n",
            "                                                                                                  \n",
            " conv2d_57 (Conv2D)             (None, 7, 7, 160)    84640       ['inception_4d[0][0]']           \n",
            "                                                                                                  \n",
            " conv2d_59 (Conv2D)             (None, 7, 7, 32)     16928       ['inception_4d[0][0]']           \n",
            "                                                                                                  \n",
            " max_pooling2d_9 (MaxPooling2D)  (None, 7, 7, 528)   0           ['inception_4d[0][0]']           \n",
            "                                                                                                  \n",
            " conv2d_56 (Conv2D)             (None, 7, 7, 256)    135424      ['inception_4d[0][0]']           \n",
            "                                                                                                  \n",
            " conv2d_58 (Conv2D)             (None, 7, 7, 320)    461120      ['conv2d_57[0][0]']              \n",
            "                                                                                                  \n",
            " conv2d_60 (Conv2D)             (None, 7, 7, 128)    102528      ['conv2d_59[0][0]']              \n",
            "                                                                                                  \n",
            " conv2d_61 (Conv2D)             (None, 7, 7, 128)    67712       ['max_pooling2d_9[0][0]']        \n",
            "                                                                                                  \n",
            " inception_4e (Concatenate)     (None, 7, 7, 832)    0           ['conv2d_56[0][0]',              \n",
            "                                                                  'conv2d_58[0][0]',              \n",
            "                                                                  'conv2d_60[0][0]',              \n",
            "                                                                  'conv2d_61[0][0]']              \n",
            "                                                                                                  \n",
            " max_pool_4_3x3/2 (MaxPooling2D  (None, 4, 4, 832)   0           ['inception_4e[0][0]']           \n",
            " )                                                                                                \n",
            "                                                                                                  \n",
            " conv2d_63 (Conv2D)             (None, 4, 4, 160)    133280      ['max_pool_4_3x3/2[0][0]']       \n",
            "                                                                                                  \n",
            " conv2d_65 (Conv2D)             (None, 4, 4, 32)     26656       ['max_pool_4_3x3/2[0][0]']       \n",
            "                                                                                                  \n",
            " max_pooling2d_10 (MaxPooling2D  (None, 4, 4, 832)   0           ['max_pool_4_3x3/2[0][0]']       \n",
            " )                                                                                                \n",
            "                                                                                                  \n",
            " conv2d_62 (Conv2D)             (None, 4, 4, 256)    213248      ['max_pool_4_3x3/2[0][0]']       \n",
            "                                                                                                  \n",
            " conv2d_64 (Conv2D)             (None, 4, 4, 320)    461120      ['conv2d_63[0][0]']              \n",
            "                                                                                                  \n",
            " conv2d_66 (Conv2D)             (None, 4, 4, 128)    102528      ['conv2d_65[0][0]']              \n",
            "                                                                                                  \n",
            " conv2d_67 (Conv2D)             (None, 4, 4, 128)    106624      ['max_pooling2d_10[0][0]']       \n",
            "                                                                                                  \n",
            " inception_5a (Concatenate)     (None, 4, 4, 832)    0           ['conv2d_62[0][0]',              \n",
            "                                                                  'conv2d_64[0][0]',              \n",
            "                                                                  'conv2d_66[0][0]',              \n",
            "                                                                  'conv2d_67[0][0]']              \n",
            "                                                                                                  \n",
            " conv2d_69 (Conv2D)             (None, 4, 4, 192)    159936      ['inception_5a[0][0]']           \n",
            "                                                                                                  \n",
            " conv2d_71 (Conv2D)             (None, 4, 4, 48)     39984       ['inception_5a[0][0]']           \n",
            "                                                                                                  \n",
            " max_pooling2d_11 (MaxPooling2D  (None, 4, 4, 832)   0           ['inception_5a[0][0]']           \n",
            " )                                                                                                \n",
            "                                                                                                  \n",
            " average_pooling2d_1 (AveragePo  (None, 1, 1, 512)   0           ['inception_4a[0][0]']           \n",
            " oling2D)                                                                                         \n",
            "                                                                                                  \n",
            " average_pooling2d_2 (AveragePo  (None, 1, 1, 528)   0           ['inception_4d[0][0]']           \n",
            " oling2D)                                                                                         \n",
            "                                                                                                  \n",
            " conv2d_68 (Conv2D)             (None, 4, 4, 384)    319872      ['inception_5a[0][0]']           \n",
            "                                                                                                  \n",
            " conv2d_70 (Conv2D)             (None, 4, 4, 384)    663936      ['conv2d_69[0][0]']              \n",
            "                                                                                                  \n",
            " conv2d_72 (Conv2D)             (None, 4, 4, 128)    153728      ['conv2d_71[0][0]']              \n",
            "                                                                                                  \n",
            " conv2d_73 (Conv2D)             (None, 4, 4, 128)    106624      ['max_pooling2d_11[0][0]']       \n",
            "                                                                                                  \n",
            " conv2d_36 (Conv2D)             (None, 1, 1, 128)    65664       ['average_pooling2d_1[0][0]']    \n",
            "                                                                                                  \n",
            " conv2d_55 (Conv2D)             (None, 1, 1, 128)    67712       ['average_pooling2d_2[0][0]']    \n",
            "                                                                                                  \n",
            " inception_5b (Concatenate)     (None, 4, 4, 1024)   0           ['conv2d_68[0][0]',              \n",
            "                                                                  'conv2d_70[0][0]',              \n",
            "                                                                  'conv2d_72[0][0]',              \n",
            "                                                                  'conv2d_73[0][0]']              \n",
            "                                                                                                  \n",
            " flatten (Flatten)              (None, 128)          0           ['conv2d_36[0][0]']              \n",
            "                                                                                                  \n",
            " flatten_1 (Flatten)            (None, 128)          0           ['conv2d_55[0][0]']              \n",
            "                                                                                                  \n",
            " avg_pool_5_3x3/1 (GlobalAverag  (None, 1024)        0           ['inception_5b[0][0]']           \n",
            " ePooling2D)                                                                                      \n",
            "                                                                                                  \n",
            " dense (Dense)                  (None, 1024)         132096      ['flatten[0][0]']                \n",
            "                                                                                                  \n",
            " dense_1 (Dense)                (None, 1024)         132096      ['flatten_1[0][0]']              \n",
            "                                                                                                  \n",
            " dropout_2 (Dropout)            (None, 1024)         0           ['avg_pool_5_3x3/1[0][0]']       \n",
            "                                                                                                  \n",
            " dropout (Dropout)              (None, 1024)         0           ['dense[0][0]']                  \n",
            "                                                                                                  \n",
            " dropout_1 (Dropout)            (None, 1024)         0           ['dense_1[0][0]']                \n",
            "                                                                                                  \n",
            " output (Dense)                 (None, 10)           10250       ['dropout_2[0][0]']              \n",
            "                                                                                                  \n",
            " auxilliary_output_1 (Dense)    (None, 10)           10250       ['dropout[0][0]']                \n",
            "                                                                                                  \n",
            " auxilliary_output_2 (Dense)    (None, 10)           10250       ['dropout_1[0][0]']              \n",
            "                                                                                                  \n",
            "==================================================================================================\n",
            "Total params: 6,401,870\n",
            "Trainable params: 6,401,870\n",
            "Non-trainable params: 0\n",
            "__________________________________________________________________________________________________\n"
          ]
        }
      ]
    },
    {
      "cell_type": "markdown",
      "source": [
        "- Compile a network"
      ],
      "metadata": {
        "id": "_nETLI-QIhlm"
      }
    },
    {
      "cell_type": "code",
      "source": [
        "epochs = 25\n",
        "initial_lrate = 0.01\n",
        "\n",
        "def decay(epoch, steps=100):\n",
        "    initial_lrate = 0.01\n",
        "    drop = 0.96\n",
        "    epochs_drop = 8\n",
        "    lrate = initial_lrate * math.pow(drop, math.floor((1+epoch)/epochs_drop))\n",
        "    return lrate\n",
        "\n",
        "sgd = SGD(lr=initial_lrate, momentum=0.9, nesterov=False)\n",
        "\n",
        "lr_sc = LearningRateScheduler(decay, verbose=1)\n",
        "\n",
        "model.compile(loss=['categorical_crossentropy', 'categorical_crossentropy', 'categorical_crossentropy'], loss_weights=[1, 0.3, 0.3], optimizer=sgd, metrics=['accuracy'])"
      ],
      "metadata": {
        "id": "KPeCAckOIlsB",
        "colab": {
          "base_uri": "https://localhost:8080/"
        },
        "outputId": "b3613faf-9f36-4d7a-cd9d-545d1f4258cb"
      },
      "execution_count": 18,
      "outputs": [
        {
          "output_type": "stream",
          "name": "stderr",
          "text": [
            "/usr/local/lib/python3.7/dist-packages/keras/optimizers/optimizer_v2/gradient_descent.py:108: UserWarning: The `lr` argument is deprecated, use `learning_rate` instead.\n",
            "  super(SGD, self).__init__(name, **kwargs)\n"
          ]
        }
      ]
    },
    {
      "cell_type": "markdown",
      "source": [
        "- batch=1에서는 loss가 너무 크다."
      ],
      "metadata": {
        "id": "7b2tspEHIFV-"
      }
    },
    {
      "cell_type": "markdown",
      "source": [
        "### 시간이 너무 소요가 됨."
      ],
      "metadata": {
        "id": "JRsq48_wJIS9"
      }
    },
    {
      "cell_type": "code",
      "source": [
        "history = model.fit(X_train, [y_train, y_train, y_train], validation_data=(X_test, [y_test, y_test, y_test]), epochs=epochs, batch_size=1, callbacks=[lr_sc])"
      ],
      "metadata": {
        "colab": {
          "base_uri": "https://localhost:8080/",
          "height": 1000
        },
        "id": "QGFcj-OiQ9E8",
        "outputId": "de4df343-f0a1-4e20-b02c-2be0c8859a59"
      },
      "execution_count": 19,
      "outputs": [
        {
          "output_type": "stream",
          "name": "stdout",
          "text": [
            "\n",
            "Epoch 1: LearningRateScheduler setting learning rate to 0.01.\n",
            "Epoch 1/25\n",
            "50000/50000 [==============================] - 1173s 23ms/step - loss: 3.7161 - output_loss: 2.3299 - auxilliary_output_1_loss: 2.3104 - auxilliary_output_2_loss: 2.3102 - output_accuracy: 0.0987 - auxilliary_output_1_accuracy: 0.0986 - auxilliary_output_2_accuracy: 0.0987 - val_loss: 3.7063 - val_output_loss: 2.3220 - val_auxilliary_output_1_loss: 2.3072 - val_auxilliary_output_2_loss: 2.3072 - val_output_accuracy: 0.1000 - val_auxilliary_output_1_accuracy: 0.1000 - val_auxilliary_output_2_accuracy: 0.1000 - lr: 0.0100\n",
            "\n",
            "Epoch 2: LearningRateScheduler setting learning rate to 0.01.\n",
            "Epoch 2/25\n",
            "50000/50000 [==============================] - 1155s 23ms/step - loss: 3.7106 - output_loss: 2.3251 - auxilliary_output_1_loss: 2.3091 - auxilliary_output_2_loss: 2.3091 - output_accuracy: 0.0991 - auxilliary_output_1_accuracy: 0.0984 - auxilliary_output_2_accuracy: 0.0984 - val_loss: 3.7526 - val_output_loss: 2.3639 - val_auxilliary_output_1_loss: 2.3142 - val_auxilliary_output_2_loss: 2.3142 - val_output_accuracy: 0.1000 - val_auxilliary_output_1_accuracy: 0.1000 - val_auxilliary_output_2_accuracy: 0.1000 - lr: 0.0100\n",
            "\n",
            "Epoch 3: LearningRateScheduler setting learning rate to 0.01.\n",
            "Epoch 3/25\n",
            "50000/50000 [==============================] - 1143s 23ms/step - loss: 3.7106 - output_loss: 2.3249 - auxilliary_output_1_loss: 2.3095 - auxilliary_output_2_loss: 2.3095 - output_accuracy: 0.1003 - auxilliary_output_1_accuracy: 0.0981 - auxilliary_output_2_accuracy: 0.0981 - val_loss: 3.6983 - val_output_loss: 2.3145 - val_auxilliary_output_1_loss: 2.3062 - val_auxilliary_output_2_loss: 2.3062 - val_output_accuracy: 0.1000 - val_auxilliary_output_1_accuracy: 0.1000 - val_auxilliary_output_2_accuracy: 0.1000 - lr: 0.0100\n",
            "\n",
            "Epoch 4: LearningRateScheduler setting learning rate to 0.01.\n",
            "Epoch 4/25\n",
            "50000/50000 [==============================] - 1134s 23ms/step - loss: 3.7104 - output_loss: 2.3249 - auxilliary_output_1_loss: 2.3092 - auxilliary_output_2_loss: 2.3092 - output_accuracy: 0.1020 - auxilliary_output_1_accuracy: 0.1022 - auxilliary_output_2_accuracy: 0.1022 - val_loss: 3.7027 - val_output_loss: 2.3186 - val_auxilliary_output_1_loss: 2.3068 - val_auxilliary_output_2_loss: 2.3068 - val_output_accuracy: 0.1000 - val_auxilliary_output_1_accuracy: 0.1000 - val_auxilliary_output_2_accuracy: 0.1000 - lr: 0.0100\n",
            "\n",
            "Epoch 5: LearningRateScheduler setting learning rate to 0.01.\n",
            "Epoch 5/25\n",
            "50000/50000 [==============================] - 1124s 22ms/step - loss: 3.7109 - output_loss: 2.3252 - auxilliary_output_1_loss: 2.3094 - auxilliary_output_2_loss: 2.3094 - output_accuracy: 0.1007 - auxilliary_output_1_accuracy: 0.1014 - auxilliary_output_2_accuracy: 0.1014 - val_loss: 3.7053 - val_output_loss: 2.3195 - val_auxilliary_output_1_loss: 2.3096 - val_auxilliary_output_2_loss: 2.3096 - val_output_accuracy: 0.1000 - val_auxilliary_output_1_accuracy: 0.1000 - val_auxilliary_output_2_accuracy: 0.1000 - lr: 0.0100\n",
            "\n",
            "Epoch 6: LearningRateScheduler setting learning rate to 0.01.\n",
            "Epoch 6/25\n",
            "50000/50000 [==============================] - 1096s 22ms/step - loss: 3.7123 - output_loss: 2.3264 - auxilliary_output_1_loss: 2.3098 - auxilliary_output_2_loss: 2.3098 - output_accuracy: 0.0993 - auxilliary_output_1_accuracy: 0.1005 - auxilliary_output_2_accuracy: 0.1005 - val_loss: 3.6978 - val_output_loss: 2.3148 - val_auxilliary_output_1_loss: 2.3048 - val_auxilliary_output_2_loss: 2.3048 - val_output_accuracy: 0.1000 - val_auxilliary_output_1_accuracy: 0.1000 - val_auxilliary_output_2_accuracy: 0.1000 - lr: 0.0100\n",
            "\n",
            "Epoch 7: LearningRateScheduler setting learning rate to 0.01.\n",
            "Epoch 7/25\n",
            "50000/50000 [==============================] - 1101s 22ms/step - loss: 3.7104 - output_loss: 2.3249 - auxilliary_output_1_loss: 2.3092 - auxilliary_output_2_loss: 2.3092 - output_accuracy: 0.1003 - auxilliary_output_1_accuracy: 0.1006 - auxilliary_output_2_accuracy: 0.1006 - val_loss: 3.6954 - val_output_loss: 2.3111 - val_auxilliary_output_1_loss: 2.3071 - val_auxilliary_output_2_loss: 2.3071 - val_output_accuracy: 0.1000 - val_auxilliary_output_1_accuracy: 0.1000 - val_auxilliary_output_2_accuracy: 0.1000 - lr: 0.0100\n",
            "\n",
            "Epoch 8: LearningRateScheduler setting learning rate to 0.0096.\n",
            "Epoch 8/25\n",
            "50000/50000 [==============================] - 1102s 22ms/step - loss: 3.7098 - output_loss: 2.3242 - auxilliary_output_1_loss: 2.3092 - auxilliary_output_2_loss: 2.3092 - output_accuracy: 0.1004 - auxilliary_output_1_accuracy: 0.0993 - auxilliary_output_2_accuracy: 0.0993 - val_loss: 3.6970 - val_output_loss: 2.3138 - val_auxilliary_output_1_loss: 2.3053 - val_auxilliary_output_2_loss: 2.3053 - val_output_accuracy: 0.1000 - val_auxilliary_output_1_accuracy: 0.1000 - val_auxilliary_output_2_accuracy: 0.1000 - lr: 0.0096\n",
            "\n",
            "Epoch 9: LearningRateScheduler setting learning rate to 0.0096.\n",
            "Epoch 9/25\n",
            "50000/50000 [==============================] - 1100s 22ms/step - loss: 3.7109 - output_loss: 2.3252 - auxilliary_output_1_loss: 2.3096 - auxilliary_output_2_loss: 2.3096 - output_accuracy: 0.1012 - auxilliary_output_1_accuracy: 0.1005 - auxilliary_output_2_accuracy: 0.1005 - val_loss: 3.7334 - val_output_loss: 2.3470 - val_auxilliary_output_1_loss: 2.3106 - val_auxilliary_output_2_loss: 2.3106 - val_output_accuracy: 0.1000 - val_auxilliary_output_1_accuracy: 0.1000 - val_auxilliary_output_2_accuracy: 0.1000 - lr: 0.0096\n",
            "\n",
            "Epoch 10: LearningRateScheduler setting learning rate to 0.0096.\n",
            "Epoch 10/25\n",
            "50000/50000 [==============================] - 1098s 22ms/step - loss: 3.7090 - output_loss: 2.3236 - auxilliary_output_1_loss: 2.3090 - auxilliary_output_2_loss: 2.3090 - output_accuracy: 0.1024 - auxilliary_output_1_accuracy: 0.0996 - auxilliary_output_2_accuracy: 0.0996 - val_loss: 3.7113 - val_output_loss: 2.3246 - val_auxilliary_output_1_loss: 2.3114 - val_auxilliary_output_2_loss: 2.3114 - val_output_accuracy: 0.1000 - val_auxilliary_output_1_accuracy: 0.1000 - val_auxilliary_output_2_accuracy: 0.1000 - lr: 0.0096\n",
            "\n",
            "Epoch 11: LearningRateScheduler setting learning rate to 0.0096.\n",
            "Epoch 11/25\n",
            " 9374/50000 [====>.........................] - ETA: 13:49 - loss: 3.7097 - output_loss: 2.3243 - auxilliary_output_1_loss: 2.3091 - auxilliary_output_2_loss: 2.3091 - output_accuracy: 0.0985 - auxilliary_output_1_accuracy: 0.1011 - auxilliary_output_2_accuracy: 0.1011"
          ]
        },
        {
          "output_type": "error",
          "ename": "KeyboardInterrupt",
          "evalue": "ignored",
          "traceback": [
            "\u001b[0;31m---------------------------------------------------------------------------\u001b[0m",
            "\u001b[0;31mKeyboardInterrupt\u001b[0m                         Traceback (most recent call last)",
            "\u001b[0;32m<ipython-input-19-035f5b01ec0a>\u001b[0m in \u001b[0;36m<module>\u001b[0;34m\u001b[0m\n\u001b[0;32m----> 1\u001b[0;31m \u001b[0mhistory\u001b[0m \u001b[0;34m=\u001b[0m \u001b[0mmodel\u001b[0m\u001b[0;34m.\u001b[0m\u001b[0mfit\u001b[0m\u001b[0;34m(\u001b[0m\u001b[0mX_train\u001b[0m\u001b[0;34m,\u001b[0m \u001b[0;34m[\u001b[0m\u001b[0my_train\u001b[0m\u001b[0;34m,\u001b[0m \u001b[0my_train\u001b[0m\u001b[0;34m,\u001b[0m \u001b[0my_train\u001b[0m\u001b[0;34m]\u001b[0m\u001b[0;34m,\u001b[0m \u001b[0mvalidation_data\u001b[0m\u001b[0;34m=\u001b[0m\u001b[0;34m(\u001b[0m\u001b[0mX_test\u001b[0m\u001b[0;34m,\u001b[0m \u001b[0;34m[\u001b[0m\u001b[0my_test\u001b[0m\u001b[0;34m,\u001b[0m \u001b[0my_test\u001b[0m\u001b[0;34m,\u001b[0m \u001b[0my_test\u001b[0m\u001b[0;34m]\u001b[0m\u001b[0;34m)\u001b[0m\u001b[0;34m,\u001b[0m \u001b[0mepochs\u001b[0m\u001b[0;34m=\u001b[0m\u001b[0mepochs\u001b[0m\u001b[0;34m,\u001b[0m \u001b[0mbatch_size\u001b[0m\u001b[0;34m=\u001b[0m\u001b[0;36m1\u001b[0m\u001b[0;34m,\u001b[0m \u001b[0mcallbacks\u001b[0m\u001b[0;34m=\u001b[0m\u001b[0;34m[\u001b[0m\u001b[0mlr_sc\u001b[0m\u001b[0;34m]\u001b[0m\u001b[0;34m)\u001b[0m\u001b[0;34m\u001b[0m\u001b[0;34m\u001b[0m\u001b[0m\n\u001b[0m",
            "\u001b[0;32m/usr/local/lib/python3.7/dist-packages/keras/utils/traceback_utils.py\u001b[0m in \u001b[0;36merror_handler\u001b[0;34m(*args, **kwargs)\u001b[0m\n\u001b[1;32m     62\u001b[0m     \u001b[0mfiltered_tb\u001b[0m \u001b[0;34m=\u001b[0m \u001b[0;32mNone\u001b[0m\u001b[0;34m\u001b[0m\u001b[0;34m\u001b[0m\u001b[0m\n\u001b[1;32m     63\u001b[0m     \u001b[0;32mtry\u001b[0m\u001b[0;34m:\u001b[0m\u001b[0;34m\u001b[0m\u001b[0;34m\u001b[0m\u001b[0m\n\u001b[0;32m---> 64\u001b[0;31m       \u001b[0;32mreturn\u001b[0m \u001b[0mfn\u001b[0m\u001b[0;34m(\u001b[0m\u001b[0;34m*\u001b[0m\u001b[0margs\u001b[0m\u001b[0;34m,\u001b[0m \u001b[0;34m**\u001b[0m\u001b[0mkwargs\u001b[0m\u001b[0;34m)\u001b[0m\u001b[0;34m\u001b[0m\u001b[0;34m\u001b[0m\u001b[0m\n\u001b[0m\u001b[1;32m     65\u001b[0m     \u001b[0;32mexcept\u001b[0m \u001b[0mException\u001b[0m \u001b[0;32mas\u001b[0m \u001b[0me\u001b[0m\u001b[0;34m:\u001b[0m  \u001b[0;31m# pylint: disable=broad-except\u001b[0m\u001b[0;34m\u001b[0m\u001b[0;34m\u001b[0m\u001b[0m\n\u001b[1;32m     66\u001b[0m       \u001b[0mfiltered_tb\u001b[0m \u001b[0;34m=\u001b[0m \u001b[0m_process_traceback_frames\u001b[0m\u001b[0;34m(\u001b[0m\u001b[0me\u001b[0m\u001b[0;34m.\u001b[0m\u001b[0m__traceback__\u001b[0m\u001b[0;34m)\u001b[0m\u001b[0;34m\u001b[0m\u001b[0;34m\u001b[0m\u001b[0m\n",
            "\u001b[0;32m/usr/local/lib/python3.7/dist-packages/keras/engine/training.py\u001b[0m in \u001b[0;36mfit\u001b[0;34m(self, x, y, batch_size, epochs, verbose, callbacks, validation_split, validation_data, shuffle, class_weight, sample_weight, initial_epoch, steps_per_epoch, validation_steps, validation_batch_size, validation_freq, max_queue_size, workers, use_multiprocessing)\u001b[0m\n\u001b[1;32m   1407\u001b[0m                 _r=1):\n\u001b[1;32m   1408\u001b[0m               \u001b[0mcallbacks\u001b[0m\u001b[0;34m.\u001b[0m\u001b[0mon_train_batch_begin\u001b[0m\u001b[0;34m(\u001b[0m\u001b[0mstep\u001b[0m\u001b[0;34m)\u001b[0m\u001b[0;34m\u001b[0m\u001b[0;34m\u001b[0m\u001b[0m\n\u001b[0;32m-> 1409\u001b[0;31m               \u001b[0mtmp_logs\u001b[0m \u001b[0;34m=\u001b[0m \u001b[0mself\u001b[0m\u001b[0;34m.\u001b[0m\u001b[0mtrain_function\u001b[0m\u001b[0;34m(\u001b[0m\u001b[0miterator\u001b[0m\u001b[0;34m)\u001b[0m\u001b[0;34m\u001b[0m\u001b[0;34m\u001b[0m\u001b[0m\n\u001b[0m\u001b[1;32m   1410\u001b[0m               \u001b[0;32mif\u001b[0m \u001b[0mdata_handler\u001b[0m\u001b[0;34m.\u001b[0m\u001b[0mshould_sync\u001b[0m\u001b[0;34m:\u001b[0m\u001b[0;34m\u001b[0m\u001b[0;34m\u001b[0m\u001b[0m\n\u001b[1;32m   1411\u001b[0m                 \u001b[0mcontext\u001b[0m\u001b[0;34m.\u001b[0m\u001b[0masync_wait\u001b[0m\u001b[0;34m(\u001b[0m\u001b[0;34m)\u001b[0m\u001b[0;34m\u001b[0m\u001b[0;34m\u001b[0m\u001b[0m\n",
            "\u001b[0;32m/usr/local/lib/python3.7/dist-packages/tensorflow/python/util/traceback_utils.py\u001b[0m in \u001b[0;36merror_handler\u001b[0;34m(*args, **kwargs)\u001b[0m\n\u001b[1;32m    148\u001b[0m     \u001b[0mfiltered_tb\u001b[0m \u001b[0;34m=\u001b[0m \u001b[0;32mNone\u001b[0m\u001b[0;34m\u001b[0m\u001b[0;34m\u001b[0m\u001b[0m\n\u001b[1;32m    149\u001b[0m     \u001b[0;32mtry\u001b[0m\u001b[0;34m:\u001b[0m\u001b[0;34m\u001b[0m\u001b[0;34m\u001b[0m\u001b[0m\n\u001b[0;32m--> 150\u001b[0;31m       \u001b[0;32mreturn\u001b[0m \u001b[0mfn\u001b[0m\u001b[0;34m(\u001b[0m\u001b[0;34m*\u001b[0m\u001b[0margs\u001b[0m\u001b[0;34m,\u001b[0m \u001b[0;34m**\u001b[0m\u001b[0mkwargs\u001b[0m\u001b[0;34m)\u001b[0m\u001b[0;34m\u001b[0m\u001b[0;34m\u001b[0m\u001b[0m\n\u001b[0m\u001b[1;32m    151\u001b[0m     \u001b[0;32mexcept\u001b[0m \u001b[0mException\u001b[0m \u001b[0;32mas\u001b[0m \u001b[0me\u001b[0m\u001b[0;34m:\u001b[0m\u001b[0;34m\u001b[0m\u001b[0;34m\u001b[0m\u001b[0m\n\u001b[1;32m    152\u001b[0m       \u001b[0mfiltered_tb\u001b[0m \u001b[0;34m=\u001b[0m \u001b[0m_process_traceback_frames\u001b[0m\u001b[0;34m(\u001b[0m\u001b[0me\u001b[0m\u001b[0;34m.\u001b[0m\u001b[0m__traceback__\u001b[0m\u001b[0;34m)\u001b[0m\u001b[0;34m\u001b[0m\u001b[0;34m\u001b[0m\u001b[0m\n",
            "\u001b[0;32m/usr/local/lib/python3.7/dist-packages/tensorflow/python/eager/def_function.py\u001b[0m in \u001b[0;36m__call__\u001b[0;34m(self, *args, **kwds)\u001b[0m\n\u001b[1;32m    913\u001b[0m \u001b[0;34m\u001b[0m\u001b[0m\n\u001b[1;32m    914\u001b[0m       \u001b[0;32mwith\u001b[0m \u001b[0mOptionalXlaContext\u001b[0m\u001b[0;34m(\u001b[0m\u001b[0mself\u001b[0m\u001b[0;34m.\u001b[0m\u001b[0m_jit_compile\u001b[0m\u001b[0;34m)\u001b[0m\u001b[0;34m:\u001b[0m\u001b[0;34m\u001b[0m\u001b[0;34m\u001b[0m\u001b[0m\n\u001b[0;32m--> 915\u001b[0;31m         \u001b[0mresult\u001b[0m \u001b[0;34m=\u001b[0m \u001b[0mself\u001b[0m\u001b[0;34m.\u001b[0m\u001b[0m_call\u001b[0m\u001b[0;34m(\u001b[0m\u001b[0;34m*\u001b[0m\u001b[0margs\u001b[0m\u001b[0;34m,\u001b[0m \u001b[0;34m**\u001b[0m\u001b[0mkwds\u001b[0m\u001b[0;34m)\u001b[0m\u001b[0;34m\u001b[0m\u001b[0;34m\u001b[0m\u001b[0m\n\u001b[0m\u001b[1;32m    916\u001b[0m \u001b[0;34m\u001b[0m\u001b[0m\n\u001b[1;32m    917\u001b[0m       \u001b[0mnew_tracing_count\u001b[0m \u001b[0;34m=\u001b[0m \u001b[0mself\u001b[0m\u001b[0;34m.\u001b[0m\u001b[0mexperimental_get_tracing_count\u001b[0m\u001b[0;34m(\u001b[0m\u001b[0;34m)\u001b[0m\u001b[0;34m\u001b[0m\u001b[0;34m\u001b[0m\u001b[0m\n",
            "\u001b[0;32m/usr/local/lib/python3.7/dist-packages/tensorflow/python/eager/def_function.py\u001b[0m in \u001b[0;36m_call\u001b[0;34m(self, *args, **kwds)\u001b[0m\n\u001b[1;32m    945\u001b[0m       \u001b[0;31m# In this case we have created variables on the first call, so we run the\u001b[0m\u001b[0;34m\u001b[0m\u001b[0;34m\u001b[0m\u001b[0;34m\u001b[0m\u001b[0m\n\u001b[1;32m    946\u001b[0m       \u001b[0;31m# defunned version which is guaranteed to never create variables.\u001b[0m\u001b[0;34m\u001b[0m\u001b[0;34m\u001b[0m\u001b[0;34m\u001b[0m\u001b[0m\n\u001b[0;32m--> 947\u001b[0;31m       \u001b[0;32mreturn\u001b[0m \u001b[0mself\u001b[0m\u001b[0;34m.\u001b[0m\u001b[0m_stateless_fn\u001b[0m\u001b[0;34m(\u001b[0m\u001b[0;34m*\u001b[0m\u001b[0margs\u001b[0m\u001b[0;34m,\u001b[0m \u001b[0;34m**\u001b[0m\u001b[0mkwds\u001b[0m\u001b[0;34m)\u001b[0m  \u001b[0;31m# pylint: disable=not-callable\u001b[0m\u001b[0;34m\u001b[0m\u001b[0;34m\u001b[0m\u001b[0m\n\u001b[0m\u001b[1;32m    948\u001b[0m     \u001b[0;32melif\u001b[0m \u001b[0mself\u001b[0m\u001b[0;34m.\u001b[0m\u001b[0m_stateful_fn\u001b[0m \u001b[0;32mis\u001b[0m \u001b[0;32mnot\u001b[0m \u001b[0;32mNone\u001b[0m\u001b[0;34m:\u001b[0m\u001b[0;34m\u001b[0m\u001b[0;34m\u001b[0m\u001b[0m\n\u001b[1;32m    949\u001b[0m       \u001b[0;31m# Release the lock early so that multiple threads can perform the call\u001b[0m\u001b[0;34m\u001b[0m\u001b[0;34m\u001b[0m\u001b[0;34m\u001b[0m\u001b[0m\n",
            "\u001b[0;32m/usr/local/lib/python3.7/dist-packages/tensorflow/python/eager/function.py\u001b[0m in \u001b[0;36m__call__\u001b[0;34m(self, *args, **kwargs)\u001b[0m\n\u001b[1;32m   2452\u001b[0m        filtered_flat_args) = self._maybe_define_function(args, kwargs)\n\u001b[1;32m   2453\u001b[0m     return graph_function._call_flat(\n\u001b[0;32m-> 2454\u001b[0;31m         filtered_flat_args, captured_inputs=graph_function.captured_inputs)  # pylint: disable=protected-access\n\u001b[0m\u001b[1;32m   2455\u001b[0m \u001b[0;34m\u001b[0m\u001b[0m\n\u001b[1;32m   2456\u001b[0m   \u001b[0;34m@\u001b[0m\u001b[0mproperty\u001b[0m\u001b[0;34m\u001b[0m\u001b[0;34m\u001b[0m\u001b[0m\n",
            "\u001b[0;32m/usr/local/lib/python3.7/dist-packages/tensorflow/python/eager/function.py\u001b[0m in \u001b[0;36m_call_flat\u001b[0;34m(self, args, captured_inputs, cancellation_manager)\u001b[0m\n\u001b[1;32m   1859\u001b[0m       \u001b[0;31m# No tape is watching; skip to running the function.\u001b[0m\u001b[0;34m\u001b[0m\u001b[0;34m\u001b[0m\u001b[0;34m\u001b[0m\u001b[0m\n\u001b[1;32m   1860\u001b[0m       return self._build_call_outputs(self._inference_function.call(\n\u001b[0;32m-> 1861\u001b[0;31m           ctx, args, cancellation_manager=cancellation_manager))\n\u001b[0m\u001b[1;32m   1862\u001b[0m     forward_backward = self._select_forward_and_backward_functions(\n\u001b[1;32m   1863\u001b[0m         \u001b[0margs\u001b[0m\u001b[0;34m,\u001b[0m\u001b[0;34m\u001b[0m\u001b[0;34m\u001b[0m\u001b[0m\n",
            "\u001b[0;32m/usr/local/lib/python3.7/dist-packages/tensorflow/python/eager/function.py\u001b[0m in \u001b[0;36mcall\u001b[0;34m(self, ctx, args, cancellation_manager)\u001b[0m\n\u001b[1;32m    500\u001b[0m               \u001b[0minputs\u001b[0m\u001b[0;34m=\u001b[0m\u001b[0margs\u001b[0m\u001b[0;34m,\u001b[0m\u001b[0;34m\u001b[0m\u001b[0;34m\u001b[0m\u001b[0m\n\u001b[1;32m    501\u001b[0m               \u001b[0mattrs\u001b[0m\u001b[0;34m=\u001b[0m\u001b[0mattrs\u001b[0m\u001b[0;34m,\u001b[0m\u001b[0;34m\u001b[0m\u001b[0;34m\u001b[0m\u001b[0m\n\u001b[0;32m--> 502\u001b[0;31m               ctx=ctx)\n\u001b[0m\u001b[1;32m    503\u001b[0m         \u001b[0;32melse\u001b[0m\u001b[0;34m:\u001b[0m\u001b[0;34m\u001b[0m\u001b[0;34m\u001b[0m\u001b[0m\n\u001b[1;32m    504\u001b[0m           outputs = execute.execute_with_cancellation(\n",
            "\u001b[0;32m/usr/local/lib/python3.7/dist-packages/tensorflow/python/eager/execute.py\u001b[0m in \u001b[0;36mquick_execute\u001b[0;34m(op_name, num_outputs, inputs, attrs, ctx, name)\u001b[0m\n\u001b[1;32m     53\u001b[0m     \u001b[0mctx\u001b[0m\u001b[0;34m.\u001b[0m\u001b[0mensure_initialized\u001b[0m\u001b[0;34m(\u001b[0m\u001b[0;34m)\u001b[0m\u001b[0;34m\u001b[0m\u001b[0;34m\u001b[0m\u001b[0m\n\u001b[1;32m     54\u001b[0m     tensors = pywrap_tfe.TFE_Py_Execute(ctx._handle, device_name, op_name,\n\u001b[0;32m---> 55\u001b[0;31m                                         inputs, attrs, num_outputs)\n\u001b[0m\u001b[1;32m     56\u001b[0m   \u001b[0;32mexcept\u001b[0m \u001b[0mcore\u001b[0m\u001b[0;34m.\u001b[0m\u001b[0m_NotOkStatusException\u001b[0m \u001b[0;32mas\u001b[0m \u001b[0me\u001b[0m\u001b[0;34m:\u001b[0m\u001b[0;34m\u001b[0m\u001b[0;34m\u001b[0m\u001b[0m\n\u001b[1;32m     57\u001b[0m     \u001b[0;32mif\u001b[0m \u001b[0mname\u001b[0m \u001b[0;32mis\u001b[0m \u001b[0;32mnot\u001b[0m \u001b[0;32mNone\u001b[0m\u001b[0;34m:\u001b[0m\u001b[0;34m\u001b[0m\u001b[0;34m\u001b[0m\u001b[0m\n",
            "\u001b[0;31mKeyboardInterrupt\u001b[0m: "
          ]
        }
      ]
    },
    {
      "cell_type": "code",
      "source": [
        "history = model.fit(X_train, [y_train, y_train, y_train], validation_data=(X_test, [y_test, y_test, y_test]), epochs=epochs, batch_size=256, callbacks=[lr_sc])"
      ],
      "metadata": {
        "colab": {
          "base_uri": "https://localhost:8080/",
          "height": 578
        },
        "id": "Tb9Yq11rIIfP",
        "outputId": "0f1e2634-5020-43e8-d176-ee02418c3327"
      },
      "execution_count": 20,
      "outputs": [
        {
          "output_type": "stream",
          "name": "stdout",
          "text": [
            "\n",
            "Epoch 1: LearningRateScheduler setting learning rate to 0.01.\n",
            "Epoch 1/25\n",
            "196/196 [==============================] - 98s 483ms/step - loss: 3.6965 - output_loss: 2.3124 - auxilliary_output_1_loss: 2.3068 - auxilliary_output_2_loss: 2.3068 - output_accuracy: 0.1001 - auxilliary_output_1_accuracy: 0.1000 - auxilliary_output_2_accuracy: 0.1000 - val_loss: 3.6861 - val_output_loss: 2.3034 - val_auxilliary_output_1_loss: 2.3047 - val_auxilliary_output_2_loss: 2.3047 - val_output_accuracy: 0.1000 - val_auxilliary_output_1_accuracy: 0.1000 - val_auxilliary_output_2_accuracy: 0.1000 - lr: 0.0100\n",
            "\n",
            "Epoch 2: LearningRateScheduler setting learning rate to 0.01.\n",
            "Epoch 2/25\n",
            "196/196 [==============================] - 93s 479ms/step - loss: 3.6852 - output_loss: 2.3029 - auxilliary_output_1_loss: 2.3039 - auxilliary_output_2_loss: 2.3039 - output_accuracy: 0.1002 - auxilliary_output_1_accuracy: 0.1000 - auxilliary_output_2_accuracy: 0.1000 - val_loss: 3.6844 - val_output_loss: 2.3027 - val_auxilliary_output_1_loss: 2.3032 - val_auxilliary_output_2_loss: 2.3032 - val_output_accuracy: 0.1000 - val_auxilliary_output_1_accuracy: 0.1000 - val_auxilliary_output_2_accuracy: 0.1000 - lr: 0.0100\n",
            "\n",
            "Epoch 3: LearningRateScheduler setting learning rate to 0.01.\n",
            "Epoch 3/25\n",
            "195/196 [============================>.] - ETA: 0s - loss: 3.6845 - output_loss: 2.3027 - auxilliary_output_1_loss: 2.3030 - auxilliary_output_2_loss: 2.3030 - output_accuracy: 0.0972 - auxilliary_output_1_accuracy: 0.1000 - auxilliary_output_2_accuracy: 0.1000"
          ]
        },
        {
          "output_type": "error",
          "ename": "KeyboardInterrupt",
          "evalue": "ignored",
          "traceback": [
            "\u001b[0;31m---------------------------------------------------------------------------\u001b[0m",
            "\u001b[0;31mKeyboardInterrupt\u001b[0m                         Traceback (most recent call last)",
            "\u001b[0;32m<ipython-input-20-484538e4be90>\u001b[0m in \u001b[0;36m<module>\u001b[0;34m\u001b[0m\n\u001b[0;32m----> 1\u001b[0;31m \u001b[0mhistory\u001b[0m \u001b[0;34m=\u001b[0m \u001b[0mmodel\u001b[0m\u001b[0;34m.\u001b[0m\u001b[0mfit\u001b[0m\u001b[0;34m(\u001b[0m\u001b[0mX_train\u001b[0m\u001b[0;34m,\u001b[0m \u001b[0;34m[\u001b[0m\u001b[0my_train\u001b[0m\u001b[0;34m,\u001b[0m \u001b[0my_train\u001b[0m\u001b[0;34m,\u001b[0m \u001b[0my_train\u001b[0m\u001b[0;34m]\u001b[0m\u001b[0;34m,\u001b[0m \u001b[0mvalidation_data\u001b[0m\u001b[0;34m=\u001b[0m\u001b[0;34m(\u001b[0m\u001b[0mX_test\u001b[0m\u001b[0;34m,\u001b[0m \u001b[0;34m[\u001b[0m\u001b[0my_test\u001b[0m\u001b[0;34m,\u001b[0m \u001b[0my_test\u001b[0m\u001b[0;34m,\u001b[0m \u001b[0my_test\u001b[0m\u001b[0;34m]\u001b[0m\u001b[0;34m)\u001b[0m\u001b[0;34m,\u001b[0m \u001b[0mepochs\u001b[0m\u001b[0;34m=\u001b[0m\u001b[0mepochs\u001b[0m\u001b[0;34m,\u001b[0m \u001b[0mbatch_size\u001b[0m\u001b[0;34m=\u001b[0m\u001b[0;36m256\u001b[0m\u001b[0;34m,\u001b[0m \u001b[0mcallbacks\u001b[0m\u001b[0;34m=\u001b[0m\u001b[0;34m[\u001b[0m\u001b[0mlr_sc\u001b[0m\u001b[0;34m]\u001b[0m\u001b[0;34m)\u001b[0m\u001b[0;34m\u001b[0m\u001b[0;34m\u001b[0m\u001b[0m\n\u001b[0m",
            "\u001b[0;32m/usr/local/lib/python3.7/dist-packages/keras/utils/traceback_utils.py\u001b[0m in \u001b[0;36merror_handler\u001b[0;34m(*args, **kwargs)\u001b[0m\n\u001b[1;32m     62\u001b[0m     \u001b[0mfiltered_tb\u001b[0m \u001b[0;34m=\u001b[0m \u001b[0;32mNone\u001b[0m\u001b[0;34m\u001b[0m\u001b[0;34m\u001b[0m\u001b[0m\n\u001b[1;32m     63\u001b[0m     \u001b[0;32mtry\u001b[0m\u001b[0;34m:\u001b[0m\u001b[0;34m\u001b[0m\u001b[0;34m\u001b[0m\u001b[0m\n\u001b[0;32m---> 64\u001b[0;31m       \u001b[0;32mreturn\u001b[0m \u001b[0mfn\u001b[0m\u001b[0;34m(\u001b[0m\u001b[0;34m*\u001b[0m\u001b[0margs\u001b[0m\u001b[0;34m,\u001b[0m \u001b[0;34m**\u001b[0m\u001b[0mkwargs\u001b[0m\u001b[0;34m)\u001b[0m\u001b[0;34m\u001b[0m\u001b[0;34m\u001b[0m\u001b[0m\n\u001b[0m\u001b[1;32m     65\u001b[0m     \u001b[0;32mexcept\u001b[0m \u001b[0mException\u001b[0m \u001b[0;32mas\u001b[0m \u001b[0me\u001b[0m\u001b[0;34m:\u001b[0m  \u001b[0;31m# pylint: disable=broad-except\u001b[0m\u001b[0;34m\u001b[0m\u001b[0;34m\u001b[0m\u001b[0m\n\u001b[1;32m     66\u001b[0m       \u001b[0mfiltered_tb\u001b[0m \u001b[0;34m=\u001b[0m \u001b[0m_process_traceback_frames\u001b[0m\u001b[0;34m(\u001b[0m\u001b[0me\u001b[0m\u001b[0;34m.\u001b[0m\u001b[0m__traceback__\u001b[0m\u001b[0;34m)\u001b[0m\u001b[0;34m\u001b[0m\u001b[0;34m\u001b[0m\u001b[0m\n",
            "\u001b[0;32m/usr/local/lib/python3.7/dist-packages/keras/engine/training.py\u001b[0m in \u001b[0;36mfit\u001b[0;34m(self, x, y, batch_size, epochs, verbose, callbacks, validation_split, validation_data, shuffle, class_weight, sample_weight, initial_epoch, steps_per_epoch, validation_steps, validation_batch_size, validation_freq, max_queue_size, workers, use_multiprocessing)\u001b[0m\n\u001b[1;32m   1454\u001b[0m               \u001b[0muse_multiprocessing\u001b[0m\u001b[0;34m=\u001b[0m\u001b[0muse_multiprocessing\u001b[0m\u001b[0;34m,\u001b[0m\u001b[0;34m\u001b[0m\u001b[0;34m\u001b[0m\u001b[0m\n\u001b[1;32m   1455\u001b[0m               \u001b[0mreturn_dict\u001b[0m\u001b[0;34m=\u001b[0m\u001b[0;32mTrue\u001b[0m\u001b[0;34m,\u001b[0m\u001b[0;34m\u001b[0m\u001b[0;34m\u001b[0m\u001b[0m\n\u001b[0;32m-> 1456\u001b[0;31m               _use_cached_eval_dataset=True)\n\u001b[0m\u001b[1;32m   1457\u001b[0m           \u001b[0mval_logs\u001b[0m \u001b[0;34m=\u001b[0m \u001b[0;34m{\u001b[0m\u001b[0;34m'val_'\u001b[0m \u001b[0;34m+\u001b[0m \u001b[0mname\u001b[0m\u001b[0;34m:\u001b[0m \u001b[0mval\u001b[0m \u001b[0;32mfor\u001b[0m \u001b[0mname\u001b[0m\u001b[0;34m,\u001b[0m \u001b[0mval\u001b[0m \u001b[0;32min\u001b[0m \u001b[0mval_logs\u001b[0m\u001b[0;34m.\u001b[0m\u001b[0mitems\u001b[0m\u001b[0;34m(\u001b[0m\u001b[0;34m)\u001b[0m\u001b[0;34m}\u001b[0m\u001b[0;34m\u001b[0m\u001b[0;34m\u001b[0m\u001b[0m\n\u001b[1;32m   1458\u001b[0m           \u001b[0mepoch_logs\u001b[0m\u001b[0;34m.\u001b[0m\u001b[0mupdate\u001b[0m\u001b[0;34m(\u001b[0m\u001b[0mval_logs\u001b[0m\u001b[0;34m)\u001b[0m\u001b[0;34m\u001b[0m\u001b[0;34m\u001b[0m\u001b[0m\n",
            "\u001b[0;32m/usr/local/lib/python3.7/dist-packages/keras/utils/traceback_utils.py\u001b[0m in \u001b[0;36merror_handler\u001b[0;34m(*args, **kwargs)\u001b[0m\n\u001b[1;32m     62\u001b[0m     \u001b[0mfiltered_tb\u001b[0m \u001b[0;34m=\u001b[0m \u001b[0;32mNone\u001b[0m\u001b[0;34m\u001b[0m\u001b[0;34m\u001b[0m\u001b[0m\n\u001b[1;32m     63\u001b[0m     \u001b[0;32mtry\u001b[0m\u001b[0;34m:\u001b[0m\u001b[0;34m\u001b[0m\u001b[0;34m\u001b[0m\u001b[0m\n\u001b[0;32m---> 64\u001b[0;31m       \u001b[0;32mreturn\u001b[0m \u001b[0mfn\u001b[0m\u001b[0;34m(\u001b[0m\u001b[0;34m*\u001b[0m\u001b[0margs\u001b[0m\u001b[0;34m,\u001b[0m \u001b[0;34m**\u001b[0m\u001b[0mkwargs\u001b[0m\u001b[0;34m)\u001b[0m\u001b[0;34m\u001b[0m\u001b[0;34m\u001b[0m\u001b[0m\n\u001b[0m\u001b[1;32m     65\u001b[0m     \u001b[0;32mexcept\u001b[0m \u001b[0mException\u001b[0m \u001b[0;32mas\u001b[0m \u001b[0me\u001b[0m\u001b[0;34m:\u001b[0m  \u001b[0;31m# pylint: disable=broad-except\u001b[0m\u001b[0;34m\u001b[0m\u001b[0;34m\u001b[0m\u001b[0m\n\u001b[1;32m     66\u001b[0m       \u001b[0mfiltered_tb\u001b[0m \u001b[0;34m=\u001b[0m \u001b[0m_process_traceback_frames\u001b[0m\u001b[0;34m(\u001b[0m\u001b[0me\u001b[0m\u001b[0;34m.\u001b[0m\u001b[0m__traceback__\u001b[0m\u001b[0;34m)\u001b[0m\u001b[0;34m\u001b[0m\u001b[0;34m\u001b[0m\u001b[0m\n",
            "\u001b[0;32m/usr/local/lib/python3.7/dist-packages/keras/engine/training.py\u001b[0m in \u001b[0;36mevaluate\u001b[0;34m(self, x, y, batch_size, verbose, sample_weight, steps, callbacks, max_queue_size, workers, use_multiprocessing, return_dict, **kwargs)\u001b[0m\n\u001b[1;32m   1754\u001b[0m             \u001b[0;32mwith\u001b[0m \u001b[0mtf\u001b[0m\u001b[0;34m.\u001b[0m\u001b[0mprofiler\u001b[0m\u001b[0;34m.\u001b[0m\u001b[0mexperimental\u001b[0m\u001b[0;34m.\u001b[0m\u001b[0mTrace\u001b[0m\u001b[0;34m(\u001b[0m\u001b[0;34m'test'\u001b[0m\u001b[0;34m,\u001b[0m \u001b[0mstep_num\u001b[0m\u001b[0;34m=\u001b[0m\u001b[0mstep\u001b[0m\u001b[0;34m,\u001b[0m \u001b[0m_r\u001b[0m\u001b[0;34m=\u001b[0m\u001b[0;36m1\u001b[0m\u001b[0;34m)\u001b[0m\u001b[0;34m:\u001b[0m\u001b[0;34m\u001b[0m\u001b[0;34m\u001b[0m\u001b[0m\n\u001b[1;32m   1755\u001b[0m               \u001b[0mcallbacks\u001b[0m\u001b[0;34m.\u001b[0m\u001b[0mon_test_batch_begin\u001b[0m\u001b[0;34m(\u001b[0m\u001b[0mstep\u001b[0m\u001b[0;34m)\u001b[0m\u001b[0;34m\u001b[0m\u001b[0;34m\u001b[0m\u001b[0m\n\u001b[0;32m-> 1756\u001b[0;31m               \u001b[0mtmp_logs\u001b[0m \u001b[0;34m=\u001b[0m \u001b[0mself\u001b[0m\u001b[0;34m.\u001b[0m\u001b[0mtest_function\u001b[0m\u001b[0;34m(\u001b[0m\u001b[0miterator\u001b[0m\u001b[0;34m)\u001b[0m\u001b[0;34m\u001b[0m\u001b[0;34m\u001b[0m\u001b[0m\n\u001b[0m\u001b[1;32m   1757\u001b[0m               \u001b[0;32mif\u001b[0m \u001b[0mdata_handler\u001b[0m\u001b[0;34m.\u001b[0m\u001b[0mshould_sync\u001b[0m\u001b[0;34m:\u001b[0m\u001b[0;34m\u001b[0m\u001b[0;34m\u001b[0m\u001b[0m\n\u001b[1;32m   1758\u001b[0m                 \u001b[0mcontext\u001b[0m\u001b[0;34m.\u001b[0m\u001b[0masync_wait\u001b[0m\u001b[0;34m(\u001b[0m\u001b[0;34m)\u001b[0m\u001b[0;34m\u001b[0m\u001b[0;34m\u001b[0m\u001b[0m\n",
            "\u001b[0;32m/usr/local/lib/python3.7/dist-packages/tensorflow/python/util/traceback_utils.py\u001b[0m in \u001b[0;36merror_handler\u001b[0;34m(*args, **kwargs)\u001b[0m\n\u001b[1;32m    148\u001b[0m     \u001b[0mfiltered_tb\u001b[0m \u001b[0;34m=\u001b[0m \u001b[0;32mNone\u001b[0m\u001b[0;34m\u001b[0m\u001b[0;34m\u001b[0m\u001b[0m\n\u001b[1;32m    149\u001b[0m     \u001b[0;32mtry\u001b[0m\u001b[0;34m:\u001b[0m\u001b[0;34m\u001b[0m\u001b[0;34m\u001b[0m\u001b[0m\n\u001b[0;32m--> 150\u001b[0;31m       \u001b[0;32mreturn\u001b[0m \u001b[0mfn\u001b[0m\u001b[0;34m(\u001b[0m\u001b[0;34m*\u001b[0m\u001b[0margs\u001b[0m\u001b[0;34m,\u001b[0m \u001b[0;34m**\u001b[0m\u001b[0mkwargs\u001b[0m\u001b[0;34m)\u001b[0m\u001b[0;34m\u001b[0m\u001b[0;34m\u001b[0m\u001b[0m\n\u001b[0m\u001b[1;32m    151\u001b[0m     \u001b[0;32mexcept\u001b[0m \u001b[0mException\u001b[0m \u001b[0;32mas\u001b[0m \u001b[0me\u001b[0m\u001b[0;34m:\u001b[0m\u001b[0;34m\u001b[0m\u001b[0;34m\u001b[0m\u001b[0m\n\u001b[1;32m    152\u001b[0m       \u001b[0mfiltered_tb\u001b[0m \u001b[0;34m=\u001b[0m \u001b[0m_process_traceback_frames\u001b[0m\u001b[0;34m(\u001b[0m\u001b[0me\u001b[0m\u001b[0;34m.\u001b[0m\u001b[0m__traceback__\u001b[0m\u001b[0;34m)\u001b[0m\u001b[0;34m\u001b[0m\u001b[0;34m\u001b[0m\u001b[0m\n",
            "\u001b[0;32m/usr/local/lib/python3.7/dist-packages/tensorflow/python/eager/def_function.py\u001b[0m in \u001b[0;36m__call__\u001b[0;34m(self, *args, **kwds)\u001b[0m\n\u001b[1;32m    913\u001b[0m \u001b[0;34m\u001b[0m\u001b[0m\n\u001b[1;32m    914\u001b[0m       \u001b[0;32mwith\u001b[0m \u001b[0mOptionalXlaContext\u001b[0m\u001b[0;34m(\u001b[0m\u001b[0mself\u001b[0m\u001b[0;34m.\u001b[0m\u001b[0m_jit_compile\u001b[0m\u001b[0;34m)\u001b[0m\u001b[0;34m:\u001b[0m\u001b[0;34m\u001b[0m\u001b[0;34m\u001b[0m\u001b[0m\n\u001b[0;32m--> 915\u001b[0;31m         \u001b[0mresult\u001b[0m \u001b[0;34m=\u001b[0m \u001b[0mself\u001b[0m\u001b[0;34m.\u001b[0m\u001b[0m_call\u001b[0m\u001b[0;34m(\u001b[0m\u001b[0;34m*\u001b[0m\u001b[0margs\u001b[0m\u001b[0;34m,\u001b[0m \u001b[0;34m**\u001b[0m\u001b[0mkwds\u001b[0m\u001b[0;34m)\u001b[0m\u001b[0;34m\u001b[0m\u001b[0;34m\u001b[0m\u001b[0m\n\u001b[0m\u001b[1;32m    916\u001b[0m \u001b[0;34m\u001b[0m\u001b[0m\n\u001b[1;32m    917\u001b[0m       \u001b[0mnew_tracing_count\u001b[0m \u001b[0;34m=\u001b[0m \u001b[0mself\u001b[0m\u001b[0;34m.\u001b[0m\u001b[0mexperimental_get_tracing_count\u001b[0m\u001b[0;34m(\u001b[0m\u001b[0;34m)\u001b[0m\u001b[0;34m\u001b[0m\u001b[0;34m\u001b[0m\u001b[0m\n",
            "\u001b[0;32m/usr/local/lib/python3.7/dist-packages/tensorflow/python/eager/def_function.py\u001b[0m in \u001b[0;36m_call\u001b[0;34m(self, *args, **kwds)\u001b[0m\n\u001b[1;32m    952\u001b[0m       \u001b[0;31m# In this case we have not created variables on the first call. So we can\u001b[0m\u001b[0;34m\u001b[0m\u001b[0;34m\u001b[0m\u001b[0;34m\u001b[0m\u001b[0m\n\u001b[1;32m    953\u001b[0m       \u001b[0;31m# run the first trace but we should fail if variables are created.\u001b[0m\u001b[0;34m\u001b[0m\u001b[0;34m\u001b[0m\u001b[0;34m\u001b[0m\u001b[0m\n\u001b[0;32m--> 954\u001b[0;31m       \u001b[0mresults\u001b[0m \u001b[0;34m=\u001b[0m \u001b[0mself\u001b[0m\u001b[0;34m.\u001b[0m\u001b[0m_stateful_fn\u001b[0m\u001b[0;34m(\u001b[0m\u001b[0;34m*\u001b[0m\u001b[0margs\u001b[0m\u001b[0;34m,\u001b[0m \u001b[0;34m**\u001b[0m\u001b[0mkwds\u001b[0m\u001b[0;34m)\u001b[0m\u001b[0;34m\u001b[0m\u001b[0;34m\u001b[0m\u001b[0m\n\u001b[0m\u001b[1;32m    955\u001b[0m       \u001b[0;32mif\u001b[0m \u001b[0mself\u001b[0m\u001b[0;34m.\u001b[0m\u001b[0m_created_variables\u001b[0m \u001b[0;32mand\u001b[0m \u001b[0;32mnot\u001b[0m \u001b[0mALLOW_DYNAMIC_VARIABLE_CREATION\u001b[0m\u001b[0;34m:\u001b[0m\u001b[0;34m\u001b[0m\u001b[0;34m\u001b[0m\u001b[0m\n\u001b[1;32m    956\u001b[0m         raise ValueError(\"Creating variables on a non-first call to a function\"\n",
            "\u001b[0;32m/usr/local/lib/python3.7/dist-packages/tensorflow/python/eager/function.py\u001b[0m in \u001b[0;36m__call__\u001b[0;34m(self, *args, **kwargs)\u001b[0m\n\u001b[1;32m   2452\u001b[0m        filtered_flat_args) = self._maybe_define_function(args, kwargs)\n\u001b[1;32m   2453\u001b[0m     return graph_function._call_flat(\n\u001b[0;32m-> 2454\u001b[0;31m         filtered_flat_args, captured_inputs=graph_function.captured_inputs)  # pylint: disable=protected-access\n\u001b[0m\u001b[1;32m   2455\u001b[0m \u001b[0;34m\u001b[0m\u001b[0m\n\u001b[1;32m   2456\u001b[0m   \u001b[0;34m@\u001b[0m\u001b[0mproperty\u001b[0m\u001b[0;34m\u001b[0m\u001b[0;34m\u001b[0m\u001b[0m\n",
            "\u001b[0;32m/usr/local/lib/python3.7/dist-packages/tensorflow/python/eager/function.py\u001b[0m in \u001b[0;36m_call_flat\u001b[0;34m(self, args, captured_inputs, cancellation_manager)\u001b[0m\n\u001b[1;32m   1859\u001b[0m       \u001b[0;31m# No tape is watching; skip to running the function.\u001b[0m\u001b[0;34m\u001b[0m\u001b[0;34m\u001b[0m\u001b[0;34m\u001b[0m\u001b[0m\n\u001b[1;32m   1860\u001b[0m       return self._build_call_outputs(self._inference_function.call(\n\u001b[0;32m-> 1861\u001b[0;31m           ctx, args, cancellation_manager=cancellation_manager))\n\u001b[0m\u001b[1;32m   1862\u001b[0m     forward_backward = self._select_forward_and_backward_functions(\n\u001b[1;32m   1863\u001b[0m         \u001b[0margs\u001b[0m\u001b[0;34m,\u001b[0m\u001b[0;34m\u001b[0m\u001b[0;34m\u001b[0m\u001b[0m\n",
            "\u001b[0;32m/usr/local/lib/python3.7/dist-packages/tensorflow/python/eager/function.py\u001b[0m in \u001b[0;36mcall\u001b[0;34m(self, ctx, args, cancellation_manager)\u001b[0m\n\u001b[1;32m    500\u001b[0m               \u001b[0minputs\u001b[0m\u001b[0;34m=\u001b[0m\u001b[0margs\u001b[0m\u001b[0;34m,\u001b[0m\u001b[0;34m\u001b[0m\u001b[0;34m\u001b[0m\u001b[0m\n\u001b[1;32m    501\u001b[0m               \u001b[0mattrs\u001b[0m\u001b[0;34m=\u001b[0m\u001b[0mattrs\u001b[0m\u001b[0;34m,\u001b[0m\u001b[0;34m\u001b[0m\u001b[0;34m\u001b[0m\u001b[0m\n\u001b[0;32m--> 502\u001b[0;31m               ctx=ctx)\n\u001b[0m\u001b[1;32m    503\u001b[0m         \u001b[0;32melse\u001b[0m\u001b[0;34m:\u001b[0m\u001b[0;34m\u001b[0m\u001b[0;34m\u001b[0m\u001b[0m\n\u001b[1;32m    504\u001b[0m           outputs = execute.execute_with_cancellation(\n",
            "\u001b[0;32m/usr/local/lib/python3.7/dist-packages/tensorflow/python/eager/execute.py\u001b[0m in \u001b[0;36mquick_execute\u001b[0;34m(op_name, num_outputs, inputs, attrs, ctx, name)\u001b[0m\n\u001b[1;32m     53\u001b[0m     \u001b[0mctx\u001b[0m\u001b[0;34m.\u001b[0m\u001b[0mensure_initialized\u001b[0m\u001b[0;34m(\u001b[0m\u001b[0;34m)\u001b[0m\u001b[0;34m\u001b[0m\u001b[0;34m\u001b[0m\u001b[0m\n\u001b[1;32m     54\u001b[0m     tensors = pywrap_tfe.TFE_Py_Execute(ctx._handle, device_name, op_name,\n\u001b[0;32m---> 55\u001b[0;31m                                         inputs, attrs, num_outputs)\n\u001b[0m\u001b[1;32m     56\u001b[0m   \u001b[0;32mexcept\u001b[0m \u001b[0mcore\u001b[0m\u001b[0;34m.\u001b[0m\u001b[0m_NotOkStatusException\u001b[0m \u001b[0;32mas\u001b[0m \u001b[0me\u001b[0m\u001b[0;34m:\u001b[0m\u001b[0;34m\u001b[0m\u001b[0;34m\u001b[0m\u001b[0m\n\u001b[1;32m     57\u001b[0m     \u001b[0;32mif\u001b[0m \u001b[0mname\u001b[0m \u001b[0;32mis\u001b[0m \u001b[0;32mnot\u001b[0m \u001b[0;32mNone\u001b[0m\u001b[0;34m:\u001b[0m\u001b[0;34m\u001b[0m\u001b[0;34m\u001b[0m\u001b[0m\n",
            "\u001b[0;31mKeyboardInterrupt\u001b[0m: "
          ]
        }
      ]
    },
    {
      "cell_type": "code",
      "source": [
        "# Draw Loss Plot\n",
        "plt.plot(history.history['loss'], color = 'blue', label = 'Traning Data Loss')\n",
        "plt.plot(history.history['val_loss'], color = 'red', label = 'Validation Data Loss')\n",
        "plt.title('Loss')\n",
        "plt.xlabel('Epochs')\n",
        "plt.ylabel('Loss')\n",
        "plt.legend()\n",
        "plt.show()\n",
        "\n",
        "# Draw Accuracy Plot\n",
        "plt.plot(history.history['dense_4_accuracy'], color = 'blue', label = 'Traning Data Accuracy')\n",
        "plt.plot(history.history['val_dense_4_accuracy'], color = 'red', label = 'Validation Data Accuracy')\n",
        "plt.title('Accuracy')\n",
        "plt.xlabel('Epochs')\n",
        "plt.ylabel('Accuracy')\n",
        "plt.legend()\n",
        "plt.show()"
      ],
      "metadata": {
        "id": "4DV4up7PlBwu"
      },
      "execution_count": null,
      "outputs": []
    },
    {
      "cell_type": "code",
      "source": [
        "from tensorflow.keras.utils import plot_model\n",
        "plot_model(model, show_shapes=True, to_file='model_architecture.png')"
      ],
      "metadata": {
        "id": "MLq75HY3lPCP"
      },
      "execution_count": null,
      "outputs": []
    },
    {
      "cell_type": "code",
      "source": [
        "model.evaluate(X_test, [y_test,y_test, y_test])"
      ],
      "metadata": {
        "id": "hTORCnwElPCQ"
      },
      "execution_count": null,
      "outputs": []
    },
    {
      "cell_type": "markdown",
      "metadata": {
        "id": "OYwvkulmcNrz"
      },
      "source": [
        "# Resnet(Deep Residual Learning for Image Recognition)\n",
        "\n",
        "- . 2014년의 GoogLeNet이 22개 층으로 구성된 것에 비해, ResNet은 152개 층을 갖는다. 약 7배나 깊어졌다! \n",
        "\n",
        "<img src = 'https://img1.daumcdn.net/thumb/R1280x0/?scode=mtistory2&fname=https%3A%2F%2Fblog.kakaocdn.net%2Fdn%2Fcx1l7G%2FbtqzR2RurjQ%2FuRBKXJoxhDZdBjqI2BqWnK%2Fimg.png'>"
      ]
    },
    {
      "cell_type": "markdown",
      "source": [
        "### Introduction\n",
        "\n",
        "- 참고 : https://ganghee-lee.tistory.com/41\n",
        "\n",
        "\n",
        "- 이전의 연구들로 모델의 layer가 너무 깊어질수록 오히려 성능이 떨어지는 현상이 생김을 밝혀냈다.\n",
        "\n",
        "- 이는 gradient vanishing/exploding 문제 때문에 학습이 잘 이루어지지 않기 때문이다.\n",
        "\n",
        "- gradient vanishing이란 layer가 깊어질수록 미분을 점점 많이 하기 때문에 backpropagation을 해도 앞의 layer일수록 미분값이 작아져 그만큼 output에 영향을 끼치는 weight 정도가 작아지는 것을 말한다.\n",
        "\n",
        " 이는 overfitting과는 다른 문제인데 overfitting은 학습 데이터에 완벽하게 fitting시킨 탓에 테스트 성능에서는\n",
        "\n",
        "- 안 좋은 결과를 보임을 뜻하고 위와 같은 문제는 Degradation 문제로 training data에도 학습이 되지 않음을 뜻한다.\n",
        "\n",
        "\n",
        "- 따라서 이를 극복하기 위해 ResNet이 고안되었다. ResNet은 skip connection을 이용한 residual learning을 통해\n",
        "\n",
        "- layer가 깊어짐에 따른 gradient vanishing 문제를 해결하였다."
      ],
      "metadata": {
        "id": "OpbmtHTzgnL0"
      }
    },
    {
      "cell_type": "markdown",
      "metadata": {
        "id": "LNFioAlWcV0b"
      },
      "source": [
        "## Resnet의 결과\n",
        "\n",
        "<img src ='https://img1.daumcdn.net/thumb/R1280x0/?scode=mtistory2&fname=https%3A%2F%2Fblog.kakaocdn.net%2Fdn%2FuiYxJ%2FbtqzU9uR8kC%2FzQi10LVKdbdcwAs1XOhqAk%2Fimg.png'>"
      ]
    },
    {
      "cell_type": "markdown",
      "metadata": {
        "id": "4Gows20gcd0V"
      },
      "source": [
        "- 위 그래프들을 보면 오히려 더 깊은 구조를 갖는 56층의 네트워크가 20층의네트워크보다 더 나쁜 성능을 보임을 알 수 있다. 기존의 방식으로는 망을 무조건 깊게 한다고 능사가 아니라는 것을 확인한 것이다. 뭔가 새로운 방법이 있어야 망을 깊게 만드는 효과를 볼 수 있다는 것을 ResNet의 저자들은 깨달았다. \n",
        "\n",
        "- 20+36 layer의 네트워크는 최소한 Training에서라도 20 Layer의 네트워크와 비슷한 성능이거나 더 좋아야 함.\n",
        "\n",
        "- Model Capacity가 크기 때문에(Overfitting이 발생하더라도) 더 좋은 성능이 당연할 것이나 위의 그래프는 Training과 Test에서 모두 Shallow한 네트워크가 더 좋은 성능을 보임.\n",
        "\n",
        "- 결국 Optimization의 문제라고 생각 할 수 있다.\n",
        "\n",
        "- 네트워크가 더 깊어질 수록 Optimize(Train)하는 것이 더 어렵기 때문에 Deep 네트워크는 Shallow 네트워크 만큼의 퍼포먼스를 보이지 않는다고 볼 수 있음.\n",
        "\n",
        "- Resnet은 이 문제를 해결하고 더 깊은 156 Layer의 네트워크를 훈련시키는 데에 성공함."
      ]
    },
    {
      "cell_type": "markdown",
      "source": [
        "#### Residual Block\n",
        "\n",
        "- 기존의 neural net의 학습 목적은 input(x)을 타겟값(y)으로 mapping하는 함수 H(x)를 찾는 것이였다.\n",
        "\n",
        "- 따라서 H(x)-y를 최소화하는 방향으로 학습을 진행한다.\n",
        "\n",
        "- 이때 이미지 classification과 같은 문제의 경우 x에 대한 타겟값 y는 사실 x를 대변하는 것으로 y와 x의 의미가 같게끔\n",
        "\n",
        "- mapping해야한다. 즉, 강아지 사진의 pixel값이 input(x)로 주어질때 이를 2개의 label중 강아지가 1에 해당한다면\n",
        "\n",
        "- 타겟값(y)를 1로 정해서 학습하는 것이 아닌 강아지 사진의 pixel값 (x)로 y를 mapping해야한다.\n",
        "\n",
        "- 따라서 네트워크의 출력값이 x가 되도록 H(x)-x를 최소화하는 방향으로 학습을 진행한다.\n",
        "\n",
        "- F(x) = H(x) - x를 잔차라고 하며 이 잔차를 학습하는 것은 Residual learning이라 한다.\n",
        "\n",
        "<img src='https://img1.daumcdn.net/thumb/R1280x0/?scode=mtistory2&fname=https%3A%2F%2Fblog.kakaocdn.net%2Fdn%2FbTY9tT%2FbtqBQ2AY09e%2FiyaK8IV4AWzjYvAvKK7nok%2Fimg.png'>"
      ],
      "metadata": {
        "id": "V2aPjg-uh5IT"
      }
    },
    {
      "cell_type": "markdown",
      "source": [
        "- 이때 위 그림처럼 네트워크의 output이 x가 되도록 mapping하는 것이 아닌\n",
        "\n",
        "- 아래 그림처럼 마지막에 x를 더해서 네트워크의 output은 0이 되도록 mapping해서 최종 output이 x가 되도록 학습한다.\n",
        "\n",
        "- 그 이유는 위 그림처럼 단순히 H(x)가 x가 되도록 residual learning으로 학습해도\n",
        "\n",
        "- 결국 gradient vanishing문제가 해결된 것은 아니다. 따라서 네트워크는 0이 되도록 학습시키고 마지막에 x를 더해서\n",
        "\n",
        "- H(x)가 x가 되도록 학습하면 미분을 해도 x자체는 미분값 1을 갖기 때문에 각 layer마다\n",
        "\n",
        " "
      ],
      "metadata": {
        "id": "kLGhk0Fdij_Y"
      }
    },
    {
      "cell_type": "markdown",
      "source": [
        "<img src='https://img1.daumcdn.net/thumb/R1280x0/?scode=mtistory2&fname=https%3A%2F%2Fblog.kakaocdn.net%2Fdn%2Fu7iAK%2FbtqBNkDoj6y%2F2Mxa3oVsS7SfoOzNZEZGU1%2Fimg.png'>"
      ],
      "metadata": {
        "id": "keYRaqpjHvtw"
      }
    },
    {
      "cell_type": "markdown",
      "source": [
        "따라서 layer가 아무리 깊어져도 최소 gradient로 1이상의 값을 가지므로 gradient vanishing 문제를 해결한 것이다.\n",
        "\n",
        "정리하자면 아래와 같다.\n",
        "\n",
        "1. 이미지에서는 H(x) = x가 되도록 학습시킨다.\n",
        "\n",
        "2. 네트워크의 output F(x)는 0이 되도록 학습시킨다.\n",
        "\n",
        "3. F(x)+x=H(x)=x가 되도록 학습시키면 미분해도 F(x)+x의 미분값은 F'(x) + 1로 최소 1이상이다.\n",
        "\n",
        "4. 모든 layer에서의 gradient가 1+F'(x)이므로 gradient vanishing현상을 해결했다."
      ],
      "metadata": {
        "id": "TXRhYz2CHyNj"
      }
    },
    {
      "cell_type": "markdown",
      "source": [
        "이렇게 shortcut connection으로 만든 block을 identity block이라고 한다.\n",
        "\n",
        "그리고 ResNet은 identity block과 convolution block으로 구성되는데 각각은 아래 그림과 같다.\n",
        "\n"
      ],
      "metadata": {
        "id": "_SZKGcmgH17z"
      }
    },
    {
      "cell_type": "markdown",
      "source": [
        "<img src='https://www.researchgate.net/publication/346419542/figure/fig4/AS:962680332484611@1606532285582/Comparison-of-plain-CNN-block-ResNet-block-and-DenseNet-block.png'>"
      ],
      "metadata": {
        "id": "dhgLOf13-c1A"
      }
    },
    {
      "cell_type": "markdown",
      "source": [
        "<img src='https://img1.daumcdn.net/thumb/R1280x0/?scode=mtistory2&fname=https%3A%2F%2Fblog.kakaocdn.net%2Fdn%2Fcrj5v9%2FbtqBOrWkyBD%2Fyxk3PchJlnl25RRXYJ1vg0%2Fimg.png'>"
      ],
      "metadata": {
        "id": "SbxFcU9pH0Bi"
      }
    },
    {
      "cell_type": "markdown",
      "source": [
        "단순히 identity block은 이전까지 설명했듯이 네트워크의 output F(x)에 x를 그대로 더하는 것이고\n",
        "\n",
        "convolution block은 x역시 1x1 convolution연산을 거친 후 F(x)에 더해주는 것이다.\n",
        "\n",
        "그리고 ResNet은 이 두가지 block을 아래그림과 같이 쌓아서 구성한다."
      ],
      "metadata": {
        "id": "M9BTuO8xH3Tj"
      }
    },
    {
      "cell_type": "markdown",
      "source": [
        "<img src='https://img1.daumcdn.net/thumb/R1280x0/?scode=mtistory2&fname=https%3A%2F%2Fblog.kakaocdn.net%2Fdn%2Fb5HQOH%2FbtqBNjqRUsk%2FYnxL1ai7kIa9peEYSRlQGK%2Fimg.png'>"
      ],
      "metadata": {
        "id": "NYFEgSzwH4Aj"
      }
    },
    {
      "cell_type": "markdown",
      "source": [
        "<img src='https://img1.daumcdn.net/thumb/R1280x0/?scode=mtistory2&fname=https%3A%2F%2Fblog.kakaocdn.net%2Fdn%2FupZbe%2FbtqBOrva4eX%2FiNbnXbFPj1SKFfgZsDFFvk%2Fimg.png'>"
      ],
      "metadata": {
        "id": "vxRdM1-QH6H6"
      }
    },
    {
      "cell_type": "markdown",
      "metadata": {
        "id": "UN7rBJbFclWR"
      },
      "source": [
        "기존의 신경망은 입력값 x를 타겟값 y로 매핑하는 함수 H(x)를 얻는 것이 목적이었다. 그러나 ResNet은 F(x) + x를 최소화하는 것을 목적으로 한다. x는 현시점에서 변할 수 없는 값이므로 F(x)를 0에 가깝게 만드는 것이 목적이 된다. F(x)가 0이 되면 출력과 입력이 모두 x로 같아지게 된다. F(x) = H(x) - x이므로 F(x)를 최소로 해준다는 것은 H(x) - x를 최소로 해주는 것과 동일한 의미를 지닌다. 여기서 H(x) - x를 잔차(residual)라고 한다. 즉, 잔차를 최소로 해주는 것이므로 ResNet이란 이름이 붙게 된다. "
      ]
    },
    {
      "cell_type": "markdown",
      "metadata": {
        "id": "NG_GojcFcV2l"
      },
      "source": [
        "### Residual Block\n",
        "\n",
        "그것이 바로 ResNet의 핵심인 Residual Block의 출현을 가능케 했다. 아래 그림에서 오른쪽이 Residual Block을 나타낸다. 기존의 망과 차이가 있다면 입력값을 출력값에 더해줄 수 있도록 지름길(shortcut)을 하나 만들어준 것 뿐이다. \n",
        "\n",
        "<img src = 'https://img1.daumcdn.net/thumb/R1280x0/?scode=mtistory2&fname=https%3A%2F%2Fblog.kakaocdn.net%2Fdn%2FbFPOry%2FbtqzR2En9ry%2F2DTETgT1BkCrW74hKQCsrk%2Fimg.png'>"
      ]
    },
    {
      "cell_type": "markdown",
      "metadata": {
        "id": "h8I26yRGcV48"
      },
      "source": [
        "### Resnet의 구조\n",
        "ResNet은 기본적으로 VGG-19의 구조를 뼈대로 한다. 거기에 컨볼루션 층들을 추가해서 깊게 만든 후에, shortcut들을 추가하는 것이 사실상 전부다.\n",
        "\n",
        "<img src = 'https://img1.daumcdn.net/thumb/R1280x0/?scode=mtistory2&fname=https%3A%2F%2Fblog.kakaocdn.net%2Fdn%2FbdQ7nn%2FbtqzVCKyKVV%2F5nkGhNvCqK9BcIgasYRxH0%2Fimg.jpg'>\n",
        "\n"
      ]
    },
    {
      "cell_type": "markdown",
      "metadata": {
        "id": "7DoALeYncxzr"
      },
      "source": [
        "#### Resnet의 구조\n",
        "\n",
        "<img src = 'https://img1.daumcdn.net/thumb/R1280x0/?scode=mtistory2&fname=https%3A%2F%2Fblog.kakaocdn.net%2Fdn%2FzwdXd%2FbtqzVoeJwoE%2F9oMcs2Qkj5m07pKPHRmeK0%2Fimg.png'>"
      ]
    },
    {
      "cell_type": "markdown",
      "metadata": {
        "id": "BNlV69Ep455c"
      },
      "source": [
        "# 사전 학습 사용!\n",
        "\n",
        "### pretrained model\n",
        "\n",
        "<img src = 'https://www.researchgate.net/profile/Seunghyoung-Ryu/publication/329954455/figure/fig1/AS:725290594623488@1549934161033/The-structure-of-ResNet-12.png'>\n",
        "\n",
        "\n",
        "<img src = 'https://neurohive.io/wp-content/uploads/2019/01/resnet-e1548261477164.png'>"
      ]
    },
    {
      "cell_type": "markdown",
      "metadata": {
        "id": "dCR5jZ5M62Gt"
      },
      "source": [
        "GAP 참고 :https://gaussian37.github.io/dl-concept-global_average_pooling/"
      ]
    },
    {
      "cell_type": "markdown",
      "metadata": {
        "id": "Pf3XSp6trVVd"
      },
      "source": [
        "<img src = 'https://paperswithcode.com/media/methods/Screen_Shot_2020-09-25_at_10.26.40_AM_SAB79fQ.png'>"
      ]
    },
    {
      "cell_type": "code",
      "execution_count": null,
      "metadata": {
        "id": "ZpA6olBk_ehV"
      },
      "outputs": [],
      "source": [
        "import matplotlib.pyplot as plt\n",
        "import numpy as np\n",
        "import tensorflow as tf\n",
        "from tensorflow import keras"
      ]
    },
    {
      "cell_type": "code",
      "source": [
        "# Load Cifar-10 data-set\n",
        "(train_im, train_lab), (test_im, test_lab) = tf.keras.datasets.cifar10.load_data()"
      ],
      "metadata": {
        "id": "_H_wRrl8f4j8"
      },
      "execution_count": null,
      "outputs": []
    },
    {
      "cell_type": "code",
      "source": [
        "#### Normalize the images to pixel values (0, 1)\n",
        "train_im, test_im = train_im/255.0 , test_im/255.0\n",
        "#### Check the format of the data \n",
        "print (\"train_im, train_lab types: \", type(train_im), type(train_lab))\n",
        "#### check the shape of the data\n",
        "print (\"shape of images and labels array: \", train_im.shape, train_lab.shape) \n",
        "print (\"shape of images and labels array ; test: \", test_im.shape, test_lab.shape)"
      ],
      "metadata": {
        "colab": {
          "base_uri": "https://localhost:8080/"
        },
        "id": "ovuAgNNnf4mG",
        "outputId": "a57f877f-deab-4dea-b34a-b89edb6c57ea"
      },
      "execution_count": null,
      "outputs": [
        {
          "output_type": "stream",
          "name": "stdout",
          "text": [
            "train_im, train_lab types:  <class 'numpy.ndarray'> <class 'numpy.ndarray'>\n",
            "shape of images and labels array:  (50000, 32, 32, 3) (50000, 1)\n",
            "shape of images and labels array ; test:  (10000, 32, 32, 3) (10000, 1)\n"
          ]
        }
      ]
    },
    {
      "cell_type": "code",
      "source": [
        "#### Check the distribution of unique elements \n",
        "(unique, counts) = np.unique(train_lab, return_counts=True)\n",
        "\n",
        "frequencies = np.asarray((unique, counts)).T\n",
        "\n",
        "print (frequencies)\n",
        "print (len(unique))"
      ],
      "metadata": {
        "colab": {
          "base_uri": "https://localhost:8080/"
        },
        "id": "J0ikY7pFf4oN",
        "outputId": "56e45cb3-135b-4350-b281-43c033e10b0f"
      },
      "execution_count": null,
      "outputs": [
        {
          "output_type": "stream",
          "name": "stdout",
          "text": [
            "[[   0 5000]\n",
            " [   1 5000]\n",
            " [   2 5000]\n",
            " [   3 5000]\n",
            " [   4 5000]\n",
            " [   5 5000]\n",
            " [   6 5000]\n",
            " [   7 5000]\n",
            " [   8 5000]\n",
            " [   9 5000]]\n",
            "10\n"
          ]
        }
      ]
    },
    {
      "cell_type": "code",
      "source": [
        "class_types = ['airplane', 'automobile', 'bird', 'cat', 'deer',\n",
        "               'dog', 'frog', 'horse', 'ship', 'truck'] # from cifar-10 website\n",
        "\n",
        "plt.figure(figsize=(10,10))\n",
        "for i in range(12):\n",
        "    plt.subplot(4,3,i+1)\n",
        "    plt.xticks([])\n",
        "    plt.yticks([])\n",
        "    plt.grid(False)\n",
        "    plt.imshow(train_im[i], cmap='gray')\n",
        "    plt.xlabel(class_types[train_lab[i][0]], fontsize=13)\n",
        "plt.tight_layout()    \n",
        "plt.show()"
      ],
      "metadata": {
        "colab": {
          "base_uri": "https://localhost:8080/",
          "height": 729
        },
        "id": "YQPB_tLMf4qG",
        "outputId": "727f26ed-d03c-4830-9056-29fbb1da315a"
      },
      "execution_count": null,
      "outputs": [
        {
          "output_type": "display_data",
          "data": {
            "text/plain": [
              "<Figure size 720x720 with 12 Axes>"
            ],
            "image/png": "[encoded data removed]"
          },
          "metadata": {}
        }
      ]
    },
    {
      "cell_type": "code",
      "source": [
        "### One hot encoding for labels \n",
        "\n",
        "train_lab_categorical = tf.keras.utils.to_categorical(\n",
        "    train_lab, num_classes=10, dtype='uint8')\n",
        "\n",
        "test_lab_categorical = tf.keras.utils.to_categorical(\n",
        "    test_lab, num_classes=10, dtype='uint8')"
      ],
      "metadata": {
        "id": "d4y3ksAsf4sZ"
      },
      "execution_count": null,
      "outputs": []
    },
    {
      "cell_type": "code",
      "source": [
        "### Train -test split \n",
        "\n",
        "from sklearn.model_selection import train_test_split \n",
        "train_im, valid_im, train_lab, valid_lab = train_test_split(train_im, train_lab_categorical, test_size=0.20, \n",
        "                                                            stratify=train_lab_categorical, \n",
        "                                                            random_state=40, shuffle = True)\n",
        "\n",
        "print (\"train data shape after the split: \", train_im.shape)\n",
        "print ('new validation data shape: ', valid_im.shape)\n",
        "print (\"validation labels shape: \", valid_lab.shape)"
      ],
      "metadata": {
        "colab": {
          "base_uri": "https://localhost:8080/"
        },
        "id": "EyRD5WdYgA-c",
        "outputId": "dd2ea538-4506-4a8b-ccbd-d882d3f93ad5"
      },
      "execution_count": null,
      "outputs": [
        {
          "output_type": "stream",
          "name": "stdout",
          "text": [
            "train data shape after the split:  (40000, 32, 32, 3)\n",
            "new validation data shape:  (10000, 32, 32, 3)\n",
            "validation labels shape:  (10000, 10)\n"
          ]
        }
      ]
    },
    {
      "cell_type": "code",
      "source": [
        "#### Necessary Imports for Neural Net \n",
        "\n",
        "from tensorflow.keras.layers import Input, Conv2D, MaxPooling2D, ZeroPadding2D,\\\n",
        "     Flatten, BatchNormalization, AveragePooling2D, Dense, Activation, Add \n",
        "from tensorflow.keras.models import Model\n",
        "from tensorflow.keras import activations\n",
        "from tensorflow.keras.optimizers import Adam\n",
        "from tensorflow.keras.callbacks import EarlyStopping\n",
        "from tensorflow.keras.regularizers import l2"
      ],
      "metadata": {
        "id": "q333gZdEgB_t"
      },
      "execution_count": null,
      "outputs": []
    },
    {
      "cell_type": "code",
      "source": [
        "##### Include Little Data Augmentation \n",
        "batch_size = 64 # try several values\n",
        "\n",
        "train_DataGen = tf.keras.preprocessing.image.ImageDataGenerator(zoom_range=0.2, \n",
        "                                                                width_shift_range=0.1, \n",
        "                                                                height_shift_range = 0.1, \n",
        "                                                                horizontal_flip=True)\n",
        " \n",
        "valid_datagen = tf.keras.preprocessing.image.ImageDataGenerator()\n",
        "\n",
        "train_set_conv = train_DataGen.flow(train_im, train_lab, batch_size=batch_size) # train_lab is categorical \n",
        "valid_set_conv = valid_datagen.flow(valid_im, valid_lab, batch_size=batch_size) # so as valid_lab "
      ],
      "metadata": {
        "id": "TXlehLLUgDZ8"
      },
      "execution_count": null,
      "outputs": []
    },
    {
      "cell_type": "code",
      "source": [
        "def res_identity(x, filters): \n",
        "  ''' renet block where dimension doesnot change.\n",
        "  The skip connection is just simple identity conncection\n",
        "  we will have 3 blocks and then input will be added\n",
        "  '''\n",
        "  x_skip = x # this will be used for addition with the residual block \n",
        "  f1, f2 = filters\n",
        "\n",
        "  #first block \n",
        "  x = Conv2D(f1, kernel_size=(1, 1), strides=(1, 1), padding='valid', kernel_regularizer=l2(0.001))(x)\n",
        "  x = BatchNormalization()(x)\n",
        "  x = Activation(activations.relu)(x)\n",
        "\n",
        "  #second block # bottleneck (but size kept same with padding)\n",
        "  x = Conv2D(f1, kernel_size=(3, 3), strides=(1, 1), padding='same', kernel_regularizer=l2(0.001))(x)\n",
        "  x = BatchNormalization()(x)\n",
        "  x = Activation(activations.relu)(x)\n",
        "\n",
        "  # third block activation used after adding the input\n",
        "  x = Conv2D(f2, kernel_size=(1, 1), strides=(1, 1), padding='valid', kernel_regularizer=l2(0.001))(x)\n",
        "  x = BatchNormalization()(x)\n",
        "  # x = Activation(activations.relu)(x)\n",
        "\n",
        "  # add the input \n",
        "  x = Add()([x, x_skip])\n",
        "  x = Activation(activations.relu)(x)\n",
        "\n",
        "  return x"
      ],
      "metadata": {
        "id": "U5y4vFTjgEW-"
      },
      "execution_count": null,
      "outputs": []
    },
    {
      "cell_type": "code",
      "source": [
        "def res_conv(x, s, filters):\n",
        "  '''\n",
        "  here the input size changes, when it goes via conv blocks\n",
        "  so the skip connection uses a projection (conv layer) matrix\n",
        "  ''' \n",
        "  x_skip = x\n",
        "  f1, f2 = filters\n",
        "\n",
        "  # first block\n",
        "  x = Conv2D(f1, kernel_size=(1, 1), strides=(s, s), padding='valid', kernel_regularizer=l2(0.001))(x)\n",
        "  # when s = 2 then it is like downsizing the feature map\n",
        "  x = BatchNormalization()(x)\n",
        "  x = Activation(activations.relu)(x)\n",
        "\n",
        "  # second block\n",
        "  x = Conv2D(f1, kernel_size=(3, 3), strides=(1, 1), padding='same', kernel_regularizer=l2(0.001))(x)\n",
        "  x = BatchNormalization()(x)\n",
        "  x = Activation(activations.relu)(x)\n",
        "\n",
        "  #third block\n",
        "  x = Conv2D(f2, kernel_size=(1, 1), strides=(1, 1), padding='valid', kernel_regularizer=l2(0.001))(x)\n",
        "  x = BatchNormalization()(x)\n",
        "\n",
        "  # shortcut \n",
        "  x_skip = Conv2D(f2, kernel_size=(1, 1), strides=(s, s), padding='valid', kernel_regularizer=l2(0.001))(x_skip)\n",
        "  x_skip = BatchNormalization()(x_skip)\n",
        "\n",
        "  # add \n",
        "  x = Add()([x, x_skip])\n",
        "  x = Activation(activations.relu)(x)\n",
        "\n",
        "  return x"
      ],
      "metadata": {
        "id": "SZuPCgu4gFHn"
      },
      "execution_count": null,
      "outputs": []
    },
    {
      "cell_type": "code",
      "source": [
        "### Combine the above functions to build 50 layers resnet. \n",
        "def resnet50():\n",
        "\n",
        "  input_im = Input(shape=(train_im.shape[1], train_im.shape[2], train_im.shape[3])) # cifar 10 images size\n",
        "  x = ZeroPadding2D(padding=(3, 3))(input_im)\n",
        "\n",
        "  # 1st stage\n",
        "  # here we perform maxpooling, see the figure above\n",
        "\n",
        "  x = Conv2D(64, kernel_size=(7, 7), strides=(2, 2))(x)\n",
        "  x = BatchNormalization()(x)\n",
        "  x = Activation(activations.relu)(x)\n",
        "  x = MaxPooling2D((3, 3), strides=(2, 2))(x)\n",
        "\n",
        "  #2nd stage \n",
        "  # frm here on only conv block and identity block, no pooling\n",
        "\n",
        "  x = res_conv(x, s=1, filters=(64, 256))\n",
        "  x = res_identity(x, filters=(64, 256))\n",
        "  x = res_identity(x, filters=(64, 256))\n",
        "\n",
        "  # 3rd stage\n",
        "\n",
        "  x = res_conv(x, s=2, filters=(128, 512))\n",
        "  x = res_identity(x, filters=(128, 512))\n",
        "  x = res_identity(x, filters=(128, 512))\n",
        "  x = res_identity(x, filters=(128, 512))\n",
        "\n",
        "  # 4th stage\n",
        "\n",
        "  x = res_conv(x, s=2, filters=(256, 1024))\n",
        "  x = res_identity(x, filters=(256, 1024))\n",
        "  x = res_identity(x, filters=(256, 1024))\n",
        "  x = res_identity(x, filters=(256, 1024))\n",
        "  x = res_identity(x, filters=(256, 1024))\n",
        "  x = res_identity(x, filters=(256, 1024))\n",
        "\n",
        "  # 5th stage\n",
        "\n",
        "  x = res_conv(x, s=2, filters=(512, 2048))\n",
        "  x = res_identity(x, filters=(512, 2048))\n",
        "  x = res_identity(x, filters=(512, 2048))\n",
        "\n",
        "  # ends with average pooling and dense connection\n",
        "\n",
        "  x = AveragePooling2D((2, 2), padding='same')(x)\n",
        "\n",
        "  x = Flatten()(x)\n",
        "  x = Dense(len(class_types), activation='softmax', kernel_initializer='he_normal')(x) #multi-class\n",
        "\n",
        "  # define the model \n",
        "\n",
        "  model = Model(inputs=input_im, outputs=x, name='Resnet50')\n",
        "\n",
        "  return model"
      ],
      "metadata": {
        "id": "Bp5MJnz2gGgz"
      },
      "execution_count": null,
      "outputs": []
    },
    {
      "cell_type": "code",
      "source": [
        "### Define some Callbacks\n",
        "def lrdecay(epoch):\n",
        "    lr = 1e-3\n",
        "    if epoch > 180:\n",
        "        lr *= 0.5e-3\n",
        "    elif epoch > 160:\n",
        "        lr *= 1e-3\n",
        "    elif epoch > 120:\n",
        "        lr *= 1e-2\n",
        "    elif epoch > 80:\n",
        "        lr *= 1e-1\n",
        "    #print('Learning rate: ', lr)\n",
        "    return lr\n",
        "  # if epoch < 40:\n",
        "  #   return 0.01\n",
        "  # else:\n",
        "  #   return 0.01 * np.math.exp(0.03 * (40 - epoch))\n",
        "lrdecay = tf.keras.callbacks.LearningRateScheduler(lrdecay) # learning rate decay  \n",
        "\n",
        "\n",
        "def earlystop(mode):\n",
        "  if mode=='acc':\n",
        "    estop = tf.keras.callbacks.EarlyStopping(monitor='val_acc', patience=15, mode='max')\n",
        "  elif mode=='loss':\n",
        "    estop = tf.keras.callbacks.EarlyStopping(monitor='val_loss', patience=15, mode='min')\n",
        "  return estop    "
      ],
      "metadata": {
        "id": "MJiYq7eZuqME"
      },
      "execution_count": null,
      "outputs": []
    },
    {
      "cell_type": "code",
      "source": [
        "resnet50_model = resnet50()"
      ],
      "metadata": {
        "id": "7nEBPGfmurIC"
      },
      "execution_count": null,
      "outputs": []
    },
    {
      "cell_type": "code",
      "source": [
        "resnet50_model.summary()"
      ],
      "metadata": {
        "colab": {
          "base_uri": "https://localhost:8080/"
        },
        "id": "Kl1r285our2x",
        "outputId": "76932149-0044-4181-a11e-d359c08f69c2"
      },
      "execution_count": null,
      "outputs": [
        {
          "output_type": "stream",
          "name": "stdout",
          "text": [
            "Model: \"Resnet50\"\n",
            "__________________________________________________________________________________________________\n",
            " Layer (type)                   Output Shape         Param #     Connected to                     \n",
            "==================================================================================================\n",
            " input_4 (InputLayer)           [(None, 32, 32, 3)]  0           []                               \n",
            "                                                                                                  \n",
            " zero_padding2d (ZeroPadding2D)  (None, 38, 38, 3)   0           ['input_4[0][0]']                \n",
            "                                                                                                  \n",
            " conv2d_98 (Conv2D)             (None, 16, 16, 64)   9472        ['zero_padding2d[0][0]']         \n",
            "                                                                                                  \n",
            " batch_normalization_30 (BatchN  (None, 16, 16, 64)  256         ['conv2d_98[0][0]']              \n",
            " ormalization)                                                                                    \n",
            "                                                                                                  \n",
            " activation_31 (Activation)     (None, 16, 16, 64)   0           ['batch_normalization_30[0][0]'] \n",
            "                                                                                                  \n",
            " max_pooling2d_24 (MaxPooling2D  (None, 7, 7, 64)    0           ['activation_31[0][0]']          \n",
            " )                                                                                                \n",
            "                                                                                                  \n",
            " conv2d_99 (Conv2D)             (None, 7, 7, 64)     4160        ['max_pooling2d_24[0][0]']       \n",
            "                                                                                                  \n",
            " batch_normalization_31 (BatchN  (None, 7, 7, 64)    256         ['conv2d_99[0][0]']              \n",
            " ormalization)                                                                                    \n",
            "                                                                                                  \n",
            " activation_32 (Activation)     (None, 7, 7, 64)     0           ['batch_normalization_31[0][0]'] \n",
            "                                                                                                  \n",
            " conv2d_100 (Conv2D)            (None, 7, 7, 64)     36928       ['activation_32[0][0]']          \n",
            "                                                                                                  \n",
            " batch_normalization_32 (BatchN  (None, 7, 7, 64)    256         ['conv2d_100[0][0]']             \n",
            " ormalization)                                                                                    \n",
            "                                                                                                  \n",
            " activation_33 (Activation)     (None, 7, 7, 64)     0           ['batch_normalization_32[0][0]'] \n",
            "                                                                                                  \n",
            " conv2d_101 (Conv2D)            (None, 7, 7, 256)    16640       ['activation_33[0][0]']          \n",
            "                                                                                                  \n",
            " conv2d_102 (Conv2D)            (None, 7, 7, 256)    16640       ['max_pooling2d_24[0][0]']       \n",
            "                                                                                                  \n",
            " batch_normalization_33 (BatchN  (None, 7, 7, 256)   1024        ['conv2d_101[0][0]']             \n",
            " ormalization)                                                                                    \n",
            "                                                                                                  \n",
            " batch_normalization_34 (BatchN  (None, 7, 7, 256)   1024        ['conv2d_102[0][0]']             \n",
            " ormalization)                                                                                    \n",
            "                                                                                                  \n",
            " add (Add)                      (None, 7, 7, 256)    0           ['batch_normalization_33[0][0]', \n",
            "                                                                  'batch_normalization_34[0][0]'] \n",
            "                                                                                                  \n",
            " activation_34 (Activation)     (None, 7, 7, 256)    0           ['add[0][0]']                    \n",
            "                                                                                                  \n",
            " conv2d_103 (Conv2D)            (None, 7, 7, 64)     16448       ['activation_34[0][0]']          \n",
            "                                                                                                  \n",
            " batch_normalization_35 (BatchN  (None, 7, 7, 64)    256         ['conv2d_103[0][0]']             \n",
            " ormalization)                                                                                    \n",
            "                                                                                                  \n",
            " activation_35 (Activation)     (None, 7, 7, 64)     0           ['batch_normalization_35[0][0]'] \n",
            "                                                                                                  \n",
            " conv2d_104 (Conv2D)            (None, 7, 7, 64)     36928       ['activation_35[0][0]']          \n",
            "                                                                                                  \n",
            " batch_normalization_36 (BatchN  (None, 7, 7, 64)    256         ['conv2d_104[0][0]']             \n",
            " ormalization)                                                                                    \n",
            "                                                                                                  \n",
            " activation_36 (Activation)     (None, 7, 7, 64)     0           ['batch_normalization_36[0][0]'] \n",
            "                                                                                                  \n",
            " conv2d_105 (Conv2D)            (None, 7, 7, 256)    16640       ['activation_36[0][0]']          \n",
            "                                                                                                  \n",
            " batch_normalization_37 (BatchN  (None, 7, 7, 256)   1024        ['conv2d_105[0][0]']             \n",
            " ormalization)                                                                                    \n",
            "                                                                                                  \n",
            " add_1 (Add)                    (None, 7, 7, 256)    0           ['batch_normalization_37[0][0]', \n",
            "                                                                  'activation_34[0][0]']          \n",
            "                                                                                                  \n",
            " activation_37 (Activation)     (None, 7, 7, 256)    0           ['add_1[0][0]']                  \n",
            "                                                                                                  \n",
            " conv2d_106 (Conv2D)            (None, 7, 7, 64)     16448       ['activation_37[0][0]']          \n",
            "                                                                                                  \n",
            " batch_normalization_38 (BatchN  (None, 7, 7, 64)    256         ['conv2d_106[0][0]']             \n",
            " ormalization)                                                                                    \n",
            "                                                                                                  \n",
            " activation_38 (Activation)     (None, 7, 7, 64)     0           ['batch_normalization_38[0][0]'] \n",
            "                                                                                                  \n",
            " conv2d_107 (Conv2D)            (None, 7, 7, 64)     36928       ['activation_38[0][0]']          \n",
            "                                                                                                  \n",
            " batch_normalization_39 (BatchN  (None, 7, 7, 64)    256         ['conv2d_107[0][0]']             \n",
            " ormalization)                                                                                    \n",
            "                                                                                                  \n",
            " activation_39 (Activation)     (None, 7, 7, 64)     0           ['batch_normalization_39[0][0]'] \n",
            "                                                                                                  \n",
            " conv2d_108 (Conv2D)            (None, 7, 7, 256)    16640       ['activation_39[0][0]']          \n",
            "                                                                                                  \n",
            " batch_normalization_40 (BatchN  (None, 7, 7, 256)   1024        ['conv2d_108[0][0]']             \n",
            " ormalization)                                                                                    \n",
            "                                                                                                  \n",
            " add_2 (Add)                    (None, 7, 7, 256)    0           ['batch_normalization_40[0][0]', \n",
            "                                                                  'activation_37[0][0]']          \n",
            "                                                                                                  \n",
            " activation_40 (Activation)     (None, 7, 7, 256)    0           ['add_2[0][0]']                  \n",
            "                                                                                                  \n",
            " conv2d_109 (Conv2D)            (None, 4, 4, 128)    32896       ['activation_40[0][0]']          \n",
            "                                                                                                  \n",
            " batch_normalization_41 (BatchN  (None, 4, 4, 128)   512         ['conv2d_109[0][0]']             \n",
            " ormalization)                                                                                    \n",
            "                                                                                                  \n",
            " activation_41 (Activation)     (None, 4, 4, 128)    0           ['batch_normalization_41[0][0]'] \n",
            "                                                                                                  \n",
            " conv2d_110 (Conv2D)            (None, 4, 4, 128)    147584      ['activation_41[0][0]']          \n",
            "                                                                                                  \n",
            " batch_normalization_42 (BatchN  (None, 4, 4, 128)   512         ['conv2d_110[0][0]']             \n",
            " ormalization)                                                                                    \n",
            "                                                                                                  \n",
            " activation_42 (Activation)     (None, 4, 4, 128)    0           ['batch_normalization_42[0][0]'] \n",
            "                                                                                                  \n",
            " conv2d_111 (Conv2D)            (None, 4, 4, 512)    66048       ['activation_42[0][0]']          \n",
            "                                                                                                  \n",
            " conv2d_112 (Conv2D)            (None, 4, 4, 512)    131584      ['activation_40[0][0]']          \n",
            "                                                                                                  \n",
            " batch_normalization_43 (BatchN  (None, 4, 4, 512)   2048        ['conv2d_111[0][0]']             \n",
            " ormalization)                                                                                    \n",
            "                                                                                                  \n",
            " batch_normalization_44 (BatchN  (None, 4, 4, 512)   2048        ['conv2d_112[0][0]']             \n",
            " ormalization)                                                                                    \n",
            "                                                                                                  \n",
            " add_3 (Add)                    (None, 4, 4, 512)    0           ['batch_normalization_43[0][0]', \n",
            "                                                                  'batch_normalization_44[0][0]'] \n",
            "                                                                                                  \n",
            " activation_43 (Activation)     (None, 4, 4, 512)    0           ['add_3[0][0]']                  \n",
            "                                                                                                  \n",
            " conv2d_113 (Conv2D)            (None, 4, 4, 128)    65664       ['activation_43[0][0]']          \n",
            "                                                                                                  \n",
            " batch_normalization_45 (BatchN  (None, 4, 4, 128)   512         ['conv2d_113[0][0]']             \n",
            " ormalization)                                                                                    \n",
            "                                                                                                  \n",
            " activation_44 (Activation)     (None, 4, 4, 128)    0           ['batch_normalization_45[0][0]'] \n",
            "                                                                                                  \n",
            " conv2d_114 (Conv2D)            (None, 4, 4, 128)    147584      ['activation_44[0][0]']          \n",
            "                                                                                                  \n",
            " batch_normalization_46 (BatchN  (None, 4, 4, 128)   512         ['conv2d_114[0][0]']             \n",
            " ormalization)                                                                                    \n",
            "                                                                                                  \n",
            " activation_45 (Activation)     (None, 4, 4, 128)    0           ['batch_normalization_46[0][0]'] \n",
            "                                                                                                  \n",
            " conv2d_115 (Conv2D)            (None, 4, 4, 512)    66048       ['activation_45[0][0]']          \n",
            "                                                                                                  \n",
            " batch_normalization_47 (BatchN  (None, 4, 4, 512)   2048        ['conv2d_115[0][0]']             \n",
            " ormalization)                                                                                    \n",
            "                                                                                                  \n",
            " add_4 (Add)                    (None, 4, 4, 512)    0           ['batch_normalization_47[0][0]', \n",
            "                                                                  'activation_43[0][0]']          \n",
            "                                                                                                  \n",
            " activation_46 (Activation)     (None, 4, 4, 512)    0           ['add_4[0][0]']                  \n",
            "                                                                                                  \n",
            " conv2d_116 (Conv2D)            (None, 4, 4, 128)    65664       ['activation_46[0][0]']          \n",
            "                                                                                                  \n",
            " batch_normalization_48 (BatchN  (None, 4, 4, 128)   512         ['conv2d_116[0][0]']             \n",
            " ormalization)                                                                                    \n",
            "                                                                                                  \n",
            " activation_47 (Activation)     (None, 4, 4, 128)    0           ['batch_normalization_48[0][0]'] \n",
            "                                                                                                  \n",
            " conv2d_117 (Conv2D)            (None, 4, 4, 128)    147584      ['activation_47[0][0]']          \n",
            "                                                                                                  \n",
            " batch_normalization_49 (BatchN  (None, 4, 4, 128)   512         ['conv2d_117[0][0]']             \n",
            " ormalization)                                                                                    \n",
            "                                                                                                  \n",
            " activation_48 (Activation)     (None, 4, 4, 128)    0           ['batch_normalization_49[0][0]'] \n",
            "                                                                                                  \n",
            " conv2d_118 (Conv2D)            (None, 4, 4, 512)    66048       ['activation_48[0][0]']          \n",
            "                                                                                                  \n",
            " batch_normalization_50 (BatchN  (None, 4, 4, 512)   2048        ['conv2d_118[0][0]']             \n",
            " ormalization)                                                                                    \n",
            "                                                                                                  \n",
            " add_5 (Add)                    (None, 4, 4, 512)    0           ['batch_normalization_50[0][0]', \n",
            "                                                                  'activation_46[0][0]']          \n",
            "                                                                                                  \n",
            " activation_49 (Activation)     (None, 4, 4, 512)    0           ['add_5[0][0]']                  \n",
            "                                                                                                  \n",
            " conv2d_119 (Conv2D)            (None, 4, 4, 128)    65664       ['activation_49[0][0]']          \n",
            "                                                                                                  \n",
            " batch_normalization_51 (BatchN  (None, 4, 4, 128)   512         ['conv2d_119[0][0]']             \n",
            " ormalization)                                                                                    \n",
            "                                                                                                  \n",
            " activation_50 (Activation)     (None, 4, 4, 128)    0           ['batch_normalization_51[0][0]'] \n",
            "                                                                                                  \n",
            " conv2d_120 (Conv2D)            (None, 4, 4, 128)    147584      ['activation_50[0][0]']          \n",
            "                                                                                                  \n",
            " batch_normalization_52 (BatchN  (None, 4, 4, 128)   512         ['conv2d_120[0][0]']             \n",
            " ormalization)                                                                                    \n",
            "                                                                                                  \n",
            " activation_51 (Activation)     (None, 4, 4, 128)    0           ['batch_normalization_52[0][0]'] \n",
            "                                                                                                  \n",
            " conv2d_121 (Conv2D)            (None, 4, 4, 512)    66048       ['activation_51[0][0]']          \n",
            "                                                                                                  \n",
            " batch_normalization_53 (BatchN  (None, 4, 4, 512)   2048        ['conv2d_121[0][0]']             \n",
            " ormalization)                                                                                    \n",
            "                                                                                                  \n",
            " add_6 (Add)                    (None, 4, 4, 512)    0           ['batch_normalization_53[0][0]', \n",
            "                                                                  'activation_49[0][0]']          \n",
            "                                                                                                  \n",
            " activation_52 (Activation)     (None, 4, 4, 512)    0           ['add_6[0][0]']                  \n",
            "                                                                                                  \n",
            " conv2d_122 (Conv2D)            (None, 2, 2, 256)    131328      ['activation_52[0][0]']          \n",
            "                                                                                                  \n",
            " batch_normalization_54 (BatchN  (None, 2, 2, 256)   1024        ['conv2d_122[0][0]']             \n",
            " ormalization)                                                                                    \n",
            "                                                                                                  \n",
            " activation_53 (Activation)     (None, 2, 2, 256)    0           ['batch_normalization_54[0][0]'] \n",
            "                                                                                                  \n",
            " conv2d_123 (Conv2D)            (None, 2, 2, 256)    590080      ['activation_53[0][0]']          \n",
            "                                                                                                  \n",
            " batch_normalization_55 (BatchN  (None, 2, 2, 256)   1024        ['conv2d_123[0][0]']             \n",
            " ormalization)                                                                                    \n",
            "                                                                                                  \n",
            " activation_54 (Activation)     (None, 2, 2, 256)    0           ['batch_normalization_55[0][0]'] \n",
            "                                                                                                  \n",
            " conv2d_124 (Conv2D)            (None, 2, 2, 1024)   263168      ['activation_54[0][0]']          \n",
            "                                                                                                  \n",
            " conv2d_125 (Conv2D)            (None, 2, 2, 1024)   525312      ['activation_52[0][0]']          \n",
            "                                                                                                  \n",
            " batch_normalization_56 (BatchN  (None, 2, 2, 1024)  4096        ['conv2d_124[0][0]']             \n",
            " ormalization)                                                                                    \n",
            "                                                                                                  \n",
            " batch_normalization_57 (BatchN  (None, 2, 2, 1024)  4096        ['conv2d_125[0][0]']             \n",
            " ormalization)                                                                                    \n",
            "                                                                                                  \n",
            " add_7 (Add)                    (None, 2, 2, 1024)   0           ['batch_normalization_56[0][0]', \n",
            "                                                                  'batch_normalization_57[0][0]'] \n",
            "                                                                                                  \n",
            " activation_55 (Activation)     (None, 2, 2, 1024)   0           ['add_7[0][0]']                  \n",
            "                                                                                                  \n",
            " conv2d_126 (Conv2D)            (None, 2, 2, 256)    262400      ['activation_55[0][0]']          \n",
            "                                                                                                  \n",
            " batch_normalization_58 (BatchN  (None, 2, 2, 256)   1024        ['conv2d_126[0][0]']             \n",
            " ormalization)                                                                                    \n",
            "                                                                                                  \n",
            " activation_56 (Activation)     (None, 2, 2, 256)    0           ['batch_normalization_58[0][0]'] \n",
            "                                                                                                  \n",
            " conv2d_127 (Conv2D)            (None, 2, 2, 256)    590080      ['activation_56[0][0]']          \n",
            "                                                                                                  \n",
            " batch_normalization_59 (BatchN  (None, 2, 2, 256)   1024        ['conv2d_127[0][0]']             \n",
            " ormalization)                                                                                    \n",
            "                                                                                                  \n",
            " activation_57 (Activation)     (None, 2, 2, 256)    0           ['batch_normalization_59[0][0]'] \n",
            "                                                                                                  \n",
            " conv2d_128 (Conv2D)            (None, 2, 2, 1024)   263168      ['activation_57[0][0]']          \n",
            "                                                                                                  \n",
            " batch_normalization_60 (BatchN  (None, 2, 2, 1024)  4096        ['conv2d_128[0][0]']             \n",
            " ormalization)                                                                                    \n",
            "                                                                                                  \n",
            " add_8 (Add)                    (None, 2, 2, 1024)   0           ['batch_normalization_60[0][0]', \n",
            "                                                                  'activation_55[0][0]']          \n",
            "                                                                                                  \n",
            " activation_58 (Activation)     (None, 2, 2, 1024)   0           ['add_8[0][0]']                  \n",
            "                                                                                                  \n",
            " conv2d_129 (Conv2D)            (None, 2, 2, 256)    262400      ['activation_58[0][0]']          \n",
            "                                                                                                  \n",
            " batch_normalization_61 (BatchN  (None, 2, 2, 256)   1024        ['conv2d_129[0][0]']             \n",
            " ormalization)                                                                                    \n",
            "                                                                                                  \n",
            " activation_59 (Activation)     (None, 2, 2, 256)    0           ['batch_normalization_61[0][0]'] \n",
            "                                                                                                  \n",
            " conv2d_130 (Conv2D)            (None, 2, 2, 256)    590080      ['activation_59[0][0]']          \n",
            "                                                                                                  \n",
            " batch_normalization_62 (BatchN  (None, 2, 2, 256)   1024        ['conv2d_130[0][0]']             \n",
            " ormalization)                                                                                    \n",
            "                                                                                                  \n",
            " activation_60 (Activation)     (None, 2, 2, 256)    0           ['batch_normalization_62[0][0]'] \n",
            "                                                                                                  \n",
            " conv2d_131 (Conv2D)            (None, 2, 2, 1024)   263168      ['activation_60[0][0]']          \n",
            "                                                                                                  \n",
            " batch_normalization_63 (BatchN  (None, 2, 2, 1024)  4096        ['conv2d_131[0][0]']             \n",
            " ormalization)                                                                                    \n",
            "                                                                                                  \n",
            " add_9 (Add)                    (None, 2, 2, 1024)   0           ['batch_normalization_63[0][0]', \n",
            "                                                                  'activation_58[0][0]']          \n",
            "                                                                                                  \n",
            " activation_61 (Activation)     (None, 2, 2, 1024)   0           ['add_9[0][0]']                  \n",
            "                                                                                                  \n",
            " conv2d_132 (Conv2D)            (None, 2, 2, 256)    262400      ['activation_61[0][0]']          \n",
            "                                                                                                  \n",
            " batch_normalization_64 (BatchN  (None, 2, 2, 256)   1024        ['conv2d_132[0][0]']             \n",
            " ormalization)                                                                                    \n",
            "                                                                                                  \n",
            " activation_62 (Activation)     (None, 2, 2, 256)    0           ['batch_normalization_64[0][0]'] \n",
            "                                                                                                  \n",
            " conv2d_133 (Conv2D)            (None, 2, 2, 256)    590080      ['activation_62[0][0]']          \n",
            "                                                                                                  \n",
            " batch_normalization_65 (BatchN  (None, 2, 2, 256)   1024        ['conv2d_133[0][0]']             \n",
            " ormalization)                                                                                    \n",
            "                                                                                                  \n",
            " activation_63 (Activation)     (None, 2, 2, 256)    0           ['batch_normalization_65[0][0]'] \n",
            "                                                                                                  \n",
            " conv2d_134 (Conv2D)            (None, 2, 2, 1024)   263168      ['activation_63[0][0]']          \n",
            "                                                                                                  \n",
            " batch_normalization_66 (BatchN  (None, 2, 2, 1024)  4096        ['conv2d_134[0][0]']             \n",
            " ormalization)                                                                                    \n",
            "                                                                                                  \n",
            " add_10 (Add)                   (None, 2, 2, 1024)   0           ['batch_normalization_66[0][0]', \n",
            "                                                                  'activation_61[0][0]']          \n",
            "                                                                                                  \n",
            " activation_64 (Activation)     (None, 2, 2, 1024)   0           ['add_10[0][0]']                 \n",
            "                                                                                                  \n",
            " conv2d_135 (Conv2D)            (None, 2, 2, 256)    262400      ['activation_64[0][0]']          \n",
            "                                                                                                  \n",
            " batch_normalization_67 (BatchN  (None, 2, 2, 256)   1024        ['conv2d_135[0][0]']             \n",
            " ormalization)                                                                                    \n",
            "                                                                                                  \n",
            " activation_65 (Activation)     (None, 2, 2, 256)    0           ['batch_normalization_67[0][0]'] \n",
            "                                                                                                  \n",
            " conv2d_136 (Conv2D)            (None, 2, 2, 256)    590080      ['activation_65[0][0]']          \n",
            "                                                                                                  \n",
            " batch_normalization_68 (BatchN  (None, 2, 2, 256)   1024        ['conv2d_136[0][0]']             \n",
            " ormalization)                                                                                    \n",
            "                                                                                                  \n",
            " activation_66 (Activation)     (None, 2, 2, 256)    0           ['batch_normalization_68[0][0]'] \n",
            "                                                                                                  \n",
            " conv2d_137 (Conv2D)            (None, 2, 2, 1024)   263168      ['activation_66[0][0]']          \n",
            "                                                                                                  \n",
            " batch_normalization_69 (BatchN  (None, 2, 2, 1024)  4096        ['conv2d_137[0][0]']             \n",
            " ormalization)                                                                                    \n",
            "                                                                                                  \n",
            " add_11 (Add)                   (None, 2, 2, 1024)   0           ['batch_normalization_69[0][0]', \n",
            "                                                                  'activation_64[0][0]']          \n",
            "                                                                                                  \n",
            " activation_67 (Activation)     (None, 2, 2, 1024)   0           ['add_11[0][0]']                 \n",
            "                                                                                                  \n",
            " conv2d_138 (Conv2D)            (None, 2, 2, 256)    262400      ['activation_67[0][0]']          \n",
            "                                                                                                  \n",
            " batch_normalization_70 (BatchN  (None, 2, 2, 256)   1024        ['conv2d_138[0][0]']             \n",
            " ormalization)                                                                                    \n",
            "                                                                                                  \n",
            " activation_68 (Activation)     (None, 2, 2, 256)    0           ['batch_normalization_70[0][0]'] \n",
            "                                                                                                  \n",
            " conv2d_139 (Conv2D)            (None, 2, 2, 256)    590080      ['activation_68[0][0]']          \n",
            "                                                                                                  \n",
            " batch_normalization_71 (BatchN  (None, 2, 2, 256)   1024        ['conv2d_139[0][0]']             \n",
            " ormalization)                                                                                    \n",
            "                                                                                                  \n",
            " activation_69 (Activation)     (None, 2, 2, 256)    0           ['batch_normalization_71[0][0]'] \n",
            "                                                                                                  \n",
            " conv2d_140 (Conv2D)            (None, 2, 2, 1024)   263168      ['activation_69[0][0]']          \n",
            "                                                                                                  \n",
            " batch_normalization_72 (BatchN  (None, 2, 2, 1024)  4096        ['conv2d_140[0][0]']             \n",
            " ormalization)                                                                                    \n",
            "                                                                                                  \n",
            " add_12 (Add)                   (None, 2, 2, 1024)   0           ['batch_normalization_72[0][0]', \n",
            "                                                                  'activation_67[0][0]']          \n",
            "                                                                                                  \n",
            " activation_70 (Activation)     (None, 2, 2, 1024)   0           ['add_12[0][0]']                 \n",
            "                                                                                                  \n",
            " conv2d_141 (Conv2D)            (None, 1, 1, 512)    524800      ['activation_70[0][0]']          \n",
            "                                                                                                  \n",
            " batch_normalization_73 (BatchN  (None, 1, 1, 512)   2048        ['conv2d_141[0][0]']             \n",
            " ormalization)                                                                                    \n",
            "                                                                                                  \n",
            " activation_71 (Activation)     (None, 1, 1, 512)    0           ['batch_normalization_73[0][0]'] \n",
            "                                                                                                  \n",
            " conv2d_142 (Conv2D)            (None, 1, 1, 512)    2359808     ['activation_71[0][0]']          \n",
            "                                                                                                  \n",
            " batch_normalization_74 (BatchN  (None, 1, 1, 512)   2048        ['conv2d_142[0][0]']             \n",
            " ormalization)                                                                                    \n",
            "                                                                                                  \n",
            " activation_72 (Activation)     (None, 1, 1, 512)    0           ['batch_normalization_74[0][0]'] \n",
            "                                                                                                  \n",
            " conv2d_143 (Conv2D)            (None, 1, 1, 2048)   1050624     ['activation_72[0][0]']          \n",
            "                                                                                                  \n",
            " conv2d_144 (Conv2D)            (None, 1, 1, 2048)   2099200     ['activation_70[0][0]']          \n",
            "                                                                                                  \n",
            " batch_normalization_75 (BatchN  (None, 1, 1, 2048)  8192        ['conv2d_143[0][0]']             \n",
            " ormalization)                                                                                    \n",
            "                                                                                                  \n",
            " batch_normalization_76 (BatchN  (None, 1, 1, 2048)  8192        ['conv2d_144[0][0]']             \n",
            " ormalization)                                                                                    \n",
            "                                                                                                  \n",
            " add_13 (Add)                   (None, 1, 1, 2048)   0           ['batch_normalization_75[0][0]', \n",
            "                                                                  'batch_normalization_76[0][0]'] \n",
            "                                                                                                  \n",
            " activation_73 (Activation)     (None, 1, 1, 2048)   0           ['add_13[0][0]']                 \n",
            "                                                                                                  \n",
            " conv2d_145 (Conv2D)            (None, 1, 1, 512)    1049088     ['activation_73[0][0]']          \n",
            "                                                                                                  \n",
            " batch_normalization_77 (BatchN  (None, 1, 1, 512)   2048        ['conv2d_145[0][0]']             \n",
            " ormalization)                                                                                    \n",
            "                                                                                                  \n",
            " activation_74 (Activation)     (None, 1, 1, 512)    0           ['batch_normalization_77[0][0]'] \n",
            "                                                                                                  \n",
            " conv2d_146 (Conv2D)            (None, 1, 1, 512)    2359808     ['activation_74[0][0]']          \n",
            "                                                                                                  \n",
            " batch_normalization_78 (BatchN  (None, 1, 1, 512)   2048        ['conv2d_146[0][0]']             \n",
            " ormalization)                                                                                    \n",
            "                                                                                                  \n",
            " activation_75 (Activation)     (None, 1, 1, 512)    0           ['batch_normalization_78[0][0]'] \n",
            "                                                                                                  \n",
            " conv2d_147 (Conv2D)            (None, 1, 1, 2048)   1050624     ['activation_75[0][0]']          \n",
            "                                                                                                  \n",
            " batch_normalization_79 (BatchN  (None, 1, 1, 2048)  8192        ['conv2d_147[0][0]']             \n",
            " ormalization)                                                                                    \n",
            "                                                                                                  \n",
            " add_14 (Add)                   (None, 1, 1, 2048)   0           ['batch_normalization_79[0][0]', \n",
            "                                                                  'activation_73[0][0]']          \n",
            "                                                                                                  \n",
            " activation_76 (Activation)     (None, 1, 1, 2048)   0           ['add_14[0][0]']                 \n",
            "                                                                                                  \n",
            " conv2d_148 (Conv2D)            (None, 1, 1, 512)    1049088     ['activation_76[0][0]']          \n",
            "                                                                                                  \n",
            " batch_normalization_80 (BatchN  (None, 1, 1, 512)   2048        ['conv2d_148[0][0]']             \n",
            " ormalization)                                                                                    \n",
            "                                                                                                  \n",
            " activation_77 (Activation)     (None, 1, 1, 512)    0           ['batch_normalization_80[0][0]'] \n",
            "                                                                                                  \n",
            " conv2d_149 (Conv2D)            (None, 1, 1, 512)    2359808     ['activation_77[0][0]']          \n",
            "                                                                                                  \n",
            " batch_normalization_81 (BatchN  (None, 1, 1, 512)   2048        ['conv2d_149[0][0]']             \n",
            " ormalization)                                                                                    \n",
            "                                                                                                  \n",
            " activation_78 (Activation)     (None, 1, 1, 512)    0           ['batch_normalization_81[0][0]'] \n",
            "                                                                                                  \n",
            " conv2d_150 (Conv2D)            (None, 1, 1, 2048)   1050624     ['activation_78[0][0]']          \n",
            "                                                                                                  \n",
            " batch_normalization_82 (BatchN  (None, 1, 1, 2048)  8192        ['conv2d_150[0][0]']             \n",
            " ormalization)                                                                                    \n",
            "                                                                                                  \n",
            " add_15 (Add)                   (None, 1, 1, 2048)   0           ['batch_normalization_82[0][0]', \n",
            "                                                                  'activation_76[0][0]']          \n",
            "                                                                                                  \n",
            " activation_79 (Activation)     (None, 1, 1, 2048)   0           ['add_15[0][0]']                 \n",
            "                                                                                                  \n",
            " average_pooling2d_3 (AveragePo  (None, 1, 1, 2048)  0           ['activation_79[0][0]']          \n",
            " oling2D)                                                                                         \n",
            "                                                                                                  \n",
            " flatten_3 (Flatten)            (None, 2048)         0           ['average_pooling2d_3[0][0]']    \n",
            "                                                                                                  \n",
            " dense_6 (Dense)                (None, 10)           20490       ['flatten_3[0][0]']              \n",
            "                                                                                                  \n",
            "==================================================================================================\n",
            "Total params: 23,608,202\n",
            "Trainable params: 23,555,082\n",
            "Non-trainable params: 53,120\n",
            "__________________________________________________________________________________________________\n"
          ]
        }
      ]
    },
    {
      "cell_type": "code",
      "source": [
        "resnet50_model.compile(loss='categorical_crossentropy', optimizer=Adam(learning_rate=1e-3), \n",
        "                       metrics=['acc'])"
      ],
      "metadata": {
        "id": "Av8Jx9whushb"
      },
      "execution_count": null,
      "outputs": []
    },
    {
      "cell_type": "code",
      "source": [
        "batch_size=batch_size # test with 64, 128, 256\n",
        "\n",
        "resnet_train = resnet50_model.fit(train_set_conv, \n",
        "                                  epochs=160, \n",
        "                                  steps_per_epoch=train_im.shape[0]/batch_size, \n",
        "                                  validation_steps=valid_im.shape[0]/batch_size, \n",
        "                                  validation_data=valid_set_conv, \n",
        "                                  callbacks=[lrdecay])"
      ],
      "metadata": {
        "colab": {
          "base_uri": "https://localhost:8080/"
        },
        "id": "utJRpd8nuu1t",
        "outputId": "630e886c-1564-4bec-c18a-783700c04a35"
      },
      "execution_count": null,
      "outputs": [
        {
          "output_type": "stream",
          "name": "stdout",
          "text": [
            "Epoch 1/160\n",
            "625/625 [==============================] - 35s 44ms/step - loss: 14.7500 - acc: 0.3434 - val_loss: 10.4654 - val_acc: 0.2969 - lr: 0.0010\n",
            "Epoch 2/160\n",
            "625/625 [==============================] - 23s 37ms/step - loss: 7.9251 - acc: 0.3971 - val_loss: 6.2051 - val_acc: 0.3164 - lr: 0.0010\n",
            "Epoch 3/160\n",
            "625/625 [==============================] - 23s 37ms/step - loss: 5.6071 - acc: 0.3494 - val_loss: 4.8636 - val_acc: 0.3141 - lr: 0.0010\n",
            "Epoch 4/160\n",
            "625/625 [==============================] - 23s 37ms/step - loss: 4.4147 - acc: 0.4119 - val_loss: 4.1137 - val_acc: 0.3325 - lr: 0.0010\n",
            "Epoch 5/160\n",
            "625/625 [==============================] - 23s 36ms/step - loss: 4.1214 - acc: 0.3407 - val_loss: 3.6307 - val_acc: 0.3287 - lr: 0.0010\n",
            "Epoch 6/160\n",
            "625/625 [==============================] - 23s 36ms/step - loss: 3.7638 - acc: 0.3582 - val_loss: 18.1377 - val_acc: 0.1004 - lr: 0.0010\n",
            "Epoch 7/160\n",
            "625/625 [==============================] - 23s 37ms/step - loss: 3.6872 - acc: 0.3543 - val_loss: 29.2931 - val_acc: 0.1583 - lr: 0.0010\n",
            "Epoch 8/160\n",
            "625/625 [==============================] - 23s 37ms/step - loss: 3.3270 - acc: 0.3680 - val_loss: 5.0344 - val_acc: 0.2530 - lr: 0.0010\n",
            "Epoch 9/160\n",
            "625/625 [==============================] - 23s 37ms/step - loss: 3.5206 - acc: 0.3418 - val_loss: 150713.7500 - val_acc: 0.1001 - lr: 0.0010\n",
            "Epoch 10/160\n",
            "625/625 [==============================] - 23s 37ms/step - loss: 3.3802 - acc: 0.3442 - val_loss: 3.0214 - val_acc: 0.3315 - lr: 0.0010\n",
            "Epoch 11/160\n",
            "625/625 [==============================] - 23s 37ms/step - loss: 3.4245 - acc: 0.3503 - val_loss: 2.7806 - val_acc: 0.3072 - lr: 0.0010\n",
            "Epoch 12/160\n",
            "625/625 [==============================] - 23s 37ms/step - loss: 2.6200 - acc: 0.4062 - val_loss: 2.2261 - val_acc: 0.4151 - lr: 0.0010\n",
            "Epoch 13/160\n",
            "625/625 [==============================] - 23s 36ms/step - loss: 3.3419 - acc: 0.3771 - val_loss: 2.9584 - val_acc: 0.2747 - lr: 0.0010\n",
            "Epoch 14/160\n",
            "625/625 [==============================] - 23s 37ms/step - loss: 2.4053 - acc: 0.4274 - val_loss: 2.1093 - val_acc: 0.4400 - lr: 0.0010\n",
            "Epoch 15/160\n",
            "625/625 [==============================] - 23s 36ms/step - loss: 2.7109 - acc: 0.4093 - val_loss: 5.2693 - val_acc: 0.3105 - lr: 0.0010\n",
            "Epoch 16/160\n",
            "625/625 [==============================] - 23s 37ms/step - loss: 2.5093 - acc: 0.4187 - val_loss: 2.2033 - val_acc: 0.4552 - lr: 0.0010\n",
            "Epoch 17/160\n",
            "625/625 [==============================] - 23s 37ms/step - loss: 2.0682 - acc: 0.4606 - val_loss: 2.1109 - val_acc: 0.4203 - lr: 0.0010\n",
            "Epoch 18/160\n",
            "625/625 [==============================] - 23s 36ms/step - loss: 1.9729 - acc: 0.4786 - val_loss: 1.6632 - val_acc: 0.5304 - lr: 0.0010\n",
            "Epoch 19/160\n",
            "625/625 [==============================] - 23s 37ms/step - loss: 1.8225 - acc: 0.5044 - val_loss: 3.6714 - val_acc: 0.3183 - lr: 0.0010\n",
            "Epoch 20/160\n",
            "625/625 [==============================] - 23s 36ms/step - loss: 1.9355 - acc: 0.5062 - val_loss: 3.4176 - val_acc: 0.2889 - lr: 0.0010\n",
            "Epoch 21/160\n",
            "625/625 [==============================] - 23s 36ms/step - loss: 1.9723 - acc: 0.4958 - val_loss: 1.6478 - val_acc: 0.5206 - lr: 0.0010\n",
            "Epoch 22/160\n",
            "625/625 [==============================] - 23s 36ms/step - loss: 1.6484 - acc: 0.5472 - val_loss: 32815.9336 - val_acc: 0.1000 - lr: 0.0010\n",
            "Epoch 23/160\n",
            "625/625 [==============================] - 23s 36ms/step - loss: 1.6172 - acc: 0.5638 - val_loss: 9.7980 - val_acc: 0.4654 - lr: 0.0010\n",
            "Epoch 24/160\n",
            "625/625 [==============================] - 23s 36ms/step - loss: 1.5132 - acc: 0.5796 - val_loss: 1.4606 - val_acc: 0.5937 - lr: 0.0010\n",
            "Epoch 25/160\n",
            "625/625 [==============================] - 23s 37ms/step - loss: 1.5085 - acc: 0.5949 - val_loss: 1.3380 - val_acc: 0.6288 - lr: 0.0010\n",
            "Epoch 26/160\n",
            "625/625 [==============================] - 23s 37ms/step - loss: 1.3887 - acc: 0.6103 - val_loss: 1.9364 - val_acc: 0.4800 - lr: 0.0010\n",
            "Epoch 27/160\n",
            "625/625 [==============================] - 23s 37ms/step - loss: 1.3655 - acc: 0.6230 - val_loss: 1.4459 - val_acc: 0.5871 - lr: 0.0010\n",
            "Epoch 28/160\n",
            "625/625 [==============================] - 23s 37ms/step - loss: 1.3606 - acc: 0.6298 - val_loss: 1.8178 - val_acc: 0.5336 - lr: 0.0010\n",
            "Epoch 29/160\n",
            "625/625 [==============================] - 23s 36ms/step - loss: 1.3549 - acc: 0.6321 - val_loss: 1.3444 - val_acc: 0.6204 - lr: 0.0010\n",
            "Epoch 30/160\n",
            "625/625 [==============================] - 23s 37ms/step - loss: 1.2791 - acc: 0.6443 - val_loss: 1.5422 - val_acc: 0.5559 - lr: 0.0010\n",
            "Epoch 31/160\n",
            "625/625 [==============================] - 23s 37ms/step - loss: 1.2664 - acc: 0.6505 - val_loss: 1.2616 - val_acc: 0.6533 - lr: 0.0010\n",
            "Epoch 32/160\n",
            "625/625 [==============================] - 23s 36ms/step - loss: 1.2363 - acc: 0.6571 - val_loss: 1.4953 - val_acc: 0.6038 - lr: 0.0010\n",
            "Epoch 33/160\n",
            "625/625 [==============================] - 23s 37ms/step - loss: 1.2177 - acc: 0.6631 - val_loss: 1.2885 - val_acc: 0.6473 - lr: 0.0010\n",
            "Epoch 34/160\n",
            "625/625 [==============================] - 23s 37ms/step - loss: 1.2020 - acc: 0.6685 - val_loss: 1.1894 - val_acc: 0.6812 - lr: 0.0010\n",
            "Epoch 35/160\n",
            "625/625 [==============================] - 23s 37ms/step - loss: 1.1897 - acc: 0.6710 - val_loss: 1.1956 - val_acc: 0.6694 - lr: 0.0010\n",
            "Epoch 36/160\n",
            "625/625 [==============================] - 23s 37ms/step - loss: 1.1660 - acc: 0.6763 - val_loss: 1.2388 - val_acc: 0.6498 - lr: 0.0010\n",
            "Epoch 37/160\n",
            "625/625 [==============================] - 23s 37ms/step - loss: 1.1494 - acc: 0.6809 - val_loss: 2.6344 - val_acc: 0.4712 - lr: 0.0010\n",
            "Epoch 38/160\n",
            "625/625 [==============================] - 23s 37ms/step - loss: 1.1338 - acc: 0.6851 - val_loss: 1.3725 - val_acc: 0.6249 - lr: 0.0010\n",
            "Epoch 39/160\n",
            "625/625 [==============================] - 23s 36ms/step - loss: 1.1276 - acc: 0.6870 - val_loss: 1.0968 - val_acc: 0.7003 - lr: 0.0010\n",
            "Epoch 40/160\n",
            "625/625 [==============================] - 23s 36ms/step - loss: 1.1135 - acc: 0.6923 - val_loss: 1.9250 - val_acc: 0.5818 - lr: 0.0010\n",
            "Epoch 41/160\n",
            "625/625 [==============================] - 23s 36ms/step - loss: 1.0956 - acc: 0.6938 - val_loss: 1.2974 - val_acc: 0.6173 - lr: 0.0010\n",
            "Epoch 42/160\n",
            "625/625 [==============================] - 23s 36ms/step - loss: 1.0938 - acc: 0.7002 - val_loss: 1.1501 - val_acc: 0.6787 - lr: 0.0010\n",
            "Epoch 43/160\n",
            "625/625 [==============================] - 23s 37ms/step - loss: 1.0752 - acc: 0.7036 - val_loss: 1.2382 - val_acc: 0.6457 - lr: 0.0010\n",
            "Epoch 44/160\n",
            "625/625 [==============================] - 22s 36ms/step - loss: 1.0634 - acc: 0.7003 - val_loss: 1.0441 - val_acc: 0.7151 - lr: 0.0010\n",
            "Epoch 45/160\n",
            "625/625 [==============================] - 23s 36ms/step - loss: 1.0539 - acc: 0.7058 - val_loss: 1.5653 - val_acc: 0.5978 - lr: 0.0010\n",
            "Epoch 46/160\n",
            "625/625 [==============================] - 23s 37ms/step - loss: 1.0392 - acc: 0.7121 - val_loss: 1.0840 - val_acc: 0.6982 - lr: 0.0010\n",
            "Epoch 47/160\n",
            "625/625 [==============================] - 23s 36ms/step - loss: 1.0389 - acc: 0.7105 - val_loss: 1.0532 - val_acc: 0.7055 - lr: 0.0010\n",
            "Epoch 48/160\n",
            "625/625 [==============================] - 23s 36ms/step - loss: 1.0317 - acc: 0.7148 - val_loss: 1.1092 - val_acc: 0.6987 - lr: 0.0010\n",
            "Epoch 49/160\n",
            "625/625 [==============================] - 23s 36ms/step - loss: 1.0301 - acc: 0.7150 - val_loss: 1.1340 - val_acc: 0.6788 - lr: 0.0010\n",
            "Epoch 50/160\n",
            "625/625 [==============================] - 22s 36ms/step - loss: 1.0149 - acc: 0.7198 - val_loss: 1.0627 - val_acc: 0.7045 - lr: 0.0010\n",
            "Epoch 51/160\n",
            "625/625 [==============================] - 23s 37ms/step - loss: 1.0212 - acc: 0.7156 - val_loss: 1.1691 - val_acc: 0.6649 - lr: 0.0010\n",
            "Epoch 52/160\n",
            "625/625 [==============================] - 23s 36ms/step - loss: 0.9995 - acc: 0.7245 - val_loss: 1.2845 - val_acc: 0.6421 - lr: 0.0010\n",
            "Epoch 53/160\n",
            "625/625 [==============================] - 23s 36ms/step - loss: 0.9986 - acc: 0.7219 - val_loss: 1.0288 - val_acc: 0.7129 - lr: 0.0010\n",
            "Epoch 54/160\n",
            "625/625 [==============================] - 23s 36ms/step - loss: 1.0048 - acc: 0.7217 - val_loss: 1.8158 - val_acc: 0.5330 - lr: 0.0010\n",
            "Epoch 55/160\n",
            "625/625 [==============================] - 23s 36ms/step - loss: 0.9973 - acc: 0.7263 - val_loss: 1.0513 - val_acc: 0.7094 - lr: 0.0010\n",
            "Epoch 56/160\n",
            "625/625 [==============================] - 23s 36ms/step - loss: 0.9943 - acc: 0.7253 - val_loss: 1.0595 - val_acc: 0.7032 - lr: 0.0010\n",
            "Epoch 57/160\n",
            "625/625 [==============================] - 23s 36ms/step - loss: 0.9812 - acc: 0.7334 - val_loss: 1.1502 - val_acc: 0.6723 - lr: 0.0010\n",
            "Epoch 58/160\n",
            "625/625 [==============================] - 22s 36ms/step - loss: 0.9689 - acc: 0.7347 - val_loss: 0.9823 - val_acc: 0.7253 - lr: 0.0010\n",
            "Epoch 59/160\n",
            "625/625 [==============================] - 23s 36ms/step - loss: 0.9752 - acc: 0.7323 - val_loss: 1.1494 - val_acc: 0.6842 - lr: 0.0010\n",
            "Epoch 60/160\n",
            "625/625 [==============================] - 23s 36ms/step - loss: 0.9739 - acc: 0.7316 - val_loss: 1.0842 - val_acc: 0.7057 - lr: 0.0010\n",
            "Epoch 61/160\n",
            "625/625 [==============================] - 23s 36ms/step - loss: 0.9651 - acc: 0.7343 - val_loss: 1.0359 - val_acc: 0.7178 - lr: 0.0010\n",
            "Epoch 62/160\n",
            "625/625 [==============================] - 23s 36ms/step - loss: 0.9609 - acc: 0.7353 - val_loss: 0.9477 - val_acc: 0.7433 - lr: 0.0010\n",
            "Epoch 63/160\n",
            "625/625 [==============================] - 22s 36ms/step - loss: 0.9576 - acc: 0.7361 - val_loss: 1.0616 - val_acc: 0.7015 - lr: 0.0010\n",
            "Epoch 64/160\n",
            "625/625 [==============================] - 23s 36ms/step - loss: 0.9578 - acc: 0.7350 - val_loss: 1.0075 - val_acc: 0.7156 - lr: 0.0010\n",
            "Epoch 65/160\n",
            "625/625 [==============================] - 23s 36ms/step - loss: 0.9513 - acc: 0.7372 - val_loss: 1.1792 - val_acc: 0.6807 - lr: 0.0010\n",
            "Epoch 66/160\n",
            "625/625 [==============================] - 23s 36ms/step - loss: 0.9493 - acc: 0.7408 - val_loss: 1.0009 - val_acc: 0.7217 - lr: 0.0010\n",
            "Epoch 67/160\n",
            "625/625 [==============================] - 23s 36ms/step - loss: 0.9501 - acc: 0.7383 - val_loss: 0.9765 - val_acc: 0.7249 - lr: 0.0010\n",
            "Epoch 68/160\n",
            "625/625 [==============================] - 23s 36ms/step - loss: 0.9448 - acc: 0.7403 - val_loss: 1.1050 - val_acc: 0.6956 - lr: 0.0010\n",
            "Epoch 69/160\n",
            "625/625 [==============================] - 23s 36ms/step - loss: 0.9411 - acc: 0.7459 - val_loss: 1.2597 - val_acc: 0.6567 - lr: 0.0010\n",
            "Epoch 70/160\n",
            "625/625 [==============================] - 23s 36ms/step - loss: 0.9352 - acc: 0.7435 - val_loss: 1.0655 - val_acc: 0.6988 - lr: 0.0010\n",
            "Epoch 71/160\n",
            "625/625 [==============================] - 23s 36ms/step - loss: 0.9311 - acc: 0.7461 - val_loss: 1.0683 - val_acc: 0.7040 - lr: 0.0010\n",
            "Epoch 72/160\n",
            "625/625 [==============================] - 23s 37ms/step - loss: 0.9332 - acc: 0.7447 - val_loss: 1.1986 - val_acc: 0.6543 - lr: 0.0010\n",
            "Epoch 73/160\n",
            "625/625 [==============================] - 23s 36ms/step - loss: 0.9296 - acc: 0.7464 - val_loss: 0.9689 - val_acc: 0.7287 - lr: 0.0010\n",
            "Epoch 74/160\n",
            "625/625 [==============================] - 23s 36ms/step - loss: 0.9231 - acc: 0.7484 - val_loss: 1.1403 - val_acc: 0.6827 - lr: 0.0010\n",
            "Epoch 75/160\n",
            "625/625 [==============================] - 23s 36ms/step - loss: 0.9203 - acc: 0.7501 - val_loss: 1.1037 - val_acc: 0.6916 - lr: 0.0010\n",
            "Epoch 76/160\n",
            "625/625 [==============================] - 22s 35ms/step - loss: 0.9246 - acc: 0.7479 - val_loss: 0.9504 - val_acc: 0.7391 - lr: 0.0010\n",
            "Epoch 77/160\n",
            "625/625 [==============================] - 23s 36ms/step - loss: 0.9163 - acc: 0.7508 - val_loss: 1.1184 - val_acc: 0.6898 - lr: 0.0010\n",
            "Epoch 78/160\n",
            "625/625 [==============================] - 22s 35ms/step - loss: 0.9234 - acc: 0.7500 - val_loss: 1.1873 - val_acc: 0.6786 - lr: 0.0010\n",
            "Epoch 79/160\n",
            "625/625 [==============================] - 22s 35ms/step - loss: 0.9106 - acc: 0.7521 - val_loss: 1.0449 - val_acc: 0.7114 - lr: 0.0010\n",
            "Epoch 80/160\n",
            "625/625 [==============================] - 22s 35ms/step - loss: 0.9172 - acc: 0.7505 - val_loss: 1.1119 - val_acc: 0.6887 - lr: 0.0010\n",
            "Epoch 81/160\n",
            "625/625 [==============================] - 22s 35ms/step - loss: 0.9113 - acc: 0.7527 - val_loss: 1.0242 - val_acc: 0.7216 - lr: 0.0010\n",
            "Epoch 82/160\n",
            "625/625 [==============================] - 22s 35ms/step - loss: 0.8068 - acc: 0.7881 - val_loss: 0.7830 - val_acc: 0.7921 - lr: 1.0000e-04\n",
            "Epoch 83/160\n",
            "625/625 [==============================] - 22s 35ms/step - loss: 0.7693 - acc: 0.7969 - val_loss: 0.7681 - val_acc: 0.7963 - lr: 1.0000e-04\n",
            "Epoch 84/160\n",
            "625/625 [==============================] - 21s 34ms/step - loss: 0.7445 - acc: 0.8047 - val_loss: 0.7567 - val_acc: 0.8016 - lr: 1.0000e-04\n",
            "Epoch 85/160\n",
            "625/625 [==============================] - 22s 35ms/step - loss: 0.7390 - acc: 0.8059 - val_loss: 0.7436 - val_acc: 0.7988 - lr: 1.0000e-04\n",
            "Epoch 86/160\n",
            "625/625 [==============================] - 22s 36ms/step - loss: 0.7247 - acc: 0.8085 - val_loss: 0.7633 - val_acc: 0.7906 - lr: 1.0000e-04\n",
            "Epoch 87/160\n",
            "625/625 [==============================] - 22s 35ms/step - loss: 0.7175 - acc: 0.8088 - val_loss: 0.7172 - val_acc: 0.8076 - lr: 1.0000e-04\n",
            "Epoch 88/160\n",
            "625/625 [==============================] - 22s 36ms/step - loss: 0.7073 - acc: 0.8115 - val_loss: 0.7281 - val_acc: 0.8063 - lr: 1.0000e-04\n",
            "Epoch 89/160\n",
            "625/625 [==============================] - 22s 35ms/step - loss: 0.6966 - acc: 0.8157 - val_loss: 0.7327 - val_acc: 0.7996 - lr: 1.0000e-04\n",
            "Epoch 90/160\n",
            "625/625 [==============================] - 22s 35ms/step - loss: 0.6881 - acc: 0.8179 - val_loss: 0.7101 - val_acc: 0.8122 - lr: 1.0000e-04\n",
            "Epoch 91/160\n",
            "625/625 [==============================] - 22s 35ms/step - loss: 0.6816 - acc: 0.8198 - val_loss: 0.7292 - val_acc: 0.8043 - lr: 1.0000e-04\n",
            "Epoch 92/160\n",
            "625/625 [==============================] - 22s 35ms/step - loss: 0.6742 - acc: 0.8196 - val_loss: 0.6981 - val_acc: 0.8114 - lr: 1.0000e-04\n",
            "Epoch 93/160\n",
            "625/625 [==============================] - 22s 35ms/step - loss: 0.6701 - acc: 0.8200 - val_loss: 0.7096 - val_acc: 0.8051 - lr: 1.0000e-04\n",
            "Epoch 94/160\n",
            "625/625 [==============================] - 22s 35ms/step - loss: 0.6656 - acc: 0.8211 - val_loss: 0.6747 - val_acc: 0.8200 - lr: 1.0000e-04\n",
            "Epoch 95/160\n",
            "625/625 [==============================] - 22s 36ms/step - loss: 0.6592 - acc: 0.8224 - val_loss: 0.6886 - val_acc: 0.8164 - lr: 1.0000e-04\n",
            "Epoch 96/160\n",
            "625/625 [==============================] - 22s 35ms/step - loss: 0.6520 - acc: 0.8247 - val_loss: 0.6778 - val_acc: 0.8216 - lr: 1.0000e-04\n",
            "Epoch 97/160\n",
            "625/625 [==============================] - 22s 35ms/step - loss: 0.6524 - acc: 0.8238 - val_loss: 0.7128 - val_acc: 0.8081 - lr: 1.0000e-04\n",
            "Epoch 98/160\n",
            "625/625 [==============================] - 22s 35ms/step - loss: 0.6520 - acc: 0.8235 - val_loss: 0.7104 - val_acc: 0.8063 - lr: 1.0000e-04\n",
            "Epoch 99/160\n",
            "625/625 [==============================] - 22s 35ms/step - loss: 0.6391 - acc: 0.8278 - val_loss: 0.6716 - val_acc: 0.8174 - lr: 1.0000e-04\n",
            "Epoch 100/160\n",
            "625/625 [==============================] - 22s 34ms/step - loss: 0.6410 - acc: 0.8251 - val_loss: 0.6763 - val_acc: 0.8141 - lr: 1.0000e-04\n",
            "Epoch 101/160\n",
            "625/625 [==============================] - 22s 35ms/step - loss: 0.6332 - acc: 0.8271 - val_loss: 0.6834 - val_acc: 0.8105 - lr: 1.0000e-04\n",
            "Epoch 102/160\n",
            "625/625 [==============================] - 22s 35ms/step - loss: 0.6327 - acc: 0.8275 - val_loss: 0.6887 - val_acc: 0.8085 - lr: 1.0000e-04\n",
            "Epoch 103/160\n",
            "625/625 [==============================] - 22s 35ms/step - loss: 0.6262 - acc: 0.8305 - val_loss: 0.6603 - val_acc: 0.8195 - lr: 1.0000e-04\n",
            "Epoch 104/160\n",
            "625/625 [==============================] - 22s 35ms/step - loss: 0.6249 - acc: 0.8289 - val_loss: 0.6682 - val_acc: 0.8155 - lr: 1.0000e-04\n",
            "Epoch 105/160\n",
            "625/625 [==============================] - 22s 35ms/step - loss: 0.6204 - acc: 0.8306 - val_loss: 0.7150 - val_acc: 0.8027 - lr: 1.0000e-04\n",
            "Epoch 106/160\n",
            "625/625 [==============================] - 22s 35ms/step - loss: 0.6166 - acc: 0.8315 - val_loss: 0.6542 - val_acc: 0.8211 - lr: 1.0000e-04\n",
            "Epoch 107/160\n",
            "625/625 [==============================] - 22s 35ms/step - loss: 0.6098 - acc: 0.8312 - val_loss: 0.6816 - val_acc: 0.8108 - lr: 1.0000e-04\n",
            "Epoch 108/160\n",
            "625/625 [==============================] - 22s 35ms/step - loss: 0.6091 - acc: 0.8339 - val_loss: 0.6804 - val_acc: 0.8068 - lr: 1.0000e-04\n",
            "Epoch 109/160\n",
            "625/625 [==============================] - 22s 35ms/step - loss: 0.6021 - acc: 0.8359 - val_loss: 0.6764 - val_acc: 0.8145 - lr: 1.0000e-04\n",
            "Epoch 110/160\n",
            "625/625 [==============================] - 22s 35ms/step - loss: 0.6048 - acc: 0.8336 - val_loss: 0.7081 - val_acc: 0.8042 - lr: 1.0000e-04\n",
            "Epoch 111/160\n",
            "625/625 [==============================] - 22s 35ms/step - loss: 0.5987 - acc: 0.8352 - val_loss: 0.6825 - val_acc: 0.8045 - lr: 1.0000e-04\n",
            "Epoch 112/160\n",
            "625/625 [==============================] - 22s 35ms/step - loss: 0.5968 - acc: 0.8330 - val_loss: 0.6521 - val_acc: 0.8176 - lr: 1.0000e-04\n",
            "Epoch 113/160\n",
            "625/625 [==============================] - 22s 35ms/step - loss: 0.5973 - acc: 0.8336 - val_loss: 0.6533 - val_acc: 0.8191 - lr: 1.0000e-04\n",
            "Epoch 114/160\n",
            "625/625 [==============================] - 22s 35ms/step - loss: 0.5884 - acc: 0.8381 - val_loss: 0.6653 - val_acc: 0.8141 - lr: 1.0000e-04\n",
            "Epoch 115/160\n",
            "625/625 [==============================] - 22s 35ms/step - loss: 0.5853 - acc: 0.8382 - val_loss: 0.6533 - val_acc: 0.8188 - lr: 1.0000e-04\n",
            "Epoch 116/160\n",
            "625/625 [==============================] - 22s 35ms/step - loss: 0.5843 - acc: 0.8365 - val_loss: 0.6541 - val_acc: 0.8177 - lr: 1.0000e-04\n",
            "Epoch 117/160\n",
            "625/625 [==============================] - 22s 35ms/step - loss: 0.5843 - acc: 0.8372 - val_loss: 0.6423 - val_acc: 0.8198 - lr: 1.0000e-04\n",
            "Epoch 118/160\n",
            "625/625 [==============================] - 22s 35ms/step - loss: 0.5816 - acc: 0.8383 - val_loss: 0.6460 - val_acc: 0.8190 - lr: 1.0000e-04\n",
            "Epoch 119/160\n",
            "625/625 [==============================] - 22s 35ms/step - loss: 0.5798 - acc: 0.8375 - val_loss: 0.6566 - val_acc: 0.8164 - lr: 1.0000e-04\n",
            "Epoch 120/160\n",
            "625/625 [==============================] - 22s 35ms/step - loss: 0.5764 - acc: 0.8397 - val_loss: 0.6675 - val_acc: 0.8129 - lr: 1.0000e-04\n",
            "Epoch 121/160\n",
            "625/625 [==============================] - 22s 35ms/step - loss: 0.5746 - acc: 0.8406 - val_loss: 0.6565 - val_acc: 0.8149 - lr: 1.0000e-04\n",
            "Epoch 122/160\n",
            "625/625 [==============================] - 22s 36ms/step - loss: 0.5586 - acc: 0.8454 - val_loss: 0.6386 - val_acc: 0.8233 - lr: 1.0000e-05\n",
            "Epoch 123/160\n",
            "625/625 [==============================] - 22s 35ms/step - loss: 0.5521 - acc: 0.8484 - val_loss: 0.6415 - val_acc: 0.8235 - lr: 1.0000e-05\n",
            "Epoch 124/160\n",
            "625/625 [==============================] - 22s 35ms/step - loss: 0.5483 - acc: 0.8489 - val_loss: 0.6298 - val_acc: 0.8273 - lr: 1.0000e-05\n",
            "Epoch 125/160\n",
            "625/625 [==============================] - 22s 35ms/step - loss: 0.5526 - acc: 0.8490 - val_loss: 0.6352 - val_acc: 0.8251 - lr: 1.0000e-05\n",
            "Epoch 126/160\n",
            "625/625 [==============================] - 22s 35ms/step - loss: 0.5477 - acc: 0.8490 - val_loss: 0.6336 - val_acc: 0.8261 - lr: 1.0000e-05\n",
            "Epoch 127/160\n",
            "625/625 [==============================] - 22s 35ms/step - loss: 0.5488 - acc: 0.8490 - val_loss: 0.6337 - val_acc: 0.8247 - lr: 1.0000e-05\n",
            "Epoch 128/160\n",
            "625/625 [==============================] - 22s 34ms/step - loss: 0.5439 - acc: 0.8522 - val_loss: 0.6306 - val_acc: 0.8277 - lr: 1.0000e-05\n",
            "Epoch 129/160\n",
            "625/625 [==============================] - 22s 35ms/step - loss: 0.5449 - acc: 0.8508 - val_loss: 0.6306 - val_acc: 0.8262 - lr: 1.0000e-05\n",
            "Epoch 130/160\n",
            "625/625 [==============================] - 22s 36ms/step - loss: 0.5475 - acc: 0.8485 - val_loss: 0.6320 - val_acc: 0.8238 - lr: 1.0000e-05\n",
            "Epoch 131/160\n",
            "625/625 [==============================] - 22s 36ms/step - loss: 0.5487 - acc: 0.8486 - val_loss: 0.6226 - val_acc: 0.8289 - lr: 1.0000e-05\n",
            "Epoch 132/160\n",
            "625/625 [==============================] - 22s 36ms/step - loss: 0.5426 - acc: 0.8507 - val_loss: 0.6330 - val_acc: 0.8261 - lr: 1.0000e-05\n",
            "Epoch 133/160\n",
            "625/625 [==============================] - 22s 35ms/step - loss: 0.5404 - acc: 0.8523 - val_loss: 0.6331 - val_acc: 0.8252 - lr: 1.0000e-05\n",
            "Epoch 134/160\n",
            "625/625 [==============================] - 22s 35ms/step - loss: 0.5454 - acc: 0.8504 - val_loss: 0.6246 - val_acc: 0.8270 - lr: 1.0000e-05\n",
            "Epoch 135/160\n",
            "625/625 [==============================] - 22s 35ms/step - loss: 0.5354 - acc: 0.8554 - val_loss: 0.6310 - val_acc: 0.8247 - lr: 1.0000e-05\n",
            "Epoch 136/160\n",
            "625/625 [==============================] - 22s 35ms/step - loss: 0.5391 - acc: 0.8506 - val_loss: 0.6272 - val_acc: 0.8269 - lr: 1.0000e-05\n",
            "Epoch 137/160\n",
            "625/625 [==============================] - 22s 35ms/step - loss: 0.5411 - acc: 0.8509 - val_loss: 0.6336 - val_acc: 0.8236 - lr: 1.0000e-05\n",
            "Epoch 138/160\n",
            "625/625 [==============================] - 22s 35ms/step - loss: 0.5422 - acc: 0.8514 - val_loss: 0.6305 - val_acc: 0.8247 - lr: 1.0000e-05\n",
            "Epoch 139/160\n",
            "625/625 [==============================] - 22s 35ms/step - loss: 0.5319 - acc: 0.8550 - val_loss: 0.6305 - val_acc: 0.8246 - lr: 1.0000e-05\n",
            "Epoch 140/160\n",
            "625/625 [==============================] - 22s 36ms/step - loss: 0.5429 - acc: 0.8500 - val_loss: 0.6295 - val_acc: 0.8267 - lr: 1.0000e-05\n",
            "Epoch 141/160\n",
            "625/625 [==============================] - 22s 35ms/step - loss: 0.5384 - acc: 0.8501 - val_loss: 0.6296 - val_acc: 0.8259 - lr: 1.0000e-05\n",
            "Epoch 142/160\n",
            "625/625 [==============================] - 22s 35ms/step - loss: 0.5334 - acc: 0.8523 - val_loss: 0.6272 - val_acc: 0.8270 - lr: 1.0000e-05\n",
            "Epoch 143/160\n",
            "625/625 [==============================] - 22s 35ms/step - loss: 0.5334 - acc: 0.8537 - val_loss: 0.6327 - val_acc: 0.8240 - lr: 1.0000e-05\n",
            "Epoch 144/160\n",
            "625/625 [==============================] - 22s 35ms/step - loss: 0.5353 - acc: 0.8525 - val_loss: 0.6300 - val_acc: 0.8261 - lr: 1.0000e-05\n",
            "Epoch 145/160\n",
            "625/625 [==============================] - 22s 35ms/step - loss: 0.5328 - acc: 0.8541 - val_loss: 0.6238 - val_acc: 0.8264 - lr: 1.0000e-05\n",
            "Epoch 146/160\n",
            "625/625 [==============================] - 22s 36ms/step - loss: 0.5359 - acc: 0.8525 - val_loss: 0.6326 - val_acc: 0.8238 - lr: 1.0000e-05\n",
            "Epoch 147/160\n",
            "625/625 [==============================] - 22s 35ms/step - loss: 0.5322 - acc: 0.8537 - val_loss: 0.6349 - val_acc: 0.8243 - lr: 1.0000e-05\n",
            "Epoch 148/160\n",
            "625/625 [==============================] - 22s 35ms/step - loss: 0.5317 - acc: 0.8515 - val_loss: 0.6295 - val_acc: 0.8268 - lr: 1.0000e-05\n",
            "Epoch 149/160\n",
            "625/625 [==============================] - 22s 36ms/step - loss: 0.5317 - acc: 0.8556 - val_loss: 0.6283 - val_acc: 0.8257 - lr: 1.0000e-05\n",
            "Epoch 150/160\n",
            "625/625 [==============================] - 22s 35ms/step - loss: 0.5337 - acc: 0.8526 - val_loss: 0.6279 - val_acc: 0.8249 - lr: 1.0000e-05\n",
            "Epoch 151/160\n",
            "625/625 [==============================] - 22s 35ms/step - loss: 0.5326 - acc: 0.8522 - val_loss: 0.6293 - val_acc: 0.8245 - lr: 1.0000e-05\n",
            "Epoch 152/160\n",
            "625/625 [==============================] - 22s 35ms/step - loss: 0.5280 - acc: 0.8552 - val_loss: 0.6267 - val_acc: 0.8258 - lr: 1.0000e-05\n",
            "Epoch 153/160\n",
            "625/625 [==============================] - 22s 35ms/step - loss: 0.5263 - acc: 0.8563 - val_loss: 0.6261 - val_acc: 0.8258 - lr: 1.0000e-05\n",
            "Epoch 154/160\n",
            "625/625 [==============================] - 22s 35ms/step - loss: 0.5322 - acc: 0.8530 - val_loss: 0.6267 - val_acc: 0.8250 - lr: 1.0000e-05\n",
            "Epoch 155/160\n",
            "625/625 [==============================] - 22s 35ms/step - loss: 0.5338 - acc: 0.8538 - val_loss: 0.6250 - val_acc: 0.8267 - lr: 1.0000e-05\n",
            "Epoch 156/160\n",
            "625/625 [==============================] - 22s 35ms/step - loss: 0.5340 - acc: 0.8532 - val_loss: 0.6304 - val_acc: 0.8253 - lr: 1.0000e-05\n",
            "Epoch 157/160\n",
            "625/625 [==============================] - 22s 35ms/step - loss: 0.5285 - acc: 0.8528 - val_loss: 0.6300 - val_acc: 0.8254 - lr: 1.0000e-05\n",
            "Epoch 158/160\n",
            "625/625 [==============================] - 22s 35ms/step - loss: 0.5281 - acc: 0.8540 - val_loss: 0.6277 - val_acc: 0.8258 - lr: 1.0000e-05\n",
            "Epoch 159/160\n",
            "625/625 [==============================] - 22s 36ms/step - loss: 0.5260 - acc: 0.8546 - val_loss: 0.6308 - val_acc: 0.8242 - lr: 1.0000e-05\n",
            "Epoch 160/160\n",
            "625/625 [==============================] - 22s 35ms/step - loss: 0.5345 - acc: 0.8505 - val_loss: 0.6291 - val_acc: 0.8244 - lr: 1.0000e-05\n"
          ]
        }
      ]
    },
    {
      "cell_type": "code",
      "source": [
        "### Plot train and validation curves\n",
        "loss = resnet_train.history['loss']\n",
        "v_loss = resnet_train.history['val_loss']\n",
        "\n",
        "acc = resnet_train.history['acc']\n",
        "v_acc = resnet_train.history['val_acc']\n",
        "\n",
        "epochs = range(len(loss))\n",
        "\n",
        "fig = plt.figure(figsize=(9, 5))\n",
        "plt.subplot(1, 2, 1)\n",
        "plt.yscale('log')\n",
        "plt.plot(epochs, loss, linestyle='--', linewidth=3, color='orange', alpha=0.7, label='Train Loss')\n",
        "plt.plot(epochs, v_loss, linestyle='-.', linewidth=2, color='lime', alpha=0.8, label='Valid Loss')\n",
        "plt.ylim(0.3, 100)\n",
        "plt.xlabel('Epochs', fontsize=11)\n",
        "plt.ylabel('Loss', fontsize=12)\n",
        "plt.legend(fontsize=12)\n",
        "plt.subplot(1, 2, 2)\n",
        "plt.plot(epochs, acc, linestyle='--', linewidth=3, color='orange', alpha=0.7, label='Train Acc')\n",
        "plt.plot(epochs, v_acc, linestyle='-.', linewidth=2, color='lime', alpha=0.8, label='Valid Acc') \n",
        "plt.xlabel('Epochs', fontsize=11)\n",
        "plt.ylabel('Accuracy', fontsize=12)\n",
        "plt.legend(fontsize=12)\n",
        "plt.tight_layout()\n",
        "plt.savefig('/content/gdrive/My Drive/Colab Notebooks/resnet/train_acc.png', dpi=250)\n",
        "plt.show()"
      ],
      "metadata": {
        "colab": {
          "base_uri": "https://localhost:8080/",
          "height": 732
        },
        "id": "9ywsk_E2uvnD",
        "outputId": "4fc1494d-86f6-486a-8ba1-ad30e269096f"
      },
      "execution_count": null,
      "outputs": [
        {
          "output_type": "error",
          "ename": "FileNotFoundError",
          "evalue": "ignored",
          "traceback": [
            "\u001b[0;31m---------------------------------------------------------------------------\u001b[0m",
            "\u001b[0;31mFileNotFoundError\u001b[0m                         Traceback (most recent call last)",
            "\u001b[0;32m<ipython-input-56-25c8a960c0cc>\u001b[0m in \u001b[0;36m<module>\u001b[0;34m()\u001b[0m\n\u001b[1;32m     24\u001b[0m \u001b[0mplt\u001b[0m\u001b[0;34m.\u001b[0m\u001b[0mlegend\u001b[0m\u001b[0;34m(\u001b[0m\u001b[0mfontsize\u001b[0m\u001b[0;34m=\u001b[0m\u001b[0;36m12\u001b[0m\u001b[0;34m)\u001b[0m\u001b[0;34m\u001b[0m\u001b[0;34m\u001b[0m\u001b[0m\n\u001b[1;32m     25\u001b[0m \u001b[0mplt\u001b[0m\u001b[0;34m.\u001b[0m\u001b[0mtight_layout\u001b[0m\u001b[0;34m(\u001b[0m\u001b[0;34m)\u001b[0m\u001b[0;34m\u001b[0m\u001b[0;34m\u001b[0m\u001b[0m\n\u001b[0;32m---> 26\u001b[0;31m \u001b[0mplt\u001b[0m\u001b[0;34m.\u001b[0m\u001b[0msavefig\u001b[0m\u001b[0;34m(\u001b[0m\u001b[0;34m'/content/gdrive/My Drive/Colab Notebooks/resnet/train_acc.png'\u001b[0m\u001b[0;34m,\u001b[0m \u001b[0mdpi\u001b[0m\u001b[0;34m=\u001b[0m\u001b[0;36m250\u001b[0m\u001b[0;34m)\u001b[0m\u001b[0;34m\u001b[0m\u001b[0;34m\u001b[0m\u001b[0m\n\u001b[0m\u001b[1;32m     27\u001b[0m \u001b[0mplt\u001b[0m\u001b[0;34m.\u001b[0m\u001b[0mshow\u001b[0m\u001b[0;34m(\u001b[0m\u001b[0;34m)\u001b[0m\u001b[0;34m\u001b[0m\u001b[0;34m\u001b[0m\u001b[0m\n",
            "\u001b[0;32m/usr/local/lib/python3.7/dist-packages/matplotlib/pyplot.py\u001b[0m in \u001b[0;36msavefig\u001b[0;34m(*args, **kwargs)\u001b[0m\n\u001b[1;32m    721\u001b[0m \u001b[0;32mdef\u001b[0m \u001b[0msavefig\u001b[0m\u001b[0;34m(\u001b[0m\u001b[0;34m*\u001b[0m\u001b[0margs\u001b[0m\u001b[0;34m,\u001b[0m \u001b[0;34m**\u001b[0m\u001b[0mkwargs\u001b[0m\u001b[0;34m)\u001b[0m\u001b[0;34m:\u001b[0m\u001b[0;34m\u001b[0m\u001b[0;34m\u001b[0m\u001b[0m\n\u001b[1;32m    722\u001b[0m     \u001b[0mfig\u001b[0m \u001b[0;34m=\u001b[0m \u001b[0mgcf\u001b[0m\u001b[0;34m(\u001b[0m\u001b[0;34m)\u001b[0m\u001b[0;34m\u001b[0m\u001b[0;34m\u001b[0m\u001b[0m\n\u001b[0;32m--> 723\u001b[0;31m     \u001b[0mres\u001b[0m \u001b[0;34m=\u001b[0m \u001b[0mfig\u001b[0m\u001b[0;34m.\u001b[0m\u001b[0msavefig\u001b[0m\u001b[0;34m(\u001b[0m\u001b[0;34m*\u001b[0m\u001b[0margs\u001b[0m\u001b[0;34m,\u001b[0m \u001b[0;34m**\u001b[0m\u001b[0mkwargs\u001b[0m\u001b[0;34m)\u001b[0m\u001b[0;34m\u001b[0m\u001b[0;34m\u001b[0m\u001b[0m\n\u001b[0m\u001b[1;32m    724\u001b[0m     \u001b[0mfig\u001b[0m\u001b[0;34m.\u001b[0m\u001b[0mcanvas\u001b[0m\u001b[0;34m.\u001b[0m\u001b[0mdraw_idle\u001b[0m\u001b[0;34m(\u001b[0m\u001b[0;34m)\u001b[0m   \u001b[0;31m# need this if 'transparent=True' to reset colors\u001b[0m\u001b[0;34m\u001b[0m\u001b[0;34m\u001b[0m\u001b[0m\n\u001b[1;32m    725\u001b[0m     \u001b[0;32mreturn\u001b[0m \u001b[0mres\u001b[0m\u001b[0;34m\u001b[0m\u001b[0;34m\u001b[0m\u001b[0m\n",
            "\u001b[0;32m/usr/local/lib/python3.7/dist-packages/matplotlib/figure.py\u001b[0m in \u001b[0;36msavefig\u001b[0;34m(self, fname, transparent, **kwargs)\u001b[0m\n\u001b[1;32m   2201\u001b[0m             \u001b[0mself\u001b[0m\u001b[0;34m.\u001b[0m\u001b[0mpatch\u001b[0m\u001b[0;34m.\u001b[0m\u001b[0mset_visible\u001b[0m\u001b[0;34m(\u001b[0m\u001b[0mframeon\u001b[0m\u001b[0;34m)\u001b[0m\u001b[0;34m\u001b[0m\u001b[0;34m\u001b[0m\u001b[0m\n\u001b[1;32m   2202\u001b[0m \u001b[0;34m\u001b[0m\u001b[0m\n\u001b[0;32m-> 2203\u001b[0;31m         \u001b[0mself\u001b[0m\u001b[0;34m.\u001b[0m\u001b[0mcanvas\u001b[0m\u001b[0;34m.\u001b[0m\u001b[0mprint_figure\u001b[0m\u001b[0;34m(\u001b[0m\u001b[0mfname\u001b[0m\u001b[0;34m,\u001b[0m \u001b[0;34m**\u001b[0m\u001b[0mkwargs\u001b[0m\u001b[0;34m)\u001b[0m\u001b[0;34m\u001b[0m\u001b[0;34m\u001b[0m\u001b[0m\n\u001b[0m\u001b[1;32m   2204\u001b[0m \u001b[0;34m\u001b[0m\u001b[0m\n\u001b[1;32m   2205\u001b[0m         \u001b[0;32mif\u001b[0m \u001b[0mframeon\u001b[0m\u001b[0;34m:\u001b[0m\u001b[0;34m\u001b[0m\u001b[0;34m\u001b[0m\u001b[0m\n",
            "\u001b[0;32m/usr/local/lib/python3.7/dist-packages/matplotlib/backend_bases.py\u001b[0m in \u001b[0;36mprint_figure\u001b[0;34m(self, filename, dpi, facecolor, edgecolor, orientation, format, bbox_inches, **kwargs)\u001b[0m\n\u001b[1;32m   2124\u001b[0m                     \u001b[0morientation\u001b[0m\u001b[0;34m=\u001b[0m\u001b[0morientation\u001b[0m\u001b[0;34m,\u001b[0m\u001b[0;34m\u001b[0m\u001b[0;34m\u001b[0m\u001b[0m\n\u001b[1;32m   2125\u001b[0m                     \u001b[0mbbox_inches_restore\u001b[0m\u001b[0;34m=\u001b[0m\u001b[0m_bbox_inches_restore\u001b[0m\u001b[0;34m,\u001b[0m\u001b[0;34m\u001b[0m\u001b[0;34m\u001b[0m\u001b[0m\n\u001b[0;32m-> 2126\u001b[0;31m                     **kwargs)\n\u001b[0m\u001b[1;32m   2127\u001b[0m             \u001b[0;32mfinally\u001b[0m\u001b[0;34m:\u001b[0m\u001b[0;34m\u001b[0m\u001b[0;34m\u001b[0m\u001b[0m\n\u001b[1;32m   2128\u001b[0m                 \u001b[0;32mif\u001b[0m \u001b[0mbbox_inches\u001b[0m \u001b[0;32mand\u001b[0m \u001b[0mrestore_bbox\u001b[0m\u001b[0;34m:\u001b[0m\u001b[0;34m\u001b[0m\u001b[0;34m\u001b[0m\u001b[0m\n",
            "\u001b[0;32m/usr/local/lib/python3.7/dist-packages/matplotlib/backends/backend_agg.py\u001b[0m in \u001b[0;36mprint_png\u001b[0;34m(self, filename_or_obj, metadata, pil_kwargs, *args, **kwargs)\u001b[0m\n\u001b[1;32m    533\u001b[0m         \u001b[0;32melse\u001b[0m\u001b[0;34m:\u001b[0m\u001b[0;34m\u001b[0m\u001b[0;34m\u001b[0m\u001b[0m\n\u001b[1;32m    534\u001b[0m             \u001b[0mrenderer\u001b[0m \u001b[0;34m=\u001b[0m \u001b[0mself\u001b[0m\u001b[0;34m.\u001b[0m\u001b[0mget_renderer\u001b[0m\u001b[0;34m(\u001b[0m\u001b[0;34m)\u001b[0m\u001b[0;34m\u001b[0m\u001b[0;34m\u001b[0m\u001b[0m\n\u001b[0;32m--> 535\u001b[0;31m             \u001b[0;32mwith\u001b[0m \u001b[0mcbook\u001b[0m\u001b[0;34m.\u001b[0m\u001b[0mopen_file_cm\u001b[0m\u001b[0;34m(\u001b[0m\u001b[0mfilename_or_obj\u001b[0m\u001b[0;34m,\u001b[0m \u001b[0;34m\"wb\"\u001b[0m\u001b[0;34m)\u001b[0m \u001b[0;32mas\u001b[0m \u001b[0mfh\u001b[0m\u001b[0;34m:\u001b[0m\u001b[0;34m\u001b[0m\u001b[0;34m\u001b[0m\u001b[0m\n\u001b[0m\u001b[1;32m    536\u001b[0m                 _png.write_png(renderer._renderer, fh, self.figure.dpi,\n\u001b[1;32m    537\u001b[0m                                metadata={**default_metadata, **metadata})\n",
            "\u001b[0;32m/usr/lib/python3.7/contextlib.py\u001b[0m in \u001b[0;36m__enter__\u001b[0;34m(self)\u001b[0m\n\u001b[1;32m    110\u001b[0m         \u001b[0;32mdel\u001b[0m \u001b[0mself\u001b[0m\u001b[0;34m.\u001b[0m\u001b[0margs\u001b[0m\u001b[0;34m,\u001b[0m \u001b[0mself\u001b[0m\u001b[0;34m.\u001b[0m\u001b[0mkwds\u001b[0m\u001b[0;34m,\u001b[0m \u001b[0mself\u001b[0m\u001b[0;34m.\u001b[0m\u001b[0mfunc\u001b[0m\u001b[0;34m\u001b[0m\u001b[0;34m\u001b[0m\u001b[0m\n\u001b[1;32m    111\u001b[0m         \u001b[0;32mtry\u001b[0m\u001b[0;34m:\u001b[0m\u001b[0;34m\u001b[0m\u001b[0;34m\u001b[0m\u001b[0m\n\u001b[0;32m--> 112\u001b[0;31m             \u001b[0;32mreturn\u001b[0m \u001b[0mnext\u001b[0m\u001b[0;34m(\u001b[0m\u001b[0mself\u001b[0m\u001b[0;34m.\u001b[0m\u001b[0mgen\u001b[0m\u001b[0;34m)\u001b[0m\u001b[0;34m\u001b[0m\u001b[0;34m\u001b[0m\u001b[0m\n\u001b[0m\u001b[1;32m    113\u001b[0m         \u001b[0;32mexcept\u001b[0m \u001b[0mStopIteration\u001b[0m\u001b[0;34m:\u001b[0m\u001b[0;34m\u001b[0m\u001b[0;34m\u001b[0m\u001b[0m\n\u001b[1;32m    114\u001b[0m             \u001b[0;32mraise\u001b[0m \u001b[0mRuntimeError\u001b[0m\u001b[0;34m(\u001b[0m\u001b[0;34m\"generator didn't yield\"\u001b[0m\u001b[0;34m)\u001b[0m \u001b[0;32mfrom\u001b[0m \u001b[0;32mNone\u001b[0m\u001b[0;34m\u001b[0m\u001b[0;34m\u001b[0m\u001b[0m\n",
            "\u001b[0;32m/usr/local/lib/python3.7/dist-packages/matplotlib/cbook/__init__.py\u001b[0m in \u001b[0;36mopen_file_cm\u001b[0;34m(path_or_file, mode, encoding)\u001b[0m\n\u001b[1;32m    416\u001b[0m \u001b[0;32mdef\u001b[0m \u001b[0mopen_file_cm\u001b[0m\u001b[0;34m(\u001b[0m\u001b[0mpath_or_file\u001b[0m\u001b[0;34m,\u001b[0m \u001b[0mmode\u001b[0m\u001b[0;34m=\u001b[0m\u001b[0;34m\"r\"\u001b[0m\u001b[0;34m,\u001b[0m \u001b[0mencoding\u001b[0m\u001b[0;34m=\u001b[0m\u001b[0;32mNone\u001b[0m\u001b[0;34m)\u001b[0m\u001b[0;34m:\u001b[0m\u001b[0;34m\u001b[0m\u001b[0;34m\u001b[0m\u001b[0m\n\u001b[1;32m    417\u001b[0m     \u001b[0;34mr\"\"\"Pass through file objects and context-manage `.PathLike`\\s.\"\"\"\u001b[0m\u001b[0;34m\u001b[0m\u001b[0;34m\u001b[0m\u001b[0m\n\u001b[0;32m--> 418\u001b[0;31m     \u001b[0mfh\u001b[0m\u001b[0;34m,\u001b[0m \u001b[0mopened\u001b[0m \u001b[0;34m=\u001b[0m \u001b[0mto_filehandle\u001b[0m\u001b[0;34m(\u001b[0m\u001b[0mpath_or_file\u001b[0m\u001b[0;34m,\u001b[0m \u001b[0mmode\u001b[0m\u001b[0;34m,\u001b[0m \u001b[0;32mTrue\u001b[0m\u001b[0;34m,\u001b[0m \u001b[0mencoding\u001b[0m\u001b[0;34m)\u001b[0m\u001b[0;34m\u001b[0m\u001b[0;34m\u001b[0m\u001b[0m\n\u001b[0m\u001b[1;32m    419\u001b[0m     \u001b[0;32mif\u001b[0m \u001b[0mopened\u001b[0m\u001b[0;34m:\u001b[0m\u001b[0;34m\u001b[0m\u001b[0;34m\u001b[0m\u001b[0m\n\u001b[1;32m    420\u001b[0m         \u001b[0;32mwith\u001b[0m \u001b[0mfh\u001b[0m\u001b[0;34m:\u001b[0m\u001b[0;34m\u001b[0m\u001b[0;34m\u001b[0m\u001b[0m\n",
            "\u001b[0;32m/usr/local/lib/python3.7/dist-packages/matplotlib/cbook/__init__.py\u001b[0m in \u001b[0;36mto_filehandle\u001b[0;34m(fname, flag, return_opened, encoding)\u001b[0m\n\u001b[1;32m    401\u001b[0m             \u001b[0mfh\u001b[0m \u001b[0;34m=\u001b[0m \u001b[0mbz2\u001b[0m\u001b[0;34m.\u001b[0m\u001b[0mBZ2File\u001b[0m\u001b[0;34m(\u001b[0m\u001b[0mfname\u001b[0m\u001b[0;34m,\u001b[0m \u001b[0mflag\u001b[0m\u001b[0;34m)\u001b[0m\u001b[0;34m\u001b[0m\u001b[0;34m\u001b[0m\u001b[0m\n\u001b[1;32m    402\u001b[0m         \u001b[0;32melse\u001b[0m\u001b[0;34m:\u001b[0m\u001b[0;34m\u001b[0m\u001b[0;34m\u001b[0m\u001b[0m\n\u001b[0;32m--> 403\u001b[0;31m             \u001b[0mfh\u001b[0m \u001b[0;34m=\u001b[0m \u001b[0mopen\u001b[0m\u001b[0;34m(\u001b[0m\u001b[0mfname\u001b[0m\u001b[0;34m,\u001b[0m \u001b[0mflag\u001b[0m\u001b[0;34m,\u001b[0m \u001b[0mencoding\u001b[0m\u001b[0;34m=\u001b[0m\u001b[0mencoding\u001b[0m\u001b[0;34m)\u001b[0m\u001b[0;34m\u001b[0m\u001b[0;34m\u001b[0m\u001b[0m\n\u001b[0m\u001b[1;32m    404\u001b[0m         \u001b[0mopened\u001b[0m \u001b[0;34m=\u001b[0m \u001b[0;32mTrue\u001b[0m\u001b[0;34m\u001b[0m\u001b[0;34m\u001b[0m\u001b[0m\n\u001b[1;32m    405\u001b[0m     \u001b[0;32melif\u001b[0m \u001b[0mhasattr\u001b[0m\u001b[0;34m(\u001b[0m\u001b[0mfname\u001b[0m\u001b[0;34m,\u001b[0m \u001b[0;34m'seek'\u001b[0m\u001b[0;34m)\u001b[0m\u001b[0;34m:\u001b[0m\u001b[0;34m\u001b[0m\u001b[0;34m\u001b[0m\u001b[0m\n",
            "\u001b[0;31mFileNotFoundError\u001b[0m: [Errno 2] No such file or directory: '/content/gdrive/My Drive/Colab Notebooks/resnet/train_acc.png'"
          ]
        },
        {
          "output_type": "display_data",
          "data": {
            "text/plain": [
              "<Figure size 648x360 with 2 Axes>"
            ],
            "image/png": "[encoded data removed]"
          },
          "metadata": {
            "needs_background": "light"
          }
        }
      ]
    },
    {
      "cell_type": "code",
      "source": [
        "#### Plot the Confusion Matrix\n",
        "\n",
        "from sklearn.metrics import confusion_matrix, classification_report\n",
        "import seaborn as sns\n",
        "\n",
        "def conf_matrix(predictions): \n",
        "    ''' Plots conf. matrix and classification report '''\n",
        "    cm=confusion_matrix(test_lab, np.argmax(np.round(predictions), axis=1))\n",
        "    print(\"Classification Report:\\n\")\n",
        "    cr=classification_report(test_lab,\n",
        "                                np.argmax(np.round(predictions), axis=1), \n",
        "                                target_names=[class_types[i] for i in range(len(class_types))])\n",
        "    print(cr)\n",
        "    plt.figure(figsize=(12,12))\n",
        "    sns_hmp = sns.heatmap(cm, annot=True, xticklabels = [class_types[i] for i in range(len(class_types))], \n",
        "                yticklabels = [class_types[i] for i in range(len(class_types))], fmt=\"d\")\n",
        "    fig = sns_hmp.get_figure()\n",
        "    fig.savefig('/content/gdrive/My Drive/Colab Notebooks/resnet/heatmap.png', dpi=250)"
      ],
      "metadata": {
        "id": "H5b7vBWGux7L"
      },
      "execution_count": null,
      "outputs": []
    },
    {
      "cell_type": "code",
      "source": [
        "pred_class_resnet50 = resnet50_model.predict(test_im)\n",
        "\n",
        "conf_matrix(pred_class_resnet50)"
      ],
      "metadata": {
        "id": "ol_ZpGLyuz-w"
      },
      "execution_count": null,
      "outputs": []
    },
    {
      "cell_type": "code",
      "source": [
        "### Resutls on Test Data; \n",
        "## Check the performance on the test data \n",
        "test_result = resnet50_model.evaluate(test_im, test_lab_categorical, verbose=0)\n",
        "\n",
        "print (\"ResNet50 loss: \", test_result[0])\n",
        "print (\"ResNet50 accuracy: \", test_result[1])"
      ],
      "metadata": {
        "id": "uYrrKTdxu1DR"
      },
      "execution_count": null,
      "outputs": []
    },
    {
      "cell_type": "code",
      "metadata": {
        "id": "SxSDqZu5rIlG"
      },
      "source": [
        "import keras\n",
        "import numpy as np\n",
        "import matplotlib.pyplot as plt\n",
        "###################keras model##############################################\n",
        "from keras.layers import Dense, Conv2D,BatchNormalization, Activation\n",
        "from keras.layers import MaxPool2D, AveragePooling2D, Input, Flatten\n",
        "from keras.optimizers import Adam\n",
        "from keras.callbacks import ModelCheckpoint\n",
        "from tensorflow.keras.preprocessing import image_dataset_from_directory \n",
        "from keras.regularizers import l2\n",
        "from keras.models import Model\n",
        "import tensorflow as tf"
      ],
      "execution_count": null,
      "outputs": []
    },
    {
      "cell_type": "code",
      "metadata": {
        "id": "z6Ovy8lLrEs8"
      },
      "source": [
        "fashion_mnist = tf.keras.datasets.fashion_mnist\n",
        "(x_train,y_train),(x_test,y_test) = fashion_mnist.load_data()"
      ],
      "execution_count": null,
      "outputs": []
    },
    {
      "cell_type": "code",
      "metadata": {
        "id": "hExBtPsEr_JP"
      },
      "source": [
        "x_train = x_train.reshape(x_train.shape[0],28,28,1)\n",
        "x_test = x_test.reshape(x_test.shape[0],28,28,1)\n",
        "\n",
        "x_train = x_train.astype('float32') / 255.0\n",
        "x_test = x_test.astype('float32') / 255.0"
      ],
      "execution_count": null,
      "outputs": []
    },
    {
      "cell_type": "code",
      "metadata": {
        "id": "-1TQoyU19lDw"
      },
      "source": [
        "epochs = 10\n",
        "batch_size = 100\n",
        "data_augemenation = False\n",
        "img_size = 28\n",
        "\n",
        "num_classes = 10\n",
        "num_filters = 64\n",
        "num_blocks = 4\n",
        "num_sub_blocks = 2\n",
        "use_max_pool = False"
      ],
      "execution_count": null,
      "outputs": []
    },
    {
      "cell_type": "code",
      "metadata": {
        "id": "u7PiK1bUsbSe"
      },
      "source": [
        "import tensorflow as tf\n",
        "#Converting labels to ont-hot vectors\n",
        "y_train = tf.keras.utils.to_categorical(y_train,num_classes)\n",
        "y_test = tf.keras.utils.to_categorical(y_test,num_classes )"
      ],
      "execution_count": null,
      "outputs": []
    },
    {
      "cell_type": "code",
      "metadata": {
        "id": "lBNbvFK-yMVm"
      },
      "source": [
        "#modeling\n",
        "\n",
        "inputs = Input(shape =(28,28,1))\n",
        "x = Conv2D(num_filters, padding = 'same', kernel_initializer = 'he_normal', kernel_size=7, strides = 2,\n",
        "           kernel_regularizer = l2(1e-4))(inputs)\n",
        "\n",
        "x = BatchNormalization()(x)\n",
        "x = Activation('relu')(x)\n",
        "\n",
        "if use_max_pool:\n",
        "  x = MaxPool2D(pool_size=3, padding = 'same', stride = 2)(x)\n",
        "  num_blocks = 3\n",
        "\n",
        "# CNN Resnet\n",
        "for i in range(num_blocks):\n",
        "  for j in range(num_sub_blocks):\n",
        "    strides = 1\n",
        "    is_first_layer_but_not_first_block=j==0 and i>0\n",
        "    if is_first_layer_but_not_first_block:\n",
        "      strides = 2\n",
        "    # Residual block\n",
        "    y = Conv2D(num_filters,\n",
        "               kernel_size = 3, \n",
        "               padding = 'same', \n",
        "               strides = strides,\n",
        "               kernel_initializer = 'he_normal',\n",
        "              kernel_regularizer = l2(1e-4))(x)\n",
        "    y = BatchNormalization()(y)\n",
        "    y = Activation('relu')(y)\n",
        "    y = Conv2D(num_filters,\n",
        "               kernel_size = 3, \n",
        "               padding = 'same', \n",
        "               kernel_initializer = 'he_normal',\n",
        "               kernel_regularizer= l2(1e-4))(y)\n",
        "    y = BatchNormalization()(y)\n",
        "    if is_first_layer_but_not_first_block:\n",
        "      x =  Conv2D(num_filters,\n",
        "               kernel_size = 3, \n",
        "               padding = 'same', \n",
        "               strides = 2,\n",
        "               kernel_initializer = 'he_normal',\n",
        "               kernel_regularizer= l2(1e-4))(x)\n",
        "    \n",
        "    x = keras.layers.add([x,y])\n",
        "    x = Activation('relu')(x)\n",
        "\n",
        "  num_filter = 2 * num_filters\n",
        "\n",
        "#classifier \n",
        "x = AveragePooling2D()(x)\n",
        "y = Flatten()(x)\n",
        "\n",
        "outputs = Dense(num_classes, activation='softmax', kernel_initializer='he_normal')(y)\n",
        "\n",
        "model = Model(inputs = inputs, outputs = outputs)\n",
        "model.compile(loss = 'categorical_crossentropy',\n",
        "              optimizer = Adam(),\n",
        "              metrics = ['acc'])\n",
        "model.summary()\n",
        "\n",
        "      \n"
      ],
      "execution_count": null,
      "outputs": []
    },
    {
      "cell_type": "code",
      "metadata": {
        "id": "dg1dWst08rr_"
      },
      "source": [
        "import os\n",
        "save_dir = os.path.join(os.getcwd(),'save_model')\n",
        "model_name = 'fmnist_resnt_model.h5'\n",
        "if not os.path.join(save_dir):\n",
        "  os.makedirs(save_dir)\n",
        "filepath = os.path.join(save_dir, model_name)\n",
        "print(filepath)"
      ],
      "execution_count": null,
      "outputs": []
    },
    {
      "cell_type": "code",
      "metadata": {
        "id": "Zsbp3c6G-kJZ"
      },
      "source": [
        "checkpoint = ModelCheckpoint(filepath=filepath,\n",
        "                             verbose = 1,\n",
        "                             save_best_only = True)\n",
        "callbacks = [checkpoint]"
      ],
      "execution_count": null,
      "outputs": []
    },
    {
      "cell_type": "code",
      "metadata": {
        "id": "IoIoFEod-x8w"
      },
      "source": [
        "model.fit(x_train,y_train, \n",
        "          batch_size = batch_size,\n",
        "          epochs = epochs,\n",
        "          validation_data = (x_test,y_test),\n",
        "          shuffle = True,\n",
        "          callbacks = callbacks)"
      ],
      "execution_count": null,
      "outputs": []
    },
    {
      "cell_type": "code",
      "metadata": {
        "id": "kSZ9geQSG2w8"
      },
      "source": [
        "from google.colab import drive\n",
        "drive.mount('/content/drive')"
      ],
      "execution_count": null,
      "outputs": []
    },
    {
      "cell_type": "markdown",
      "metadata": {
        "id": "aLgMHxYdc6tD"
      },
      "source": []
    },
    {
      "cell_type": "markdown",
      "metadata": {
        "id": "JFlKQWmzDQWR"
      },
      "source": [
        "# Cats and dogs kaggle dataset(https://www.kaggle.com/c/dogs-vs-cats)"
      ]
    },
    {
      "cell_type": "code",
      "metadata": {
        "id": "7LphjSIF_DSH"
      },
      "source": [
        "!mkdir -p ~/.kaggle\n",
        "!cp /content/drive/MyDrive/kaggle.json ~/.kaggle/\n",
        "# Permission Warning 이 일어나지 않도록 \n",
        "!chmod 600 ~/.kaggle/kaggle.json\n",
        "# 본인이 참가한 모든 대회 보기 \n",
        "!kaggle competitions list"
      ],
      "execution_count": null,
      "outputs": []
    },
    {
      "cell_type": "code",
      "metadata": {
        "id": "4bngFa84De4d"
      },
      "source": [
        "!kaggle competitions download -c dogs-vs-cats"
      ],
      "execution_count": null,
      "outputs": []
    },
    {
      "cell_type": "code",
      "metadata": {
        "id": "O6ZTwUoIDtqk"
      },
      "source": [
        "import numpy as np\n",
        "import pandas as pd\n",
        "import zipfile\n",
        "import glob\n",
        "import os\n",
        "import seaborn as sns\n",
        "import matplotlib.pyplot as plt\n",
        "import tensorflow as tf  \n",
        "\n",
        "from sklearn.model_selection import train_test_split\n",
        "from keras.preprocessing.image  import ImageDataGenerator, array_to_img, img_to_array, load_img\n",
        "from keras.applications.resnet50 import preprocess_input"
      ],
      "execution_count": null,
      "outputs": []
    },
    {
      "cell_type": "markdown",
      "metadata": {
        "id": "G2iM08msFj1p"
      },
      "source": [
        "1. Extracting Zip file"
      ]
    },
    {
      "cell_type": "code",
      "metadata": {
        "id": "P9pxW-IOE-8A"
      },
      "source": [
        "zip_file = glob.glob('/content/*.zip')\n",
        "print(zip_file)"
      ],
      "execution_count": null,
      "outputs": []
    },
    {
      "cell_type": "code",
      "metadata": {
        "id": "_eWY3V1TFuAw"
      },
      "source": [
        "def extract_zip(file):\n",
        "  with zipfile.ZipFile(file,'r') as zip_ref:\n",
        "    zip_ref.extractall('temp')\n",
        "\n",
        "#extract train and test\n",
        "for files in zip_file:\n",
        "  extract_zip(files)"
      ],
      "execution_count": null,
      "outputs": []
    },
    {
      "cell_type": "code",
      "metadata": {
        "id": "qLAvMfWFF_vn"
      },
      "source": [
        "batch_size = 16\n",
        "img_size = 224\n",
        "epochs = 30"
      ],
      "execution_count": null,
      "outputs": []
    },
    {
      "cell_type": "code",
      "metadata": {
        "id": "BUBB9T5rGfVA"
      },
      "source": [
        "print(len(os.listdir('/content/temp/train')), 'training data') \n",
        "print(len(os.listdir('/content/temp/test1')), 'test data')\n",
        "os.listdir('/content/temp/')"
      ],
      "execution_count": null,
      "outputs": []
    },
    {
      "cell_type": "markdown",
      "metadata": {
        "id": "v-B6wNaiHQaK"
      },
      "source": [
        "1-2. Data Formatting"
      ]
    },
    {
      "cell_type": "code",
      "metadata": {
        "id": "6MZ2dvAbHClI"
      },
      "source": [
        "def gen_label(directory):\n",
        "  label = []\n",
        "  for file in os.listdir(directory):\n",
        "    if (file.split('.')[0] == 'dog'):\n",
        "      label.append(str(1))\n",
        "    elif (file.split('.')[0] =='cat'):\n",
        "      label.append(str(0))\n",
        "  return label\n",
        "def gen_path(directory):\n",
        "  path = []\n",
        "  for files in os.listdir(directory):\n",
        "    path.append(files)\n",
        "  return path\n",
        "\n",
        "y_train = gen_label('/content/temp/train')\n",
        "X_train = gen_path('/content/temp/train')\n",
        "X_test = gen_path('/content/temp/test1')"
      ],
      "execution_count": null,
      "outputs": []
    },
    {
      "cell_type": "code",
      "metadata": {
        "id": "a2ctn_nqIDnQ"
      },
      "source": [
        "df = pd.DataFrame({'filename' : X_train,'category':y_train})\n",
        "\n",
        "print(df.head())"
      ],
      "execution_count": null,
      "outputs": []
    },
    {
      "cell_type": "code",
      "metadata": {
        "id": "rliLsZHLI27H"
      },
      "source": [
        "sns.countplot(x = 'category', data = df).set_title('Data Distribution')"
      ],
      "execution_count": null,
      "outputs": []
    },
    {
      "cell_type": "code",
      "metadata": {
        "id": "SqOoKkaSJl0s"
      },
      "source": [
        "os.chdir('/content/temp/train')\n",
        "\n",
        "img = load_img(df['filename'].iloc[600])\n",
        "\n",
        "plt.figure(figsize=(8,8))\n",
        "plt.imshow(img)"
      ],
      "execution_count": null,
      "outputs": []
    },
    {
      "cell_type": "code",
      "metadata": {
        "id": "zeHnBbg0J6Zc"
      },
      "source": [
        "df_train,df_valid = train_test_split(df, test_size = 0.25)\n",
        "print(df_train.shape)\n",
        "print(df_valid.shape)"
      ],
      "execution_count": null,
      "outputs": []
    },
    {
      "cell_type": "code",
      "metadata": {
        "id": "hiXx_ixyLBSU"
      },
      "source": [
        "def generate_train_batch(model):\n",
        "  if model == 'resnet':\n",
        "    print('resnet data')  # Specific preprossing method\n",
        "    train_datagen = ImageDataGenerator(\n",
        "        rotation_range = 10,\n",
        "        zoom_range = 0.1,\n",
        "        horizontal_flip = True,\n",
        "        fill_mode = 'nearest',\n",
        "        width_shift_range = 0.1,\n",
        "        height_shift_range = 0.1,\n",
        "        preprocess_function = preprocess_input) #preprocess_input : 단일 이미지를 로드하면 하나의 이미지 모양인(size1,size2,channel)를 얻게됨.\n",
        "        # 이미지 배치를 생성하려면 추가 자원이 필요함-> (sample,size1,size2, channels) / preprcess_input 함수는 모델에 필요한 형식에\n",
        "        # 이미지를 적절하게 맞추기 위한 것.\n",
        "  else :  # standard Augmenatation.\n",
        "    train_datagen = ImageDataGenerator(\n",
        "        rotation_range = 10,\n",
        "        rescale = 1./255,\n",
        "        zoom_range = 0.1,\n",
        "        horizontal_flip = True,\n",
        "        fill_mode = 'nearest',\n",
        "        width_shift_range = 0.1,\n",
        "        height_shift_range = 0.1)\n",
        "  if model =='vgg':\n",
        "    print('vgg data') \n",
        "    train_gen = train_datagen.flow_from_dataframe(\n",
        "        df_train[['filename']],\n",
        "        x_col = 'filename',\n",
        "        y_col = None,\n",
        "        target_size = (img_size, img_size), # 224x224\n",
        "        class_mode = None,\n",
        "        shuffle = False\n",
        "    )\n",
        "  else : \n",
        "    train_gen = train_datagen.flow_from_dataframe(\n",
        "        df_train,\n",
        "        x_col = 'filename',\n",
        "        y_col = 'category',\n",
        "        target_size = (img_size, img_size), # 224x224\n",
        "        class_mode = 'binary'\n",
        "    )\n",
        "  return train_gen  \n",
        "\n",
        "def generate_valid_batch(model):\n",
        "  if model =='resnet':\n",
        "    print('resnet validation set')\n",
        "    valid_datagen = ImageDataGenerator(preprocessing_function=preprocess_input)\n",
        "  else:\n",
        "    valid_datagen = ImageDataGenerator(rescale=1./255)\n",
        "\n",
        "\n",
        "  valid_gen = valid_datagen.flow_from_dataframe(\n",
        "      df_valid,\n",
        "      x_col = 'filename',\n",
        "      y_col = 'category',\n",
        "      target_size = (img_size, img_size),\n",
        "      batch_size = batch_size,\n",
        "      class_mode = 'binary'\n",
        "  )\n",
        "\n",
        "  return valid_gen  "
      ],
      "execution_count": null,
      "outputs": []
    },
    {
      "cell_type": "code",
      "metadata": {
        "id": "v41OtFr_QwFa"
      },
      "source": [
        "train_gen = generate_train_batch('others')\n",
        "valid_gen = generate_valid_batch('others')"
      ],
      "execution_count": null,
      "outputs": []
    },
    {
      "cell_type": "markdown",
      "metadata": {
        "id": "k_cL1tMkSBgr"
      },
      "source": [
        "## Data Augmentation"
      ]
    },
    {
      "cell_type": "code",
      "metadata": {
        "id": "bOrh5eLTRxjV"
      },
      "source": [
        "#standard\n",
        "visual_datagen = ImageDataGenerator(\n",
        "    rotation_range = 10,\n",
        "    rescale = 1./255,\n",
        "    zoom_range = 0.1,\n",
        "    horizontal_flip = True,\n",
        "    fill_mode = 'nearest',\n",
        "    width_shift_range = 0.1,\n",
        "    height_shift_range = 0.1)"
      ],
      "execution_count": null,
      "outputs": []
    },
    {
      "cell_type": "code",
      "metadata": {
        "id": "wLkSoaz_SbBg"
      },
      "source": [
        "visualise_df = df_train.sample(n=1).reset_index(drop = True)\n",
        "\n",
        "visualisation_generator = visual_datagen.flow_from_dataframe(\n",
        "    visualise_df,\n",
        "    x_col = 'filename',\n",
        "    y_col = 'category' \n",
        ")\n",
        "plt.figure(figsize = (8,8))\n",
        "for i in range(0,9):\n",
        "  plt.subplot(3,3, i+1)\n",
        "  for X_batch, y_batch in visualisation_generator:\n",
        "    image = X_batch[0]\n",
        "    plt.imshow(image)\n",
        "    break\n",
        "plt.tight_layout()\n",
        "plt.show()"
      ],
      "execution_count": null,
      "outputs": []
    },
    {
      "cell_type": "markdown",
      "metadata": {
        "id": "SSY02eeOGhO2"
      },
      "source": [
        "# CNN Architecture"
      ]
    },
    {
      "cell_type": "code",
      "metadata": {
        "id": "zbLqqgcjTFA8"
      },
      "source": [
        "from tensorflow.keras.applications.vgg16 import VGG16\n",
        "from tensorflow.keras.applications.resnet50 import ResNet50\n",
        "from keras.layers import *\n",
        "from keras.models import Model, Sequential\n",
        "from keras import optimizers,regularizers\n",
        "from keras import backend as K\n",
        "import tensorflow as tf"
      ],
      "execution_count": null,
      "outputs": []
    },
    {
      "cell_type": "code",
      "metadata": {
        "id": "b2yjfJndG-qk"
      },
      "source": [
        "modelcnn = Sequential()\n",
        "modelcnn.add(Conv2D(16,(3,3), activation= 'relu', input_shape = (img_size,img_size,3)))\n",
        "modelcnn.add(Conv2D(16,(3,3),activation = 'relu'))\n",
        "modelcnn.add(MaxPool2D(2,2))\n",
        "\n",
        "\n",
        "modelcnn.add(Conv2D(32,(3,3), activation= 'relu'))\n",
        "modelcnn.add(Conv2D(32,(3,3),activation = 'relu'))\n",
        "modelcnn.add(MaxPool2D(2,2))\n",
        "\n",
        "\n",
        "modelcnn.add(Conv2D(64,(3,3), activation= 'relu'))\n",
        "modelcnn.add(Conv2D(64,(3,3),activation = 'relu'))\n",
        "modelcnn.add(MaxPool2D(2,2))\n",
        "modelcnn.add(Dropout(0.2))\n",
        "\n",
        "modelcnn.add(Conv2D(64,(3,3), activation= 'relu'))\n",
        "modelcnn.add(MaxPool2D(2,2))\n",
        "\n",
        "modelcnn.add(Flatten())\n",
        "modelcnn.add(Dense(512, activation='relu'))\n",
        "modelcnn.add(Dropout(0.5))\n",
        "modelcnn.add(Dense(1, activation='sigmoid'))\n",
        "\n",
        "\n",
        "modelcnn.compile(loss = tf.keras.losses.binary_crossentropy,\n",
        "                 optimizer = optimizers.Adam(),\n",
        "                 metrics = ['acc'])\n",
        "modelcnn.summary()"
      ],
      "execution_count": null,
      "outputs": []
    },
    {
      "cell_type": "code",
      "metadata": {
        "id": "XPA7Z99tJe5_"
      },
      "source": [
        "modelcnn.fit_generator(train_gen,\n",
        "                       epochs = epochs,\n",
        "                       validation_data = valid_gen)"
      ],
      "execution_count": null,
      "outputs": []
    },
    {
      "cell_type": "markdown",
      "metadata": {
        "id": "B4tHpi_aLEi7"
      },
      "source": [
        "# Transfer learning\n",
        "\n",
        "전이 학습-> pretrained model "
      ]
    },
    {
      "cell_type": "code",
      "metadata": {
        "id": "bmIlN9mOKGzO"
      },
      "source": [
        "vgg = VGG16(weights = 'imagenet',\n",
        "            include_top = False,\n",
        "            input_shape = (224,224,3))\n",
        "for layers in vgg.layers:\n",
        "  layers.trainable = False"
      ],
      "execution_count": null,
      "outputs": []
    },
    {
      "cell_type": "markdown",
      "metadata": {
        "id": "uqesu7oNLean"
      },
      "source": [
        "h5 file ->pretrain model \n",
        "\n",
        "imagenet ->class 1000개 이미지를 학습한 weight ->.h5"
      ]
    },
    {
      "cell_type": "code",
      "metadata": {
        "id": "xM2z0XCiLa23"
      },
      "source": [
        "feature_list = []\n",
        "for path in df_train['filename'].to_numpy():\n",
        "  x = load_img(path,target_size = (img_size,img_size))\n",
        "  img_array = img_to_array(x)\n",
        "  img_array = np.expand_dims(img_array,axis =0)\n",
        "  features = vgg.predict(img_array)\n",
        "  feature_list.append(features)\n",
        "\n",
        "feat_lst = np.reshape(feature_list, (-1,7*7*512))"
      ],
      "execution_count": null,
      "outputs": []
    },
    {
      "cell_type": "code",
      "metadata": {
        "id": "Fq2R3qjtO9x2"
      },
      "source": [
        "del feature_list"
      ],
      "execution_count": null,
      "outputs": []
    },
    {
      "cell_type": "markdown",
      "metadata": {
        "id": "W0qrvyGeOjj9"
      },
      "source": [
        "## Logistic Regression"
      ]
    },
    {
      "cell_type": "code",
      "metadata": {
        "id": "vqg_ri0eOids"
      },
      "source": [
        "from sklearn.model_selection import train_test_split\n",
        "from sklearn.linear_model import LogisticRegression\n",
        "\n",
        "y = df_train['category'].to_numpy()\n",
        "\n",
        "X_train,X_test,y_train,y_test = train_test_split(feat_lst, y, test_size = 0.2, random_state = 42)\n",
        "\n",
        "glm = LogisticRegression(C=0.1)\n",
        "glm.fit(X_train,y_train)"
      ],
      "execution_count": null,
      "outputs": []
    },
    {
      "cell_type": "markdown",
      "metadata": {
        "id": "otvcLzzxMTxd"
      },
      "source": [
        "# Fine Turning-> Resnet +fully Connected"
      ]
    },
    {
      "cell_type": "code",
      "metadata": {
        "id": "QEDbg3wCyXLJ"
      },
      "source": [],
      "execution_count": null,
      "outputs": []
    },
    {
      "cell_type": "code",
      "metadata": {
        "id": "N21CsVlpMY_q"
      },
      "source": [
        "np.random.seed(2020)\n",
        "\n",
        "res = ResNet50(weights = 'imagenet',\n",
        "                      include_top = False,\n",
        "                      input_shape = (224,224,3))\n",
        "res_train_gen = generate_train_batch('resnet')\n",
        "res_valid_gen = generate_valid_batch('resnet')\n",
        "\n",
        "\n",
        "for layer in res.layer[:171]:\n",
        "  layer.trainable = False\n",
        "\n",
        "\n",
        "flat = Flatten()(res.output)\n",
        "dense = Dense91024,activation = 'relu')(falt)\n",
        "drop  = Dropout(0.5)(dense)\n",
        "classifier = Dense(1, activation = 'sigmoid')(drop)\n",
        "\n",
        "res_model = Model(res.input, classifier)\n",
        "res_model.compile(loss = tf.keras.losses.binary_crossentropy,\n",
        "                 optimizer = optimizers.Adam(),\n",
        "                 metrics = ['acc'])\n",
        "res_model.summary()"
      ],
      "execution_count": null,
      "outputs": []
    },
    {
      "cell_type": "code",
      "metadata": {
        "id": "cbuCCXCQNRi7"
      },
      "source": [
        "modelcnn.fit_generator(res_train_gen,\n",
        "                       epochs = epochs,\n",
        "                       validation_data = res_valid_gen,\n",
        "                       validation_steps = res_train_gen.samples // batch_size,\n",
        "                       step_per_epoch = res_valid_gen.samples // batch_size)"
      ],
      "execution_count": null,
      "outputs": []
    },
    {
      "cell_type": "code",
      "metadata": {
        "id": "9lHxQlRiNf3e"
      },
      "source": [
        "testdf = pd.DataFrame({'filename':X_test})\n",
        "test_sample = testdf.sample(n=12, random_state = 2021)\n",
        "\n",
        "def test_img(model,name):\n",
        "  result_lst = []\n",
        "  for path in test_sample['fliename'].to_numpy():\n",
        "    full_path = '/content/temp/test1'+path\n",
        "    x = load_img(full_path, target_size = (224,224))\n",
        "    img_array = img_to_array(x)\n",
        "    img_array = np.exapan_dims(img_array,axis =0)\n",
        "\n",
        "    if name =='vgg':\n",
        "      features = model.predict(img_array)\n",
        "      features = np.reshape(features, (-1,7*7*512))\n",
        "      result = glm.predict(features)\n",
        "    else:\n",
        "      result = model.predict(img_array)\n",
        "    \n",
        "    result = 'dog' if float(result) > 0.5 else 'cat'\n",
        "\n",
        "    result_lst.append(result)\n",
        "\n",
        "  return result_lst"
      ],
      "execution_count": null,
      "outputs": []
    },
    {
      "cell_type": "code",
      "metadata": {
        "id": "VBHdo7EYPabt"
      },
      "source": [
        "custom_cnn_result = test_img(modecnn,'cnn')\n",
        "vgg_result = test_img(vgg,'VGG')\n",
        "finetune_result = test_img(res_model, 'resnet')"
      ],
      "execution_count": null,
      "outputs": []
    },
    {
      "cell_type": "markdown",
      "metadata": {
        "id": "eIvzv53StcDg"
      },
      "source": []
    },
    {
      "cell_type": "markdown",
      "metadata": {
        "id": "wsjt5hZbtcBM"
      },
      "source": []
    },
    {
      "cell_type": "markdown",
      "metadata": {
        "id": "v3R6r2FGtb-7"
      },
      "source": [
        "## Neural Style Transfer로 알려져있으며, Leon A. Gatys의 논문 A Neural Algorithm of Artistic Style에 있습니다.\n",
        "\n",
        "Neural style transfer은 콘텐츠 (content) 이미지와 (유명한 작가의 삽화와 같은) 스타일 참조 (style reference) 이미지를 이용하여, 콘텐츠 이미지의 콘텐츠는 유지하되 스타일 참조 이미지의 화풍으로 채색한 것 같은 새로운 이미지를 생성하는 최적화 기술입니다.\n",
        "\n",
        "이 과정은 출력 이미지를 콘텐츠 이미지의 콘텐츠 통계랑(statistic)과 스타일 참조 이미지의 스타일 통계량에 맞춰 최적화시킴으로써 구현됩니다. 통계량은 합성곱 신경망을 이용해 각각의 이미지에서 추출합니다.\n",
        "\n",
        "예시로, 아래에 주어진 강아지의 이미지와 바실리 칸딘스키의 7번 작품을 살펴봅시다:\n",
        "\n",
        "<img src = 'https://storage.googleapis.com/download.tensorflow.org/example_images/YellowLabradorLooking_new.jpg'>"
      ]
    },
    {
      "cell_type": "markdown",
      "metadata": {
        "id": "qBzoAaG1uMFP"
      },
      "source": [
        "<img src = 'https://storage.googleapis.com/download.tensorflow.org/example_images/Vassily_Kandinsky%2C_1913_-_Composition_7.jpg'>"
      ]
    },
    {
      "cell_type": "markdown",
      "metadata": {
        "id": "983SQgnaubCE"
      },
      "source": [
        "만약 칸딘스키가 7번 작품의 화풍으로 이 강아지를 그렸다면 어떤 작품이 탄생했을까요? 아마 이런 그림이 아니었을까요?"
      ]
    },
    {
      "cell_type": "markdown",
      "metadata": {
        "id": "mpiWd3vEuVvM"
      },
      "source": [
        "<img src = 'https://tensorflow.org/tutorials/generative/images/stylized-image.png?hl=ko'>"
      ]
    },
    {
      "cell_type": "markdown",
      "metadata": {
        "id": "WAL73HWyuXvV"
      },
      "source": [
        "#import"
      ]
    },
    {
      "cell_type": "code",
      "metadata": {
        "id": "z6Vq0FAcuVEF"
      },
      "source": [
        "import tensorflow as tf"
      ],
      "execution_count": null,
      "outputs": []
    },
    {
      "cell_type": "code",
      "metadata": {
        "id": "IdmkzABotDj_"
      },
      "source": [
        "import IPython.display as display\n",
        "\n",
        "import matplotlib.pyplot as plt\n",
        "import matplotlib as mpl\n",
        "mpl.rcParams['figure.figsize'] = (12,12)\n",
        "mpl.rcParams['axes.grid'] = False\n",
        "\n",
        "import numpy as np\n",
        "import PIL.Image\n",
        "import time\n",
        "import functools"
      ],
      "execution_count": null,
      "outputs": []
    },
    {
      "cell_type": "code",
      "metadata": {
        "id": "WDX8MntPudZJ"
      },
      "source": [
        "def tensor_to_image(tensor):\n",
        "  tensor = tensor*255\n",
        "  tensor = np.array(tensor, dtype=np.uint8)\n",
        "  if np.ndim(tensor)>3:\n",
        "    assert tensor.shape[0] == 1\n",
        "    tensor = tensor[0]\n",
        "  return PIL.Image.fromarray(tensor)"
      ],
      "execution_count": null,
      "outputs": []
    },
    {
      "cell_type": "code",
      "metadata": {
        "id": "2psbRt9HueRS"
      },
      "source": [
        "content_path = tf.keras.utils.get_file('YellowLabradorLooking_new.jpg', 'https://storage.googleapis.com/download.tensorflow.org/example_images/YellowLabradorLooking_new.jpg')\n",
        "\n",
        "# https://commons.wikimedia.org/wiki/File:Vassily_Kandinsky,_1913_-_Composition_7.jpg\n",
        "style_path = tf.keras.utils.get_file('kandinsky5.jpg','https://storage.googleapis.com/download.tensorflow.org/example_images/Vassily_Kandinsky%2C_1913_-_Composition_7.jpg')"
      ],
      "execution_count": null,
      "outputs": []
    },
    {
      "cell_type": "markdown",
      "metadata": {
        "id": "yqTZ9n8ouia7"
      },
      "source": [
        "입력 시각화\n",
        "\n",
        "\n",
        "이미지를 불러오는 함수를 정의하고, 최대 이미지 크기를 512개의 픽셀로 제한합니다."
      ]
    },
    {
      "cell_type": "code",
      "metadata": {
        "id": "bcSOCPYTugip"
      },
      "source": [
        "def load_img(path_to_img):\n",
        "  max_dim = 512\n",
        "  img = tf.io.read_file(path_to_img)\n",
        "  img = tf.image.decode_image(img, channels=3)\n",
        "  img = tf.image.convert_image_dtype(img, tf.float32)\n",
        "\n",
        "  shape = tf.cast(tf.shape(img)[:-1], tf.float32)\n",
        "  long_dim = max(shape)\n",
        "  scale = max_dim / long_dim\n",
        "\n",
        "  new_shape = tf.cast(shape * scale, tf.int32)\n",
        "\n",
        "  img = tf.image.resize(img, new_shape)\n",
        "  img = img[tf.newaxis, :]\n",
        "  return img"
      ],
      "execution_count": null,
      "outputs": []
    },
    {
      "cell_type": "markdown",
      "metadata": {
        "id": "HXWUXDR4ulM-"
      },
      "source": [
        "이미지를 출력하기 위한 간단한 함수를 정의합니다:"
      ]
    },
    {
      "cell_type": "code",
      "metadata": {
        "id": "DG7JgPEfukQR"
      },
      "source": [
        "def imshow(image, title=None):\n",
        "  if len(image.shape) > 3:\n",
        "    image = tf.squeeze(image, axis=0)\n",
        "\n",
        "  plt.imshow(image)\n",
        "  if title:\n",
        "    plt.title(title)"
      ],
      "execution_count": null,
      "outputs": []
    },
    {
      "cell_type": "code",
      "metadata": {
        "id": "gQyCA6KNumXp"
      },
      "source": [
        "content_image = load_img(content_path)\n",
        "style_image = load_img(style_path)\n",
        "\n",
        "plt.subplot(1, 2, 1)\n",
        "imshow(content_image, 'Content Image')\n",
        "\n",
        "plt.subplot(1, 2, 2)\n",
        "imshow(style_image, 'Style Image')"
      ],
      "execution_count": null,
      "outputs": []
    },
    {
      "cell_type": "markdown",
      "metadata": {
        "id": "rlLWFXnLuz0V"
      },
      "source": [
        "TF-Hub를 통한 빠른 스타일 전이\n",
        "\n",
        "\n",
        "앞서 언급했듯이, 본 튜토리얼은 이미지 콘텐츠를 특정 스타일에 맞춰 최적화시키는 기존의 스타일 전이 알고리즘을 소개합니다. 이에 대해 살펴보기 전에, 텐서플로 허브 모듈은 어떤 결과물을 생성하는지 시험해봅시다:"
      ]
    },
    {
      "cell_type": "code",
      "metadata": {
        "id": "hKGNPNjvunzR"
      },
      "source": [
        "import tensorflow_hub as hub\n",
        "hub_module = hub.load('https://tfhub.dev/google/magenta/arbitrary-image-stylization-v1-256/1')\n",
        "stylized_image = hub_module(tf.constant(content_image), tf.constant(style_image))[0]\n",
        "tensor_to_image(stylized_image)"
      ],
      "execution_count": null,
      "outputs": []
    },
    {
      "cell_type": "markdown",
      "metadata": {
        "id": "77piGs6wu2de"
      },
      "source": [
        "콘텐츠와 스타일 표현 정의하기\n",
        "\n",
        "\n",
        "\n",
        "이미지의 콘텐츠와 스타일 표현(representation)을 얻기 위해, 모델의 몇 가지 중간층들을 살펴볼 것입니다. 모델의 입력층부터 시작해서, 처음 몇 개의 층은 선분이나 질감과 같은 이미지 내의 저차원적 특성에 반응합니다. 반면, 네트워크가 깊어지면 최종 몇 개의 층은 바퀴나 눈과 같은 고차원적 특성들을 나타냅니다. 이번 경우, 우리는 사전학습된 이미지 분류 네트워크인 VGG19 네트워크의 구조를 사용할 것입니다. 이 중간층들은 이미지에서 콘텐츠와 스타일 표현을 정의하는 데 필요합니다. 입력 이미지가 주어졌을때, 스타일 전이 알고리즘은 이 중간층들에서 콘텐츠와 스타일에 해당하는 타깃 표현들을 일치시키려고 시도할 것입니다.\n",
        "\n",
        "VGG19 모델을 불러오고, 작동 여부를 확인하기 위해 이미지에 적용시켜봅시다:"
      ]
    },
    {
      "cell_type": "code",
      "metadata": {
        "id": "pO5s9NoWu1ap"
      },
      "source": [
        "x = tf.keras.applications.vgg19.preprocess_input(content_image*255)\n",
        "x = tf.image.resize(x, (224, 224))\n",
        "vgg = tf.keras.applications.VGG19(include_top=True, weights='imagenet')\n",
        "prediction_probabilities = vgg(x)\n",
        "prediction_probabilities.shape"
      ],
      "execution_count": null,
      "outputs": []
    },
    {
      "cell_type": "code",
      "metadata": {
        "id": "QbZ_7-ilu4MS"
      },
      "source": [
        "predicted_top_5 = tf.keras.applications.vgg19.decode_predictions(prediction_probabilities.numpy())[0]\n",
        "[(class_name, prob) for (number, class_name, prob) in predicted_top_5]"
      ],
      "execution_count": null,
      "outputs": []
    },
    {
      "cell_type": "markdown",
      "metadata": {
        "id": "Qgzcww1Ou66t"
      },
      "source": [
        "이제 분류층을 제외한 VGG19 모델을 불러오고, 각 층의 이름을 출력해봅니다."
      ]
    },
    {
      "cell_type": "code",
      "metadata": {
        "id": "EY_C5D4Tu5Fx"
      },
      "source": [
        "vgg = tf.keras.applications.VGG19(include_top=False, weights='imagenet')\n",
        "\n",
        "print()\n",
        "for layer in vgg.layers:\n",
        "  print(layer.name)"
      ],
      "execution_count": null,
      "outputs": []
    },
    {
      "cell_type": "markdown",
      "metadata": {
        "id": "6kKQFNfQu84F"
      },
      "source": [
        "이미지의 스타일과 콘텐츠를 나타내기 위한 모델의 중간층들을 선택합니다:"
      ]
    },
    {
      "cell_type": "code",
      "metadata": {
        "id": "GuQ_hILsu7PS"
      },
      "source": [
        "content_layers = ['block5_conv2'] \n",
        "\n",
        "style_layers = ['block1_conv1',\n",
        "                'block2_conv1',\n",
        "                'block3_conv1', \n",
        "                'block4_conv1', \n",
        "                'block5_conv1']\n",
        "\n",
        "num_content_layers = len(content_layers)\n",
        "num_style_layers = len(style_layers)"
      ],
      "execution_count": null,
      "outputs": []
    },
    {
      "cell_type": "markdown",
      "metadata": {
        "id": "z_wIoglyvA3P"
      },
      "source": [
        "## 스타일과 콘텐츠를 위한 중간층\n",
        "\n",
        "그렇다면 사전훈련된 이미지 분류 네트워크 속에 있는 중간 출력으로 어떻게 스타일과 콘텐츠 표현을 정의할 수 있을까요?\n",
        "\n",
        "고수준에서 보면 (네트워크의 훈련 목적인) 이미지 분류를 수행하기 위해서는 네트워크가 반드시 이미지를 이해햐야 합니다. 이는 미가공 이미지를 입력으로 받아 픽셀값들을 이미지 내에 존재하는 특성(feature)들에 대한 복합적인 이해로 변환할 수 있는 내부 표현(internal representation)을 만드는 작업이 포함됩니다.\n",
        "\n",
        "또한 부분적으로 왜 합성곱(convolutional) 신경망의 일반화(generalize)가 쉽게 가능한지를 나타냅니다. 즉, 합성곱 신경망은 배경잡음(background noise)과 기타잡음(nuisances)에 상관없이 (고양이와 강아지와 같이)클래스 안에 있는 불변성(invariance)과 특징을 포착할 수 있습니다. 따라서 미가공 이미지의 입력과 분류 레이블(label)의 출력 중간 어딘가에서 모델은 복합 특성(complex feature) 추출기의 역할을 수행합니다. 그러므로, 모델의 중간층에 접근함으로써 입력 이미지의 콘텐츠와 스타일을 추출할 수 있습니다.\n",
        "\n",
        "## 모델 만들기"
      ]
    },
    {
      "cell_type": "markdown",
      "metadata": {
        "id": "GW_B7KEsvE6N"
      },
      "source": [
        "tf.keras.applications에서 제공하는 모델들은 케라스 함수형 API을 통해 중간층에 쉽게 접근할 수 있도록 구성되어있습니다.\n",
        "\n",
        "함수형 API를 이용해 모델을 정의하기 위해서는 모델의 입력과 출력을 지정합니다:\n",
        "\n",
        "model = Model(inputs, outputs)\n",
        "\n",
        "아래의 함수는 중간층들의 결과물을 배열 형태로 출력하는 VGG19 모델을 반환합니다:"
      ]
    },
    {
      "cell_type": "code",
      "metadata": {
        "id": "v8yGx82ou-Qz"
      },
      "source": [
        "def vgg_layers(layer_names):\n",
        "  \"\"\" 중간층의 출력값을 배열로 반환하는 vgg 모델을 만듭니다.\"\"\"\n",
        "  # 이미지넷 데이터셋에 사전학습된 VGG 모델을 불러옵니다\n",
        "  vgg = tf.keras.applications.VGG19(include_top=False, weights='imagenet')\n",
        "  vgg.trainable = False\n",
        "\n",
        "  outputs = [vgg.get_layer(name).output for name in layer_names]\n",
        "\n",
        "  model = tf.keras.Model([vgg.input], outputs)\n",
        "  return model"
      ],
      "execution_count": null,
      "outputs": []
    },
    {
      "cell_type": "markdown",
      "metadata": {
        "id": "J9Kjd4zJvHTF"
      },
      "source": [
        "위 함수를 이용해 모델을 만들어봅시다:"
      ]
    },
    {
      "cell_type": "code",
      "metadata": {
        "id": "JNYmjkMMvGfK"
      },
      "source": [
        "style_extractor = vgg_layers(style_layers)\n",
        "style_outputs = style_extractor(style_image*255)\n",
        "\n",
        "# 각 층의 출력에 대한 통계량을 살펴봅니다\n",
        "for name, output in zip(style_layers, style_outputs):\n",
        "  print(name)\n",
        "  print(\"  크기: \", output.numpy().shape)\n",
        "  print(\"  최솟값: \", output.numpy().min())\n",
        "  print(\"  최댓값: \", output.numpy().max())\n",
        "  print(\"  평균: \", output.numpy().mean())\n",
        "  print()"
      ],
      "execution_count": null,
      "outputs": []
    },
    {
      "cell_type": "markdown",
      "metadata": {
        "id": "Ak7zkk-vvbiz"
      },
      "source": [
        "##스타일 계산하기\n",
        "\n",
        "\n",
        "이미지의 콘텐츠는 중간층들의 특성 맵(feature map)의 값들로 표현됩니다.\n",
        "\n",
        "이미지의 스타일은 각 특성 맵의 평균과 피쳐맵들 사이의 상관관계로 설명할 수 있습니다. 이런 정보를 담고 있는 그람 행렬(Gram matrix)은 각 위치에서 특성 벡터(feature vector)끼리의 외적을 구한 후,평균값을 냄으로써 구할 수 있습니다. 주어진 층에 대한 그람 행렬은 다음과 같이 계산할 수 있습니다:\n",
        "\n",
        "![image.png](data:image/png;base64,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)\n",
        "\n",
        "이 식은 tf.linalg.einsum 함수를 통해 쉽게 계산할 수 있습니다:"
      ]
    },
    {
      "cell_type": "code",
      "metadata": {
        "id": "efF-ipdtvIUa"
      },
      "source": [
        "def gram_matrix(input_tensor):\n",
        "  result = tf.linalg.einsum('bijc,bijd->bcd', input_tensor, input_tensor)\n",
        "  input_shape = tf.shape(input_tensor)\n",
        "  num_locations = tf.cast(input_shape[1]*input_shape[2], tf.float32)\n",
        "  return result/(num_locations)"
      ],
      "execution_count": null,
      "outputs": []
    },
    {
      "cell_type": "markdown",
      "metadata": {
        "id": "T-iF7zdmvtxt"
      },
      "source": [
        "## 스타일과 콘텐츠 추출하기\n",
        "\n",
        "스타일과 콘텐츠 텐서를 반환하는 모델을 만듭시다."
      ]
    },
    {
      "cell_type": "code",
      "metadata": {
        "id": "asU8VAPxvsrJ"
      },
      "source": [
        "class StyleContentModel(tf.keras.models.Model):\n",
        "  def __init__(self, style_layers, content_layers):\n",
        "    super(StyleContentModel, self).__init__()\n",
        "    self.vgg =  vgg_layers(style_layers + content_layers)\n",
        "    self.style_layers = style_layers\n",
        "    self.content_layers = content_layers\n",
        "    self.num_style_layers = len(style_layers)\n",
        "    self.vgg.trainable = False\n",
        "\n",
        "  def call(self, inputs):\n",
        "    \"[0,1] 사이의 실수 값을 입력으로 받습니다\"\n",
        "    inputs = inputs*255.0\n",
        "    preprocessed_input = tf.keras.applications.vgg19.preprocess_input(inputs)\n",
        "    outputs = self.vgg(preprocessed_input)\n",
        "    style_outputs, content_outputs = (outputs[:self.num_style_layers], \n",
        "                                      outputs[self.num_style_layers:])\n",
        "\n",
        "    style_outputs = [gram_matrix(style_output)\n",
        "                     for style_output in style_outputs]\n",
        "\n",
        "    content_dict = {content_name:value \n",
        "                    for content_name, value \n",
        "                    in zip(self.content_layers, content_outputs)}\n",
        "\n",
        "    style_dict = {style_name:value\n",
        "                  for style_name, value\n",
        "                  in zip(self.style_layers, style_outputs)}\n",
        "\n",
        "    return {'content':content_dict, 'style':style_dict}"
      ],
      "execution_count": null,
      "outputs": []
    },
    {
      "cell_type": "markdown",
      "metadata": {
        "id": "4VVb0W_9vxac"
      },
      "source": [
        "이미지가 입력으로 주어졌을때, 이 모델은 style_layers의 스타일과 content_layers의 콘텐츠에 대한 그람 행렬을 출력합니다:"
      ]
    },
    {
      "cell_type": "code",
      "metadata": {
        "id": "mRc9M8G0vv0h"
      },
      "source": [
        "extractor = StyleContentModel(style_layers, content_layers)\n",
        "\n",
        "results = extractor(tf.constant(content_image))\n",
        "\n",
        "print('스타일:')\n",
        "for name, output in sorted(results['style'].items()):\n",
        "  print(\"  \", name)\n",
        "  print(\"    크기: \", output.numpy().shape)\n",
        "  print(\"    최솟값: \", output.numpy().min())\n",
        "  print(\"    최댓값: \", output.numpy().max())\n",
        "  print(\"    평균: \", output.numpy().mean())\n",
        "  print()\n",
        "\n",
        "print(\"콘텐츠:\")\n",
        "for name, output in sorted(results['content'].items()):\n",
        "  print(\"  \", name)\n",
        "  print(\"    크기: \", output.numpy().shape)\n",
        "  print(\"    최솟값: \", output.numpy().min())\n",
        "  print(\"    최댓값: \", output.numpy().max())\n",
        "  print(\"    평균: \", output.numpy().mean())"
      ],
      "execution_count": null,
      "outputs": []
    },
    {
      "cell_type": "markdown",
      "metadata": {
        "id": "jshQY0aPwAv9"
      },
      "source": [
        "최적화를 진행하기 위해, 전체 오차를 콘텐츠와 스타일 오차의 가중합으로 정의합니다:"
      ]
    },
    {
      "cell_type": "markdown",
      "metadata": {
        "id": "WPcrMM0-v1ps"
      },
      "source": [
        "## 경사하강법 실행\n",
        "\n",
        "이제 스타일과 콘텐츠 추출기를 사용해 스타일 전이 알고리즘을 구현할 차례입니다. 타깃에 대한 입력 이미지의 평균 제곱 오차를 계산한 후, 오차값들의 가중합을 구합니다.\n",
        "\n",
        "스타일과 콘텐츠의 타깃값을 지정합니다:"
      ]
    },
    {
      "cell_type": "code",
      "metadata": {
        "id": "9kDz5KYDvzXp"
      },
      "source": [
        "style_targets = extractor(style_image)['style']\n",
        "content_targets = extractor(content_image)['content']"
      ],
      "execution_count": null,
      "outputs": []
    },
    {
      "cell_type": "markdown",
      "metadata": {
        "id": "7JfK4FwAv4zX"
      },
      "source": [
        "최적화시킬 이미지를 담을 tf.Variable을 정의하고 콘텐츠 이미지로 초기화합니다. (이때 tf.Variable는 콘텐츠 이미지와 크기가 같아야 합니다.):"
      ]
    },
    {
      "cell_type": "code",
      "metadata": {
        "id": "76_MnWxUv4Ap"
      },
      "source": [
        "image = tf.Variable(content_image)"
      ],
      "execution_count": null,
      "outputs": []
    },
    {
      "cell_type": "markdown",
      "metadata": {
        "id": "3tiz09ETv6wt"
      },
      "source": [
        "픽셀 값이 실수이므로 0과 1 사이로 클리핑하는 함수를 정의합니다:"
      ]
    },
    {
      "cell_type": "code",
      "metadata": {
        "id": "V7NhoQ8cv53B"
      },
      "source": [
        "def clip_0_1(image):\n",
        "  return tf.clip_by_value(image, clip_value_min=0.0, clip_value_max=1.0)"
      ],
      "execution_count": null,
      "outputs": []
    },
    {
      "cell_type": "markdown",
      "metadata": {
        "id": "p7GGzLvNv-j_"
      },
      "source": [
        "옵티마이저를 생성합니다. 참조 연구에서는 LBFGS를 추천하지만, Adam도 충분히 적합합니다:"
      ]
    },
    {
      "cell_type": "code",
      "metadata": {
        "id": "_d9qlxcXv83R"
      },
      "source": [
        "opt = tf.optimizers.Adam(learning_rate=0.02, beta_1=0.99, epsilon=1e-1)"
      ],
      "execution_count": null,
      "outputs": []
    },
    {
      "cell_type": "markdown",
      "metadata": {
        "id": "dIQyI2v3wB_U"
      },
      "source": [
        "최적화를 진행하기 위해, 전체 오차를 콘텐츠와 스타일 오차의 가중합으로 정의합니다:"
      ]
    },
    {
      "cell_type": "code",
      "metadata": {
        "id": "NPZPzeyzv_lR"
      },
      "source": [
        "style_weight=1e-2\n",
        "content_weight=1e4"
      ],
      "execution_count": null,
      "outputs": []
    },
    {
      "cell_type": "code",
      "metadata": {
        "id": "Lj80B9CawDK5"
      },
      "source": [
        "def style_content_loss(outputs):\n",
        "    style_outputs = outputs['style']\n",
        "    content_outputs = outputs['content']\n",
        "    style_loss = tf.add_n([tf.reduce_mean((style_outputs[name]-style_targets[name])**2) \n",
        "                           for name in style_outputs.keys()])\n",
        "    style_loss *= style_weight / num_style_layers\n",
        "\n",
        "    content_loss = tf.add_n([tf.reduce_mean((content_outputs[name]-content_targets[name])**2) \n",
        "                             for name in content_outputs.keys()])\n",
        "    content_loss *= content_weight / num_content_layers\n",
        "    loss = style_loss + content_loss\n",
        "    return loss"
      ],
      "execution_count": null,
      "outputs": []
    },
    {
      "cell_type": "markdown",
      "metadata": {
        "id": "5Og50s65wbVP"
      },
      "source": [
        "tf.GradientTape를 사용해 이미지를 업데이트합니다."
      ]
    },
    {
      "cell_type": "code",
      "metadata": {
        "id": "ZNpZvBI5wETB"
      },
      "source": [
        "@tf.function() \n",
        "def train_step(image):\n",
        "  with tf.GradientTape() as tape:\n",
        "    outputs = extractor(image)\n",
        "    loss = style_content_loss(outputs)\n",
        "\n",
        "  grad = tape.gradient(loss, image)\n",
        "  opt.apply_gradients([(grad, image)])\n",
        "  image.assign(clip_0_1(image))"
      ],
      "execution_count": null,
      "outputs": []
    },
    {
      "cell_type": "markdown",
      "metadata": {
        "id": "p6xjNBAVwdO9"
      },
      "source": [
        "구현한 알고리즘을 시험해보기 위해 몇 단계를 돌려봅시다:"
      ]
    },
    {
      "cell_type": "code",
      "metadata": {
        "id": "5qNQFAQFwcRB"
      },
      "source": [
        "train_step(image)\n",
        "train_step(image)\n",
        "train_step(image)\n",
        "tensor_to_image(image)"
      ],
      "execution_count": null,
      "outputs": []
    },
    {
      "cell_type": "markdown",
      "metadata": {
        "id": "OYzLpt0iwfDh"
      },
      "source": [
        "잘 작동하는 것을 확인했으니, 더 오랫동안 최적화를 진행해봅니다:"
      ]
    },
    {
      "cell_type": "code",
      "metadata": {
        "id": "ZUzbTKuyweJp"
      },
      "source": [
        "import time\n",
        "start = time.time()\n",
        "\n",
        "epochs = 10\n",
        "steps_per_epoch = 100\n",
        "\n",
        "step = 0\n",
        "for n in range(epochs):\n",
        "  for m in range(steps_per_epoch):\n",
        "    step += 1\n",
        "    train_step(image)\n",
        "    print(\".\", end='')\n",
        "  display.clear_output(wait=True)\n",
        "  display.display(tensor_to_image(image))\n",
        "  print(\"훈련 스텝: {}\".format(step))\n",
        "\n",
        "end = time.time()\n",
        "print(\"전체 소요 시간: {:.1f}\".format(end-start))"
      ],
      "execution_count": null,
      "outputs": []
    },
    {
      "cell_type": "markdown",
      "metadata": {
        "id": "xFjeQsxSwj5V"
      },
      "source": [
        "## 총 변위 손실\n",
        "\n",
        "\n",
        "이 기본 구현 방식의 한 가지 단점은 많은 고주파 아티팩(high frequency artifact)가 생겨난다는 점 입니다. 아티팩 생성을 줄이기 위해서는 이미지의 고주파 구성 요소에 대한 레귤러리제이션(regularization) 항을 추가해야 합니다. 스타일 전이에서는 이 변형된 오차값을 총 변위 손실(total variation loss)라고 합니다:"
      ]
    },
    {
      "cell_type": "code",
      "metadata": {
        "id": "cLosc66iwgOh"
      },
      "source": [
        "def high_pass_x_y(image):\n",
        "  x_var = image[:,:,1:,:] - image[:,:,:-1,:]\n",
        "  y_var = image[:,1:,:,:] - image[:,:-1,:,:]\n",
        "\n",
        "  return x_var, y_var"
      ],
      "execution_count": null,
      "outputs": []
    },
    {
      "cell_type": "code",
      "metadata": {
        "id": "ymRjiOjawm5R"
      },
      "source": [
        "x_deltas, y_deltas = high_pass_x_y(content_image)\n",
        "\n",
        "plt.figure(figsize=(14,10))\n",
        "plt.subplot(2,2,1)\n",
        "imshow(clip_0_1(2*y_deltas+0.5), \"Horizontal Deltas: Original\")\n",
        "\n",
        "plt.subplot(2,2,2)\n",
        "imshow(clip_0_1(2*x_deltas+0.5), \"Vertical Deltas: Original\")\n",
        "\n",
        "x_deltas, y_deltas = high_pass_x_y(image)\n",
        "\n",
        "plt.subplot(2,2,3)\n",
        "imshow(clip_0_1(2*y_deltas+0.5), \"Horizontal Deltas: Styled\")\n",
        "\n",
        "plt.subplot(2,2,4)\n",
        "imshow(clip_0_1(2*x_deltas+0.5), \"Vertical Deltas: Styled\")"
      ],
      "execution_count": null,
      "outputs": []
    },
    {
      "cell_type": "markdown",
      "metadata": {
        "id": "ZCTGSSShwpC-"
      },
      "source": [
        "위 이미지들은 고주파 구성 요소가 늘어났다는 것을 보여줍니다.\n",
        "\n",
        "한 가지 흥미로운 사실은 고주파 구성 요소가 경계선 탐지기의 일종이라는 점입니다. 이를테면 소벨 경계선 탐지기(Sobel edge detector)를 사용하면 유사한 출력을 얻을 수 있습니다:"
      ]
    },
    {
      "cell_type": "code",
      "metadata": {
        "id": "oNkNCGhswn0p"
      },
      "source": [
        "plt.figure(figsize=(14,10))\n",
        "\n",
        "sobel = tf.image.sobel_edges(content_image)\n",
        "plt.subplot(1,2,1)\n",
        "imshow(clip_0_1(sobel[...,0]/4+0.5), \"Horizontal Sobel-edges\")\n",
        "plt.subplot(1,2,2)\n",
        "imshow(clip_0_1(sobel[...,1]/4+0.5), \"Vertical Sobel-edges\")"
      ],
      "execution_count": null,
      "outputs": []
    },
    {
      "cell_type": "markdown",
      "metadata": {
        "id": "RlWBqXvuwrWd"
      },
      "source": [
        "정규화 오차는 각 값의 절대값의 합으로 표현됩니다:"
      ]
    },
    {
      "cell_type": "code",
      "metadata": {
        "id": "8UakxwIYwqNB"
      },
      "source": [
        "def total_variation_loss(image):\n",
        "  x_deltas, y_deltas = high_pass_x_y(image)\n",
        "  return tf.reduce_sum(tf.abs(x_deltas)) + tf.reduce_sum(tf.abs(y_deltas))"
      ],
      "execution_count": null,
      "outputs": []
    },
    {
      "cell_type": "code",
      "metadata": {
        "id": "-BjDpbEMwsg4"
      },
      "source": [
        "total_variation_loss(image).numpy()"
      ],
      "execution_count": null,
      "outputs": []
    },
    {
      "cell_type": "markdown",
      "metadata": {
        "id": "-M9hDGcDwuel"
      },
      "source": [
        "식이 잘 계산된다는 것을 확인할 수 있습니다. 하지만 다행히도 텐서플로에는 이미 표준 함수가 내장되어 있기 직접 오차식을 구현할 필요는 없습니다:"
      ]
    },
    {
      "cell_type": "code",
      "metadata": {
        "id": "Ku_9_B14wtbY"
      },
      "source": [
        "tf.image.total_variation(image).numpy()"
      ],
      "execution_count": null,
      "outputs": []
    },
    {
      "cell_type": "markdown",
      "metadata": {
        "id": "63WwAkkMwwmt"
      },
      "source": [
        "다시 최적화하기\n",
        "total_variation_loss를 위한 가중치를 정의합니다:"
      ]
    },
    {
      "cell_type": "code",
      "metadata": {
        "id": "MY0_-BRzwvdJ"
      },
      "source": [
        "total_variation_weight=30"
      ],
      "execution_count": null,
      "outputs": []
    },
    {
      "cell_type": "markdown",
      "metadata": {
        "id": "ZLNpp1jFwx9-"
      },
      "source": [
        "이제 이 가중치를 train_step 함수에서 사용합니다:"
      ]
    },
    {
      "cell_type": "code",
      "metadata": {
        "id": "JnvFwiuGwxbf"
      },
      "source": [
        "@tf.function()\n",
        "def train_step(image):\n",
        "  with tf.GradientTape() as tape:\n",
        "    outputs = extractor(image)\n",
        "    loss = style_content_loss(outputs)\n",
        "    loss += total_variation_weight*tf.image.total_variation(image)\n",
        "\n",
        "  grad = tape.gradient(loss, image)\n",
        "  opt.apply_gradients([(grad, image)])\n",
        "  image.assign(clip_0_1(image))"
      ],
      "execution_count": null,
      "outputs": []
    },
    {
      "cell_type": "markdown",
      "metadata": {
        "id": "fvymn1ijw0cO"
      },
      "source": [
        "최적화할 변수를 다시 초기화합니다:"
      ]
    },
    {
      "cell_type": "code",
      "metadata": {
        "id": "6ZKMu5p3wz0s"
      },
      "source": [
        "image = tf.Variable(content_image)"
      ],
      "execution_count": null,
      "outputs": []
    },
    {
      "cell_type": "markdown",
      "metadata": {
        "id": "1y6WUPZvw18V"
      },
      "source": [
        "최적화를 수행합니다:"
      ]
    },
    {
      "cell_type": "code",
      "metadata": {
        "id": "3Dk_n4Qnw1Yx"
      },
      "source": [
        "import time\n",
        "start = time.time()\n",
        "\n",
        "epochs = 10\n",
        "steps_per_epoch = 100\n",
        "\n",
        "step = 0\n",
        "for n in range(epochs):\n",
        "  for m in range(steps_per_epoch):\n",
        "    step += 1\n",
        "    train_step(image)\n",
        "    print(\".\", end='')\n",
        "  display.clear_output(wait=True)\n",
        "  display.display(tensor_to_image(image))\n",
        "  print(\"훈련 스텝: {}\".format(step))\n",
        "\n",
        "end = time.time()\n",
        "print(\"전체 소요 시간: {:.1f}\".format(end-start))"
      ],
      "execution_count": null,
      "outputs": []
    },
    {
      "cell_type": "code",
      "metadata": {
        "id": "cliCUxjYw49Q"
      },
      "source": [
        "file_name = 'stylized-image.png'\n",
        "tensor_to_image(image).save(file_name)\n",
        "\n",
        "try:\n",
        "  from google.colab import files\n",
        "except ImportError:\n",
        "   pass\n",
        "else:\n",
        "  files.download(file_name)"
      ],
      "execution_count": null,
      "outputs": []
    },
    {
      "cell_type": "markdown",
      "metadata": {
        "id": "yzfszG2aFQ1O"
      },
      "source": [
        "## Neural Transfer 다른 예제"
      ]
    },
    {
      "cell_type": "code",
      "metadata": {
        "id": "OHmybRFkFQAn"
      },
      "source": [
        "import functools\n",
        "import os\n",
        "\n",
        "from matplotlib import gridspec\n",
        "import matplotlib.pylab as plt\n",
        "import numpy as np\n",
        "import tensorflow as tf\n",
        "import tensorflow_hub as hub"
      ],
      "execution_count": null,
      "outputs": []
    },
    {
      "cell_type": "code",
      "metadata": {
        "id": "m3xBgtAWFTcg"
      },
      "source": [
        "print(\"TF Version: \", tf.__version__)\n",
        "print(\"TF-Hub version: \", hub.__version__)\n",
        "print(\"Eager mode enabled: \", tf.executing_eagerly())\n",
        "print(\"GPU available: \", tf.test.is_gpu_available())"
      ],
      "execution_count": null,
      "outputs": []
    },
    {
      "cell_type": "code",
      "metadata": {
        "id": "aqPSCoI-FTe4"
      },
      "source": [
        "def crop_center(image):\n",
        "  \"\"\"Returns a cropped square image.\"\"\"\n",
        "  shape = image.shape\n",
        "  new_shape = min(shape[1], shape[2])\n",
        "  offset_y = max(shape[1] - shape[2], 0) // 2\n",
        "  offset_x = max(shape[2] - shape[1], 0) // 2\n",
        "  image = tf.image.crop_to_bounding_box(\n",
        "      image, offset_y, offset_x, new_shape, new_shape)\n",
        "  return image\n",
        "\n",
        "@functools.lru_cache(maxsize=None)\n",
        "def load_image(image_url, image_size=(256, 256), preserve_aspect_ratio=True):\n",
        "  \"\"\"Loads and preprocesses images.\"\"\"\n",
        "  # Cache image file locally.\n",
        "  image_path = tf.keras.utils.get_file(os.path.basename(image_url)[-128:], image_url)\n",
        "  # Load and convert to float32 numpy array, add batch dimension, and normalize to range [0, 1].\n",
        "  img = plt.imread(image_path).astype(np.float32)[np.newaxis, ...]\n",
        "  if img.max() > 1.0:\n",
        "    img = img / 255.\n",
        "  if len(img.shape) == 3:\n",
        "    img = tf.stack([img, img, img], axis=-1)\n",
        "  img = crop_center(img)\n",
        "  img = tf.image.resize(img, image_size, preserve_aspect_ratio=True)\n",
        "  return img\n",
        "\n",
        "def show_n(images, titles=('',)):\n",
        "  n = len(images)\n",
        "  image_sizes = [image.shape[1] for image in images]\n",
        "  w = (image_sizes[0] * 6) // 320\n",
        "  plt.figure(figsize=(w  * n, w))\n",
        "  gs = gridspec.GridSpec(1, n, width_ratios=image_sizes)\n",
        "  for i in range(n):\n",
        "    plt.subplot(gs[i])\n",
        "    plt.imshow(images[i][0], aspect='equal')\n",
        "    plt.axis('off')\n",
        "    plt.title(titles[i] if len(titles) > i else '')\n",
        "  plt.show()"
      ],
      "execution_count": null,
      "outputs": []
    },
    {
      "cell_type": "code",
      "metadata": {
        "id": "s5eNykXuFjOH"
      },
      "source": [
        "output_image_size = 384 \n",
        "content_img_size = (output_image_size, output_image_size)\n",
        "style_img_size = (256, 256)"
      ],
      "execution_count": null,
      "outputs": []
    },
    {
      "cell_type": "code",
      "metadata": {
        "id": "K4iVYle3FTg-"
      },
      "source": [
        "content_image_url = 'https://d16yj43vx3i1f6.cloudfront.net/uploads/2019/10/GettyImages-803849852.jpg'\n",
        "style_image_url = 'https://vertexpages.com/wp-content/uploads/2019/10/farm.jpg'"
      ],
      "execution_count": null,
      "outputs": []
    },
    {
      "cell_type": "code",
      "metadata": {
        "id": "c5xiH8ZRFTjI"
      },
      "source": [
        "content_image = load_image(content_image_url, content_img_size)\n",
        "style_image = load_image(style_image_url, style_img_size)"
      ],
      "execution_count": null,
      "outputs": []
    },
    {
      "cell_type": "code",
      "metadata": {
        "id": "OlwbRVC3Flfu"
      },
      "source": [
        "style_image = tf.nn.avg_pool(style_image, ksize=[3,3], strides=[1,1], padding='SAME')\n",
        "show_n([content_image, style_image], ['Content image', 'Style image'])\n"
      ],
      "execution_count": null,
      "outputs": []
    },
    {
      "cell_type": "code",
      "metadata": {
        "id": "Ga8mNiSzFTlZ"
      },
      "source": [
        "import time\n",
        "start_time = time.time()"
      ],
      "execution_count": null,
      "outputs": []
    },
    {
      "cell_type": "code",
      "metadata": {
        "id": "BG3HxbKfFnsw"
      },
      "source": [
        "hub_handle = 'https://tfhub.dev/google/magenta/arbitrary-image-stylization-v1-256/2'\n",
        "hub_module = hub.load(hub_handle)"
      ],
      "execution_count": null,
      "outputs": []
    },
    {
      "cell_type": "code",
      "metadata": {
        "id": "UtIE2zWHFnu7"
      },
      "source": [
        "outputs = hub_module(content_image, style_image)\n",
        "stylized_image = outputs[0]"
      ],
      "execution_count": null,
      "outputs": []
    },
    {
      "cell_type": "code",
      "metadata": {
        "id": "6KR5ZH5pFnw9"
      },
      "source": [
        "# Stylize content image with given style image.\n",
        "# This is pretty fast within a few milliseconds on a GPU.\n",
        "\n",
        "outputs = hub_module(tf.constant(content_image), tf.constant(style_image))\n",
        "stylized_image = outputs[0]"
      ],
      "execution_count": null,
      "outputs": []
    },
    {
      "cell_type": "code",
      "metadata": {
        "id": "vwmmESGmFqZ2"
      },
      "source": [
        "# Visualize input images and the generated stylized image.\n",
        "\n",
        "show_n([content_image, style_image, stylized_image], titles=['Original content image', 'Style image', 'Stylized image'])"
      ],
      "execution_count": null,
      "outputs": []
    },
    {
      "cell_type": "code",
      "metadata": {
        "id": "EwbG01BWFqcE"
      },
      "source": [
        "end_time = time.time()\n",
        "print('Time Taken = ', end_time-start_time)"
      ],
      "execution_count": null,
      "outputs": []
    },
    {
      "cell_type": "code",
      "metadata": {
        "id": "DyXvQ2GTFqeM"
      },
      "source": [
        "content_image_url = 'https://upload.wikimedia.org/wikipedia/commons/thumb/1/1d/Taj_Mahal_%28Edited%29.jpeg/1920px-Taj_Mahal_%28Edited%29.jpeg'\n",
        "style_image_url = 'https://joeburciaga.files.wordpress.com/2013/02/tsunami-2698.jpg'"
      ],
      "execution_count": null,
      "outputs": []
    },
    {
      "cell_type": "code",
      "metadata": {
        "id": "qbm8Ov2WFqgZ"
      },
      "source": [
        "content_image = load_image(content_image_url, content_img_size)\n",
        "style_image = load_image(style_image_url, style_img_size)"
      ],
      "execution_count": null,
      "outputs": []
    },
    {
      "cell_type": "code",
      "metadata": {
        "id": "hZC5XrhtFt_A"
      },
      "source": [
        "style_image = tf.nn.avg_pool(style_image, ksize=[3,3], strides=[1,1], padding='SAME')\n",
        "show_n([content_image, style_image], ['Content image', 'Style image'])"
      ],
      "execution_count": null,
      "outputs": []
    },
    {
      "cell_type": "code",
      "metadata": {
        "id": "Tz4QTxOKFuA9"
      },
      "source": [
        "start_time = time.time()"
      ],
      "execution_count": null,
      "outputs": []
    },
    {
      "cell_type": "code",
      "metadata": {
        "id": "UvC-92XNFx6d"
      },
      "source": [
        "hub_handle = 'https://tfhub.dev/google/magenta/arbitrary-image-stylization-v1-256/2'\n",
        "hub_module = hub.load(hub_handle)"
      ],
      "execution_count": null,
      "outputs": []
    },
    {
      "cell_type": "code",
      "metadata": {
        "id": "KYJWBmFqFx8o"
      },
      "source": [
        "outputs = hub_module(content_image, style_image)\n",
        "stylized_image = outputs[0]"
      ],
      "execution_count": null,
      "outputs": []
    },
    {
      "cell_type": "code",
      "metadata": {
        "id": "xqWf1nLLFx-d"
      },
      "source": [
        "# Stylize content image with given style image.\n",
        "# This is pretty fast within a few milliseconds on a GPU.\n",
        "\n",
        "outputs = hub_module(tf.constant(content_image), tf.constant(style_image))\n",
        "stylized_image = outputs[0]"
      ],
      "execution_count": null,
      "outputs": []
    },
    {
      "cell_type": "code",
      "metadata": {
        "id": "8aTQ9zzfFyAn"
      },
      "source": [
        "# Visualize input images and the generated stylized image.\n",
        "\n",
        "show_n([content_image, style_image, stylized_image], titles=['Original content image', 'Style image', 'Stylized image'])"
      ],
      "execution_count": null,
      "outputs": []
    },
    {
      "cell_type": "code",
      "metadata": {
        "id": "6YZP54nkFuDR"
      },
      "source": [
        "end_time = time.time()\n",
        "print('Time Taken = ', end_time-start_time)"
      ],
      "execution_count": null,
      "outputs": []
    },
    {
      "cell_type": "markdown",
      "metadata": {
        "id": "6KcHaONNEuP-"
      },
      "source": [
        "## Generative Modeling\n",
        "\n",
        "생성모델링은 가지고있는 데이터 분포에서 sampling한 것 같은 새로운 데이터를 만드는 것입니다.\n",
        "생성모델링은 판별모델링과 비교하면 이해하기 쉽습니다. 판별모델링은 label y가 필요한 supervised learning이고, 생성모델링은 label y가 필요없는 unsupervised learning입니다. [label y가 있는 경우도 존재]\n",
        "\n",
        "- 판별 모델링 : Sample x가 주어졌을 때, label y의 확률 $P(y|x)$를 추정\n",
        "- 생성 모델링 : Sample x의 P(x)를 추정\n",
        "\n",
        "생성 모델링의 목적 : Want to learn $P_{model}(x)$ similart to $P_{data(x)}$\n",
        "\n",
        "<img src = 'https://user-images.githubusercontent.com/41895063/92600717-e533d280-f2e6-11ea-929c-6de6c090150e.png'>"
      ]
    },
    {
      "cell_type": "markdown",
      "metadata": {
        "id": "R89Dr5hqJzS_"
      },
      "source": [
        "\n",
        "\n",
        "\n",
        "<img src = 'https://user-images.githubusercontent.com/41895063/92600802-00064700-f2e7-11ea-8588-25ccb610f63a.png'>\n",
        "\n",
        "\n",
        "\n",
        "\n",
        "# Generative Adversarial Network(GAN)\n",
        "\n",
        "- 생성자와 식별자가 서로 경쟁(Adversarial)하며 데이터를 생성(Generative)하는 모델(network)을 뜻함.\n",
        "\n",
        "만약, GAN으로 인물 사진을 생성해 낸다면\n",
        "\n",
        "인물 사진을 만들어내는 것을 Generator(생성자)라고 하며\n",
        "\n",
        "만들어진 인물 사진을 평가하는 것을 Discriminator(구분자)라고 합니다.\n",
        "\n",
        "생성자와 구분자가 서로 대립하며(Adversarial:대립하는) 서로의 성능을 점차 개선해 나가는 쪽으로 학습이 진행되는 것이 주요 개념.\n",
        "\n",
        "- 머신러닝은 크게 3가지 개념 지도학습/강화학습/비지도학습 으로 분류되는데, GAN은 '비지도 학습'에 해당합니다.\n",
        "\n",
        "<img src = 'https://media.vlpt.us/images/tobigs-gm1/post/b6751877-1293-4be7-b2b1-c31e4d013000/image.png'>\n",
        "\n",
        "\n",
        "출처 : https://velog.io/@tobigs-gm1/basicofgan"
      ]
    },
    {
      "cell_type": "markdown",
      "metadata": {
        "id": "uMN9iGs8lamc"
      },
      "source": [
        "<img src = 'https://img1.daumcdn.net/thumb/R1280x0/?scode=mtistory2&fname=https%3A%2F%2Fblog.kakaocdn.net%2Fdn%2FdsLkY2%2FbtqDx6ibwSp%2FFKgJojS3w2gsh9EP1XYVuK%2Fimg.png'>\n",
        "\n",
        "- Generator(생성자) : 생성된 z를 받아, 실제 데이터와 비슷한 데이터를 만들어내는 학습\n",
        "\n",
        "- Discriminator(구분자) : 실제 데이터와 생성자가 생성한 가짜 데이터를 구별하도록 학습.\n",
        "\n",
        "\n",
        "Generator는 입력 데이터의 분포(distribution)를 알아내도록 학습합니다. 이 분포를 재현하여 원 데이터의 분포와 차이가 없도록 하고 Discriminator는 실데이터인지 가짜 데이터인지 구별해서 각각에 대한 확률을 추정합니다.\n",
        "\n",
        "<img src = 'https://img1.daumcdn.net/thumb/R1280x0/?scode=mtistory2&fname=https%3A%2F%2Fblog.kakaocdn.net%2Fdn%2FbzJmhS%2FbtqDx5jj8a2%2FaWL1vbWkBBXyun7Ll9lpW0%2Fimg.png'>\n",
        "\n"
      ]
    },
    {
      "cell_type": "markdown",
      "metadata": {
        "id": "iVTVPaoVpuK2"
      },
      "source": [
        "만약 Generator가 정확히 입력 데이터의 분포를 표현할 수 있으면 거기서 뽑은 샘플은 실제 데이터와 구별이 불가능 할 것입니다. Discriminator는 현재 데이터의 샘플이 진짜 데이터(입력)인지, 아니면 Generator로부터 만들어진 것인지 구별해서 각각의 경우에 대한 확률을 평가합니다.\n",
        "\n",
        " \n",
        "\n",
        "실제 데이터의 분포에 가까운 데이터를 생성하는 것이 GAN이 가진 궁극적인 목표이며, 생성자(Generator)는 구분자(Discriminator)가 거짓으로 판별하지 못하도록 가짜 데이터를 진짜 데이터와 가깝게 생성하도록 노력합니다. 이 과정을 통해 생성자(Generator)와 구분자(Discriminator)의 성능이 점차 개선되고 궁극적으로는 구분자(Discriminator)가 실제 데이터와 가짜 데이터를 구분하지 못하게 만드는 것이 목표입니다.\n",
        "\n",
        "\n",
        "## GAN의 학습\n",
        "\n",
        "<img src = 'https://img1.daumcdn.net/thumb/R1280x0/?scode=mtistory2&fname=https%3A%2F%2Fblog.kakaocdn.net%2Fdn%2FbRwvnH%2FbtqDzkNAl8w%2FxRJmkKhyZLCATOxU6nMk2K%2Fimg.png'>"
      ]
    },
    {
      "cell_type": "markdown",
      "metadata": {
        "id": "R_LHJljSrxZp"
      },
      "source": [
        "GAN의 구성요소인 두 모델 Generator와 Discriminator의 학습 진행 방법은 이러합니다.\n",
        "\n",
        "처음 학습이 진행되기 이전에 Real데이터의 확률분포, Generator의 확률분포, Discriminator의 확률분포의 그림이 (a)입니다. Discriminator는 Generator와 기존 확률 분포가 얼마나 다른지 판단합니다. 그리고 Generator는 Real 확률분포에 맞춰 Discriminator를 속이기 위한 쪽으로 생성모델을 수정해 나가고 궁극적으로 Generator의 확률분포가 Real데이터의 확률분포와 차이를 줄여나가는 과정을 가지게 됩니다. (D(x)=0.5파란선)\n",
        "\n",
        "\n",
        "\n",
        "- GAN은 결국 주어진 데이터의 확률 분포를 예측하는 모델이다.\n",
        "\n",
        "여기서 확률 분포간 차이를 계산하기위해 'JSD'를 사용합니다. JSD는 두개의 'KLD'를 통해서 이루어지며 공식은 다음과 같습니다.\n",
        "\n",
        " \n",
        "### KLD(Kullback-Leibler Divergence)\n",
        ": 같은 확률변수 x에 대한 2개의 확률분포 P(x)와 Q(x)가 있을 때, 이 두 분포사이의 차이를 의미\n",
        "\n",
        "<img src = 'https://img1.daumcdn.net/thumb/R1280x0/?scode=mtistory2&fname=https%3A%2F%2Fblog.kakaocdn.net%2Fdn%2F9jVnW%2FbtqDAB89MVQ%2FlkQlw4rIO5BZiAe2A5MJEK%2Fimg.png'>\n",
        "\n",
        "### JSD(Jensen-Shannon Divergence)\n",
        " : : KLD의 문제는 asymmetric하다는 것. KL(P|Q)KL(P|Q)와 KL(Q|P)KL(Q|P)의 값이 서로 다르기 때문에 이를 “거리”라는 척도로 사용하기에는 애매한 부분이 존재하며 JSD는 이러한 문제를 해결할 수 있는 방법.\n",
        "\n",
        "<img src = 'https://www.oreilly.com/library/view/generative-adversarial-networks/9781789136678/assets/ce0afe99-4137-4673-985a-b073ab66c347.png'>\n",
        "\n",
        "\n",
        "참고 : https://hyunw.kim/blog/2017/10/27/KL_divergence.html\n",
        "\n",
        "https://hyeongminlee.github.io/post/prob002_kld_jsd/"
      ]
    },
    {
      "cell_type": "markdown",
      "metadata": {
        "id": "nUTSSQPgtcuQ"
      },
      "source": [
        "### DCGAN(Deep Convolutional GAN,2015)\n",
        "\n",
        "CNN구조로 판별자 D와 생성자 G를 구성한 GAN입니다. 판별자 D는 이미지(예 28x28x3)를 입력으로 받아 binary classification을 수행하므로 CNN구조를, 생성자 G는 random vector z(예 (100,1))를 입력으로 받아 이미지(28x28x3)을 생성해야므로 deconvolutional network구조를 갖게됩니다.\n",
        "\n",
        "\n",
        "또한 pooling layer를 사용하지 않고 stride 2이상인 convolution,deconvolution을 사용하였습니다.\n",
        "\n",
        "**deconvolution 참고 : https://zzsza.github.io/data/2018/06/25/upsampling-with-transposed-convolution/**\n",
        "\n",
        "\n",
        "<img src='https://media.vlpt.us/images/tobigs-gm1/post/c6e7c755-97c1-41d9-bcbb-df5b2667b422/image.png'>"
      ]
    },
    {
      "cell_type": "markdown",
      "metadata": {
        "id": "FKoQLSFNtkY4"
      },
      "source": [
        "DCGAN의 논문에서, Z space의 연산이 가능하다는 내용을 언급합니다.\n",
        "예를 들어, \"안경 쓴 남자\"에 해당하는 z-vector에서 \"안경을 쓰지 않은 남자\"에 해당하는 z-vector를 빼고, \"안경을 쓰지 않은 여자\"에 해당하는 z-vector를 더한다면 그 z-vector로 생성한 이미지는 \"안경을 쓴 여자\"라는 겁니다. (vector space arithmetic)\n",
        "[하지만, \"안경 쓴 남자\"-\"안경 쓰지 않은 남자\"에 해당하는 z-vector로 이미지를 생성한다고 \"안경\"의 이미지가 나오는 것은 아닙니다. ]"
      ]
    },
    {
      "cell_type": "code",
      "metadata": {
        "id": "ZOOBcHz-todC"
      },
      "source": [
        "import tensorflow as tf"
      ],
      "execution_count": null,
      "outputs": []
    },
    {
      "cell_type": "code",
      "metadata": {
        "id": "fg4ELXF1tqMx"
      },
      "source": [
        "# GIF를 만들기위해 설치합니다.\n",
        "!pip install -q imageio"
      ],
      "execution_count": null,
      "outputs": []
    },
    {
      "cell_type": "code",
      "metadata": {
        "id": "KHbDUS1wtsD6"
      },
      "source": [
        "import glob\n",
        "import imageio\n",
        "import matplotlib.pyplot as plt\n",
        "import numpy as np\n",
        "import os\n",
        "import PIL\n",
        "from tensorflow.keras import layers\n",
        "import time\n",
        "\n",
        "from IPython import display"
      ],
      "execution_count": null,
      "outputs": []
    },
    {
      "cell_type": "markdown",
      "metadata": {
        "id": "awoZvYxetuY2"
      },
      "source": [
        "data loading"
      ]
    },
    {
      "cell_type": "code",
      "metadata": {
        "id": "ZIcUqlIsttLR"
      },
      "source": [
        "(train_images, train_labels), (_, _) = tf.keras.datasets.mnist.load_data()"
      ],
      "execution_count": null,
      "outputs": []
    },
    {
      "cell_type": "code",
      "metadata": {
        "id": "3BZKP7uOtvgh"
      },
      "source": [
        "train_images = train_images.reshape(train_images.shape[0], 28, 28, 1).astype('float32')\n",
        "train_images = (train_images - 127.5) / 127.5 # 이미지를 [-1, 1]로 정규화합니다."
      ],
      "execution_count": null,
      "outputs": []
    },
    {
      "cell_type": "code",
      "metadata": {
        "id": "qcozsZQztwqp"
      },
      "source": [
        "BUFFER_SIZE = 60000\n",
        "BATCH_SIZE = 256"
      ],
      "execution_count": null,
      "outputs": []
    },
    {
      "cell_type": "code",
      "metadata": {
        "id": "5-PPq9ULtxii"
      },
      "source": [
        "# 데이터 배치를 만들고 섞습니다.\n",
        "train_dataset = tf.data.Dataset.from_tensor_slices(train_images).shuffle(BUFFER_SIZE).batch(BATCH_SIZE)"
      ],
      "execution_count": null,
      "outputs": []
    },
    {
      "cell_type": "markdown",
      "metadata": {
        "id": "7NeZN8yAt0WZ"
      },
      "source": [
        "### model 생성\n",
        "\n",
        "####생성자\n",
        "\n",
        "\n",
        "생성자는 시드값 (seed; 랜덤한 잡음)으로부터 이미지를 생성하기 위해, tf.keras.layers.Conv2DTranspose (업샘플링) 층을 이용합니다. 처음 Dense층은 이 시드값을 인풋으로 받습니다. 그 다음 원하는 사이즈 28x28x1의 이미지가 나오도록 업샘플링을 여러번 합니다. tanh를 사용하는 마지막 층을 제외한 나머지 각 층마다 활성함수로 tf.keras.layers.LeakyReLU을 사용하고 있음을 주목합시다."
      ]
    },
    {
      "cell_type": "code",
      "metadata": {
        "id": "X2yu00L8tyda"
      },
      "source": [
        "def make_generator_model():\n",
        "    model = tf.keras.Sequential()\n",
        "    model.add(layers.Dense(7*7*256, use_bias=False, input_shape=(100,)))\n",
        "    model.add(layers.BatchNormalization())\n",
        "    model.add(layers.LeakyReLU())\n",
        "\n",
        "    model.add(layers.Reshape((7, 7, 256)))\n",
        "    assert model.output_shape == (None, 7, 7, 256) # 주목: 배치사이즈로 None이 주어집니다.\n",
        "\n",
        "    model.add(layers.Conv2DTranspose(128, (5, 5), strides=(1, 1), padding='same', use_bias=False))\n",
        "    assert model.output_shape == (None, 7, 7, 128)\n",
        "    model.add(layers.BatchNormalization())\n",
        "    model.add(layers.LeakyReLU())\n",
        "\n",
        "    model.add(layers.Conv2DTranspose(64, (5, 5), strides=(2, 2), padding='same', use_bias=False))\n",
        "    assert model.output_shape == (None, 14, 14, 64)\n",
        "    model.add(layers.BatchNormalization())\n",
        "    model.add(layers.LeakyReLU())\n",
        "\n",
        "    model.add(layers.Conv2DTranspose(1, (5, 5), strides=(2, 2), padding='same', use_bias=False, activation='tanh'))\n",
        "    assert model.output_shape == (None, 28, 28, 1)\n",
        "\n",
        "    return model"
      ],
      "execution_count": null,
      "outputs": []
    },
    {
      "cell_type": "markdown",
      "metadata": {
        "id": "kHmehhTct5tQ"
      },
      "source": [
        "(아직 훈련이 되지않은) 생성자를 이용해 이미지를 생성해봅시다."
      ]
    },
    {
      "cell_type": "code",
      "metadata": {
        "id": "fpox6MfQt34C"
      },
      "source": [
        "generator = make_generator_model()\n",
        "\n",
        "noise = tf.random.normal([1, 100])\n",
        "generated_image = generator(noise, training=False)\n",
        "\n",
        "plt.imshow(generated_image[0, :, :, 0], cmap='gray')"
      ],
      "execution_count": null,
      "outputs": []
    },
    {
      "cell_type": "markdown",
      "metadata": {
        "id": "jWdoFZ4Kt9DQ"
      },
      "source": [
        "#### 감별자\n",
        "\n",
        "\n",
        "감별자는 합성곱 신경망(Convolutional Neural Network, CNN) 기반의 이미지 분류기입니다."
      ]
    },
    {
      "cell_type": "code",
      "metadata": {
        "id": "Vm1R9POEt6nV"
      },
      "source": [
        "def make_discriminator_model():\n",
        "    model = tf.keras.Sequential()\n",
        "    model.add(layers.Conv2D(64, (5, 5), strides=(2, 2), padding='same',\n",
        "                                     input_shape=[28, 28, 1]))\n",
        "    model.add(layers.LeakyReLU())\n",
        "    model.add(layers.Dropout(0.3))\n",
        "\n",
        "    model.add(layers.Conv2D(128, (5, 5), strides=(2, 2), padding='same'))\n",
        "    model.add(layers.LeakyReLU())\n",
        "    model.add(layers.Dropout(0.3))\n",
        "\n",
        "    model.add(layers.Flatten())\n",
        "    model.add(layers.Dense(1))\n",
        "\n",
        "    return model"
      ],
      "execution_count": null,
      "outputs": []
    },
    {
      "cell_type": "markdown",
      "metadata": {
        "id": "ZsPrjIdat_hm"
      },
      "source": [
        "(아직까지 훈련이 되지 않은) 감별자를 사용하여, 생성된 이미지가 진짜인지 가짜인지 판별합니다. 모델은 진짜 이미지에는 양수의 값 (positive values)을, 가짜 이미지에는 음수의 값 (negative values)을 출력하도록 훈련되어집니다.|"
      ]
    },
    {
      "cell_type": "code",
      "metadata": {
        "id": "cRDcKYXnt_F5"
      },
      "source": [
        "discriminator = make_discriminator_model()\n",
        "decision = discriminator(generated_image)\n",
        "print (decision)"
      ],
      "execution_count": null,
      "outputs": []
    },
    {
      "cell_type": "markdown",
      "metadata": {
        "id": "YIuBsn-3uHzo"
      },
      "source": [
        "#### 손실함수와 옵티마이저 정의\n",
        "\n",
        "두 모델의 손실함수와 옵티마이저를 정의합니다."
      ]
    },
    {
      "cell_type": "code",
      "metadata": {
        "id": "c3oS63HduBYZ"
      },
      "source": [
        "# 이 메서드는 크로스 엔트로피 손실함수 (cross entropy loss)를 계산하기 위해 헬퍼 (helper) 함수를 반환합니다.\n",
        "cross_entropy = tf.keras.losses.BinaryCrossentropy(from_logits=True)"
      ],
      "execution_count": null,
      "outputs": []
    },
    {
      "cell_type": "markdown",
      "metadata": {
        "id": "Rbx9YvSPuKsX"
      },
      "source": [
        "감별자 손실함수\n",
        "\n",
        "\n",
        "이 메서드는 감별자가 가짜 이미지에서 얼마나 진짜 이미지를 잘 판별하는지 수치화합니다. 진짜 이미지에 대한 감별자의 예측과 1로 이루어진 행렬을 비교하고, 가짜 (생성된) 이미지에 대한 감별자의 예측과 0으로 이루어진 행렬을 비교합니다."
      ]
    },
    {
      "cell_type": "code",
      "metadata": {
        "id": "_yCOZ-PquJyI"
      },
      "source": [
        "def discriminator_loss(real_output, fake_output):\n",
        "    real_loss = cross_entropy(tf.ones_like(real_output), real_output)\n",
        "    fake_loss = cross_entropy(tf.zeros_like(fake_output), fake_output)\n",
        "    total_loss = real_loss + fake_loss\n",
        "    return total_loss"
      ],
      "execution_count": null,
      "outputs": []
    },
    {
      "cell_type": "markdown",
      "metadata": {
        "id": "rLUNGiNXuNkh"
      },
      "source": [
        "#### 생성자 손실함수\n",
        "\n",
        "\n",
        "생성자의 손실함수는 감별자를 얼마나 잘 속였는지에 대해 수치화를 합니다. 직관적으로 생성자가 원활히 수행되고 있다면, 감별자는 가짜 이미지를 진짜 (또는 1)로 분류를 할 것입니다. 여기서 우리는 생성된 이미지에 대한 감별자의 결정을 1로 이루어진 행렬과 비교를 할 것입니다."
      ]
    },
    {
      "cell_type": "code",
      "metadata": {
        "id": "YfbIhM8iuMvx"
      },
      "source": [
        "def generator_loss(fake_output):\n",
        "    return cross_entropy(tf.ones_like(fake_output), fake_output)"
      ],
      "execution_count": null,
      "outputs": []
    },
    {
      "cell_type": "markdown",
      "metadata": {
        "id": "DX1YKCjJuQog"
      },
      "source": [
        "감별자와 생성자는 따로 훈련되기 때문에, 감별자와 생성자의 옵티마이저는 다릅니다."
      ]
    },
    {
      "cell_type": "code",
      "metadata": {
        "id": "qdA8Bee5uP8B"
      },
      "source": [
        "generator_optimizer = tf.keras.optimizers.Adam(1e-4) \n",
        "discriminator_optimizer = tf.keras.optimizers.Adam(1e-4)"
      ],
      "execution_count": null,
      "outputs": []
    },
    {
      "cell_type": "markdown",
      "metadata": {
        "id": "196KEuebuSAW"
      },
      "source": [
        "#### 체크 포인트 저장"
      ]
    },
    {
      "cell_type": "code",
      "metadata": {
        "id": "NzbLJU9auRpi"
      },
      "source": [
        "checkpoint_dir = './training_checkpoints'\n",
        "checkpoint_prefix = os.path.join(checkpoint_dir, \"ckpt\")\n",
        "checkpoint = tf.train.Checkpoint(generator_optimizer=generator_optimizer,\n",
        "                                 discriminator_optimizer=discriminator_optimizer,\n",
        "                                 generator=generator,\n",
        "                                 discriminator=discriminator)"
      ],
      "execution_count": null,
      "outputs": []
    },
    {
      "cell_type": "markdown",
      "metadata": {
        "id": "n75x6QZSuVbx"
      },
      "source": [
        "#### 훈련하기"
      ]
    },
    {
      "cell_type": "code",
      "metadata": {
        "id": "JnEVlCLNuUn4"
      },
      "source": [
        "EPOCHS = 50\n",
        "noise_dim = 100\n",
        "num_examples_to_generate = 16\n",
        "\n",
        "# 이 시드를 시간이 지나도 재활용하겠습니다. \n",
        "# (GIF 애니메이션에서 진전 내용을 시각화하는데 쉽기 때문입니다.) \n",
        "seed = tf.random.normal([num_examples_to_generate, noise_dim])"
      ],
      "execution_count": null,
      "outputs": []
    },
    {
      "cell_type": "markdown",
      "metadata": {
        "id": "9EsLEhH_uZPQ"
      },
      "source": [
        "훈련 루프는 생성자가 입력으로 랜덤시드를 받는 것으로부터 시작됩니다. 그 시드값을 사용하여 이미지를 생성합니다. 감별자를 사용하여 (훈련 세트에서 갖고온) 진짜 이미지와 (생성자가 생성해낸) 가짜이미지를 분류합니다. 각 모델의 손실을 계산하고, 그래디언트 (gradients)를 사용해 생성자와 감별자를 업데이트합니다."
      ]
    },
    {
      "cell_type": "code",
      "metadata": {
        "id": "KvqHdQRxuYOB"
      },
      "source": [
        "# `tf.function`이 어떻게 사용되는지 주목해 주세요.\n",
        "# 이 데코레이터는 함수를 \"컴파일\"합니다.\n",
        "@tf.function\n",
        "def train_step(images):\n",
        "    noise = tf.random.normal([BATCH_SIZE, noise_dim])\n",
        "\n",
        "    with tf.GradientTape() as gen_tape, tf.GradientTape() as disc_tape:\n",
        "      generated_images = generator(noise, training=True)\n",
        "\n",
        "      real_output = discriminator(images, training=True)\n",
        "      fake_output = discriminator(generated_images, training=True)\n",
        "\n",
        "      gen_loss = generator_loss(fake_output)\n",
        "      disc_loss = discriminator_loss(real_output, fake_output)\n",
        "\n",
        "    gradients_of_generator = gen_tape.gradient(gen_loss, generator.trainable_variables)\n",
        "    gradients_of_discriminator = disc_tape.gradient(disc_loss, discriminator.trainable_variables)\n",
        "\n",
        "    generator_optimizer.apply_gradients(zip(gradients_of_generator, generator.trainable_variables))\n",
        "    discriminator_optimizer.apply_gradients(zip(gradients_of_discriminator, discriminator.trainable_variables))"
      ],
      "execution_count": null,
      "outputs": []
    },
    {
      "cell_type": "code",
      "metadata": {
        "id": "Z377dhwxuaha"
      },
      "source": [
        "def train(dataset, epochs):\n",
        "  for epoch in range(epochs):\n",
        "    start = time.time()\n",
        "\n",
        "    for image_batch in dataset:\n",
        "      train_step(image_batch)\n",
        "\n",
        "    # GIF를 위한 이미지를 바로 생성합니다.\n",
        "    display.clear_output(wait=True)\n",
        "    generate_and_save_images(generator,\n",
        "                             epoch + 1,\n",
        "                             seed)\n",
        "\n",
        "    # 15 에포크가 지날 때마다 모델을 저장합니다.\n",
        "    if (epoch + 1) % 15 == 0:\n",
        "      checkpoint.save(file_prefix = checkpoint_prefix)\n",
        "\n",
        "    # print (' 에포크 {} 에서 걸린 시간은 {} 초 입니다'.format(epoch +1, time.time()-start))\n",
        "    print ('Time for epoch {} is {} sec'.format(epoch + 1, time.time()-start))\n",
        "\n",
        "  # 마지막 에포크가 끝난 후 생성합니다.\n",
        "  display.clear_output(wait=True)\n",
        "  generate_and_save_images(generator,\n",
        "                           epochs,\n",
        "                           seed)"
      ],
      "execution_count": null,
      "outputs": []
    },
    {
      "cell_type": "markdown",
      "metadata": {
        "id": "4hujNi45ucMw"
      },
      "source": [
        "#### 이미지 생성 및 저장"
      ]
    },
    {
      "cell_type": "code",
      "metadata": {
        "id": "W8jIVaucub3J"
      },
      "source": [
        "def generate_and_save_images(model, epoch, test_input):\n",
        "  # `training`이 False로 맞춰진 것을 주목하세요.\n",
        "  # 이렇게 하면 (배치정규화를 포함하여) 모든 층들이 추론 모드로 실행됩니다. \n",
        "  predictions = model(test_input, training=False)\n",
        "\n",
        "  fig = plt.figure(figsize=(4,4))\n",
        "\n",
        "  for i in range(predictions.shape[0]):\n",
        "      plt.subplot(4, 4, i+1)\n",
        "      plt.imshow(predictions[i, :, :, 0] * 127.5 + 127.5, cmap='gray')\n",
        "      plt.axis('off')\n",
        "\n",
        "  plt.savefig('image_at_epoch_{:04d}.png'.format(epoch))\n",
        "  plt.show()"
      ],
      "execution_count": null,
      "outputs": []
    },
    {
      "cell_type": "markdown",
      "metadata": {
        "id": "0khOodu9ufu5"
      },
      "source": [
        "#### 모델 훈련"
      ]
    },
    {
      "cell_type": "markdown",
      "metadata": {
        "id": "DyyDz7LUuhrL"
      },
      "source": [
        "위에 정의된 train() 메서드를 생성자와 감별자를 동시에 훈련하기 위해 호출합니다. 생성적 적대 신경망을 학습하는 것은 매우 까다로울 수 있습니다. 생성자와 감별자가 서로를 제압하지 않는 것이 중요합니다. (예를 들어 학습률이 비슷하면 한쪽이 우세해집니다.) 훈련 초반부에는 생성된 이미지는 랜덤한 노이즈처럼 보입니다. 훈련이 진행될수록, 생성된 숫자는 점차 진짜처럼 보일 것입니다. 약 50 에포크가 지난 후, MNIST 숫자와 닮은 이미지가 생성됩니다. 코랩에서 기본 설정으로 실행하면, 에포크마다 1분정도 소요될 것입니다."
      ]
    },
    {
      "cell_type": "code",
      "metadata": {
        "id": "HEYBKgQ5ufXh"
      },
      "source": [
        "%%time\n",
        "train(train_dataset, EPOCHS)"
      ],
      "execution_count": null,
      "outputs": []
    },
    {
      "cell_type": "code",
      "metadata": {
        "id": "gsKz0m2FuisB"
      },
      "source": [
        "checkpoint.restore(tf.train.latest_checkpoint(checkpoint_dir))"
      ],
      "execution_count": null,
      "outputs": []
    },
    {
      "cell_type": "code",
      "metadata": {
        "id": "9VuFgmQfuj9x"
      },
      "source": [
        "# 에포크 숫자를 사용하여 하나의 이미지를 보여줍니다.\n",
        "def display_image(epoch_no):\n",
        "  return PIL.Image.open('image_at_epoch_{:04d}.png'.format(epoch_no))"
      ],
      "execution_count": null,
      "outputs": []
    },
    {
      "cell_type": "code",
      "metadata": {
        "id": "bHGQoQzvuk9B"
      },
      "source": [
        "display_image(EPOCHS)"
      ],
      "execution_count": null,
      "outputs": []
    },
    {
      "cell_type": "code",
      "metadata": {
        "id": "ldk8ftuwulqp"
      },
      "source": [
        "anim_file = 'dcgan.gif'\n",
        "\n",
        "with imageio.get_writer(anim_file, mode='I') as writer:\n",
        "  filenames = glob.glob('image*.png')\n",
        "  filenames = sorted(filenames)\n",
        "  last = -1\n",
        "  for i,filename in enumerate(filenames):\n",
        "    frame = 2*(i**0.5)\n",
        "    if round(frame) > round(last):\n",
        "      last = frame\n",
        "    else:\n",
        "      continue\n",
        "    image = imageio.imread(filename)\n",
        "    writer.append_data(image)\n",
        "  image = imageio.imread(filename)\n",
        "  writer.append_data(image)\n",
        "\n",
        "import IPython\n",
        "if IPython.version_info > (6,2,0,''):\n",
        "  display.Image(filename=anim_file)"
      ],
      "execution_count": null,
      "outputs": []
    },
    {
      "cell_type": "markdown",
      "metadata": {
        "id": "kILCpDURupBp"
      },
      "source": [
        "코랩에서 작업하고 있다면, 아래의 코드에서 애니메이션을 다운로드 받을 수 있습니다:"
      ]
    },
    {
      "cell_type": "code",
      "metadata": {
        "id": "HyvkujpRunlJ"
      },
      "source": [
        "# try:\n",
        "#   from google.colab import files\n",
        "# except ImportError:\n",
        "#   pass\n",
        "# else:\n",
        "#   files.download(anim_file)"
      ],
      "execution_count": null,
      "outputs": []
    },
    {
      "cell_type": "code",
      "metadata": {
        "id": "SLq4n4th_aXZ"
      },
      "source": [],
      "execution_count": null,
      "outputs": []
    }
  ]
}