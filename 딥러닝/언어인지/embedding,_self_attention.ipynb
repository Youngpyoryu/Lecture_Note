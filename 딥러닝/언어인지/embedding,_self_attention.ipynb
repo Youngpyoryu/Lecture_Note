{
  "nbformat": 4,
  "nbformat_minor": 0,
  "metadata": {
    "colab": {
      "provenance": []
    },
    "kernelspec": {
      "name": "python3",
      "display_name": "Python 3"
    },
    "language_info": {
      "name": "python"
    }
  },
  "cells": [
    {
      "cell_type": "markdown",
      "source": [
        "단어 -> 임베딩(embedding space) -> RNN -> context vector\n",
        "\n",
        "## Embedding이란?\n",
        "\n",
        ": 단어를 숫자로 바꾸는 것. 단순한 숫자로 바뀌는 것이 아니라, \"의미를 가진 벡터\"로 바꾸는 것\n",
        "\n",
        "ex)\n",
        "\n",
        "\"나는\"   / 임베딩 벡터 : [0.2,0.4]\n",
        "\n",
        "\"학교에\" / 임베딩 벡터 : [0.7,0.1]\n",
        "\n",
        "\"간다\" / 임베딩 벡터 : [0.9,0.3]\n",
        "\n",
        "이렇게 단어 하나를 2차원 공간에 표현 하는 것.\n",
        "이 공간이 임베딩 공간(embedding space)라고 함."
      ],
      "metadata": {
        "id": "bXNh3PGzLhmh"
      }
    },
    {
      "cell_type": "markdown",
      "source": [
        "Context vector\n",
        "\n",
        "여러 단어가 있는 문장에서 핵심 의미를 요약한 벡터"
      ],
      "metadata": {
        "id": "P00jyPOCNhza"
      }
    },
    {
      "cell_type": "code",
      "execution_count": null,
      "metadata": {
        "colab": {
          "base_uri": "https://localhost:8080/"
        },
        "id": "CI8dCVfdLWvR",
        "outputId": "818edbaf-8c5f-4499-bca0-76079451e491"
      },
      "outputs": [
        {
          "output_type": "stream",
          "name": "stdout",
          "text": [
            "단어 인덱스 :  [1, 2, 3]\n",
            "임베딩된 단어 벡터\n",
            "[[0.1 0.3]\n",
            " [0.7 0.2]\n",
            " [0.6 0.9]]\n"
          ]
        }
      ],
      "source": [
        "import numpy as np\n",
        "\n",
        "#1. 단어를 숫자로 표현\n",
        "\n",
        "word_to_index = {'<pad>' : 0, '나는':1,'학교에':2,'간다':3}\n",
        "sentence = ['나는','학교에', '간다']\n",
        "word_indices = [word_to_index[word] for word in sentence] #1,2,3\n",
        "\n",
        "print('단어 인덱스 : ', word_indices)\n",
        "\n",
        "# 2. 임베딩 공간으로 변환\n",
        "vocab_size = len(word_to_index) #4개\n",
        "embedding_size = 2 #각 단어를 2차원 벡터로 변환\n",
        "\n",
        "#(vocab_size, embedding_dim) :임베딩 행렬\n",
        "embedding_matrix = np.array([\n",
        "    [0.0, 0.0], #<pad>\n",
        "    [0.1, 0.3], #나는\n",
        "    [0.7, 0.2], #학교에\n",
        "    [0.6, 0.9] #간다\n",
        "])\n",
        "\n",
        "#인덱스를 임베딩으로 바꾸기\n",
        "embedded = embedding_matrix[word_indices] #(3,2)\n",
        "print('임베딩된 단어 벡터')\n",
        "print(embedded)"
      ]
    },
    {
      "cell_type": "code",
      "source": [
        "#3.RNN처럼 하나씩 순서대로 처리\n",
        "\n",
        "#hidden state를 초기화\n",
        "hidden_dim = 2\n",
        "h_t = np.zeros(hidden_dim)\n",
        "\n",
        "#RNN 가중치 초기화(랜덤 혹은 고정)\n",
        "W = np.array([[0.5,0.4],[0.3,0.8]]) #(hidden_dim, embedding_dim)\n",
        "U = np.array([[0.1, 0.2], [0.7, 0.6]]) # (hidden_dim, hidden_dim)\n",
        "b = np.array([0.05,0.1]) #(hidden_dim)\n",
        "\n",
        "hidden_state = []\n",
        "\n",
        "# RNN 계산 :  h_t = tanh(W*x_t+U*h_{t-1}+b)\n",
        "for x_t in embedded:\n",
        "    h_t = np.tanh(np.dot(W,x_t)+np.dot(U,h_t)+b)\n",
        "    hidden_state.append(h_t)\n",
        "hidden_state = np.stack(hidden_state) #(3,2)\n",
        "print('RNN hidden state (각 단어의 의미 처리 결과)')\n",
        "print(hidden_state)"
      ],
      "metadata": {
        "colab": {
          "base_uri": "https://localhost:8080/"
        },
        "id": "QaIOSw9xOHI-",
        "outputId": "f16f856a-f28d-46ed-f6af-88d158d5e8ce"
      },
      "execution_count": null,
      "outputs": [
        {
          "output_type": "stream",
          "name": "stdout",
          "text": [
            "RNN hidden state (각 단어의 의미 처리 결과)\n",
            "[[0.21651806 0.35399171]\n",
            " [0.51715641 0.68259537]\n",
            " [0.71543723 0.94378088]]\n"
          ]
        }
      ]
    },
    {
      "cell_type": "code",
      "source": [
        "#4. Attention으로 Context vector를 계산.\n",
        "\n",
        "# 여기서, 마지막 hidden을 기준으로 중요도를 판단한다고 가정.\n",
        "query = hidden_state[-1] #마지막 단어 기준\n",
        "\n",
        "# 각 hidden과 query의 유사도(점수)를 dot-product로 계산\n",
        "scores = np.dot(hidden_state,query) #(3,)\n",
        "\n",
        "#softmax\n",
        "exp_scores = np.exp(scores-np.max(scores)) #overflow 방지.\n",
        "attention_weights = exp_scores / np.sum(exp_scores)\n",
        "\n",
        "#가중합 = context vector\n",
        "context_vector = np.sum(hidden_state * attention_weights[:,np.newaxis],axis=0)\n",
        "\n",
        "print('Attention의 가중치 (각 단어의 중요도)')\n",
        "print(attention_weights)\n",
        "\n",
        "print('Context vector(전체 의미 요약) : ')\n",
        "print(context_vector)"
      ],
      "metadata": {
        "colab": {
          "base_uri": "https://localhost:8080/"
        },
        "id": "86bBBi1cQxVn",
        "outputId": "cdf4255c-bac5-4a53-847b-05eec8fb113b"
      },
      "execution_count": null,
      "outputs": [
        {
          "output_type": "stream",
          "name": "stdout",
          "text": [
            "Attention의 가중치 (각 단어의 중요도)\n",
            "[0.1928993  0.32615933 0.48094137]\n",
            "Context vector(전체 의미 요약) : \n",
            "[0.55452493 0.74482287]\n"
          ]
        }
      ]
    },
    {
      "cell_type": "markdown",
      "source": [
        "Python 시각화 코드(Context Vector 흐름)"
      ],
      "metadata": {
        "id": "k6s1leSJYrF_"
      }
    },
    {
      "cell_type": "code",
      "source": [
        "!sudo apt-get install -y fonts-nanum\n",
        "!sudo fc-cache -fv\n",
        "!rm ~/.cache/matplotlib -rf"
      ],
      "metadata": {
        "colab": {
          "base_uri": "https://localhost:8080/"
        },
        "id": "EZaK_xsycelH",
        "outputId": "3cc9ae00-1b39-43a5-a245-7fe94294924f"
      },
      "execution_count": null,
      "outputs": [
        {
          "output_type": "stream",
          "name": "stdout",
          "text": [
            "Reading package lists... Done\n",
            "Building dependency tree... Done\n",
            "Reading state information... Done\n",
            "fonts-nanum is already the newest version (20200506-1).\n",
            "0 upgraded, 0 newly installed, 0 to remove and 30 not upgraded.\n",
            "/usr/share/fonts: caching, new cache contents: 0 fonts, 1 dirs\n",
            "/usr/share/fonts/truetype: caching, new cache contents: 0 fonts, 3 dirs\n",
            "/usr/share/fonts/truetype/humor-sans: caching, new cache contents: 1 fonts, 0 dirs\n",
            "/usr/share/fonts/truetype/liberation: caching, new cache contents: 16 fonts, 0 dirs\n",
            "/usr/share/fonts/truetype/nanum: caching, new cache contents: 12 fonts, 0 dirs\n",
            "/usr/local/share/fonts: caching, new cache contents: 0 fonts, 0 dirs\n",
            "/root/.local/share/fonts: skipping, no such directory\n",
            "/root/.fonts: skipping, no such directory\n",
            "/usr/share/fonts/truetype: skipping, looped directory detected\n",
            "/usr/share/fonts/truetype/humor-sans: skipping, looped directory detected\n",
            "/usr/share/fonts/truetype/liberation: skipping, looped directory detected\n",
            "/usr/share/fonts/truetype/nanum: skipping, looped directory detected\n",
            "/var/cache/fontconfig: cleaning cache directory\n",
            "/root/.cache/fontconfig: not cleaning non-existent cache directory\n",
            "/root/.fontconfig: not cleaning non-existent cache directory\n",
            "fc-cache: succeeded\n"
          ]
        }
      ]
    },
    {
      "cell_type": "code",
      "source": [
        "import matplotlib.pyplot as plt\n",
        "\n",
        "plt.rc('font', family='NanumBarunGothic')"
      ],
      "metadata": {
        "id": "OVgBkxdMchRj"
      },
      "execution_count": null,
      "outputs": []
    },
    {
      "cell_type": "code",
      "source": [
        "import matplotlib.pyplot as plt\n",
        "\n",
        "def darw_context_vector_diagram():\n",
        "    fig,ax = plt.subplots(figsize=(10,3))\n",
        "    ax.axis('off') #축 숨기기\n",
        "\n",
        "    #1. 입력 단어(텍스트 박스로 표시)\n",
        "    words = ['나는','학교에','간다']\n",
        "    for i,word in enumerate(words):\n",
        "        ax.text(i*2, 2, word, fontsize=12,ha='center',bbox=dict(boxstyle=\"round\",\n",
        "                                                                fc='lightblue'))\n",
        "    #2. 각 단어의 RNN hidden state\n",
        "    for i in range(len(words)):\n",
        "        ax.text(i*2,1,f\"h{i+1}\", fontsize=10, ha='center',\n",
        "                bbox=dict(boxstyle=\"round\",fc='lightgreen'))\n",
        "        #화살표 : 단어 -> hidden state\n",
        "        ax.annotate('',xy=(i*2, 1.75), xytext=(i*2,1.25)\n",
        "        ,arrowprops=dict(arrowstyle='->', color='gray'))\n",
        "    #3. Context vector\n",
        "    ax.text(3,0.1,\"Context Vector\", fontsize=12,ha='center',\n",
        "            bbox = dict(boxstyle=\"round\", fc=\"salmon\"))\n",
        "\n",
        "    #화살표 : 각 hidden state -> context vector(attention)\n",
        "    for i in range(len(words)):\n",
        "        ax.annotate('', xy=(i*2, 0.9), xytext=(3,0.2),\n",
        "                    arrowprops=dict(arrowstyle='->',color='gray',alpha=0.3+0.2*i))\n",
        "    #범위 설정\n",
        "    ax.set_xlim(-1,5)\n",
        "    ax.set_ylim(0,2.5)\n",
        "\n",
        "    plt.show()\n",
        "darw_context_vector_diagram()"
      ],
      "metadata": {
        "colab": {
          "base_uri": "https://localhost:8080/",
          "height": 268
        },
        "id": "MwSZKbA2X45U",
        "outputId": "1ff24d8f-5b50-43c6-90b8-1f6a6165507c"
      },
      "execution_count": null,
      "outputs": [
        {
          "output_type": "display_data",
          "data": {
            "text/plain": [
              "<Figure size 1000x300 with 1 Axes>"
            ],
            "image/png": "[encoded data removed]"
          },
          "metadata": {}
        }
      ]
    },
    {
      "cell_type": "markdown",
      "source": [
        "## Self-Attention 핵습 구조 학습\n",
        "\n",
        "$\\hspace{5cm}Attention(Q,K,V) = softmax( {\\frac{QK^T}{\\sqrt{d_k}}}) V $"
      ],
      "metadata": {
        "id": "4g_paBfj-t2V"
      }
    },
    {
      "cell_type": "code",
      "source": [
        "import numpy as np\n",
        "\n",
        "#1. 입력 :  3단어 문장(인덱스 시퀀스)\n",
        "vocab_size=5\n",
        "embedding_dim=4\n",
        "sequence_len = 3\n",
        "hidden_dim = 4 # Q,K,V 차원\n",
        "\n",
        "#단어 인덱스 ex) 나는 학교에 간다.->[1,2,3]\n",
        "input_ids = np.array([1,2,3])\n",
        "\n",
        "#2. 임베딩 행렬(vocab_sizeXembedding)\n",
        "np.random.seed(42)\n",
        "embedding_matrix = np.random.rand(vocab_size, embedding_dim)\n",
        "\n",
        "# print(embedding_matrix)\n",
        "# 3. 입력을 임베딩 벡터로 변환.\n",
        "embedded_input = embedding_matrix[input_ids] #shape : (seq_len, embedding_dim)\n",
        "\n",
        "print(embedded_input)\n",
        "\n",
        "#4.Wq,wk,wv 정의 (각각 선형 변환 행렬)\n",
        "w_q = np.random.rand(embedding_dim, hidden_dim)\n",
        "w_k = np.random.rand(embedding_dim, hidden_dim)\n",
        "w_v = np.random.rand(embedding_dim, hidden_dim)\n",
        "\n",
        "#5. Q,K,V 계산\n",
        "Q = embedded_input@ w_q #(seq_len, hidden_dim) / @ : 행렬곱\n",
        "#임베딩된 단어 벡터를 Query로 변환.\n",
        "K = embedded_input@ w_k\n",
        "#임베딩된 단어 벡터를 Key로 변환.\n",
        "V = embedded_input@ w_v\n",
        "#임베딩된 단어 벡터를 Value로 변환.\n",
        "\n",
        "#6.Attention Score 계산 : (QK^T) / (sqrt(d_k))\n",
        "# Attenion Score를 통해 각 단어가 다른 단어에 얼마나 중요하게 생각할지에 대한 부분\n",
        "dk = Q.shape[-1] #dk는 Query의 shape\n",
        "# Query의 shape : [seq_len, d_k] / (batch,seq_len,d_k)\n",
        "# Q.shape[-1] -> Query의 벡터의 차원의 수.\n",
        "scores = Q @K.T / np.sqrt(dk) #shape : (seq_len, seq_len)\n",
        "#길이가 길어지면, 비교할게 많아짐 -> 시간이 오래걸리게 됨.\n",
        "#->embedding을 구성을 어떻게 하느냐에 따라 달라짐.\n",
        "\n",
        "#shape : (seq_len, seq_len) -> sum(axis=1 or axis=-1)\n",
        "# 각 Query별(행)로 softmax를 적용해야 하므로 axis=1이거나 axis=-1을 해야함.\n",
        "\n",
        "def softmax(x):\n",
        "    e_x = np.exp(x-np.max(x,axis=-1,keepdims=True))\n",
        "    return e_x / np.sum(e_x,axis=-1, keepdims=True)\n",
        "#softmax : 입력된 숫자 벡터를 전체 합이 1이 되도록 정규화해서 각 값이\n",
        "# 상대적인 \"확률\"처럼 해석해주는 함수.\n",
        "\n",
        "attention_weights = softmax(scores) #shape : (seq_len,seq_len)\n",
        "\n",
        "#8. Context_vector = Attention weight *V\n",
        "context = attention_weights @ V #shape: (seq_len, hidden_dim)\n",
        "\n",
        "print('Attention Weights : ', attention_weights)\n",
        "print('Context Vectors : ', context)"
      ],
      "metadata": {
        "id": "wEcj0iCLcZe-",
        "colab": {
          "base_uri": "https://localhost:8080/"
        },
        "outputId": "eadf69be-547c-4141-9667-9a7f6cb906ea"
      },
      "execution_count": 9,
      "outputs": [
        {
          "output_type": "stream",
          "name": "stdout",
          "text": [
            "[[0.15601864 0.15599452 0.05808361 0.86617615]\n",
            " [0.60111501 0.70807258 0.02058449 0.96990985]\n",
            " [0.83244264 0.21233911 0.18182497 0.18340451]]\n",
            "Attention Weights :  [[0.25617306 0.5158894  0.22793754]\n",
            " [0.20440214 0.62661422 0.16898364]\n",
            " [0.28161861 0.46732269 0.2510587 ]]\n",
            "Context Vectors :  [[0.78797711 1.00477299 0.50643005 1.28204384]\n",
            " [0.81201468 1.04949018 0.51247246 1.34694102]\n",
            " [0.77607371 0.98439413 0.50264825 1.25319959]]\n"
          ]
        }
      ]
    },
    {
      "cell_type": "markdown",
      "source": [
        "$softmax(x_i) = {\\frac {e^{x_{j} }} { {\\sum_j}{e^{x_j}}}}  $"
      ],
      "metadata": {
        "id": "Fy9Wn6DeDtfl"
      }
    },
    {
      "cell_type": "code",
      "source": [
        "#axis=-1 #1차원 일때,\n",
        "x = np.array([3.0,1.0,0.2])\n",
        "\n",
        "np.sum(x,axis=-1)"
      ],
      "metadata": {
        "colab": {
          "base_uri": "https://localhost:8080/"
        },
        "id": "Rh52qNSfAWBg",
        "outputId": "5d02a63a-5d27-4582-dd58-06ba66af1f35"
      },
      "execution_count": 3,
      "outputs": [
        {
          "output_type": "execute_result",
          "data": {
            "text/plain": [
              "np.float64(4.2)"
            ]
          },
          "metadata": {},
          "execution_count": 3
        }
      ]
    },
    {
      "cell_type": "code",
      "source": [
        "#axis=-1 #2차원 일때,\n",
        "\n",
        "x = np.array([\n",
        "    [3.0,1.0,0.2],\n",
        "    [2.0,4.0,1.0]\n",
        "])\n",
        "np.sum(x,axis=-1) #행으로 작동."
      ],
      "metadata": {
        "colab": {
          "base_uri": "https://localhost:8080/"
        },
        "id": "HzeFXjIyFHyd",
        "outputId": "e61714a3-408f-4fdd-c901-fa2018ac1a5d"
      },
      "execution_count": 4,
      "outputs": [
        {
          "output_type": "execute_result",
          "data": {
            "text/plain": [
              "array([4.2, 7. ])"
            ]
          },
          "metadata": {},
          "execution_count": 4
        }
      ]
    },
    {
      "cell_type": "code",
      "source": [
        "#오버플로우 : 넘쳐흐른다. -> 수치 값이 표현할 수 있는 최대값을 초과했을때\n",
        "x = [1000,1001,1002]\n",
        "np.exp(x) #infimum -> 무한대. exp = 2.714xxxx\n",
        "np.exp(x - np.max(x))"
      ],
      "metadata": {
        "colab": {
          "base_uri": "https://localhost:8080/"
        },
        "id": "OeWkklmlFbA_",
        "outputId": "f9e7d49b-ccc4-4b54-ff80-409903abf12a"
      },
      "execution_count": 6,
      "outputs": [
        {
          "output_type": "stream",
          "name": "stderr",
          "text": [
            "<ipython-input-6-a0644e6709ae>:3: RuntimeWarning: overflow encountered in exp\n",
            "  np.exp(x) #infimum -> 무한대. exp = 2.714xxxx\n"
          ]
        },
        {
          "output_type": "execute_result",
          "data": {
            "text/plain": [
              "array([0.13533528, 0.36787944, 1.        ])"
            ]
          },
          "metadata": {},
          "execution_count": 6
        }
      ]
    },
    {
      "cell_type": "code",
      "source": [
        "import sys\n",
        "print(sys.float_info.max) #최대값이 약 1.79X10^(308)"
      ],
      "metadata": {
        "colab": {
          "base_uri": "https://localhost:8080/"
        },
        "id": "eG_XNeMlGDks",
        "outputId": "a461bc20-cb1d-4a82-e5ec-49497a788853"
      },
      "execution_count": 8,
      "outputs": [
        {
          "output_type": "stream",
          "name": "stdout",
          "text": [
            "1.7976931348623157e+308\n"
          ]
        }
      ]
    },
    {
      "cell_type": "code",
      "source": [],
      "metadata": {
        "id": "ipnExDLTGvrC"
      },
      "execution_count": null,
      "outputs": []
    }
  ]
}