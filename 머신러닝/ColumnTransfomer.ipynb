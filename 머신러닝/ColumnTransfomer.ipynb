{
  "nbformat": 4,
  "nbformat_minor": 0,
  "metadata": {
    "colab": {
      "provenance": []
    },
    "kernelspec": {
      "name": "python3",
      "display_name": "Python 3"
    },
    "language_info": {
      "name": "python"
    }
  },
  "cells": [
    {
      "cell_type": "markdown",
      "source": [
        "#  ColumnTransformer 완벽 정리 (scikit-learn)\n",
        "\n",
        "##  ColumnTransformer란?\n",
        "\n",
        "`ColumnTransformer`는 **열(Column)마다 다른 전처리기를 적용**할 수 있게 해주는 scikit-learn의 유틸리티입니다.\n",
        "\n",
        "> 서로 다른 데이터 타입(수치형, 범주형, 텍스트 등)에 대해 **각기 다른 전처리**를 적용하고,\n",
        "> 이를 하나의 파이프라인 안에서 효율적이고 안전하게 구성할 수 있습니다.\n",
        "\n",
        "---\n",
        "\n",
        "##  왜 필요한가?\n",
        "\n",
        "| 열 이름 | 데이터 타입 | 처리 방식 예시            |\n",
        "|--------|--------------|----------------------------|\n",
        "| age     | 수치형        | 평균 보간 → 정규화         |\n",
        "| income  | 수치형        | 정규화 (StandardScaler)    |\n",
        "| gender  | 범주형        | OneHot 인코딩             |\n",
        "| job     | 범주형        | OneHot or Ordinal 인코딩  |\n",
        "\n",
        "➡ `ColumnTransformer`를 사용하면 열마다 전처리기를 따로 지정할 수 있습니다.\n",
        "\n",
        "---\n",
        "\n",
        "##  기본 구조\n",
        "\n",
        "```python\n",
        "from sklearn.compose import ColumnTransformer\n",
        "from sklearn.preprocessing import StandardScaler, OneHotEncoder\n",
        "\n",
        "preprocessor = ColumnTransformer(\n",
        "    transformers=[\n",
        "        ('num', StandardScaler(), ['age', 'income']),\n",
        "        ('cat', OneHotEncoder(), ['gender', 'job'])\n",
        "    ],\n",
        "    remainder='drop'  # 지정되지 않은 열은 버림\n",
        ")\n"
      ],
      "metadata": {
        "id": "-t_wLAaA5u2f"
      }
    },
    {
      "cell_type": "markdown",
      "source": [
        "ColumnTransformer + Pipeline 실습 예제 (Titanic)"
      ],
      "metadata": {
        "id": "vR3Xxdbk6KQ_"
      }
    },
    {
      "cell_type": "code",
      "execution_count": 1,
      "metadata": {
        "id": "O--Qosc_uuG2"
      },
      "outputs": [],
      "source": [
        "#데이터 불러오기\n",
        "from sklearn.datasets import fetch_openml\n",
        "import pandas as pd\n",
        "\n",
        "# Titanic 데이터셋 로드\n",
        "titanic = fetch_openml('titanic', version=1, as_frame=True)\n",
        "df = titanic.frame.copy()\n",
        "\n",
        "# 대상 변수와 특성 나누기\n",
        "X = df[['pclass', 'sex', 'age', 'fare']]\n",
        "y = df['survived']"
      ]
    },
    {
      "cell_type": "code",
      "source": [
        "#전처리 구성\n",
        "from sklearn.compose import ColumnTransformer\n",
        "from sklearn.pipeline import Pipeline\n",
        "from sklearn.impute import SimpleImputer\n",
        "from sklearn.preprocessing import OneHotEncoder, StandardScaler\n",
        "\n",
        "# 특성 분리\n",
        "numeric_features = ['age', 'fare']\n",
        "categorical_features = ['pclass', 'sex']\n",
        "\n",
        "# 전처리기\n",
        "preprocessor = ColumnTransformer(\n",
        "    transformers=[\n",
        "        ('num', Pipeline([\n",
        "            ('imputer', SimpleImputer(strategy='median')),\n",
        "            ('scaler', StandardScaler())\n",
        "        ]), numeric_features),\n",
        "        ('cat', Pipeline([\n",
        "            ('imputer', SimpleImputer(strategy='most_frequent')),\n",
        "            ('onehot', OneHotEncoder(handle_unknown='ignore'))\n",
        "        ]), categorical_features)\n",
        "    ])\n"
      ],
      "metadata": {
        "id": "h5M3aOtY6LcK"
      },
      "execution_count": 2,
      "outputs": []
    },
    {
      "cell_type": "markdown",
      "source": [
        "전체 파이프라인 구성 + 학습"
      ],
      "metadata": {
        "id": "XEcwQozY6-LD"
      }
    },
    {
      "cell_type": "code",
      "source": [
        "from sklearn.linear_model import LogisticRegression\n",
        "from sklearn.model_selection import train_test_split\n",
        "\n",
        "# 파이프라인 구성\n",
        "clf = Pipeline(steps=[\n",
        "    ('preprocessor', preprocessor),\n",
        "    ('classifier', LogisticRegression(max_iter=1000))\n",
        "])\n",
        "\n",
        "# 데이터 나누기\n",
        "X_train, X_test, y_train, y_test = train_test_split(X, y, stratify=y, random_state=42)\n",
        "\n",
        "# 모델 학습\n",
        "clf.fit(X_train, y_train)\n",
        "\n",
        "# 평가\n",
        "print(\"테스트 정확도:\", clf.score(X_test, y_test))"
      ],
      "metadata": {
        "colab": {
          "base_uri": "https://localhost:8080/"
        },
        "id": "3MXuFEwr68UI",
        "outputId": "6886df65-1e8d-4763-d28a-ee8c50e84822"
      },
      "execution_count": 3,
      "outputs": [
        {
          "output_type": "stream",
          "name": "stdout",
          "text": [
            "테스트 정확도: 0.8109756097560976\n"
          ]
        }
      ]
    },
    {
      "cell_type": "code",
      "source": [],
      "metadata": {
        "id": "R3SezCJW7VII"
      },
      "execution_count": null,
      "outputs": []
    }
  ]
}