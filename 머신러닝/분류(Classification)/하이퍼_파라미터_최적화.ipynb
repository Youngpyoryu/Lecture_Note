{
  "nbformat": 4,
  "nbformat_minor": 0,
  "metadata": {
    "colab": {
      "private_outputs": true,
      "provenance": []
    },
    "kernelspec": {
      "name": "python3",
      "display_name": "Python 3"
    },
    "language_info": {
      "name": "python"
    }
  },
  "cells": [
    {
      "cell_type": "markdown",
      "source": [
        "- AutoML: 사용자가 직접 머신러닝 모델을 튜닝하지 않아도 최적의 조합을 자동으로 탐색."
      ],
      "metadata": {
        "id": "ce_c_ufkLXov"
      }
    },
    {
      "cell_type": "markdown",
      "source": [
        "# iris_data를 xgboost로 적용을 해보자."
      ],
      "metadata": {
        "id": "-XgDYosabhoJ"
      }
    },
    {
      "cell_type": "code",
      "source": [
        "#import packages\n",
        "import pandas as pd\n",
        "import numpy as np\n",
        "from sklearn.datasets import load_iris\n",
        "\n",
        "#Loading iris dataset from sklearn\n",
        "iris = load_iris()\n",
        "\n",
        "#independent feautres\n",
        "X = iris.data\n",
        "\n",
        "# target features\n",
        "y = iris.target"
      ],
      "metadata": {
        "id": "APzk3M3Hbklu"
      },
      "execution_count": null,
      "outputs": []
    },
    {
      "cell_type": "code",
      "source": [
        "#import XGboost\n",
        "from xgboost import XGBClassifier\n",
        "\n",
        "#Defining XGB Classification model\n",
        "clf = XGBClassifier()"
      ],
      "metadata": {
        "id": "YH_KPRdnbklw"
      },
      "execution_count": null,
      "outputs": []
    },
    {
      "cell_type": "markdown",
      "source": [
        "- xgboost의 단점은 복잡한 하이퍼 파라미터가 있다."
      ],
      "metadata": {
        "id": "v7wfVSY2bro4"
      }
    },
    {
      "cell_type": "markdown",
      "source": [
        "# 1.Grid SearchCV\n",
        "- 사용자가 하이퍼 파라미터마다 몇가지 값을 가진 리스트를 입력하면, 가능한 하이퍼 파라미터의 경우의 수마다 예측 성능을 측정하여 사용자가 일일이 하이퍼 파라미터를 설정하고, 예측 성능을 비교하여 최적의 파라미터를 찾는 수고를 줄이고 이 과정을 한꺼번에 진행한다."
      ],
      "metadata": {
        "id": "bjRTeDOlburH"
      }
    },
    {
      "cell_type": "code",
      "source": [
        "#Importing packages from sklearn\n",
        "\n",
        "from sklearn import preprocessing\n",
        "from sklearn import model_selection\n",
        "from sklearn import metrics\n",
        "\n",
        "#defining a set of values as a dictionary for hyperparameters\n",
        "\n",
        "param_grid = {\n",
        "    \"n_estimators\":[100,200,300,400],\n",
        "    \"max_depth\":[1,3,5,7],\n",
        "    \"reg_lambda\":[.01,.1,.5]\n",
        "}\n",
        "\n",
        "#declaring GridSearchCV model\n",
        "\n",
        "model = model_selection.GridSearchCV(\n",
        "    estimator = clf,\n",
        "    param_grid = param_grid,\n",
        "    scoring = 'accuracy',\n",
        "    verbose = 10,\n",
        "    n_jobs = 1,\n",
        "    cv = 5\n",
        ")\n",
        "\n",
        "#fitting values to the gridsearchcv model\n",
        "\n",
        "model.fit(X,y)\n",
        "#printing the best possible values to enhance accuracy\n",
        "print(model.best_params_)\n",
        "print(model.best_estimator_)\n",
        "#printing the best score\n",
        "print(model.best_score_)\n",
        "#GridSearchCV model save\n",
        "# import joblib\n",
        "# joblib.dump(model, 'model_xgboost.pkl')\n",
        "# joblib.load('model_xgboost.pkl')"
      ],
      "metadata": {
        "id": "TsJr9ua1bwty"
      },
      "execution_count": null,
      "outputs": []
    },
    {
      "cell_type": "markdown",
      "source": [
        "# 2.RandomizedSearchCV\n",
        "\n",
        "- 그리드 서치에서는 grid_param과 같이 매개변수마다 특정 값을 지정해주었습니다. 만약에 변수 범위가 너무 다양하다면 하나하나 작성해주는게 너무 힘들다.\n",
        "\n",
        "- 하이퍼 파라미터 검색 반영이 너무 클때 사용하는 방식이 Randomized Search입니다.\n"
      ],
      "metadata": {
        "id": "5YOrV2urb0yw"
      }
    },
    {
      "cell_type": "code",
      "source": [
        "#defining a set of values as a dictionary for hyperparameters\n",
        "\n",
        "param_grid = {\n",
        "    \"n_estimators\":[100,200,300,400],\n",
        "    \"max_depth\":[1,3,5,7],\n",
        "    \"reg_lambda\":[.01,.1,.5]\n",
        "}\n",
        "\n",
        "#declaring RandomizedSearchCV model\n",
        "\n",
        "model = model_selection.RandomizedSearchCV(\n",
        "    estimator = clf,\n",
        "    param_distributions = param_grid,\n",
        "    scoring = 'accuracy',\n",
        "    verbose = 10,\n",
        "    n_jobs = 1,\n",
        "    cv = 5,\n",
        "    n_iter=10\n",
        ")\n",
        "\n",
        "#fitting values to the RandomizedSearchCV model\n",
        "\n",
        "model.fit(X,y)\n",
        "\n",
        "#printing the best possible values to enhance accuracy\n",
        "\n",
        "print(model.best_params_)\n",
        "print(model.best_estimator_)\n",
        "#printing the best score\n",
        "print(model.best_score_)"
      ],
      "metadata": {
        "id": "xmuYSlArbwv_"
      },
      "execution_count": null,
      "outputs": []
    },
    {
      "cell_type": "markdown",
      "source": [
        "# 3.Bayesian optimization\n",
        "\n",
        "- 참고 : https://data-scientist-brian-kim.tistory.com/88\n",
        "\n",
        "Bayesian Optimization 은 어느 입력값(x)를 받는 미지의 목적 함수 (f(x))를 판단하고 결정하여, 해당 함숫값 (f(x))을 최대로 만드는 최적해를 찾는 것을 목적으로 합니다.\n",
        "\n",
        "즉, 목적 함수(탐색대상함수)와 하이퍼파라미터 쌍(pair)을 대상으로 Surrogate Model(대체 모델) 을 만들고,\n",
        "순차적으로 하이퍼 파라미터를 업데이트해 가면서 평가를 통해 최적의 하이퍼파라미터 조합을 탐색합니다.\n",
        "이 때의 목적 함수를 black-box function 이라고 합니다.\n",
        "Bayesian Optimization 에는 두 가지 필수 요소가 존재합니다.\n",
        "\n",
        "먼저 Surrogate Model 은, 현재까지 조사된 입력값-함숫결과값 점들 $(x_1, f(x_1)),...,(x_t, f(x_t))$ 을 바탕으로, 미지의 목적 함수의 형태에 대한 확률적인 추정을 수행하는 모델을 지칭합니다. 그리고 Acquisition Function 은, 목적 함수에 대한 현재까지의 확률적 추정 결과를 바탕으로, ‘최적 입력값을 찾는 데 있어 가장 유용할 만한’ 다음 입력값 후보를 추천해 주는 함수를 지칭합니다."
      ],
      "metadata": {
        "id": "RaVcCEqfb3dL"
      }
    },
    {
      "cell_type": "markdown",
      "source": [
        "<img src='https://img1.daumcdn.net/thumb/R1280x0/?scode=mtistory2&fname=https%3A%2F%2Fblog.kakaocdn.net%2Fdn%2Fb33tsP%2FbtraMpvxJG0%2FSn7uQK7k910IQ7cP3ZM9vk%2Fimg.png'>"
      ],
      "metadata": {
        "id": "O40L9E6lb5EN"
      }
    },
    {
      "cell_type": "markdown",
      "source": [
        "- 대략적인 수행 과정\n",
        "\n",
        "    - 위의 파란색 선은, 우리가 찾으려고 하는 목적함수 f(x) 를 나타내고,\n",
        "    - 검정색 점선은, 지금까지 관측한 데이터를 바탕으로 우리가 예측한 estimated function 을 의미합니다.\n",
        "    - 검정색 점선 주변에 있는 파란 영역은, 목적함수 f(x) 가 존재할만한 confidence bound(function의 variance) 를 의미합니다.\n",
        "    - 밑에 있는 EI(x) 는, Acquisition function 을 의미하며, 다음 입력값 후보 추천 시 사용됩니다.\n",
        "    - Acquisition function 값이 컸던 지점을 확인하고, 해당 지점의 hyperparameter 를 다음 입력 값으로 사용합니다.\n",
        "    - hyperparamter 에 따라 estimated function 을 계속 update 하면, estimation function 과 목적 함수 f(x) 가 흡사해집니다.\n",
        "    - 관측한 지점 중 best point 을 argmax f(x) 로 선택합니다.\n",
        "- 자세한 수행 과정\n",
        "\n",
        "    - 입력값, 목적 함수 및 그 외 설정값들을 정의합니다.\n",
        "\n",
        "        - 입력값 x : 여러가지 hyperparameter\n",
        "        - 목적 함수 f(x) : 설정한 입력값을 적용해 학습한, 딥러닝 모델의 성능 결과 수치(e.g. 정확도)\n",
        "        - 입력값 x 의 탐색 대상 구간 : (a,b)\n",
        "        - 입력값-함숫결과값 점들의 갯수 : n\n",
        "        - 조사할 입력값-함숫결과값 점들의 갯수 : N\n",
        "    - 설정한 탐색 대상 구간 (a,b) 내에서 처음 n 개의 입력값들을 랜덤하게 샘플링하여 선택합니다.\n",
        "\n",
        "    - 선택한 n 개의 입력값 x1, x2, ..., xn 을 각각 모델의 hyperparameter 로 설정하여 딥러닝 모델을 학습한 뒤, 학습이 완료된 모델의 성능 결과 수치를 계산합니다.\n",
        "\n",
        "        - 이들을 각각 함숫결과값 f(x1), f(x2), ..., f(xn) 으로 간주합니다.\n",
        "입력값-함숫결과값 점들의 모음 (x1, f(x1)), (x2, f(x2)), ..., (xn, f(xn)) 에 대하여 Surrogate Model 로 확률적 추정을 수행합니다.\n",
        "\n",
        "    - 조사된 입력값-함숫결과값 점들이 총 N 개에 도달할 때까지, 아래의 과정을 반복적으로 수행합니다.\n",
        "\n",
        "        - 기존 입력값-함숫결과값 점들의 모음 (x1, f(x1)),(x2, f(x2)), ..., (xt, f(xt)) 에 대한 Surrogate Model 의 확률적 추정 결과를 바탕으로, 입력값 구간 (a,b) 내에서의 EI 의 값을 계산하고, 그 값이 가장 큰 점을 다음 입력값 후보 x1 로 선정합니다.\n",
        "        - 다음 입력값 후보 x1 를 hyperparameter 로 설정하여 딥러닝 모델을 학습한 뒤, 학습이 완료된 모델의 성능 결과 수치를 계산하고, 이를 f(x1) 값으로 간주합니다.\n",
        "        - 새로운 점 (x2, f(x2)) 을 기존 입력값-함숫결과값 점들의 모음에 추가하고, 갱신된 점들의 모음에 대하여 Surrogate Model 로 확률적 추정을 다시 수행합니다.\n",
        "        - 총 N 개의 입력값-함숫결과값 점들에 대하여 확률적으로 추정된 목적 함수 결과물을 바탕으로, 평균 함수 μ(x) 을 최대로 만드는 최적해를 최종 선택합니다. 추후 해당값을 hyperparameter 로 사용하여 딥러닝 모델을 학습하면, 일반화 성능이 극대화된 모델을 얻을 수 있습니다."
      ],
      "metadata": {
        "id": "FZ_RPKfO0Qq8"
      }
    },
    {
      "cell_type": "code",
      "source": [
        "def black_box_function(x, y):\n",
        "    \"\"\"Function with unknown internals we wish to maximize.\n",
        "\n",
        "    This is just serving as an example, for all intents and\n",
        "    purposes think of the internals of this function, i.e.: the process\n",
        "    which generates its output values, as unknown.\n",
        "    \"\"\"\n",
        "    return -x ** 2 - (y - 1) ** 2 + 1"
      ],
      "metadata": {
        "id": "nyr_1tlmbwyk"
      },
      "execution_count": null,
      "outputs": []
    },
    {
      "cell_type": "code",
      "source": [
        "!pip install bayesian-optimization"
      ],
      "metadata": {
        "id": "tjXwJ9Xmb6-d"
      },
      "execution_count": null,
      "outputs": []
    },
    {
      "cell_type": "code",
      "source": [
        "from bayes_opt import BayesianOptimization\n",
        "\n",
        "# Bounded region of parameter space\n",
        "pbounds = {'x': (2, 4), 'y': (-3, 3)}\n",
        "\n",
        "optimizer = BayesianOptimization(\n",
        "    f=black_box_function,\n",
        "    pbounds=pbounds,\n",
        "    random_state=1,\n",
        ")"
      ],
      "metadata": {
        "id": "WDguW3mcb7Ab"
      },
      "execution_count": null,
      "outputs": []
    },
    {
      "cell_type": "markdown",
      "source": [
        "- n_iter: How many steps of bayesian optimization you want to perform. The more steps the more likely to find a good maximum you are.\n",
        "\n",
        "- init_points: How many steps of random exploration you want to perform. Random exploration can help by diversifying the exploration space."
      ],
      "metadata": {
        "id": "T5TAgbkzb9iL"
      }
    },
    {
      "cell_type": "code",
      "source": [
        "optimizer.maximize(\n",
        "    init_points=2,\n",
        "    n_iter=3,\n",
        ")"
      ],
      "metadata": {
        "id": "hUs3G-ccb7Cr"
      },
      "execution_count": null,
      "outputs": []
    },
    {
      "cell_type": "code",
      "source": [
        "print(optimizer.max)"
      ],
      "metadata": {
        "id": "jOnAhNQVb_aV"
      },
      "execution_count": null,
      "outputs": []
    },
    {
      "cell_type": "code",
      "source": [
        "for i, res in enumerate(optimizer.res):\n",
        "    print(\"Iteration {}: \\n\\t{}\".format(i, res))"
      ],
      "metadata": {
        "id": "Th9v5FM1cAOi"
      },
      "execution_count": null,
      "outputs": []
    },
    {
      "cell_type": "code",
      "source": [
        "optimizer.set_bounds(new_bounds={\"x\": (-2, 3)})\n",
        "\n",
        "optimizer.maximize(\n",
        "    init_points=0,\n",
        "    n_iter=5,\n",
        ")\n"
      ],
      "metadata": {
        "id": "LBZZaoFNcBMC"
      },
      "execution_count": null,
      "outputs": []
    },
    {
      "cell_type": "markdown",
      "source": [
        "- 직관적인 이해"
      ],
      "metadata": {
        "id": "d2XSBOdfsgfC"
      }
    },
    {
      "cell_type": "code",
      "source": [
        "import numpy as np\n",
        "import matplotlib.pyplot as plt\n",
        "from scipy.stats import norm\n",
        "from sklearn.gaussian_process import GaussianProcessRegressor\n",
        "#확률적 회귀 모델, 데이터 포인트 사이의 관계를 확률분포로 모델링 하는 것.\n",
        "# 특징 : 비선형 관계를 학습할 수 있음. 샘플 개수가 적어도 신뢰성 있는 예측할수 있다.\n",
        "# 특징 : 불확실성 정량적으로 평가 가능. / 커널 : 데이터 포인트 사이의 유사도를 측정하는 함수.\n",
        "# 가우시안 프로세스(GP)에서 커널은 \"이 점과 저 점이 얼마나 비슷한가?\"\n",
        "#RBF(Radial Basis Function,aka Gaussian kernel)\n",
        "# 가장 부드러운 커널. 모든 점이 서로 영향을 미칠 가능성이 있음.\n",
        "# Matern 커널 : RBF보다는 매끄럽지는 않음. 함수의 거칠기(roughtness)조절할 수 있음.\n",
        "# -> RBF : 매우 부드러운 변화를 가짐. / Matern : 덜 부드럽고 급격한 변화도 허용.\n",
        "from sklearn.gaussian_process.kernels import Matern, RBF\n",
        "\n",
        "# 목적 함수 (최적화할 함수)\n",
        "# 주어진 x 값에 대해 비선형 함수의 값을 반환\n",
        "# 이 함수는 최적화를 수행할 대상이며, 샘플링을 통해 최적값을 찾아간다.\n",
        "def objective_function(x):\n",
        "    return np.sin(3*x) + x**2 - 0.7*x\n",
        "\n",
        "# 획득 함수 (Expected Improvement, EI)\n",
        "# 현재까지의 샘플링 데이터를 기반으로 획득 함수 값을 계산하여, 다음 샘플링할 최적의 지점을 결정한다.\n",
        "def expected_improvement(X, X_sample, Y_sample, gpr, xi=0.01):\n",
        "    mu, sigma = gpr.predict(X, return_std=True)\n",
        "    sigma = sigma.reshape(-1, 1)  # 2D 형태 유지\n",
        "    mu_sample = gpr.predict(X_sample)\n",
        "    mu_sample_opt = np.max(mu_sample)\n",
        "\n",
        "    # np.errstate를 사용하여 경고 메시지를 제어\n",
        "    # divide='warn': 0으로 나누는 연산이 발생할 경우 경고를 발생시키고 오류를 방지\n",
        "    with np.errstate(divide='warn'):\n",
        "        improvement = mu - mu_sample_opt - xi\n",
        "        Z = improvement / sigma  # sigma가 0일 경우 문제가 발생할 수 있음\n",
        "        ei = improvement * norm.cdf(Z) + sigma * norm.pdf(Z)\n",
        "\n",
        "        ei = ei.flatten()  # 1D 배열로 변환\n",
        "        sigma = sigma.flatten()  # 1D 배열로 변환\n",
        "\n",
        "        if ei.shape == sigma.shape:\n",
        "            ei[sigma == 0.0] = 0.0  # 0인 값 처리\n",
        "\n",
        "    return ei\n",
        "\n",
        "# 베이지안 최적화 실행 함수\n",
        "# 초기 샘플링 데이터를 기반으로 가우시안 프로세스를 학습하며, 최적의 지점을 찾아간다.\n",
        "def bayesian_optimization(n_iterations=10, n_initial=3, kernel_type='Matern'):\n",
        "    np.random.seed(42)\n",
        "\n",
        "    # 검색 범위\n",
        "    X = np.linspace(-1, 2, 100).reshape(-1, 1)\n",
        "\n",
        "    # 초기 샘플링 데이터\n",
        "    X_sample = np.random.uniform(-1, 2, size=(n_initial, 1))\n",
        "    Y_sample = objective_function(X_sample)\n",
        "\n",
        "    # 커널 선택 (Matern 또는 RBF)\n",
        "    if kernel_type == 'Matern':\n",
        "        kernel = Matern(length_scale=0.5, nu=2.5)\n",
        "    elif kernel_type == 'RBF':\n",
        "        kernel = RBF(length_scale=0.5)\n",
        "    else:\n",
        "        raise ValueError(\"Invalid kernel type. Choose 'Matern' or 'RBF'\")\n",
        "\n",
        "    # 가우시안 프로세스 모델 설정\n",
        "    gpr = GaussianProcessRegressor(kernel=kernel, alpha=1e-6)\n",
        "\n",
        "    for i in range(n_iterations):\n",
        "        # 모델 학습\n",
        "        gpr.fit(X_sample, Y_sample)\n",
        "\n",
        "        # 획득 함수 계산 (Expected Improvement 기반)\n",
        "        ei = expected_improvement(X, X_sample, Y_sample, gpr)\n",
        "        X_next = X[np.argmax(ei)]\n",
        "\n",
        "        # 새로운 데이터 추가(Acquisition Function)\n",
        "        Y_next = objective_function(X_next.reshape(1, -1))\n",
        "        X_sample = np.vstack((X_sample, X_next.reshape(-1, 1)))\n",
        "        Y_sample = np.vstack((Y_sample, Y_next.reshape(-1, 1)))\n",
        "\n",
        "        # 시각화 (최적화 진행 과정 확인)\n",
        "        plt.figure(figsize=(8, 5))\n",
        "        mu, sigma = gpr.predict(X, return_std=True)\n",
        "        plt.plot(X, objective_function(X), 'r--', label='True Function')\n",
        "        plt.plot(X, mu, 'b-', label='GP Mean')\n",
        "        plt.fill_between(X.ravel(), mu - 1.96 * sigma, mu + 1.96 * sigma, alpha=0.2, color='blue')\n",
        "        plt.scatter(X_sample, Y_sample, c='black', label='Samples')\n",
        "        plt.axvline(X_next, color='green', linestyle='--', label='Next Sample')\n",
        "        plt.title(f'Iteration {i+1} (Kernel: {kernel_type})')\n",
        "        plt.legend()\n",
        "        plt.show()\n",
        "\n",
        "# 실행 예시 (Matern과 RBF 커널 비교)\n",
        "bayesian_optimization(kernel_type='Matern')  # Matern 커널 사용\n",
        "bayesian_optimization(kernel_type='RBF')  # RBF 커널 사용"
      ],
      "metadata": {
        "id": "XZL4CjYCsie1"
      },
      "execution_count": null,
      "outputs": []
    },
    {
      "cell_type": "markdown",
      "source": [
        "- xgboost 하이퍼 파라미터 최적화"
      ],
      "metadata": {
        "id": "VnAbSHdbze4c"
      }
    },
    {
      "cell_type": "code",
      "source": [
        "#import packages\n",
        "import pandas as pd\n",
        "import numpy as np\n",
        "from sklearn.datasets import load_iris\n",
        "\n",
        "#Loading iris dataset from sklearn\n",
        "iris = load_iris()\n",
        "\n",
        "#independent feautres\n",
        "X = iris.data\n",
        "\n",
        "# target features\n",
        "y = iris.target"
      ],
      "metadata": {
        "id": "LT41dfDjztml"
      },
      "execution_count": null,
      "outputs": []
    },
    {
      "cell_type": "code",
      "source": [
        "from sklearn.model_selection import train_test_split\n",
        "X_train,X_test,y_train,y_test = train_test_split(X,y,test_size=0.2, stratify=y)"
      ],
      "metadata": {
        "id": "6_2WiA3szymE"
      },
      "execution_count": null,
      "outputs": []
    },
    {
      "cell_type": "code",
      "source": [
        "from sklearn.metrics import r2_score, mean_squared_error\n",
        "import xgboost as xgb\n",
        "\n",
        "# MAPE Metric\n",
        "def mean_absolute_percentage_error(y_test, y_pred):\n",
        "    y_test, y_pred = np.array(y_test), np.array(y_pred)\n",
        "    return np.mean(np.abs((y_test - y_pred) / y_test)) * 100\n",
        "\n",
        "# 탐색 대상 함수 (XGBRegressor)\n",
        "def XGB_cv(max_depth,learning_rate, n_estimators, gamma\n",
        "            ,min_child_weight, subsample\n",
        "            ,colsample_bytree, silent=True, nthread=-1):\n",
        "\n",
        "    # 모델 정의\n",
        "    model = xgb.XGBRegressor(max_depth=int(max_depth),\n",
        "                            learning_rate=learning_rate,\n",
        "                            n_estimators=int(n_estimators),\n",
        "                            gamma=gamma,\n",
        "                            min_child_weight=min_child_weight,\n",
        "                            subsample=subsample,\n",
        "                            colsample_bytree=colsample_bytree,\n",
        "                            nthread=nthread\n",
        "                            )\n",
        "    # 모델 훈련\n",
        "    model.fit(X_train, y_train)\n",
        "\n",
        "    # 예측값 출력\n",
        "    y_pred= model.predict(X_test)\n",
        "\n",
        "    # 각종 metric 계산\n",
        "    rmse = np.sqrt(mean_squared_error(y_test, y_pred))\n",
        "    r2 = r2_score(y_test, y_pred)\n",
        "    mape = mean_absolute_percentage_error(y_test, y_pred)\n",
        "\n",
        "    # 오차 최적화로 사용할 metric 반환\n",
        "    return r2"
      ],
      "metadata": {
        "id": "Xn6GBBVVzdRN"
      },
      "execution_count": null,
      "outputs": []
    },
    {
      "cell_type": "code",
      "source": [
        "#  bayesian-optimization 라이브러리의 BayesianOptimization 클래스 import\n",
        "from bayes_opt import BayesianOptimization\n",
        "import numpy as np\n",
        "\n",
        "# 실험해보고자하는 hyperparameter 집합\n",
        "pbounds = {'max_depth': (3, 7),\n",
        "            'learning_rate': (0.01, 0.2),\n",
        "            'n_estimators': (5000, 10000),\n",
        "            'gamma': (0, 100),\n",
        "            'min_child_weight': (0, 3),\n",
        "            'subsample': (0.5, 1),\n",
        "            'colsample_bytree' :(0.2, 1)\n",
        "            }\n",
        "\n",
        "# Bayesian optimization 객체 생성\n",
        "# f : 탐색 대상 함수, pbounds : hyperparameter 집합\n",
        "# verbose = 2 항상 출력, verbose = 1 최댓값일 때 출력, verbose = 0 출력 안함\n",
        "# random_state : Bayesian Optimization 상의 랜덤성이 존재하는 부분을 통제\n",
        "bo=BayesianOptimization(f=XGB_cv, pbounds=pbounds, verbose=2, random_state=1 )\n",
        "\n",
        "# 메소드를 이용해 최대화 과정 수행\n",
        "# init_points :  초기 Random Search 갯수\n",
        "# n_iter : 반복 횟수 (몇개의 입력값-함숫값 점들을 확인할지! 많을 수록 정확한 값을 얻을 수 있다.)\n",
        "# acq : Acquisition Function들 중 Expected Improvement(EI) 를 사용 -> 사라짐(2024.04.12)\n",
        "# xi : exploration 강도 (기본값은 0.0) -> 사라짐(2024.04.12)\n",
        "bo.maximize(init_points=2, n_iter=10)\n",
        "\n",
        "# ‘iter’는 반복 회차, ‘target’은 목적 함수의 값, 나머지는 입력값을 나타냅니다.\n",
        "# 현재 회차 이전까지 조사된 함숫값들과 비교하여, 현재 회차에 최댓값이 얻어진 경우,\n",
        "# bayesian-optimization 라이브러리는 이를 자동으로 다른 색 글자로 표시하는 것을 확인할 수 있습니다\n",
        "\n",
        "# 찾은 파라미터 값 확인\n",
        "print(bo.max)"
      ],
      "metadata": {
        "id": "qnvOOx3Tzjzs"
      },
      "execution_count": null,
      "outputs": []
    },
    {
      "cell_type": "markdown",
      "source": [
        "# 4.Hyperopt\n",
        "\n",
        "- HyperOpt는 자동화된 하이퍼파라미터 튜닝 프레임워크로서, fmin()이라는 함수 안에는 3가지의 파라미터가 있다:\n",
        "\n",
        "    - Objective Function: 최소화할 손실 함수\n",
        "    - Domain Space: 탐색 범위. 베이지안 최적화에서는 이 범위가 각  하이퍼파라미터에 대해 통계 분포를 만들어낸다.\n",
        "    - Optimization Algorithm : 최적의 조합을 찾기 위한 알고리즘\n",
        "\n",
        "참고 : https://velog.io/@emseoyk/%ED%95%98%EC%9D%B4%ED%8D%BC%ED%8C%8C%EB%9D%BC%EB%AF%B8%ED%84%B0-%ED%8A%9C%EB%8B%9D"
      ],
      "metadata": {
        "id": "oNOGx7UrcCXN"
      }
    },
    {
      "cell_type": "code",
      "source": [
        "!pip install scikit-optimize"
      ],
      "metadata": {
        "id": "K-k_fxgjcDeQ"
      },
      "execution_count": null,
      "outputs": []
    },
    {
      "cell_type": "code",
      "source": [
        "#importing packages\n",
        "\n",
        "from hyperopt import hp,fmin, tpe, Trials\n",
        "\n",
        "from hyperopt.pyll.base import scope\n",
        "\n",
        "from functools import partial\n",
        "\n",
        "from skopt import space\n",
        "\n",
        "from skopt import gp_minimize\n",
        "\n",
        "#defining a method that will perfrom a 5 split cross validation over\n",
        "\n",
        "#dataset and and will produce the optimum value of the accuracy\n",
        "\n",
        "def optimize(params, x,y):\n",
        "\n",
        "    clf = XGBClassifier(**params)\n",
        "\n",
        "    kf = model_selection.StratifiedKFold(n_splits=5)\n",
        "\n",
        "    accuracies = []\n",
        "\n",
        "    for idx in kf.split(X=x,y=y):\n",
        "\n",
        "        train_idx,test_idx = idx[0],idx[1]\n",
        "\n",
        "        xtrain = x[train_idx]\n",
        "\n",
        "        ytrain = y[train_idx]\n",
        "\n",
        "        xtest = x[test_idx]\n",
        "\n",
        "        ytest = y[test_idx]\n",
        "\n",
        "        clf.fit(xtrain,ytrain)\n",
        "\n",
        "        preds =  clf.predict(xtest)\n",
        "\n",
        "        fold_acc = metrics.accuracy_score(ytest,preds)\n",
        "\n",
        "        accuracies.append(fold_acc)\n",
        "\n",
        "    return -1.0 * np.mean(accuracies)\n",
        "\n",
        "#defining a set of values as hp for hyperparameters\n",
        "\n",
        "param_space = {\n",
        "\n",
        "    \"max_depth\" : scope.int(hp.quniform(\"max_depth\",3,20, 1)) ,\n",
        "\n",
        "    \"min_child_weight\" : scope.int(hp.quniform(\"min_child_weight\",1,8, 1)),\n",
        "\n",
        "    \"n_estimators\": scope.int(hp.quniform(\"n_estimators\",100,1500,1)),\n",
        "\n",
        "    'learning_rate': hp.uniform(\"learning_rate\",0.01,1),\n",
        "\n",
        "    'reg_lambda': hp.uniform(\"reg_lambda\",0.01,1),\n",
        "\n",
        "    'gamma': hp.uniform(\"gamma\",0.01,1),\n",
        "\n",
        "    'subsample': hp.uniform(\"subsample\",0.01,1)\n",
        "\n",
        "    }\n",
        "\n",
        "#defiing optimization_fuction as partial and calling optimize within it\n",
        "\n",
        "optimization_fuction = partial(optimize,x = X, y = y)\n",
        "\n",
        "trials = Trials()\n",
        "\n",
        "#Getting the optimum values for hyperparameters\n",
        "\n",
        "result = fmin(\n",
        "\n",
        "    fn = optimization_fuction,\n",
        "\n",
        "    space = param_space,\n",
        "\n",
        "    algo = tpe.suggest,\n",
        "\n",
        "    max_evals = 15,\n",
        "\n",
        "    trials = trials\n",
        "\n",
        ")\n",
        "\n",
        "#Printing the best hyperparemeter set\n",
        "\n",
        "print(result)"
      ],
      "metadata": {
        "id": "iM-SA_qFcEQ-"
      },
      "execution_count": null,
      "outputs": []
    },
    {
      "cell_type": "markdown",
      "source": [
        "# 5.Optuna\n",
        "\n",
        "- Optuna는 ML 알고리즘의 하이퍼파라미터 튜닝을 자동화해주는 오픈소스 툴입니다. 유사한 툴로 Hyperopt가 있지만 사용성과 문서화, 시각화 제공 여부 등에서 Optuna의 손을 들어주는 경우가 많음.\n",
        "\n",
        "- 하이퍼파라미터 튜닝에 쓰고 있는 최신 Automl 기법입니다.\n",
        "- 빠르게 튜닝이 가능하다는 장점이 있음.\n",
        "- 하이퍼파라미터 튜닝 방식을 지정할수 있다. -> 직관적인 api인 튜닝된 lightgbm도 제공해줍니다.\n",
        "\n",
        "- 다른 라이브러리들에 비해 직관적인 장점이 있어 코딩하기 용이합니다.\n"
      ],
      "metadata": {
        "id": "gaNtLF72cFZ6"
      }
    },
    {
      "cell_type": "markdown",
      "source": [
        "- 거의 모든 ML/DL 프레임워크에서 사용 가능한 넓은 범용성을 가지고 있다.\n",
        "간단하고 빠르다.\n",
        "- 최신 동향의 다양한 최적화 알고리즘을 갖추고 있다.\n",
        "- 병렬 처리가 가능하다.\n",
        "- 간단한 메소드로 시각화가 가능하다."
      ],
      "metadata": {
        "id": "DgTDs7PVGC37"
      }
    },
    {
      "cell_type": "markdown",
      "source": [
        "- Optuna를 이해하기 위해서는 다음의 용어에 익숙해져야 한다.\n",
        "\n",
        "    - Study: 목적 함수에 기반한 최적화\n",
        "    - Trial: 목적함수 시행\n",
        "- 쉽게 말해 study는 최적화를 하는 과정이고, trial은 다양한 조합으로 목적함수를 시행하는 횟수를 뜻한다.\n",
        "- Study의 목적은 여러 번의 trial을 거쳐 최적의 하이퍼파라미터 조합을 찾는 것이라고 할 수 있겠다."
      ],
      "metadata": {
        "id": "wO8cko_zGFGy"
      }
    },
    {
      "cell_type": "markdown",
      "source": [
        "- 직관적인 코드(단변수 함수)"
      ],
      "metadata": {
        "id": "zRwhvz0gBWKE"
      }
    },
    {
      "cell_type": "code",
      "source": [
        "!pip install optuna"
      ],
      "metadata": {
        "id": "h3rOl_oqcHAc"
      },
      "execution_count": null,
      "outputs": []
    },
    {
      "cell_type": "code",
      "source": [
        "import numpy as np\n",
        "import matplotlib.pyplot as plt\n",
        "import optuna\n",
        "\n",
        "# 목적 함수 (최적화할 함수)\n",
        "# 이 함수는 우리가 최소화하려는 함수로, x에 대해 비선형적인 패턴을 가짐\n",
        "def objective_function(x):\n",
        "    return np.sin(3*x) + x**2 - 0.7*x\n",
        "\n",
        "# Optuna를 활용한 최적화 예시\n",
        "def optuna_optimization():\n",
        "    # Optuna의 최적화 대상이 될 목적 함수 정의\n",
        "    def objective(trial):\n",
        "        # x 값을 -1에서 2 사이의 연속적인 실수 값으로 탐색하도록 설정\n",
        "        x = trial.suggest_float(\"x\", -1, 2)\n",
        "        return objective_function(x)\n",
        "\n",
        "    # Optuna의 Study 객체 생성 (최소화 문제로 설정)\n",
        "    study = optuna.create_study(direction=\"minimize\")\n",
        "\n",
        "    # 최적화를 수행하며, 총 20번의 탐색을 실행\n",
        "    study.optimize(objective, n_trials=20)\n",
        "\n",
        "    # 최적해 출력 (최적의 x 값과 해당하는 목적 함수 값)\n",
        "    print(\"Best value:\", study.best_value)  # 최소화된 함수 값 출력\n",
        "    print(\"Best parameter:\", study.best_params)  # 최적의 x 값 출력\n",
        "\n",
        "    # 최적화 진행 과정 시각화 (목적 함수 값이 어떻게 줄어드는지 확인)\n",
        "    fig = optuna.visualization.matplotlib.plot_optimization_history(study)\n",
        "    plt.title(\"Optimization History\")\n",
        "    plt.show()\n",
        "\n",
        "    # 탐색된 파라미터의 중요도 분석 (어떤 변수가 최적화에 가장 중요한 영향을 미치는지 확인)\n",
        "    fig = optuna.visualization.matplotlib.plot_param_importances(study)\n",
        "    plt.title(\"Parameter Importance\")\n",
        "    plt.show()\n",
        "\n",
        "# Optuna 최적화 실행 (함수 호출 시 최적화를 시작)\n",
        "optuna_optimization()"
      ],
      "metadata": {
        "id": "Ga0QOuz3BX9k"
      },
      "execution_count": null,
      "outputs": []
    },
    {
      "cell_type": "markdown",
      "source": [
        "- 직관적인 이해(다변수)"
      ],
      "metadata": {
        "id": "29krhupBCYK_"
      }
    },
    {
      "cell_type": "code",
      "source": [
        "import numpy as np\n",
        "import matplotlib.pyplot as plt\n",
        "import optuna\n",
        "\n",
        "# 목적 함수 (최적화할 함수)\n",
        "# 이 함수는 우리가 최소화하려는 함수로, x에 대해 비선형적인 패턴을 가짐\n",
        "def objective_function(x, y):\n",
        "    return np.sin(3*x) + y**2 - 0.7*x*y\n",
        "\n",
        "# Optuna를 활용한 다변수 최적화 예시\n",
        "def optuna_optimization():\n",
        "    # Optuna의 최적화 대상이 될 목적 함수 정의\n",
        "    def objective(trial):\n",
        "        # x 값을 -1에서 2 사이의 연속적인 실수 값으로 탐색하도록 설정\n",
        "        x = trial.suggest_float(\"x\", -1, 2)\n",
        "        y = trial.suggest_float(\"y\", -2, 2)\n",
        "        return objective_function(x, y)\n",
        "\n",
        "    # Optuna의 Study 객체 생성 (최소화 문제로 설정)\n",
        "    study = optuna.create_study(direction=\"minimize\")\n",
        "\n",
        "    # 최적화를 수행하며, 총 50번의 탐색을 실행 (다변수 탐색 강화)\n",
        "    study.optimize(objective, n_trials=50)\n",
        "\n",
        "    # 최적해 출력 (최적의 x, y 값과 해당하는 목적 함수 값)\n",
        "    print(\"Best value:\", study.best_value)  # 최소화된 함수 값 출력\n",
        "    print(\"Best parameters:\", study.best_params)  # 최적의 x, y 값 출력\n",
        "\n",
        "    # 최적화 진행 과정 시각화 (목적 함수 값이 어떻게 줄어드는지 확인)\n",
        "    fig = optuna.visualization.matplotlib.plot_optimization_history(study)\n",
        "    plt.title(\"Optimization History\")\n",
        "    plt.show()\n",
        "\n",
        "    # 탐색된 파라미터의 중요도 분석 (어떤 변수가 최적화에 가장 중요한 영향을 미치는지 확인)\n",
        "    fig = optuna.visualization.matplotlib.plot_param_importances(study)\n",
        "    plt.title(\"Parameter Importance\")\n",
        "    plt.show()\n",
        "\n",
        "    # x와 y 값의 탐색 과정 시각화 (탐색 경로 분석)\n",
        "    fig = optuna.visualization.matplotlib.plot_contour(study, params=[\"x\", \"y\"])\n",
        "    plt.title(\"Parameter Contour\")\n",
        "    plt.show()\n",
        "\n",
        "# Optuna 최적화 실행 (다변수 최적화를 수행)\n",
        "optuna_optimization()"
      ],
      "metadata": {
        "id": "ewVMYkKRCaLu"
      },
      "execution_count": null,
      "outputs": []
    },
    {
      "cell_type": "code",
      "source": [
        "import numpy as np\n",
        "import matplotlib.pyplot as plt\n",
        "import optuna\n",
        "\n",
        "# 목적 함수 (최적화할 함수)\n",
        "# 이 함수는 우리가 최소화하려는 함수로, x에 대해 비선형적인 패턴을 가짐\n",
        "def objective_function(x, y):\n",
        "    return np.sin(3*x) + y**2 - 0.7*x*y\n",
        "\n",
        "# Optuna를 활용한 다변수 최적화 예시 (고급 기능 추가)\n",
        "def optuna_optimization():\n",
        "    # Optuna의 최적화 대상이 될 목적 함수 정의\n",
        "    def objective(trial):\n",
        "        # x 값을 -1에서 2 사이의 연속적인 실수 값으로 탐색하도록 설정\n",
        "        x = trial.suggest_float(\"x\", -1, 2)\n",
        "        y = trial.suggest_float(\"y\", -2, 2)\n",
        "        return objective_function(x, y)\n",
        "\n",
        "    # Optuna의 Study 객체 생성 (최소화 문제로 설정)\n",
        "    study = optuna.create_study(direction=\"minimize\", sampler=optuna.samplers.TPESampler())\n",
        "    #TPE (Tree-structured Parzen Estimator) 기반 샘플링 방법, 기존 샘플 데이터로부터 확률 모델을 학습하여, 더 좋은 후보값을 예측\n",
        "    #기존의 무작위 샘플링보다 빠르고 효율적인 탐색이 가능 / 특히, 하이퍼파라미터 튜닝에서 많이 사용됨\n",
        "\n",
        "    # 최적화를 수행하며, 총 100번의 탐색을 실행 (탐색 성능 향상)\n",
        "    study.optimize(objective, n_trials=100)\n",
        "\n",
        "    # 최적해 출력 (최적의 x, y 값과 해당하는 목적 함수 값)\n",
        "    print(\"Best value:\", study.best_value)  # 최소화된 함수 값 출력\n",
        "    print(\"Best parameters:\", study.best_params)  # 최적의 x, y 값 출력\n",
        "\n",
        "    # 최적화 진행 과정 시각화 (목적 함수 값이 어떻게 줄어드는지 확인)\n",
        "    fig = optuna.visualization.matplotlib.plot_optimization_history(study)\n",
        "    plt.title(\"Optimization History\")\n",
        "    plt.show()\n",
        "\n",
        "    # 탐색된 파라미터의 중요도 분석 (어떤 변수가 최적화에 가장 중요한 영향을 미치는지 확인)\n",
        "    fig = optuna.visualization.matplotlib.plot_param_importances(study)\n",
        "    plt.title(\"Parameter Importance\")\n",
        "    plt.show()\n",
        "\n",
        "    # x와 y 값의 탐색 과정 시각화 (탐색 경로 분석)\n",
        "    fig = optuna.visualization.matplotlib.plot_contour(study, params=[\"x\", \"y\"])\n",
        "    plt.title(\"Parameter Contour\")\n",
        "    plt.show()\n",
        "\n",
        "    # 하이퍼파라미터의 조합을 3D 산점도로 시각화\n",
        "    trials = np.array([[t.params[\"x\"], t.params[\"y\"], t.value] for t in study.trials if t.state == optuna.trial.TrialState.COMPLETE])\n",
        "    fig = plt.figure(figsize=(8, 6))\n",
        "    ax = fig.add_subplot(111, projection='3d')\n",
        "    ax.scatter(trials[:, 0], trials[:, 1], trials[:, 2], c=trials[:, 2], cmap='viridis', marker='o')\n",
        "    ax.set_xlabel(\"x\")\n",
        "    ax.set_ylabel(\"y\")\n",
        "    ax.set_zlabel(\"Objective Value\")\n",
        "    plt.title(\"Optimization Search Space\")\n",
        "    plt.show()\n",
        "\n",
        "# Optuna 최적화 실행 (다변수 최적화를 수행)\n",
        "optuna_optimization()"
      ],
      "metadata": {
        "id": "BbMceaoHCnMe"
      },
      "execution_count": null,
      "outputs": []
    },
    {
      "cell_type": "markdown",
      "source": [
        "- randomsampler VS TPEsampler"
      ],
      "metadata": {
        "id": "Ip7T7haBC2A8"
      }
    },
    {
      "cell_type": "code",
      "source": [
        "import optuna\n",
        "import numpy as np\n",
        "\n",
        "# 최적화할 목적 함수 정의\n",
        "def objective(trial):\n",
        "    x = trial.suggest_float(\"x\", -5, 5)\n",
        "    y = trial.suggest_float(\"y\", -5, 5)\n",
        "    return (x - 2) ** 2 + (y + 3) ** 2  # (2, -3)에서 최솟값을 가짐\n",
        "\n",
        "# Random Sampler (무작위 탐색)\n",
        "study_random = optuna.create_study(direction=\"minimize\", sampler=optuna.samplers.RandomSampler())\n",
        "study_random.optimize(objective, n_trials=50)\n",
        "print(\"Random Sampler Best Value:\", study_random.best_value, \"Best Params:\", study_random.best_params)\n",
        "\n",
        "# TPE Sampler (TPE 기반 탐색)\n",
        "study_tpe = optuna.create_study(direction=\"minimize\", sampler=optuna.samplers.TPESampler())\n",
        "study_tpe.optimize(objective, n_trials=50)\n",
        "print(\"TPE Sampler Best Value:\", study_tpe.best_value, \"Best Params:\", study_tpe.best_params)\n"
      ],
      "metadata": {
        "id": "Z6wS-b27C4n4"
      },
      "execution_count": null,
      "outputs": []
    },
    {
      "cell_type": "markdown",
      "source": [
        "- 고급버전(3D)"
      ],
      "metadata": {
        "id": "-PGo1IJ1DDTL"
      }
    },
    {
      "cell_type": "code",
      "source": [
        "import numpy as np\n",
        "import matplotlib.pyplot as plt\n",
        "import optuna\n",
        "from optuna.trial import TrialState\n",
        "\n",
        "# 목적 함수 (최적화할 함수)\n",
        "# 이 함수는 우리가 최소화하려는 함수로, x에 대해 비선형적인 패턴을 가짐\n",
        "def objective_function(x, y):\n",
        "    return np.sin(3*x) + y**2 - 0.7*x*y\n",
        "\n",
        "# Optuna를 활용한 다변수 최적화 예시 (고급 기능 추가)\n",
        "def optuna_optimization():\n",
        "    # Optuna의 최적화 대상이 될 목적 함수 정의\n",
        "    def objective(trial):\n",
        "        # x 값을 -1에서 2 사이의 연속적인 실수 값으로 탐색하도록 설정\n",
        "        x = trial.suggest_float(\"x\", -1, 2)\n",
        "        y = trial.suggest_float(\"y\", -2, 2)\n",
        "        return objective_function(x, y)\n",
        "\n",
        "    # Optuna의 Study 객체 생성 (최소화 문제로 설정)\n",
        "    study = optuna.create_study(direction=\"minimize\", sampler=optuna.samplers.TPESampler())\n",
        "\n",
        "    # 최적화를 수행하며, 총 100번의 탐색을 실행 (탐색 성능 향상)\n",
        "    study.optimize(objective, n_trials=100)\n",
        "\n",
        "    # 최적해 출력 (최적의 x, y 값과 해당하는 목적 함수 값)\n",
        "    print(\"Best value:\", study.best_value)  # 최소화된 함수 값 출력\n",
        "    print(\"Best parameters:\", study.best_params)  # 최적의 x, y 값 출력\n",
        "\n",
        "    # 최적화 진행 과정 시각화 (목적 함수 값이 어떻게 줄어드는지 확인)\n",
        "    fig = optuna.visualization.matplotlib.plot_optimization_history(study)\n",
        "    plt.title(\"Optimization History\")\n",
        "    plt.show()\n",
        "\n",
        "    # 탐색된 파라미터의 중요도 분석 (어떤 변수가 최적화에 가장 중요한 영향을 미치는지 확인)\n",
        "    fig = optuna.visualization.matplotlib.plot_param_importances(study)\n",
        "    plt.title(\"Parameter Importance\")\n",
        "    plt.show()\n",
        "\n",
        "    # x와 y 값의 탐색 과정 시각화 (탐색 경로 분석)\n",
        "    fig = optuna.visualization.matplotlib.plot_contour(study, params=[\"x\", \"y\"])\n",
        "    plt.title(\"Parameter Contour\")\n",
        "    plt.show()\n",
        "\n",
        "    # 하이퍼파라미터의 조합을 3D 산점도로 시각화\n",
        "    trials = np.array([[t.params[\"x\"], t.params[\"y\"], t.value] for t in study.trials if t.state == optuna.trial.TrialState.COMPLETE])\n",
        "    fig = plt.figure(figsize=(8, 6))\n",
        "    ax = fig.add_subplot(111, projection='3d')\n",
        "    ax.scatter(trials[:, 0], trials[:, 1], trials[:, 2], c=trials[:, 2], cmap='viridis', marker='o')\n",
        "    ax.set_xlabel(\"x\")\n",
        "    ax.set_ylabel(\"y\")\n",
        "    ax.set_zlabel(\"Objective Value\")\n",
        "    plt.title(\"Optimization Search Space\")\n",
        "    plt.show()\n",
        "\n",
        "    # 최적화 과정에서 실패한 시도들에 대한 통계 출력\n",
        "    complete_trials = study.get_trials(states=(TrialState.COMPLETE,))\n",
        "    failed_trials = study.get_trials(states=(TrialState.FAIL,))\n",
        "    print(f\"Total completed trials: {len(complete_trials)}\")\n",
        "    print(f\"Total failed trials: {len(failed_trials)}\")\n",
        "\n",
        "    # 하이퍼파라미터 값 분포 시각화\n",
        "    fig = optuna.visualization.matplotlib.plot_parallel_coordinate(study)\n",
        "    plt.title(\"Parallel Coordinate Plot\")\n",
        "    plt.show()\n",
        "\n",
        "# Optuna 최적화 실행 (다변수 최적화를 수행)\n",
        "optuna_optimization()"
      ],
      "metadata": {
        "id": "cXwBoNQrDE-T"
      },
      "execution_count": null,
      "outputs": []
    },
    {
      "cell_type": "code",
      "source": [
        "import lightgbm as lgb\n",
        "import numpy as np\n",
        "import pandas as pd\n",
        "import optuna\n",
        "from sklearn.datasets import load_breast_cancer\n",
        "from sklearn.model_selection import train_test_split\n",
        "from sklearn.metrics import accuracy_score\n",
        "\n",
        "# 데이터 로드\n",
        "cancer = load_breast_cancer()\n",
        "X, y = cancer.data, cancer.target\n",
        "\n",
        "# 데이터 분할\n",
        "X_train, X_test, y_train, y_test = train_test_split(X, y, test_size=0.2, random_state=42)\n",
        "\n",
        "# Optuna를 사용한 하이퍼파라미터 최적화\n",
        "def objective(trial):\n",
        "    params = {\n",
        "        'num_leaves': trial.suggest_int('num_leaves', 20, 50),  # 트리의 리프 노드 개수\n",
        "        'max_depth': trial.suggest_int('max_depth', -1, 10),  # 트리의 최대 깊이\n",
        "        'learning_rate': trial.suggest_loguniform('learning_rate', 0.01, 0.1),  # 학습률\n",
        "        'n_estimators': trial.suggest_int('n_estimators', 100, 1000, step=100),  # 부스팅 반복 횟수\n",
        "        'subsample': trial.suggest_float('subsample', 0.7, 1.0),  # 샘플링 비율\n",
        "        'colsample_bytree': trial.suggest_float('colsample_bytree', 0.7, 1.0),  # 특성 선택 비율\n",
        "        'reg_alpha': trial.suggest_loguniform('reg_alpha', 0.0001, 1.0),  # L1 정규화\n",
        "        'reg_lambda': trial.suggest_loguniform('reg_lambda', 0.0001, 1.0)  # L2 정규화\n",
        "    }\n",
        "    model = lgb.LGBMClassifier(boosting_type='gbdt', objective='binary', metric='accuracy', **params)\n",
        "    model.fit(X_train, y_train, eval_set=[(X_test, y_test)], eval_metric='logloss', callbacks=[lgb.early_stopping(50)])\n",
        "    y_pred = model.predict(X_test)\n",
        "    return accuracy_score(y_test, y_pred)\n",
        "\n",
        "# Optuna 최적화 실행\n",
        "study = optuna.create_study(direction='maximize')\n",
        "study.optimize(objective, n_trials=50)\n",
        "\n",
        "# 최적의 하이퍼파라미터 출력\n",
        "print(\"최적의 하이퍼파라미터:\", study.best_params)\n",
        "\n",
        "# 최적 모델 평가\n",
        "best_params = study.best_params\n",
        "best_model = lgb.LGBMClassifier(boosting_type='gbdt', objective='binary', metric='accuracy', **best_params)\n",
        "best_model.fit(X_train, y_train)\n",
        "y_pred = best_model.predict(X_test)\n",
        "accuracy = accuracy_score(y_test, y_pred)\n",
        "print(\"최적 모델의 정확도:\", accuracy)"
      ],
      "metadata": {
        "id": "EYVn4t2xvx80"
      },
      "execution_count": null,
      "outputs": []
    },
    {
      "cell_type": "markdown",
      "source": [
        "- 업그레이드 버전"
      ],
      "metadata": {
        "id": "kJ-Lw2IeG-Li"
      }
    },
    {
      "cell_type": "code",
      "source": [
        "pip install optuna-integration"
      ],
      "metadata": {
        "id": "Vd4xB5DrHSpi"
      },
      "execution_count": null,
      "outputs": []
    },
    {
      "cell_type": "markdown",
      "source": [
        "- Optuna Integration (optuna-integration)\n",
        "    - Optuna와 다양한 머신러닝 프레임워크(XGBoost, LightGBM, PyTorch 등)를 쉽게 연동하는 라이브러리\n",
        "    - optuna.integration.lightgbm.LightGBMPruningCallback을 통해 LightGBM과 Optuna를 쉽게 연결 가능."
      ],
      "metadata": {
        "id": "YOAv_ukoHgrV"
      }
    },
    {
      "cell_type": "code",
      "source": [
        "import optuna\n",
        "import lightgbm as lgb\n",
        "from optuna.integration import LightGBMPruningCallback\n",
        "from sklearn.datasets import load_breast_cancer\n",
        "from sklearn.model_selection import train_test_split\n",
        "from sklearn.metrics import accuracy_score, log_loss\n",
        "\n",
        "# 데이터 로드\n",
        "data = load_breast_cancer()\n",
        "X_train, X_test, y_train, y_test = train_test_split(data.data, data.target, test_size=0.2, random_state=42)\n",
        "\n",
        "def objective(trial):\n",
        "    params = {\n",
        "        \"num_leaves\": trial.suggest_int(\"num_leaves\", 20, 50),\n",
        "        \"learning_rate\": trial.suggest_loguniform(\"learning_rate\", 0.01, 0.1),\n",
        "        \"n_estimators\": trial.suggest_int(\"n_estimators\", 100, 1000, step=100),\n",
        "    }\n",
        "\n",
        "    model = lgb.LGBMClassifier(**params)\n",
        "\n",
        "    # 📌 조기 종료 및 Pruning 설정\n",
        "    callbacks = [\n",
        "        LightGBMPruningCallback(trial, \"binary_logloss\"),  # log loss가 감소하지 않으면 pruning\n",
        "        lgb.early_stopping(50),  # 50회 동안 개선이 없으면 조기 종료\n",
        "    ]\n",
        "\n",
        "    model.fit(\n",
        "        X_train, y_train,\n",
        "        eval_set=[(X_test, y_test)],\n",
        "        eval_metric=\"logloss\",\n",
        "        callbacks=callbacks  # early_stopping_rounds 대신 사용\n",
        "    )\n",
        "\n",
        "    y_pred_prob = model.predict_proba(X_test)[:, 1]  # 클래스 1에 대한 확률\n",
        "    return log_loss(y_test, y_pred_prob)  # log loss 값 반환 (작을수록 좋음)\n",
        "\n",
        "# Optuna 최적화 실행 (`direction=\"minimize\"`로 변경)\n",
        "study = optuna.create_study(direction=\"minimize\")  # log loss는 낮을수록 좋음\n",
        "study.optimize(objective, n_trials=50)\n",
        "\n",
        "# 최적의 하이퍼파라미터 출력\n",
        "print(\"Best parameters:\", study.best_params)"
      ],
      "metadata": {
        "id": "hxHTljMFG9LL"
      },
      "execution_count": null,
      "outputs": []
    },
    {
      "cell_type": "markdown",
      "source": [
        "- load_iris()"
      ],
      "metadata": {
        "id": "0chat9AiKtx-"
      }
    },
    {
      "cell_type": "code",
      "source": [
        "#importing all the required packages\n",
        "import optuna\n",
        "from sklearn.datasets import load_iris\n",
        "import sklearn.linear_model\n",
        "import sklearn.metrics\n",
        "from sklearn.model_selection import train_test_split\n",
        "\n",
        "#Loading iris dataset from sklearn\n",
        "iris = load_iris()\n",
        "\n",
        "#independent feautres\n",
        "X = iris.data\n",
        "\n",
        "# target features\n",
        "y = iris.target"
      ],
      "metadata": {
        "id": "5fGjE4mrcH8V"
      },
      "execution_count": null,
      "outputs": []
    },
    {
      "cell_type": "code",
      "source": [
        "# 📌 필요한 패키지 임포트\n",
        "import optuna  # 하이퍼파라미터 최적화 라이브러리\n",
        "import numpy as np  # 수치 계산을 위한 numpy\n",
        "from sklearn import model_selection, metrics  # 교차 검증과 평가 지표\n",
        "from xgboost import XGBClassifier  # XGBoost 분류기\n",
        "from functools import partial  # partial() 함수를 사용해 인자를 고정\n",
        "\n",
        "#  `optimize` 함수 정의\n",
        "# - 5-Fold 교차 검증을 수행하여 최적의 하이퍼파라미터를 찾음\n",
        "# - Optuna를 활용해 자동으로 최적의 값을 탐색\n",
        "def optimize(trial, x, y):\n",
        "    \"\"\"\n",
        "    Optuna를 이용해 XGBoost 모델의 최적 하이퍼파라미터를 찾는 함수.\n",
        "    5-Fold Cross Validation을 사용하여 모델을 평가하고, 최적의 파라미터를 탐색함.\n",
        "\n",
        "    Parameters:\n",
        "        trial (optuna.trial): Optuna의 트라이얼 객체 (각 실험의 파라미터 조정)\n",
        "        x (numpy.ndarray): 입력 데이터 (Feature)\n",
        "        y (numpy.ndarray): 출력 데이터 (Label)\n",
        "\n",
        "    Returns:\n",
        "        float: 평균 정확도의 음수 값 (최소화를 위해 -1을 곱함)\n",
        "    \"\"\"\n",
        "\n",
        "    #  Optuna를 이용해 하이퍼파라미터 범위 설정\n",
        "    # - `suggest_uniform`: 연속된 값에서 랜덤 샘플링 (균등 분포)\n",
        "    # - `suggest_int`: 정수 값 범위에서 랜덤 샘플링\n",
        "    reg_lambda = trial.suggest_uniform('reg_lambda', 0.01, 1.0)  # L2 정규화 (0.01 ~ 1.0)\n",
        "    n_estimators = trial.suggest_int('n_estimators', 100, 1500)  # 트리 개수 (100 ~ 1500)\n",
        "    max_depth = trial.suggest_int('max_depth', 3, 15)  # 트리 최대 깊이 (3 ~ 15)\n",
        "    max_features = trial.suggest_uniform('max_features', 0.01, 1.0)  # 선택할 특성 비율 (0.01 ~ 1.0)\n",
        "\n",
        "    #  XGBoost 모델 생성 (하이퍼파라미터 적용)\n",
        "    clf = XGBClassifier(\n",
        "        n_estimators=n_estimators,  # 부스팅 반복 횟수\n",
        "        reg_lambda=reg_lambda,  # L2 정규화 (규제를 통해 과적합 방지)\n",
        "        max_depth=max_depth,  # 트리의 최대 깊이 (깊을수록 복잡한 모델)\n",
        "        max_features=max_features  # 특성 선택 비율 (작을수록 모델이 단순해짐)\n",
        "    )\n",
        "\n",
        "    #  5-Fold Stratified K-Fold 교차 검증 설정\n",
        "    # - 데이터를 5개의 Fold로 나눠, 각 Fold마다 모델을 학습 & 평가\n",
        "    # - `StratifiedKFold`를 사용해 클래스 비율을 유지하도록 설정 (불균형 데이터 방지)\n",
        "    kf = model_selection.StratifiedKFold(n_splits=5)\n",
        "\n",
        "    #  교차 검증을 수행하며 정확도를 저장할 리스트\n",
        "    accuracies = []\n",
        "\n",
        "    #  각 Fold에 대해 학습 & 평가 반복\n",
        "    for idx in kf.split(X=x, y=y):\n",
        "        train_idx, test_idx = idx[0], idx[1]  # 학습 데이터와 검증 데이터의 인덱스 분할\n",
        "\n",
        "        #  학습 데이터와 검증 데이터 생성\n",
        "        xtrain, xtest = x[train_idx], x[test_idx]\n",
        "        ytrain, ytest = y[train_idx], y[test_idx]\n",
        "\n",
        "        #  모델 학습\n",
        "        clf.fit(xtrain, ytrain)\n",
        "\n",
        "        #  검증 데이터에 대한 예측 수행\n",
        "        preds = clf.predict(xtest)\n",
        "\n",
        "        #  Fold별 정확도(Accuracy) 계산\n",
        "        fold_acc = metrics.accuracy_score(ytest, preds)\n",
        "        accuracies.append(fold_acc)  # 정확도 리스트에 저장\n",
        "\n",
        "    #  최종적으로 5-Fold 교차 검증 평균 정확도를 반환\n",
        "    # - Optuna는 기본적으로 최소화(`direction='minimize'`)를 수행하므로, 음수(-1)를 곱해 반환\n",
        "    return -1.0 * np.mean(accuracies)\n",
        "\n",
        "#  `partial()`을 이용해 X와 Y 데이터를 `optimize` 함수에 고정\n",
        "# - `optimize()` 함수의 인자를 고정하여, `study.optimize()`에서 간편하게 호출 가능\n",
        "optimization_function = partial(optimize, x=X, y=y)\n",
        "\n",
        "#  Optuna Study 생성 (하이퍼파라미터 최적화 설정)\n",
        "# - `direction='minimize'`: 가장 낮은 정확도를 찾는 것이 아니라, `-accuracy` 값을 최소화하여 정확도를 최대화하는 구조\n",
        "study = optuna.create_study(direction='minimize')\n",
        "\n",
        "#  Optuna 최적화 실행 (15번의 실험 진행)\n",
        "study.optimize(optimization_function, n_trials=15)\n",
        "\n",
        "#  최적의 하이퍼파라미터 출력\n",
        "print(\"Best Hyperparameters:\", study.best_params)\n"
      ],
      "metadata": {
        "id": "1H0r9ygVcKDW"
      },
      "execution_count": null,
      "outputs": []
    },
    {
      "cell_type": "markdown",
      "source": [
        "- mimimize로 찾은 이유 : https://stackoverflow.com/questions/72193393/find-the-value-of-variables-to-maximize-return-of-function-in-python"
      ],
      "metadata": {
        "id": "WD46e556Omz6"
      }
    },
    {
      "cell_type": "markdown",
      "source": [
        "## Create an objective function"
      ],
      "metadata": {
        "id": "9zw7Dt_UcOW_"
      }
    },
    {
      "cell_type": "code",
      "source": [
        "#  Optuna 개념 정리\n",
        "# - `Trial`: 하나의 실험(객체)으로, objective 함수가 한 번 실행될 때마다 생성됨.\n",
        "# - `Study`: 여러 개의 `Trial`을 포함하는 하나의 최적화 세션.\n",
        "# - `Study`는 특정 목표(objective function)에 따라 최적의 하이퍼파라미터를 찾음.\n",
        "# - `Trial`은 objective 함수를 실행할 때마다 새로운 하이퍼파라미터 값을 평가함.\n",
        "\n",
        "#  `objective` 함수 정의\n",
        "# - Optuna가 하이퍼파라미터를 최적화할 때 호출되는 함수.\n",
        "# - 여기서는 Lasso Regression 모델의 `alpha` 값을 최적화하는 것이 목표.\n",
        "def objective(trial):\n",
        "\n",
        "    #  Optuna를 사용한 하이퍼파라미터 탐색\n",
        "    # - `suggest_uniform(name, low, high)`: 지정한 범위 내에서 균등 분포를 따르는 값을 샘플링함.\n",
        "    # - 여기서는 `alpha`를 0.0 ~ 2.0 범위에서 최적의 값을 찾음.\n",
        "    alpha = trial.suggest_uniform('alpha', 0.0, 2.0)\n",
        "\n",
        "    #  데이터 로드 및 학습/검증 데이터 분할\n",
        "    # - `load_iris(return_X_y=True)`: Iris 데이터셋을 가져와 X(특성), y(레이블)로 반환.\n",
        "    X, y = load_iris(return_X_y=True)\n",
        "\n",
        "    # - `train_test_split()`: 데이터를 학습(train)과 검증(validation) 세트로 분할.\n",
        "    # - `random_state=0`: 실험의 재현성을 보장하기 위해 랜덤 시드를 고정.\n",
        "    X_train, X_val, y_train, y_val = train_test_split(X, y, random_state=0)\n",
        "\n",
        "    #  모델 학습 및 평가\n",
        "    # - `sklearn.linear_model.Lasso(alpha=alpha)`: Lasso 회귀 모델 생성 (alpha는 정규화 강도를 조절).\n",
        "    model = sklearn.linear_model.Lasso(alpha=alpha)\n",
        "\n",
        "    # - `fit(X_train, y_train)`: 학습 데이터로 모델을 학습.\n",
        "    model.fit(X_train, y_train)\n",
        "\n",
        "    # - `predict(X_val)`: 검증 데이터로 예측 수행.\n",
        "    y_pred = model.predict(X_val)\n",
        "\n",
        "    #  평가 지표: 평균 제곱 오차(MSE)\n",
        "    # - `mean_squared_error(y_val, y_pred)`: 예측값과 실제값 간의 평균 제곱 오차를 계산.\n",
        "    error = sklearn.metrics.mean_squared_error(y_val, y_pred)\n",
        "\n",
        "    #  최적화 목표: MSE를 최소화하는 방향으로 `alpha` 값을 찾음.\n",
        "    # - Optuna는 반환된 값을 기준으로 최적의 하이퍼파라미터를 탐색함.\n",
        "    return error"
      ],
      "metadata": {
        "id": "Pr8FbrtvcPdZ"
      },
      "execution_count": null,
      "outputs": []
    },
    {
      "cell_type": "markdown",
      "source": [
        "## Create an study for that ML model and optimize it"
      ],
      "metadata": {
        "id": "J5_c2l7TcRKn"
      }
    },
    {
      "cell_type": "code",
      "source": [
        "import sklearn\n",
        "# In Optuna, we use the study object to manage optimization.\n",
        "# Method :func:`~optuna.create_study` returns a study object.\n",
        "# A study object has useful properties for analyzing the optimization outcome.\n",
        "study = optuna.create_study(direction='minimize') #Set minimize for minimization and maximize for maximization.\n",
        "#To start the optimization, we create a study object and pass the objective function to method\n",
        "study.optimize(objective, n_trials=50)"
      ],
      "metadata": {
        "id": "MDjBVqYkcPfr"
      },
      "execution_count": null,
      "outputs": []
    },
    {
      "cell_type": "markdown",
      "source": [
        "## Visualized the above hyperparameter optimization study"
      ],
      "metadata": {
        "id": "3vQMiNdmcTqW"
      }
    },
    {
      "cell_type": "code",
      "source": [
        "#importing all the plot functions\n",
        "from optuna.visualization import plot_edf\n",
        "from optuna.visualization import plot_optimization_history\n",
        "from optuna.visualization import plot_parallel_coordinate\n",
        "from optuna.visualization import plot_param_importances\n",
        "from optuna.visualization import plot_slice"
      ],
      "metadata": {
        "id": "CFlHgvK9cPh4"
      },
      "execution_count": null,
      "outputs": []
    },
    {
      "cell_type": "code",
      "source": [
        "# Visualize the optimization history. See :func:`~optuna.visualization.plot_optimization_history` for the details.\n",
        "plot_optimization_history(study)"
      ],
      "metadata": {
        "id": "E3dHCwofcVE4"
      },
      "execution_count": null,
      "outputs": []
    },
    {
      "cell_type": "code",
      "source": [
        "# Visualize high-dimensional parameter relationships. See :func:`~optuna.visualization.plot_parallel_coordinate` for the details.\n",
        "plot_parallel_coordinate(study)"
      ],
      "metadata": {
        "id": "oQ6qT2ZLcVHP"
      },
      "execution_count": null,
      "outputs": []
    },
    {
      "cell_type": "code",
      "source": [
        "# Visualize individual hyperparameters as slice plot. See :func:`~optuna.visualization.plot_slice` for the details.\n",
        "plot_slice(study)"
      ],
      "metadata": {
        "id": "HNAk09O6cVJS"
      },
      "execution_count": null,
      "outputs": []
    },
    {
      "cell_type": "code",
      "source": [
        "# Visualize parameter importances. See :func:`~optuna.visualization.plot_param_importances` for the details.\n",
        "#In this case, we have only one parameter.\n",
        "plot_param_importances(study)"
      ],
      "metadata": {
        "id": "nNK4p89hcY1T"
      },
      "execution_count": null,
      "outputs": []
    },
    {
      "cell_type": "code",
      "source": [
        "# Visualize empirical distribution function. See :func:`~optuna.visualization.plot_edf` for the details.\n",
        "plot_edf(study)"
      ],
      "metadata": {
        "id": "4UnJr023cY3j"
      },
      "execution_count": null,
      "outputs": []
    },
    {
      "cell_type": "code",
      "source": [
        "import optuna\n",
        "import sklearn\n",
        "from sklearn.model_selection import cross_val_score\n",
        "from xgboost import XGBClassifier\n",
        "\n",
        "# 1. 최소화/최대화할 목적함수 정의\n",
        "def objective(trial):\n",
        "    iris = sklearn.datasets.load_iris()\n",
        "    x, y = iris.data, iris.target\n",
        "\n",
        "# 2. trial object로 하이퍼파라미터 값 추천\n",
        "# 다양한 분류모델을 설정해서 비교할 수 있다.\n",
        "    classifier_name = trial.suggest_categorical('classifier', ['SVC', 'RandomForest'])\n",
        "    #분류 모델이 SVC일 때\n",
        "    if classifier_name == 'SVC':\n",
        "        svc_c = trial.suggest_loguniform('svc_c', 1e-10, 1e10)\n",
        "        classifier_obj = sklearn.svm.SVC(C=svc_c, gamma='auto')\n",
        "\n",
        "    #분류모델이 랜덤포레스트일 때\n",
        "    else:\n",
        "        rf_max_depth = int(trial.suggest_loguniform('rf_max_depth', 2, 32))\n",
        "        classifier_obj = sklearn.ensemble.RandomForestClassifier(max_depth=rf_max_depth, n_estimators=10)\n",
        "\n",
        "    accuracy = cross_val_score(classifier_obj, x, y, cv = 4).mean()\n",
        "    return accuracy\n",
        "\n",
        "# 3. study 오브젝트 생성하고 목적함수 최적화하는 단계\n",
        "# 여기서는 목적함수를 정확도로 설정했기 때문에 최대화를 목표로 하고 있지만, 손실함수의 경우 direction='minimize'로 설정\n",
        "study = optuna.create_study(direction='maximize')\n",
        "# 반복 시행 횟수(trial)는 200번으로\n",
        "study.optimize(objective, n_trials=200)"
      ],
      "metadata": {
        "id": "8PahkZBmcY5u"
      },
      "execution_count": null,
      "outputs": []
    },
    {
      "cell_type": "code",
      "source": [
        "# 시행된 trial 중 최적의 하이퍼파라미터 반환하는 메소드\n",
        "print(study.best_trial.params)\n",
        "\n",
        "# 시행된 trial 중 가장 높은 값 반환하는 메소드\n",
        "optuna_acc = study.best_trial.value\n",
        "print(optuna_acc)"
      ],
      "metadata": {
        "id": "8ELZ5u6Bcd-7"
      },
      "execution_count": null,
      "outputs": []
    },
    {
      "cell_type": "markdown",
      "source": [
        "## Visualization"
      ],
      "metadata": {
        "id": "H2MWEFmgcgfk"
      }
    },
    {
      "cell_type": "code",
      "source": [
        "optuna.visualization.plot_param_importances(study)\n",
        "\n",
        "optuna.visualization.plot_optimization_history(study)"
      ],
      "metadata": {
        "id": "E84NoqGTcd_7"
      },
      "execution_count": null,
      "outputs": []
    },
    {
      "cell_type": "markdown",
      "source": [
        "#6. TPOT (Tree-based Pipeline Optimization Tool)\n",
        "- TPOT은 자동 머신러닝(AutoML) 라이브러리 중 하나로, **유전 알고리즘(Genetic Algorithm, GA)**을 활용하여 최적의 머신러닝 파이프라인을 찾아주는 도구\n",
        "\n",
        "- 여러 개의 모델을 탐색하며, 최적의 Stacking 구조를 찾아줌.\n",
        "- Python에서 AutoML을 수행하기위한 오픈 소스 라이브러리\n",
        "- 데이터 변환 및 기계 학습 알고리즘에 인기있는 Scikit-Learn 기계 학습 라이브러리를 사용\n",
        "- 주어진 데이터 세트에 대한 최고 성능의 모델 파이프 라인을 효율적으로 검색\n",
        "- 유전 프로그래밍 확률적 글로벌 검색 절차를 사용\n",
        "\n",
        "<img src='https://img1.daumcdn.net/thumb/R1280x0/?scode=mtistory2&fname=https%3A%2F%2Fblog.kakaocdn.net%2Fdn%2Fb8ctX7%2Fbtrnji5Ub3h%2FKxKKKtTK0TMtC83zUaVnq1%2Fimg.png'>"
      ],
      "metadata": {
        "id": "YDaSzQsKJ6PY"
      }
    },
    {
      "cell_type": "markdown",
      "source": [
        "## 유전 알고리즘\n",
        "\n",
        "- **유전 알고리즘(Genetic Algorithm, GA)**은 진화론의 개념을 기반으로 최적의 해를 탐색하는 최적화 알고리즘\n",
        "- 자연 선택(Natural Selection)과 돌연변이(Mutation) 원리를 사용하여, 문제 해결을 위한 최적의 해를 점진적으로 찾아가는 방식"
      ],
      "metadata": {
        "id": "ajPU4fP7MBbQ"
      }
    },
    {
      "cell_type": "code",
      "source": [
        "#예제\n",
        "import numpy as np\n",
        "\n",
        "# 목표 함수: -x^2 + 10x + 5 (최대값을 찾기)\n",
        "def fitness_function(x):\n",
        "    return -x**2 + 10*x + 5  # 예제 함수 (파라미터 x에 대한 평가)\n",
        "\n",
        "# 초기 개체군(10개의 무작위 값)\n",
        "population_size = 10\n",
        "population = np.random.randint(0, 10, population_size)\n",
        "\n",
        "# 세대 수 설정\n",
        "generations = 20\n",
        "\n",
        "for generation in range(generations):\n",
        "    # 1. 적합도 평가\n",
        "    fitness = np.array([fitness_function(ind) for ind in population])\n",
        "\n",
        "    # 2. 선택 (적합도가 높은 개체 선택)\n",
        "    selected_parents = population[np.argsort(fitness)][-4:]  # 상위 4개 선택\n",
        "\n",
        "    # 3. 교차 (선택된 개체들끼리 섞어서 새로운 개체 생성)\n",
        "    children = (selected_parents[:2] + selected_parents[2:]) // 2  # 단순 평균 교차\n",
        "\n",
        "    # 4. 돌연변이 (랜덤하게 변화)\n",
        "    mutation_prob = 0.2\n",
        "    for i in range(len(children)):\n",
        "        if np.random.rand() < mutation_prob:\n",
        "            children[i] += np.random.randint(-1, 2)  # -1 ~ 1 값 추가\n",
        "\n",
        "    # 5. 새로운 개체군 구성 (부모 + 자식)\n",
        "    population = np.concatenate((selected_parents, children))\n",
        "\n",
        "    # 최적해 출력\n",
        "    best_solution = population[np.argmax(fitness)]\n",
        "    print(f\"Generation {generation+1}: Best solution: x={best_solution}, Fitness={fitness_function(best_solution)}\")\n"
      ],
      "metadata": {
        "id": "uLjja2fgMPs4"
      },
      "execution_count": null,
      "outputs": []
    },
    {
      "cell_type": "markdown",
      "source": [
        "- iris dataset으로 tpot를 해보자."
      ],
      "metadata": {
        "id": "klIfDcn2MZec"
      }
    },
    {
      "cell_type": "code",
      "source": [
        "pip install tpot"
      ],
      "metadata": {
        "id": "eY_LTSbfMYhk"
      },
      "execution_count": null,
      "outputs": []
    },
    {
      "cell_type": "code",
      "source": [
        "# 필요한 라이브러리 가져오기\n",
        "from tpot import TPOTClassifier  # TPOT의 분류기 모델\n",
        "from sklearn.datasets import load_iris  # 예제 데이터셋 (Iris)\n",
        "from sklearn.model_selection import train_test_split  # 데이터 분할\n",
        "from sklearn.metrics import accuracy_score  # 성능 평가\n",
        "\n",
        "# 데이터 로드\n",
        "iris = load_iris()\n",
        "X, y = iris.data, iris.target\n",
        "\n",
        "# 학습용 데이터와 테스트 데이터 분할 (80% 학습, 20% 테스트)\n",
        "X_train, X_test, y_train, y_test = train_test_split(X, y, test_size=0.2, random_state=42)\n",
        "\n",
        "# TPOT 모델 생성 및 실행\n",
        "tpot = TPOTClassifier(generations=5, population_size=20, verbosity=2, random_state=42)\n",
        "# generations=5: 유전 알고리즘의 세대 수 (5번 반복)\n",
        "# population_size=20: 한 번에 평가할 모델 수 (20개)\n",
        "# verbosity=2: 진행 과정을 출력 (0: 조용, 3: 상세 정보 출력)\n",
        "\n",
        "tpot.fit(X_train, y_train)  # 모델 학습\n",
        "\n",
        "# 최적의 파이프라인 출력\n",
        "print(\"\\n최적의 머신러닝 파이프라인:\")\n",
        "print(tpot.fitted_pipeline_)\n",
        "\n",
        "# 예측 수행 및 성능 평가\n",
        "y_pred = tpot.predict(X_test)\n",
        "print(f\"\\n테스트 데이터 정확도: {accuracy_score(y_test, y_pred):.4f}\")\n",
        "\n",
        "# 최적화된 모델을 Python 코드로 저장\n",
        "tpot.export('tpot_best_pipeline.py')  # 최적의 모델을 파일로 저장"
      ],
      "metadata": {
        "id": "R1PWR_ssMdoU"
      },
      "execution_count": null,
      "outputs": []
    },
    {
      "cell_type": "markdown",
      "source": [
        "- generations와 population_size 값이 클수록 시간이 오래 걸림.\n",
        "- GPU를 지원하지 않으므로 병렬 연산을 활용하려면 n_jobs=-1을 추가하면 됨."
      ],
      "metadata": {
        "id": "xsPn21yaMpbT"
      }
    },
    {
      "cell_type": "code",
      "source": [
        "# 필요한 라이브러리 가져오기\n",
        "from tpot import TPOTClassifier\n",
        "from sklearn.datasets import make_classification\n",
        "from sklearn.model_selection import train_test_split, cross_val_score\n",
        "from sklearn.ensemble import RandomForestClassifier\n",
        "from sklearn.preprocessing import StandardScaler\n",
        "from sklearn.pipeline import Pipeline\n",
        "from sklearn.feature_selection import SelectFromModel\n",
        "import numpy as np\n",
        "\n",
        "# 데이터 생성 (1000개의 샘플, 20개의 특성을 가진 분류 데이터)\n",
        "X, y = make_classification(n_samples=1000, n_features=20,\n",
        "                           n_informative=15, n_redundant=5,\n",
        "                           random_state=42)\n",
        "\n",
        "# 학습 데이터와 테스트 데이터 분할 (80% 학습, 20% 테스트)\n",
        "X_train, X_test, y_train, y_test = train_test_split(X, y, test_size=0.2, random_state=42)\n",
        "\n",
        "# 데이터 전처리 - 표준화 (StandardScaler)\n",
        "scaler = StandardScaler()\n",
        "X_train_scaled = scaler.fit_transform(X_train)\n",
        "X_test_scaled = scaler.transform(X_test)\n",
        "\n",
        "# Feature Selection (RandomForest를 사용하여 중요하지 않은 특성 제거)\n",
        "selector = SelectFromModel(RandomForestClassifier(n_estimators=100, random_state=42))\n",
        "X_train_selected = selector.fit_transform(X_train_scaled, y_train)\n",
        "X_test_selected = selector.transform(X_test_scaled)\n",
        "\n",
        "# TPOT 모델 생성 (고급 설정 적용)\n",
        "tpot = TPOTClassifier(\n",
        "    generations=20,             # 세대 수 (기본 10 → 20으로 증가)\n",
        "    population_size=100,        # 개체 수 (기본 50 → 100으로 증가)\n",
        "    verbosity=2,                # 진행 상황 출력 (0=출력 없음, 3=상세 출력)\n",
        "    random_state=42,            # 랜덤 시드 고정 (결과 재현 가능)\n",
        "    config_dict='TPOT sparse',  # RandomForest 및 트리 기반 모델 중심으로 탐색\n",
        "    scoring='accuracy',         # 성능 평가 지표 (정확도 사용)\n",
        "    mutation_rate=0.9,          # 돌연변이 확률 (기본값 0.9)\n",
        "    crossover_rate=0.1,         # 교차 확률 (기본값 0.1)\n",
        "    n_jobs=-1                   # 병렬 처리 활성화 (최대 CPU 사용)\n",
        ")\n",
        "\n",
        "#  TPOT 모델 학습\n",
        "tpot.fit(X_train_selected, y_train)\n",
        "\n",
        "# 최적의 머신러닝 파이프라인 확인\n",
        "print(\"\\n✅ 최적의 머신러닝 파이프라인:\")\n",
        "print(tpot.fitted_pipeline_)\n",
        "\n",
        "# 교차 검증을 이용한 성능 평가 (5-Fold CV)\n",
        "cv_scores = cross_val_score(tpot.fitted_pipeline_, X_train_selected, y_train, cv=5)\n",
        "print(f\"\\n✅ 5-Fold 교차 검증 평균 정확도: {np.mean(cv_scores):.4f}\")\n",
        "\n",
        "# 최적의 모델을 Python 코드로 저장\n",
        "tpot.export('tpot_advanced_pipeline.py')\n",
        "\n",
        "# 최적 모델을 사용하여 테스트 데이터 예측 및 성능 평가\n",
        "y_pred = tpot.predict(X_test_selected)\n",
        "test_accuracy = np.mean(y_test == y_pred)\n",
        "print(f\"\\n✅ 테스트 데이터 정확도: {test_accuracy:.4f}\")\n"
      ],
      "metadata": {
        "id": "f0xnXzTHMuOY"
      },
      "execution_count": null,
      "outputs": []
    },
    {
      "cell_type": "markdown",
      "source": [
        "## 7. H2O\n",
        "\n",
        "- h2o는 java 기반의 머신러닝/AI 플랫폼인데요.\n",
        "\n",
        "- 드라이버가 필요없이 간단한 설정만으로 인공지능을 학습하고 예측할 수 있는 소프트웨어\n",
        "\n",
        "- 인공지능에 대한 지식이 부족하여도 좋은 모델을 누구나 이용할 수 있는 소프트웨어가 개발되었음.\n",
        "\n",
        "- H2O는 머신러닝 모델을 대규모 데이터에서 효율적으로 학습할 수 있도록 설계된 오픈소스 AutoML 프레임워크.\n",
        "- H2O에서는 다양한 머신러닝 알고리즘을 지원하며, 하이퍼파라미터 튜닝(Hyperparameter Optimization, HPO) 기능을 활용하여 최적의 모델을 찾을 수 있어.\n",
        "\n",
        "\n"
      ],
      "metadata": {
        "id": "Wf1hYALW8xxP"
      }
    },
    {
      "cell_type": "code",
      "source": [
        "#Grid Search는 모든 하이퍼파라미터 조합을 탐색하여 최적의 값을 찾는 방식\n",
        "import h2o\n",
        "from h2o.grid.grid_search import H2OGridSearch\n",
        "from h2o.estimators import H2OGradientBoostingEstimator\n",
        "\n",
        "# H2O 클러스터 초기화\n",
        "h2o.init()\n",
        "\n",
        "# 데이터 불러오기\n",
        "data = h2o.import_file(\"https://raw.githubusercontent.com/mwaskom/seaborn-data/master/iris.csv\")\n",
        "data[\"species\"] = data[\"species\"].asfactor()  # 타겟 변수(분류) 변환\n",
        "\n",
        "# 데이터 분할 (학습 & 테스트)\n",
        "train, test = data.split_frame(ratios=[0.8])\n",
        "\n",
        "# Gradient Boosting 모델 설정\n",
        "gbm_model = H2OGradientBoostingEstimator()\n",
        "\n",
        "# 하이퍼파라미터 검색 공간 설정\n",
        "hyper_params = {\n",
        "    \"ntrees\": [50, 100, 200],  # 트리 개수\n",
        "    \"max_depth\": [3, 5, 10],  # 트리 깊이\n",
        "    \"learn_rate\": [0.01, 0.05, 0.1]  # 학습률\n",
        "}\n",
        "\n",
        "# Grid Search 실행\n",
        "grid_search = H2OGridSearch(model=gbm_model, hyper_params=hyper_params, search_criteria={\"strategy\": \"Cartesian\"})\n",
        "grid_search.train(x=data.columns[:-1], y=\"species\", training_frame=train)\n",
        "\n",
        "# 최적 모델 출력\n",
        "print(grid_search.get_grid(sort_by=\"accuracy\", decreasing=True))\n"
      ],
      "metadata": {
        "id": "GohovuqSRIuU"
      },
      "execution_count": null,
      "outputs": []
    },
    {
      "cell_type": "code",
      "source": [
        "#Random Search는 일부 조합만 무작위로 선택하여 탐색, 하이퍼파라미터 공간이 클 경우, Grid Search보다 효율적\n",
        "#  Random Search 실행 (search_criteria에 'RandomDiscrete' 설정)\n",
        "search_criteria = {\"strategy\": \"RandomDiscrete\", \"max_models\": 10, \"seed\": 42}\n",
        "\n",
        "grid_search = H2OGridSearch(model=gbm_model, hyper_params=hyper_params, search_criteria=search_criteria)\n",
        "grid_search.train(x=data.columns[:-1], y=\"species\", training_frame=train)\n",
        "\n",
        "#  최적 모델 출력\n",
        "print(grid_search.get_grid(sort_by=\"accuracy\", decreasing=True))\n"
      ],
      "metadata": {
        "id": "sDOcQuRlRIxi"
      },
      "execution_count": null,
      "outputs": []
    },
    {
      "cell_type": "code",
      "source": [
        "#베이지안 최적화는 이전 실험 결과를 바탕으로 점진적으로 최적의 하이퍼파라미터를 탐색하는 방식이야.\n",
        "#  Bayesian Optimization 실행\n",
        "search_criteria = {\"strategy\": \"Bayesian\", \"max_models\": 10, \"seed\": 42}\n",
        "\n",
        "grid_search = H2OGridSearch(model=gbm_model, hyper_params=hyper_params, search_criteria=search_criteria)\n",
        "grid_search.train(x=data.columns[:-1], y=\"species\", training_frame=train)\n",
        "\n",
        "#  최적 모델 출력\n",
        "print(grid_search.get_grid(sort_by=\"accuracy\", decreasing=True))\n"
      ],
      "metadata": {
        "id": "KvjGNKVERI1x"
      },
      "execution_count": null,
      "outputs": []
    },
    {
      "cell_type": "code",
      "source": [
        "#Hyperband는 빠른 탐색과 효율적인 리소스 할당을 결합하여 최적의 모델을 찾는 방법.자원을 효율적으로 사용하여 빠르게 수렴하는 모델을 찾음. H2O에서는 \"strategy\": \"Hyperband\"를 사용하면 됨.\n",
        "#  Hyperband 설정\n",
        "search_criteria = {\"strategy\": \"Hyperband\", \"max_models\": 10, \"seed\": 42}\n",
        "\n",
        "grid_search = H2OGridSearch(model=gbm_model, hyper_params=hyper_params, search_criteria=search_criteria)\n",
        "grid_search.train(x=data.columns[:-1], y=\"species\", training_frame=train)\n",
        "\n",
        "#  최적 모델 출력\n",
        "print(grid_search.get_grid(sort_by=\"accuracy\", decreasing=True))\n"
      ],
      "metadata": {
        "id": "AvMmkmYIRI5V"
      },
      "execution_count": null,
      "outputs": []
    },
    {
      "cell_type": "markdown",
      "source": [
        "- 작은 데이터에서는 Grid Search, 큰 데이터에서는 Random Search 또는 Hyperband가 효과적.\n",
        "- 베이지안 최적화는 최적해를 빠르게 찾을 가능성이 크지만, 병렬화가 어렵다.\n",
        "- Hyperband는 빠르게 성능이 좋은 모델을 찾을 수 있는 강력한 방법."
      ],
      "metadata": {
        "id": "APlWPIjuRo-D"
      }
    },
    {
      "cell_type": "markdown",
      "source": [
        "### AutoGluon\n",
        "- Amazon에서 개발한 강력한 AutoML 프레임워크로, 다양한 Stacking 모델을 자동으로 탐색.\n",
        "- 여러 층의 Stacking을 최적화하며, 내부적으로 Neural Network까지 사용 가능."
      ],
      "metadata": {
        "id": "9y2ZrsZ7Jgrk"
      }
    },
    {
      "cell_type": "markdown",
      "source": [
        "이 밖에 AutoML을 할 수 있는 라이브러리들은 다양하게 존재합니다:\n",
        "\n",
        "- FLAML\n",
        "- EvalML\n",
        "- AutoKeras\n",
        "- Auto-ViML\n",
        "- AutoGluon\n",
        "- MLBox"
      ],
      "metadata": {
        "id": "Km96J6YZ9uQV"
      }
    },
    {
      "cell_type": "markdown",
      "source": [
        "- 참고 : 나는 모델 고민할 시간에 Autogluon을 써(https://dacon.io/codeshare/7764)"
      ],
      "metadata": {
        "id": "s4P_P69hMr7H"
      }
    },
    {
      "cell_type": "markdown",
      "source": [
        "[Hyperparam Tuning & AutoML](https://www.kaggle.com/code/sudalairajkumar/hyperparam-tuning-automl)"
      ],
      "metadata": {
        "id": "cjJOfaXb-YY6"
      }
    },
    {
      "cell_type": "markdown",
      "metadata": {
        "id": "ZcXuNtGJ8XVh"
      },
      "source": [
        "# 8.Pycaret\n",
        "\n",
        "- AutoML을 하게 해주는 파이썬 라이브러리\n",
        "\n",
        "- scikit-learning 패키지를 기반으로 하고 있으며 Classification, Regression, Clustering, Anomaly Detection 등 다양한 모델을 지원함.\n",
        "\n",
        "- 공식문서에 설명이 매우 잘 되어 있고, 몇 줄의 코드로 쉽게 구현이 가능하기 때문에 유용하게 사용할 수 있음.\n",
        "\n",
        "- Pycaret을 활용하면 여러 모델의 성능 비교 뿐만 아니라 hyperparameter tunning,  여러 모델을 blending한 모델을 만들 수 있습니다."
      ]
    },
    {
      "cell_type": "code",
      "source": [
        "!pip install pycaret"
      ],
      "metadata": {
        "id": "-WiwdoLwNqZC"
      },
      "execution_count": null,
      "outputs": []
    },
    {
      "cell_type": "markdown",
      "source": [
        "####  PyCaret을 사용한 회귀(Regression) 예제"
      ],
      "metadata": {
        "id": "emUeSJuTNgNF"
      }
    },
    {
      "cell_type": "code",
      "source": [
        "# PyCaret 회귀 예제 (모델 비교 포함)\n",
        "import pandas as pd\n",
        "import matplotlib.pyplot as plt\n",
        "from pycaret.regression import *\n",
        "\n",
        "# PyCaret 내장 데이터셋 로드 (Boston Housing 데이터 사용)\n",
        "from pycaret.datasets import get_data\n",
        "data = get_data('boston')\n",
        "\n",
        "# 데이터 분할 (80% 학습, 20% 테스트)\n",
        "train_data = data.sample(frac=0.8, random_state=42)\n",
        "test_data = data.drop(train_data.index)\n",
        "\n",
        "# PyCaret 환경 설정 (verbose=False로 설정하여 출력 최소화)\n",
        "regression_setup = setup(data=train_data, target='medv', session_id=42, verbose=False)\n",
        "\n",
        "# 모든 모델 성능 비교\n",
        "models_comparison = compare_models(n_select=5)  # 상위 5개 모델 선택\n",
        "\n",
        "#모델 비교 결과를 DataFrame으로 저장\n",
        "models_results = pull()  # compare_models() 실행 후 pull()을 사용하여 결과 저장\n",
        "print(models_results)  # 모델 성능 비교 결과 출력\n",
        "\n",
        "#최적 모델 선택\n",
        "best_model = models_comparison[0]  # 가장 좋은 성능의 모델\n",
        "\n",
        "#최적 모델 학습\n",
        "final_model = finalize_model(best_model)\n",
        "\n",
        "# 테스트 데이터 예측\n",
        "predictions = predict_model(final_model, data=test_data)\n",
        "\n",
        "#모델 성능 비교 시각화\n",
        "plt.figure(figsize=(12, 6))\n",
        "models_results.set_index('Model')['R2'].plot(kind='bar', color='skyblue', edgecolor='black')\n",
        "plt.title('Regression Model Comparison (R^2 Score)')\n",
        "plt.ylabel('R^2 Score')\n",
        "plt.xticks(rotation=45)\n",
        "plt.grid(axis='y', linestyle='--', alpha=0.7)\n",
        "plt.show()\n"
      ],
      "metadata": {
        "id": "UDIQxojnNewI"
      },
      "execution_count": null,
      "outputs": []
    },
    {
      "cell_type": "markdown",
      "source": [
        "### PyCaret을 사용한 분류(Classification) 예제"
      ],
      "metadata": {
        "id": "0BZCqnZaNjjo"
      }
    },
    {
      "cell_type": "code",
      "source": [
        "# PyCaret 분류 예제 (모델 비교 포함)\n",
        "import pandas as pd\n",
        "import matplotlib.pyplot as plt\n",
        "from pycaret.classification import *\n",
        "\n",
        "# PyCaret 내장 데이터셋 로드 (타이타닉 데이터)\n",
        "from pycaret.datasets import get_data\n",
        "data = get_data('titanic')\n",
        "\n",
        "# 데이터 전처리 (결측치 제거)\n",
        "data = data.dropna(subset=['Age', 'Embarked', 'Fare', 'Sex'])\n",
        "\n",
        "# 범주형 변수 변환 (PyCaret이 자동 변환 가능하지만 명시적으로 처리)\n",
        "data['Sex'] = data['Sex'].astype(str)\n",
        "data['Embarked'] = data['Embarked'].astype(str)\n",
        "\n",
        "# 훈련/테스트 데이터 분할 (80% 학습, 20% 테스트)\n",
        "train_data = data.sample(frac=0.8, random_state=42)\n",
        "test_data = data.drop(train_data.index)\n",
        "\n",
        "# PyCaret 환경 설정 (verbose=False로 설정하여 출력 최소화)\n",
        "classification_setup = setup(data=train_data, target='Survived', session_id=42, verbose=False)\n",
        "\n",
        "# 모델 비교 (상위 5개 모델 선택)\n",
        "models_comparison = compare_models(n_select=5)\n",
        "\n",
        "# 모델 비교 결과를 DataFrame으로 저장\n",
        "models_results = pull()  # compare_models() 실행 후 pull()을 사용하여 결과 저장\n",
        "print(models_results)  # 모델 성능 비교 결과 출력\n",
        "\n",
        "# 최적 모델 선택\n",
        "best_model = models_comparison[0]  # 가장 성능이 좋은 모델\n",
        "\n",
        "# 최적 모델 학습\n",
        "final_model = finalize_model(best_model)\n",
        "\n",
        "# 테스트 데이터 예측\n",
        "predictions = predict_model(final_model, data=test_data)\n",
        "\n",
        "# 결과 출력 (실제값과 예측값 비교)\n",
        "print(predictions[['Survived', 'prediction_label']])\n",
        "\n",
        "# 모델 성능 비교 시각화 (Accuracy 기준)\n",
        "plt.figure(figsize=(12, 6))\n",
        "models_results.set_index('Model')['Accuracy'].plot(kind='bar', color='lightcoral', edgecolor='black')\n",
        "plt.title('Classification Model Comparison (Accuracy)')\n",
        "plt.ylabel('Accuracy Score')\n",
        "plt.xticks(rotation=45)\n",
        "plt.grid(axis='y', linestyle='--', alpha=0.7)\n",
        "plt.show()\n"
      ],
      "metadata": {
        "id": "gz6gCHaQNeyY"
      },
      "execution_count": null,
      "outputs": []
    },
    {
      "cell_type": "markdown",
      "source": [
        "**참고)  [[Public 1st] 고민할 시간이 없어서 [AutoGluon]](https://dacon.io/competitions/official/236075/codeshare/7803?page=1&dtype=recent)**\n",
        "\n",
        "** AutoGluon : https://auto.gluon.ai/stable/index.html\n"
      ],
      "metadata": {
        "id": "VH53Jr8_EHNo"
      }
    },
    {
      "cell_type": "markdown",
      "source": [
        "# 8. FLAML (Fast and Lightweight AutoML)\n",
        "\n",
        "- FLAML(Fast and Lightweight AutoML)은 Microsoft에서 개발한 가벼운 AutoML 라이브러리로, 빠르고 효율적인 모델 탐색을 목표로 합니다.\n",
        "\n",
        "### FLAML의 주요 특징\n",
        "- 빠른 실행 속도\n",
        "- 다른 AutoML 라이브러리보다 훨씬 빠르게 최적 모델을 찾을 수 있음.\n",
        "- 가벼운 메모리 사용\n",
        "- 메모리 효율이 뛰어나 대규모 데이터에도 적합.\n",
        "- 다양한 머신러닝 알고리즘 지원\n",
        "- XGBoost, LightGBM, Random Forest, LGBM, LSTM 등 지원.\n",
        "- 손쉬운 사용법\n",
        "- 몇 줄의 코드만으로 최적 모델 탐색 가능.\n",
        "- 하이퍼파라미터 자동 튜닝\n",
        "- Bayesian Optimization과 비슷한 탐색 방법 사용."
      ],
      "metadata": {
        "id": "nXOdcEewOnsM"
      }
    },
    {
      "cell_type": "code",
      "source": [
        "pip install flaml"
      ],
      "metadata": {
        "id": "OlZgrRtCOxxF"
      },
      "execution_count": null,
      "outputs": []
    },
    {
      "cell_type": "markdown",
      "source": [
        "- 분류 문제"
      ],
      "metadata": {
        "id": "zH4-8VvuO1s1"
      }
    },
    {
      "cell_type": "code",
      "source": [
        "import numpy as np\n",
        "import pandas as pd\n",
        "from flaml import AutoML\n",
        "from sklearn.datasets import load_iris\n",
        "from sklearn.model_selection import train_test_split\n",
        "from sklearn.metrics import accuracy_score\n",
        "\n",
        "# 데이터 로드 (Iris 데이터셋)\n",
        "X, y = load_iris(return_X_y=True)\n",
        "\n",
        "# 데이터 분할 (Train/Test)\n",
        "X_train, X_test, y_train, y_test = train_test_split(X, y, test_size=0.2, random_state=42)\n",
        "\n",
        "# FLAML AutoML 객체 생성\n",
        "automl = AutoML()\n",
        "\n",
        "# AutoML 학습\n",
        "automl.fit(\n",
        "    X_train, y_train,\n",
        "    task=\"classification\",  # 분류 문제\n",
        "    time_budget=60,  # 최대 실행 시간 (초)\n",
        "    metric=\"accuracy\",  # 평가 지표\n",
        "    verbose=0  # 출력 최소화\n",
        ")\n",
        "\n",
        "# 최적 모델 확인\n",
        "print(f\"Best model: {automl.best_estimator}\")\n",
        "\n",
        "# 예측\n",
        "y_pred = automl.predict(X_test)\n",
        "\n",
        "# 정확도 평가\n",
        "accuracy = accuracy_score(y_test, y_pred)\n",
        "print(f\"FLAML AutoML Accuracy: {accuracy:.5f}\")"
      ],
      "metadata": {
        "id": "dF8RECV1Obmp"
      },
      "execution_count": null,
      "outputs": []
    },
    {
      "cell_type": "markdown",
      "source": [
        "- 회귀 문제"
      ],
      "metadata": {
        "id": "yLocNRQQO4ht"
      }
    },
    {
      "cell_type": "code",
      "source": [
        "import numpy as np\n",
        "import pandas as pd\n",
        "from flaml import AutoML\n",
        "from sklearn.datasets import load_diabetes\n",
        "from sklearn.model_selection import train_test_split\n",
        "from sklearn.metrics import mean_squared_error\n",
        "\n",
        "# 데이터 로드 (Diabetes 데이터셋)\n",
        "X, y = load_diabetes(return_X_y=True)\n",
        "\n",
        "# 데이터 분할 (Train/Test)\n",
        "X_train, X_test, y_train, y_test = train_test_split(X, y, test_size=0.2, random_state=42)\n",
        "\n",
        "# FLAML AutoML 객체 생성\n",
        "automl = AutoML()\n",
        "\n",
        "# AutoML 학습\n",
        "automl.fit(\n",
        "    X_train, y_train,\n",
        "    task=\"regression\",  # 회귀 문제\n",
        "    time_budget=60,  # 최대 실행 시간 (초)\n",
        "    metric=\"mse\",  # 평가 지표 (Mean Squared Error)\n",
        "    verbose=0  # 출력 최소화\n",
        ")\n",
        "\n",
        "# 최적 모델 확인\n",
        "print(f\"Best model: {automl.best_estimator}\")\n",
        "\n",
        "# 예측\n",
        "y_pred = automl.predict(X_test)\n",
        "\n",
        "# MSE 평가\n",
        "mse = mean_squared_error(y_test, y_pred)\n",
        "print(f\"FLAML AutoML MSE: {mse:.5f}\")"
      ],
      "metadata": {
        "id": "OfRGkM86OboR"
      },
      "execution_count": null,
      "outputs": []
    },
    {
      "cell_type": "markdown",
      "source": [
        "![image.png](|)![image.png](data:image/png;base64,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)"
      ],
      "metadata": {
        "id": "uBfPFxeGrUi9"
      }
    },
    {
      "cell_type": "markdown",
      "source": [
        "참고)\n",
        "\n",
        "### Numba\n",
        " - Python 및 Numpy 코드의 하위 집합을 빠른 기계 코드로 변환하는 오픈소스 Jit 컴파일러.\n",
        "\n",
        " - Just In Time 컴파일러를 사용해 파이썬 코드 내에서 일반 코드 및 Numpy를 아주 빠른 속도로 처리 가능한 기능을 제공."
      ],
      "metadata": {
        "id": "LXMue7hEXHpA"
      }
    },
    {
      "cell_type": "markdown",
      "source": [
        "- 공식문서에 설명\n",
        "    - Numba makes Python code fast.\n",
        "    - Numba is an open source JIT compiler that translates a subset of Python and NumPy code into fast machine code."
      ],
      "metadata": {
        "id": "9kIyoPXvn0if"
      }
    },
    {
      "cell_type": "markdown",
      "source": [
        "- Numbda 작동원리\n",
        "    - 데커레이팅된 함수에 대한 파이썬 bytecode를 읽고 이를 함수의 입력 인수 유형에 대한 정보와 결합한다,.\n",
        "    - 코드를 분석하고 최적화한 후, LLVM compiler library를 사용하여 함수의 machine code 버전을 만들고, 이를 사용자의 CPU 능력에 맞춤.\n",
        "    - 이 complied된 버전이 앞으로 그 함수를 호출할 때마다 사용된다.\n",
        "\n",
        "- Numbda 모듈이 모든 파이썬 코드를 최적화 해주는 것은 아니다. 일부 파이썬 코드와 Numpy 대해서만 작동하며 다른 모듈을 이용한 코드를 최적화 시켜주지는 못한다. ex)Numbda는 Pandas를 이해하지 못함. 특정 목적에 따라 충분히 활용할 수 있는 가치가 있는 모듈."
      ],
      "metadata": {
        "id": "d1t_QtqdoIQC"
      }
    },
    {
      "cell_type": "code",
      "source": [
        "from time import perf_counter\n",
        "from numba import jit\n",
        "\n",
        "# 일반적인 loop\n",
        "def pure_sum(n):\n",
        "    result = 0\n",
        "    for i in range(0, n+1):\n",
        "        result += i\n",
        "    return result\n",
        "\n",
        "# Numba 모듈 사용\n",
        "@jit(nopython=True, cache=True)\n",
        "def numba_sum(n):\n",
        "    result = 0\n",
        "    for i in range(0, n+1):\n",
        "        result += i\n",
        "    return result\n",
        "\n",
        "# 시간 재기: 일반\n",
        "start = perf_counter()\n",
        "pure_sum(100000000)\n",
        "print(perf_counter() - start)\n",
        "\n",
        "# 시간 재기에 앞서 먼저 Compile을 해준다.\n",
        "numba_sum(1)\n",
        "\n",
        "# 시간 재기: Numba\n",
        "start = perf_counter()\n",
        "numba_sum(100000000)\n",
        "print(perf_counter() - start)"
      ],
      "metadata": {
        "id": "bfiOI_ASn2v4"
      },
      "execution_count": null,
      "outputs": []
    },
    {
      "cell_type": "markdown",
      "source": [
        "- @jit 데커레이터의 모드\n",
        "    - @jit 데커레이터는 nopython과 object라는 2가지 compilation 모드로 작동한다.\n",
        "    - 위 예제에서 nopython=True를 통해 Numba에게 nopython 모드로 작동하라고 지시한 셈인데, 이 모드는 decorate된 function을 근본적으로 compile하여 Python Interpreter의 개입 없이 전체가 작동하도록 한다.\n",
        "    - 만약 nopython 모드가 잘 작동하지 않을 경우, Numba은 object 모드를 통해 compile 할 수 있다. @jit(nopython=True)가 아닌 @jit이라고만 데커레이팅하면 이 모드가 작동하게 된다.\n",
        "    - 본 모드에서는 Numba은 loop를 식별하여 machine code에서 compile하며 나머지는 Intereter code에서 compile하게 된다. 더 나은 성능을 기대한다면 이 모드가 아닌 nopython 모드를 사용해야 한다.\n",
        "    "
      ],
      "metadata": {
        "id": "hTIBibfDourG"
      }
    },
    {
      "cell_type": "markdown",
      "source": [
        "- 참고 : Polars(https://realpython.com/polars-python/)\n",
        "- 참고 : Dask(https://data-science-note.tistory.com/67)"
      ],
      "metadata": {
        "id": "gbn8soQg-8Gf"
      }
    },
    {
      "cell_type": "code",
      "source": [],
      "metadata": {
        "id": "esSOr4ayaIMX"
      },
      "execution_count": null,
      "outputs": []
    }
  ]
}