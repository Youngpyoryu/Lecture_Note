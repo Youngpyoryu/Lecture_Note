{
  "nbformat": 4,
  "nbformat_minor": 0,
  "metadata": {
    "colab": {
      "provenance": []
    },
    "kernelspec": {
      "name": "python3",
      "display_name": "Python 3"
    },
    "language_info": {
      "name": "python"
    }
  },
  "cells": [
    {
      "cell_type": "markdown",
      "metadata": {
        "id": "eipP8bY1qpoA"
      },
      "source": [
        "# 감성 인식(Sentiment Analysis)\n",
        "- 문서의 주관적인 감성/의견/감정/기분 등을 파악하기 위한 방법으로 소셜 미디어, 여론조사, 온라인 리뷰, 피드백 등 다양한 분야에서 활용하고 있음.\n",
        "\n",
        "## 지도 학습 기반의 분석\n",
        "- 지도학습은 학습데이터와 타깃 레이블 값을 기반으로 감성 분석 학습을 수행한 뒤 이를 기반으로 다른 데이터의 감성 분석을 예측하는 방법으로 일반적인 텍스트 기반의 분류와 거의 동일\n",
        "\n",
        "## 감성 어휘 사전을 이용한 분석\n",
        "- 감성 분석을 위한 용어와 문맥에 대한 다양한 정보를 가지고 있으며, 이를 이용해 문서의 긍정적, 부정적 감성 여부를 판단합니다. 문서 내 텍스트가 나타내는 여러 가지 주관적인 단어와 문맥을 기반으로 감성(Sentiment) 수치를 계산하는 방법.\n",
        "\n",
        "\n",
        "- SentiWordNet : NLTK 패키지의 WordNet과 유사하게 감성 단어 전용의 WordNet을 구현한 것. SentiWordNet은 Synset별로 3가지 감성 점수(sentiment score)를 할당. 감정 감성 지수, 부정 감정 지수, 객관성 지수가 그것. 긍정 감성 지수는 해당 단어가 감성적으로 얼마나 긍정적인가, 부정 지수는 얼마나 감성적으로 부정적인가를 수치로 나타낸 것. 객관성 지수는 긍정/부정 감성 지수와 완전히 반대되는 개념으로 단어가 감성과 관계없이 얼마나 객관적인지를 수치로 나타낸 것. 문장별로 단어들의 금정 감성 지수와 부정 감성 지수를 합산하여 최종 감성 지수를 계산하고 이에 기반해 감성이 긍정인지 부정인지를 결정.\n",
        "\n",
        "- VADER : 주로 소셜 미디어의 텍스트에 대한 감성 분석을 제공하기 위한 패키지. 뛰어난 감성 분석 결과를 제공하며, 비교적 빠른 수행시간을 보장해 대용량 텍스트 데이터에 잘 사용되는 패키지.\n",
        "\n",
        "<img src = 'https://ontotext.fbk.eu/Images/position.png'>\n",
        "\n",
        "- 감성 지수는 주관적, 객관적 지수로 분할\n",
        "- 주관적 지수는 다시 긍정과 부정 지수로 분할\n",
        "\n",
        "- Synset 객체를 활용.\n",
        "\n",
        "참고 : https://bab2min.tistory.com/573#:~:text=SentiWordNet%EC%9D%84%20%EC%86%8C%EA%B0%9C%ED%95%A9%EB%8B%88%EB%8B%A4,%EB%A5%BC%20%EB%A7%A4%EA%B8%B4%20%EC%96%B4%ED%9C%98%EC%82%AC%EC%A0%84%EC%9E%85%EB%8B%88%EB%8B%A4.&text=%EB%A7%8C%EC%95%BD%20P%20%3D%201%EC%9D%B4%EB%A9%B4%20%EA%B7%B8,%EA%B0%95%EB%A0%AC%ED%95%98%EA%B2%8C%20%EB%B6%80%EC%A0%95%EC%A0%81%EC%9D%B8%20%EC%9D%98%EB%AF%B8%EA%B2%A0%EC%A7%80%EC%9A%94.\n",
        "\n",
        "\n",
        "### SentiWordNet을 이용한 감성 분석\n",
        "1. 문서(Document)를 문장(Setence)단위로 분해\n",
        "2. 다시 문장을 단어(Word)단위로 토큰화하고 품사 태깅\n",
        "3. 품사 태깅된 단어 기반으로 synet객체와 senti_synset객체를 생성\n",
        "4. senti_synset에서 감성/부정 지수를 구하고 이를 모두 합산해 특정 임계치 값 이상일때 긍정 감성으로, 그렇지 않을 때는 부정 감성으로 결정\n",
        "\n",
        "\n",
        "## VADER\n",
        "- 소셜 미디어의 감성 분석 용도로 만들어진 룰 기반의 Lexicon\n",
        "\n",
        "- VADER는 SentimentlntenisityAnalayzer 클래스를 이용해 쉽게 감성 분석을 제공\n",
        "\n",
        "- SentimentlntenisityAnalyzer 클래스를 이용해 쉽게 감성 분석을 제공\n",
        "\n",
        "- SentimentIntensityAnalyzer 객체를 생성한 뒤에 문서별로 polarity_scores() 메서드를 호출해 감성 점수를 구한 뒤, 해당 문서의 감성 점수가 특정 임계값 이상이면 긍정, 그렇지 않으면 부정으로 판단.\n",
        "\n",
        "- 'neg'는 부정 감성 지수, 'neu'는 중립적인 감성 지수, 'pos'는 긍정 감성 지수, 그리고 compound는 neg,neu,pos score를 적절히 조합해 -1에서 1사이의 감성 지수를 표현한 값.\n",
        "\n",
        "- compound score를 기반으로 부정 감성 또는 감성 여부를 결정. 보통 0.1이상이면 긍정 감성, 그 이하면 부정감성으로 판단하나 상화에 따라서 이 임계값을 적절히 조절해 예측 성능을 조절\n"
      ]
    },
    {
      "cell_type": "markdown",
      "metadata": {
        "id": "Ufi0EHe2vQQe"
      },
      "source": [
        "\n",
        "\n",
        "### IMDB의 영화 Review에 대한 긍정/부정 예측\n",
        "Bag of Words Meets Bags of Popcorn(https://www.kaggle.com/c/word2vec-nlp-tutorial)\n",
        "\n",
        "\n",
        "- labeledTrainData : 25,000 행의 리뷰의 id, sentiment,text가 포함된 레이블된 트레이닝 셋(sentiment는 긍정이면 1, 부정이면 0의 값을 가진다)\n",
        "\n",
        "- testData : 25,000행의 리뷰의 id와 text 정보가 있다. 우리의 목표는 각 리뷰의 sentiment를 예측하는 것이다!(테스트 데이터이므로 되도록이면 이 파일은 모델을 짜기 전에 읽어보지 말자!)\n",
        "\n",
        "- unlabledTrainData : 추가적인 트레이닝 셋으로 레이블이 없다. 50,000행의 id,text만 존재한다.\n",
        "\n",
        "- sampleSusbmission : 정답이 어떤 형식으로 제출해야 되는지 알려주는 파일\n",
        "\n",
        "\n",
        "- 평가 - ROC Curve"
      ]
    },
    {
      "cell_type": "markdown",
      "metadata": {
        "id": "0xLXA3ZL5ZIH"
      },
      "source": [
        "## Word Embedding\n",
        "\n",
        "- 사람이 쓰는 자연어를 기계가 이해할 수 있는 숫자의 나열인 벡터로 바꾼 결과 혹은 그 과정 전체를 의미함.\n",
        "\n",
        "- 임베딩의 가장 간단한 형태는 단어의 빈도를 그대로 벡터로 사용하는 것.\n",
        "\n",
        "- 단어나 문장 각각을 벡터로 변환해 벡터 공간(Vector space)으로 끼워넣는다는 의미.\n",
        "    - 가장 간단 형태의 임베딩은 단어의 빈도를 기준으로 벡터로 변환하는 것."
      ]
    },
    {
      "cell_type": "markdown",
      "metadata": {
        "id": "QT-dOilw5XfG"
      },
      "source": [
        "\n",
        "## Word2Vec이란?\n",
        "- 자연어 텍스트를 분석해서 특정단어를 얼마나 사용했는지, 얼마나 자주 사용했는지, 어떤 종류의 텍스트인지 분류하거나 긍정인지 부정인지에 대한 감정분석, 그리고 어떤 내용인지 요약하는 정보를 얻을 수 있다.\n",
        "- 감정분석은 머신러닝에서 어려운 주제로 풍자, 애매모호한 말, 반어법, 언어 유희로 표현을 하는데 이는 사람과 컴퓨터에게 모두 오해의 소지가 있다. 여기에서는 Word2Vec을 통한 감정분석을 해보는 튜토리얼을 해본다.\n",
        "- Google의 Word2Vec은 단어의 의미와 관계를 이해하는 데 도움이 된다.\n",
        "- 상당수의 NLP기능은 NLTK모듈에 구현되어 있는데 이 모듈은 코퍼스, 함수와 알고리즘으로 구성되어 있다."
      ]
    },
    {
      "cell_type": "markdown",
      "metadata": {
        "id": "9a_pBqEDdkOv"
      },
      "source": [
        "##BOW(Bag of Words)\n",
        "\n",
        "\n",
        "- 가장 간단하지만 효과적이라 널리 쓰이는 방법\n",
        "- 장, 문단, 문장, 서식과 같은 입력 텍스트의 구조를 제외하고 각 단어가 이 말뭉치에 얼마나 많이 나타나는지만 헤어린다.\n",
        "- 구조와 상관없이 단어의 출현횟수만 세기 때문에 텍스트를 담는 가방(Bag)이라고 생각할 수 있다.\n",
        "- BOW는 단어의 순서과 완전히 무시 된다는 단점이 있다. 예를 들어 의미가 완전히 반대인 두 문장이 있다고 하면,\n",
        "It's bad, not good at all.\n",
        "It's good, not bad at all.\n",
        "- 위 두 문장은 의미가 전혀 반대지만 완전히 동일하게 반환된다.\n",
        "- 이를 보완하기 위해 n-gram을 사용하는데 BOW는 하나의 토큰을 사용하지만 n-gram은 n개의 토큰을 사용할 수 있도록 한다."
      ]
    },
    {
      "cell_type": "markdown",
      "metadata": {
        "id": "sU1lgqicdrq1"
      },
      "source": [
        "NLP(자연어처리)는 텍스트 문제에 접근하기 위한 기술집합이다. 이 튜토리얼에서는 IMDb 영화 리뷰를 로딩하고 정제하고 간단한 BOW 모델을 적용하여 리뷰가 추천인지 아닌지에 대한 정확도를 예측한다.\n",
        "Train 데이터의 텍스트를 바탕으로 Test 데이터의 Setiment을 예측\n",
        "0이면 부정, 1이면 긍정"
      ]
    },
    {
      "cell_type": "code",
      "execution_count": null,
      "metadata": {
        "id": "rpvXBbHdupwg"
      },
      "outputs": [],
      "source": [
        "import pandas as pd\n",
        "\n",
        "train = pd.read_csv('/content/drive/MyDrive/IMDB/labeledTrainData.tsv/labeledTrainData.tsv', header=0, sep=\"\\t\", quoting=3)\n",
        "test = pd.read_csv('/content/drive/MyDrive/IMDB/testData.tsv/testData.tsv', header=0,sep = '\\t',quoting = 3)\n",
        "\n",
        "# header = 0 : 파일의 첫 번째 줄에 열 이름이 있음을 나타낸다.\n",
        "# delimiter = \"\\t\" : \\t는 필드가 tab으로 구분되는 것을 의미한다.\n",
        "# quoting = 3 : 3은 텍스트의 쌍따옴표를 무시하도록 한다."
      ]
    },
    {
      "cell_type": "code",
      "execution_count": null,
      "metadata": {
        "colab": {
          "base_uri": "https://localhost:8080/",
          "height": 206
        },
        "id": "i35MtnNLwemr",
        "outputId": "dc15f666-c9eb-4139-eadd-667a34846c45"
      },
      "outputs": [
        {
          "data": {
            "text/html": [
              "\n",
              "  <div id=\"df-6fc6c569-54b6-49f7-b447-57a28a72a65d\">\n",
              "    <div class=\"colab-df-container\">\n",
              "      <div>\n",
              "<style scoped>\n",
              "    .dataframe tbody tr th:only-of-type {\n",
              "        vertical-align: middle;\n",
              "    }\n",
              "\n",
              "    .dataframe tbody tr th {\n",
              "        vertical-align: top;\n",
              "    }\n",
              "\n",
              "    .dataframe thead th {\n",
              "        text-align: right;\n",
              "    }\n",
              "</style>\n",
              "<table border=\"1\" class=\"dataframe\">\n",
              "  <thead>\n",
              "    <tr style=\"text-align: right;\">\n",
              "      <th></th>\n",
              "      <th>id</th>\n",
              "      <th>sentiment</th>\n",
              "      <th>review</th>\n",
              "    </tr>\n",
              "  </thead>\n",
              "  <tbody>\n",
              "    <tr>\n",
              "      <th>0</th>\n",
              "      <td>\"5814_8\"</td>\n",
              "      <td>1</td>\n",
              "      <td>\"With all this stuff going down at the moment ...</td>\n",
              "    </tr>\n",
              "    <tr>\n",
              "      <th>1</th>\n",
              "      <td>\"2381_9\"</td>\n",
              "      <td>1</td>\n",
              "      <td>\"\\\"The Classic War of the Worlds\\\" by Timothy ...</td>\n",
              "    </tr>\n",
              "    <tr>\n",
              "      <th>2</th>\n",
              "      <td>\"7759_3\"</td>\n",
              "      <td>0</td>\n",
              "      <td>\"The film starts with a manager (Nicholas Bell...</td>\n",
              "    </tr>\n",
              "    <tr>\n",
              "      <th>3</th>\n",
              "      <td>\"3630_4\"</td>\n",
              "      <td>0</td>\n",
              "      <td>\"It must be assumed that those who praised thi...</td>\n",
              "    </tr>\n",
              "    <tr>\n",
              "      <th>4</th>\n",
              "      <td>\"9495_8\"</td>\n",
              "      <td>1</td>\n",
              "      <td>\"Superbly trashy and wondrously unpretentious ...</td>\n",
              "    </tr>\n",
              "  </tbody>\n",
              "</table>\n",
              "</div>\n",
              "      <button class=\"colab-df-convert\" onclick=\"convertToInteractive('df-6fc6c569-54b6-49f7-b447-57a28a72a65d')\"\n",
              "              title=\"Convert this dataframe to an interactive table.\"\n",
              "              style=\"display:none;\">\n",
              "        \n",
              "  <svg xmlns=\"http://www.w3.org/2000/svg\" height=\"24px\"viewBox=\"0 0 24 24\"\n",
              "       width=\"24px\">\n",
              "    <path d=\"M0 0h24v24H0V0z\" fill=\"none\"/>\n",
              "    <path d=\"M18.56 5.44l.94 2.06.94-2.06 2.06-.94-2.06-.94-.94-2.06-.94 2.06-2.06.94zm-11 1L8.5 8.5l.94-2.06 2.06-.94-2.06-.94L8.5 2.5l-.94 2.06-2.06.94zm10 10l.94 2.06.94-2.06 2.06-.94-2.06-.94-.94-2.06-.94 2.06-2.06.94z\"/><path d=\"M17.41 7.96l-1.37-1.37c-.4-.4-.92-.59-1.43-.59-.52 0-1.04.2-1.43.59L10.3 9.45l-7.72 7.72c-.78.78-.78 2.05 0 2.83L4 21.41c.39.39.9.59 1.41.59.51 0 1.02-.2 1.41-.59l7.78-7.78 2.81-2.81c.8-.78.8-2.07 0-2.86zM5.41 20L4 18.59l7.72-7.72 1.47 1.35L5.41 20z\"/>\n",
              "  </svg>\n",
              "      </button>\n",
              "      \n",
              "  <style>\n",
              "    .colab-df-container {\n",
              "      display:flex;\n",
              "      flex-wrap:wrap;\n",
              "      gap: 12px;\n",
              "    }\n",
              "\n",
              "    .colab-df-convert {\n",
              "      background-color: #E8F0FE;\n",
              "      border: none;\n",
              "      border-radius: 50%;\n",
              "      cursor: pointer;\n",
              "      display: none;\n",
              "      fill: #1967D2;\n",
              "      height: 32px;\n",
              "      padding: 0 0 0 0;\n",
              "      width: 32px;\n",
              "    }\n",
              "\n",
              "    .colab-df-convert:hover {\n",
              "      background-color: #E2EBFA;\n",
              "      box-shadow: 0px 1px 2px rgba(60, 64, 67, 0.3), 0px 1px 3px 1px rgba(60, 64, 67, 0.15);\n",
              "      fill: #174EA6;\n",
              "    }\n",
              "\n",
              "    [theme=dark] .colab-df-convert {\n",
              "      background-color: #3B4455;\n",
              "      fill: #D2E3FC;\n",
              "    }\n",
              "\n",
              "    [theme=dark] .colab-df-convert:hover {\n",
              "      background-color: #434B5C;\n",
              "      box-shadow: 0px 1px 3px 1px rgba(0, 0, 0, 0.15);\n",
              "      filter: drop-shadow(0px 1px 2px rgba(0, 0, 0, 0.3));\n",
              "      fill: #FFFFFF;\n",
              "    }\n",
              "  </style>\n",
              "\n",
              "      <script>\n",
              "        const buttonEl =\n",
              "          document.querySelector('#df-6fc6c569-54b6-49f7-b447-57a28a72a65d button.colab-df-convert');\n",
              "        buttonEl.style.display =\n",
              "          google.colab.kernel.accessAllowed ? 'block' : 'none';\n",
              "\n",
              "        async function convertToInteractive(key) {\n",
              "          const element = document.querySelector('#df-6fc6c569-54b6-49f7-b447-57a28a72a65d');\n",
              "          const dataTable =\n",
              "            await google.colab.kernel.invokeFunction('convertToInteractive',\n",
              "                                                     [key], {});\n",
              "          if (!dataTable) return;\n",
              "\n",
              "          const docLinkHtml = 'Like what you see? Visit the ' +\n",
              "            '<a target=\"_blank\" href=https://colab.research.google.com/notebooks/data_table.ipynb>data table notebook</a>'\n",
              "            + ' to learn more about interactive tables.';\n",
              "          element.innerHTML = '';\n",
              "          dataTable['output_type'] = 'display_data';\n",
              "          await google.colab.output.renderOutput(dataTable, element);\n",
              "          const docLink = document.createElement('div');\n",
              "          docLink.innerHTML = docLinkHtml;\n",
              "          element.appendChild(docLink);\n",
              "        }\n",
              "      </script>\n",
              "    </div>\n",
              "  </div>\n",
              "  "
            ],
            "text/plain": [
              "         id  sentiment                                             review\n",
              "0  \"5814_8\"          1  \"With all this stuff going down at the moment ...\n",
              "1  \"2381_9\"          1  \"\\\"The Classic War of the Worlds\\\" by Timothy ...\n",
              "2  \"7759_3\"          0  \"The film starts with a manager (Nicholas Bell...\n",
              "3  \"3630_4\"          0  \"It must be assumed that those who praised thi...\n",
              "4  \"9495_8\"          1  \"Superbly trashy and wondrously unpretentious ..."
            ]
          },
          "execution_count": 4,
          "metadata": {},
          "output_type": "execute_result"
        }
      ],
      "source": [
        "train.head()"
      ]
    },
    {
      "cell_type": "code",
      "execution_count": null,
      "metadata": {
        "colab": {
          "base_uri": "https://localhost:8080/"
        },
        "id": "DISeJDdVRhOr",
        "outputId": "37a179c5-893a-4929-8ac2-2538f0c12349"
      },
      "outputs": [
        {
          "name": "stdout",
          "output_type": "stream",
          "text": [
            "<class 'pandas.core.frame.DataFrame'>\n",
            "RangeIndex: 25000 entries, 0 to 24999\n",
            "Data columns (total 3 columns):\n",
            " #   Column     Non-Null Count  Dtype \n",
            "---  ------     --------------  ----- \n",
            " 0   id         25000 non-null  object\n",
            " 1   sentiment  25000 non-null  int64 \n",
            " 2   review     25000 non-null  object\n",
            "dtypes: int64(1), object(2)\n",
            "memory usage: 586.1+ KB\n"
          ]
        }
      ],
      "source": [
        "train.info()\n",
        "# null value는 없다."
      ]
    },
    {
      "cell_type": "code",
      "execution_count": null,
      "metadata": {
        "colab": {
          "base_uri": "https://localhost:8080/"
        },
        "id": "FTUkstiWRnOF",
        "outputId": "bff6d619-d1ac-4836-a139-94b87225270e"
      },
      "outputs": [
        {
          "data": {
            "text/plain": [
              "1    12500\n",
              "0    12500\n",
              "Name: sentiment, dtype: int64"
            ]
          },
          "execution_count": 10,
          "metadata": {},
          "output_type": "execute_result"
        }
      ],
      "source": [
        "train['sentiment'].value_counts()\n",
        "# sentiment의 클래스가 딱 절반으로 되어있음을 알 수 있다. (부정, 긍정)"
      ]
    },
    {
      "cell_type": "code",
      "execution_count": null,
      "metadata": {
        "colab": {
          "base_uri": "https://localhost:8080/"
        },
        "id": "OXzNFJCVupzI",
        "outputId": "bc684278-3e2c-402b-d330-704684bf001b"
      },
      "outputs": [
        {
          "name": "stdout",
          "output_type": "stream",
          "text": [
            "0      \"With all this stuff going down at the moment ...\n",
            "1      \"\\\"The Classic War of the Worlds\\\" by Timothy ...\n",
            "2      \"The film starts with a manager (Nicholas Bell...\n",
            "3      \"It must be assumed that those who praised thi...\n",
            "4      \"Superbly trashy and wondrously unpretentious ...\n",
            "                             ...                        \n",
            "695    \"First let me say that I am not a Dukes fan, b...\n",
            "696    \"I like this presentation - I have read Bleak ...\n",
            "697    \"A somewhat typical bit of filmmaking from thi...\n",
            "698    \"This film breeches the fine line between sati...\n",
            "699    \"drss1942 really took the words right out of m...\n",
            "Name: review, Length: 700, dtype: object\n"
          ]
        }
      ],
      "source": [
        "print(train['review'][:700]) ## review 컬럼을 700자 까지만 확인해본다."
      ]
    },
    {
      "cell_type": "markdown",
      "metadata": {
        "id": "J9eyko47d8lS"
      },
      "source": [
        "##데이터 정제 Data Cleaning and Text Preprocessing\n",
        "- 기계가 텍스트를 이해할 수 있도록 텍스트를 정제해 준다.\n",
        "- 신호와 소음을 구분한다. 아웃라이어 데이터로 인한 오버피팅을 방지한다.\n",
        "\n",
        "\n",
        "1. BeatifulSoup을 통해 HTML태그를 제거\n",
        "2. 정규표현식으로 알파벳 이외의 문자를 공백으로 치환\n",
        "3. NLTK 데이터를 사용해 불용어제거\n",
        "4. 어간추출(Stemming)과 음소표기법(Lemmatizing)의 개념을 이해하고 어간을 추출\n",
        "\n",
        "\n",
        "\n",
        "##정규화 normalization\n",
        "- 한국어를 처리하는 예시 (입니닼ㅋㅋ -> 입니다 ㅋㅋ 등) ### 토큰화 tokenization\n",
        "- 한국어를 처리하는 예시 (한국어 Noun, 를 Josa, 처리Noun, 하는 Adjective, 예시Noun)"
      ]
    },
    {
      "cell_type": "code",
      "execution_count": null,
      "metadata": {
        "colab": {
          "base_uri": "https://localhost:8080/"
        },
        "id": "18mIatPheL-b",
        "outputId": "0f31d998-240c-4fb8-f8df-acdd3bacae7c"
      },
      "outputs": [
        {
          "name": "stdout",
          "output_type": "stream",
          "text": [
            "Looking in indexes: https://pypi.org/simple, https://us-python.pkg.dev/colab-wheels/public/simple/\n",
            "Requirement already satisfied: beautifulsoup4 in /usr/local/lib/python3.7/dist-packages (4.6.3)\n",
            "Looking in indexes: https://pypi.org/simple, https://us-python.pkg.dev/colab-wheels/public/simple/\n",
            "Requirement already satisfied: html5lib in /usr/local/lib/python3.7/dist-packages (1.0.1)\n",
            "Requirement already satisfied: six>=1.9 in /usr/local/lib/python3.7/dist-packages (from html5lib) (1.15.0)\n",
            "Requirement already satisfied: webencodings in /usr/local/lib/python3.7/dist-packages (from html5lib) (0.5.1)\n"
          ]
        }
      ],
      "source": [
        "!pip install beautifulsoup4\n",
        "!pip install html5lib"
      ]
    },
    {
      "cell_type": "markdown",
      "metadata": {
        "id": "W9QeggdMRu61"
      },
      "source": [
        "리뷰를 보면 태그가 섞여 있음을 알 수 있다.\n",
        "\n",
        "- BeautifulSoup : BeautifulSoup은 HTML이나 XML에서 데이터를 추출하는 파이썬 라이브러리입니다. 웹문서의 구조를 찾아내는 파서를 이용해 찾고자 하는 데이터의 위치를 찾아 내어 값을 추출합니다.\n",
        "\n",
        "- 크롤링에서 많이 씀\n",
        "\n",
        "- 구문분석 한 뒤에 .get_text() 메소드를 이용하면 메소드를 이용하면 한글만 쏙 가져옴.\n",
        "- html5lib는 HTML 문서를 트리구조로 분석해주는 라이브러리\n",
        "\n"
      ]
    },
    {
      "cell_type": "code",
      "execution_count": null,
      "metadata": {
        "colab": {
          "base_uri": "https://localhost:8080/",
          "height": 187
        },
        "id": "qEanIBKfR7Yq",
        "outputId": "9004959a-6b6e-4201-c653-a3b633f489c3"
      },
      "outputs": [
        {
          "name": "stdout",
          "output_type": "stream",
          "text": [
            "\"With all this stuff going down at the moment with MJ i've started listening to his music, watching the odd documentary here and there, watched The Wiz and watched Moonwalker again. Maybe i just want to get a certain insight into this guy who i thought was really cool in the eighties just to maybe make up my mind whether he is guilty or innocent. Moonwalker is part biography, part feature film which i remember going to see at the cinema when it was originally released. Some of it has subtle messages about MJ's feeling towards the press and also the obvious message of drugs are bad m'kay.<br /><br />Visually impressive but of course this is all about Michael Jackson so unless you remotely lik\n"
          ]
        },
        {
          "data": {
            "application/vnd.google.colaboratory.intrinsic+json": {
              "type": "string"
            },
            "text/plain": [
              "'\"With all this stuff going down at the moment with MJ i\\'ve started listening to his music, watching the odd documentary here and there, watched The Wiz and watched Moonwalker again. Maybe i just want to get a certain insight into this guy who i thought was really cool in the eighties just to maybe make up my mind whether he is guilty or innocent. Moonwalker is part biography, part feature film which i remember going to see at the cinema when it was originally released. Some of it has subtle messages about MJ\\'s feeling towards the press and also the obvious message of drugs are bad m\\'kay.Visually impressive but of course this is all about Michael Jackson so unless you remotely like MJ in anyway then you are going to hate this and find it boring. Some may call MJ an egotist for consenting to the making of this movie BUT MJ and most of his fans would say that he made it for the fans which if true is really nice of him.The actual feature film bit when it finally starts is only on for 20 minutes or so excluding the Smooth Criminal sequence and Joe Pesci is convincing as a psychopathic all powerful drug lord. Why he wants MJ dead so bad is beyond me. Because MJ overheard his plans? Nah, Joe Pesci\\'s character ranted that he wanted people to know it is he who is supplying drugs etc so i dunno, maybe he just hates MJ\\'s music.Lots of cool things in this like MJ turning into a car and a robot and the whole Speed Demon sequence. Also, the director must have had the patience of a saint when it came to filming the kiddy Bad sequence as usually directors hate working with one kid let alone a whole bunch of them performing a complex dance scene.Bottom line, this movie is for people who like MJ on one level or another (which i think is most people). If not, then stay away. It does try and give off a wholesome message and ironically MJ\\'s bestest buddy in this movie is a girl! Michael Jackson is truly one of the most talented people ever to grace this planet but is he guilty? Well, with all the attention i\\'ve gave this subject....hmmm well i don\\'t know because people can be different behind closed doors, i know this for a fact. He is either an extremely nice but stupid guy or one of the most sickest liars. I hope he is not the latter.\"'"
            ]
          },
          "execution_count": 13,
          "metadata": {},
          "output_type": "execute_result"
        }
      ],
      "source": [
        "from bs4 import BeautifulSoup\n",
        "example = BeautifulSoup(train['review'][0],'html5lib')\n",
        "print(train['review'][0][:700])\n",
        "example.get_text()\n",
        "\n",
        "# BeautifulSoup을 불러와서 review를 확인한다.\n",
        "# 그냥 print 한것과 exam으로 불러온 텍스트를 비교해보면\n",
        "# <br \\>과 같은 html 태그들이 사라진 것을 볼 수있다."
      ]
    },
    {
      "cell_type": "code",
      "execution_count": null,
      "metadata": {
        "colab": {
          "base_uri": "https://localhost:8080/",
          "height": 148
        },
        "id": "fBjqj8UfR7eJ",
        "outputId": "287ca366-3733-4ff5-863a-2319598793c7"
      },
      "outputs": [
        {
          "data": {
            "application/vnd.google.colaboratory.intrinsic+json": {
              "type": "string"
            },
            "text/plain": [
              "' With all this stuff going down at the moment with MJ i ve started listening to his music  watching the odd documentary here and there  watched The Wiz and watched Moonwalker again  Maybe i just want to get a certain insight into this guy who i thought was really cool in the eighties just to maybe make up my mind whether he is guilty or innocent  Moonwalker is part biography  part feature film which i remember going to see at the cinema when it was originally released  Some of it has subtle messages about MJ s feeling towards the press and also the obvious message of drugs are bad m kay Visually impressive but of course this is all about Michael Jackson so unless you remotely like MJ in anyway then you are going to hate this and find it boring  Some may call MJ an egotist for consenting to the making of this movie BUT MJ and most of his fans would say that he made it for the fans which if true is really nice of him The actual feature film bit when it finally starts is only on for    minutes or so excluding the Smooth Criminal sequence and Joe Pesci is convincing as a psychopathic all powerful drug lord  Why he wants MJ dead so bad is beyond me  Because MJ overheard his plans  Nah  Joe Pesci s character ranted that he wanted people to know it is he who is supplying drugs etc so i dunno  maybe he just hates MJ s music Lots of cool things in this like MJ turning into a car and a robot and the whole Speed Demon sequence  Also  the director must have had the patience of a saint when it came to filming the kiddy Bad sequence as usually directors hate working with one kid let alone a whole bunch of them performing a complex dance scene Bottom line  this movie is for people who like MJ on one level or another  which i think is most people   If not  then stay away  It does try and give off a wholesome message and ironically MJ s bestest buddy in this movie is a girl  Michael Jackson is truly one of the most talented people ever to grace this planet but is he guilty  Well  with all the attention i ve gave this subject    hmmm well i don t know because people can be different behind closed doors  i know this for a fact  He is either an extremely nice but stupid guy or one of the most sickest liars  I hope he is not the latter  '"
            ]
          },
          "execution_count": 21,
          "metadata": {},
          "output_type": "execute_result"
        }
      ],
      "source": [
        "#정규 표현식 사용\n",
        "import re\n",
        "\n",
        "#소문자와 대문자가 아닌 것은 공백으로 대체\n",
        "# [^ 문자] : 문자를 제외하라는 정규표현식 ^은  not 의미\n",
        "letters_only = re.sub('[^a-zA-Z]',' ',example.get_text())\n",
        "letters_only\n",
        "\n",
        "# re를 불러와서 정규표현식으로 특수문자를 제거한다.\n",
        "# 소문자와 대문자가 아닌 것은 공백으로 대체한다 (re.sub(\"바꿔야할것\", \"바꾸고싶은것\"))\n",
        "# output을 보면 특수문자들이 전부 공백으로 대체된 것을 볼 수 있다."
      ]
    },
    {
      "cell_type": "markdown",
      "metadata": {
        "id": "XUVxEPf0buZZ"
      },
      "source": [
        "- 토큰화"
      ]
    },
    {
      "cell_type": "code",
      "execution_count": null,
      "metadata": {
        "colab": {
          "base_uri": "https://localhost:8080/"
        },
        "id": "g1hHLTwqR7gn",
        "outputId": "4553c110-9728-4f03-df5b-479e5c781c76"
      },
      "outputs": [
        {
          "name": "stdout",
          "output_type": "stream",
          "text": [
            "['with', 'all', 'this', 'stuff', 'going', 'down', 'at', 'the', 'moment', 'with', 'mj', 'i', 've', 'started', 'listening', 'to', 'his', 'music', 'watching', 'the', 'odd', 'documentary', 'here', 'and', 'there', 'watched', 'the', 'wiz', 'and', 'watched', 'moonwalker', 'again', 'maybe', 'i', 'just', 'want', 'to', 'get', 'a', 'certain', 'insight', 'into', 'this', 'guy', 'who', 'i', 'thought', 'was', 'really', 'cool', 'in', 'the', 'eighties', 'just', 'to', 'maybe', 'make', 'up', 'my', 'mind', 'whether', 'he', 'is', 'guilty', 'or', 'innocent', 'moonwalker', 'is', 'part', 'biography', 'part', 'feature', 'film', 'which', 'i', 'remember', 'going', 'to', 'see', 'at', 'the', 'cinema', 'when', 'it', 'was', 'originally', 'released', 'some', 'of', 'it', 'has', 'subtle', 'messages', 'about', 'mj', 's', 'feeling', 'towards', 'the', 'press', 'and', 'also', 'the', 'obvious', 'message', 'of', 'drugs', 'are', 'bad', 'm', 'kay', 'visually', 'impressive', 'but', 'of', 'course', 'this', 'is', 'all', 'about', 'michael', 'jackson', 'so', 'unless', 'you', 'remotely', 'like', 'mj', 'in', 'anyway', 'then', 'you', 'are', 'going', 'to', 'hate', 'this', 'and', 'find', 'it', 'boring', 'some', 'may', 'call', 'mj', 'an', 'egotist', 'for', 'consenting', 'to', 'the', 'making', 'of', 'this', 'movie', 'but', 'mj', 'and', 'most', 'of', 'his', 'fans', 'would', 'say', 'that', 'he', 'made', 'it', 'for', 'the', 'fans', 'which', 'if', 'true', 'is', 'really', 'nice', 'of', 'him', 'the', 'actual', 'feature', 'film', 'bit', 'when', 'it', 'finally', 'starts', 'is', 'only', 'on', 'for', 'minutes', 'or', 'so', 'excluding', 'the', 'smooth', 'criminal', 'sequence', 'and', 'joe', 'pesci', 'is', 'convincing', 'as', 'a', 'psychopathic', 'all', 'powerful', 'drug', 'lord', 'why', 'he', 'wants', 'mj', 'dead', 'so', 'bad', 'is', 'beyond', 'me', 'because', 'mj', 'overheard', 'his', 'plans', 'nah', 'joe', 'pesci', 's', 'character', 'ranted', 'that', 'he', 'wanted', 'people', 'to', 'know', 'it', 'is', 'he', 'who', 'is', 'supplying', 'drugs', 'etc', 'so', 'i', 'dunno', 'maybe', 'he', 'just', 'hates', 'mj', 's', 'music', 'lots', 'of', 'cool', 'things', 'in', 'this', 'like', 'mj', 'turning', 'into', 'a', 'car', 'and', 'a', 'robot', 'and', 'the', 'whole', 'speed', 'demon', 'sequence', 'also', 'the', 'director', 'must', 'have', 'had', 'the', 'patience', 'of', 'a', 'saint', 'when', 'it', 'came', 'to', 'filming', 'the', 'kiddy', 'bad', 'sequence', 'as', 'usually', 'directors', 'hate', 'working', 'with', 'one', 'kid', 'let', 'alone', 'a', 'whole', 'bunch', 'of', 'them', 'performing', 'a', 'complex', 'dance', 'scene', 'bottom', 'line', 'this', 'movie', 'is', 'for', 'people', 'who', 'like', 'mj', 'on', 'one', 'level', 'or', 'another', 'which', 'i', 'think', 'is', 'most', 'people', 'if', 'not', 'then', 'stay', 'away', 'it', 'does', 'try', 'and', 'give', 'off', 'a', 'wholesome', 'message', 'and', 'ironically', 'mj', 's', 'bestest', 'buddy', 'in', 'this', 'movie', 'is', 'a', 'girl', 'michael', 'jackson', 'is', 'truly', 'one', 'of', 'the', 'most', 'talented', 'people', 'ever', 'to', 'grace', 'this', 'planet', 'but', 'is', 'he', 'guilty', 'well', 'with', 'all', 'the', 'attention', 'i', 've', 'gave', 'this', 'subject', 'hmmm', 'well', 'i', 'don', 't', 'know', 'because', 'people', 'can', 'be', 'different', 'behind', 'closed', 'doors', 'i', 'know', 'this', 'for', 'a', 'fact', 'he', 'is', 'either', 'an', 'extremely', 'nice', 'but', 'stupid', 'guy', 'or', 'one', 'of', 'the', 'most', 'sickest', 'liars', 'i', 'hope', 'he', 'is', 'not', 'the', 'latter']\n"
          ]
        }
      ],
      "source": [
        "lower_case = letters_only.lower()\n",
        "\n",
        "words = lower_case.split()\n",
        "print(words)\n",
        "\n",
        "# letters_only를 전부 소문자로 대체해준다.\n",
        "# split을 사용하여 단어단위로 나눈다. (토큰화)\n",
        "# 437개의 토큰으로 이루어져 있다."
      ]
    },
    {
      "cell_type": "markdown",
      "metadata": {
        "id": "nsy1pBxHbw2s"
      },
      "source": [
        "### 불용어 제거 (Stopword Removal)\n",
        "- 일반적으로 코퍼스에서 자주 나타나는 단어는 학습 모델로서 학습이나 예측 프로세스에 실제로 기여하지 않아 다른 텍스트와 구별하지 못한다.\n",
        "- 예를들어 조사, 접미사, i, me, it, this, that, is, are 등 같은 단어는 빈번하게 등장하지만 실제 의미를 찾는데 큰 기여를 하지 않는다.\n",
        "- Stopwords는 \"to\" 또는 \"the\"와 같은 용어를 포함하므로 사전 처리 단계에서 제거하는 것이 좋다.\n",
        "- NLTK에는 153개의 영어 불용어가 미리 정의되어 있다.\n",
        "- 17개의 언어에 대해 정의되어 있으며 한국어는 없다."
      ]
    },
    {
      "cell_type": "code",
      "execution_count": null,
      "metadata": {
        "colab": {
          "base_uri": "https://localhost:8080/"
        },
        "id": "fLFuTdC1R7jD",
        "outputId": "ad152757-06b9-4045-c0f8-b0e9c7cc19cd"
      },
      "outputs": [
        {
          "name": "stdout",
          "output_type": "stream",
          "text": [
            "219\n"
          ]
        },
        {
          "name": "stderr",
          "output_type": "stream",
          "text": [
            "[nltk_data] Downloading package stopwords to /root/nltk_data...\n",
            "[nltk_data]   Unzipping corpora/stopwords.zip.\n"
          ]
        },
        {
          "data": {
            "text/plain": [
              "['stuff',\n",
              " 'going',\n",
              " 'moment',\n",
              " 'mj',\n",
              " 'started',\n",
              " 'listening',\n",
              " 'music',\n",
              " 'watching',\n",
              " 'odd',\n",
              " 'documentary']"
            ]
          },
          "execution_count": 23,
          "metadata": {},
          "output_type": "execute_result"
        }
      ],
      "source": [
        "import nltk\n",
        "from nltk.corpus import stopwords\n",
        "nltk.download('stopwords')\n",
        "\n",
        "words = [w for w in words if not w in stopwords.words('english')]\n",
        "print(len(words))\n",
        "words[:10]\n",
        "\n",
        "# words에 담겨져 있던 단어에 Stopwords가 있다면 제거한다.\n",
        "# 제거한 토큰들을 확인한다.\n",
        "# 토큰이 437개에서 219개로 줄어들었음을 알 수 있다."
      ]
    },
    {
      "cell_type": "markdown",
      "metadata": {
        "id": "B114XbC4WYen"
      },
      "source": [
        "# 어간 추출\n",
        "\n",
        "- 텍스트들의 핵심만 나타낼 수 있게 단어 핵심인 어간만 추출\n",
        "\n",
        "- 어간 추출은 어형이 변형된 단어로부터 접사 등을 제거하고 그 단어의 어간을 분리해내는 것\n",
        "- \"message\", \"messages\", \"messaging\"과 같이 복수형, 진행형 등의 문자를 같은 의미의 단어로 다룰 수 있도록 도와준다.\n",
        "- stemming(형태소 분석): 여기에서는 NLTK에서 제공하는 형태소 분석기를 사용한다. 여러가지 stemmer들이 있는데, 포커 형태소 분석기는 보수적이고 랭커스터 형태소 분석기는 좀 더 적극적이다.\n",
        "- 형태소 분석 규칙의 적극성 때문에 랭커스터 형태소 분석기는 더 많은 동음이의어 형태소를 생산한다."
      ]
    },
    {
      "cell_type": "code",
      "execution_count": null,
      "metadata": {
        "colab": {
          "base_uri": "https://localhost:8080/"
        },
        "id": "RdOC9JNxemtN",
        "outputId": "ed77ec90-50cc-4e1f-f353-820223581fc9"
      },
      "outputs": [
        {
          "name": "stdout",
          "output_type": "stream",
          "text": [
            "maximum\n",
            "The stemmed form of running is : run\n",
            "The stemmed form of runs is: run\n",
            "Tje stemmed form of run is: run\n"
          ]
        }
      ],
      "source": [
        "# 포터 스태머의 사용 예시\n",
        "\n",
        "stemmer = nltk.stem.PorterStemmer()\n",
        "print(stemmer.stem(\"maximum\"))\n",
        "print(\"The stemmed form of running is : {}\".format(stemmer.stem(\"running\")))\n",
        "print(\"The stemmed form of runs is: {}\".format(stemmer.stem(\"runs\")))\n",
        "print(\"Tje stemmed form of run is: {}\".format(stemmer.stem(\"run\")))\n",
        "\n",
        "# maximum이 그대로 출력된다.\n",
        "# run의 변형어들은 run으로 어간이 추출된다."
      ]
    },
    {
      "cell_type": "code",
      "execution_count": null,
      "metadata": {
        "colab": {
          "base_uri": "https://localhost:8080/"
        },
        "id": "e_zhB56GeoA2",
        "outputId": "73690e28-2899-4d3e-f421-6a0fb57851c2"
      },
      "outputs": [
        {
          "name": "stdout",
          "output_type": "stream",
          "text": [
            "maxim\n",
            "The stemmed form of running is : run\n",
            "The stemmed form of runs is: run\n",
            "Tje stemmed form of run is: run\n"
          ]
        }
      ],
      "source": [
        "# 랭커스터 스태머의 사용 예시\n",
        "\n",
        "from nltk.stem.lancaster import LancasterStemmer\n",
        "\n",
        "lanc_stemmer = LancasterStemmer()\n",
        "print(lanc_stemmer.stem(\"maximum\"))\n",
        "print(\"The stemmed form of running is : {}\".format(lanc_stemmer.stem(\"running\")))\n",
        "print(\"The stemmed form of runs is: {}\".format(lanc_stemmer.stem(\"runs\")))\n",
        "print(\"Tje stemmed form of run is: {}\".format(lanc_stemmer.stem(\"run\")))\n",
        "\n",
        "# maximum의 어간이 maxim으로 추출된다.\n",
        "# run의 변형어들은 마찬가지로 run으로 어간이 추출된다."
      ]
    },
    {
      "cell_type": "code",
      "execution_count": null,
      "metadata": {
        "colab": {
          "base_uri": "https://localhost:8080/"
        },
        "id": "LYv0y7MieplW",
        "outputId": "8ac0936b-8cd0-4d88-c4ef-2d44b0b879d0"
      },
      "outputs": [
        {
          "data": {
            "text/plain": [
              "['stuff',\n",
              " 'going',\n",
              " 'moment',\n",
              " 'mj',\n",
              " 'started',\n",
              " 'listening',\n",
              " 'music',\n",
              " 'watching',\n",
              " 'odd',\n",
              " 'documentary']"
            ]
          },
          "execution_count": 26,
          "metadata": {},
          "output_type": "execute_result"
        }
      ],
      "source": [
        "words[:10]\n",
        "\n",
        "# 처리하기 전 단어들을 확인해본다.\n",
        "# going, started 등 변형된 단어가 있음을 알 수 있다."
      ]
    },
    {
      "cell_type": "code",
      "execution_count": null,
      "metadata": {
        "colab": {
          "base_uri": "https://localhost:8080/"
        },
        "id": "OO4ivYtiuqCZ",
        "outputId": "61cc69b7-e505-4efe-de9c-f41d3c547873"
      },
      "outputs": [
        {
          "data": {
            "text/plain": [
              "['stuff',\n",
              " 'go',\n",
              " 'moment',\n",
              " 'mj',\n",
              " 'start',\n",
              " 'listen',\n",
              " 'music',\n",
              " 'watch',\n",
              " 'odd',\n",
              " 'documentari',\n",
              " 'watch',\n",
              " 'wiz',\n",
              " 'watch',\n",
              " 'moonwalk',\n",
              " 'mayb',\n",
              " 'want',\n",
              " 'get',\n",
              " 'certain',\n",
              " 'insight',\n",
              " 'guy',\n",
              " 'thought',\n",
              " 'realli',\n",
              " 'cool',\n",
              " 'eighti',\n",
              " 'mayb',\n",
              " 'make',\n",
              " 'mind',\n",
              " 'whether',\n",
              " 'guilti',\n",
              " 'innoc',\n",
              " 'moonwalk',\n",
              " 'part',\n",
              " 'biographi',\n",
              " 'part',\n",
              " 'featur',\n",
              " 'film',\n",
              " 'rememb',\n",
              " 'go',\n",
              " 'see',\n",
              " 'cinema',\n",
              " 'origin',\n",
              " 'releas',\n",
              " 'subtl',\n",
              " 'messag',\n",
              " 'mj',\n",
              " 'feel',\n",
              " 'toward',\n",
              " 'press',\n",
              " 'also',\n",
              " 'obvious',\n",
              " 'messag',\n",
              " 'drug',\n",
              " 'bad',\n",
              " 'kay',\n",
              " 'visual',\n",
              " 'impress',\n",
              " 'cours',\n",
              " 'michael',\n",
              " 'jackson',\n",
              " 'unless',\n",
              " 'remot',\n",
              " 'like',\n",
              " 'mj',\n",
              " 'anyway',\n",
              " 'go',\n",
              " 'hate',\n",
              " 'find',\n",
              " 'bore',\n",
              " 'may',\n",
              " 'call',\n",
              " 'mj',\n",
              " 'egotist',\n",
              " 'consent',\n",
              " 'make',\n",
              " 'movi',\n",
              " 'mj',\n",
              " 'fan',\n",
              " 'would',\n",
              " 'say',\n",
              " 'made',\n",
              " 'fan',\n",
              " 'true',\n",
              " 'realli',\n",
              " 'nice',\n",
              " 'actual',\n",
              " 'featur',\n",
              " 'film',\n",
              " 'bit',\n",
              " 'final',\n",
              " 'start',\n",
              " 'minut',\n",
              " 'exclud',\n",
              " 'smooth',\n",
              " 'crimin',\n",
              " 'sequenc',\n",
              " 'joe',\n",
              " 'pesci',\n",
              " 'convinc',\n",
              " 'psychopath',\n",
              " 'power',\n",
              " 'drug',\n",
              " 'lord',\n",
              " 'want',\n",
              " 'mj',\n",
              " 'dead',\n",
              " 'bad',\n",
              " 'beyond',\n",
              " 'mj',\n",
              " 'overheard',\n",
              " 'plan',\n",
              " 'nah',\n",
              " 'joe',\n",
              " 'pesci',\n",
              " 'charact',\n",
              " 'rant',\n",
              " 'want',\n",
              " 'peopl',\n",
              " 'know',\n",
              " 'suppli',\n",
              " 'drug',\n",
              " 'etc',\n",
              " 'dunno',\n",
              " 'mayb',\n",
              " 'hate',\n",
              " 'mj',\n",
              " 'music',\n",
              " 'lot',\n",
              " 'cool',\n",
              " 'thing',\n",
              " 'like',\n",
              " 'mj',\n",
              " 'turn',\n",
              " 'car',\n",
              " 'robot',\n",
              " 'whole',\n",
              " 'speed',\n",
              " 'demon',\n",
              " 'sequenc',\n",
              " 'also',\n",
              " 'director',\n",
              " 'must',\n",
              " 'patienc',\n",
              " 'saint',\n",
              " 'came',\n",
              " 'film',\n",
              " 'kiddi',\n",
              " 'bad',\n",
              " 'sequenc',\n",
              " 'usual',\n",
              " 'director',\n",
              " 'hate',\n",
              " 'work',\n",
              " 'one',\n",
              " 'kid',\n",
              " 'let',\n",
              " 'alon',\n",
              " 'whole',\n",
              " 'bunch',\n",
              " 'perform',\n",
              " 'complex',\n",
              " 'danc',\n",
              " 'scene',\n",
              " 'bottom',\n",
              " 'line',\n",
              " 'movi',\n",
              " 'peopl',\n",
              " 'like',\n",
              " 'mj',\n",
              " 'one',\n",
              " 'level',\n",
              " 'anoth',\n",
              " 'think',\n",
              " 'peopl',\n",
              " 'stay',\n",
              " 'away',\n",
              " 'tri',\n",
              " 'give',\n",
              " 'wholesom',\n",
              " 'messag',\n",
              " 'iron',\n",
              " 'mj',\n",
              " 'bestest',\n",
              " 'buddi',\n",
              " 'movi',\n",
              " 'girl',\n",
              " 'michael',\n",
              " 'jackson',\n",
              " 'truli',\n",
              " 'one',\n",
              " 'talent',\n",
              " 'peopl',\n",
              " 'ever',\n",
              " 'grace',\n",
              " 'planet',\n",
              " 'guilti',\n",
              " 'well',\n",
              " 'attent',\n",
              " 'gave',\n",
              " 'subject',\n",
              " 'hmmm',\n",
              " 'well',\n",
              " 'know',\n",
              " 'peopl',\n",
              " 'differ',\n",
              " 'behind',\n",
              " 'close',\n",
              " 'door',\n",
              " 'know',\n",
              " 'fact',\n",
              " 'either',\n",
              " 'extrem',\n",
              " 'nice',\n",
              " 'stupid',\n",
              " 'guy',\n",
              " 'one',\n",
              " 'sickest',\n",
              " 'liar',\n",
              " 'hope',\n",
              " 'latter']"
            ]
          },
          "execution_count": 27,
          "metadata": {},
          "output_type": "execute_result"
        }
      ],
      "source": [
        "#스노우볼 스테머 사용\n",
        "from nltk.stem.snowball import SnowballStemmer\n",
        "\n",
        "stemmer = SnowballStemmer('english')\n",
        "#words에 단어 있는 단어 스테머\n",
        "words = [stemmer.stem(w) for w in words]\n",
        "words\n",
        "\n",
        "# going, started등 어간이 잘 추출된 것을 확인할 수 있다."
      ]
    },
    {
      "cell_type": "markdown",
      "metadata": {
        "id": "HSP5a70pevva"
      },
      "source": [
        "## Lemmatization (음소표기법)\n",
        "- 언어학에서 음소표기법은 단어의 보조 정리 또는 사전 형식에 의해 식별되는 단일 항목으로 분석 될 수 있도록 굴절 된 형태의 단어를 그룹화하는 과정이다. 예를 들어 동음이의어가 문맥에 따라 다른 의미를 갖는데,\n",
        "\n",
        "1. 배가 맛있다.\n",
        "2. 배를 타는것이 재미있다.\n",
        "3. 평소보다 두 배로 많이 먹어서 배가 아프다.\n",
        "\n",
        "- 위에 있는 3개의 문장에 있는 \"배\"는 모두 다른 의미를 갖는다.\n",
        "\n",
        "- Lemmatization은 이 때 앞뒤 문맥을 보고 단어의 의미를 식별하는 것이다.\n",
        "영어에서 meet는 meeting으로 쓰였을 때 회의를 뜻하지만 meet일 때는 만나다는 뜻을 갖는데, 그 단어가 명사로 쓰였는지 동사로 쓰였는지에 따라 적합한 의미를 갖도록 추출하는 것이다.¶"
      ]
    },
    {
      "cell_type": "code",
      "execution_count": null,
      "metadata": {
        "colab": {
          "base_uri": "https://localhost:8080/",
          "height": 1000
        },
        "id": "FJVpG2o8uqFD",
        "outputId": "1269f1e5-c009-4822-96d4-4816fd37002b"
      },
      "outputs": [
        {
          "name": "stderr",
          "output_type": "stream",
          "text": [
            "[nltk_data] Downloading package wordnet to /root/nltk_data...\n"
          ]
        },
        {
          "ename": "LookupError",
          "evalue": "ignored",
          "output_type": "error",
          "traceback": [
            "\u001b[0;31m---------------------------------------------------------------------------\u001b[0m",
            "\u001b[0;31mLookupError\u001b[0m                               Traceback (most recent call last)",
            "\u001b[0;32m/usr/local/lib/python3.7/dist-packages/nltk/corpus/util.py\u001b[0m in \u001b[0;36m__load\u001b[0;34m(self)\u001b[0m\n\u001b[1;32m     83\u001b[0m                 \u001b[0;32mtry\u001b[0m\u001b[0;34m:\u001b[0m\u001b[0;34m\u001b[0m\u001b[0;34m\u001b[0m\u001b[0m\n\u001b[0;32m---> 84\u001b[0;31m                     \u001b[0mroot\u001b[0m \u001b[0;34m=\u001b[0m \u001b[0mnltk\u001b[0m\u001b[0;34m.\u001b[0m\u001b[0mdata\u001b[0m\u001b[0;34m.\u001b[0m\u001b[0mfind\u001b[0m\u001b[0;34m(\u001b[0m\u001b[0;34mf\"{self.subdir}/{zip_name}\"\u001b[0m\u001b[0;34m)\u001b[0m\u001b[0;34m\u001b[0m\u001b[0;34m\u001b[0m\u001b[0m\n\u001b[0m\u001b[1;32m     85\u001b[0m                 \u001b[0;32mexcept\u001b[0m \u001b[0mLookupError\u001b[0m\u001b[0;34m:\u001b[0m\u001b[0;34m\u001b[0m\u001b[0;34m\u001b[0m\u001b[0m\n",
            "\u001b[0;32m/usr/local/lib/python3.7/dist-packages/nltk/data.py\u001b[0m in \u001b[0;36mfind\u001b[0;34m(resource_name, paths)\u001b[0m\n\u001b[1;32m    582\u001b[0m     \u001b[0mresource_not_found\u001b[0m \u001b[0;34m=\u001b[0m \u001b[0;34mf\"\\n{sep}\\n{msg}\\n{sep}\\n\"\u001b[0m\u001b[0;34m\u001b[0m\u001b[0;34m\u001b[0m\u001b[0m\n\u001b[0;32m--> 583\u001b[0;31m     \u001b[0;32mraise\u001b[0m \u001b[0mLookupError\u001b[0m\u001b[0;34m(\u001b[0m\u001b[0mresource_not_found\u001b[0m\u001b[0;34m)\u001b[0m\u001b[0;34m\u001b[0m\u001b[0;34m\u001b[0m\u001b[0m\n\u001b[0m\u001b[1;32m    584\u001b[0m \u001b[0;34m\u001b[0m\u001b[0m\n",
            "\u001b[0;31mLookupError\u001b[0m: \n**********************************************************************\n  Resource \u001b[93momw-1.4\u001b[0m not found.\n  Please use the NLTK Downloader to obtain the resource:\n\n  \u001b[31m>>> import nltk\n  >>> nltk.download('omw-1.4')\n  \u001b[0m\n  For more information see: https://www.nltk.org/data.html\n\n  Attempted to load \u001b[93mcorpora/omw-1.4.zip/omw-1.4/\u001b[0m\n\n  Searched in:\n    - '/root/nltk_data'\n    - '/usr/nltk_data'\n    - '/usr/share/nltk_data'\n    - '/usr/lib/nltk_data'\n    - '/usr/share/nltk_data'\n    - '/usr/local/share/nltk_data'\n    - '/usr/lib/nltk_data'\n    - '/usr/local/lib/nltk_data'\n**********************************************************************\n",
            "\nDuring handling of the above exception, another exception occurred:\n",
            "\u001b[0;31mLookupError\u001b[0m                               Traceback (most recent call last)",
            "\u001b[0;32m<ipython-input-28-0d7000ef3854>\u001b[0m in \u001b[0;36m<module>\u001b[0;34m\u001b[0m\n\u001b[1;32m      4\u001b[0m \u001b[0mwordnet_lem\u001b[0m \u001b[0;34m=\u001b[0m \u001b[0mWordNetLemmatizer\u001b[0m\u001b[0;34m(\u001b[0m\u001b[0;34m)\u001b[0m\u001b[0;34m\u001b[0m\u001b[0;34m\u001b[0m\u001b[0m\n\u001b[1;32m      5\u001b[0m \u001b[0;34m\u001b[0m\u001b[0m\n\u001b[0;32m----> 6\u001b[0;31m \u001b[0mprint\u001b[0m\u001b[0;34m(\u001b[0m\u001b[0mwordnet_lem\u001b[0m\u001b[0;34m.\u001b[0m\u001b[0mlemmatize\u001b[0m\u001b[0;34m(\u001b[0m\u001b[0;34m\"fly\"\u001b[0m\u001b[0;34m)\u001b[0m\u001b[0;34m)\u001b[0m\u001b[0;34m\u001b[0m\u001b[0;34m\u001b[0m\u001b[0m\n\u001b[0m\u001b[1;32m      7\u001b[0m \u001b[0mprint\u001b[0m\u001b[0;34m(\u001b[0m\u001b[0mwordnet_lem\u001b[0m\u001b[0;34m.\u001b[0m\u001b[0mlemmatize\u001b[0m\u001b[0;34m(\u001b[0m\u001b[0;34m\"flies\"\u001b[0m\u001b[0;34m)\u001b[0m\u001b[0;34m)\u001b[0m\u001b[0;34m\u001b[0m\u001b[0;34m\u001b[0m\u001b[0m\n\u001b[1;32m      8\u001b[0m \u001b[0;34m\u001b[0m\u001b[0m\n",
            "\u001b[0;32m/usr/local/lib/python3.7/dist-packages/nltk/stem/wordnet.py\u001b[0m in \u001b[0;36mlemmatize\u001b[0;34m(self, word, pos)\u001b[0m\n\u001b[1;32m     43\u001b[0m         \u001b[0;34m:\u001b[0m\u001b[0;32mreturn\u001b[0m\u001b[0;34m:\u001b[0m \u001b[0mThe\u001b[0m \u001b[0mlemma\u001b[0m \u001b[0mof\u001b[0m\u001b[0;31m \u001b[0m\u001b[0;31m`\u001b[0m\u001b[0mword\u001b[0m\u001b[0;31m`\u001b[0m\u001b[0;34m,\u001b[0m \u001b[0;32mfor\u001b[0m \u001b[0mthe\u001b[0m \u001b[0mgiven\u001b[0m\u001b[0;31m \u001b[0m\u001b[0;31m`\u001b[0m\u001b[0mpos\u001b[0m\u001b[0;31m`\u001b[0m\u001b[0;34m.\u001b[0m\u001b[0;34m\u001b[0m\u001b[0;34m\u001b[0m\u001b[0m\n\u001b[1;32m     44\u001b[0m         \"\"\"\n\u001b[0;32m---> 45\u001b[0;31m         \u001b[0mlemmas\u001b[0m \u001b[0;34m=\u001b[0m \u001b[0mwn\u001b[0m\u001b[0;34m.\u001b[0m\u001b[0m_morphy\u001b[0m\u001b[0;34m(\u001b[0m\u001b[0mword\u001b[0m\u001b[0;34m,\u001b[0m \u001b[0mpos\u001b[0m\u001b[0;34m)\u001b[0m\u001b[0;34m\u001b[0m\u001b[0;34m\u001b[0m\u001b[0m\n\u001b[0m\u001b[1;32m     46\u001b[0m         \u001b[0;32mreturn\u001b[0m \u001b[0mmin\u001b[0m\u001b[0;34m(\u001b[0m\u001b[0mlemmas\u001b[0m\u001b[0;34m,\u001b[0m \u001b[0mkey\u001b[0m\u001b[0;34m=\u001b[0m\u001b[0mlen\u001b[0m\u001b[0;34m)\u001b[0m \u001b[0;32mif\u001b[0m \u001b[0mlemmas\u001b[0m \u001b[0;32melse\u001b[0m \u001b[0mword\u001b[0m\u001b[0;34m\u001b[0m\u001b[0;34m\u001b[0m\u001b[0m\n\u001b[1;32m     47\u001b[0m \u001b[0;34m\u001b[0m\u001b[0m\n",
            "\u001b[0;32m/usr/local/lib/python3.7/dist-packages/nltk/corpus/util.py\u001b[0m in \u001b[0;36m__getattr__\u001b[0;34m(self, attr)\u001b[0m\n\u001b[1;32m    119\u001b[0m             \u001b[0;32mraise\u001b[0m \u001b[0mAttributeError\u001b[0m\u001b[0;34m(\u001b[0m\u001b[0;34m\"LazyCorpusLoader object has no attribute '__bases__'\"\u001b[0m\u001b[0;34m)\u001b[0m\u001b[0;34m\u001b[0m\u001b[0;34m\u001b[0m\u001b[0m\n\u001b[1;32m    120\u001b[0m \u001b[0;34m\u001b[0m\u001b[0m\n\u001b[0;32m--> 121\u001b[0;31m         \u001b[0mself\u001b[0m\u001b[0;34m.\u001b[0m\u001b[0m__load\u001b[0m\u001b[0;34m(\u001b[0m\u001b[0;34m)\u001b[0m\u001b[0;34m\u001b[0m\u001b[0;34m\u001b[0m\u001b[0m\n\u001b[0m\u001b[1;32m    122\u001b[0m         \u001b[0;31m# This looks circular, but its not, since __load() changes our\u001b[0m\u001b[0;34m\u001b[0m\u001b[0;34m\u001b[0m\u001b[0;34m\u001b[0m\u001b[0m\n\u001b[1;32m    123\u001b[0m         \u001b[0;31m# __class__ to something new:\u001b[0m\u001b[0;34m\u001b[0m\u001b[0;34m\u001b[0m\u001b[0;34m\u001b[0m\u001b[0m\n",
            "\u001b[0;32m/usr/local/lib/python3.7/dist-packages/nltk/corpus/util.py\u001b[0m in \u001b[0;36m__load\u001b[0;34m(self)\u001b[0m\n\u001b[1;32m     87\u001b[0m \u001b[0;34m\u001b[0m\u001b[0m\n\u001b[1;32m     88\u001b[0m         \u001b[0;31m# Load the corpus.\u001b[0m\u001b[0;34m\u001b[0m\u001b[0;34m\u001b[0m\u001b[0;34m\u001b[0m\u001b[0m\n\u001b[0;32m---> 89\u001b[0;31m         \u001b[0mcorpus\u001b[0m \u001b[0;34m=\u001b[0m \u001b[0mself\u001b[0m\u001b[0;34m.\u001b[0m\u001b[0m__reader_cls\u001b[0m\u001b[0;34m(\u001b[0m\u001b[0mroot\u001b[0m\u001b[0;34m,\u001b[0m \u001b[0;34m*\u001b[0m\u001b[0mself\u001b[0m\u001b[0;34m.\u001b[0m\u001b[0m__args\u001b[0m\u001b[0;34m,\u001b[0m \u001b[0;34m**\u001b[0m\u001b[0mself\u001b[0m\u001b[0;34m.\u001b[0m\u001b[0m__kwargs\u001b[0m\u001b[0;34m)\u001b[0m\u001b[0;34m\u001b[0m\u001b[0;34m\u001b[0m\u001b[0m\n\u001b[0m\u001b[1;32m     90\u001b[0m \u001b[0;34m\u001b[0m\u001b[0m\n\u001b[1;32m     91\u001b[0m         \u001b[0;31m# This is where the magic happens!  Transform ourselves into\u001b[0m\u001b[0;34m\u001b[0m\u001b[0;34m\u001b[0m\u001b[0;34m\u001b[0m\u001b[0m\n",
            "\u001b[0;32m/usr/local/lib/python3.7/dist-packages/nltk/corpus/reader/wordnet.py\u001b[0m in \u001b[0;36m__init__\u001b[0;34m(self, root, omw_reader)\u001b[0m\n\u001b[1;32m   1174\u001b[0m             )\n\u001b[1;32m   1175\u001b[0m         \u001b[0;32melse\u001b[0m\u001b[0;34m:\u001b[0m\u001b[0;34m\u001b[0m\u001b[0;34m\u001b[0m\u001b[0m\n\u001b[0;32m-> 1176\u001b[0;31m             \u001b[0mself\u001b[0m\u001b[0;34m.\u001b[0m\u001b[0mprovenances\u001b[0m \u001b[0;34m=\u001b[0m \u001b[0mself\u001b[0m\u001b[0;34m.\u001b[0m\u001b[0momw_prov\u001b[0m\u001b[0;34m(\u001b[0m\u001b[0;34m)\u001b[0m\u001b[0;34m\u001b[0m\u001b[0;34m\u001b[0m\u001b[0m\n\u001b[0m\u001b[1;32m   1177\u001b[0m \u001b[0;34m\u001b[0m\u001b[0m\n\u001b[1;32m   1178\u001b[0m         \u001b[0;31m# A cache to store the wordnet data of multiple languages\u001b[0m\u001b[0;34m\u001b[0m\u001b[0;34m\u001b[0m\u001b[0;34m\u001b[0m\u001b[0m\n",
            "\u001b[0;32m/usr/local/lib/python3.7/dist-packages/nltk/corpus/reader/wordnet.py\u001b[0m in \u001b[0;36momw_prov\u001b[0;34m(self)\u001b[0m\n\u001b[1;32m   1283\u001b[0m         \u001b[0mprovdict\u001b[0m \u001b[0;34m=\u001b[0m \u001b[0;34m{\u001b[0m\u001b[0;34m}\u001b[0m\u001b[0;34m\u001b[0m\u001b[0;34m\u001b[0m\u001b[0m\n\u001b[1;32m   1284\u001b[0m         \u001b[0mprovdict\u001b[0m\u001b[0;34m[\u001b[0m\u001b[0;34m\"eng\"\u001b[0m\u001b[0;34m]\u001b[0m \u001b[0;34m=\u001b[0m \u001b[0;34m\"\"\u001b[0m\u001b[0;34m\u001b[0m\u001b[0;34m\u001b[0m\u001b[0m\n\u001b[0;32m-> 1285\u001b[0;31m         \u001b[0mfileids\u001b[0m \u001b[0;34m=\u001b[0m \u001b[0mself\u001b[0m\u001b[0;34m.\u001b[0m\u001b[0m_omw_reader\u001b[0m\u001b[0;34m.\u001b[0m\u001b[0mfileids\u001b[0m\u001b[0;34m(\u001b[0m\u001b[0;34m)\u001b[0m\u001b[0;34m\u001b[0m\u001b[0;34m\u001b[0m\u001b[0m\n\u001b[0m\u001b[1;32m   1286\u001b[0m         \u001b[0;32mfor\u001b[0m \u001b[0mfileid\u001b[0m \u001b[0;32min\u001b[0m \u001b[0mfileids\u001b[0m\u001b[0;34m:\u001b[0m\u001b[0;34m\u001b[0m\u001b[0;34m\u001b[0m\u001b[0m\n\u001b[1;32m   1287\u001b[0m             \u001b[0mprov\u001b[0m\u001b[0;34m,\u001b[0m \u001b[0mlangfile\u001b[0m \u001b[0;34m=\u001b[0m \u001b[0mos\u001b[0m\u001b[0;34m.\u001b[0m\u001b[0mpath\u001b[0m\u001b[0;34m.\u001b[0m\u001b[0msplit\u001b[0m\u001b[0;34m(\u001b[0m\u001b[0mfileid\u001b[0m\u001b[0;34m)\u001b[0m\u001b[0;34m\u001b[0m\u001b[0;34m\u001b[0m\u001b[0m\n",
            "\u001b[0;32m/usr/local/lib/python3.7/dist-packages/nltk/corpus/util.py\u001b[0m in \u001b[0;36m__getattr__\u001b[0;34m(self, attr)\u001b[0m\n\u001b[1;32m    119\u001b[0m             \u001b[0;32mraise\u001b[0m \u001b[0mAttributeError\u001b[0m\u001b[0;34m(\u001b[0m\u001b[0;34m\"LazyCorpusLoader object has no attribute '__bases__'\"\u001b[0m\u001b[0;34m)\u001b[0m\u001b[0;34m\u001b[0m\u001b[0;34m\u001b[0m\u001b[0m\n\u001b[1;32m    120\u001b[0m \u001b[0;34m\u001b[0m\u001b[0m\n\u001b[0;32m--> 121\u001b[0;31m         \u001b[0mself\u001b[0m\u001b[0;34m.\u001b[0m\u001b[0m__load\u001b[0m\u001b[0;34m(\u001b[0m\u001b[0;34m)\u001b[0m\u001b[0;34m\u001b[0m\u001b[0;34m\u001b[0m\u001b[0m\n\u001b[0m\u001b[1;32m    122\u001b[0m         \u001b[0;31m# This looks circular, but its not, since __load() changes our\u001b[0m\u001b[0;34m\u001b[0m\u001b[0;34m\u001b[0m\u001b[0;34m\u001b[0m\u001b[0m\n\u001b[1;32m    123\u001b[0m         \u001b[0;31m# __class__ to something new:\u001b[0m\u001b[0;34m\u001b[0m\u001b[0;34m\u001b[0m\u001b[0;34m\u001b[0m\u001b[0m\n",
            "\u001b[0;32m/usr/local/lib/python3.7/dist-packages/nltk/corpus/util.py\u001b[0m in \u001b[0;36m__load\u001b[0;34m(self)\u001b[0m\n\u001b[1;32m     84\u001b[0m                     \u001b[0mroot\u001b[0m \u001b[0;34m=\u001b[0m \u001b[0mnltk\u001b[0m\u001b[0;34m.\u001b[0m\u001b[0mdata\u001b[0m\u001b[0;34m.\u001b[0m\u001b[0mfind\u001b[0m\u001b[0;34m(\u001b[0m\u001b[0;34mf\"{self.subdir}/{zip_name}\"\u001b[0m\u001b[0;34m)\u001b[0m\u001b[0;34m\u001b[0m\u001b[0;34m\u001b[0m\u001b[0m\n\u001b[1;32m     85\u001b[0m                 \u001b[0;32mexcept\u001b[0m \u001b[0mLookupError\u001b[0m\u001b[0;34m:\u001b[0m\u001b[0;34m\u001b[0m\u001b[0;34m\u001b[0m\u001b[0m\n\u001b[0;32m---> 86\u001b[0;31m                     \u001b[0;32mraise\u001b[0m \u001b[0me\u001b[0m\u001b[0;34m\u001b[0m\u001b[0;34m\u001b[0m\u001b[0m\n\u001b[0m\u001b[1;32m     87\u001b[0m \u001b[0;34m\u001b[0m\u001b[0m\n\u001b[1;32m     88\u001b[0m         \u001b[0;31m# Load the corpus.\u001b[0m\u001b[0;34m\u001b[0m\u001b[0;34m\u001b[0m\u001b[0;34m\u001b[0m\u001b[0m\n",
            "\u001b[0;32m/usr/local/lib/python3.7/dist-packages/nltk/corpus/util.py\u001b[0m in \u001b[0;36m__load\u001b[0;34m(self)\u001b[0m\n\u001b[1;32m     79\u001b[0m         \u001b[0;32melse\u001b[0m\u001b[0;34m:\u001b[0m\u001b[0;34m\u001b[0m\u001b[0;34m\u001b[0m\u001b[0m\n\u001b[1;32m     80\u001b[0m             \u001b[0;32mtry\u001b[0m\u001b[0;34m:\u001b[0m\u001b[0;34m\u001b[0m\u001b[0;34m\u001b[0m\u001b[0m\n\u001b[0;32m---> 81\u001b[0;31m                 \u001b[0mroot\u001b[0m \u001b[0;34m=\u001b[0m \u001b[0mnltk\u001b[0m\u001b[0;34m.\u001b[0m\u001b[0mdata\u001b[0m\u001b[0;34m.\u001b[0m\u001b[0mfind\u001b[0m\u001b[0;34m(\u001b[0m\u001b[0;34mf\"{self.subdir}/{self.__name}\"\u001b[0m\u001b[0;34m)\u001b[0m\u001b[0;34m\u001b[0m\u001b[0;34m\u001b[0m\u001b[0m\n\u001b[0m\u001b[1;32m     82\u001b[0m             \u001b[0;32mexcept\u001b[0m \u001b[0mLookupError\u001b[0m \u001b[0;32mas\u001b[0m \u001b[0me\u001b[0m\u001b[0;34m:\u001b[0m\u001b[0;34m\u001b[0m\u001b[0;34m\u001b[0m\u001b[0m\n\u001b[1;32m     83\u001b[0m                 \u001b[0;32mtry\u001b[0m\u001b[0;34m:\u001b[0m\u001b[0;34m\u001b[0m\u001b[0;34m\u001b[0m\u001b[0m\n",
            "\u001b[0;32m/usr/local/lib/python3.7/dist-packages/nltk/data.py\u001b[0m in \u001b[0;36mfind\u001b[0;34m(resource_name, paths)\u001b[0m\n\u001b[1;32m    581\u001b[0m     \u001b[0msep\u001b[0m \u001b[0;34m=\u001b[0m \u001b[0;34m\"*\"\u001b[0m \u001b[0;34m*\u001b[0m \u001b[0;36m70\u001b[0m\u001b[0;34m\u001b[0m\u001b[0;34m\u001b[0m\u001b[0m\n\u001b[1;32m    582\u001b[0m     \u001b[0mresource_not_found\u001b[0m \u001b[0;34m=\u001b[0m \u001b[0;34mf\"\\n{sep}\\n{msg}\\n{sep}\\n\"\u001b[0m\u001b[0;34m\u001b[0m\u001b[0;34m\u001b[0m\u001b[0m\n\u001b[0;32m--> 583\u001b[0;31m     \u001b[0;32mraise\u001b[0m \u001b[0mLookupError\u001b[0m\u001b[0;34m(\u001b[0m\u001b[0mresource_not_found\u001b[0m\u001b[0;34m)\u001b[0m\u001b[0;34m\u001b[0m\u001b[0;34m\u001b[0m\u001b[0m\n\u001b[0m\u001b[1;32m    584\u001b[0m \u001b[0;34m\u001b[0m\u001b[0m\n\u001b[1;32m    585\u001b[0m \u001b[0;34m\u001b[0m\u001b[0m\n",
            "\u001b[0;31mLookupError\u001b[0m: \n**********************************************************************\n  Resource \u001b[93momw-1.4\u001b[0m not found.\n  Please use the NLTK Downloader to obtain the resource:\n\n  \u001b[31m>>> import nltk\n  >>> nltk.download('omw-1.4')\n  \u001b[0m\n  For more information see: https://www.nltk.org/data.html\n\n  Attempted to load \u001b[93mcorpora/omw-1.4\u001b[0m\n\n  Searched in:\n    - '/root/nltk_data'\n    - '/usr/nltk_data'\n    - '/usr/share/nltk_data'\n    - '/usr/lib/nltk_data'\n    - '/usr/share/nltk_data'\n    - '/usr/local/share/nltk_data'\n    - '/usr/lib/nltk_data'\n    - '/usr/local/lib/nltk_data'\n**********************************************************************\n"
          ]
        }
      ],
      "source": [
        "from nltk.stem import WordNetLemmatizer\n",
        "import nltk\n",
        "nltk.download('wordnet')\n",
        "wordnet_lem = WordNetLemmatizer()\n",
        "\n",
        "print(wordnet_lem.lemmatize(\"fly\"))\n",
        "print(wordnet_lem.lemmatize(\"flies\"))\n",
        "\n",
        "words = [wordnet_lem.lemmatize(w) for w in words]\n",
        "\n",
        "words[:10]\n",
        "\n",
        "# lemmatizer를 사용하여 fly, flies를 처리하면 둘 다 fly로 바뀐다.\n",
        "# words를 lemmatization 처리한 후 결과를 확인해본다.\n",
        "# stemming한 결과와 마찬가지로 출력된다."
      ]
    },
    {
      "cell_type": "markdown",
      "metadata": {
        "id": "F1WNnXs-e9BQ"
      },
      "source": [
        "# 문자열 처리"
      ]
    },
    {
      "cell_type": "code",
      "execution_count": null,
      "metadata": {
        "id": "6AJbhlPMe8Do"
      },
      "outputs": [],
      "source": [
        "import re\n",
        "def review_to_words(raw_review):\n",
        "    review_text = BeautifulSoup(raw_review, \"html.parser\").get_text()\n",
        "    letters_only = re.sub(\"[^a-zA-Z]\", \" \", review_text)\n",
        "    words = letters_only.lower().split()\n",
        "    stops = set(stopwords.words(\"english\"))\n",
        "    meaningful_words = [w for w in words if not w in stops]\n",
        "    stemming_words = [stemmer.stem(w) for w in meaningful_words]\n",
        "    return(\" \".join(stemming_words))\n",
        "\n",
        "# 0. def로 함수 선언\n",
        "# 1. HTML 제거\n",
        "# 2. 영문자가 아닌 문자는 공백으로 변환\n",
        "# 3. 소문자로 전체 변환\n",
        "# 4. 파이썬에서는 리스트보다 세트로 찾는게 훨씬 빠르다. stopwods를 세트로 변환\n",
        "# 5. Stopwords 불용어 제거\n",
        "# 6. Stemming으로 어간추출\n",
        "# 7. 공백으로 구분된 문자열로 결합하여 결과 반환"
      ]
    },
    {
      "cell_type": "code",
      "execution_count": null,
      "metadata": {
        "colab": {
          "base_uri": "https://localhost:8080/",
          "height": 148
        },
        "id": "_bywBaUwe8GF",
        "outputId": "2af5bd44-cd3e-4e3e-b01f-f04af8cb31cb"
      },
      "outputs": [
        {
          "data": {
            "application/vnd.google.colaboratory.intrinsic+json": {
              "type": "string"
            },
            "text/plain": [
              "'stuff go moment mj start listen music watch odd documentari watch wiz watch moonwalk mayb want get certain insight guy thought realli cool eighti mayb make mind whether guilti innoc moonwalk part biographi part featur film rememb go see cinema origin releas subtl messag mj feel toward press also obvious messag drug bad kay visual impress cours michael jackson unless remot like mj anyway go hate find bore may call mj egotist consent make movi mj fan would say made fan true realli nice actual featur film bit final start minut exclud smooth crimin sequenc joe pesci convinc psychopath power drug lord want mj dead bad beyond mj overheard plan nah joe pesci charact rant want peopl know suppli drug etc dunno mayb hate mj music lot cool thing like mj turn car robot whole speed demon sequenc also director must patienc saint came film kiddi bad sequenc usual director hate work one kid let alon whole bunch perform complex danc scene bottom line movi peopl like mj one level anoth think peopl stay away tri give wholesom messag iron mj bestest buddi movi girl michael jackson truli one talent peopl ever grace planet guilti well attent gave subject hmmm well know peopl differ behind close door know fact either extrem nice stupid guy one sickest liar hope latter'"
            ]
          },
          "execution_count": 30,
          "metadata": {},
          "output_type": "execute_result"
        }
      ],
      "source": [
        "clean_review = review_to_words(train[\"review\"][0])\n",
        "clean_review\n",
        "\n",
        "# review 데이터의 첫번째 데이터를 함수에 넣고 실행해본다.\n",
        "# review 문장들이 토큰화되어 깔끔하게 처리되었음을 확인한다."
      ]
    },
    {
      "cell_type": "code",
      "execution_count": null,
      "metadata": {
        "colab": {
          "base_uri": "https://localhost:8080/"
        },
        "id": "F0tOE8doe8Je",
        "outputId": "15f251a9-e69e-4438-b03e-08a08089b5e6"
      },
      "outputs": [
        {
          "data": {
            "text/plain": [
              "25000"
            ]
          },
          "execution_count": 31,
          "metadata": {},
          "output_type": "execute_result"
        }
      ],
      "source": [
        "num_reviews = train[\"review\"].size\n",
        "num_reviews"
      ]
    },
    {
      "cell_type": "code",
      "execution_count": null,
      "metadata": {
        "id": "Akk8Ua2VfIWw"
      },
      "outputs": [],
      "source": [
        "# 적용시간이 오래걸리는 문제로 인해 multiprocessing을 사용하여 함수를 적용시켜준다.\n",
        "# multiprocessing을 사용하면 복잡하고 오래걸리는 작업을 별도의 프로세스를 생성 후\n",
        "# 병렬처리해서 보다 빠른 응답처리 속도를 기대할 수 있는 장점이 있다.\n",
        "# 출처: https://gist.github.com/yong27/7869662\n",
        "\n",
        "from multiprocessing import Pool\n",
        "import numpy as np\n",
        "\n",
        "def _apply_df(args):\n",
        "    df, func, kwargs = args\n",
        "    return df.apply(func, **kwargs)\n",
        "\n",
        "def apply_by_multiprocessing(df, func, **kwargs):\n",
        "    # 키워드 항목 중 workers 파라미터를 꺼냄\n",
        "    workers = kwargs.pop(\"workers\")\n",
        "    # 위에서 가져온 workers 수로 프로세스 풀을 정의\n",
        "    pool = Pool(processes = workers)\n",
        "    # 실행할 함수와 데이터프레임을 워커의 수 만큼 나눠서 작업\n",
        "    result = pool.map(_apply_df, [(d, func, kwargs)\n",
        "                                 for d in np.array_split(df, workers)])\n",
        "    pool.close()\n",
        "    #작업 결과를 합쳐서 반환\n",
        "    return pd.concat(list(result))"
      ]
    },
    {
      "cell_type": "code",
      "execution_count": null,
      "metadata": {
        "colab": {
          "base_uri": "https://localhost:8080/"
        },
        "id": "eu3u49IWfIZu",
        "outputId": "9a69bfa6-0cc7-46d7-cf79-b23b3f49bf7d"
      },
      "outputs": [
        {
          "name": "stdout",
          "output_type": "stream",
          "text": [
            "CPU times: user 2 µs, sys: 0 ns, total: 2 µs\n",
            "Wall time: 5.48 µs\n"
          ]
        }
      ],
      "source": [
        "%time\n",
        "clean_train_reviews = apply_by_multiprocessing(train[\"review\"],review_to_words, workers = 4)"
      ]
    },
    {
      "cell_type": "code",
      "execution_count": null,
      "metadata": {
        "colab": {
          "base_uri": "https://localhost:8080/",
          "height": 148
        },
        "id": "793tlHpEADQf",
        "outputId": "598a235f-0c7c-43b5-c2f2-b6f750577dac"
      },
      "outputs": [
        {
          "data": {
            "application/vnd.google.colaboratory.intrinsic+json": {
              "type": "string"
            },
            "text/plain": [
              "'stuff go moment mj start listen music watch odd documentari watch wiz watch moonwalk mayb want get certain insight guy thought realli cool eighti mayb make mind whether guilti innoc moonwalk part biographi part featur film rememb go see cinema origin releas subtl messag mj feel toward press also obvious messag drug bad kay visual impress cours michael jackson unless remot like mj anyway go hate find bore may call mj egotist consent make movi mj fan would say made fan true realli nice actual featur film bit final start minut exclud smooth crimin sequenc joe pesci convinc psychopath power drug lord want mj dead bad beyond mj overheard plan nah joe pesci charact rant want peopl know suppli drug etc dunno mayb hate mj music lot cool thing like mj turn car robot whole speed demon sequenc also director must patienc saint came film kiddi bad sequenc usual director hate work one kid let alon whole bunch perform complex danc scene bottom line movi peopl like mj one level anoth think peopl stay away tri give wholesom messag iron mj bestest buddi movi girl michael jackson truli one talent peopl ever grace planet guilti well attent gave subject hmmm well know peopl differ behind close door know fact either extrem nice stupid guy one sickest liar hope latter'"
            ]
          },
          "execution_count": 36,
          "metadata": {},
          "output_type": "execute_result"
        }
      ],
      "source": [
        "clean_train_reviews[0]"
      ]
    },
    {
      "cell_type": "code",
      "execution_count": null,
      "metadata": {
        "colab": {
          "base_uri": "https://localhost:8080/"
        },
        "id": "xXDopAMMfIcZ",
        "outputId": "37e2463e-8164-4686-967c-1f6d36b39e3c"
      },
      "outputs": [
        {
          "name": "stdout",
          "output_type": "stream",
          "text": [
            "CPU times: user 3 µs, sys: 1 µs, total: 4 µs\n",
            "Wall time: 10.3 µs\n"
          ]
        }
      ],
      "source": [
        "%time\n",
        "clean_test_reviews = apply_by_multiprocessing(test[\"review\"],review_to_words, workers = 4)"
      ]
    },
    {
      "cell_type": "markdown",
      "metadata": {
        "id": "IlHsJ5jgvmA-"
      },
      "source": [
        "# 비지도학습 기반 감성 분석\n",
        "## SentiWordNet을 이용한 Sentiment Analysis\n",
        " - WordNet Synset과 SentiWordNet SentiSynset 클래스"
      ]
    },
    {
      "cell_type": "code",
      "execution_count": null,
      "metadata": {
        "id": "Y8KXPj6_vyvN"
      },
      "outputs": [],
      "source": [
        "import nltk\n",
        "nltk.download('all')"
      ]
    },
    {
      "cell_type": "code",
      "execution_count": null,
      "metadata": {
        "id": "yN5GhHvUwD1w"
      },
      "outputs": [],
      "source": [
        "from nltk.corpus import wordnet as wn\n",
        "\n",
        "term = 'present'\n",
        "\n",
        "# 'present'라는 단어로 wordnet의 synsets 생성.\n",
        "synsets = wn.synsets(term)\n",
        "print('synsets() 반환 type :', type(synsets))\n",
        "print('synsets() 반환 값 갯수:', len(synsets))\n",
        "print('synsets() 반환 값 :', synsets)"
      ]
    },
    {
      "cell_type": "code",
      "execution_count": null,
      "metadata": {
        "id": "O0dN5UPzwGs3"
      },
      "outputs": [],
      "source": [
        "for synset in synsets :\n",
        "    print('##### Synset name : ', synset.name(),'#####')\n",
        "    print('POS :',synset.lexname())\n",
        "    print('Definition:',synset.definition())\n",
        "    print('Lemmas:',synset.lemma_names())"
      ]
    },
    {
      "cell_type": "code",
      "execution_count": null,
      "metadata": {
        "id": "LHV226PiwI68"
      },
      "outputs": [],
      "source": [
        "# synset 객체를 단어별로 생성합니다.\n",
        "tree = wn.synset('tree.n.01')\n",
        "lion = wn.synset('lion.n.01')\n",
        "tiger = wn.synset('tiger.n.02')\n",
        "cat = wn.synset('cat.n.01')\n",
        "dog = wn.synset('dog.n.01')\n",
        "\n",
        "entities = [tree , lion , tiger , cat , dog]\n",
        "similarities = []\n",
        "entity_names = [ entity.name().split('.')[0] for entity in entities]\n",
        "\n",
        "# 단어별 synset 들을 iteration 하면서 다른 단어들의 synset과 유사도를 측정합니다.\n",
        "for entity in entities:\n",
        "    similarity = [ round(entity.path_similarity(compared_entity), 2)  for compared_entity in entities ]\n",
        "    similarities.append(similarity)\n",
        "\n",
        "# 개별 단어별 synset과 다른 단어의 synset과의 유사도를 DataFrame형태로 저장합니다.\n",
        "similarity_df = pd.DataFrame(similarities , columns=entity_names,index=entity_names)\n",
        "similarity_df"
      ]
    },
    {
      "cell_type": "code",
      "execution_count": null,
      "metadata": {
        "id": "cRI80WWYwLPV"
      },
      "outputs": [],
      "source": [
        "import nltk\n",
        "from nltk.corpus import sentiwordnet as swn\n",
        "\n",
        "senti_synsets = list(swn.senti_synsets('slow'))\n",
        "print('senti_synsets() 반환 type :', type(senti_synsets))\n",
        "print('senti_synsets() 반환 값 갯수:', len(senti_synsets))\n",
        "print('senti_synsets() 반환 값 :', senti_synsets)"
      ]
    },
    {
      "cell_type": "code",
      "execution_count": null,
      "metadata": {
        "id": "s-5sag9twcEy"
      },
      "outputs": [],
      "source": [
        "from nltk.corpus import wordnet as wn\n",
        "\n",
        "# 간단한 NTLK PennTreebank Tag를 기반으로 WordNet기반의 품사 Tag로 변환\n",
        "def penn_to_wn(tag):\n",
        "    if tag.startswith('J'):\n",
        "        return wn.ADJ\n",
        "    elif tag.startswith('N'):\n",
        "        return wn.NOUN\n",
        "    elif tag.startswith('R'):\n",
        "        return wn.ADV\n",
        "    elif tag.startswith('V'):\n",
        "        return wn.VERB\n",
        "    return"
      ]
    },
    {
      "cell_type": "code",
      "execution_count": null,
      "metadata": {
        "id": "Qno0vW1Vwe-3"
      },
      "outputs": [],
      "source": [
        "from nltk.stem import WordNetLemmatizer\n",
        "from nltk.corpus import sentiwordnet as swn\n",
        "from nltk import sent_tokenize, word_tokenize, pos_tag\n",
        "\n",
        "def swn_polarity(text):\n",
        "    # 감성 지수 초기화\n",
        "    sentiment = 0.0\n",
        "    tokens_count = 0\n",
        "\n",
        "    lemmatizer = WordNetLemmatizer()\n",
        "    raw_sentences = sent_tokenize(text)\n",
        "    # 분해된 문장별로 단어 토큰 -> 품사 태깅 후에 SentiSynset 생성 -> 감성 지수 합산\n",
        "    for raw_sentence in raw_sentences:\n",
        "        # NTLK 기반의 품사 태깅 문장 추출\n",
        "        tagged_sentence = pos_tag(word_tokenize(raw_sentence))\n",
        "        for word , tag in tagged_sentence:\n",
        "\n",
        "            # WordNet 기반 품사 태깅과 어근 추출\n",
        "            wn_tag = penn_to_wn(tag)\n",
        "            if wn_tag not in (wn.NOUN , wn.ADJ, wn.ADV):\n",
        "                continue\n",
        "            lemma = lemmatizer.lemmatize(word, pos=wn_tag)\n",
        "            if not lemma:\n",
        "                continue\n",
        "            # 어근을 추출한 단어와 WordNet 기반 품사 태깅을 입력해 Synset 객체를 생성.\n",
        "            synsets = wn.synsets(lemma , pos=wn_tag)\n",
        "            if not synsets:\n",
        "                continue\n",
        "            # sentiwordnet의 감성 단어 분석으로 감성 synset 추출\n",
        "            # 모든 단어에 대해 긍정 감성 지수는 +로 부정 감성 지수는 -로 합산해 감성 지수 계산.\n",
        "            synset = synsets[0]\n",
        "            swn_synset = swn.senti_synset(synset.name())\n",
        "            sentiment += (swn_synset.pos_score() - swn_synset.neg_score())\n",
        "            tokens_count += 1\n",
        "\n",
        "    if not tokens_count:\n",
        "        return 0\n",
        "\n",
        "    # 총 score가 0 이상일 경우 긍정(Positive) 1, 그렇지 않을 경우 부정(Negative) 0 반환\n",
        "    if sentiment >= 0 :\n",
        "        return 1\n",
        "\n",
        "    return 0"
      ]
    },
    {
      "cell_type": "code",
      "execution_count": null,
      "metadata": {
        "id": "FJbZB6Ymwfs8"
      },
      "outputs": [],
      "source": [
        "review_df = train.copy()\n",
        "review_df['preds'] = review_df['review'].apply( lambda x : swn_polarity(x) )\n",
        "y_target = review_df['sentiment'].values\n",
        "preds = review_df['preds'].values"
      ]
    },
    {
      "cell_type": "code",
      "execution_count": null,
      "metadata": {
        "id": "EKYb3IzIwsfi"
      },
      "outputs": [],
      "source": [
        "from sklearn.metrics import accuracy_score, confusion_matrix, precision_score\n",
        "from sklearn.metrics import recall_score, f1_score, roc_auc_score\n",
        "\n",
        "def get_clf_eval(y_test=None, pred=None):\n",
        "    confusion = confusion_matrix( y_test, pred)\n",
        "    accuracy = accuracy_score(y_test , pred)\n",
        "    precision = precision_score(y_test , pred)\n",
        "    recall = recall_score(y_test , pred)\n",
        "    f1 = f1_score(y_test,pred)\n",
        "    # ROC-AUC 추가\n",
        "    roc_auc = roc_auc_score(y_test, pred)\n",
        "    print('오차 행렬')\n",
        "    print(confusion)\n",
        "    # ROC-AUC print 추가\n",
        "    print('정확도: {0:.4f}, 정밀도: {1:.4f}, 재현율: {2:.4f},\\\n",
        "    F1: {3:.4f}, AUC:{4:.4f}'.format(accuracy, precision, recall, f1, roc_auc))"
      ]
    },
    {
      "cell_type": "code",
      "execution_count": null,
      "metadata": {
        "id": "XBGHqUr3wucT"
      },
      "outputs": [],
      "source": [
        "print('#### SentiWordNet 예측 성능 평가 ####')\n",
        "get_clf_eval(y_target, preds)"
      ]
    },
    {
      "cell_type": "markdown",
      "metadata": {
        "id": "-zfeTuU0wxSU"
      },
      "source": [
        "### VADER lexicon을 이용한 Sentiment Analysis"
      ]
    },
    {
      "cell_type": "code",
      "execution_count": null,
      "metadata": {
        "id": "0xGf7ce0wz2v"
      },
      "outputs": [],
      "source": [
        "from nltk.sentiment.vader import SentimentIntensityAnalyzer\n",
        "\n",
        "senti_analyzer = SentimentIntensityAnalyzer()\n",
        "senti_scores = senti_analyzer.polarity_scores(review_df['review'][0])\n",
        "print(senti_scores)"
      ]
    },
    {
      "cell_type": "code",
      "execution_count": null,
      "metadata": {
        "id": "lqJpoXhcw1mn"
      },
      "outputs": [],
      "source": [
        "def vader_polarity(review,threshold=0.1):\n",
        "    analyzer = SentimentIntensityAnalyzer()\n",
        "    scores = analyzer.polarity_scores(review)\n",
        "\n",
        "    # compound 값에 기반하여 threshold 입력값보다 크면 1, 그렇지 않으면 0을 반환\n",
        "    agg_score = scores['compound']\n",
        "    final_sentiment = 1 if agg_score >= threshold else 0\n",
        "    return final_sentiment\n",
        "\n",
        "# apply lambda 식을 이용하여 레코드별로 vader_polarity( )를 수행하고 결과를 'vader_preds'에 저장\n",
        "review_df['vader_preds'] = review_df['review'].apply( lambda x : vader_polarity(x, 0.1) )\n",
        "y_target = review_df['sentiment'].values\n",
        "vader_preds = review_df['vader_preds'].values\n",
        "\n",
        "print('#### VADER 예측 성능 평가 ####')\n",
        "get_clf_eval(y_target, vader_preds)"
      ]
    },
    {
      "cell_type": "code",
      "execution_count": null,
      "metadata": {
        "id": "jzNCWKnFw3XW"
      },
      "outputs": [],
      "source": [
        "print('#### VADER 예측 성능 평가 ####')\n",
        "get_clf_eval(y_target, vader_preds)"
      ]
    },
    {
      "cell_type": "markdown",
      "metadata": {
        "id": "NM_Ok0cQfRIC"
      },
      "source": [
        "##워드 클라우드\n",
        "- 단어의 빈도 수 데이터를 가지고 있을 때 이용할 수 있는 시각화 방법\n",
        "단순히 빈도 수를 표현하기 보다는 상관관계나 유사도 등으로 배치하는 게 더 의미 있기 때문에 큰 정보를 얻기는 어렵다."
      ]
    },
    {
      "cell_type": "code",
      "execution_count": null,
      "metadata": {
        "id": "3ei3ULd5fIe_"
      },
      "outputs": [],
      "source": [
        "from wordcloud import WordCloud, STOPWORDS\n",
        "import matplotlib.pyplot as plt\n",
        "%matplotlib inline\n",
        "\n",
        "def displayWordCloud(data = None, backgroundcolor = \"black\", width = 800, height = 600):\n",
        "    wordcloud = WordCloud(stopwords = STOPWORDS,\n",
        "                         background_color = backgroundcolor,\n",
        "                         width = width, height = height).generate(data)\n",
        "    plt.figure(figsize = (15, 10))\n",
        "    plt.imshow(wordcloud)\n",
        "    plt.axis(\"off\")\n",
        "    plt.show()"
      ]
    },
    {
      "cell_type": "code",
      "execution_count": null,
      "metadata": {
        "id": "7OevBn31fIhk"
      },
      "outputs": [],
      "source": [
        "displayWordCloud(\" \".join(clean_train_reviews))"
      ]
    },
    {
      "cell_type": "code",
      "execution_count": null,
      "metadata": {
        "id": "IsSSwflFfIkO"
      },
      "outputs": [],
      "source": [
        "train[\"num_words\"] = clean_train_reviews.apply(lambda x : len(str(x).split()))\n",
        "train[\"num_uniq_words\"] = clean_train_reviews.apply(lambda x: len(set(str(x).split())))\n",
        "\n",
        "# 단어 개수 컬럼 생성\n",
        "# 중복을 제거한 unique 단어 개수 컬럼 생성"
      ]
    },
    {
      "cell_type": "code",
      "execution_count": null,
      "metadata": {
        "id": "QaoVxDjPfImy"
      },
      "outputs": [],
      "source": [
        "x = clean_train_reviews[0]\n",
        "x = str(x).split()\n",
        "print(len(x))\n",
        "x[:10]\n",
        "\n",
        "# 첫 번째 리뷰의 단어를 세어보면 219개이다."
      ]
    },
    {
      "cell_type": "code",
      "execution_count": null,
      "metadata": {
        "id": "P_wqtJlXfIpa"
      },
      "outputs": [],
      "source": [
        "import seaborn as sns\n",
        "\n",
        "fig, ax = plt.subplots(ncols = 2, figsize = (18, 6))\n",
        "print(\"리뷰별 단어 평균 값: \", train[\"num_words\"].mean())\n",
        "print(\"리뷰별 단어 중간 값: \", train[\"num_words\"].median())\n",
        "sns.distplot(train[\"num_words\"], bins = 100, ax = ax[0])\n",
        "ax[0].axvline(train[\"num_words\"].median(), linestyle = \"dashed\")\n",
        "ax[0].set_title(\"리뷰별 단어 수 분포\")\n",
        "\n",
        "print(\"리뷰별 고유 단어 평균 값: \", train[\"num_uniq_words\"].mean())\n",
        "print(\"리뷰별 고유 단어 중간 값: \", train[\"num_uniq_words\"].median())\n",
        "sns.distplot(train[\"num_uniq_words\"], bins = 100, color = \"g\", ax = ax[1])\n",
        "ax[1].axvline(train[\"num_uniq_words\"].median(), linestyle = \"dashed\")\n",
        "ax[1].set_title(\"리뷰별 고유 단어 수 분포\")"
      ]
    },
    {
      "cell_type": "markdown",
      "metadata": {
        "id": "mRESMEVMbFdM"
      },
      "source": [
        "## Bag-of-words model\n",
        "텍스트 데이터 벡터화\n",
        "다음의 두 문장이 있다고 하자,\n",
        "John likes to watch movies. Mary likes movies too.\n",
        "John also likes to watch football games.\n",
        "위 두 문장을 토큰화하여 가방에 담아주면 다음과 같다.\n",
        "\n",
        "[ \"John\", \"likes\", \"to\", \"watch\", \"movies\", \"Mary\", \"too\", \"also\", \"football\", \"games\" ]\n",
        "\n",
        "그리고 배열의 순서대로 가방에서 각 토큰이 몇 번 등장하는지 횟수를 세어준다.\n",
        "\n",
        "(1) [1,2,1,1,2,1,1,0,0,0]\n",
        "\n",
        "(2) [1,1,1,1,0,0,0,1,1,1]\n",
        "\n",
        "=> 머신러닝 알고리즘이 이해할 수 있는 형태로 바꿔주는 작업이다.\n",
        "\n",
        "\n",
        "단어 가방을 n-gram을 사용해 bigram으로 담아주면 다음과 같다.\n",
        "\n",
        "\n",
        "[ \"John likes\", \"likes to\", \"to watch\", \"watch movies\", \"Mary likes\", \"likes movies\", \"movies too\" ]\n",
        "\n",
        "=> 여기에서는 CountVectorizer를 통해 위 작업을 한다.\n",
        "\n",
        "\n",
        "Sklearn의 CountVectorizer를 통해 피처 생성\n",
        "정규표현식을 사용해 토큰을 추출한다.\n",
        "모두 소문자로 변환시키기 때문에 good, Good, gOOd이 모두 같은 특성이 된다.\n",
        "의미없는 특성을 많이 생성하기 때문에 적어도 두 개의 문서에 나타난 토큰만을 사용한다.\n",
        "min_df로 토큰이 나타날 최소 문서 개수를 지정할 수 있다."
      ]
    },
    {
      "cell_type": "code",
      "execution_count": null,
      "metadata": {
        "id": "2wrgBATEfkZ1"
      },
      "outputs": [],
      "source": [
        "from sklearn.feature_extraction.text import CountVectorizer\n",
        "from sklearn.pipeline import Pipeline\n",
        "\n",
        "# 튜토리얼과 다르게 파라미터 값을 수정\n",
        "# 파라미터 값만 수정해도 리더보드 스코어 차이가 큼\n",
        "vectorizer = CountVectorizer(analyzer = \"word\",\n",
        "                            tokenizer = None,\n",
        "                            preprocessor = None,\n",
        "                            stop_words = None,\n",
        "                            min_df = 2, # 토큰이 나타날 최소 문서 개수\n",
        "                            ngram_range = (1, 3), # 유니그램, 바이그램 등\n",
        "                            max_features = 20000 # 최대 피쳐의 개수\n",
        "                            )\n",
        "vectorizer"
      ]
    },
    {
      "cell_type": "code",
      "execution_count": null,
      "metadata": {
        "id": "W1N_WwaWfkcb"
      },
      "outputs": [],
      "source": [
        "# 속도 개선을 위해 파이프라인을 사용하도록 개선\n",
        "\n",
        "pipeline = Pipeline([\n",
        "    (\"vect\", vectorizer),\n",
        "])"
      ]
    },
    {
      "cell_type": "code",
      "execution_count": null,
      "metadata": {
        "id": "w8KFMt2AfkfB"
      },
      "outputs": [],
      "source": [
        "%time\n",
        "train_data_features = pipeline.fit_transform(clean_train_reviews)\n",
        "\n",
        "train_data_features"
      ]
    },
    {
      "cell_type": "code",
      "execution_count": null,
      "metadata": {
        "id": "3kbe-Wonb_xb"
      },
      "outputs": [],
      "source": [
        "train_data_features.shape\n",
        "\n",
        "# 25000의 관측치와 위에서 지정해주었던 20000개의 feature로 이루어져 있음."
      ]
    },
    {
      "cell_type": "code",
      "execution_count": null,
      "metadata": {
        "id": "D64oYIleb_1C"
      },
      "outputs": [],
      "source": [
        "vocab = vectorizer.get_feature_names()\n",
        "print(len(vocab))\n",
        "vocab[:10]\n",
        "\n",
        "# feature의 이름 (단어)를 확인"
      ]
    },
    {
      "cell_type": "code",
      "execution_count": null,
      "metadata": {
        "id": "IFQ38Toob_3v"
      },
      "outputs": [],
      "source": [
        "dist = np.sum(train_data_features, axis = 0)\n",
        "\n",
        "for tag, count in zip(vocab, dist):\n",
        "    print(count, tag)\n",
        "\n",
        "pd.DataFrame(dist, columns = vocab)\n",
        "\n",
        "# 단어를 count해줘서 한번에 확인"
      ]
    },
    {
      "cell_type": "code",
      "execution_count": null,
      "metadata": {
        "id": "VpFk_binb_7e"
      },
      "outputs": [],
      "source": [
        "pd.DataFrame(train_data_features[:10].toarray(), columns = vocab).head()\n",
        "\n",
        "# 각각의 row가 어떤 단어를 포함하고 있는지 확인하기 위함"
      ]
    },
    {
      "cell_type": "markdown",
      "metadata": {
        "id": "ZOSySmmZcFq1"
      },
      "source": [
        "# RandomForest로 예측해보기"
      ]
    },
    {
      "cell_type": "code",
      "execution_count": null,
      "metadata": {
        "id": "cMLJj7fGfkhm"
      },
      "outputs": [],
      "source": [
        "from sklearn.ensemble import RandomForestClassifier\n",
        "\n",
        "model = RandomForestClassifier(n_estimators = 100, random_state = 42, n_jobs =1)\n",
        "model"
      ]
    },
    {
      "cell_type": "code",
      "execution_count": null,
      "metadata": {
        "id": "rFln6IcqcRp8"
      },
      "outputs": [],
      "source": [
        "%time\n",
        "\n",
        "model = model.fit(train_data_features, train[\"sentiment\"])"
      ]
    },
    {
      "cell_type": "code",
      "execution_count": null,
      "metadata": {
        "id": "j6EB_T18cRtC"
      },
      "outputs": [],
      "source": [
        "from sklearn.model_selection import cross_val_score\n",
        "%time\n",
        "score = np.mean(cross_val_score(model, train_data_features,train[\"sentiment\"], cv = 10,scoring = \"roc_auc\"))"
      ]
    },
    {
      "cell_type": "code",
      "execution_count": null,
      "metadata": {
        "id": "6cvXhMgAcX_U"
      },
      "outputs": [],
      "source": [
        "clean_test_reviews[0]"
      ]
    },
    {
      "cell_type": "code",
      "execution_count": null,
      "metadata": {
        "id": "Zb5aWKKBcYB2"
      },
      "outputs": [],
      "source": [
        "%time\n",
        "test_data_features = pipeline.transform(clean_test_reviews)\n",
        "test_data_features = test_data_features.toarray()\n",
        "\n",
        "# test 데이터도 똑같이 파이프라인을 사용하여 벡터화 시켜준다."
      ]
    },
    {
      "cell_type": "code",
      "execution_count": null,
      "metadata": {
        "id": "avGd5K_BcYEg"
      },
      "outputs": [],
      "source": [
        "test_data_features"
      ]
    },
    {
      "cell_type": "code",
      "execution_count": null,
      "metadata": {
        "id": "aL5ePB9YcYHP"
      },
      "outputs": [],
      "source": [
        "# 벡터화하며 만든 사전에서 해당 단어가 무엇인지 찾아볼 수 있다.\n",
        "# vocab = vectorizer.get_feature_names()\n",
        "vocab[8], vocab[2558], vocab[2559], vocab[2560]"
      ]
    },
    {
      "cell_type": "code",
      "execution_count": null,
      "metadata": {
        "id": "x7QgzQJkcj5b"
      },
      "outputs": [],
      "source": [
        "y_pred = model.predict(test_data_features)\n",
        "y_pred[:10]"
      ]
    },
    {
      "cell_type": "markdown",
      "metadata": {
        "id": "-lXU4YJL6bxP"
      },
      "source": [
        "# 토픽 모델링\n",
        "\n",
        "알고리즘 유형\n",
        "\n",
        "- LSA(Latent SemanticAnalysis,), pLSA\n",
        "- LDA(Latent Dirichlet Allocation)\n",
        "- NMF(Non Negative Factorization)\n",
        "\n",
        "\n",
        "LSA와 NMF는 행렬 분해 기반 토픽 모델링\n",
        "\n",
        "pLSA와 LDA 확률 기반의 토픽 모델링\n",
        "\n",
        "\n",
        "##토픽 모델링알고리즘의 2개의 가정\n",
        "1. 개별 문서는 혼합된 여러 개의 주제로 구성되어 있다.\n",
        "2. 개별 주제는 여러 개의 단어로 구성되어 있다.\n",
        "\n",
        "![image.png](data:image/png;base64,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)\n",
        "\n",
        "-BoW에 기반한 DTM이나 TF-IDF는 기본적으로 단어의 빈도 수를 이용한 수치화 방법이기 때문에 단어의 의미를 고려하지 못한다는 단점이 있었습니다. (이를 토픽 모델링 관점에서는 단어의 토픽을 고려하지 못한다고도 합니다.) 이를 위한 대안으로 DTM의 잠재된(Latent) 의미를 이끌어내는 방법으로 잠재 의미 분석(Latent Semantic Analysis, LSA)이라는 방법이 있습니다. 잠재 의미 분석(Latent Semantic Indexing, LSI)이라고 부르기도 합니다. 이하 LSA라고 명명하겠습니다.\n",
        "\n",
        "- 토픽 모델링은 문서들에 잠재되어 있는 공통된 토픽(주제)들을 추출해 내는 기법.\n",
        "\n",
        "- 공통된 유사성을 도출한다는 측면에서 문서 군집화/유사도와 비슷한 기법 일 수 있지만, 토픽 모델링은 문서들이 가지는 주요 토픽의 분포도와 개별 토픽이 어떤 의미인지(단어들의 분포)를 제공하는 특징을 가지고 있음.\n",
        "\n",
        "## 잠재 의미 분석(Latent Semantic Analysis,LSA)\n",
        "- LSA는 SVD를 활용하여 문서에 숨어있는 의미를 이끌어내기 위한 방법.\n",
        "\n",
        "### Truncated SVD\n",
        "- LSA의 경우 Full SVD에서 나온 3개의 행렬에서 일부 벡터들을 삭제시킨 절단된 SVD(truncated SVD) 를 사용함.\n",
        "\n",
        "![image.png](data:image/png;base64,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)\n",
        "\n",
        "<img src = 'https://img1.daumcdn.net/thumb/R1280x0/?scode=mtistory2&fname=https%3A%2F%2Fblog.kakaocdn.net%2Fdn%2Fbs4vPZ%2FbtqB0fnIaUX%2FNxARkhmYl7HKHuXKW7ryx1%2Fimg.png'>\n",
        "\n"
      ]
    },
    {
      "cell_type": "markdown",
      "metadata": {
        "id": "cLNyAuNB98le"
      },
      "source": [
        "# 특이값 분해(Singluard Value Decompostion)의 개념과 의미\n",
        "\n",
        "\n",
        "##고유값 분해의 정의\n",
        " - 고유값 분해(eigen decomposition)는 고유값 과 고유벡터로 부터 유도되는 고유값 행렬과 고유벡터 행렬에 의해 분해될수있는 행렬의 표현이다.\n",
        "\n",
        " -  n*n 정방행렬 (n by n square matrix)에 대해서만 적용 가능\n",
        "\n",
        "<img src = 'https://t1.daumcdn.net/cfile/tistory/2676AB4B571829E109'>\n",
        "\n",
        "\n",
        "### 닮음(Similar)\n",
        "- 정의 1) 행렬에서 닮음(Similar) 는  $P^{-1}AP = B$를 만족하는 가역행렬( invertible matrix) P가 존재할때, 정사각행렬 A와 B는 서로 닮음이라고 표현.\n",
        "- 정의 2) 정방행렬 A가 어떠한 대각행렬과 닮았으면, 즉 $P^{-1}AP = B$이 대각행렬이 되는 가역 행렬(Inverse) P가 존재하면 대각화가능(diagonalizable)하다고 한다. 이 경우에 행렬 P는 A를 대각화한다(diagonalize)고 한다.\n",
        "\n",
        "- 더 나아가, $P^{T}AP = B$ 를 만족하면 직교행렬 $P$가 존재할 때, B는 A에 직교 닮음(Othognally similar)라고 함.\n",
        "\n",
        "\n",
        "\n",
        "### 스펙트럼 분해(Spectral decompostion)\n",
        "$P{\\times}P$ 대칭행렬 A에 대한 스펙트럼 분해(Spectral decomposition)는 아래와 식과 같다. $P{\\times}P$ 대칭행렬 A는 직교 행렬 $P$에 의해 대각화(diagonalization)된다고 한다.\n",
        "\n",
        "$~~~~~~~A = P {\\wedge} P^T = {\\sum_{i=1}^p} {\\lambda_i}~e_i~e_i^T$\n",
        "\n",
        "\n",
        "이때 $PP^T = P^TP = I$를 만족하는 직교행렬 $P$는 $P = [e_1,\\cdots,e_p]$로 이루어지며, ${\\wedge}$는 ${\\wedge}$는 A의 고유값(eigenvalue) 들로만 이루어진 대각 행렬(diagonal matrix)\n",
        "\n",
        "<img src = 'https://lh3.googleusercontent.com/proxy/OFMdOWTh_l3sT_GwG0RDF_P3PeU7e5hsJT4Eifm0uylNurocr5TodPHekhMKlgCs0_KMOLuCBzXw20i3EV2HrSN9Bw'>\n",
        "\n",
        "대각 행렬  ${\\wedge}$ 는 $P^TAP = {\\wedge}$\n"
      ]
    },
    {
      "cell_type": "markdown",
      "metadata": {
        "id": "yhgV1gADNFS4"
      },
      "source": [
        "참고 : 공돌이의 수학노트(https://seoncheolpark.github.io/book/_book/2-4-matrix-decomposition.html)\n",
        "# 특이값 분해(SVD)\n",
        "\n",
        "- 특이값분해(Singular Value Decomposition,SVD)는 $m{\\times}n$ 직사각형 행렬 $A$에 대해 스펙트럼 분해를 일반화 한것.\n",
        "\n",
        "$~~~~~~~~~~~~~~~~~~~~~~~~~~~~~~~~A = U {\\sum}{V}^T$\n",
        "\n",
        "이 때,\n",
        "- $U : A$의 left singular vector로 이루어진 $m{\\times}m$ 직교 행렬(orthogonal matrix)\n",
        "\n",
        "- ${\\sum}$ : 주 대각성분이 ${\\sqrt{\\lambda_i}}$로 이루어진 $m{\\times}n$ 직사각 대각행렬(diagonal matrix)\n",
        "\n",
        "- $V$ : A의 right singluar vector로 이루어진 $n{\\times}n$ 직교행렬(Orthogonal matrix)\n",
        "\n",
        "행렬 A의 계수(rank)가 $k$라고 할때\n",
        "\n",
        "- $U = [u_1,\\cdots,u_k,\\cdots,u_m]$ 는 $AA^T$를 고유값 분해(eigenvalue decompostition)로 직교대각화하여 얻은 $m{\\times}m$ 직교행렬(orthogonal matrix)이며, 특히 $[u_1,\\cdots,u_k]$ 를 좌 특이벡터(left singular vector)라고 함.\n",
        "\n",
        "- $V =[v_1,\\cdots,v_k,\\cdots,v_n]$는 $A^TA$를 고유값분해로 직교대각화하여 얻은 $n{\\times}n$ 직교행렬이며, 특히 $[v_1,v_2,\\cdots,v_k]$를 우특이행렬(right signular vector)라고 한다.\n",
        "\n",
        "- ${\\sum}$는 $A^TA$의 0이 아닌 고유값이 ${\\lambda_1},{\\lambda_2},\\cdots,{\\lambda_k} 일 때, {\\sqrt{\\lambda_1}},{\\sqrt{\\lambda_2}},\\cdots,{\\sqrt{\\lambda_k}}$ 를 대각성분을 가지고 나머지 성분을 0으로 갖는  $m{\\times}n$ 직사각 대각 행렬이다(\n",
        "Rectangular Orthogonal matirx)\n",
        "\n",
        "![image.png](data:image/png;base64,iVBORw0KGgoAAAANSUhEUgAAAagAAADhCAYAAACdkiHQAAAgAElEQVR4Ae2d32sbSbvn53/qK10YtGQR+EJXal6Y5vhgMecQ88IIAmMCrzmwNi8EhRNELkwuBs9y8A5EGzYoFwcPBM8yoHC8bTjBAwMKGxQIaGHAEGjIRYPgu1SrW1a3+5fUv6pa34CJ1D+qnvo8pfp2Vz399DfgPxIgARIgARKQkMA3EtpEk0iABEiABEgAFChJOoGmacjjT5Lm0AwSIAESyEyAApWA8PZNL1I4Dl7PEs5Ot9u+6qP5ZAzbOdyC+aKLptZA69E5Jl/TlcGjSIAEtpfAzfPoC9zBtbpcKFAJvvMEqv2oj9MXp76/4Xsr4ew0u2cY7ndx/tF/7OTHtiOMxsupf4cq325NnD1qodUxYOy20H0ywpRiW6L3bEzf9NHdbcHY09Ha7eHs+rbE+lNWxX4SAyq9D2e/+scmMVYd7S9EiwIVg1j1XZ5A5XW3FORhvx9A/9sFbueBPZ+H6Ippv70hlJOorzcYdDToz01Yol3zGUaPGtC+H2EWbGeg2fyaD4HZmx4aOz2MPi/Kc/qZ1sbgenGfnk8tGUthP4kFmNWH3l0VBSoWs9o7ixUoCxeP2zj9PYyRuLMSV0D6vbursKNl2jZ71YWmHWDoDo6ObdcD546w/06iAVImaHnaYpvo72jQnporpc4weijXBQ/7yYp7gh9z8CEFKgi1ht8LFag/ztB+HHL35HL06m69uFGI7BTDPSGsfZird0uzEQ7EHaFv0FSoWQqZar/rOxcDB6/8a6TmM+GXrv/CobJ2sZ/Eoc/DhxSoOMI12eeJRP5TfOLuqYHYO4ovFzgUg3rrFDerg73MbOcmBk5E4sAvUH+O0BPbH47gHzZlboyats1eHywEKhDEI9WAxX4S27ny8KFU/o5tbfROBklEs3H2FCZQH86g7w8xjRUeIWKKLXR6QqRFCFRwewJ/7l6fgDcwBS+qoravX0MOZ7CfxEKM8lXU9rDCvGO5BhVGpybbihEoG+MnTfR/S4gCtEwn2MB5PmoZhi45WA48lTvIG5goUJW7YmMD8vChVwYFamM3yH9iIQIlIvQ6Z5jE3T054tRA7+U5Tpwpsz7GwfiCuYXJL+e4+BDcUSFXZQTKwuVxE5rWwNHbiAuFD+cwRLBBpK9SlFGBK7yBiQIVBj+FzyTwex4+9MqgQIX1g5ps20Sg7I8jnHROMA597seG+bSBw3+PeSbldoz+Mkx7cby4izr5zROiW4xfHOLwhy7amhY9wFbhg8S1haEkoeZelKSGbsSzZuIB6oa4ONjpR/gyuYwqXJC0ftG/qsKqQJ2V9ZNkn8ng9zx8SIEK9Lk6fl1XoGa/nEB37ng0hD5kK+6e2jFBD7NLnHQ0NB7dPTO0/ME8voDvWt+9W4m8A6jEIV50VkCgPw1hCC7HXsaMSozzVzq3YX2xYMfcydqWBSv0QsMtKkUZ/kqL/+ZFgOk/rz5BJ6aVxXqmIcljCxX2kxQ+q9rvefiQAlX8b63yGtYSqK8TjF6ZuP3oPmR7L/rOxs3zNnqB6KplI2cXOHwgppQGMFeVaD7BWVsMLoe4WL3xklKggMXzLYFwZuc5qISoxSUIfshEIO4ZmsTAnEw1r3Uy+0kMrhx8SIGK4VuXXWsJ1LLRd9F3vqk8ETbeHsAMuyK3TQyEOK08/b8sDoCX+si3riCpQMHNENB+Zi7yC3qZJPbPE6IWV1vMz1kIOFkItB5Gbkz/IpNEIzkwJ0ul657LfhJLLKsPKVCxeOuxczOBAiAewhVTWiupioTIRK13ADZm701M/ozgNr/F5MqE+X7mJpUFIKtAiSa4OdaauwaMju7k4pus3hVGNJOb8yLg5nF70IS+p0PvHOLsavX2O696MpbDfhIDMJsPKVAxaOuya2OBwt1irPMwrrh7ilxs35CWzAK1YZN4GgmQQD4EKFD5cJS6lM0FClgGN/wwwvgnHV3fonUOzaZA5QCRRZBAPQlQoOrpV1+rsggUlsENbqhyblNcFm5eneL0710nDLrx3QlOX1xg4kWh+1rALyRAAttIgAK1BV7PJFAArF8Onbxo+o+TLaDFJpIACchCgAIliycKtCOrQME2cbrXx6WE69MFYmPRJEACFROgQFXsgDKqzyxQZRjJOkiABEggQIACFQBSx68UqDp6lW0igfoToEDV38egQG2Bk9lEEqghAQpUDZ0abBIFKkiE30mABFQgQIFSwUsZbaRAZQTI00mABCohQIGqBHu5lVKgyuXN2kiABPIhQIHKh6PUpVCgpHYPjSMBEoggQIGKAFOnzRSoOnmTbSGB7SFAgdoCX1OgNneyeAtwXn+bW8EzSWA7CVCgtsDvFKgNnSzeHLzycjzr+hTdBxoauz2c/8GkgRtS5WkkkJoABSo1KnUPLEOg7I8j9PdbaH1rQN9tofejiduY15DLT9OG+bR5/+V4Ie/Ikr8tqlrovktotwVjT0drt4ezawnzbbnvg2p1DBi7Lee9YdOwF3qq6oZMdmfzIQUqE3w1Ti5coGYj9HYad6+BD75lVA1MfivFa0A6Z5jcE1nvHVkGhp/8p/BbvgSct7GuvJ158UbdNgbXEt29un1df27CEn3Fe/Py9yPM7vWdfPmoUFpWH1KgVPByRhuLFShxp9GApvVhrvwgZ68PoGnqDuLizcG+V92v+GD2qrvI7p73u7FW6tj6j7aJ/o4G7am5gmKG0UP/G55XdlbycdEXDjD8vFL99cDpH85LPlc2b93HHHxIgdqCXvP//m0xoP7Dfy/gkt8eoy8CCR4O/VeM7o+0+2qmHmHx5uD2KW5WBNfXCPcli1or5hjfCfyyLgH7Xd8Z5A8C/cd8JoJWun5BWLfw3I6fYrgn7PFfnGE2woH4TfjENbdKlSkoDx/+x/EiSOm//W9lmn3P0G/ubeEGH4H/e/xfnR/7f/mX//Rtz+WL92N8OIJPit4vriK1Z6tXwLnUWHgh4u6p+3IaU4+Fi8fih9PC6e8xh3HXxgQWd+AaDl77ehWkuqKemxg4UZ4D3+wBvAuY4G9iYxpqnpiHD1//40Kg/uF/qMlAWE2BSvDd7eu/OgL1Ty/9P/aE09Lt9oQo+GOM2p6u1OqO+nKJowd9jBMWub2XOKoowNXBTV+zJ0RRAhXcnr7kHI/0hEiLEKjg9hyrVqGoPHx4868Lger/hwotDreRAhXOZbm10DWoKCGK2r60Ss4P05dddJPWluYWzOe6I/piemcs0Zq9nFTXtyqPwW39Wtc8gwIVCywPH3plDK5jq5J6JwUqwT0UqARA3m6xqPvgCBdxkcyuODUeDXHuzo+vLoY74fbHJzgSIfffDTD+4hVexP8WLo+b0LQGjt5a4RV8OIchgg1CIxLFKSnKCC+50K3ewBS8U4raXqgxUYVXJlApfCaB36N8FbU9DLN3LAUqjE5NthUqUElrUDItFN+aOP2ui/OP4Y4VEVntFzfhO8XW+S3GT3VonQFMC7Cv+miINYjjMZybKPsGg/0jXIiZ1PkUw30N2v7QvzYXXfoGe7yQdy1yzWxp407UtGVyGRsYlvmUpPWL/lXmKrIXkLgGFQgcyl6jW0Kyz2Twex4+pEDl1mnkLahQgfKi+P5yjtWwAi+Cx0iaLisJm/X7GbriTkIIyhNXUFbrdkJiD6PvnuYzXB7r0Faey4EXRqsd4kLcKf1+6ghW66eJU/L0pVF8xNnchvXFgh0VcQjAtixYcWtqKcpYRVXGZ6//6L7+Y2P8RPjQiLzIKMO2uzq8KL4T/5rlpyGM1QuXuxPy+5TCZ1X7PQ8fUqDy6zLSllSoQCHuOaiuHA+zzmcYv7rA5M/x4tkaISiBaTzBqP3MXNwJBT05n+HisZhK0zG49k+liYg/IXrOM1P2FJf/dorh+8UxiytIXZLBNNgoyb974u+7A3efg1pJP1V1KxbPQQXC3p1HLBpYnfqt2s5K6s/BhxSoSjxXbqXFChQgnvvo7Wj3Mkk0nowXT9eX29zY2jxBaa1O5c0nOGv3MAoNcrRhPlus8/QCIc9ORV7qo2AUozvF13x84X8+LNY67lwl4GQh0O78ssgk0biffmr1pLI/B7OmeJkk9s8xjbmrLdvMqurL6kMKVFWeK7HewgVKTCM5ufiaaHYM6B0dh7Lm4hMP4TrPrtxF34mQcSGmUcF49ucbmH8EbrlW/Hf7hwnz6gazlWm02ase9B+GmKxsWzmFH1MRcPO4PWhC39Ohdw5xdhXth1RFFnGQm4uvuWvA6OhOLr6J/0a7iFoVKTObDylQirg5i5mFZpLIYlgl53pTkhoM8TCuc/eU71Tk7M0hun9f3DlZH28wi1K+StrPSklAHQLMJKGOrza2tNBMEhtbVeGJ4jUa4i6qdYrLX47QzHEq8vZdHwd/v8D01oL1ZYLz/SNc8mq6QmezapUJMJOEyt5LaXsZU3wpTZHkMC9VkYgIiw47X9vYj+fQnelDN1pQfG6HZURfu2SeQAJbSYBTfFvgdgpUiJPd4IbG3y4Uf29VSNu4iQRqQoACVRNHxjWDAhVGZ4bRDwc4/yNsH7eRAAnIQIACJYMXCraBAlUwYBZPAiRQCAEKVCFY5SqUAiWXP2gNCZBAOgIUqHSclD6KAqW0+2g8CWwtAQrUFrieArUFTmYTSaCGBChQNXRqsEkUqCARficBElCBAAVKBS9ltJGZJDIC5OkkQAKVEGAmiUqwl1spM0mUy5u1kQAJ5EOAmSTy4Sh1KZzik9o9NI4ESCCCAKf4IsDUaTMFqk7eZFtIYHsIUKC2wNcUqC1wMptIAjUkQIGqoVODTaJABYnwOwmQgAoEKFAqeCmjjRSojAB5OgmQQCUEKFCVYC+3UgpUubxZGwmQQD4EKFD5cJS6FAqU1O6hcSRAAhEEKFARYOq0mQJVJ2+yLSSwPQQoUFvga2aS2AIns4kkUEMCzCRRQ6cGm8RMEkEi/E4CJKACAWaSUMFLGW3kFF9GgDydBEigEgKc4qsEe7mVliVQ1q8naGoaGn+7hFVuE4ur7cM5jB0NWucMk3lx1bDkKAIWLo+b0LQGjt5K3KvYT6IcmGk7BSoTPjVOLkugZq+60DQN2v4Q05oM5vZVHw3Rpp0+xl8l9PfchvXFltCwvEyaYbivOf2q+3KaV6G5lyN9P8m9xeUUSIEqh3OltZQlUKKR9hcLVs3GS9uyYMkoTrgbvA2JB+/Mnd8RYQu25Bc98vaTzB6orAAKVGXoy6u4TIEqr1WsCfCmv5o4eXtLICRQOwIUqNq59H6DKFD3mXALCZBAGQRsTN/00d1twdjT0drt4ew6/cUUBaoMH1VcBwWqYgewehLYUgKzNz00dnoYfV4AsN8PoGttDK7TrQNQoLag41CgtsDJbCIJyEbANtEXEbBPzRXLZhg91KDtDZEm5IUCtYKurh/LzCQhgiRkX8xe18/O4ne6C751iy7++DqEPysSqah0PymgJ9rv+k705cGrma9085mIyuxi6N5V+XYGvjCTRABIHb+WlUliGWae8upIBdbL8GGtj7GCIrW0X9Yw+cROoEak4pKzov0k0Q0bHDB7fbAQqNd+gVrnroiZJDYAr9opZU3xeQ/qNo8vcSt5SHBqH7p3II1v1X1QV+3wZ0UiFWvQT1L/JlIe6AnRQYRABbeHFeuVMbgO26vGtm/UMLM6K8sSqOpayJpJgARkI+CJS1CIoraH2e8dS4EKo1OTbRSomjiSzSABh4B3VxmT/ilx7TFFGRlpe+JCgcoIsu6nU6Dq7uGM7VMkCCFjK2t0+t26XFT6p+WaWOTaY3IZWYElrUH1r5Jr8ESOd1DJrJQ9ggKlrOtKMPxuoKp1uqQSSJZaRYr0T4lrjynKyNImL4pP/3k1oNzG+ImI4jNw/jG5dApUMiPlj6BAKe/CAhvgTfUwXVKBkLez6LjnoFImlKZAbUHXKUugvCg+vm5jCzpVaU30BDRmvaU0W2IqSlzziTm3xrucTBJaDyM30nyRSaKB/m/pXp1Cgapx5/CaVpZALZ+DSnl15Nkn8//Jc/kyW18H2+6mIKPWW2RoJftJlBfcXHwPmtD3dOidQ5xdMRdfFK2t3F52Jgm+bmMru1lxjS54rSQvwxPXfPKqaIvKYSaJLXB2WZkktgAlm0gCJFAiAWaSKBF2VVWVNcVXVftYLwmQQD0JcA2qnn71tYoC5cPBLyRAAooQoEAp4qgsZlKgstDjuSRAAlURoEBVRb7EeilQJcJmVSRAArkRoEDlhlLegihQ8vqGlpEACUQToEBFs6nNHgpUbVzJhpDAVhGgQG2BuylQW+BkNpEEakiAAlVDpwabRIEKEuF3EiABFQhQoDby0g3OHoiMvOJPpPAwYKz+7TbcfYtjgu9D2ajKDCeVmUkig5k8lQRIgAR8BJhJwocj/RfvriQybbw9w/ip7ghV95WbKTF98bkeyUwSueJkYSRAAiURYCaJTUHPpxjuu3dRjy8QmpvXO+aZuWktuZzniWnVd3K5NIaFkAAJbA0BTvFlcLX9+yl0Z5qvjbM/wgty3ip5PIYdvruUrRSoUjCzkgIILKbRven0bP8XYB6LLJgABSoTYPF2SHe96YcLhCaRfz+A9nCEKif5KFCZnMyTKyNgw3zaRP+de3n3+QKHYn33QRf9t1X+oioDsnUVU6CyuvzLJY52Fld2J7+F3Cf9OUJPG+Amaz0Zzi9DoOyPI/T3W2h9a0DfbaH3o4nbeQajZTj11sTZoxZaHQPGbgvdJyNMv8pg2JbY8HmI7v45pqv96MsFDp1Ziz7GIT+3Ssiwn8Rgd98HtduCsaejtdvD2XXopXxoGRSoUCzrbfQEQGv1YUo4gHn2FbYGNRuht9NA77V7Vfv1BoOOhvYzs9KpzfW8GDjabYP+3IQlBsj5DKNHDWjfjzBbHTADp/FrXgRs3DzXcfRLcDATd1WLWYvlnVVeVW5SDvtJLDXnjbo7PYw+Lw5bvFG3jcF1uqsLClQs3pQ7vWAITUP7+c16g7Jt4nQ1RD3N56fj8KCMCHOLFShvwOjDXBm4nbU3zcDwU4RRkm9evB34AEP3h+WYez1wojKlGBgl55fZPHGn1D7FzUqf8spcvr224rVdYQ/7ieeVkP9tE30xu/R0NUhshtFDDdreENOQU4KbKFBBIht+t387gabpGFyHxvNtWGo+pxUqUPYYfTHl8nDov7NwB/OqQ+w3IzjFcE9M2/pFF7MRDkRbfT+4zWrgWfEEJj+2cfjvwbsn95z5DQbOtPohLiIOiS89r73sJ3Ek7Xd954LuIPCYjflM/La6/ou/iIIoUBFg1trs3OavTHGtnmzPcHM1XeuOZ/X0PD4XKlDeoB0MBBHBIWIwrzjEfiN+cxMDZ51j4LsrhLOeKMS42qCXjdqk0kni7mmnj3HMdLkQMNG/IkWsjPayn8RSXsyiaAguLawjOuscG2tMhTu/qbBuIE6chGG/n6JR8YBWaCYJT4iCbYzaXqmzUlbuCZEWIVDB7SmL5WHpCEx+0tF9mTAB9McZ2s6de4UXC+wnsQ71xCVKoILbwwpjJokwKmm3uQvny4X0kPOcK724ufIS1qAKzSQRJURR20MYSbeJA091Lvk6Rv9BH+OEmfLZ6x4azl1uheuc7Cex/SQPgdokk4T9xYIdsnYZa2yBO6u5g0oSJ/sWkzcnzoO8jedVBpkDhU7xRQlR1PYCO0JuRSsz8Fi4PG5C0xo4ehsxon84hyHWazpnmIT+aFOUkRvY5IJE0IH+4yT2QEecOgMMXxjONJ/hu9u6hfnyBF1NQ+P4stip9cr6SQqfSeD3PATKK2NwHdslljsXQSvpgzCWJxb4oQKBsmC6efbSPOme5la2QD7FClTSGpSKAQWJawuBgJAinRdb9myZbitqSmwZ8Ra5ppNcRqwJa+0Uz8ScQI+aUXCivuICH2xMX/bQ8MKWxXNS4i7qL+f+iDDrEkeaht6bgiMoKusnyT6Twe9Ja1D9q+TOs65A2e/P0H3QgPHCfTwkuYrCj6hAoApvU64VFHoH5UXxBQYJL4LH+DlhLSHXluZVmBeddeJfqP80hCEGxKgBNq/q1ylnbsNKmNKwLQtWTMABUpSxjkmhx85nuDheJE8WCZbDHj8QV7/tF1GzDTYmP3XR8EXKegN1y59q7P0AjZRRYqG2pt5YYT9J4bOq/e6NAbpvDBDZd0QUn4Hzj8mg1xWo5BLLP4IClcC8UIFC3HNQ3dCBKMFcKXYvpgoCobBO6HzjLvWOFJaqYYT9xwjDq1tMX3WdablWUIjsGwzaPYxCMxjZuHlhoKHdj5S1fjm8V97kpza0tpjSnOHiXw5x8F3AjzkiYz+JgRn3HNT+0J8hJKIYClQEmDptLlagxNOKIpOEdi+TROPJeJGFQUWYboaAZTYML5NEMPWOim2r0uZlqiL/VJ4QmiXrgH1iqkgERIQGIy3L8yIubzH6XkP7yQUuXxyh//wQba2Bk18j1ugCda39lf0kFpmTSUK7u/BYZJJooP9bOn9QoGLx1mNn4QIFYJGLr4lmx4De0XFYo1x8zV0DRkd3cvFN0v2u6tFxCmqF9wzTMrhhPsFZO+Zu+3YC8/008mLH+nQD88rERCw5uetPWquLs/c28FU8hzgpNi+km4uP/SSsw7i5+B6IF7vq0DuHOLtKvzZIgQpjWrNtZQhUzZCxOUUS8IIbtEXCV3H3JO6202VnSzDMXX8avDlDb6eJwVUupSZUyt1FEaBAFUVWonIpUBI5g6aI++1lwtfDN2OcdbqpFszToJu+NNyQeneq76cJJj920X/HW980/GQ7hgIlm0cKsKfQTBIF2Msit4CAlwlCPK+U21rlLS4eN2D8uEjYPH3VQ+u7Axw9ufTnidwCvHVpIjNJ1MWTMe0oNJNETL3cRQLRBCxcPBbhxro/RDz6BO7ZQgKbZJKQDRPDzBM8wim+BEDcXQkB+/oUxpPLYgMYKmkZK82LAKf48iIpcTkUKImdQ9NIgAQiCVCgItHUZwcFqj6+ZEtIYJsIUKC2wNsUqC1wMptIAjUkQIGqoVODTaJABYnwOwmQgAoEKFAqeCmjjRSojAB5OgmQQCUEKFCVYC+3UgpUubxZGwmQQD4EKFD5cJS6FAqU1O6hcSRAAhEEKFARYOq0mZkk6uRNtoUEtocAM0lsga/LyCSxyGbeQutbA/puC70aZTNvdQwYuy0nm/k07sV/svUlN8u2svbDzYS924Kxp6O128PZdfpM2KW5Q3nORZLK5kNmkijSN5KUXfgUn/M+qJWXyQXfkSMJh7XMcNuwfAeR9z6o70dq5HVT3X7xmrE3K693Fylm3w+ga20MriXKUF4Dzmv9LtY8OKsPOcW3JnAVDy9WoLzM1H2Y8zs64iVzUa/2vjtK3k+LN6UeYPh5xUbnjbqaEm/UVd1+xL2NdW+I6YpbqvyoPOci4eXgQwpUkQ6SpOxCBcoeo69p0B4O/XcW7mDefRX6Dm9JyESZMcVwTyQy9YuueHPwgWjrUzPqREm2q24/YL/rO69yPwj0H/OZ8Etxr3Bfz4Hqc16vvesdnYcPKVDrMVfy6EIFyhu0H47gk6L3A2eA0Z7JPpiHuHRuYiCESPNeI+4e8+cIPUeMA20NKaLSTarbL6b3nDtwDQevfb0KUg1YNeBcZD/Nw4dS+XtDWMxmngCuUIHyhChKoILbE2yVYrcnRFECFdwuhdErRqhuP7AUoiiBCm5faX15H2vAuUhYnrgEfRW1PcwW79jBddheNbZRoBL8RIFKABTcrfrAo7r9FKhgj1TyuycuFCgl3Vee0RSoNVmrPsCrbj8FKqHDWrg8bkLTGjh6G/Eq+w/nMHY0aJ0zTFaCl+4KTlHG3cEbfaJALbDxDiqh+xQqUElrUNIHFITAS1xbCASEhBRR6SbV7U+xBtW/qpTwovLKOM8w3BdrpBq6L8PjGe2rPhpivXSnj3Hos3vJZWQlnLQGlcaHnshxii+rNyQ+v9BMEl4U31/OfaG/XgSP8XP4D0hiXAC86KwT/4/70xCG+NEfjyHRkzghKFW3/y6KT/f1HxvjJ2JgNnD+MaTZpW+qkPPchvXFgh16d7QAYVsWrFBxckGlKCMLUm8MyOJDZpLI4gFFzi02k0Tcc1BdDD8pAilg5uL5lkA4sxM631DoOSh17Y99Dmp/iGnMwBxwZaFfVe8nhcKJew4qpQ+ZSaJQD8lReKFTfKKJTiYJDT0vJNh9ur7xZAxLkoFkbU+4bWg/Mxd3S14mif1zaQbH2Dapbr+XSULrYeRGmi8ySTTQ/y1i3SUWSEE7a8C5IDJOsU4miQw+5BRfkd6RpOzCBUqkofk4Qn+/iWbHgN7RcVijXHzNXQNGR3dy8U0kGhsTu5ebI05Z+71cfA+a0Pd06J1DnF3Jm4tPXc6JPSnDAW4uvg19SIHKgF6VU8sQKFVY0E4SIAF1CFCg1PHVxpZSoDZGxxNJgAQqJECBqhB+WVVToMoizXpIgATyJECBypOmpGVRoCR1DM0iARKIJUCBisVTj50UqHr4ka0ggW0jQIHaAo9ToLbAyWwiCdSQAAWqhk4NNqnQTBLByvidBEiABHIiwEwSOYGUuZhiM0nI3HLaRgIkoDIBZpJQ2XspbecUX0pQPIwESEAqApzik8odxRhDgSqGK0slARIolgAFqli+UpROgZLCDTSCBEhgTQIUqDWBqXg4BUpFr9FmEiABCtQW9AEK1BY4mU0kgRoSoEDV0KnBJlGggkT4nQRIQAUCFCgVvJTRRgpURoA8nQRIoBICFKhKsJdbKQWqXN6sjQRIIB8CFKh8OEpdCjNJSO0eGkcCJBBBgJkkIsDUaTMzSdTJm2wLCWwPAWaS2AJfc4pvC5zMJpJADQlwiq+GTg02iQIVJMLvJEACKhCgQKngpYw2UqAyAuTpJEAClRCgQFWCvdxKKVDl8mZtJEAC+RCgQOXDUepSKFBSu4fGkQAJRBCgQEWAqdPmsgTK+vUETU1D42+XsAsyO/MAAAhpSURBVOoC8MM5jB0NWucMk7mCjVLdfli4PG5C0xo4eitxr1Kec7F9e9OxgQJVrF+kKL0sgZq96kLTNGj7Q0xVHMxDvGVf9dEQbdrpY/w15ADJN6luPzDDcF9z+lX35VRa2qVzntuwvtjS8ggatunYQIEKkqzh97IESqCzv1iw1PndpPK2bVmwFBQnr3Gq2w9nMLZgS37RUx7nO9E2JBZtr/95/28yNlCgPHo1/p+ZJGrsXDZtCwl4055NnLy9rXX7mUmi1u5dNI6ZJLbAyWwiCdSQADNJ1NCpwSaVOcUXrJvfSYAESGBTApzi25ScQudRoBRyFk0lARJYEqBALVHU90OZAiUWQmVfzF7X087it8KBH6rbvwiSkN8BUnGWMOx9k7GBArXuaKXg8WUJ1DKUdG8IeQOC13PgMnxY62Ms/xh5r3Gq278aZi5zxJpsnJf2SPJ4xKZjAwXq3k+6fhvKEijvYbzm8SVuJQ8JTu1l90q08a3aD+oqa//yQV3JI9Yk7Cflhb0n/5o2HRsoUMlslT+iLIFSHhQbQAIkIBUBCpRU7ijGGApUMVxZKgmQQLEEKFDF8pWi9Nv/9VcnVcw//8+ZFPbQCBIgAQkIKJAu6ebZIs3Vv/4fCXhtaMI3G563NafxQd2tcTUbSgIpCaiRLokP6qZ0p8qHUaBU9h5tJ4EiCKiRLokCVYTvJSuzrDUoL1KHr9uQqANI+DzMenS8gZSv21iPm1xHbzo2cA1KLj8WYk1ZArV81oGv2yjEj5sUKtvzMOu34W4qiq/bWJ+eLGdsOjZQoGTxYIF2lCVQogmbpNQvsOm5FC3T8ySbNEh1+/m6jU28Lt85m4wNFCj5/Ji7RWUKVO7Gs0ASIIGtJUCB2gLXU6C2wMlsIgnUkAAFqoZODTaJAhUkwu8kQAIqEKBAqeCljDZSoDIC5OkkQAKVEKBAVYK93EopUOXyZm0kQAL5EKBA5cNR6lIoUFK7h8aRAAlEEKBARYCp02YKVJ28ybaQwPYQoEBtga8pUFvgZDaRBGpIgAJVQ6cGm0SBChLhdxIgARUIUKBU8FJGGylQGQHydBIggUoIUKAqwV5upRSocnmzNhIggXwIUKDy4Sh1KRQoqd1D40iABCIIUKAiwNRpcxkCZX8cob/fQutbA/puC70fTdzOFad4a+LsUQutjgFjt4XukxGmXxVqk+r2w8b0TR/d3RaMPR2t3R7Orm/lc4DynItEms2HFKgifSNJ2YUL1GyE3k4DvdfuK+W/3mDQ0dB+ZsKWhMHaZrht0J+bsITQzmcYPWpA+36EmQrCq7r9AGZvemjs9DD6vPCe/X4AXWtjcC1Rr6oB57V/G2uckNWHFKg1YKt6aLECZcN82oCm9WGuDNyz1wfQNAPDT2pSW7y/5gBDd3B0WnE9gKZp6L+TaICMwKu6/bBN9Hc0aE/NlRbOMHqoQdsbYrqytcqPynMuEl4OPqRAFekgScouVKDsMfqaBu3h0H9n4Q7m3VfuXZUkLNKZMcVwT7snupiNcCDa6hs005VY7lGq2w/Y7/rOxcBBoP+Yz4Rfuv4Lh3LhrtSmPueVxuT+MQ8fUqByd4t8BRYqUN6g/XAEnxS9X9xtaM9Wr4DlYxNq0dzEQAiRNvDdFeLPEXqOGAfaGlpIhRtVt19M7zl34BoOvGljF6dUA1YNOBfZS/PwoVT+3hDWNxuetzWnFSpQnhBFCVRwuwrUPSGKEqjgdtnapLr9ALyBKUqggtsrcUENOBfJLQ8femUMrou0tNiyKVAJfClQCYCCu1UfeFS3nwIV7JFKfvfEJXgxEbU9rJHesRSoMDo12UaBWtORqg/wqttPgUrosBYuj5vQtAaO3lrhx344hyGCTDpnmKwEL90dnKKMu4M3+uSJCwVqI3zbc1KhApW0BiV9QEFIP0hcWwgEhIQUUekm1e1PsQbVv6qU8KLyyjjPMNwXa6Qaui/D4xntqz4aYr10p49x6LN7yWVkJZy0BpXGh57I8Q4qqzckPr9QgfKi+P5y7gv99SJ4jJ/Df0AS4wLgRWed+H/cn4YwxI/+eCz5812q238Xxaf7+o+N8RMxMBs4/yhDD6qQ89yG9cWCHXp3tGBjWxasUHFy2aUoIwtlbwzI4kMKVBYPKHJuoQKFuOeguoo/BxUIZ3ZC5xsKPQelrv2xz0HtDzGNGZjL/FkunoNSmHORsOKeg0rpQwpUkQ6SpOxiBUrMx4hMEtq9TBKNJ+NFFgZJOKxlRjAbhpdJYv9cmsExtj2q2+9lktB6GLnPLywySTTQ/y1i3SUWSEE7a8C5IDJOsU4miQw+pEAV6R1Jyi5coAAscvE10ewY0Ds6DmuUi6+5a8Do6E4uvolEY2Ni93JzxClrv5eL70ET+p4OvXOIsyt5c/GpyzmxJ2U4wM3Ft6EPKVAZ0KtyahkCpQoL2kkCJKAOAQqUOr7a2FIK1MboeCIJkECFBChQFcIvq2pPoFp/7eP0xanvb/hepTmrsoixHhIggbIJzH71j01irDpyw+kZZl62N0qszxMo8dxE8C/4EF2JZrEqEiABElgS8O6WgmOU+E6BWmLiBxIgARIgARLIhwBz8eXDkaWQAAmQAAnkTIAClTNQFkcCJEACJJAPAQpUPhxZCgmQAAmQQM4EKFA5A2VxJEACJEAC+RCgQOXDkaWQAAmQAAnkTIAClTNQFkcCJEACJJAPAQpUPhxZCgmQAAmQQM4EKFA5A2VxJEACJEAC+RCgQOXDkaWQAAmQAAnkTIAClTNQFkcCJEACJJAPAQpUPhxZCgmQAAmQQM4EKFA5A2VxJEACJEAC+RCgQOXDkaWQAAmQAAnkTIAClTNQFkcCJEACJJAPAQpUPhxZCgmQAAmQQM4E/j9zxNWtIj3U2AAAAABJRU5ErkJggg==)"
      ]
    },
    {
      "cell_type": "markdown",
      "metadata": {
        "id": "j4mBOh1hd6sg"
      },
      "source": [
        "A를 다시 쓰면\n",
        "\n",
        "\n",
        "\n",
        "\n",
        "![image.png](data:image/png;base64,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)\n"
      ]
    },
    {
      "cell_type": "markdown",
      "metadata": {
        "id": "GV0T_VE3eHJb"
      },
      "source": [
        "위 식에서 특이값(singular matrix)는 ${\\sigma_i}^2 = {\\lambda_i}$로 부터 ${\\sigma_i} = {\\sqrt{\\lambda_i}}$가 됨.\n",
        "\n",
        "참고) $U,V$가 직교행렬이면, $UU^T = I, VV^T = I$가 성립."
      ]
    },
    {
      "cell_type": "markdown",
      "metadata": {
        "id": "X2oPyDzHwynJ"
      },
      "source": [
        "## 특이값분해와 고유값 분해의 관계\n",
        "\n",
        "$m{\\times}n$ 행렬 $A$의 특이값분해 $U$는 $AA^T$의 고유벡터이고, $V$는 $AA^T$의 고유벡터이며,$A$의 0이 아닌 특이값들의 제곱 ${\\sum}{\\sum}^T,{\\sum}^T{\\sum}$는 $AA^T,A^TA$의 고유값과 같음을 알 수 있다.\n",
        "\n",
        "참고) ${\\sigma_i} = {\\sqrt {\\lambda_i}}$이므로 ${\\sum}{\\sum}^T$ 또는 ${\\sum}^T{\\sum} = {\\lambda_i}$\n",
        "\n",
        "![image.png](data:image/png;base64,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)"
      ]
    },
    {
      "cell_type": "markdown",
      "metadata": {
        "id": "pTBDKD9d5mrv"
      },
      "source": [
        "즉, $u_1,u_2,\\cdots,u_k,\\cdots,u_m$는 $range(A)$의 직교정규벡터,$v_1,\\cdots,v_k,\\cdots,v_n$는 $N(A)^{\\perp}$의 직교정규벡터."
      ]
    },
    {
      "cell_type": "markdown",
      "metadata": {
        "id": "gxLk7ipH7Xk-"
      },
      "source": [
        "n개의 문서에 포함된 중복을 제거한 단어의 총개수가 m 개라고 합시다 이를 기반으로 문서-단어 행렬(DTM)인 A를 만든다면, m x n의 크기를 갖는 행렬 A가 됩니다. A를 특이값 분해하면 U ${\\sum} V_t$ 가 됩니다. 이때 ${\\sum}$는 총 r개의 특이값을 갖습니다. 사용자가 r보다 작은 k를 설정하고, k만큼의 특이값만 남기고 k x k 크기를 갖는 ∑k를 만듭니다. 특이값 분해를 하면 ${\\sum}$의 대각 원소는 크기 순으로 정렬이 되기 때문에, k개만 남기고 잘라주면 가장 중요한 특이값 k개만 남게 됩니다. 이와 대응되게 U와 $V_t$행렬에 대해서도 k개만 남기고 m x k크기를 갖는 $U_k$와 k x n크기를 갖는 $V_k^t$를 만들어 줍니다. k만큼만 남기고 잘라내었다는 것은 중요한 토픽만 남기고 불필요한 토픽은 제거한다는 의미입니다.\n",
        "\n",
        "<img src = 'https://img1.daumcdn.net/thumb/R1280x0/?scode=mtistory2&fname=https%3A%2F%2Fblog.kakaocdn.net%2Fdn%2FkKCM7%2FbtqB0gfNhvt%2Fk61nS6vgmRpmUISQv1k6G1%2Fimg.png'>\n",
        "\n",
        "\n",
        "이렇게 만든 Ak에는 중요한 토픽만 남게 됩니다. A 행렬의 크기도 m x n이고, $A_k$ 행렬의 크기도 m x n으로 동일하지만, A 행렬에는 불필요한 토픽이 많이 포함되어 있고, $A_k$ 행렬에는 불필요한 토픽은 제거된 상태, 즉 문서의 잠재 의미(주요 주제, 중요 단어)만 남아 있는 상태입니다.\n"
      ]
    },
    {
      "cell_type": "markdown",
      "metadata": {
        "id": "DNZjUKQl6-6f"
      },
      "source": [
        "![image.png](data:image/png;base64,iVBORw0KGgoAAAANSUhEUgAAAY8AAAEeCAYAAAByoJkBAAAgAElEQVR4Ae2dy+tlV7HH+09wIJEei4LgjZOIGjIIgmCIcIkTQUFEB+IrE40Kgg4NctFoQI0DUTQIKhoQ8TXwdQUdKBhQwQs34s1F0ZnpPE1nS51O/axevfY561TtWqtq7e+GH2c/Vq2q+tTa9d3nnO7f79KCDQRAAARAAATOJHDpzPEYDgIgAAIgAAILxAOLAARAAARA4GwCEI+zkcEABEAABEAA4oE1AAIgAAIgcDYBiMfZyGAAAiAAAiAA8cAaAAEQAAEQOJsAxONsZDAAARAAARCAeGANgAAIgAAInE0A4nE2MhiMInDLLbcsly5dWuiVt9o5voZXEAABPwIQDz+2u5/5rrvuOjR7avjljxSAVlA1oaida5mvjOfy5csXZnztWIwyNzK8++67b8iR55FzXzjBDggkJwDxSF7AyOHLBsuNlF+PNea1nGpCUTu3Zk/n77vvvpNNXsb98MMPV6fjPGgsbcfEoxxbnRAnQSAZAYhHsoJlClc24S3irglF7dwxX/QugJu5HEciwe8QHnrooYsxJDblJgWIxtImxUOOl3OR39p8cjz2QSALAYhHlkoljDOaeJBAsHBQsz+2sciQOJUb58ViQ9fXxIOuSb/SppwXxyCQiQDEI1O1ksXKTZYa9trGTZrGyq32jqL1nJyn3GfxoNe1j6TI5pgY8BxSgI6NL+fjdytlbDgGgUwE1u/qTFkg1pAEIoqHbPIsAjV48t2C/KhJfgwlxUfOW5tPftQl56uNxTkQyEAA4pGhSkljlOLBjZpfuYH2fudBKGWj53hqHyfV3ulwTuXHWXLOWrmk6HDutXE4BwJZCEA8slQqYZzcaLlBy1duoCPEg1GW8ZUCQjFyzGzD8XL8fP6UeMi58LEVU8NrZgIQj8zVCx67bM5roXIzprFyqz31t56T87Ts87wkFGVjZ/Gg5i/fPciPrMjHKfGQLErblhgxBgSiEYB4RKvIRPHIhrmWVgTxkKJQvqPgHOiVBaL8yIpy42skNuUmvz+p2ZbjcQwCGQjcuNIzRI0YUxDgxltrqJyAfOrnJ3LZzGWz5bGnzvHctVeKhf3wdZ6XrpXvPOTHTSx0pcDQPGviIe1rvjkGvIJANgIQj2wVSxRvi3iUzZUaLP1woz4lFNz45bhjiHj+2ivFW9vKsbUxUjzK8XxcilZtHpwDgSwEIB5ZKpUwzhbxoLTKxktNtiYKredOoeJmLl9r7yZ4HpnHmsCUObTOzT7wCgLZCEA8slUM8YIACIBAAAIQjwBFQAggAAIgkI0AxCNbxRAvCIAACAQgAPEIUASEAAIgAALZCEA8slUM8YIACIBAAAIQjwBFQAggAAIgkI0AxCNbxRAvCIAACAQgAPEIUASEAAIgAALZCEA8slUM8YIACIBAAAIQjwBFQAggAAIgkI0AxCNbxRAvCIAACAQgAPEIUASEAAIgAALZCEA8slUM8YIACIBAAAIQjwBFQAggAAIgkI0AxCNbxRAvCIAACAQgAPEIUASEAAIgMI6A/MuV8u+w0H7rHxkbF/04zxCPcezhGQRAIAAB+kNg/Ee+6I96sWDQPv1gqxOAeNS54CwIgMBOCMg/D0x//pj/qiS98v5OUJyVJsTjLFwYHIkA/51z+niBnxwpPvknYWnM3jZqhuXHL/J49qfpMn+Zr1wbxEQKB9vJc3tbO+fkC/E4h5YYS02J396K09jtTIAaQK0O/HfHO4cTxh0xITblRuf28DRNOVKu8qGCWTAb+q5DbmSzx4cNyeCc/RtX1znWOx3LTy9YaGMXAD8pyidLjogaRE1U+Prsr9w8S6GgNbuHJ+tja4MY1NYMCU1NbGZfK9r8IB4KcvREQ4sP4qGAt6EJN8jyCZJccI02dJduKmKwVwFdE49j7y7ofi7FNl3ROwYM8TgTNj2Z0ALjdx9nmmP4hgSoFtQgy43/6WVNVMqxMx/zGt3DO41aHWsPEHSuti74oyy6vldeNYbHzt145x0bvfNrtOj4SY5vzJ0jGZo+PSlyPWQg/I5EntvjPj997/WjGBICmTvty+M9roktc4Z4nEGTGhU/lXCD4uMzpsHQDQhwYyQRLzdqEDVRKcfNfsyM9rpG6eGCxYJZzF7znvlBPBpp80dVPBziwSTGvB77aIqaRk1UxkQ6xis3y9pHNGMi6u9Vigc9TNA9i207AhCPRpb0Frj2s+ebsxGdy7C1jw3RNK/hprW6dwElwWDRwDvR7W9DiEcDU7oJyxvx2JNvw5QYYiSwJh50np4497zJJ27mQKK6Ny4sHiSklD+2bQlAPE7w5CfZchiLB94Kl2T6HPPHhpJ/7VyfaOJ44YZZRkTnywegcsxsx/R9B96B+VUV4nGC7drNyI1qbzfkCVxdL/O7D/lx4p6fMGmtShbl/t4+YmXx6Lood+QM4nGk2PLmkyLB7zr4+t5uyiPIcAkEQGAnBCAeOyk00gQBEACBLQlAPLakiblAAARAYCcEIB47KTTSBAEQAIEtCUA8tqSJuUAABEBgJwQgHjspNNIEARAAgS0JhBUP/pdMeL32P9u3LPpWc6E21//WAQ3XzAw1+ZJN5py3jl3LMIJdaPGIAChCDLRgI25R4xrBSstCazciR+nTErfFVsaQfT87h5hd6fmnk+yLY6v4oy6yqHFtxf2cebQstHbnxOYx1hK3xdYjl1FzZucA8Ri1cs7wG3WRRY3rDLSbDdWy0NptFrhyIkvcFltluCHNsnOAeIRcVtcHFXWRRY3renp9jrQstHZ9slr3YonbYrseUb4r2TlAPBKsuaiLLGpcI0qqZaG1G5Gj9GmJ22IrY8i+n50DxCPBCoy6yKLGNaKkWhZauxE5Sp+WuC22Mobs+9k5QDwSrMCoiyxqXCNKqmWhtRuRo/RpidtiK2PIvp+dA8QjwQqMusiixjWipFoWWrsROUqflrgttjKG7PvZOUA8EqzAqIssalwjSqplobUbkaP0aYnbYitjyL6fnQPEI8EKjLrIosY1oqRaFlq7ETlKn5a4LbYyhuz72TlAPBKswKiLLGpcI0qqZaG1G5Gj9GmJ22IrY8i+n50DxCPBCoy6yKLGNaKkWhZauxE5Sp+WuC22Mobs+9k5QDwSrMCoiyxqXCNKqmWhtRuRo/RpidtiK2PIvp+dA8QjwQqMusiixjWipFoWWrsROUqflrgttjKG7PvZOUA8EqzAqIssalwjSqplobUbkaP0aYnbYitjyL6fnQPEI8EKjLrIosY1oqRaFlq7ETlKn5a4LbYyhuz72TlAPBKswKiLLGpcI0qqZaG1G5Gj9GmJ22IrY8i+n50DxCPBCoy6yKLGNaKkWhZauxE5Sp+WuC22Mobs+9k5QDwSrMCoiyxqXCNKqmWhtRuRo/RpidtiK2PIvp+dA8QjwQqMusiixjWipFoWWrsROUqflrgttjKG7PvZOUA8EqzAqIssalwjSqplobUbkaP0aYnbYitjyL6fnQPEI8EKjLrIosY1oqRaFlq7ETlKn5a4LbYyhuz72TlAPBKswKiLLGpcI0qqZaG1G5Gj9GmJ22IrY8i+n50DxCPBCoy6yKLGNaKkWhZauxE5Sp+WuC22Mobs+9k5QDwSrMCoiyxqXCNKqmWhtRuRo/RpidtiK2PIvp+dA8QjwQqMusiixjWipFoWWrsROUqflrgttjKG7PvZOUA8EqzAqIssalwjSqplobUbkaP0aYnbYitjyL6fnQPEI8EKjLrIosY1oqRaFlq7ETlKn5a4LbYyhuz72TlAPBKswKiLLGpcI0qqZaG1G5Gj9GmJ22IrY8i+n50DxCPBCoy6yKLGNaKkWhZauxE5Sp+WuC22Mobs+9k5QDwSrEDLIrt8+fJC9ms/dF27WeLS+oxqp2WhtRvNwRK3xXZ03lv6z84B4rHlanCaK+oiixqXUxmOTqtlobU7GkyHi5a4LbYdUuvmIjsHiEe3paJ3FHWRRY1LT1pvqWWhtdNHuo2lJW6L7TbRx5glOweIR4x1dDSKqIssalxHYTpd1LLQ2jml0TytJW6LbXOACQZm5wDxmHyR4TuPPgXWNgKtXZ+s1r1Y4rbYrkeU70p2DhCPBGsu6iKLGteIkmpZaO1G5Ch9WuK22MoYsu9n5wDxSLACoy6yqHGNKKmWhdZuRI7SpyVui62MIft+dg4QjwQrMOoiixrXiJJqWWjtRuQofVrittjKGLLvZ+cA8UiwAqMusqhxjSiploXWbkSO0qclboutjCH7fnYOEI8EKzDqIosa14iSallo7UbkKH1a4iZb/FxjIJlm24d4JKiY5Ub1TC9qXJ45r82tZaG1W4uj1/mscffiswc/EI8EVY56o0aNa0RJtSy0diNylD6zxi1zwL6NAMTDxq+LddQbNWpcXYpSONGy0NoV7rsfZo27O6iJHUI8EhQ36o0aNa4RJdWy0NqNyFH6zBq3zAH7NgIQDxu/LtZRb9SocXUpSuFEy0JrV7jvfpg17u6gJnYI8UhQ3Kg3atS4RpRUy0JrNyJH6TNr3DIH7NsIQDxs/LpYR71Ro8bVpSiFEy0LrV3hvvth1ri7g5rYIcQjQXGj3qhR4xpRUi0Lrd2IHKXPrHHLHLBvIwDxsPHrYh31Ro0aV5eiFE60LLR2hfvuh1nj7g5qYocQjwTFjXqjRo1rREm1LLR2I3KUPrPGLXPAvo0AxMPGr4t11Bs1alxdilI40bLQ2hXuux9mjbs7qIkdQjwSFDfqjRo1rhEl1bLQ2o3IUfrMGrfMAfs2AhAPG78u1lFv1KhxdSlK4UTLQmtXuO9+mDXu7qAmdgjxSFDcqDdq1LhGlFTLQms3IkfpM2vcMgfs2whAPGz8ulhHvVGjxtWlKIUTLQutXeG++2HWuLuDmtghxCNBcaPeqFHjGlFSLQut3Ygcpc+sccscsG8jAPGw8etiHfVGjRpXl6IUTrQstHaF++6HWePuDmpihxCPBMWNeqNGjWtESbUstHYjcpQ+s8Ytc8C+jQDEw8avi3XUGzVqXF2KUjjRstDaFe67H2aNuzuoiR1CPBIUN+qNGjWuESXVstDajchR+swat8wB+zYCEA8bvy7WUW/UqHF1KUrhRMtCa1e4736YNe7uoCZ2CPFIUNyoN2rUuEaUVMtCazciR+kza9wyB+zbCEA8bPy6WEe9UaPG1aUohRMtC61d4b77Yda4u4Oa2CHEI0Fxo96oUeMaUVItC63diBylz6xxyxywbyMA8bDx62Id9UaNGleXohROtCy0doX77odZ4+4OamKHEI8ExY16o0aNa0RJtSy0diNylD6zxi1zwL6NAMTDxq+LddQbNWpcXYpSONGy0NoV7rsfZo27O6iJHUI8EhQ36o0aNa4RJdWy0NqNyFH6zBq3zAH7NgKhxYMWKH6uMbCV2ccatbl+fWooZ2aoyRc28xAIKx7zIEYmIAACIDAfAYjHfDVFRiAAAiDgTgDi4Y4YDkAABEBgPgIQj/lqioxAAARAwJ0AxMMdMRyAAAiAwHwEIB7z1RQZgQAIgIA7AYiHO2I4AAEQAIH5CEA85qspMgIBEAABdwIQD3fEcAACIAAC8xGAeMxXU2QEAiAAAu4EIB7uiOEABEAABOYjAPGYr6bICARAAATcCUA83BHDAQiAAAjMRwDiMV9NkREIgAAIuBOAeLgjhgMQAAEQmI8AxGO+miIjEAABEHAnAPFwRwwHIAACIDAfAYjHfDVFRiAAAiDgTgDi4Y4YDkAABEBgPgIQj/lqioxAAARAwJ0AxMMdMRyAAAiAwHwEIB7z1RQZgQAIgIA7AYiHO2I4AAEQAIH5CEA85qspMgIBEAABdwIQD3fEcAACegJ33XXXcunSpeXy5cv6SWAJAg4EIB4OUDHlNQLU8KjxnfoBr3UCGvEoeUvh4Wu33HLLqlP2SWNpu/vuu1drKOdenRAXpiQA8ZiyrDGS2pN4PPzww4cGS412y40beUuTvu+++042eZ6PhIFirm0sMDSWtmPiUY6tzYdzcxKAeMxZ13BZcXOlZkNNbraNm+hI8ZBiLfkSexafhx566EJganWQAkRjaZPiIeeVc81aV5kv9q8nAPG4ngeOnAhAPHRg+Z0CN/+1WSTfUwLGIlP76Krmb008KBbp91SMa7HjfE4CEI+cdUsXtWwy5RMvNTF6cqVX+TRLSXKj449QOHFpw+fKxsfvBnhuHidf2YbHln5k3DxGNmfZWPk6vZbzcB48Rs7B8cjcaRzZcHwtjZnnpleKe22TMZdjeA4Z37HxZC+v87uVcl4cz0cA4jFfTUNmJJvwmniUDZYS4XNlMz4lHtwE5atsiDS3vCb3uQHKj3DkddrnuWTjlGM4Xpm3vE77PIZiOeaLxraIRy2W2mKQMclaSPGS4iPnrc0nY5fz1cbi3DwEIB7z1DJ0JmsNi4JmIaAmyU2Zk9GIRzkPHZcNWPqUDY/8S/GgcXLjeMpmzj7K+NlPeZ7Hc5Pmeek8b7KZl/54TPlKfnhufq3ZclwyP36XI8/R/HLO0h8dyzgly9pYnJuHwL9X6jw5IZOABFrFowydm6p8Sqcxx5pf2Sy5KfJ5GUvZ1Ev/5fFaI+VGLeeTfvh6+UrN9ljzLWMv41k7Zjv2x7nzePLL1/gcsy4FYC1ntpNzsfDyNbzOSwDiMW9tQ2UmG2nZnGpCwMFzQ9tSPGSzPtXsuMHWXjlGeuXrUjykH75evhILOa6Mh0WgbP7S97F9Zkt+y7k5ljIGqpXcTokHx0jzlbZyHuzPRQDiMVc9w2YTSTxkLLLZS3hyjGy6a42UG7GcT85RCqb0dUw8uPlrxUPOXcbATZ9eOS/yV258jXIsN5ljzbYcj+N5CNy4GubJDZkEIiCbTNnEuEHWmg9fk0+1siFKG26GZaOtned3NDRvKQ50TDGyIFDsvPE5epUbnydfcpN+5HnyIceyvYxdxiDPy3nkPs0hY6Vrkp/Mk66V85N9WRsatyYe0r7mW8aG/fkIXH8HzJcfMgpCQCseZYOSTZb2teJBjZTnKl/pmoxXXpfNWKKVIkHjWRjW4pdjaB7ZoKU/nrdVPKSt3Od4ZMy0L8fQfm1bi03alqJVmwfn5iJQXy1z5YhsAhCQzbh8uuWGLIVAhlw2L5qrZkMNkhpa2WjXzpMPbs7cCGVsZeOnYxmLjFHmR3PJZl1eK6/zPHJuGsPvTmi/zIltylcaW/7InMrxzIZsZMxyXBmXnP/Y3HIO7M9HAOIxX02REQiAAAi4E4B4uCOGAxAAARCYjwDEY76aIiMQAAEQcCcA8XBHDAcgAAIgMB8BiMd8NUVGIAACIOBOAOLhjhgOQAAEQGA+AhCP+WqKjEAABEDAnQDEwx0xHIAACIDAfAQgHvPVFBmBAAiAgDsBiIc7YjgAARAAgfkIQDzmqykyAgEQAAF3AhAPd8RwAAIgAALzEYB4zFdTZAQCIAAC7gQgHu6I4QAEQCAygWO/nn/tNz1HzqdXbBCPXqThBwRAICQB+rXy/Ovo6dfPs2DQPv1gqxOAeNS5nH2W/t4CL7qzjWEAAiAwjAD9vRXe6D7mv1FCr7zP1/H6bwIQj3+zUO/xH/vBQlMjhOEGBHgdyj/WJPf38hRdcpB5075kIoWD7eS5Dcoy7RQQjzNLW3uHQaJBCxKbPwHizzc/f9RAXmVToDF73fgvLJb5E7M9PdzwPSnXCDNhRvRdh9zIZs9rR7Jo2UfHa6H0/BhuUOUCowVaW6RnTI2hZxCgRlj7iJBqsHcR56ZZCgWt2T09UfO7CPmug5cYsaidx33MhNpeIR5tnA6jqDHRoivFgxpZ+RRzxrQYegaBY02B6lATlTOmn2LomrhOkVxjEmvr5Ni7C7qvS9FtdLfLYRCPxrLTUwktLH73Ic1KMZHXsL8tAaoBNceaWLO4b+sx32y8Rvf0TqNWpdp6WFs79NBB1+hn79xqLGvnIB41KsU5alT8RMs3ZjEEh50IrH00RTVaawydQgvjhp+6idWeN1oPkgHty+M9s9kid4hHA0USDn4a4SdfPm4wx5ANCdC7PBZyOS3XRZ7b6z6Lx97XKK0VFgtmstc14ZE3xOMEVf6oiodxk9r7jck8er5yA6B3f+VGTaImKuW42Y+ZUe1jvdlzL/OT4kFrg+5dbNsRgHicYMmfg5avuDlPgHO4fOyjKWoUNVFxCCP0lLROT3GgJspP5KGTMQZHgsGisfZgsRcWRpRVc4hHFcu1k3QTljfisQZ2ZCpc2oAA1YKaY7mtPW3vrTHIJ21mRGzovNyokZbrWl6fZZ/Fg9YMcahte2FRy9167sY70TrjJPbckMp0WDzwFrgk43+8Jh50vmyQFM2eGgM3yrIKJYPyHfTMIkLvro69E9sTi3JdbHEM8VihuHYzkmgcW5Ar0+H0BgSYvRTu2jlytafGQGu1zFcey49Y+aFo7Ul8gzKFmYLFYy2gPbFYY2A5D/Go0JM3nnwy43cdfF3elJVpcMqBAL/74BrQa60RojHU4ZPYkthgWw5foIOFfiVAPPTsYBmYAJpkvTj0NC4fiOqj9nEWLGx1hnjY+ME6KAE0hnph6Lsh/tiv9j1R3WrOs2BhqyvEw8YP1kEJoDHUCyO/H6mP2M9ZsLDVGuJh4wfroATQGIIWBmFNQwDiMU0pkQgIgAAI9CMA8ejHGp5AAARAYBoCYcVD/lNM7Mcsk1ddPvaxjy0//vGPDz+0n+VY0xW8GLbOS5y1jDX5kk1rbHsYp2UYwS5mV3p+gUUAFCEGuokibh5xeczZgx01Yc3G+T72+DMH88cee2z5wQ9+sNx///3LZz7zmeWee+5Z3vve9y6/+93vNNPfYHP1ueeWq1efO5xn3zcMajihzZemtvhtCC3NkOwcYnYlLLDrboCoi8wjLo85r4PpdEBP75qN833mn88tf/jDH5bXvva1y6233rq86U1vWl7+8pcvn/rUpw5C8uijj2qmv8EG4nEDkmEnuPbDAjA6hngYAfYwj7rIPOLymLNHjazi8X+P/v/yHzffvLztbW9bHn/88eWZZ545/E9wyxN+Le+txEObL8WUtcY1npZz2TlAPCzV72QbdZF5xOUxZ48yaZs85/uJ//rk8rKXvWz5xz/+cQj32WefXV7ykpcsn/3sZy/Cv3LlSvVXsVwMaNiBeDRA6jSEa9/J3eZuIB6bI91+wqiLzCMujzm3r8iNM1rF4447/3O55wMfuJj4r3/96/KiF71oefDBBw/nfvrTnx4+yrL+LqatxEObLyWTtcYXxdloJzsHiMdGC8FzmqiLzCMujzk9a8Nzaz/G4Xxvve325dOf/jRPtzzwwAPLi1/84uWRRx5Z6PuOb37zm8vnP//55dWvfvVhzHPPXfvS+8KgcQfi0QiqwzCufQdXLi4gHi5Yt5006iLziMtjzm2rUZ/NKh73fuKTy5133rn85S9/WX74wx8uL33pSw9iIb3Rb3GOIh7afCmfrDWWtdhiPzsHiMcWq8B5jqiLzCMujzmdy3OYXvsxDud75fEnl69+9avLRz7ykeWDH/zg8otf/OKGsL/97W9DPG6gkvcE1z5rBhCPBJWLusg84vKYs0eJreLx5FPX/p/HsVgjiYc2X8ova42P1UZzLTsHiIem6p1toi4yj7g85uxRLu3HOJzvlSeeWU59i/GNb3xjedWrXnVIB9959Kiqrw+uva8Xv9khHn5sN5s56iLziMtjzs0KcWQiq3jQ/zBfE4+nn356+da3vrW8+93vXl7/+tcf/uPgr3/96yPRrF/a6gtzbb4UWdYar1PVXcnOAeKhq3tXq6iLzCMujzl7FEv7MQ7ne0w8KP6nnnrqkMbXv/715Utf+pI6JYiHGt3mhlz7zSfuNCHEoxNoi5uoi8wjLo85Lexbba3i0fKxFcXyne985/CvsVrjKsdtJR7afCmerDUuWVqPs3OAeFhXQAf7qIvMIy6POTuU6PCbaTV+ON/Hn3x69WOrcl76GOs973nP8tvf/ra8dPIY4nESUbcBXPtuDjd2BPHYGKjHdFEXmUdcHnN61KScU/sdAOd75QzxoF9d8sUvfnH505/+VIZx8ngr8dDmSwFyzieDnXxAdg4QjwQLNOoi84jLY84eJdZ+jMP5nvrOo5bDz372s+V973vfQu9EaKN/gfXnP/95+e53v7t87WtfW77yla8cvh/5/e9/f2EO8bhAMXyHaz88EGUAEA8luJ5mUReZR1wec/ao1QjxoHce9H8/aHviiSeWD3/4w8vNN9+83H777csLX/jC5Y1vfOPh92HJ2LYSDznnuXyz1vjcPE+Nz84B4nGqwgGuR11kHnF5zNmjhNqPcThfzTsPzos+xnrHO96xvOIVrzj81l36le70q07oX2aVG8SjJDLumGs/LgKbZ4iHjV8X66iLzCMujzl7FMkqHud8YV7m85Of/GR5wQtesPzqV7+6uPSGN7xheetb33pxTAJD/9yX/orgFn9JUJsvBUQ1xs81BhcFSrgD8UhQtKgN1SMujzl7lFj7MQ7naxEP+rjqjjvuuPjugz7Ces1rXrO8853vvEj9c5/73PKFL3zh4ph22Pd1JxsPLOJhsW0ML8Ww7BwgHgmWmeUm90zPIy6POT0Z8NxW8Wj9fx7sT77SR1Zvf/vbL0795je/OXzn8b3vfe/wJfrHP/7x5aabbjr8UkX6J77/+8gjh7EW1tp8yXH2pnkB2rhjYWh0vYk5xGMTjL6TWG5yz8g84vKY05MBz61tiJyv5TuPL3/5y8ttt922/P3vf1/+9re/LfSR1Zvf/OaDcFB8v/zlL5dXvvKVy/e///3lj3/8n+XJ5/+3OvvmHM55tTQ+i+05MUYfm50DxCP6CjN+vOCZnqX5rMXlMeeary3PjxQP+nvn9Iek3vWudx2+OL///vsX+pO1vNE/3X3d6153OKTfn8V/R8rCWpsvBZG9aTJX66uFodX3FvYQjy0oOs9huck9Q/OIy2NOTwY8t7Yhcr5Xnpf0BacAAAa/SURBVGj/H+bss3yl/+dR+227H/3oR5f3v//9h+FXr14d/oV59qZZctceZ+cA8dBWvqMdN5iOLptcecTlMWdTMsZBZvE443+Yr4XK4iEFhPbf8pa3LPfee+/y85//9/KjH/3owtzCWpsvOc/eNC8AGncsDI2uNzGHeGyC0XcSy03uGZlHXB5zejLgubUNkfP957NXearNXx988MHDdx4f+tCHDn8PnR2wbz4+59XS+Cy258QYfWx2DhCP6CsM33kkqJD+adrSwK1gLL61YkkxZ2+aVu5sb2HIc4x8hXiMpN/o23KTN7pQDfOIy2NOVXJnGmkbIuU78ufMNC+GWxqfxfYigAl2snOAeCRYhFEbqkdcHnP2KLFWPLI2EG2+VIusOW+9jiwMt45FMx/EQ0Ots03UhuoRl8ecPcqlbYhZG4glbottj1r28pGdA8Sj10ox+LE01MuXLx/9WISuazdLXGs+PeZc87Xl+b2JhzZfYp69aW61biwMt4rBMg/Ew0Kvk23UhuoRl8ecPcqkbYhZG4glbottj1r28pGdA8Sj10ox+InaUD3i8pjTgL7ZdG/ioc2XgGZvms2L4sRAC8MTU3e5DPHogtnmJGpD9YjLY04b/TZrbUPM2kAscVts26qRY1R2DhCPBOvM0lDxnUefAu9NPLT5UjWyN82tVpSF4VYxWOaBeFjodbK1iIdniB5xeczpyYDn1jbErA3EErfFlnnP8JqdA8QjwSqM2lA94vKYs0eJ9yYe2nypFtmb5lbrycJwqxgs80A8LPQ62UZtqB5xeczZo0zahpi1gVjittj2qGUvH9k5QDx6rRSDn6gN1SMujzkN6JtN9yYe2nwJKDVNsqcf2t/zcfMCCzgQ4hGwKGVIURuqR1wec5Y8PY61T5GWJuyRR+ucWeNuzQ/jThOAeJxmNHxE1IbqEZfHnD0KuDfx0Obboxbw0YcAxKMPZ5OXqA3VIy6POU3wG421T+JZm3DWuBvLiWENBCAeDZBGD4naUD3i8pizR/32Jh7afHvUAj76EIB49OFs8hK1oXrE5TGnCX6jsfZJPGsTzhp3YzkxrIEAxKMB0ughURuqR1wec/ao397EQ5tvj1rARx8CEI8+nE1eojZUj7g85jTBbzTWPolnbcJZ424sJ4Y1EIB4NEAaPSRqQ/WIy2POHvXbm3ho8+1RC/joQwDi0YezyUvUhuoRl8ecJviNxton8axNOGvcjeXEsAYCEI8GSKOHRG2oHnF5zNmjfnsTD22+PWoBH30IQDz6cDZ5idpQPeLymNMEv9FY+ySetQlnjbuxnBjWQADi0QBp9JCoDdUjLo85e9Rvb+KhzbdHLeCjDwGIRx/OJi9RG6pHXB5zmuA3GmufxLM24axxN5YTwxoIQDwaII0eErWhesTlMWeP+u1NPLT59qgFfPQhAPHow9nkJWpD9YjLY04T/EZj7ZN41iacNe7GcmJYAwGIRwOk0UOiNlSPuDzm7FG/vYmHNt8etYCPPgQgHn04m7xEbagecXnMaYLfaKx9Es/ahLPG3VhODGsgAPFogDR6SNSG6hGXx5w96rc38dDm26MW8NGHAMSjD2eTl6gN1SMujzlN8BuNtU/iWZtw1rgby4lhDQQgHg2QRg+J2lA94vKYs0f99iYe2nx71AI++hCAePThbPIStaF6xOUxpwl+o7H2STxrE84ad2M5MayBAMSjAdLoIVEbqkdcHnP2qN/exEObb49awEcfAhCPPpxNXqI2VI+4POY0wW801j6JZ23CWeNuLCeGNRCAeDRAGj0kakP1iMtjzh7125t4aPPtUQv46EMA4tGHs8lL1IbqEZfHnCb4jcbaJ/GsTThr3I3lxLAGAhCPBkijh0RtqB5xeczZo357Ew9tvj1qAR99CEA8+nA2eYnaUD3i8pjTBL/RWPsknrUJZ427sZwY1kAA4tEAafSQqA3VIy6POXvUb2/ioc23Ry3gow8BiEcfziYvURuqR1wec5rgNxprn8SzNuGscTeWE8MaCIQWD2ok+LnGoKGW3Yd41YYaEzVj+qH9LMeaAmTJrVYLTb6wmYdAWPGYBzEyAQEQAIH5CEA85qspMgIBEAABdwIQD3fEcAACIAAC8xGAeMxXU2QEAiAAAu4EIB7uiOEABEAABOYjAPGYr6bICARAAATcCUA83BHDAQiAAAjMRwDiMV9NkREIgAAIuBOAeLgjhgMQAAEQmI8AxGO+miIjEAABEHAnAPFwRwwHIAACIDAfAYjHfDVFRiAAAiDgTgDi4Y4YDkAABEBgPgIQj/lqioxAAARAwJ3AvwBFIlDC/vNARgAAAABJRU5ErkJggg==)"
      ]
    },
    {
      "cell_type": "markdown",
      "metadata": {
        "id": "UN4kwSid7Bwd"
      },
      "source": [
        "절단된 SVD는 대각 행렬 Σ의 대각 원소의 값 중에서 상위값 t개만 남게 됩니다. 절단된 SVD를 수행하면 값의 손실이 일어나므로 기존의 행렬 A를 복구할 수 없습니다. 또한, U행렬과 V행렬의 t열까지만 남깁니다. 여기서 t는 우리가 찾고자하는 토픽의 수를 반영한 하이퍼파라미터값입니다. 하이퍼파라미터란 사용자가 직접 값을 선택하며 성능에 영향을 주는 매개변수를 말합니다. t를 선택하는 것은 쉽지 않은 일입니다. t를 크게 잡으면 기존의 행렬 A로부터 다양한 의미를 가져갈 수 있지만, t를 작게 잡아야만 노이즈를 제거할 수 있기 때문\n",
        "\n",
        "# 잠재 의미 분석(Latent Semantic Analysis,LSA)\n",
        "\n",
        "실습\n",
        "\n",
        "\n",
        "![image.png](data:image/png;base64,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)"
      ]
    },
    {
      "cell_type": "code",
      "execution_count": null,
      "metadata": {
        "id": "s-6CCyfN7Mxh"
      },
      "outputs": [],
      "source": [
        "import numpy as np\n",
        "A=np.array([[0,0,0,1,0,1,1,0,0],[0,0,0,1,1,0,1,0,0],[0,1,1,0,2,0,0,0,0],[1,0,0,0,0,0,0,1,1]])\n",
        "np.shape(A)"
      ]
    },
    {
      "cell_type": "markdown",
      "metadata": {
        "id": "a9Hu6OyW7TJN"
      },
      "source": [
        "4 × 9의 크기를 가지는 DTM이 생성되었습니다. 이에 대해서 풀 SVD(full SVD)를 수행해보겠습니다. 단, 여기서는 대각 행렬의 변수명을 Σ가 아니라 S를 사용합니다. 또한 V의 전치 행렬을 VT라고 하겠습니다."
      ]
    },
    {
      "cell_type": "code",
      "execution_count": null,
      "metadata": {
        "id": "9bD8flqB7M00"
      },
      "outputs": [],
      "source": [
        "U, s, VT = np.linalg.svd(A, full_matrices = True)"
      ]
    },
    {
      "cell_type": "code",
      "execution_count": null,
      "metadata": {
        "id": "_YMnwG617M4A"
      },
      "outputs": [],
      "source": [
        "print(U.round(2))\n",
        "np.shape(U)"
      ]
    },
    {
      "cell_type": "markdown",
      "metadata": {
        "id": "Ds_bGqGu7qwA"
      },
      "source": [
        "4 × 4의 크기를 가지는 직교 행렬 U가 생성되었습니다. 이제 대각 행렬 S를 확인해봅시다."
      ]
    },
    {
      "cell_type": "code",
      "execution_count": null,
      "metadata": {
        "id": "VMCW2DIC7M8O"
      },
      "outputs": [],
      "source": [
        "print(s.round(2))\n",
        "np.shape(s)"
      ]
    },
    {
      "cell_type": "markdown",
      "metadata": {
        "id": "9PGoQAMI7t4G"
      },
      "source": [
        "Numpy의 linalg.svd()는 특이값 분해의 결과로 대각 행렬이 아니라 특이값의 리스트를 반환합니다. 그러므로 앞서 본 수식의 형식으로 보려면 이를 다시 대각 행렬로 바꾸어 주어야 합니다. 우선 특이값을 s에 저장하고 대각 행렬 크기의 행렬을 생성한 후에 그 행렬에 특이값을 삽입해도록 하겠습니다."
      ]
    },
    {
      "cell_type": "code",
      "execution_count": null,
      "metadata": {
        "id": "nXa7ru6J7M_Z"
      },
      "outputs": [],
      "source": [
        "S = np.zeros((4, 9)) # 대각 행렬의 크기인 4 x 9의 임의의 행렬 생성\n",
        "S[:4, :4] = np.diag(s) # 특이값을 대각행렬에 삽입\n",
        "print(S.round(2))\n",
        "np.shape(S)"
      ]
    },
    {
      "cell_type": "markdown",
      "metadata": {
        "id": "Z0kM_nEg7z3W"
      },
      "source": [
        "4 × 9의 크기를 가지는 대각 행렬 S가 생성되었습니다. 2.69 > 2.05 > 1.73 > 0.77 순으로 값이 내림차순을 보이는 것을 확인할 수 있습니다."
      ]
    },
    {
      "cell_type": "code",
      "execution_count": null,
      "metadata": {
        "id": "-5Vfj75l7NCi"
      },
      "outputs": [],
      "source": [
        "print(VT.round(2))\n",
        "np.shape(VT)"
      ]
    },
    {
      "cell_type": "markdown",
      "metadata": {
        "id": "ngnnAGap73rh"
      },
      "source": [
        " 9× 9의 크기를 가지는 직교 행렬 VT(V의 전치 행렬)가 생성되었습니다. 즉, U × S × VT를 하면 기존의 행렬 A가 나와야 합니다. Numpy의 allclose()는 2개의 행렬이 동일하면 True를 리턴합니다. 이를 사용하여 정말로 기존의 행렬 A와 동일한지 확인해보겠습니"
      ]
    },
    {
      "cell_type": "code",
      "execution_count": null,
      "metadata": {
        "id": "BcwAz9tH72bT"
      },
      "outputs": [],
      "source": [
        "np.allclose(A, np.dot(np.dot(U,S), VT).round(2))\n",
        "#allclose : 2개의 행렬이 동일하면 True를 리턴한다."
      ]
    },
    {
      "cell_type": "markdown",
      "metadata": {
        "id": "Ap0Agp1k8oGk"
      },
      "source": [
        "지금까지 수행한 것은 풀 SVD(Full SVD)입니다. 이제 t를 정하고, 절단된 SVD(Truncated SVD)를 수행해보도록 합시다. 여기서는 t=2로 하겠습니다. 우선 대각 행렬 S 내의 특이값 중에서 상위 2개만 남기고 제거해보도록 하겠습니다."
      ]
    },
    {
      "cell_type": "code",
      "execution_count": null,
      "metadata": {
        "id": "d0Botdcb72eY"
      },
      "outputs": [],
      "source": [
        "S=S[:2,:2]\n",
        "print(S.round(2))"
      ]
    },
    {
      "cell_type": "markdown",
      "metadata": {
        "id": "yi5cDe6p8rvt"
      },
      "source": [
        "상위 2개의 값만 남기고 나머지는 모두 제거된 것을 볼 수 있습니다. 이제 직교 행렬 U에 대해서도 2개의 열만 남기고 제거합니다."
      ]
    },
    {
      "cell_type": "code",
      "execution_count": null,
      "metadata": {
        "id": "v8UdhZWS72jR"
      },
      "outputs": [],
      "source": [
        "U=U[:,:2]\n",
        "print(U.round(2))"
      ]
    },
    {
      "cell_type": "markdown",
      "metadata": {
        "id": "lSRrnKNw8uZZ"
      },
      "source": [
        "2개의 열만 남기고 모두 제거가 된 것을 볼 수 있습니다. 이제 행렬 V의 전치 행렬인 VT에 대해서 2개의 행만 남기고 제거합니다. 이는 V관점에서는 2개의 열만 남기고 제거한 것이 됩니다."
      ]
    },
    {
      "cell_type": "code",
      "execution_count": null,
      "metadata": {
        "id": "PXqIV1G372mp"
      },
      "outputs": [],
      "source": [
        "VT=VT[:2,:]\n",
        "print(VT.round(2))"
      ]
    },
    {
      "cell_type": "markdown",
      "metadata": {
        "id": "A9L5tgVVBvzD"
      },
      "source": [
        "이제 축소된 행렬 U, S, VT에 대해서 다시 U × S × VT연산을 하면 기존의 A와는 다른 결과가 나오게 됩니다. 값이 손실되었기 때문에 이 세 개의 행렬로는 이제 기존의 A행렬을 복구할 수 없습니다. U × S × VT연산을 해서 나오는 값을 A_prime이라 하고 기존의 행렬 A와 값을 비교해보도록 하겠습니다."
      ]
    },
    {
      "cell_type": "code",
      "execution_count": null,
      "metadata": {
        "id": "c9JbC_D372qC"
      },
      "outputs": [],
      "source": [
        "A_prime=np.dot(np.dot(U,S), VT)\n",
        "print(A)\n",
        "print(A_prime.round(2))"
      ]
    },
    {
      "cell_type": "markdown",
      "metadata": {
        "id": "uGUG_ZeEBz6y"
      },
      "source": [
        "대체적으로 기존에 0인 값들은 0에 가가운 값이 나오고, 1인 값들은 1에 가까운 값이 나오는 것을 볼 수 있습니다. 또한 값이 제대로 복구되지 않은 구간도 존재해보입니다. 이제 이렇게 차원이 축소된 U, S, VT의 크기가 어떤 의미를 가지고 있는지 알아봅시다.\n",
        "\n",
        "축소된 U는 4 × 2의 크기를 가지는데, 이는 잘 생각해보면 문서의 개수 × 토픽의 수 t의 크기입니다. 단어의 개수인 9는 유지되지 않는데 문서의 개수인 4의 크기가 유지되었으니 4개의 문서 각각을 2개의 값으로 표현하고 있습니다. 즉, U의 각 행은 잠재 의미를 표현하기 위한 수치화 된 각각의 문서 벡터라고 볼 수 있습니다. 축소된 VT는 2 × 9의 크기를 가지는데, 이는 잘 생각해보면 토픽의 수 t × 단어의 개수의 크기입니다. VT의 각 열은 잠재 의미를 표현하기 위해 수치화된 각각의 단어 벡터라고 볼 수 있습니다.\n",
        "\n",
        "이 문서 벡터들과 단어 벡터들을 통해 다른 문서의 유사도, 다른 단어의 유사도, 단어(쿼리)로부터 문서의 유사도를 구하는 것들이 가능해집니다.\n",
        "\n",
        "\n",
        "## 뉴스 데이터로 실습\n",
        "\n",
        "사이킷런에서는 Twenty Newsgroups이라고 불리는 20개의 다른 주제를 가진 뉴스그룹 데이터를 제공합니다. 앞서 언급했듯이 LSA가 토픽 모델링에 최적화 된 알고리즘은 아니지만, 토픽 모델링이라는 분야의 시초가 되는 알고리즘입니다. 여기서는 LSA를 사용해서 문서의 수를 원하는 토픽의 수로 압축한 뒤에 각 토픽당 가장 중요한 단어 5개를 출력하는 실습으로 토픽 모델링을 수행합니다.\n",
        "\n",
        "- 뉴스그룹 데이터는 뉴스 데이터가 아닙니다."
      ]
    },
    {
      "cell_type": "code",
      "execution_count": null,
      "metadata": {
        "id": "hxawpqC3cj8w"
      },
      "outputs": [],
      "source": [
        "import pandas as pd\n",
        "from sklearn.datasets import fetch_20newsgroups\n",
        "\n",
        "dataset = fetch_20newsgroups(shuffle=True, random_state=1, remove=('headers', 'footers', 'quotes'))\n",
        "documents = dataset.data\n",
        "len(documents)"
      ]
    },
    {
      "cell_type": "code",
      "execution_count": null,
      "metadata": {
        "id": "RzEDavAlcj_i"
      },
      "outputs": [],
      "source": [
        "dataset.target_names"
      ]
    },
    {
      "cell_type": "markdown",
      "metadata": {
        "id": "rIBCth-175-C"
      },
      "source": [
        "서로 다른 20개의 토픽을 보여줍니다.\n",
        "\n",
        "LSA를 하기 전에 데이터 전처리부터 해보겠습니다. 정규 표현식을 이용해 알파벳 이외의 문자는 제거해주고, 길이가 3 이하인 문자도 제거하겠습니다. 그리고 대소문자의 구분을 없애기 위해 모두 소문자로 바꿔보겠습니다."
      ]
    },
    {
      "cell_type": "code",
      "execution_count": null,
      "metadata": {
        "id": "JhcY8UOf743L"
      },
      "outputs": [],
      "source": [
        "news_df = pd.DataFrame({'document': documents})\n",
        "\n",
        "# 알파벳 이외의 문자 제거\n",
        "news_df['clean_doc'] = news_df['document'].str.replace(\"[^a-zA-Z#]\", \" \")\n",
        "\n",
        "# 길이가 3이하인 문자 제거\n",
        "news_df['clean_doc'] = news_df['clean_doc'].apply(lambda x: ' '.join([w for w in x.split() if len(w) > 3]))\n",
        "\n",
        "# 소문자로 바꾸기\n",
        "news_df['clean_doc'] = news_df['clean_doc'].apply(lambda x: x.lower())"
      ]
    },
    {
      "cell_type": "markdown",
      "metadata": {
        "id": "Y2UiKXWq77-x"
      },
      "source": [
        "그다음 문서 데이터에 대해 TF-IDF 벡터화를 해보겠습니다. max_features = 1000은 1,000의 단어까지만 벡터화를 하겠다는 뜻입니다."
      ]
    },
    {
      "cell_type": "code",
      "execution_count": null,
      "metadata": {
        "id": "-uV__Le1746w"
      },
      "outputs": [],
      "source": [
        "from sklearn.feature_extraction.text import TfidfVectorizer\n",
        "\n",
        "vectorizer = TfidfVectorizer(stop_words='english',\n",
        "max_features= 1000, # 1,000개의 단어만 추출\n",
        "max_df = 0.5,\n",
        "smooth_idf=True)\n",
        "\n",
        "X = vectorizer.fit_transform(news_df['clean_doc'])\n",
        "\n",
        "X.shape # DTM의 행렬 크기 반환"
      ]
    },
    {
      "cell_type": "markdown",
      "metadata": {
        "id": "r_n23W8p7-aq"
      },
      "source": [
        "총 11,314개의 문서에서 1,000개의 단어만 활용하여 문서-단어 행렬(DTM)을 만들었습니다. 다음으로 Truncated SVD를 활용하여 토픽 모델링을 해보겠습니다. 뉴스 토픽이 총 20개이므로 n_components는 20으로 설정했습니다. 이는 Truncated SVD 분해를 할 때, 상위 20개의 특이값만 사용하겠다는 뜻입니다."
      ]
    },
    {
      "cell_type": "code",
      "execution_count": null,
      "metadata": {
        "id": "ihjRHylb7491"
      },
      "outputs": [],
      "source": [
        "from sklearn.decomposition import TruncatedSVD\n",
        "\n",
        "# SVD represent documents and terms in vectors\n",
        "svd_model = TruncatedSVD(n_components=20, algorithm='randomized', n_iter=100, random_state=122)\n",
        "\n",
        "svd_model.fit(X)\n",
        "\n",
        "svd_model.components_.shape"
      ]
    },
    {
      "cell_type": "markdown",
      "metadata": {
        "id": "rFcXcgR08AYG"
      },
      "source": [
        "이는 Vt 행렬의 크기가 20 x 1000이라는 뜻입니다. singular_values_를 통해 20개의 특이값을 알아볼 수 있습니다."
      ]
    },
    {
      "cell_type": "code",
      "execution_count": null,
      "metadata": {
        "id": "G6iV25Aw75CZ"
      },
      "outputs": [],
      "source": [
        "svd_model.singular_values_"
      ]
    },
    {
      "cell_type": "markdown",
      "metadata": {
        "id": "Pzl7Xc7M8IwH"
      },
      "source": [
        "크기 순으로 20개의 특이값이 나열된 것을 볼 수 있습니다. 훈련이 된 vectorizer에 get_feature_names() 명령어를 취해주면 1000개의 단어 피처 값을 받아올 수 있습니다."
      ]
    },
    {
      "cell_type": "code",
      "execution_count": null,
      "metadata": {
        "id": "ODtIHJXK75Ft"
      },
      "outputs": [],
      "source": [
        "terms = vectorizer.get_feature_names()\n",
        "len(terms)"
      ]
    },
    {
      "cell_type": "markdown",
      "metadata": {
        "id": "dgTGP7Bd8QpR"
      },
      "source": [
        "terms의 길이는 총 단어 피처 수인 1000이 됨을 볼 수 있습니다. 마지막으로 20개의 토픽에 대해 주요 단어를 나열해보겠습니다."
      ]
    },
    {
      "cell_type": "code",
      "execution_count": null,
      "metadata": {
        "id": "5zes4k_S8R-K"
      },
      "outputs": [],
      "source": [
        "n = 8\n",
        "components = svd_model.components_\n",
        "for index, topic in enumerate(components):\n",
        "    print('Topic %d: '%(index + 1), [terms[i] for i in topic.argsort()[: -n - 1: -1]])"
      ]
    },
    {
      "cell_type": "markdown",
      "metadata": {
        "id": "jS6BzFab8UaI"
      },
      "source": [
        "불용어가 일부 포함이 되어 있네요. nltk를 활용해 불용어를 제거한 뒤 토픽 모델링을 하면 결과가 더 좋을 것입니다. Topic 3을 보면 game, team, season, players라는 단어가 있습니다. Topic 3는 스포츠와 관련된 기사일 것입니다. Topic 18을 보면 window, problem, space, work, server라는 단어가 있습니다. 이는 컴퓨터와 관련된 기사일 것입니다. 불용어를 제거하면 더 정확한 결과가 나올 수 있겠네요."
      ]
    },
    {
      "cell_type": "markdown",
      "metadata": {
        "id": "M1MML-Py8WOL"
      },
      "source": [
        "### LSA의 장점과 단점\n",
        "지금까지 잠재 의미 분석(LSA)에 대해 알아봤습니다. LSA는 쉽고 빠르게 구현이 가능합니다. 하지만 문서에 포함된 단어가 가우시안 분포를 따라야만 LSA를 적용할 수 있습니다. 일반적으로 가우시안 분포를 따르겠지만 모든 문서의 단어가 가우시안 분포를 따르는 것은 아니기 때문에 적용하기가 힘들 때도 있습니다. 또한 문서가 업데이트가 된다면 처음부터 다시 SVD를 적용해줘야 하므로 자원이 많이 소모됩니다."
      ]
    },
    {
      "cell_type": "markdown",
      "metadata": {
        "id": "lEyWM1aaCFH-"
      },
      "source": [
        "# 잠재 디리클레 할당(Latent Dirichlet Allocation,LDA)\n",
        "- 토픽 모델링은 문서의 집합에서 토픽을 찾아내는 프로세스를 말합니다.\n",
        "- 관찰된 무서내 단어들을 이용하여 베이즈 추론을 통해 잠재된 문서내 토픽 분포와 단어 분포를 추론하는 방식.\n",
        "\n",
        "- 이 때 베이즈 추론의 사전 확률분포로 사용되는 것이 디리클레 분포(Dirichlet Distribution)\n",
        "\n",
        "-이는 검색 엔진, 고객 민원 시스템 등과 같이 문서의 주제를 알아내는 일이 중요한 곳에서 사용됩니다. 잠재 디리클레 할당(Latent Dirichlet Allocation, LDA)은 토픽 모델링의 대표적인 알고리즘입니다. 줄여서 LDA라고 합니다.\n",
        "\n",
        "- LDA는 문서들은 토픽들의 혼합으로 구성되어져 있으며, 토픽들은 확률 분포에 기반하여 단어들을 생성한다고 가정합니다. 데이터가 주어지면, LDA는 문서가 생성되던 과정을 역추적합니다.\n",
        "\n",
        "## 개요\n",
        "\n",
        "우선 LDA의 내부 메커니즘에 대해서 이해하기 전에, LDA를 일종의 블랙 박스로 보고 LDA에 문서 집합을 입력하면, 어떤 결과를 보여주는지 간소화 된 예를 들어 보겠습니다. 아래와 같은 3개의 문서가 있다고 합시다. 지금의 예제는 간단해서 눈으로도 토픽 모델링을 할 수 있을 것 같지만, 실제 수십만개 이상의 문서가 있는 경우는 직접 토픽을 찾아내는 것이 어렵기 때문에 LDA의 도움이 필요합니다.\n",
        "\n",
        "문서1 : 저는 사과랑 바나나를 먹어요\n",
        "\n",
        "문서2 : 우리는 귀여운 강아지가 좋아요\n",
        "\n",
        "문서3 : 저의 깜찍하고 귀여운 강아지가 바나나를 먹어요\n",
        "\n",
        "\n",
        "LDA를 수행할 때 문서 집합에서 토픽이 몇 개가 존재할지 가정하는 것은 사용자가 해야 할 일입니다. 여기서는 LDA에 2개의 토픽을 찾으라고 요청하겠습니다. 토픽의 개수를 의미하는 변수를 k라고 하였을 때, k를 2로 한다는 의미입니다. k의 값을 잘못 선택하면 원치않는 이상한 결과가 나올 수 있습니다. 이렇게 모델의 성능에 영향을 주는 사용자가 직접 선택하는 매개변수를 머신 러닝 용어로 하이퍼파라미터라고 합니다. 이러한 하이퍼파라미터의 선택은 여러 실험을 통해 얻은 값일 수도 있고, 우선 시도해보는 값일 수도 있습니다.\n",
        "\n",
        "LDA가 위의 세 문서로부터 2개의 토픽을 찾은 결과는 아래와 같습니다. 여기서는 LDA 입력 전에 주어와 불필요한 조사 등을 제거하는 전처리 과정은 거쳤다고 가정합니다. 즉, 전처리 과정을 거친 DTM이 LDA의 입력이 되었다고 가정합니다.\n",
        "\n",
        "LDA는 각 문서의 토픽 분포와 각 토픽 내의 단어 분포를 추정합니다.\n",
        "\n",
        "<각 문서의 토픽 분포>\n",
        "\n",
        "문서1 : 토픽 A 100%\n",
        "\n",
        "문서2 : 토픽 B 100%\n",
        "\n",
        "문서3 : 토픽 B 60%, 토픽 A 40%\n",
        "\n",
        "\n",
        "<각 토픽의 단어 분포>\n",
        "\n",
        "토픽A : 사과 20%, 바나나 40%, 먹어요 40%, 귀여운 0%, 강아지 0%, 깜찍하고 0%, 좋아요 0%\n",
        "\n",
        "토픽B : 사과 0%, 바나나 0%, 먹어요 0%, 귀여운 33%, 강아지 33%, 깜찍하고 16%, 좋아요 16%\n",
        "\n",
        "\n",
        "\n",
        "### 베이즈 추론 참고(https://bab2min.tistory.com/567)\n",
        "\n",
        "### 베타 분포 참고(https://m.blog.naver.com/mykepzzang/220843077734)"
      ]
    },
    {
      "cell_type": "markdown",
      "metadata": {
        "id": "XGJeGx9rClVP"
      },
      "source": [
        "## LDA의 가정\n",
        "\n",
        "- LDA는 문서의 집합으로부터 어떤 토픽이 존재하는지를 알아내기 위한 알고리즘입니다. LDA는 앞서 배운 빈도수 기반의 표현 방법인 BoW의 행렬 DTM 또는 TF-IDF 행렬을 입력으로 하는데, 이로부터 알 수 있는 사실은 LDA는 단어의 순서는 신경쓰지 않겠다는 겁니다.\n",
        "\n",
        "- LDA는 문서들로부터 토픽을 뽑아내기 위해서 이러한 가정을 염두해두고 있습니다. 모든 문서 하나, 하나가 작성될 때 그 문서의 작성자는 이러한 생각을 했습니다. '나는 이 문서를 작성하기 위해서 이런 주제들을 넣을거고, 이런 주제들을 위해서는 이런 단어들을 넣을 거야.' 조금 더 구체적으로 알아보겠습니다. 각각의 문서는 다음과 같은 과정을 거쳐서 작성되었다고 가정합니다.\n",
        "\n",
        "1) 문서에 사용할 단어의 개수 N을 정합니다.\n",
        "\n",
        "- Ex) 5개의 단어를 정하였습니다.\n",
        "\n",
        "2) 문서에 사용할 토픽의 혼합을 확률 분포에 기반하여 결정합니다.\n",
        "- Ex) 위 예제와 같이 토픽이 2개라고 하였을 때 강아지 토픽을 60%, 과일 토픽을\n",
        "40%와 같이 선택할 수 있습니다.\n",
        "\n",
        "3) 문서에 사용할 각 단어를 (아래와 같이) 정합니다.\n",
        "\n",
        "3-1) 토픽 분포에서 토픽 T를 확률적으로 고릅니다.\n",
        "\n",
        "- Ex) 60% 확률로 강아지 토픽을 선택하고, 40% 확률로 과일 토픽을 선택할 수\n",
        "있습니다.\n",
        "\n",
        "3-2) 선택한 토픽 T에서 단어의 출현 확률 분포에 기반해 문서에 사용할 단어를 고릅니다.\n",
        "\n",
        "- Ex) 강아지 토픽을 선택하였다면, 33% 확률로 강아지란 단어를 선택할 수 있습니다. 이제 3)을 반복하면서 문서를 완성합니다.\n",
        "\n",
        "이러한 과정을 통해 문서가 작성되었다는 가정 하에 LDA는 토픽을 뽑아내기 위하여 위 과정을 역으로 추적하는 역공학(reverse engneering)을 수행합니다.\n",
        "\n",
        "수행방법)\n",
        "\n",
        "1. 단순 Count 기반 Document-Term 행렬을 생성 : 주어진 단어들의 빈도수에 기반하므로 Tf-idf 방법이 아닌 Count에 기반한다.\n",
        "\n",
        "2. 토픽의 개수를 사전에 설정\n",
        "\n",
        "3. 각 단어들을 임의의 토픽으로 최초 할당한 후 문서별 토픽 분포와 토픽별 단어 분포가 결정이 된다.\n",
        "\n",
        "4. 특정 단어를 하나 추출하고 추출한 해당 단어를 제외하고 문서의 토픽 분포와 토픽별  단어 분포를 다시 계산한다.(이 과정을 깁스 샘플링이라고 한다.) 그리고 추출된 단어는 새롭게 토픽 할당 분포를 계산한다.\n",
        "\n",
        "5. 다른 단어를 추출하고 4번 단계를 다시 수행한다. 그리고 또 다른 단어를 추출하고 계속적으로 모든 단어들이 재 계산되도록 반복한다.\n",
        "지정된 반복 횟수(하이퍼파라미터로 지정)만큼 4,5번 단계를 수행하면서 모든 단어들의 토픽 할당 분포가 변경되지 않고 수렴할 때까지 수행한다."
      ]
    },
    {
      "cell_type": "markdown",
      "metadata": {
        "id": "_pSxWy4cRKqW"
      },
      "source": [
        "토픽 모델링 - 20 뉴스그룹\n",
        "\n",
        "참고 : 파이썬 완벽가이드"
      ]
    },
    {
      "cell_type": "code",
      "execution_count": null,
      "metadata": {
        "id": "iBNk3E1t8TVR"
      },
      "outputs": [],
      "source": [
        "from sklearn.datasets import fetch_20newsgroups\n",
        "from sklearn.feature_extraction.text import CountVectorizer\n",
        "from sklearn.decomposition import LatentDirichletAllocation\n",
        "\n",
        "# 모토사이클, 야구, 그래픽스, 윈도우즈, 중동, 기독교, 의학, 우주 주제를 추출.\n",
        "cats = ['rec.motorcycles', 'rec.sport.baseball', 'comp.graphics', 'comp.windows.x',\n",
        "        'talk.politics.mideast', 'soc.religion.christian', 'sci.electronics', 'sci.med'  ]\n",
        "\n",
        "# 위에서 cats 변수로 기재된 category만 추출. featch_20newsgroups( )의 categories에 cats 입력\n",
        "news_df= fetch_20newsgroups(subset='all',remove=('headers', 'footers', 'quotes'),\n",
        "                            categories=cats, random_state=0)\n",
        "\n",
        "#LDA 는 Count기반의 Vectorizer만 적용합니다.\n",
        "count_vect = CountVectorizer(max_df=0.95, max_features=1000, min_df=2, stop_words='english', ngram_range=(1,2))\n",
        "feat_vect = count_vect.fit_transform(news_df.data)\n",
        "print('CountVectorizer Shape:', feat_vect.shape)"
      ]
    },
    {
      "cell_type": "markdown",
      "metadata": {
        "id": "nK_1gGTNRrNZ"
      },
      "source": [
        "LDA 객체 생성 후 Count 피처 벡터화 객체로 LDA 수행"
      ]
    },
    {
      "cell_type": "code",
      "execution_count": null,
      "metadata": {
        "id": "liZg-ukF8TaK"
      },
      "outputs": [],
      "source": [
        "lda = LatentDirichletAllocation(n_components=8, random_state=0)\n",
        "lda.fit(feat_vect)"
      ]
    },
    {
      "cell_type": "markdown",
      "metadata": {
        "id": "Xn_FLpPSRvtM"
      },
      "source": [
        "각 토픽 모델링 주제별 단어들의 연관도 확인\n",
        "\n",
        "ida 객체의 componets_ 속성은 주제별로 개별 단어들의 연관도 정규화 숫자가 들어 있음.\n",
        "\n",
        "shape는 주제 개수 X 피쳐 단어 개수\n",
        "\n",
        "componets_ 에 들어 있는 숫자 값은 각 주제별로 단어가 나타난 횟수를 정규화 하여 나타냄.\n",
        "\n",
        "숫자가 클 수록 토픽에서 단어가 차지하는 비중이 높음"
      ]
    },
    {
      "cell_type": "code",
      "execution_count": null,
      "metadata": {
        "id": "73V2Oqno8Td-"
      },
      "outputs": [],
      "source": [
        "print(lda.components_.shape)\n",
        "lda.components_"
      ]
    },
    {
      "cell_type": "markdown",
      "metadata": {
        "id": "YDky2kDDSpfD"
      },
      "source": [
        "각 토픽별 중심 단어 확인"
      ]
    },
    {
      "cell_type": "code",
      "execution_count": null,
      "metadata": {
        "id": "HMD1OpGMRWzH"
      },
      "outputs": [],
      "source": [
        "def display_topics(model, feature_names, no_top_words):\n",
        "    for topic_index, topic in enumerate(model.components_):\n",
        "        print('Topic #',topic_index)\n",
        "\n",
        "        # components_ array에서 가장 값이 큰 순으로 정렬했을 때, 그 값의 array index를 반환.\n",
        "        topic_word_indexes = topic.argsort()[::-1]\n",
        "        top_indexes=topic_word_indexes[:no_top_words]\n",
        "\n",
        "        # top_indexes대상인 index별로 feature_names에 해당하는 word feature 추출 후 join으로 concat\n",
        "        feature_concat = ' '.join([feature_names[i] for i in top_indexes])\n",
        "        print(feature_concat)\n",
        "\n",
        "# CountVectorizer객체내의 전체 word들의 명칭을 get_features_names( )를 통해 추출\n",
        "feature_names = count_vect.get_feature_names()\n",
        "\n",
        "# Topic별 가장 연관도가 높은 word를 15개만 추출\n",
        "display_topics(lda, feature_names, 15)"
      ]
    },
    {
      "cell_type": "markdown",
      "metadata": {
        "id": "G6L4hEu8T8Hg"
      },
      "source": [
        "개별 문서별 토픽 분포 확인\n",
        "\n",
        "\n",
        "ida객체의 transform()을 수행하면 개별 문서별 토픽 분호를 변환함"
      ]
    },
    {
      "cell_type": "code",
      "execution_count": null,
      "metadata": {
        "id": "9ZA02QnxRW2R"
      },
      "outputs": [],
      "source": [
        "doc_topics = lda.transform(feat_vect)\n",
        "print(doc_topics.shape)\n",
        "print(doc_topics[:3])"
      ]
    },
    {
      "cell_type": "markdown",
      "metadata": {
        "id": "HrheAnQuVGxT"
      },
      "source": [
        "개별 문서별 토픽 분토도를 출력\n",
        "\n",
        "\n",
        "20Newsgroup으로 만들어진 문서명을 출력\n",
        "\n",
        "featch_20newsgopurs()으로 만들어진 데이터의 filename속성은 모든 문서의 문서명을 가지고 있음.\n",
        "\n",
        " filenames 속성은 절대 디렉토리를 가지는 문서명을 가지고 있으므로 '\\'로 분할하여 맨 마지막 두번째 부터 파일명으로 가져옴."
      ]
    },
    {
      "cell_type": "code",
      "execution_count": null,
      "metadata": {
        "id": "yDqSRHPFRW5i"
      },
      "outputs": [],
      "source": [
        "def get_filename_list(newsdata):\n",
        "  filename_list = []\n",
        "\n",
        "  for file in newsdata.filenames:\n",
        "    filenames_temp = file.split('\\\\')[-2:]\n",
        "    filename = '.'.join(filenames_temp)\n",
        "    filename_list.append(filename)\n",
        "  return filename_list\n",
        "filename_list = get_filename_list(news_df)\n",
        "print('filename 개수',len(filename_list), 'filename list 10개만',filename_list[:10])"
      ]
    },
    {
      "cell_type": "markdown",
      "metadata": {
        "id": "63A-XcZfc9NH"
      },
      "source": [
        "DataFrame으로 생성하여 문서별 토픽 분포도 확인"
      ]
    },
    {
      "cell_type": "code",
      "execution_count": null,
      "metadata": {
        "id": "mhrZ5F9Dc1XZ"
      },
      "outputs": [],
      "source": [
        "import pandas as pd\n",
        "\n",
        "topic_names = ['Topic \\ '+ str(i) for i in range(0,8)]\n",
        "doc_topic_df = pd.DataFrame(data = doc_topics, columns = topic_names,index = filename_list)\n",
        "doc_topic_df.head(10)"
      ]
    },
    {
      "cell_type": "markdown",
      "metadata": {
        "id": "4CGs_HfgMlRF"
      },
      "source": [
        "LDA 실습\n",
        "\n",
        "데이터 : 공훈전자사료관에서 제공하는 독립유공자조서를 활요ㅕㅇ.\n",
        "\n",
        "https://e-gonghun.mpva.go.kr/user/RewardOpenAPI.do?goTocode=50001\n",
        "\n",
        "출처: https://joyhong.tistory.com/138 [옳은 길로..]"
      ]
    },
    {
      "cell_type": "code",
      "execution_count": null,
      "metadata": {
        "id": "L5WAAXbBMkRL"
      },
      "outputs": [],
      "source": [
        "import pandas as pd\n",
        "import numpy as np\n",
        "\n",
        "df = pd.read_csv('/content/drive/MyDrive/공적개요/historical_records.csv')\n",
        "df"
      ]
    },
    {
      "cell_type": "markdown",
      "metadata": {
        "id": "Xu_wZQ4BNS0p"
      },
      "source": [
        "파일의 공적개요를 형태소 분서기 mecab으로 명사만을 추출하겠다."
      ]
    },
    {
      "cell_type": "code",
      "execution_count": null,
      "metadata": {
        "id": "SANui0cUNbBf"
      },
      "outputs": [],
      "source": [
        "#Mecab 설치\n",
        "!git clone https://github.com/SOMJANG/Mecab-ko-for-Google-Colab.git"
      ]
    },
    {
      "cell_type": "code",
      "execution_count": null,
      "metadata": {
        "id": "n-TsRuIsPdk5"
      },
      "outputs": [],
      "source": [
        "cd Mecab-ko-for-Google-Colab/"
      ]
    },
    {
      "cell_type": "code",
      "execution_count": null,
      "metadata": {
        "id": "6rinEAVvPfaG"
      },
      "outputs": [],
      "source": [
        "!pip install Konlpy\n",
        "!bash install_mecab-ko_on_colab190912.sh"
      ]
    },
    {
      "cell_type": "code",
      "execution_count": null,
      "metadata": {
        "id": "XRI-V541MkUv"
      },
      "outputs": [],
      "source": [
        "#Mecab : 형태소 분석기\n",
        "from konlpy.tag import Mecab\n",
        "from tqdm import tqdm\n",
        "import re\n",
        "import pickle\n",
        "import csv\n",
        "\n",
        "def clean_text(text):\n",
        "  '''\n",
        "  한글,영문,숫자만 남기고 제거\n",
        "  :param text:\n",
        "  :return:\n",
        "  '''\n",
        "  text = text.replace('.','').strip()\n",
        "  text = text.replace(\"·\", \" \").strip()\n",
        "  pattern = '[^ ㄱ-ㅣ가-힣|0-9|a-zA-Z]+'\n",
        "  text = re.sub(pattern=pattern, repl='', string=text)\n",
        "  return text\n",
        "\n",
        "def get_nouns(tokenizer, sentence):\n",
        "  \"\"\" 단어의 길이가 2이상인 일반명사(NNG), 고유명사(NNP), 외국어(SL)만을 반환한다.\n",
        "  :param tokenizer: :param sentence:\n",
        "  :return:\n",
        "  \"\"\"\n",
        "  tagged = tokenizer.pos(sentence)\n",
        "  nouns = [s for s, t in tagged if t in ['SL', 'NNG', 'NNP'] and len(s) > 1]\n",
        "  return nouns\n",
        "\n",
        "def tokenize(df):\n",
        "  tokenizer = Mecab()\n",
        "  processed_data = []\n",
        "  for sent in tqdm(df['description']):\n",
        "    sentence = clean_text(sent.replace('\\n', '').strip())\n",
        "    processed_data.append(get_nouns(tokenizer, sentence))\n",
        "  return processed_data\n",
        "\n",
        "def save_processed_data(processed_data):\n",
        "  \"\"\" 토큰 분리한 데이터를 csv로 저장\n",
        "  :param processed_data:\n",
        "  :return:\n",
        "  \"\"\"\n",
        "  with open('./tokenized_data.csv', 'w', newline='', encoding='utf-8') as f:\n",
        "    writer = csv.writer(f)\n",
        "    for data in processed_data:\n",
        "      writer.writerow(data)\n",
        "\n",
        "\n",
        "if __name__ == '__main__':\n",
        "  # 유공자 공훈조서 데이터를 읽어들인다.\n",
        "  df = pd.read_csv('/content/drive/MyDrive/공적개요/historical_records.csv')\n",
        "  processed_data = tokenize(df) # description 부분을 토크나이징 한다.\n",
        "  # 토큰 분리한 데이터를 저장\n",
        "  save_processed_data(processed_data)"
      ]
    },
    {
      "cell_type": "code",
      "execution_count": null,
      "metadata": {
        "id": "P4_NhSYJfRoY"
      },
      "outputs": [],
      "source": [
        "# LDAvis 는 토픽 모델링에 자주 이용되는 Latent Dirichlet Allocation (LDA) 모델의 학습 결과를 시각적으로 표현하는 라이브러리입니다.\n",
        "#참고 : https://lovit.github.io/nlp/2018/09/27/pyldavis_lda/\n",
        "!pip install pyLDAvis\n",
        "\n",
        "import pyLDAvis\n",
        "import pyLDAvis.gensim_models\n",
        "\n",
        "pyLDAvis.enable_notebook()"
      ]
    },
    {
      "cell_type": "code",
      "execution_count": null,
      "metadata": {
        "id": "D155U0skMkYn"
      },
      "outputs": [],
      "source": [
        "#두번째 단계로 명사만으로 구성된 파일을 읽은 뒤 최적의 토픽이 몇개가 좋은 체크\n",
        "#최적의 토픽 개수를 찾기 위해 coherence를 c_v로 계산하여 찾아보도록 함.\n",
        "\n",
        "from konlpy.tag import Mecab\n",
        "from tqdm import tqdm\n",
        "import re\n",
        "from gensim.models.ldamodel import LdaModel\n",
        "from gensim.models.callbacks import CoherenceMetric\n",
        "from gensim import corpora\n",
        "from gensim.models.callbacks import PerplexityMetric\n",
        "import logging\n",
        "import pickle\n",
        "import pyLDAvis.gensim_models\n",
        "from gensim.models.coherencemodel import CoherenceModel\n",
        "import matplotlib.pyplot as plt\n",
        "\n",
        "def compute_coherence_values(dictionary, corpus, texts, limit, start=2, step=3):\n",
        "   \"\"\" Compute c_v coherence for various number of topics\n",
        "\n",
        "   Parameters:\n",
        "   ----------\n",
        "\n",
        "   dictionary : Gensim dictionary corpus :\n",
        "   Gensim corpus texts : List of input texts limit :\n",
        "   Max num of topics\n",
        "\n",
        "   Returns:\n",
        "\n",
        "   -------\n",
        "   model_list : List of LDA topic models\n",
        "   coherence_values : Coherence values corresponding to the LDA model with respective number of topics\n",
        "   \"\"\"\n",
        "   coherence_values = []\n",
        "   model_list = []\n",
        "   for num_topics in range(start, limit, step):\n",
        "     model = LdaModel(corpus=corpus, id2word=dictionary, num_topics=num_topics)\n",
        "     model_list.append(model)\n",
        "     coherencemodel = CoherenceModel(model=model, texts=texts, dictionary=dictionary, coherence='c_v')\n",
        "     coherence_values.append(coherencemodel.get_coherence())\n",
        "     return model_list, coherence_values\n",
        "\n",
        "def find_optimal_number_of_topics(dictionary, corpus, processed_data):\n",
        "  limit = 40;\n",
        "  start = 2;\n",
        "  step = 6;\n",
        "  model_list, coherence_values = compute_coherence_values(dictionary=dictionary, corpus=corpus, texts=processed_data, start=start, limit=limit, step=step)\n",
        "  x = range(start, limit, step)\n",
        "  # plt.plot(x, coherence_values)\n",
        "  # plt.xlabel(\"Num Topics\")\n",
        "  # plt.ylabel(\"Coherence score\")\n",
        "  # plt.legend((\"coherence_values\"), loc='best')\n",
        "  # plt.show()\n",
        "\n",
        "\n",
        "if __name__ == '__main__':\n",
        "  processed_data = [sent.strip().split(\",\") for sent in tqdm(open('./tokenized_data.csv', 'r', encoding='utf-8').readlines())]\n",
        "\n",
        "\n",
        "  # 정수 인코딩과 빈도수 생성\n",
        "\n",
        "  dictionary = corpora.Dictionary(processed_data)\n",
        "\n",
        "  # 출현빈도가 적거나 자주 등장하는 단어는 제거\n",
        "  dictionary.filter_extremes(no_below=10, no_above=0.05)\n",
        "\n",
        "  corpus = [dictionary.doc2bow(text) for text in processed_data]\n",
        "  print('Number of unique tokens: %d' % len(dictionary))\n",
        "  print('Number of documents: %d' % len(corpus))\n",
        "\n",
        "\n",
        "  # logging.basicConfig(format='%(asctime)s : %(levelname)s : %(message)s', level=logging.INFO)\n",
        "\n",
        "  # 최적의 토픽 수 찾기\n",
        "  find_optimal_number_of_topics(dictionary, corpus, processed_data)\n"
      ]
    },
    {
      "cell_type": "code",
      "execution_count": null,
      "metadata": {
        "id": "XBYLC5SaMkcQ"
      },
      "outputs": [],
      "source": [
        "from konlpy.tag import Mecab\n",
        "from tqdm import tqdm\n",
        "import re\n",
        "from gensim.models.ldamodel import LdaModel\n",
        "from gensim.models.callbacks import CoherenceMetric\n",
        "from gensim import corpora\n",
        "from gensim.models.callbacks import PerplexityMetric\n",
        "import logging\n",
        "import pickle\n",
        "import pyLDAvis.gensim_models\n",
        "from gensim.models.coherencemodel import CoherenceModel\n",
        "import matplotlib.pyplot as plt\n",
        "\n",
        "if __name__ == '__main__':\n",
        "  processed_data = [sent.strip().split(\",\") for sent in tqdm(open('./tokenized_data.csv', 'r', encoding='utf-8').readlines())]\n",
        "\n",
        "  # 정수 인코딩과 빈도수 생성\n",
        "  dictionary = corpora.Dictionary(processed_data)\n",
        "\n",
        "  # 출현빈도가 적거나 자주 등장하는 단어는 제거\n",
        "  dictionary.filter_extremes(no_below=10, no_above=0.05)\n",
        "  corpus = [dictionary.doc2bow(text) for text in processed_data]\n",
        "  print('Number of unique tokens: %d' % len(dictionary))\n",
        "  print('Number of documents: %d' % len(corpus))\n",
        "\n",
        "\n",
        "  logging.basicConfig(format='%(asctime)s : %(levelname)s : %(message)s', level=logging.INFO)\n",
        "\n",
        "  # 최적의 토픽 수 찾기 => 14개로 나옴\n",
        "  # find_optimal_number_of_topics(dictionary, corpus, processed_data)\n",
        "  # exit()\n",
        "\n",
        "  perplexity_logger = PerplexityMetric(corpus=corpus, logger='shell')\n",
        "  coherence_logger = CoherenceMetric(corpus=corpus, coherence=\"u_mass\", logger='shell')\n",
        "\n",
        "  lda_model = LdaModel(corpus, id2word=dictionary, num_topics=14, passes=30, callbacks=[coherence_logger, perplexity_logger])\n",
        "\n",
        "  topics = lda_model.print_topics(num_words=5)\n",
        "\n",
        "  for topic in topics:\n",
        "    print(topic)\n",
        "\n",
        "  # Compute Coherence Score using c_v\n",
        "  coherence_model_lda = CoherenceModel(model=lda_model, texts=processed_data, dictionary=dictionary, coherence='c_v')\n",
        "  coherence_lda = coherence_model_lda.get_coherence()\n",
        "  print('\\nCoherence Score (c_v): ', coherence_lda)\n",
        "\n",
        "  # Compute Coherence Score using UMass\n",
        "\n",
        "  coherence_model_lda = CoherenceModel(model=lda_model, texts=processed_data, dictionary=dictionary, coherence=\"u_mass\")\n",
        "\n",
        "  coherence_lda = coherence_model_lda.get_coherence()\n",
        "  print('\\nCoherence Score (u_mass): ', coherence_lda)\n",
        "\n",
        "  # 저장\n",
        "\n",
        "  pickle.dump(corpus, open('./lda_corpus.pkl', 'wb'))\n",
        "  dictionary.save('./lda_dictionary.gensim')\n",
        "  lda_model.save('./lda_model.gensim')\n",
        "\n",
        "  # pyLDAvis html 저장\n",
        "  lda_visualization = pyLDAvis.gensim_models.prepare(lda_model, corpus, dictionary, sort_topics=False)\n",
        "  pyLDAvis.save_html(lda_visualization, './lda.html')\n",
        "  pyLDAvis.show(lda_visualization)"
      ]
    },
    {
      "cell_type": "code",
      "execution_count": null,
      "metadata": {
        "id": "d5ZPefoA5DaV"
      },
      "outputs": [],
      "source": [
        "!git clone https://github.com/lovit/textmining_dataset.git"
      ]
    },
    {
      "cell_type": "code",
      "execution_count": null,
      "metadata": {
        "id": "hGRc2MQG40FF"
      },
      "outputs": [],
      "source": [
        "import gensim # version=3.6.0\n",
        "from gensim.models import LdaModel\n",
        "import pyLDAvis # version=2.1.1\n",
        "import pyLDAvis.gensim_models as gensimvis\n",
        "from lovit_textmining_dataset.navernews_10days import get_bow\n",
        "\n",
        "# input data\n",
        "x, idx_to_vocab, vocab_to_idx = get_bow(date='2016-10-20', tokenize='noun')\n",
        "x # sparse matrix\n",
        "idx_to_vocab # list of str\n",
        "\n",
        "# train Gensim LDA\n",
        "corpus = gensim.matutils.Sparse2Corpus(x, documents_columns=False)\n",
        "id2word = dict(enumerate(idx_to_vocab))\n",
        "lda_model = LdaModel(corpus=corpus, num_topics=100, id2word=id2word)\n",
        "\n",
        "# make dictionary\n",
        "dictionary = dict(enumerate(idx_to_vocab))\n",
        "\n",
        "# train LDAvis\n",
        "prepared_data = gensimvis.prepare(lda_model, corpus, dictionary)\n",
        "pyLDAvis.show(prepared_data)"
      ]
    },
    {
      "cell_type": "markdown",
      "metadata": {
        "id": "84Tix4AFuY3I"
      },
      "source": [
        "# 문서 군집화\n",
        "- 비슷한 텍스트 구성의 문서를 군집화(Clustering) 하는 것. 문서 군집화는 동일한 군집에 속하는 문서를 같은 카테고리 소속으로 분류할 수 있으므로 텍스트 분류 기반의 문서 분류와 유사. 하지만 텍스트 분류 기반의 문서 분류는 사전에 결정 카테고리 값을 가진 학습 데이터 세트가 필요한데 반해, 문서 군집화는 학습 데이터 세트가 필요없는 비지도학습 기반으로 동작함.\n",
        "\n",
        "- 문서 군집화는 문서를 피쳐 벡터화한 데이터 세트에 군집화 알고리즘을 적용하여 수행할 수 있으며, 일반적으로 K-means가 쓰임."
      ]
    },
    {
      "cell_type": "markdown",
      "metadata": {
        "id": "bTa6Mkp9uY-W"
      },
      "source": [
        "Opinion Review 데이터 세트를 이용한 문서 군집화 수행하기\n",
        "\n",
        "\n",
        "https://archive.ics.uci.edu/ml/datasets/Opinosis+Opinion+%26frasl%3B+Review"
      ]
    },
    {
      "cell_type": "code",
      "execution_count": null,
      "metadata": {
        "id": "5oEMbHqtafld"
      },
      "outputs": [],
      "source": [
        "import pandas as pd\n",
        "import glob ,os\n",
        "pd.set_option('display.max_colwidth', 1000)  # 1000 자로 column 크기 키우기\n",
        "\n",
        "path = r'/content/drive/MyDrive/OpinosisDataset1.0/topics'\n",
        "# path로 지정한 디렉토리 밑에 있는 모든 .data 파일들의 파일명을 리스트로 취합\n",
        "all_files = glob.glob(os.path.join(path, \"*.data\"))\n",
        "filename_list = []\n",
        "opinion_text = []\n",
        "\n",
        "# 개별 파일들의 파일명은 filename_list 리스트로 취합,\n",
        "# 개별 파일들의 파일내용은 DataFrame로딩 후 다시 string으로 변환하여 opinion_text 리스트로 취합\n",
        "for file_ in all_files:\n",
        "    # 개별 파일을 읽어서 DataFrame으로 생성\n",
        "    df = pd.read_table(file_,index_col=None, header=0,encoding='latin1')\n",
        "\n",
        "    # 절대경로로 주어진 file 명을 가공. 만일 Linux에서 수행시에는 아래 \\\\를 / 변경. 맨 마지막 .data 확장자도 제거\n",
        "    filename_ = file_.split('/')[-1]\n",
        "    filename = filename_.split('.')[0]\n",
        "\n",
        "    #파일명 리스트와 파일내용 리스트에 파일명과 파일 내용을 추가.\n",
        "    filename_list.append(filename)\n",
        "    opinion_text.append(df.to_string())\n",
        "\n",
        "# 파일명 리스트와 파일내용 리스트를  DataFrame으로 생성\n",
        "document_df = pd.DataFrame({'filename':filename_list, 'opinion_text':opinion_text})\n",
        "document_df.head()"
      ]
    },
    {
      "cell_type": "markdown",
      "metadata": {
        "id": "2n99LuVByox0"
      },
      "source": [
        "Lemmatization을 위한 함수 생성"
      ]
    },
    {
      "cell_type": "code",
      "execution_count": null,
      "metadata": {
        "id": "KMpN6LPWafo6"
      },
      "outputs": [],
      "source": [
        "from nltk.stem import WordNetLemmatizer\n",
        "import nltk\n",
        "import string\n",
        "\n",
        "#.까지 다 쪼갤려고 실시.\n",
        "remove_punct_dict = dict((ord(punct), None) for punct in string.punctuation)\n",
        "lemmar = WordNetLemmatizer()\n",
        "\n",
        "def LemTokens(tokens):\n",
        "    return [lemmar.lemmatize(token) for token in tokens]\n",
        "\n",
        "def LemNormalize(text):\n",
        "    return LemTokens(nltk.word_tokenize(text.lower().translate(remove_punct_dict)))"
      ]
    },
    {
      "cell_type": "markdown",
      "metadata": {
        "id": "21KAabxDyv0o"
      },
      "source": [
        "TF-IDF 피처 벡터화, TFidfVectoizer에서 피처 벡터화 수행 시 Lemmatization을 적용하여 토큰화"
      ]
    },
    {
      "cell_type": "code",
      "execution_count": null,
      "metadata": {
        "id": "sLk6M4dCafsS"
      },
      "outputs": [],
      "source": [
        "from sklearn.feature_extraction.text import TfidfVectorizer\n",
        "import nltk\n",
        "nltk.download('punkt')\n",
        "nltk.download('wordnet')\n",
        "\n",
        "#토큰화+lemmatation까지 한꺼번에 함.\n",
        "tfidf_vect = TfidfVectorizer(tokenizer=LemNormalize, stop_words='english' , \\\n",
        "                             ngram_range=(1,2), min_df=0.05, max_df=0.85 )\n",
        "\n",
        "#opinion_text 컬럼값으로 feature vectorization 수행\n",
        "feature_vect = tfidf_vect.fit_transform(document_df['opinion_text'])"
      ]
    },
    {
      "cell_type": "code",
      "execution_count": null,
      "metadata": {
        "id": "YYJb64raafvl"
      },
      "outputs": [],
      "source": [
        "from sklearn.cluster import KMeans\n",
        "\n",
        "# 5개 집합으로 군집화 수행. 예제를 위해 동일한 클러스터링 결과 도출용 random_state=0\n",
        "km_cluster = KMeans(n_clusters=5, max_iter=10000, random_state=0)\n",
        "km_cluster.fit(feature_vect)\n",
        "cluster_label = km_cluster.labels_\n",
        "cluster_centers = km_cluster.cluster_centers_"
      ]
    },
    {
      "cell_type": "code",
      "execution_count": null,
      "metadata": {
        "id": "KB_qJItxafzy"
      },
      "outputs": [],
      "source": [
        "document_df['cluster_label'] = cluster_label\n",
        "document_df.head()"
      ]
    },
    {
      "cell_type": "code",
      "execution_count": null,
      "metadata": {
        "id": "XvdMBsV1af2-"
      },
      "outputs": [],
      "source": [
        "document_df[document_df['cluster_label']==0].sort_values(by='filename')"
      ]
    },
    {
      "cell_type": "code",
      "execution_count": null,
      "metadata": {
        "id": "yPoY3tfyaf6Q"
      },
      "outputs": [],
      "source": [
        "document_df[document_df['cluster_label']==1].sort_values(by='filename')"
      ]
    },
    {
      "cell_type": "code",
      "execution_count": null,
      "metadata": {
        "id": "NprUGtBSaf9a"
      },
      "outputs": [],
      "source": [
        "document_df[document_df['cluster_label']==2].sort_values(by='filename')"
      ]
    },
    {
      "cell_type": "code",
      "execution_count": null,
      "metadata": {
        "id": "A5hxnDbAagAk"
      },
      "outputs": [],
      "source": [
        "document_df[document_df['cluster_label']==3].sort_values(by='filename')"
      ]
    },
    {
      "cell_type": "code",
      "execution_count": null,
      "metadata": {
        "id": "SKSa7CSkcK-4"
      },
      "outputs": [],
      "source": [
        "document_df[document_df['cluster_label']==4].sort_values(by='filename')"
      ]
    },
    {
      "cell_type": "code",
      "execution_count": null,
      "metadata": {
        "id": "u53_tkrbcM0E"
      },
      "outputs": [],
      "source": [
        "from sklearn.cluster import KMeans\n",
        "\n",
        "# 3개의 집합으로 군집화\n",
        "km_cluster = KMeans(n_clusters=3, max_iter=10000, random_state=0)\n",
        "km_cluster.fit(feature_vect)\n",
        "cluster_label = km_cluster.labels_\n",
        "\n",
        "\n",
        "# 소속 클러스터를 cluster_label 컬럼으로 할당하고 cluster_label 값으로 정렬\n",
        "document_df['cluster_label'] = cluster_label\n",
        "document_df.sort_values(by='cluster_label')"
      ]
    },
    {
      "cell_type": "markdown",
      "metadata": {
        "id": "niRX5P1icPcs"
      },
      "source": [
        "군집(Cluter)별 핵심 단어 추출하기\n",
        "\n",
        "Kmenas객체의 clustercenters 속성은 개별 피쳐들의 클러스터 중심과의 상대 위치를 정규화된 숫자값으로 표시\n",
        "\n",
        "0~1까지의 값으로 표현되며 1에 가까울 수록 중심에 더 가깝다는 의미"
      ]
    },
    {
      "cell_type": "code",
      "execution_count": null,
      "metadata": {
        "id": "IF2wSpXRcOMM"
      },
      "outputs": [],
      "source": [
        "cluster_centers = km_cluster.cluster_centers_\n",
        "print('cluster_centers shape :',cluster_centers.shape)\n",
        "print(cluster_centers)"
      ]
    },
    {
      "cell_type": "code",
      "execution_count": null,
      "metadata": {
        "id": "ZDRMMI0wcU7b"
      },
      "outputs": [],
      "source": [
        "# 군집별 top n 핵심단어, 그 단어의 중심 위치 상대값, 대상 파일명들을 반환함.\n",
        "def get_cluster_details(cluster_model, cluster_data, feature_names, clusters_num, top_n_features=10):\n",
        "    cluster_details = {}\n",
        "\n",
        "    # cluster_centers array 의 값이 큰 순으로 정렬된 index 값을 반환\n",
        "    # 군집 중심점(centroid)별 할당된 word 피처들의 거리값이 큰 순으로 값을 구하기 위함.\n",
        "    centroid_feature_ordered_ind = cluster_model.cluster_centers_.argsort()[:,::-1]\n",
        "\n",
        "    #개별 군집별로 iteration하면서 핵심단어, 그 단어의 중심 위치 상대값, 대상 파일명 입력\n",
        "    for cluster_num in range(clusters_num):\n",
        "        # 개별 군집별 정보를 담을 데이터 초기화.\n",
        "        cluster_details[cluster_num] = {}\n",
        "        cluster_details[cluster_num]['cluster'] = cluster_num\n",
        "\n",
        "        # cluster_centers_.argsort()[:,::-1] 로 구한 index 를 이용하여 top n 피처 단어를 구함.\n",
        "        top_feature_indexes = centroid_feature_ordered_ind[cluster_num, :top_n_features]\n",
        "        top_features = [ feature_names[ind] for ind in top_feature_indexes ]\n",
        "\n",
        "        # top_feature_indexes를 이용해 해당 피처 단어의 중심 위치 상댓값 구함\n",
        "        top_feature_values = cluster_model.cluster_centers_[cluster_num, top_feature_indexes].tolist()\n",
        "\n",
        "        # cluster_details 딕셔너리 객체에 개별 군집별 핵심 단어와 중심위치 상대값, 그리고 해당 파일명 입력\n",
        "        cluster_details[cluster_num]['top_features'] = top_features\n",
        "        cluster_details[cluster_num]['top_features_value'] = top_feature_values\n",
        "        filenames = cluster_data[cluster_data['cluster_label'] == cluster_num]['filename']\n",
        "        filenames = filenames.values.tolist()\n",
        "        cluster_details[cluster_num]['filenames'] = filenames\n",
        "\n",
        "    return cluster_details"
      ]
    },
    {
      "cell_type": "code",
      "execution_count": null,
      "metadata": {
        "id": "tEnbzpEQcWPB"
      },
      "outputs": [],
      "source": [
        "\n",
        "def print_cluster_details(cluster_details):\n",
        "    for cluster_num, cluster_detail in cluster_details.items():\n",
        "        print('####### Cluster {0}'.format(cluster_num))\n",
        "        print('Top features:', cluster_detail['top_features'])\n",
        "        print('Reviews 파일명 :',cluster_detail['filenames'][:7])\n",
        "        print('==================================================')"
      ]
    },
    {
      "cell_type": "code",
      "execution_count": null,
      "metadata": {
        "id": "dTgSOZpVcXf7"
      },
      "outputs": [],
      "source": [
        "\n",
        "feature_names = tfidf_vect.get_feature_names()\n",
        "\n",
        "cluster_details = get_cluster_details(cluster_model=km_cluster, cluster_data=document_df,\\\n",
        "                                  feature_names=feature_names, clusters_num=3, top_n_features=10 )\n",
        "print_cluster_details(cluster_details)"
      ]
    },
    {
      "cell_type": "markdown",
      "metadata": {
        "id": "4QB7HAqA4_-Y"
      },
      "source": [
        "# 벡터의 유사도(Vector Similiarity)\n",
        "\n",
        "-  사람들이 인식하는 문서의 유사도는 주로 문서들 간에 동일한 단어 또는 비슷한 단어가 얼마나 공통적으로 많이 사용되었는지에 의존합니다. 기계도 마찬가지입니다. 기계가 계산하는 문서의 유사도의 성능은 각 문서의 단어들을 어떤 방법으로 수치화하여 표현했는지(DTM, Word2Vec 등), 문서 간의 단어들의 차이를 어떤 방법(유클리드 거리, 코사인 유사도 등)으로 계산했는지에 달려있습니다.\n",
        "\n",
        "## 1. 코사인 유사도(Cosine Similarity)\n",
        "- 코사인 유사도는 두 벡터 간의 코사인 각도를 이용하여 구할 수 있는 두 벡터의 유사도를 의미. 두 벡터의 방향이 완전히 동일한 경우에는 1의 값을 가지고, 90도 의 각을 이루면 0, 180도로 반대의 방향을 가지면 -1의 값을 갖게 됩니다. 즉, 결국 코사인 유사도는 -1 이상 1이하의 값을 가지며 값이 1에 가까울수록 유사도가 높다고 판단 할 수 있음.\n",
        "\n",
        "![image.png](data:image/png;base64,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)\n",
        "\n",
        "\n"
      ]
    },
    {
      "cell_type": "markdown",
      "metadata": {
        "id": "PotkCu8RaxUB"
      },
      "source": [
        "코사인 유사도 식\n",
        "<img src = 'https://neo4j.com/docs/graph-algorithms/current/images/cosine-similarity.png'>\n",
        "\n",
        "문서 단어 행렬이나 TF-IDF 행렬을 통해서 문서의 유사도를 구하는 경우에는 문서 단어 행렬이나 TF-IDF 행렬이 각각의 특징 벡터 A, B가 됩니다. 그렇다면 문서 단어 행렬에 대해서 코사인 유사도를 구해보는 간단한 예제를 진행해보겠습니다.\n",
        "\n",
        "문서1 : 저는 사과 좋아요\n",
        "문서2 : 저는 바나나 좋아요\n",
        "문서3 : 저는 바나나 좋아요 저는 바나나 좋아요\n",
        "\n",
        "위의 세 문서에 대해서 문서 단어 행렬을 만들면 이와 같습니다.\n",
        "\n",
        "![image.png](data:image/png;base64,iVBORw0KGgoAAAANSUhEUgAAATgAAACXCAYAAACBQkflAAASOUlEQVR4Ae2bXXLjIBCEdUZX5UIpX8U5inOJfcuDj8EWMmgQA0gejWw06q1KmaA/prv5hOTs4PBvVODfv39QIihgUQvUdM54D+csm1dtcQLwKtf1WNQCNa3z3tpeAFxw1OIEkIbVohaoSZqGYx8HwAFwLMGAAZOkyw6LPmkLDcAFRREWipZFLVAT+XumFgAHwLG8AwZMki47LPqkLTQAFxTdLSx/N3cZBnf5ebzm3e/VDcPgrr+vHeakxyWX6U4Ld3fXYXDD1829qOJU1W41OecePxc3DBd3+5su95bGnjWJCpBmXXSxdQcBcEEnaVh4uB/u9pVMxprpSyCqba/1R7+Xtsf9Gp9SLeiUAUjfd+ryrQUtPNDzn+eN4VOAC14WxuXHGW9aPAOh7OBF3G8uxvbftvh0/+Za59oPuX/jkIMXQZNZbTV/k1KfWs2vPTtHsq9GE4ALKkrDwsMNwLm44sonyIoJMIV6tu+nADeNxlVraq3gOgZcWlkKnTZsshtXXt/Ms/QKvh1vFtlKNxyzZXWeXyn9HYALagBwFAupFnSGbCLEDc0JEHcKn7OVKACXqTP+utmnoPH0eB1hU3k1wm/mzj1Xglc3rtVb/s78zKppbct2ffVXAC4oJg0LNx0ruPgoyu7KrQmQJ3cW+g4AFyd/vipdsYJjj37JI297xZSLMv99W2b9Y2JcTZUzmz6G+yvPYBaGMst/w9/ZfvMy6q8u8v0EvwNwQbTtYZm/V5gmd5wY+TuL2QQuOBe2x8kxTQTpcYVL1LqkWkznm8Ye7uxxQ02LsH02gWZ1fh5wzwnqPZ6vVqI/BItY7P6fm32ahpgBbupPG/ERc+7pDFwtf2d+pud1TuOLseyM068AXJBCGpaZweO5srDU7motw/15attr/dHSpe1xv8anVIvnKeNEeAJ/ArPfWNMijGURcHHlU1hFNcoZN22rKQA2XD//ZptnYGk0OttFNWUQIkBnN+io9bTK27aCM/AObh6CaQWj4+XuZxGFpfh4cm7APSE1uOH79vw2Oa54vIMvAG4Ojc+u4GJNl587r6mUgQ0QeSXo0szya2SZ5TuMPXNPfFe8mc1XtbOb2uxcGSMmiM5XhbNDNv6CFVwQUBqWqunxb7ZqkzqstMp30Ku711Zi0uNeCIpMixj25E9k4repEXI1LcLYZiu42Xg/B7gIN/qTCT4WnoHZ4Hf7ReaTH07i1QSZwgouZniqINQeV9AhixPQFvwtfRNd93y66KYGABfkk4blGe5GOBZNr/hXA1xl96lbetx0AudEWvze3MX//V8M/3S+OJmu7r6gRT3sHCrT6Vc2RDWF8VZrCgCoAk7Bi1Z5oppaJ1y1LXgRwDjBzR+74C8At0rgfXbaLSyLplfqkU4O6XHJMN6pRfUGkawsLj+3Y/5PBgUvEltYc7NPYXylp4j8PSO7eKmjlPV4k0j8LF2P+uI3u6ULvN6HFVzQbHNYatqXTK/tm/ZLJ4f0uOTa3WkRH3XZI1My6IXmbjWV3sHFsSh4EU9V+txUUwQPW3HHLxMEoJFmvVScUh8AF4TcFJaWGVLTpZNDelxSQ3daHBxwtDrhrzJmj3iJB2uam30KWSmNT20Ft6aQHfcB4IK4m8Oyo0nvPrVFLVDTG1IkvZnvODQALohrcQJIc2NRC9QkTcOxjwPgADiWYMCASdJlh0WftIUG4IKiCAtFy6IWqIn8PVMLgAPgWN4BAyZJlx0WfdIWGoALiiIsFC2LWqAm8vdMLQAOgGN5BwyYJF12WPRJW2gALiiKsFC0LGqBmsjfM7UAOACO5R0wYJJ02WHRJ22hAbigKMJC0bKoBWoif8/UAuAAOJZ3wIBJ0mWHRZ+0hQbggqIIC0XLohaoifw9UwuAA+BY3gEDJkmXHRZ90ha6CjgvHn6gATKADBwhAzUwVgFXO8BqvzcR/54KWNQCNZ0z3QBc8N3iBJBG2qIWqEmahmMfB8ABcCzBgAGTpMsOiz5pCw3ABUURFoqWRS1QE/l7phYAB8CxvAMGTJIuOyz6pC00ABcURVgoWha1QE3k75laABwAx/IOGDBJuuyw6JO20ABcUBRhoWhZ1AI1kb9nagFwABzLO2DAJOmyw6JP2kIDcEFRhIWiZVEL1ET+nqkFwAFwLO+AAZOkyw6LPmkLDcAFRREWipZFLVAT+XumFgAHwLG8AwZMki47LPqkLfRxAPd3c5evm3toKxDOh7CQsBa1QE3k75laOwDu7q7D4Ibqz8Xd/uoSP34u7vJTwBgAVxdNeQtgoCzoTqez6JO2VDsB7uruxZF6+O0AOAX4bQnL/TsB+ne58qIcnXZu0WIsScEPbWlQU0HRDn0qjHJT18EB93C3rwCXjY+v0gkwwm2C2nM8xRXoJpvee7BUC+f0/NCuGDWlivbrUzpKjXZ3gJsB4/c6f9TNIOYfZwcPF4U7kWwC+BVptlr1Y87GqWHUO88h08I5TT+060VNpGjPPtEodVo7AS55ZGPv4hqPqB5U4/4ZNHytLYi1tq3USTQBijArQG/lGHrZTaRFOngFP9LTabRRU0HFDn0qjHJT1w6Ak48nrt78J3vMa5nR2rZyOKIJ4AE3PZ7GCy2/Z4x79vop0iItRsGP9HQabdRUULFDnwqj3NSlBzgvFlutvbCSGx9Hw8ptPFe20muZ0dq2Uh7RBADgyuoq+FE+sbxX5G96OdSUqnGYth7gKiVX/+wj2X98JzAM7vqbdKbA892tgLW2JadsNUUTwI+RvW/DI2rTq5YJO24T+ZuORyFj6ek02hZr0tAlPYc+4LIgLAPOAyGDWxxhCpDsvHGX8bO1bbZj/RdRWPx18SUDF1XBD37SbT0if9NLoqZUjcO0OwDcSq1aAWttW3l66QSI7w2fl3l+/T5bia68fk+7SbWYalDwYzqXUgM1FYTs0KfCKDd17Q64TaNLD26Z0dqWnqPRlk+A5G+KhsKXI41r9rpJrkWoSMEPbW1QU0HRDn0qjHJT1z6AW/iyQbTC2dmMzRNgkw19HWxRC9TUV8beNRp9wL1r5MrXsTgBpBJZ1AI1SdNw7OMAuOCfxQkgjaZFLVCTNA3HPg6AA+BYggEDJkmXHRZ90hYagAuKIiwULYtaoCby90wtAA6AY3kHDJgkXXZY9ElbaAAuKIqwULQsaoGayN8ztQA4AI7lHTBgknTZYdEnbaEBuKAowkLRsqgFaiJ/z9QC4AA4lnfAgEnSZYdFn7SFBuCCoggLRcuiFqiJ/D1TC4AD4FjeAQMmSZcdFn3SFhqAC4oiLBQti1qgJvL3TC0ADoBjeQcMmCRddlj0SVvoKuC8ePiBBsgAMnCEDNTAWAVc7QCr/d5E/HsqYFEL1HTOdANwwXeLE0AaaYtaoCZpGo59HAAHwLEEAwZMki47LPqkLTQAFxRFWChaFrVATeTvmVoAHADH8g4YMEm67LDok7bQAFxQFGGhaFnUAjWRv2dqAXAAHMs7YMAk6bLDok/aQgNwQVGEhaJlUQvURP6eqQXAAXAs74ABk6TLDos+aQsNwAVFERaKlkUtUBP5e6YWAAfAsbwDBkySLjss+qQtNAAXFEVYKFoWtUBN5O+ZWgAcAMfyDhgwSbrssOiTttDHAdzfzV2+bu6hrUA4H8JCwlrUAjWRv2dq7QC4u7sOgxuqPxd3+6tL/Pi5uMtPAWMAXF005S2AgbKgO53Ook/aUu0EuKu7F0fq4acIuN/rDKRFMBbHwTs3h2VnAPMR79ezRYv7d3Jz+y6nYL+R18+8pabxrB36a7GmuoOyLQcG3MPdvtNH1ufK8forE0Ieloe7fYVJveMjtKwq2VFSLUa4TVB76rLlpiMbffkoaU3O9euvxZrK7sl7uwPcbJJkK7RhASD+8XaYJthrokjDMl2zwzv8awrQ3jIt/A0mW7l7/xY8o6vu25LV5FzP/lqsSTsFOwEueUxh7+Iaj6geEuP+2UTxVa8ASPX93QrVpGGZTr1ifNO+nTdEWhRhVoDeh2oX1ZSOtUN/LdaUSq7R3gFw8mHF1Zv/ZI82iwFbfr/XGhnCQuqItPCAY6vnbZ7QiLa3RDWll13MX7rze9oWa9JWTg9wPgBstfbCSm58HA0rt/Fc2UqvFbBwben7Ny8qwkLREmkBwJGAb2qJfErH1ppT6X4HbusBriLCmsfG8T3HMLgZoFLg+XNXzBhXffm7n8pYWt0IC6kj0sL7xd634RGVVNVviXxKh1GZU+kuR2/rAy4TbRlwfhJkcIuqppMmO6/fJT7Sxt23fCIspJ5IC+9PfqNJ/aPTf6QlqikdaSF/6eZPtC3WpK1jB4BbWRILmO7qAGEhH6RazG84zz+vmK3K6RJvb0lrmgbK8jdt+VjDYk3aYu4OOLUB5wHzv5fe+bHHpHUjQFhIJ7kWyd+MDYUviugSb2/JawpDzfP39gr4BS3WxKvc1rMP4ErgSfpEd/WdA7Y5LNt86Opoi1qgpq4i9rbB6APubUPXvZDFCSBVyKIWqEmahmMfB8AF/yxOAGk0LWqBmqRpOPZxABwAxxIMGDBJuuyw6JO20ABcUBRhoWhZ1AI1kb9nagFwABzLO2DAJOmyw6JP2kIDcEFRhIWiZVEL1ET+nqkFwAFwLO+AAZOkyw6LPmkLDcAFRREWipZFLVAT+XumFgAHwLG8AwZMki47LPqkLTQAFxRFWChaFrVATeTvmVoAHADH8g4YMEm67LDok7bQAFxQFGGhaFnUAjWRv2dqAXAAHMs7YMAk6bLDok/aQlcB58XDDzRABpCBI2SgBsYq4GoHWO33JuLfUwGLWqCmc6YbgAu+W5wA0khb1AI1SdNw7OMAOACOJRgwYJJ02WHRJ22hAbigKMJC0bKoBWoif8/UAuAAOJZ3wIBJ0mWHRZ+0hQbggqIIC0XLohaoifw9UwuAA+BY3gEDJkmXHRZ90hYagAuKIiwULYtaoCby90wtAA6AY3kHDJgkXXZY9ElbaAAuKIqwULQsaoGayN8ztQA4AI7lHTBgknTZYdEnbaEBuKAowkLRsqgFaiJ/z9QC4AA4lnfAgEnSZYdFn7SFPg7g/m7u8nVzD20FwvkQFhLWohaoifw9U2sHwN3ddRjcUP25uNtfXeLHz8VdfgoYA+DqoilvAQyUBd3pdBZ90pZqJ8Bd3b04Ug8/RcB56CUgvf4WL7qqUxyW3+sM5kU4rxpBPzuJtXDO3b+Tm9t3OQWfqFRcU8f+WqxJOxuHBtz9J31kXYZnSzxZWB7u9p2PYXBbQNsa47u2ybQIcJug9nC3r6G8Gn9XIcl1ZDX17a/FmhLLVJrdAW5cAcRJkt09h+Y7uOeEksJFFhbugX/EHuL4+eZD9Mi08DeYbOXu/Wt69j45ZDXx8fXkr8WauOLbenYCXPKYkjxCPt/LNR5Rp0fObKL4GpfewS1tX9BJMyxHf0wVaVGEWQF6Cz7stVlUU2Ew1XfEhX337rJYk7ZmOwBOPsS4evOfDBJFgPkJFGC6caWgE5Ztj8ly5XSPFGnhAcdWrv3oIaqJydpPPX5oFmtikm/s0APctPpqrd7SbdlKbnwcDSu38VzZ9iLgkurD9T/2iLrx+kklH2+KJo51wHXor8inNF0d1pQOT6OtB7jKaNYs6cf3GkP2cj4Fnj+3N2Nhlbbl/ciWsDy/OSw8Vlc06b1bpIX3i/njVzx96CKqKRjVq78Wa9KeG/qAy0C0DDg/CTK4xSrTSZOdN+6Sfn4CcPGxOh3H0duiiTOuBjKYpf59WBRRTfHPXtij94eLCZe3WJO2sh0AbmVJDHB3d5v9QXADlCsuIQtLPyuUFSWu3kWmRfnPRKSvDFYPduWOspr69tdiTSvtXL3b7oBbPZKlHRngnIuPtovfzi6dW/rCdly1pO8Vdb7wWDHcXXeRTRw/pOef6sT/xcK+KNp11O2Ti2rq3F+LNbVdfH3rPoCL32xWPkV39QLgXi+3foQoLPXTHXqLRS1Q06EjKR68PuDEQ/nsgRYngFRRi1qgJmkajn0cABf8szgBpNG0qAVqkqbh2McBcAAcSzBgwCTpssOiT9pCA3BBUYSFomVRC9RE/p6pBcABcCzvgAGTpMsOiz5pCw3ABUURFoqWRS1QE/l7phYAB8CxvAMGTJIuOyz6pC00ABcURVgoWha1QE3k75laABwAx/IOGDBJuuyw6JO20ABcUBRhoWhZ1AI1kb9nagFwABzLO2DAJOmyw6JP2kIDcEFRhIWiZVEL1ET+nqn1H8u6S2wuMwOAAAAAAElFTkSuQmCC)"
      ]
    },
    {
      "cell_type": "code",
      "execution_count": null,
      "metadata": {
        "id": "T6ltbUZB48k6"
      },
      "outputs": [],
      "source": [
        "#numpy를 사용하여서 코사인 유사도를 구함\n",
        "from numpy import dot\n",
        "from numpy.linalg import norm\n",
        "import numpy as np\n",
        "def cos_sim(A, B):\n",
        "       return dot(A, B)/(norm(A)*norm(B))"
      ]
    },
    {
      "cell_type": "code",
      "execution_count": null,
      "metadata": {
        "id": "fCAhL09fbZlv"
      },
      "outputs": [],
      "source": [
        "doc1=np.array([0,1,1,1])\n",
        "doc2=np.array([1,0,1,1])\n",
        "doc3=np.array([2,0,2,2])"
      ]
    },
    {
      "cell_type": "code",
      "execution_count": null,
      "metadata": {
        "id": "Vo5Vl8dabbIr"
      },
      "outputs": [],
      "source": [
        "print(cos_sim(doc1, doc2)) #문서1과 문서2의 코사인 유사도\n",
        "print(cos_sim(doc1, doc3)) #문서1과 문서3의 코사인 유사도\n",
        "print(cos_sim(doc2, doc3)) #문서2과 문서3의 코사인 유사도"
      ]
    },
    {
      "cell_type": "markdown",
      "metadata": {
        "id": "6ov5_FVMbgrH"
      },
      "source": [
        "눈여겨볼만한 점은 문서1과 문서2의 코사인 유사도와 문서1과 문서3의 코사인 유사도가 같다는 점과 문서2와 문서3의 코사인 유사도가 1이 나온다는 것입니다. 앞서 1은 두 벡터의 방향이 완전히 동일한 경우에 1이 나오며, 코사인 유사도 관점에서는 유사도의 값이 최대임을 의미한다고 언급한 바 있습니다.\n",
        "\n",
        "문서3은 문서2에서 단지 모든 단어의 빈도수가 1씩 증가했을 뿐입니다. 다시 말해 한 문서 내의 모든 단어의 빈도수가 동일하게 증가하는 경우에는 기존의 문서와 코사인 유사도의 값이 1이라는 것입니다. 이것이 시사하는 점은 무엇일까요? 코사인 유사도를 사용하지 않는다고 가정하였을 때, 문서 A에 대해서 모든 문서와의 유사도를 구한다고 가정해봅시다. 다른 문서들과 문서 B나 거의 동일한 패턴을 가지는 문서임에도 문서 B가 단순히 다른 문서들보다 원문 길이가 긴 문서라는 이유로 (단어의 빈도수가 일정하게 더 높아질 때) 다른 문서들보다 유사도가 더 높게 나온다면 이는 우리가 원하는 결과가 아닙니다. 코사인 유사도는 문서의 길이가 다른 상황에서 비교적 공정한 비교를 할 수 있도록 도와줍니다"
      ]
    },
    {
      "cell_type": "markdown",
      "metadata": {
        "id": "nQcgYnQv41fV"
      },
      "source": [
        "문서 유사도 측정 예제"
      ]
    },
    {
      "cell_type": "code",
      "execution_count": null,
      "metadata": {
        "id": "QfYgmj8Y44Hk"
      },
      "outputs": [],
      "source": [
        "import numpy as np\n",
        "\n",
        "def cos_similarity(v1, v2):\n",
        "    dot_product = np.dot(v1, v2)\n",
        "    l2_norm = (np.sqrt(sum(np.square(v1))) * np.sqrt(sum(np.square(v2))))\n",
        "    similarity = dot_product / l2_norm\n",
        "\n",
        "    return similarity"
      ]
    },
    {
      "cell_type": "code",
      "execution_count": null,
      "metadata": {
        "id": "RUv229tV44Uc"
      },
      "outputs": [],
      "source": [
        "from sklearn.feature_extraction.text import TfidfVectorizer\n",
        "\n",
        "doc_list = ['if you take the blue pill, the story ends' ,\n",
        "            'if you take the red pill, you stay in Wonderland',\n",
        "            'if you take the red pill, I show you how deep the rabbit hole goes']\n",
        "\n",
        "tfidf_vect_simple = TfidfVectorizer()\n",
        "feature_vect_simple = tfidf_vect_simple.fit_transform(doc_list)\n",
        "print(feature_vect_simple.shape)"
      ]
    },
    {
      "cell_type": "code",
      "execution_count": null,
      "metadata": {
        "id": "7ESOfEFs44gG"
      },
      "outputs": [],
      "source": [
        "# TFidfVectorizer로 transform()한 결과는 Sparse Matrix이므로 Dense Matrix로 변환.\n",
        "feature_vect_dense = feature_vect_simple.todense()\n",
        "\n",
        "#첫번째 문장과 두번째 문장의 feature vector  추출\n",
        "vect1 = np.array(feature_vect_dense[0]).reshape(-1,)\n",
        "vect2 = np.array(feature_vect_dense[1]).reshape(-1,)\n",
        "\n",
        "#첫번째 문장과 두번째 문장의 feature vector로 두개 문장의 Cosine 유사도 추출\n",
        "similarity_simple = cos_similarity(vect1, vect2 )\n",
        "print('문장 1, 문장 2 Cosine 유사도: {0:.3f}'.format(similarity_simple))"
      ]
    },
    {
      "cell_type": "code",
      "execution_count": null,
      "metadata": {
        "id": "zQr6kpra45dK"
      },
      "outputs": [],
      "source": [
        "vect1 = np.array(feature_vect_dense[0]).reshape(-1,)\n",
        "vect3 = np.array(feature_vect_dense[2]).reshape(-1,)\n",
        "similarity_simple = cos_similarity(vect1, vect3 )\n",
        "print('문장 1, 문장 3 Cosine 유사도: {0:.3f}'.format(similarity_simple))\n",
        "\n",
        "vect2 = np.array(feature_vect_dense[1]).reshape(-1,)\n",
        "vect3 = np.array(feature_vect_dense[2]).reshape(-1,)\n",
        "similarity_simple = cos_similarity(vect2, vect3 )\n",
        "print('문장 2, 문장 3 Cosine 유사도: {0:.3f}'.format(similarity_simple))"
      ]
    },
    {
      "cell_type": "code",
      "execution_count": null,
      "metadata": {
        "id": "hI7wImbn47Jp"
      },
      "outputs": [],
      "source": [
        "from sklearn.metrics.pairwise import cosine_similarity\n",
        "\n",
        "similarity_simple_pair = cosine_similarity(feature_vect_simple[0] , feature_vect_simple)\n",
        "print(similarity_simple_pair)"
      ]
    },
    {
      "cell_type": "code",
      "execution_count": null,
      "metadata": {
        "id": "kV_OJDmZ5IKI"
      },
      "outputs": [],
      "source": [
        "from sklearn.metrics.pairwise import cosine_similarity\n",
        "\n",
        "similarity_simple_pair = cosine_similarity(feature_vect_simple[0] , feature_vect_simple[1:])\n",
        "print(similarity_simple_pair)"
      ]
    },
    {
      "cell_type": "code",
      "execution_count": null,
      "metadata": {
        "id": "cGwAQj8C47kG"
      },
      "outputs": [],
      "source": [
        "similarity_simple_pair = cosine_similarity(feature_vect_simple , feature_vect_simple)\n",
        "print(similarity_simple_pair)\n",
        "print('shape:',similarity_simple_pair.shape)"
      ]
    },
    {
      "cell_type": "markdown",
      "metadata": {
        "id": "PubFl9HZ-4Hc"
      },
      "source": [
        "# 여러가지 유사도 기법\n",
        "\n",
        "1. 유클리디 거리(Euclidean distnace)\n",
        "\n",
        "-다차원 공간에서 두개의 점 $p$와 $q$가 각각 $p=(p_1,p_2,p_3,\\cdots,p_n)$과 $q=(q_1,q_2,q_3,...,q_n)$의 좌표를 가질 때 두 점 사이의 거리를 계산하는 유클리드 거리 공식은 다음과 같습니다.\n",
        "\n",
        "\n",
        "<img src = 'https://upload.wikimedia.org/wikipedia/commons/thumb/5/55/Euclidean_distance_2d.svg/1200px-Euclidean_distance_2d.svg.png'>\n",
        "\n",
        "2. 자카드 유사도(Jaccard similarity)\n",
        "\n",
        "\n",
        "A와 B 두개의 집합이 있다고 합시다. 이때 교집합은 두 개의 집합에서 공통으로 가지고 있는 원소들의 집합을 말합니다. 즉, 합집합에서 교집합의 비율을 구한다면 두 집합 A와 B의 유사도를 구할 수 있다는 것이 자카드 유사도(jaccard similarity)의 아이디어입니다. 자카드 유사도는 0과 1사이의 값을 가지며, 만약 두 집합이 동일하다면 1의 값을 가지고, 두 집합의 공통 원소가 없다면 0의 값을 갖습니다. 자카드 유사도를 구하는 함수를 $J$라고 하였을 때, 자카드 유사도 함수 J는 아래와 같습니다.\n",
        "\n",
        "![image.png](data:image/png;base64,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)"
      ]
    },
    {
      "cell_type": "markdown",
      "metadata": {
        "id": "Nt7LftEJGEIZ"
      },
      "source": [
        "두 개의 비교할 문서를 각각 doc1, doc2라고 했을 때 doc1과 doc2의 문서의 유사도를 구하기 위한 자카드 유사도는 이와 같습니다.\n",
        "\n",
        "$J(doc_1,doc_2) = {\\dfrac{doc_1 {\\cap} doc_2}{doc_1 \\cup doc_2}}$"
      ]
    },
    {
      "cell_type": "code",
      "execution_count": null,
      "metadata": {
        "id": "aSLKa_iOGkV5"
      },
      "outputs": [],
      "source": [
        "# 다음과 같은 두 개의 문서가 있습니다.\n",
        "# 두 문서 모두에서 등장한 단어는 apple과 banana 2개.\n",
        "doc1 = \"apple banana everyone like likey watch card holder\"\n",
        "doc2 = \"apple banana coupon passport love you\"\n",
        "\n",
        "# 토큰화를 수행합니다.\n",
        "tokenized_doc1 = doc1.split()\n",
        "tokenized_doc2 = doc2.split()\n",
        "\n",
        "# 토큰화 결과 출력\n",
        "print(tokenized_doc1)\n",
        "print(tokenized_doc2)"
      ]
    },
    {
      "cell_type": "code",
      "execution_count": null,
      "metadata": {
        "id": "q4UsRQ3mGkXk"
      },
      "outputs": [],
      "source": [
        "union = set(tokenized_doc1).union(set(tokenized_doc2))\n",
        "print(union)"
      ]
    },
    {
      "cell_type": "markdown",
      "metadata": {
        "id": "CUlznvuaGse3"
      },
      "source": [
        "문서1과 문서2의 합집합의 단어의 총 개수는 12개인 것을 확인할 수 있습니다. 그렇다면, 문서1과 문서2의 교집합을 구해보겠습니다. 즉, 문서1과 문서2에서 둘 다 등장한 단어를 구하게 됩니다."
      ]
    },
    {
      "cell_type": "code",
      "execution_count": null,
      "metadata": {
        "id": "7xcqv84OGkZw"
      },
      "outputs": [],
      "source": [
        "intersection = set(tokenized_doc1).intersection(set(tokenized_doc2))\n",
        "print(intersection)"
      ]
    },
    {
      "cell_type": "markdown",
      "metadata": {
        "id": "tGSPKH_ZGv7I"
      },
      "source": [
        "문서1과 문서2에서 둘 다 등장한 단어는 banana와 apple 총 2개입니다. 이제 교집합의 수를 합집합의 수로 나누면 자카드 유사도가 계산됩니다."
      ]
    },
    {
      "cell_type": "code",
      "execution_count": null,
      "metadata": {
        "id": "SDKTehELGkc4"
      },
      "outputs": [],
      "source": [
        "print(len(intersection)/len(union)) # 2를 12로 나눔.|"
      ]
    },
    {
      "cell_type": "markdown",
      "metadata": {
        "id": "HpavLq0OHA1v"
      },
      "source": [
        "# 레벤슈타인 거리(Levenshtein distance)\n",
        "- 레벤슈타인 거리는 문자열이 얼마나 비슷한 지를 나타내는 것으로 편집 거리라고 부름. 비슷한 어구 검색,  DNA  배열의 유사성 판단 등 다양한 분야에서 활용 됨.\n",
        "\n",
        "- 편집할 때 몇번의 문자열 조작이 필요한지를 계산해 편집거리를 구함.\n",
        "\n",
        "참고 :https://too-march.tistory.com/20\n"
      ]
    },
    {
      "cell_type": "code",
      "execution_count": null,
      "metadata": {
        "id": "Gluzsy7oHVro"
      },
      "outputs": [],
      "source": [
        "#레벤슈타인 거리 구하기\n",
        "def cal_distnace(a,b):\n",
        "  #레벤슈타인 거리 구하기\n",
        "  if a==b: return 0 #문자열이 동일하면 레벤슈타인 거리는 0\n",
        "  a_len = len(a)\n",
        "  b_len = len(b)\n",
        "  if a==\"\": return b_len #문자열 a가 공집합인 경우 레벤슈타인 거리는 b_len 만큼\n",
        "  if b==\"\": return a_len # 문자열 b가 공집합인 경우 레벤슈타인 거리는 a_len 만큼\n",
        "\n",
        "  #2차원 표(a_len+1,b_len+1) 준비하기 -> 비교를 공집합부터 시작하기 때문에 '문자열 길이+1'크기의 표를 준비\n",
        "  matrix = [ [] for i in range(a_len+1)]\n",
        "  for i in range(a_len+1): #0으로 초기화\n",
        "    matrix[i] = [0 for j in range(b_len+1)]\n",
        "\n",
        "  #0일 때 초깃값을 설정, 첫번째 행, 첫번째 열을 문자열 길이로 초기화\n",
        "  for i in range(a_len+1):\n",
        "    matrix[i][0] = i\n",
        "  for j in range(b_len+1):\n",
        "    matrix[0][j] = j\n",
        "\n",
        "  #표를 채우는 작업\n",
        "    for i in range(1,a_len+1):\n",
        "     ac = a[i-1] #비교할 문자 세팅\n",
        "     for j in range(1,b_len+1):\n",
        "       bc  = b[j-1] #비교할 문자 세팅\n",
        "       cost =0 if (ac==bc) else 1  #비교하는 문자가 같으면 cost가 0, 다르면 1\n",
        "       matrix[i][j] = min([\n",
        "                           matrix[i-1][j]+1, #문자 삽입\n",
        "                           matrix[i][j-1], #문자 제거\n",
        "                           matrix[i-1][j-1]+cost #문자 변경\n",
        "                           ])\n",
        "  return matrix[a_len][b_len]\n"
      ]
    },
    {
      "cell_type": "code",
      "execution_count": null,
      "metadata": {
        "id": "tvav29EzLZ9t"
      },
      "outputs": [],
      "source": [
        "#'가나다라'와 '가마바라'의 거리\n",
        "print(cal_distnace('가나다라','가마바라'))"
      ]
    },
    {
      "cell_type": "code",
      "execution_count": null,
      "metadata": {
        "id": "7icjO8GsMPjc"
      },
      "outputs": [],
      "source": [
        "#실행 예\n",
        "samples = ['신촌역','신천군','신천역','신발','마곡역']\n",
        "base = samples[0]\n",
        "r = sorted(samples, key = lambda n:cal_distnace(base,n))\n",
        "for n in r:\n",
        "  print(cal_distnace(base,n),n)"
      ]
    },
    {
      "cell_type": "markdown",
      "metadata": {
        "id": "yHVuAHJCNDa5"
      },
      "source": [
        "프로그램 동작 과정을 살펴보자.\n",
        "1. 레벤슈타인 거리를 구하기 위해 2차원의 표를 만든다.\n",
        "2. 첫행,첫열은 문자열의 길이로 초기화해준다.\n",
        "3. 표에서 빨간 부분을 채울 때,\n",
        "\n",
        "노랑+1 : 문자 삽입\n",
        "\n",
        "초록 +cost : 문자 변경,  cost값은 비교하는 문자가 같으면 0 아니면 1이다.\n",
        "\n",
        "파랑+1 : 문자 삭제\n",
        "\n",
        "이 3가지 값 중에서 최솟값이 빨간 부분에 들어가는 것.\n",
        "\n",
        "이 경우에는 최솟값이 0이다. 초록 부분이 0이고, cost값은 비교하는 문자가 둘 다 '가'로 동일하게 때문에 0이다.\n",
        "\n",
        "따라서 빨간 부분은 0이다.\n",
        "\n",
        "이렇게 계속 값을 채워나가서 마지막열, 마지막 행 부분인 회색 부분이 최종적인 레벤슈타인 거리가 된다.\n",
        "\n",
        "\n",
        "![image.png](data:image/png;base64,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)\n",
        "\n",
        "![image.png](data:image/png;base64,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)"
      ]
    },
    {
      "cell_type": "code",
      "execution_count": null,
      "metadata": {
        "id": "7Yvn44HvFF1E"
      },
      "outputs": [],
      "source": [
        "edit_distance('relate','relation')"
      ]
    },
    {
      "cell_type": "markdown",
      "metadata": {
        "id": "F5nwc6SZ5P58"
      },
      "source": [
        "# Opinion Review 데이터 셋을 이용한 문서 유사도 측정"
      ]
    },
    {
      "cell_type": "code",
      "execution_count": null,
      "metadata": {
        "id": "TFXYPFMd5T5M"
      },
      "outputs": [],
      "source": [
        "from nltk.stem import WordNetLemmatizer\n",
        "import nltk\n",
        "import string\n",
        "\n",
        "remove_punct_dict = dict((ord(punct), None) for punct in string.punctuation)\n",
        "lemmar = WordNetLemmatizer()\n",
        "\n",
        "def LemTokens(tokens):\n",
        "    return [lemmar.lemmatize(token) for token in tokens]\n",
        "\n",
        "def LemNormalize(text):\n",
        "    return LemTokens(nltk.word_tokenize(text.lower().translate(remove_punct_dict)))"
      ]
    },
    {
      "cell_type": "code",
      "execution_count": null,
      "metadata": {
        "id": "tIPX5DmT5UHL"
      },
      "outputs": [],
      "source": [
        "import pandas as pd\n",
        "import glob ,os\n",
        "pd.set_option('display.max_colwidth', 1000)  # 1000 자로 column 크기 키우기\n",
        "\n",
        "path = r'/content/drive/MyDrive/OpinosisDataset1.0/topics'\n",
        "# path로 지정한 디렉토리 밑에 있는 모든 .data 파일들의 파일명을 리스트로 취합\n",
        "all_files = glob.glob(os.path.join(path, \"*.data\"))\n",
        "filename_list = []\n",
        "opinion_text = []\n",
        "\n",
        "# 개별 파일들의 파일명은 filename_list 리스트로 취합,\n",
        "# 개별 파일들의 파일내용은 DataFrame로딩 후 다시 string으로 변환하여 opinion_text 리스트로 취합\n",
        "for file_ in all_files:\n",
        "    # 개별 파일을 읽어서 DataFrame으로 생성\n",
        "    df = pd.read_table(file_,index_col=None, header=0,encoding='latin1')\n",
        "\n",
        "    # 절대경로로 주어진 file 명을 가공. 만일 Linux에서 수행시에는 아래 \\\\를 / 변경. 맨 마지막 .data 확장자도 제거\n",
        "    filename_ = file_.split('/')[-1]\n",
        "    filename = filename_.split('.')[0]\n",
        "\n",
        "    #파일명 리스트와 파일내용 리스트에 파일명과 파일 내용을 추가.\n",
        "    filename_list.append(filename)\n",
        "    opinion_text.append(df.to_string())\n",
        "\n",
        "# 파일명 리스트와 파일내용 리스트를  DataFrame으로 생성\n",
        "document_df = pd.DataFrame({'filename':filename_list, 'opinion_text':opinion_text})\n",
        "document_df.head()"
      ]
    },
    {
      "cell_type": "code",
      "execution_count": null,
      "metadata": {
        "id": "3ZczSwzk5UTj"
      },
      "outputs": [],
      "source": [
        "tfidf_vect = TfidfVectorizer(tokenizer=LemNormalize, stop_words='english' , \\\n",
        "                             ngram_range=(1,2), min_df=0.05, max_df=0.85 )\n",
        "feature_vect = tfidf_vect.fit_transform(document_df['opinion_text'])\n",
        "\n",
        "km_cluster = KMeans(n_clusters=3, max_iter=10000, random_state=0)\n",
        "km_cluster.fit(feature_vect)\n",
        "cluster_label = km_cluster.labels_\n",
        "cluster_centers = km_cluster.cluster_centers_\n",
        "document_df['cluster_label'] = cluster_label"
      ]
    },
    {
      "cell_type": "code",
      "execution_count": null,
      "metadata": {
        "id": "_Y4o0qME5Umq"
      },
      "outputs": [],
      "source": [
        "from sklearn.metrics.pairwise import cosine_similarity\n",
        "\n",
        "# cluster_label=1인 데이터는 호텔로 클러스터링된 데이터임. DataFrame에서 해당 Index를 추출\n",
        "hotel_indexes = document_df[document_df['cluster_label']==1].index\n",
        "print('호텔로 클러스터링 된 문서들의 DataFrame Index:', hotel_indexes)\n",
        "\n",
        "# 호텔로 클러스터링된 데이터 중 첫번째 문서를 추출하여 파일명 표시.\n",
        "comparison_docname = document_df.iloc[hotel_indexes[0]]['filename']\n",
        "print('##### 비교 기준 문서명 ',comparison_docname,' 와 타 문서 유사도######')\n",
        "\n",
        "''' document_df에서 추출한 Index 객체를 feature_vect로 입력하여 호텔 클러스터링된 feature_vect 추출\n",
        "이를 이용하여 호텔로 클러스터링된 문서 중 첫번째 문서와 다른 문서간의 코사인 유사도 측정.'''\n",
        "similarity_pair = cosine_similarity(feature_vect[hotel_indexes[0]] , feature_vect[hotel_indexes])\n",
        "print(similarity_pair)"
      ]
    },
    {
      "cell_type": "code",
      "execution_count": null,
      "metadata": {
        "id": "cBv0aItf5Uzc"
      },
      "outputs": [],
      "source": [
        "import seaborn as sns\n",
        "import numpy as np\n",
        "import matplotlib.pyplot as plt\n",
        "%matplotlib inline\n",
        "\n",
        "# argsort()를 이용하여 앞예제의 첫번째 문서와 타 문서간 유사도가 큰 순으로 정렬한 인덱스 반환하되 자기 자신은 제외.\n",
        "sorted_index = similarity_pair.argsort()[:,::-1]\n",
        "sorted_index = sorted_index[:, 1:]\n",
        "\n",
        "# 유사도가 큰 순으로 hotel_indexes를 추출하여 재 정렬.\n",
        "hotel_sorted_indexes = hotel_indexes[sorted_index.reshape(-1)]\n",
        "\n",
        "# 유사도가 큰 순으로 유사도 값을 재정렬하되 자기 자신은 제외\n",
        "hotel_1_sim_value = np.sort(similarity_pair.reshape(-1))[::-1]\n",
        "hotel_1_sim_value = hotel_1_sim_value[1:]\n",
        "\n",
        "# 유사도가 큰 순으로 정렬된 Index와 유사도값을 이용하여 파일명과 유사도값을 Seaborn 막대 그래프로 시각화\n",
        "hotel_1_sim_df = pd.DataFrame()\n",
        "hotel_1_sim_df['filename'] = document_df.iloc[hotel_sorted_indexes]['filename']\n",
        "hotel_1_sim_df['similarity'] = hotel_1_sim_value\n",
        "\n",
        "sns.barplot(x='similarity', y='filename',data=hotel_1_sim_df)\n",
        "plt.title(comparison_docname)"
      ]
    },
    {
      "cell_type": "markdown",
      "metadata": {
        "id": "SxFsZMTUWOqa"
      },
      "source": [
        "#네이버 영화리뷰 감성 분석"
      ]
    },
    {
      "cell_type": "code",
      "execution_count": null,
      "metadata": {
        "id": "5TOfPTZSi019"
      },
      "outputs": [],
      "source": [
        "!pip install konlpy"
      ]
    },
    {
      "cell_type": "code",
      "execution_count": null,
      "metadata": {
        "id": "uuC6traUp9RR"
      },
      "outputs": [],
      "source": [
        "!wget https://github.com/rickiepark/python-machine-learning-book-3rd-edition/raw/master/ch08/ratings_train.txt -O ratings_train.txt\n",
        "!wget https://github.com/rickiepark/python-machine-learning-book-3rd-edition/raw/master/ch08/ratings_train.txt -O ratings_test.txt"
      ]
    },
    {
      "cell_type": "code",
      "execution_count": null,
      "metadata": {
        "id": "GyTpOFaDp9VQ"
      },
      "outputs": [],
      "source": [
        "import pandas as pd\n",
        "\n",
        "train_df = pd.read_csv('./ratings_train.txt', sep='\\t')\n",
        "train_df.head(3)"
      ]
    },
    {
      "cell_type": "code",
      "execution_count": null,
      "metadata": {
        "id": "IyCwBRSlp9as"
      },
      "outputs": [],
      "source": [
        "train_df['label'].value_counts( )"
      ]
    },
    {
      "cell_type": "code",
      "execution_count": null,
      "metadata": {
        "id": "Q8bZuSnyp9fK"
      },
      "outputs": [],
      "source": [
        "import re\n",
        "\n",
        "train_df = train_df.fillna(' ')\n",
        "# 정규 표현식을 이용하여 숫자를 공백으로 변경(정규 표현식으로 \\d 는 숫자를 의미함.)\n",
        "train_df['document'] = train_df['document'].apply( lambda x : re.sub(r\"\\d+\", \" \", x) )\n",
        "\n",
        "# 테스트 데이터 셋을 로딩하고 동일하게 Null 및 숫자를 공백으로 변환\n",
        "test_df = pd.read_csv('./ratings_test.txt', sep='\\t')\n",
        "test_df = test_df.fillna(' ')\n",
        "test_df['document'] = test_df['document'].apply( lambda x : re.sub(r\"\\d+\", \" \", x) )"
      ]
    },
    {
      "cell_type": "code",
      "execution_count": null,
      "metadata": {
        "id": "Vab40veyp9ju"
      },
      "outputs": [],
      "source": [
        "from konlpy.tag import Twitter\n",
        "\n",
        "twitter = Twitter()\n",
        "def tw_tokenizer(text):\n",
        "    # 입력 인자로 들어온 text 를 형태소 단어로 토큰화 하여 list 객체 반환\n",
        "    tokens_ko = twitter.morphs(text)\n",
        "    return tokens_ko"
      ]
    },
    {
      "cell_type": "code",
      "execution_count": null,
      "metadata": {
        "id": "RhyFiG_ip9n6"
      },
      "outputs": [],
      "source": [
        "from sklearn.feature_extraction.text import TfidfVectorizer\n",
        "from sklearn.linear_model import LogisticRegression\n",
        "from sklearn.model_selection import GridSearchCV\n",
        "\n",
        "# Twitter 객체의 morphs( ) 객체를 이용한 tokenizer를 사용. ngram_range는 (1,2)\n",
        "tfidf_vect = TfidfVectorizer(tokenizer=tw_tokenizer, ngram_range=(1,2), min_df=3, max_df=0.9)\n",
        "tfidf_vect.fit(train_df['document'])\n",
        "tfidf_matrix_train = tfidf_vect.transform(train_df['document'])"
      ]
    },
    {
      "cell_type": "code",
      "execution_count": null,
      "metadata": {
        "id": "Ut-HRJ6jqS3c"
      },
      "outputs": [],
      "source": [
        "# Logistic Regression 을 이용하여 감성 분석 Classification 수행.\n",
        "lg_clf = LogisticRegression(random_state=0)\n",
        "\n",
        "# Parameter C 최적화를 위해 GridSearchCV 를 이용.\n",
        "params = { 'C': [1 ,3.5, 4.5, 5.5, 10 ] }\n",
        "grid_cv = GridSearchCV(lg_clf , param_grid=params , cv=3 ,scoring='accuracy', verbose=1 )\n",
        "grid_cv.fit(tfidf_matrix_train , train_df['label'] )\n",
        "print(grid_cv.best_params_ , round(grid_cv.best_score_,4))"
      ]
    },
    {
      "cell_type": "code",
      "execution_count": null,
      "metadata": {
        "id": "s8pgGDVNqTOS"
      },
      "outputs": [],
      "source": [
        "from sklearn.metrics import accuracy_score\n",
        "\n",
        "# 학습 데이터를 적용한 TfidfVectorizer를 이용하여 테스트 데이터를 TF-IDF 값으로 Feature 변환함.\n",
        "tfidf_matrix_test = tfidf_vect.transform(test_df['document'])\n",
        "\n",
        "# classifier 는 GridSearchCV에서 최적 파라미터로 학습된 classifier를 그대로 이용\n",
        "best_estimator = grid_cv.best_estimator_\n",
        "preds = best_estimator.predict(tfidf_matrix_test)\n",
        "\n",
        "print('Logistic Regression 정확도: ',accuracy_score(test_df['label'],preds))"
      ]
    },
    {
      "cell_type": "markdown",
      "metadata": {
        "id": "H_CYsKp4tF96"
      },
      "source": [
        "#kaggle Mercari Price Suggestion Challenge(https://www.kaggle.com/c/mercari-price-suggestion-challenge)\n",
        "\n",
        "-아래와 같은 피쳐들을 기반으로 제품가격을 예측하는 회귀 모델을 생성\n",
        "\n",
        "### Feature\n",
        "\n",
        "- train_id : 데이터_id\n",
        "- name : 제품명\n",
        "- category_name : 카테고리 명\n",
        "- brand_name : 브랜드 이름\n",
        "- shipping : 배송비 무료 여부.\n",
        "- item_description : 제품에 대한 설명\n",
        "\n",
        "### Target\n",
        "- Price : 제품 가격\n",
        "\n",
        "\n",
        "\n",
        "텍스트 칼럼들을 피쳐 벡터화 후 나머지 피쳐들과 결합하여 학습/테스트용 피쳐 데이터 셋을 생성\n",
        "\n",
        "어떻게 효율적으로 텍스트들을 효율적으로 추출하고 벡터화 할것인가에 따라 예측 성능 개선 가능."
      ]
    },
    {
      "cell_type": "markdown",
      "metadata": {
        "id": "ieeZmByZtNxi"
      },
      "source": [
        "데이터 전처리"
      ]
    },
    {
      "cell_type": "code",
      "execution_count": null,
      "metadata": {
        "id": "EFy2zW99qiYu"
      },
      "outputs": [],
      "source": [
        "\n",
        "from sklearn.linear_model import Ridge , LogisticRegression\n",
        "from sklearn.model_selection import train_test_split , cross_val_score\n",
        "from sklearn.feature_extraction.text import CountVectorizer , TfidfVectorizer\n",
        "import pandas as pd\n",
        "\n",
        "mercari_df= pd.read_csv('/content/drive/MyDrive/Mercari Price/train.tsv',sep='\\t')\n",
        "print(mercari_df.shape)\n",
        "mercari_df.head(3)"
      ]
    },
    {
      "cell_type": "code",
      "execution_count": null,
      "metadata": {
        "id": "7hS4Uc4dqieA"
      },
      "outputs": [],
      "source": [
        "print(mercari_df.info())"
      ]
    },
    {
      "cell_type": "code",
      "execution_count": null,
      "metadata": {
        "id": "UOlRdRlaqikj"
      },
      "outputs": [],
      "source": [
        "import matplotlib.pyplot as plt\n",
        "import seaborn as sns\n",
        "%matplotlib inline\n",
        "\n",
        "y_train_df = mercari_df['price']\n",
        "plt.figure(figsize=(6,4))\n",
        "sns.distplot(y_train_df,kde=False)"
      ]
    },
    {
      "cell_type": "code",
      "execution_count": null,
      "metadata": {
        "id": "MMbXGEkzqirF"
      },
      "outputs": [],
      "source": [
        "import numpy as np\n",
        "\n",
        "y_train_df = np.log1p(y_train_df)\n",
        "sns.distplot(y_train_df,kde=False)"
      ]
    },
    {
      "cell_type": "code",
      "execution_count": null,
      "metadata": {
        "id": "mGtUozO7qivh"
      },
      "outputs": [],
      "source": [
        "mercari_df['price'] = np.log1p(mercari_df['price'])\n",
        "mercari_df['price'].head(3)"
      ]
    },
    {
      "cell_type": "code",
      "execution_count": null,
      "metadata": {
        "id": "q4iRm4XJqiz5"
      },
      "outputs": [],
      "source": [
        "print('Shipping 값 유형:\\n',mercari_df['shipping'].value_counts())\n",
        "print('item_condition_id 값 유형:\\n',mercari_df['item_condition_id'].value_counts())"
      ]
    },
    {
      "cell_type": "code",
      "execution_count": null,
      "metadata": {
        "id": "yKSdOd0_te3u"
      },
      "outputs": [],
      "source": [
        "boolean_cond= mercari_df['item_description']=='No description yet'\n",
        "mercari_df[boolean_cond]['item_description'].count()"
      ]
    },
    {
      "cell_type": "markdown",
      "metadata": {
        "id": "yljJxR7c0zCZ"
      },
      "source": [
        "category name이 대/중/소 와 같이 '/' 문자열 기반으로 되어 있음. 이를 개별 컬럼들로 재 생성"
      ]
    },
    {
      "cell_type": "code",
      "execution_count": null,
      "metadata": {
        "id": "kY0kcVzx17_8"
      },
      "outputs": [],
      "source": [
        "# apply lambda에서 호출되는 대,중,소 분할 함수 생성, 대,중,소 값을 리스트 반환\n",
        "def split_cat(category_name):\n",
        "    try:\n",
        "        return category_name.split('/')\n",
        "    except:\n",
        "        return ['Other_Null' , 'Other_Null' , 'Other_Null']\n",
        "# 위의 split_cat( )을 apply lambda에서 호출하여 대,중,소 컬럼을 mercari_df에 생성.\n",
        "mercari_df['category_list'] = mercari_df['category_name'].apply(lambda x: split_cat(x))\n",
        "mercari_df['category_list'].head()"
      ]
    },
    {
      "cell_type": "code",
      "execution_count": null,
      "metadata": {
        "id": "51p_yII42LqU"
      },
      "outputs": [],
      "source": [
        "mercari_df['cat_dae'] = mercari_df['category_list'].apply(lambda x:x[0])\n",
        "mercari_df['cat_jung'] = mercari_df['category_list'].apply(lambda x:x[1])\n",
        "mercari_df['cat_so'] = mercari_df['category_list'].apply(lambda x:x[2])\n",
        "\n",
        "mercari_df.drop('category_list',axis = 1, inplace = True)"
      ]
    },
    {
      "cell_type": "code",
      "execution_count": null,
      "metadata": {
        "id": "BfuXXBH92huz"
      },
      "outputs": [],
      "source": [
        "mercari_df[['cat_dae','cat_jung','cat_so']].head()"
      ]
    },
    {
      "cell_type": "code",
      "execution_count": null,
      "metadata": {
        "id": "_2xPWNwlte8f"
      },
      "outputs": [],
      "source": [
        "# apply lambda에서 호출되는 대,중,소 분할 함수 생성, 대,중,소 값을 리스트 반환\n",
        "def split_cat(category_name):\n",
        "    try:\n",
        "        return category_name.split('/')\n",
        "    except:\n",
        "        return ['Other_Null' , 'Other_Null' , 'Other_Null']\n",
        "\n",
        "# 위의 split_cat( )을 apply lambda에서 호출하여 대,중,소 컬럼을 mercari_df에 생성.\n",
        "mercari_df['cat_dae'], mercari_df['cat_jung'], mercari_df['cat_so'] = \\\n",
        "                        zip(*mercari_df['category_name'].apply(lambda x : split_cat(x)))\n",
        "\n",
        "# 대분류만 값의 유형과 건수를 살펴보고, 중분류, 소분류는 값의 유형이 많으므로 분류 갯수만 추출\n",
        "print('대분류 유형 :\\n', mercari_df['cat_dae'].value_counts())\n",
        "print('중분류 갯수 :', mercari_df['cat_jung'].nunique())\n",
        "print('소분류 갯수 :', mercari_df['cat_so'].nunique())"
      ]
    },
    {
      "cell_type": "code",
      "execution_count": null,
      "metadata": {
        "id": "H6PJtqkLtfDC"
      },
      "outputs": [],
      "source": [
        "\n",
        "mercari_df['brand_name'] = mercari_df['brand_name'].fillna(value='Other_Null')\n",
        "mercari_df['category_name'] = mercari_df['category_name'].fillna(value='Other_Null')\n",
        "mercari_df['item_description'] = mercari_df['item_description'].fillna(value='Other_Null')\n",
        "\n",
        "# 각 컬럼별로 Null값 건수 확인. 모두 0가 나와야 합니다.\n",
        "mercari_df.isnull().sum()"
      ]
    },
    {
      "cell_type": "markdown",
      "metadata": {
        "id": "vNRXmtrvtkMl"
      },
      "source": [
        "피처 인코딩과 피처 벡터화"
      ]
    },
    {
      "cell_type": "markdown",
      "metadata": {
        "id": "X-nsilj83Wav"
      },
      "source": [
        "brand name 과 name의 종류 확인"
      ]
    },
    {
      "cell_type": "code",
      "execution_count": null,
      "metadata": {
        "id": "E6r_E86htjXp"
      },
      "outputs": [],
      "source": [
        "print('brand name 의 유형 건수 :', mercari_df['brand_name'].nunique())\n",
        "print('brand name sample 5건 : \\n', mercari_df['brand_name'].value_counts()[:5])"
      ]
    },
    {
      "cell_type": "code",
      "execution_count": null,
      "metadata": {
        "id": "O_13K7kGtmA6"
      },
      "outputs": [],
      "source": [
        "print('name 의 종류 갯수 :', mercari_df['name'].nunique())\n",
        "print('name sample 7건 : \\n', mercari_df['name'][:7])"
      ]
    },
    {
      "cell_type": "markdown",
      "metadata": {
        "id": "-k2bUUrt3fCL"
      },
      "source": [
        "item_descirption의 문자열 개수 확인"
      ]
    },
    {
      "cell_type": "code",
      "execution_count": null,
      "metadata": {
        "id": "3wpJmMGStn9g"
      },
      "outputs": [],
      "source": [
        "pd.set_option('max_colwidth', 200)\n",
        "\n",
        "# item_description의 평균 문자열 개수\n",
        "print('item_description 평균 문자열 개수:',mercari_df['item_description'].str.len().mean())\n",
        "\n",
        "mercari_df['item_description'][:2]"
      ]
    },
    {
      "cell_type": "code",
      "execution_count": null,
      "metadata": {
        "id": "aiqbZPKGtpf5"
      },
      "outputs": [],
      "source": [
        "# name 속성에 대한 feature vectorization 변환\n",
        "cnt_vec = CountVectorizer()\n",
        "X_name = cnt_vec.fit_transform(mercari_df.name)\n",
        "\n",
        "# item_description 에 대한 feature vectorization 변환\n",
        "tfidf_descp = TfidfVectorizer(max_features = 50000, ngram_range= (1,3) , stop_words='english')\n",
        "X_descp = tfidf_descp.fit_transform(mercari_df['item_description'])\n",
        "\n",
        "print('name vectorization shape:',X_name.shape)\n",
        "print('item_description vectorization shape:',X_descp.shape)"
      ]
    },
    {
      "cell_type": "code",
      "execution_count": null,
      "metadata": {
        "id": "DBmlyDv_trCO"
      },
      "outputs": [],
      "source": [
        "from sklearn.preprocessing import LabelBinarizer\n",
        "\n",
        "# brand_name, item_condition_id, shipping 각 피처들을 희소 행렬 원-핫 인코딩 변환\n",
        "lb_brand_name= LabelBinarizer(sparse_output=True)\n",
        "X_brand = lb_brand_name.fit_transform(mercari_df['brand_name'])\n",
        "\n",
        "lb_item_cond_id = LabelBinarizer(sparse_output=True)\n",
        "X_item_cond_id = lb_item_cond_id.fit_transform(mercari_df['item_condition_id'])\n",
        "\n",
        "lb_shipping= LabelBinarizer(sparse_output=True)\n",
        "X_shipping = lb_shipping.fit_transform(mercari_df['shipping'])\n",
        "\n",
        "# cat_dae, cat_jung, cat_so 각 피처들을 희소 행렬 원-핫 인코딩 변환\n",
        "lb_cat_dae = LabelBinarizer(sparse_output=True)\n",
        "X_cat_dae= lb_cat_dae.fit_transform(mercari_df['cat_dae'])\n",
        "\n",
        "lb_cat_jung = LabelBinarizer(sparse_output=True)\n",
        "X_cat_jung = lb_cat_jung.fit_transform(mercari_df['cat_jung'])\n",
        "\n",
        "lb_cat_so = LabelBinarizer(sparse_output=True)\n",
        "X_cat_so = lb_cat_so.fit_transform(mercari_df['cat_so'])"
      ]
    },
    {
      "cell_type": "code",
      "execution_count": null,
      "metadata": {
        "id": "vdreFNA6tsd8"
      },
      "outputs": [],
      "source": [
        "\n",
        "print(type(X_brand), type(X_item_cond_id), type(X_shipping))\n",
        "print('X_brand_shape:{0}, X_item_cond_id shape:{1}'.format(X_brand.shape, X_item_cond_id.shape))\n",
        "print('X_shipping shape:{0}, X_cat_dae shape:{1}'.format(X_shipping.shape, X_cat_dae.shape))\n",
        "print('X_cat_jung shape:{0}, X_cat_so shape:{1}'.format(X_cat_jung.shape, X_cat_so.shape))"
      ]
    },
    {
      "cell_type": "code",
      "execution_count": null,
      "metadata": {
        "id": "_AoJIafgtt3d"
      },
      "outputs": [],
      "source": [
        "from  scipy.sparse import hstack\n",
        "import gc\n",
        "\n",
        "sparse_matrix_list = (X_name, X_descp, X_brand, X_item_cond_id,\n",
        "            X_shipping, X_cat_dae, X_cat_jung, X_cat_so)\n",
        "\n",
        "# 사이파이 sparse 모듈의 hstack 함수를 이용하여 앞에서 인코딩과 Vectorization을 수행한 데이터 셋을 모두 결합.\n",
        "X_features_sparse= hstack(sparse_matrix_list).tocsr()\n",
        "print(type(X_features_sparse), X_features_sparse.shape)\n",
        "\n",
        "# 데이터 셋이 메모리를 많이 차지하므로 사용 용도가 끝났으면 바로 메모리에서 삭제.\n",
        "del X_features_sparse\n",
        "gc.collect()"
      ]
    },
    {
      "cell_type": "markdown",
      "metadata": {
        "id": "zTesht7FtvK3"
      },
      "source": [
        "릿지 회귀 모델 구축 및 평가"
      ]
    },
    {
      "cell_type": "code",
      "execution_count": null,
      "metadata": {
        "id": "oJUl_Pa1txdw"
      },
      "outputs": [],
      "source": [
        "def rmsle(y , y_pred):\n",
        "    # underflow, overflow를 막기 위해 log가 아닌 log1p로 rmsle 계산\n",
        "    return np.sqrt(np.mean(np.power(np.log1p(y) - np.log1p(y_pred), 2)))\n",
        "\n",
        "def evaluate_org_price(y_test , preds):\n",
        "\n",
        "    # 원본 데이터는 log1p로 변환되었으므로 exmpm1으로 원복 필요.\n",
        "    preds_exmpm = np.expm1(preds)\n",
        "    y_test_exmpm = np.expm1(y_test)\n",
        "\n",
        "    # rmsle로 RMSLE 값 추출\n",
        "    rmsle_result = rmsle(y_test_exmpm, preds_exmpm)\n",
        "    return rmsle_result"
      ]
    },
    {
      "cell_type": "code",
      "execution_count": null,
      "metadata": {
        "id": "_pkBnhrNty_j"
      },
      "outputs": [],
      "source": [
        "import gc\n",
        "from  scipy.sparse import hstack\n",
        "\n",
        "def model_train_predict(model,matrix_list):\n",
        "    # scipy.sparse 모듈의 hstack 을 이용하여 sparse matrix 결합\n",
        "    X= hstack(matrix_list).tocsr()\n",
        "\n",
        "    X_train, X_test, y_train, y_test=train_test_split(X, mercari_df['price'],\n",
        "                                                      test_size=0.2, random_state=156)\n",
        "\n",
        "    # 모델 학습 및 예측\n",
        "    model.fit(X_train , y_train)\n",
        "    preds = model.predict(X_test)\n",
        "\n",
        "    del X , X_train , X_test , y_train\n",
        "    gc.collect()\n",
        "\n",
        "    return preds , y_test"
      ]
    },
    {
      "cell_type": "code",
      "execution_count": null,
      "metadata": {
        "id": "7dfsxfsjt0Pm"
      },
      "outputs": [],
      "source": [
        "linear_model = Ridge(solver = \"lsqr\", fit_intercept=False)\n",
        "\n",
        "sparse_matrix_list = (X_name, X_brand, X_item_cond_id,\n",
        "                      X_shipping, X_cat_dae, X_cat_jung, X_cat_so)\n",
        "linear_preds , y_test = model_train_predict(model=linear_model ,matrix_list=sparse_matrix_list)\n",
        "print('Item Description을 제외했을 때 rmsle 값:', evaluate_org_price(y_test , linear_preds))\n",
        "\n",
        "sparse_matrix_list = (X_descp, X_name, X_brand, X_item_cond_id,\n",
        "                      X_shipping, X_cat_dae, X_cat_jung, X_cat_so)\n",
        "linear_preds , y_test = model_train_predict(model=linear_model , matrix_list=sparse_matrix_list)\n",
        "print('Item Description을 포함한 rmsle 값:',  evaluate_org_price(y_test ,linear_preds))"
      ]
    },
    {
      "cell_type": "markdown",
      "metadata": {
        "id": "hk0ltoF1t0_S"
      },
      "source": [
        "LightGBM 회귀 모델 구축과 앙상블을 이용한 최종 예측 평가"
      ]
    },
    {
      "cell_type": "code",
      "execution_count": null,
      "metadata": {
        "id": "sQ7kAlP1t2wu"
      },
      "outputs": [],
      "source": [
        "from lightgbm import LGBMRegressor\n",
        "\n",
        "sparse_matrix_list = (X_descp, X_name, X_brand, X_item_cond_id,\n",
        "                      X_shipping, X_cat_dae, X_cat_jung, X_cat_so)\n",
        "\n",
        "lgbm_model = LGBMRegressor(n_estimators=200, learning_rate=0.5, num_leaves=125, random_state=156)\n",
        "lgbm_preds , y_test = model_train_predict(model = lgbm_model , matrix_list=sparse_matrix_list)\n",
        "print('LightGBM rmsle 값:',  evaluate_org_price(y_test , lgbm_preds))"
      ]
    },
    {
      "cell_type": "code",
      "execution_count": null,
      "metadata": {
        "id": "X712AD41t21J"
      },
      "outputs": [],
      "source": [
        "preds = lgbm_preds * 0.45 + linear_preds * 0.55\n",
        "print('LightGBM과 Ridge를 ensemble한 최종 rmsle 값:',  evaluate_org_price(y_test , preds))"
      ]
    },
    {
      "cell_type": "code",
      "execution_count": null,
      "metadata": {
        "id": "oAcsnwHhhQ7t"
      },
      "outputs": [],
      "source": []
    }
  ]
}