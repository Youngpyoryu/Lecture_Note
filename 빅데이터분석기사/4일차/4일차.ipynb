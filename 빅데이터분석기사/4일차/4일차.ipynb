{
  "nbformat": 4,
  "nbformat_minor": 0,
  "metadata": {
    "colab": {
      "provenance": []
    },
    "kernelspec": {
      "name": "python3",
      "display_name": "Python 3"
    },
    "language_info": {
      "name": "python"
    }
  },
  "cells": [
    {
      "cell_type": "markdown",
      "source": [
        "## 생존여부 예측모델 만들기\n",
        "### 학습용 데이터 (X_train, y_train)을 이용하여 생존 예측 모형을 만든 후, 이를 평가용 데이터(X_test)에 적용하여 얻은 예측값을 다음과 같은 형식의 CSV파일로 생성하시오(제출한 모델의 성능은 accuracy 평가지표에 따라 채점)\n",
        "\n",
        "(가) 제공 데이터 목록\n",
        "- y_train: 생존여부(학습용)\n",
        "- X_trian, X_test : 승객 정보 (학습용 및 평가용)\n",
        "\n",
        "(나) 데이터 형식 및 내용\n",
        "- y_trian (712명 데이터)\n",
        "\n",
        "**시험환경 세팅은 예시문제와 동일한 형태의 X_train, y_train, X_test 데이터를 만들기 위함임**\n",
        "\n",
        "### 유의사항\n",
        "- 성능이 우수한 예측모형을 구축하기 위해서는 적절한 데이터 전처리, 피처엔지니어링, 분류알고리즘, 하이퍼파라미터 튜닝, 모형 앙상블 등이 수반되어야 한다.\n",
        "- 수험번호.csv파일이 만들어지도록 코드를 제출한다.\n",
        "- 제출한 모델의 성능은 accuracy로 평가함\n",
        "\n",
        "csv 출력형태\n",
        "\n",
        "<img src='data:image/png;base64,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'>"
      ],
      "metadata": {
        "id": "xNfBMH45gnio"
      }
    },
    {
      "cell_type": "markdown",
      "source": [
        "## 당뇨병 여부 판단\n",
        "\n",
        "이상치 처리 (Glucose, BloodPressure, SkinThickness, Insulin, BMI가 0인 값)\n",
        "\n",
        "## [참고]작업형2 문구\n",
        "- 출력을 원하실 경우 print() 함수 활용\n",
        "- 예시) print(df.head())\n",
        "- getcwd(), chdir() 등 작업 폴더 설정 불필요\n",
        "- 파일 경로 상 내부 드라이브 경로(C: 등) 접근 불가\n",
        "\n",
        "### 데이터 파일 읽기 예제\n",
        "- import pandas as pd\n",
        "- X_test = pd.read_csv(\"data/X_test.csv\")\n",
        "- X_train = pd.read_csv(\"data/X_train.csv\")\n",
        "- y_train = pd.read_csv(\"data/y_train.csv\")\n",
        "\n",
        "### 사용자 코딩\n",
        "\n",
        "### 답안 제출 참고\n",
        "- 아래 코드 예측변수와 수험번호를 개인별로 변경하여 활용\n",
        "- pd.DataFrame({'cust_id': X_test.cust_id, 'gender': pred}).to_csv('003000000.csv', index=False)"
      ],
      "metadata": {
        "id": "eCR7-qFcgxIV"
      }
    },
    {
      "cell_type": "code",
      "source": [
        "# 시험환경 세팅 (코드 변경 X)\n",
        "import pandas as pd\n",
        "import numpy as np\n",
        "from sklearn.model_selection import train_test_split\n",
        "\n",
        "def exam_data_load(df, target, id_name=\"\", null_name=\"\"):\n",
        "    if id_name == \"\":\n",
        "        df = df.reset_index().rename(columns={\"index\": \"id\"})\n",
        "        id_name = 'id'\n",
        "    else:\n",
        "        id_name = id_name\n",
        "\n",
        "    if null_name != \"\":\n",
        "        df[df == null_name] = np.nan\n",
        "\n",
        "    X_train, X_test = train_test_split(df, test_size=0.2, random_state=2021)\n",
        "\n",
        "    y_train = X_train[[id_name, target]]\n",
        "    X_train = X_train.drop(columns=[target])\n",
        "\n",
        "\n",
        "    y_test = X_test[[id_name, target]]\n",
        "    X_test = X_test.drop(columns=[target])\n",
        "    return X_train, X_test, y_train, y_test\n",
        "\n",
        "df = pd.read_csv(\"https://raw.githubusercontent.com/Youngpyoryu/Lecture_Note/main/%EB%B9%85%EB%8D%B0%EC%9D%B4%ED%84%B0%EB%B6%84%EC%84%9D%EA%B8%B0%EC%82%AC/3%EC%9D%BC%EC%B0%A8/Titanic.csv\")\n",
        "X_train, X_test, y_train, y_test = exam_data_load(df, target='Survived', id_name='PassengerId')\n",
        "\n",
        "X_train.shape, X_test.shape, y_train.shape, y_test.shape"
      ],
      "metadata": {
        "colab": {
          "base_uri": "https://localhost:8080/"
        },
        "id": "FMXNDQkPhnr-",
        "outputId": "e9e6cb0a-11e0-46a4-f15a-10d74e12fccc"
      },
      "execution_count": 1,
      "outputs": [
        {
          "output_type": "execute_result",
          "data": {
            "text/plain": [
              "((712, 11), (179, 11), (712, 2), (179, 2))"
            ]
          },
          "metadata": {},
          "execution_count": 1
        }
      ]
    },
    {
      "cell_type": "markdown",
      "source": [
        "# 성인 인구조사 소득 예측\n",
        "\n",
        "- age: 나이\n",
        "- workclass: 고용 형태\n",
        "- fnlwgt: 사람의 대표성을 나타내는 가중치(final weight)\n",
        "- education: 교육 수준\n",
        "- education.num: 교육 수준 수치\n",
        "- marital.status: 결혼 상태\n",
        "- occupation: 업종\n",
        "- relationship: 가족 관계\n",
        "- race: 인종\n",
        "- sex: 성별\n",
        "- capital.gain: 양도 소득\n",
        "- capital.loss: 양도 손실\n",
        "- hours.per.week: 주당 근무 시간\n",
        "- native.country: 국적\n",
        "- income: 수익 (예측해야 하는 값)"
      ],
      "metadata": {
        "id": "A--s6lbVsOBV"
      }
    },
    {
      "cell_type": "code",
      "source": [
        "# 시험환경 세팅 (코드 변경 X)\n",
        "import pandas as pd\n",
        "import numpy as np\n",
        "from sklearn.model_selection import train_test_split\n",
        "\n",
        "def exam_data_load(df, target, id_name=\"\", null_name=\"\"):\n",
        "    if id_name == \"\":\n",
        "        df = df.reset_index().rename(columns={\"index\": \"id\"})\n",
        "        id_name = 'id'\n",
        "    else:\n",
        "        id_name = id_name\n",
        "\n",
        "    if null_name != \"\":\n",
        "        df[df == null_name] = np.nan\n",
        "\n",
        "    X_train, X_test = train_test_split(df, test_size=0.2, random_state=2021)\n",
        "\n",
        "    y_train = X_train[[id_name, target]]\n",
        "    X_train = X_train.drop(columns=[target])\n",
        "\n",
        "\n",
        "    y_test = X_test[[id_name, target]]\n",
        "    X_test = X_test.drop(columns=[target])\n",
        "    return X_train, X_test, y_train, y_test\n",
        "\n",
        "df = pd.read_csv(\"https://raw.githubusercontent.com/Youngpyoryu/Lecture_Note/main/%EB%B9%85%EB%8D%B0%EC%9D%B4%ED%84%B0%EB%B6%84%EC%84%9D%EA%B8%B0%EC%82%AC/4%EC%9D%BC%EC%B0%A8/adult.csv\")\n",
        "X_train, X_test, y_train, y_test = exam_data_load(df, target='income', null_name='?')\n",
        "\n",
        "X_train.shape, X_test.shape, y_train.shape, y_test.shape"
      ],
      "metadata": {
        "colab": {
          "base_uri": "https://localhost:8080/"
        },
        "id": "_qcft8jOsSEL",
        "outputId": "eba875f7-d505-41ac-9c5a-c8b87676f8c0"
      },
      "execution_count": 3,
      "outputs": [
        {
          "output_type": "execute_result",
          "data": {
            "text/plain": [
              "((26048, 15), (6513, 15), (26048, 2), (6513, 2))"
            ]
          },
          "metadata": {},
          "execution_count": 3
        }
      ]
    },
    {
      "cell_type": "markdown",
      "source": [
        "## [참고]작업형2 문구\n",
        "- 출력을 원하실 경우 print() 함수 활용\n",
        "- 예시) print(df.head())\n",
        "- getcwd(), chdir() 등 작업 폴더 설정 불필요\n",
        "- 파일 경로 상 내부 드라이브 경로(C: 등) 접근 불가\n",
        "\n",
        "### 데이터 파일 읽기 예제\n",
        "- import pandas as pd\n",
        "- X_test = pd.read_csv(\"data/X_test.csv\")\n",
        "- X_train = pd.read_csv(\"data/X_train.csv\")\n",
        "- y_train = pd.read_csv(\"data/y_train.csv\")\n",
        "\n",
        "### 사용자 코딩\n",
        "\n",
        "### 답안 제출 참고\n",
        "- 아래 코드 예측변수와 수험번호를 개인별로 변경하여 활용\n",
        "- pd.DataFrame({'cust_id': X_test.cust_id, 'gender': pred}).to_csv('003000000.csv', index=False)"
      ],
      "metadata": {
        "id": "8oJkDd37kOpG"
      }
    },
    {
      "cell_type": "markdown",
      "source": [
        "## 집 값 예측\n",
        "예측할 변수 ['SalePrice']\n",
        "평가: rmse, r2\n",
        "\n",
        "rmse는 낮을 수록 좋은 성능\n",
        "r2는 높을 수록 좋은 성능"
      ],
      "metadata": {
        "id": "59FrNRg8lpV2"
      }
    },
    {
      "cell_type": "code",
      "execution_count": 2,
      "metadata": {
        "colab": {
          "base_uri": "https://localhost:8080/"
        },
        "id": "axlQwYaagldS",
        "outputId": "c7ea94a9-40da-4288-9cae-f207965ec839"
      },
      "outputs": [
        {
          "output_type": "execute_result",
          "data": {
            "text/plain": [
              "((1168, 79), (292, 79), (1168, 2), (292, 2))"
            ]
          },
          "metadata": {},
          "execution_count": 2
        }
      ],
      "source": [
        "# 시험환경 세팅 (코드 변경 X)\n",
        "import pandas as pd\n",
        "import numpy as np\n",
        "from sklearn.model_selection import train_test_split\n",
        "\n",
        "def exam_data_load(df, target, id_name=\"\", null_name=\"\"):\n",
        "    if id_name == \"\":\n",
        "        df = df.reset_index().rename(columns={\"index\": \"id\"})\n",
        "        id_name = 'id'\n",
        "    else:\n",
        "        id_name = id_name\n",
        "\n",
        "    if null_name != \"\":\n",
        "        df[df == null_name] = np.nan\n",
        "\n",
        "    X_train, X_test = train_test_split(df, test_size=0.2, shuffle=True, random_state=2021)\n",
        "    y_train = X_train[[id_name, target]]\n",
        "    X_train = X_train.drop(columns=[id_name, target])\n",
        "    y_test = X_test[[id_name, target]]\n",
        "    X_test = X_test.drop(columns=[id_name, target])\n",
        "    return X_train, X_test, y_train, y_test\n",
        "\n",
        "df = pd.read_csv(\"https://raw.githubusercontent.com/Youngpyoryu/Lecture_Note/main/%EB%B9%85%EB%8D%B0%EC%9D%B4%ED%84%B0%EB%B6%84%EC%84%9D%EA%B8%B0%EC%82%AC/4%EC%9D%BC%EC%B0%A8/train.csv\")\n",
        "X_train, X_test, y_train, y_test = exam_data_load(df, target='SalePrice', id_name='Id')\n",
        "\n",
        "X_train.shape, X_test.shape, y_train.shape, y_test.shape"
      ]
    },
    {
      "cell_type": "code",
      "source": [],
      "metadata": {
        "id": "x78jKMm9mT8C"
      },
      "execution_count": null,
      "outputs": []
    }
  ]
}