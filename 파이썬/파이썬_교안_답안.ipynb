{
  "nbformat": 4,
  "nbformat_minor": 0,
  "metadata": {
    "colab": {
      "provenance": []
    },
    "kernelspec": {
      "name": "python3",
      "display_name": "Python 3"
    },
    "language_info": {
      "name": "python"
    }
  },
  "cells": [
    {
      "cell_type": "code",
      "source": [
        "#P.66 연습문제 2-1\n",
        "apple=5\n",
        "orange=3\n",
        "total = apple+orange\n",
        "total"
      ],
      "metadata": {
        "colab": {
          "base_uri": "https://localhost:8080/"
        },
        "id": "D1BDuV6i5PtR",
        "outputId": "7b144fcc-4321-4972-f69f-34e8b0d58cc6"
      },
      "execution_count": 1,
      "outputs": [
        {
          "output_type": "execute_result",
          "data": {
            "text/plain": [
              "8"
            ]
          },
          "metadata": {},
          "execution_count": 1
        }
      ]
    },
    {
      "cell_type": "code",
      "source": [
        "#p.67 연습문제2-2\n",
        "kor=100\n",
        "eng=88\n",
        "math=94\n",
        "\n",
        "avg = (kor+eng+math) / 3\n",
        "avg"
      ],
      "metadata": {
        "colab": {
          "base_uri": "https://localhost:8080/"
        },
        "id": "qNAdfFSL5exX",
        "outputId": "53a3b804-befd-4bda-9699-81ece19044e8"
      },
      "execution_count": 2,
      "outputs": [
        {
          "output_type": "execute_result",
          "data": {
            "text/plain": [
              "94.0"
            ]
          },
          "metadata": {},
          "execution_count": 2
        }
      ]
    },
    {
      "cell_type": "code",
      "source": [
        "#p.119 연습문제3\n",
        "a='아메리카노를'\n",
        "b='좋아한다'\n",
        "c='많이'\n",
        "a+c*3+b"
      ],
      "metadata": {
        "colab": {
          "base_uri": "https://localhost:8080/",
          "height": 35
        },
        "id": "cjweD8Cc52dH",
        "outputId": "95e58c8d-4615-439c-baa3-2f8004bf4c8f"
      },
      "execution_count": 3,
      "outputs": [
        {
          "output_type": "execute_result",
          "data": {
            "text/plain": [
              "'아메리카노를많이많이많이좋아한다'"
            ],
            "application/vnd.google.colaboratory.intrinsic+json": {
              "type": "string"
            }
          },
          "metadata": {},
          "execution_count": 3
        }
      ]
    },
    {
      "cell_type": "code",
      "source": [
        "#p.120 연습문제3\n",
        "\n",
        "#2번\n",
        "food = ['삼겹살', '치킨', '팟타이', '탄산수', '커피']\n",
        "\n",
        "#3번\n",
        "food.insert(0,'파이썬')\n",
        "food.append('집')\n",
        "\n",
        "#4번\n",
        "food.pop(0)\n",
        "\n",
        "#5번\n",
        "food.remove('집')"
      ],
      "metadata": {
        "id": "aNC88idb6LMW"
      },
      "execution_count": 6,
      "outputs": []
    },
    {
      "cell_type": "code",
      "source": [
        "#P.139 연습문제4\n",
        "a = (63,70,64)\n",
        "type(a)\n",
        "\n",
        "bool(a[0]>65)\n",
        "\n",
        "bool(a[1]>65)\n",
        "\n",
        "bool(a[2]>65)"
      ],
      "metadata": {
        "colab": {
          "base_uri": "https://localhost:8080/"
        },
        "id": "h0ehHwxZ6pyH",
        "outputId": "16b1d5ea-b729-40b6-8f25-5376bfeccae1"
      },
      "execution_count": 8,
      "outputs": [
        {
          "output_type": "execute_result",
          "data": {
            "text/plain": [
              "False"
            ]
          },
          "metadata": {},
          "execution_count": 8
        }
      ]
    },
    {
      "cell_type": "code",
      "source": [
        "#P.140 연습문제4\n",
        "#1번\n",
        "scroes = {'kor':87, 'eng':88, 'math':92}\n",
        "\n",
        "#(1)\n",
        "3 <=1\n",
        "#(2)\n",
        "6 % 3==0\n",
        "\n",
        "#(3)\n",
        "s1 = {'a','b','c'}\n",
        "s2 = {'b','e','f','g'}\n",
        "\n",
        "s1 & s2=='b'\n",
        "\n",
        "#(4)\n",
        "s1 & s2=={'b'}"
      ],
      "metadata": {
        "colab": {
          "base_uri": "https://localhost:8080/"
        },
        "id": "W8PB4NFS68tg",
        "outputId": "1c46ea63-074c-4c98-d929-b6566c8b2a7b"
      },
      "execution_count": 11,
      "outputs": [
        {
          "output_type": "execute_result",
          "data": {
            "text/plain": [
              "True"
            ]
          },
          "metadata": {},
          "execution_count": 11
        }
      ]
    },
    {
      "cell_type": "code",
      "source": [
        "#P.141 연습문제4\n",
        "\n",
        "a = \"20190505chicken19000\"\n",
        "\n",
        "Year = a[0:4]\n",
        "\n",
        "Day = a[4:8]\n",
        "\n",
        "Menu = a[8:15]\n",
        "\n",
        "Money = a[15:20]"
      ],
      "metadata": {
        "id": "qR0V7AVu7eC-"
      },
      "execution_count": 13,
      "outputs": []
    },
    {
      "cell_type": "code",
      "source": [
        "#P.168 연습문제 5-1\n",
        "a = 34\n",
        "b = 4\n",
        "\n",
        "r = a % b\n",
        "\n",
        "if r > 3 :\n",
        "    print('실패')\n",
        "elif r == 3 :\n",
        "    print('무승부')\n",
        "else :\n",
        "    print('성공')\n"
      ],
      "metadata": {
        "colab": {
          "base_uri": "https://localhost:8080/"
        },
        "id": "yhPryy4Q7x3m",
        "outputId": "c37c8436-1942-4a0e-8096-0a64651531bc"
      },
      "execution_count": 14,
      "outputs": [
        {
          "output_type": "stream",
          "name": "stdout",
          "text": [
            "성공\n"
          ]
        }
      ]
    },
    {
      "cell_type": "code",
      "source": [
        "#P.169 연습문제 5-2\n",
        "x = int(input(\"정수 x = \"))\n",
        "\n",
        "if (x%2==1):\n",
        "    print('홀수입니다.')\n",
        "elif(x%2 ==0):\n",
        "    print('짝수입니다')"
      ],
      "metadata": {
        "colab": {
          "base_uri": "https://localhost:8080/"
        },
        "id": "UYdNNALP75gH",
        "outputId": "139fd53d-d8cb-4e97-de67-f96ad193daf6"
      },
      "execution_count": 16,
      "outputs": [
        {
          "output_type": "stream",
          "name": "stdout",
          "text": [
            "정수 x = 30\n",
            "짝수입니다\n"
          ]
        }
      ]
    },
    {
      "cell_type": "code",
      "source": [
        "#P.170 연습문제 5-3\n",
        "\n",
        "birth_year = int(input('당신의 태어난 년도를 입력해 주세요:'))\n",
        "\n",
        "age = 2024 - birth_year+1\n",
        "\n",
        "message=\"\"\n",
        "\n",
        "if 20<=age and age<=26:\n",
        "    message=\"대학생\"\n",
        "elif 17<=age and age<20:\n",
        "    message=\"고등학생\"\n",
        "elif 14<=age and age<17:\n",
        "    message=\"중학생\"\n",
        "elif (8<=age) and (age<14):\n",
        "    message=\"초등학생\"\n",
        "else:\n",
        "    print('학생이 아닙니다.')\n",
        "\n",
        "print(message)"
      ],
      "metadata": {
        "colab": {
          "base_uri": "https://localhost:8080/"
        },
        "id": "VmX4r1EO8B5I",
        "outputId": "dbb03d40-d308-4262-9a1f-54829f3bf061"
      },
      "execution_count": 17,
      "outputs": [
        {
          "output_type": "stream",
          "name": "stdout",
          "text": [
            "당신의 태어난 년도를 입력해 주세요:2004\n",
            "대학생\n"
          ]
        }
      ]
    },
    {
      "cell_type": "code",
      "source": [
        "#P.171 연습문제5-4\n",
        "\n",
        "A=int(input(''))\n",
        "B=int(input(''))\n",
        "C=int(input(''))\n",
        "\n",
        "if 0<=A<=100 and 0<=B<=100 and 0<=C<=100:\n",
        "    if 65<A<=100 and 65<B<=100 and 65<C<=100:\n",
        "        print('합격')\n",
        "    elif 0<A<=65 and 0<B<=65 and 0<C<=65:\n",
        "        print('불합격')\n",
        "else:\n",
        "    print('잘못된 점수가 입력되었습니다.')\n"
      ],
      "metadata": {
        "colab": {
          "base_uri": "https://localhost:8080/"
        },
        "id": "Igghcq9H8Xg3",
        "outputId": "00187c4a-e07b-47e3-edfd-01b4fffa33cb"
      },
      "execution_count": 18,
      "outputs": [
        {
          "output_type": "stream",
          "name": "stdout",
          "text": [
            "70\n",
            "70\n",
            "75\n",
            "합격\n"
          ]
        }
      ]
    },
    {
      "cell_type": "code",
      "source": [
        "#P.172 연습문제5-5\n",
        "\n",
        "num = int(input(\"정수를 하나 입력하세요 : \"))\n",
        "\n",
        "if num % 2 == 0 :\n",
        "    if num % 3 ==0:\n",
        "        print('2와 3으로 나누어 집니다 ')\n",
        "    else:\n",
        "        print('2로 나누어 집니다.')\n",
        "elif num % 3 == 0:\n",
        "    print('3으로 나누어 집니다.')\n",
        "else :\n",
        "    print('어느 것으로도 나누어지지 않습니다')\n",
        "\n"
      ],
      "metadata": {
        "colab": {
          "base_uri": "https://localhost:8080/"
        },
        "id": "w4hhOVAo8sDp",
        "outputId": "533c2525-cbe4-4fff-95c4-e5ae940c2c09"
      },
      "execution_count": 19,
      "outputs": [
        {
          "output_type": "stream",
          "name": "stdout",
          "text": [
            "정수를 하나 입력하세요 : 50\n",
            "2로 나누어 집니다.\n"
          ]
        }
      ]
    },
    {
      "cell_type": "code",
      "source": [
        "#P.187 Toy example\n",
        "sum=0\n",
        "for i in range(1,11):\n",
        "    sum = sum+i\n",
        "print(sum)"
      ],
      "metadata": {
        "colab": {
          "base_uri": "https://localhost:8080/"
        },
        "id": "iO41INDs8-Wh",
        "outputId": "b1df2a82-054c-44e4-9db4-fa50c93e41e8"
      },
      "execution_count": 20,
      "outputs": [
        {
          "output_type": "stream",
          "name": "stdout",
          "text": [
            "55\n"
          ]
        }
      ]
    },
    {
      "cell_type": "code",
      "source": [
        "#P.188 연습문제1\n",
        "#(1)\n",
        "a = int(input('정수를 입력해주세요:'))\n",
        "\n",
        "for i in range(a):\n",
        "    print('안녕')\n",
        "\n",
        "#(2)\n",
        "\n",
        "a = int(input('정수를 입력해주세요 : '))\n",
        "for i in range(a):\n",
        "    print('*'*(i+1))"
      ],
      "metadata": {
        "colab": {
          "base_uri": "https://localhost:8080/"
        },
        "id": "FSuStdZ69Iu4",
        "outputId": "2f772dd4-59b4-43a4-9253-093e20de784d"
      },
      "execution_count": 21,
      "outputs": [
        {
          "output_type": "stream",
          "name": "stdout",
          "text": [
            "정수를 입력해주세요:3\n",
            "안녕\n",
            "안녕\n",
            "안녕\n",
            "정수를 입력해주세요 : 3\n",
            "*\n",
            "**\n",
            "***\n"
          ]
        }
      ]
    },
    {
      "cell_type": "code",
      "source": [
        "#P.188 연습문제2\n",
        "\n",
        "#(1)\n",
        "n = int(input('n:'))\n",
        "for i in range(n):\n",
        "    print(' '*i,end='')\n",
        "    print('*'*n)\n",
        "\n",
        "#(2)\n",
        "n = int(input('n : '))\n",
        "for i in range(1,n+1):\n",
        "    print('*'*i)\n",
        "(2-1)\n",
        "n = int(input('n : '))\n",
        "for i in range(1,n+1):\n",
        "    print(' '*(n-i), end='')\n",
        "    print('*'*i)\n",
        "\n",
        "#(3)\n",
        "n = int(input('n : '))\n",
        "for i in range(n):\n",
        "    print('*'*(n-i))\n",
        "\n",
        "#(3-1)\n",
        "n = int(input('n : '))\n",
        "for i in range(n):\n",
        "    print(' '*i, end='')\n",
        "    print('*'*(n-i))\n",
        "\n",
        "#(4)\n",
        "n = int(input('n : '))\n",
        "for i in range(1, n+1):\n",
        "    print(' ' * (n-i), end='')\n",
        "    print('*' * (2*i-1))"
      ],
      "metadata": {
        "id": "RkOtnqzS9b3R"
      },
      "execution_count": null,
      "outputs": []
    },
    {
      "cell_type": "code",
      "source": [
        "#P.190 연습문제3\n",
        "\n",
        "#(1)\n",
        "x = [3, 6, 9, 20, -7, 5]\n",
        "for i in x:\n",
        "    print(i * 10)\n",
        "\n",
        "#심화\n",
        "for i in range(0,len(x)):\n",
        "    print(x[i]*10)\n",
        "    x[i] = x[i]*10\n",
        "# print(x)\n",
        "\n",
        "#(2)\n",
        "y = {\"math\": 70, \"science\": 80, \"english\": 20}\n",
        "for key in y:\n",
        "    val = y[key]\n",
        "    print(\"%s : %d\" % (key, val+10))\n",
        "\n",
        "#심화\n",
        "for key in y:\n",
        "    val = y[key]\n",
        "    y[key] = y[key]+10\n",
        "    print(\"%s : %d\" % (key, val+10))\n",
        "\n",
        "\n",
        "#(3)\n",
        "a = int(input(\"정수를 입력해주세요:\"))\n",
        "b = int(input(\"정수를 입력해주세요:\"))\n",
        "print(\"%d * %d = %d\" % (a, b, a*b))"
      ],
      "metadata": {
        "colab": {
          "base_uri": "https://localhost:8080/"
        },
        "id": "Xs8aL4rx96B9",
        "outputId": "143c73df-ad2c-4a3d-e881-0f3807a4726e"
      },
      "execution_count": 23,
      "outputs": [
        {
          "output_type": "stream",
          "name": "stdout",
          "text": [
            "30\n",
            "60\n",
            "90\n",
            "200\n",
            "-70\n",
            "50\n",
            "30\n",
            "60\n",
            "90\n",
            "200\n",
            "-70\n",
            "50\n",
            "math : 80\n",
            "science : 90\n",
            "english : 30\n",
            "math : 80\n",
            "science : 90\n",
            "english : 30\n",
            "정수를 입력해주세요3\n",
            "정수를 입력해주세요5\n",
            "3 * 5 = 15\n"
          ]
        }
      ]
    },
    {
      "cell_type": "code",
      "source": [
        "#P.191 연습문제4\n",
        "import random\n",
        "\n",
        "true_value = random.randint(1,100)\n",
        "input_value = 99999 #임의의 값 할당.\n",
        "\n",
        "print('숫자를 맞춰보세요(1~100)')\n",
        "\n",
        "while true_value !=input_value:\n",
        "    input_value = int(input())\n",
        "    if input_value>true_value: #사용자의 입력값이 true_value 클 때\n",
        "        print('숫자가 너무 큽니다')\n",
        "    elif input_value == true_value:\n",
        "        print(f'정답입니다. 입력한 숫자는 {true_value}입니다.')\n",
        "    else:\n",
        "        print('숫자가 너무 작습니다.') #사용자의 입력값이 true)value보다 작을 때"
      ],
      "metadata": {
        "id": "9eukJJYY-O7D"
      },
      "execution_count": null,
      "outputs": []
    },
    {
      "cell_type": "code",
      "source": [
        "#P.192 연습문제5\n",
        "word = [\"school\", \"game\", \"piano\", \"science\", \"hotel\", \"mountain\"]\n",
        "a = list()\n",
        "for i in range(len(word)):\n",
        "    if len(word[i]) >= 6:\n",
        "        a.append(word[i])\n",
        "print(a)\n",
        "\n",
        "#(2)\n",
        "for i in range(9):\n",
        "    print(\"%d %s\" %(i+1,\"단\"))\n",
        "    for j in range(9):\n",
        "        print(\"%d * %d = %d\" % (i+1, j+1, (i+1)*(j+1)))"
      ],
      "metadata": {
        "id": "Xg9P6GCM-ldw"
      },
      "execution_count": null,
      "outputs": []
    },
    {
      "cell_type": "code",
      "source": [
        "#P.193 연습문제6\n",
        "\n",
        "#(1)\n",
        "for a in range(1, 101):\n",
        "    if a%3 ==0 and a%5 ==0 :\n",
        "        print(\"3과 5의 공배수\")\n",
        "    elif a%3 ==0  :\n",
        "        print(\"3의 배수\")\n",
        "    elif a%5 ==0 :\n",
        "        print(\"5의 배수\")\n",
        "    else:\n",
        "        print(a)\n",
        "\n",
        "\n",
        "#(2)\n",
        "\n",
        "b = int(input(\"정수를 입력하세요.\"))\n",
        "\n",
        "if b<=0:\n",
        "    print(\"음수는 정의하지 않음\")\n",
        "else :\n",
        "    for a in range(1, b+1):\n",
        "        if a%3 ==0 and a%5 ==0 :\n",
        "            print(\"3과 5의 공배수\")\n",
        "        elif a%3 ==0  :\n",
        "            print(\"3의 배수\")\n",
        "        elif a%5 ==0 :\n",
        "            print(\"5의 배수\")\n",
        "        elif 1<=a<=100:\n",
        "            print(a)\n",
        "        else :\n",
        "            print('1과 100사이의 숫자가 아님')"
      ],
      "metadata": {
        "id": "GUa2CR07-yfI"
      },
      "execution_count": null,
      "outputs": []
    },
    {
      "cell_type": "code",
      "source": [
        "#P.194 연습문제7\n",
        "\n",
        "c = 0\n",
        "d = 1\n",
        "while(d==1):\n",
        "    a = (input())\n",
        "    if (a=='s' or a=='S'):\n",
        "        d=0\n",
        "    else:\n",
        "        a = int(a)\n",
        "        c+=a\n",
        "\n",
        "print(c)"
      ],
      "metadata": {
        "id": "BY6jrSV9-90n"
      },
      "execution_count": null,
      "outputs": []
    },
    {
      "cell_type": "code",
      "source": [
        "kor_score = [39,69,20,100,80]\n",
        "math_score = [32,59,85,30,90]\n",
        "eng_score = [49,70,48,60,100]\n",
        "mid_score = [kor_score,math_score,eng_score]\n",
        "\n",
        "student_score=[0,0,0,0,0]\n",
        "i=0\n",
        "for subject in mid_score:# kor,math, eng :과목 선택\n",
        "    for score in subject:#과목선택 후\n",
        "        student_score[i] +=score # 각 학생마다 개별로 교과 점수를 저장\n",
        "        # print(subject,score,'i:',i,i,student_score)#kor->math->eng\n",
        "        i+=1#학생 index 구분\n",
        "    i=0# 과목이 바뀔 때 학생 인덱스\n",
        "else:#for가 끝났을때 작동\n",
        "    a,b,c,d,e = student_score#학생별 점수를 uppacking\n",
        "    student_average = [a/3,b/3,c/3,d/3,e/3]\n",
        "    print(student_average)"
      ],
      "metadata": {
        "colab": {
          "base_uri": "https://localhost:8080/"
        },
        "id": "HjqM-LYh_F6c",
        "outputId": "b5f86c96-7e23-47b1-af8e-1b8eea5376df"
      },
      "execution_count": 25,
      "outputs": [
        {
          "output_type": "stream",
          "name": "stdout",
          "text": [
            "[40.0, 66.0, 51.0, 63.333333333333336, 90.0]\n"
          ]
        }
      ]
    },
    {
      "cell_type": "code",
      "source": [
        "#P.224 연습문제\n",
        "def div(a,b):\n",
        "    return (a//b, a%b)"
      ],
      "metadata": {
        "id": "ckGbGg_k_dz5"
      },
      "execution_count": null,
      "outputs": []
    },
    {
      "cell_type": "code",
      "source": [
        "#P.225 연습문제\n",
        "\n",
        "def div3(a,b):\n",
        "    if a<b:\n",
        "        big=b\n",
        "        small=a\n",
        "    elif b<a:\n",
        "        big=a\n",
        "        small=b\n",
        "    else :\n",
        "        print('정수가 아닙니다.')\n",
        "    if small==0:\n",
        "        print('0은 사용할 수 없습니다.')\n",
        "    elif abs(big)<0 or abs(small)<0:\n",
        "        print('정수를 입력해주세요.')\n",
        "    else:\n",
        "        q= big//small\n",
        "        r = big%small\n",
        "        return (q,r)"
      ],
      "metadata": {
        "id": "o0MLEz_w_w0x"
      },
      "execution_count": null,
      "outputs": []
    },
    {
      "cell_type": "code",
      "source": [
        "#P.229 연습문제\n",
        "def func(string, unit=2) :\n",
        "    i = 0\n",
        "    while i < len(string) :\n",
        "        print(string[i : i + unit])\n",
        "        i += unit"
      ],
      "metadata": {
        "id": "1MZfPqnFAKgk"
      },
      "execution_count": null,
      "outputs": []
    },
    {
      "cell_type": "code",
      "source": [
        "#P.230 연습문제\n",
        "def add_all(*inputs) :\n",
        "    s = 0\n",
        "    for i in range(len(inputs)) :\n",
        "        s += inputs[i]\n",
        "    return s\n",
        "def add_all2(*inputs):\n",
        "    return sum(inputs)\n",
        "#---list받을려면 이렇게 하면 됨----\n",
        "def add_all(*arg):\n",
        "    s = 0\n",
        "    for i in arg:\n",
        "        for j in i:\n",
        "            s +=j\n",
        "    return s\n",
        "\n",
        "add_all([1,2,3,4,5,6,7,8,9,10])\n",
        "\n",
        "def add_all(*args):\n",
        "    temp = 0\n",
        "    for i in range(len(args)):\n",
        "        if type(args[i]) == list:\n",
        "            for j in args[i]:\n",
        "                temp+=j\n",
        "        else:\n",
        "            temp+=args[i]\n",
        "    return temp\n",
        "\n",
        "print(add_all([1,2,3,4,5,6,7,8,9,10]))\n",
        "print(add_all(1,2,3,4,5,6,7,8,9,10))\n",
        "\n"
      ],
      "metadata": {
        "colab": {
          "base_uri": "https://localhost:8080/"
        },
        "id": "s4H286FVANX1",
        "outputId": "eea9fbaf-78ef-4ec2-921a-cc0733c2b4f6"
      },
      "execution_count": 26,
      "outputs": [
        {
          "output_type": "stream",
          "name": "stdout",
          "text": [
            "55\n",
            "55\n"
          ]
        }
      ]
    },
    {
      "cell_type": "code",
      "source": [
        "#P.239 연습문제\n",
        "#재귀적으로 하지 않은것.\n",
        "def fact(n):\n",
        "    f=1 #곱을 계산할 변수의 초깃값\n",
        "    for i in range(1,n+1): #1부터 n까지 반복\n",
        "        f = f*i #곱셈연산\n",
        "    return f\n",
        "# 재귀적으로 하는 것.\n",
        "def fact(n):\n",
        "    if n <=1: #n이 1이하이면 종료조건\n",
        "        return 1\n",
        "    return n * fact(n-1)"
      ],
      "metadata": {
        "id": "JJzQY1CFAUK2"
      },
      "execution_count": 30,
      "outputs": []
    },
    {
      "cell_type": "code",
      "source": [
        "#P.251 연습문제1\n",
        "items = [1, 24, 3, 6, 7]\n",
        "str_items = list(map(lambda x : str(x), items))\n",
        "print(str_items)"
      ],
      "metadata": {
        "colab": {
          "base_uri": "https://localhost:8080/"
        },
        "id": "oZT-tUArBBxX",
        "outputId": "0e1fa249-c481-446b-c050-2e0ce07263c2"
      },
      "execution_count": 29,
      "outputs": [
        {
          "output_type": "stream",
          "name": "stdout",
          "text": [
            "['1', '24', '3', '6', '7']\n"
          ]
        }
      ]
    },
    {
      "cell_type": "code",
      "source": [
        "#P.252 연습문제2\n",
        "\n",
        "lit = [1,2,3,4,5,6,7,8,9,10]\n",
        "\n",
        "result = list(map( lambda x :pow(x,2) , lit ))\n",
        "print(result)\n"
      ],
      "metadata": {
        "colab": {
          "base_uri": "https://localhost:8080/"
        },
        "id": "TqIoMG4NBF2i",
        "outputId": "574d9bd0-7e64-4185-ce5b-04aba880cbdd"
      },
      "execution_count": 28,
      "outputs": [
        {
          "output_type": "stream",
          "name": "stdout",
          "text": [
            "[1, 4, 9, 16, 25, 36, 49, 64, 81, 100]\n"
          ]
        }
      ]
    },
    {
      "cell_type": "code",
      "source": [
        "#P.255 for문\n",
        "\n",
        "#1)\n",
        "tables = [2 * x for x in range(1,10)]\n",
        "print(tables)\n",
        "\n",
        "#2)\n",
        "sentence = \"코로나 바이러스를 예방하기 위해 사회적 거리두기를 실천합시다. 외출 시에는 마스크를 끼고, 손씻기를 생활화합시다.\"\n",
        "len_sent = [len(s) for s in sentence.split()]\n",
        "print(len_sent)\n",
        "\n"
      ],
      "metadata": {
        "colab": {
          "base_uri": "https://localhost:8080/"
        },
        "id": "TR0EGYKdBMdc",
        "outputId": "7ea531fa-1ca5-426b-8bd8-82f44cda862b"
      },
      "execution_count": 31,
      "outputs": [
        {
          "output_type": "stream",
          "name": "stdout",
          "text": [
            "[2, 4, 6, 8, 10, 12, 14, 16, 18]\n",
            "[3, 5, 4, 2, 3, 5, 6, 2, 3, 4, 3, 4, 7]\n"
          ]
        }
      ]
    },
    {
      "cell_type": "code",
      "source": [
        "#P.255 for문+if문\n",
        "\n",
        "#1)\n",
        "lc_3 = [x**2 for x in range(1,11) if x**2 <= 50]\n",
        "print(lc_3)\n",
        "\n",
        "#2)\n",
        "sentence = \"코로나 바이러스를 예방하기 위해 사회적 거리두기를 실천합시다. 마스크를 끼고 손씻기를 생활화합시다.\"\n",
        "len_condition = [s for s in sentence.split() if len(s) < 5]\n",
        "len_condition\n"
      ],
      "metadata": {
        "colab": {
          "base_uri": "https://localhost:8080/"
        },
        "id": "rQPp_PMBBcKi",
        "outputId": "a3a99dfb-efd5-42ce-8979-3251f7e17a77"
      },
      "execution_count": 32,
      "outputs": [
        {
          "output_type": "stream",
          "name": "stdout",
          "text": [
            "[1, 4, 9, 16, 25, 36, 49]\n"
          ]
        },
        {
          "output_type": "execute_result",
          "data": {
            "text/plain": [
              "['코로나', '예방하기', '위해', '사회적', '마스크를', '끼고', '손씻기를']"
            ]
          },
          "metadata": {},
          "execution_count": 32
        }
      ]
    },
    {
      "cell_type": "code",
      "source": [
        "#P.261 for문+if문\n",
        "\n",
        "list_5 = [12, 67, 32, 48, 19, 57, 29, 49]\n",
        "\n",
        "lc_6 = [x+5 if x <= 40 else 41 for x in list_5]\n",
        "print(lc_6)\n",
        "\n",
        "#Lc_6 = [x+5 for x in lins_5 if x<=40 else 41] ->이렇게 안됨 (이유는 for 뒤에는 if밖에 못씀(List_comprehension의 특징)\n",
        "\n",
        "students = {\"보라돌이\" : 61,\n",
        "            \"뚜비\" : 35,\n",
        "            \"나나\" : 78,\n",
        "            \"뽀\" : 88}\n",
        "\n",
        "result = [(name, True) if score >= 60 else (name, False) for name, score in students.items()]\n",
        "\n",
        "result"
      ],
      "metadata": {
        "colab": {
          "base_uri": "https://localhost:8080/"
        },
        "id": "5yswtpMxBoOY",
        "outputId": "be329074-870f-4b06-9313-ea6287956b14"
      },
      "execution_count": 33,
      "outputs": [
        {
          "output_type": "stream",
          "name": "stdout",
          "text": [
            "[17, 41, 37, 41, 24, 41, 34, 41]\n"
          ]
        },
        {
          "output_type": "execute_result",
          "data": {
            "text/plain": [
              "[('보라돌이', True), ('뚜비', False), ('나나', True), ('뽀', True)]"
            ]
          },
          "metadata": {},
          "execution_count": 33
        }
      ]
    },
    {
      "cell_type": "code",
      "source": [
        "#P.291 연습문제1\n",
        "\n",
        "class Human():\n",
        "    def __init__(self, bd, s, n):\n",
        "        self.birth_date = bd\n",
        "        self.sex = s\n",
        "        self.nation = n\n",
        "\n",
        "    def give_name(self, name) :\n",
        "        self.name = name\n",
        "        print (\"이름은 %s 입니다.\" %self.name)\n",
        "\n",
        "    def can_sing(self, ability) :\n",
        "        if ability :\n",
        "            print(\"Sing a Song\")\n",
        "\n",
        "MJ = Human(200802, 'F', '한국')\n",
        "MJ.birth_date\n",
        "MJ.give_name(\"민지\")\n",
        "MJ.can_sing(True)"
      ],
      "metadata": {
        "colab": {
          "base_uri": "https://localhost:8080/"
        },
        "id": "Ww7oqZXYBwkd",
        "outputId": "38fffc6b-0a91-4c96-8a86-6ea2397bd334"
      },
      "execution_count": 34,
      "outputs": [
        {
          "output_type": "stream",
          "name": "stdout",
          "text": [
            "이름은 민지 입니다.\n",
            "Sing a Song\n"
          ]
        }
      ]
    },
    {
      "cell_type": "code",
      "source": [
        "#P.292 연습문제2\n",
        "\n",
        "class Child(Human) :\n",
        "    def __init__(self, bd, s, n, eye) :\n",
        "        self.birth_date = bd\n",
        "        self.sex = s\n",
        "        self.nation = n\n",
        "        self.eye = eye\n",
        "\n",
        "    def can_sing(self):\n",
        "        print(\"Can't Sing\")\n",
        "\n",
        "    def can_dance(self) :\n",
        "        print(\"Dance Time!\")\n",
        "\n",
        "ch = Child(200802, 'F', '한국', 'black’)\n",
        "\n",
        "ch.nation\n",
        "\n",
        "ch.can_sing()\n",
        "\n",
        "ch.can_dance()\n",
        "\n",
        "class ChildSuper(Human) :\n",
        "    def __init__(self, bd, s, n, eye) :\n",
        "        super().__init__(bd, s, n)\n",
        "        self.eye = eye\n",
        "    def can_sing(self):\n",
        "        print(\"Can't Sing\")\n",
        "    def can_dance(self) :\n",
        "        print(\"Dance Time!\")\n",
        "\n",
        "ch2 = ChildSuper(200219, 'M', '미국', 'blue’)\n",
        "\n",
        "ch2.can_sing()\n",
        "\n",
        "ch2.eye"
      ],
      "metadata": {
        "id": "V4Txyz63B8zP"
      },
      "execution_count": null,
      "outputs": []
    },
    {
      "cell_type": "code",
      "source": [
        "#P.300 연습문제7\n",
        "\n",
        "#연습문제7\n",
        "c=0\n",
        "d=1\n",
        "while (d==1):\n",
        "    a = input('값을 입력해주세요 : ')\n",
        "    try:\n",
        "        if (a=='s' or a=='S'):\n",
        "            d=0 #break\n",
        "        else:\n",
        "            a = int(a)\n",
        "            c+=a\n",
        "    except:\n",
        "        continue\n",
        "print('합계는 : ',c)\n"
      ],
      "metadata": {
        "colab": {
          "base_uri": "https://localhost:8080/"
        },
        "id": "_zxToezJCJlr",
        "outputId": "bff30380-f78a-4488-e1e1-394fb161092c"
      },
      "execution_count": 35,
      "outputs": [
        {
          "output_type": "stream",
          "name": "stdout",
          "text": [
            "값을 입력해주세요 : 30\n",
            "값을 입력해주세요 : 20\n",
            "값을 입력해주세요 : s\n",
            "합계는 :  50\n"
          ]
        }
      ]
    },
    {
      "cell_type": "code",
      "source": [],
      "metadata": {
        "id": "s7WQl04lCUl4"
      },
      "execution_count": null,
      "outputs": []
    }
  ]
}