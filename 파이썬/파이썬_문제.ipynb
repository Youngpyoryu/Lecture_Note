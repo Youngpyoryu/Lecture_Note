{
  "nbformat": 4,
  "nbformat_minor": 0,
  "metadata": {
    "colab": {
      "name": "파이썬 문제.ipynb",
      "provenance": [],
      "collapsed_sections": []
    },
    "kernelspec": {
      "name": "python3",
      "display_name": "Python 3"
    },
    "language_info": {
      "name": "python"
    }
  },
  "cells": [
    {
      "cell_type": "markdown",
      "metadata": {
        "id": "CcNlSRLw8_a0"
      },
      "source": [
        "## 문제 1)\n",
        "\n",
        "고객의 개인정보보호를 위하여 이름을 비 식별화를 하려고 한다. 고객의 이름을 비 식별화 하여서 출력해보세요.\n",
        "\n",
        "예시) 홍길동 -> 홍*동"
      ]
    },
    {
      "cell_type": "code",
      "metadata": {
        "id": "oW-qTK9p88IS"
      },
      "source": [
        "names = ['홍길동', '홍계월', '김철수', '이영희', '박첨지']"
      ],
      "execution_count": null,
      "outputs": []
    },
    {
      "cell_type": "code",
      "metadata": {
        "colab": {
          "base_uri": "https://localhost:8080/"
        },
        "id": "JnfTJm3R88ig",
        "outputId": "0de44092-36c8-4c2f-8fef-3ad24a6aab21"
      },
      "source": [
        ""
      ],
      "execution_count": null,
      "outputs": [
        {
          "output_type": "stream",
          "text": [
            "홍*동\n",
            "홍*월\n",
            "김*수\n",
            "이*희\n",
            "박*지\n"
          ],
          "name": "stdout"
        }
      ]
    },
    {
      "cell_type": "markdown",
      "metadata": {
        "id": "yOsyZl159FyC"
      },
      "source": [
        "## 문제 2)  \n",
        "\n",
        "‘students.txt’ 파일을 읽어서 딕셔너리로 학생들의 정보를 저장하라. 해당 파일은 이름, 국어점수, 영어점수, 수학점수 순으로 되어있으며, 각 컬럼의 구분자는 tab(\\t)으로 이루어져있다. 이름을 key로 하고, 국어점수, 영어점수, 수학점수를 순서대로 담은 리스트를 value로 하는 딕셔너리로 저장하라. (encoding을 주의하시오.)\n",
        "\n",
        "1. read 이용"
      ]
    },
    {
      "cell_type": "code",
      "metadata": {
        "id": "yMSTgbaO9ER2"
      },
      "source": [
        "students = {}"
      ],
      "execution_count": null,
      "outputs": []
    },
    {
      "cell_type": "code",
      "metadata": {
        "colab": {
          "base_uri": "https://localhost:8080/"
        },
        "id": "KlA9DWSC9KlV",
        "outputId": "a8d84ff6-8f7d-4234-8a99-ce43376903b6"
      },
      "source": [
        ""
      ],
      "execution_count": null,
      "outputs": [
        {
          "output_type": "stream",
          "text": [
            "홍길동\t50\t70\t65\n",
            "홍계월\t80\t90\t100\n",
            "뽀로로\t83\t92\t86\n",
            "펭수\t95\t100\t97\n",
            "뚝딱이\t77\t72\t87\n",
            "----\n",
            "['홍길동\\t50\\t70\\t65', '홍계월\\t80\\t90\\t100', '뽀로로\\t83\\t92\\t86', '펭수\\t95\\t100\\t97', '뚝딱이\\t77\\t72\\t87']\n",
            "----\n",
            "['홍길동', '50', '70', '65']\n",
            "['홍계월', '80', '90', '100']\n",
            "['뽀로로', '83', '92', '86']\n",
            "['펭수', '95', '100', '97']\n",
            "['뚝딱이', '77', '72', '87']\n",
            "----\n"
          ],
          "name": "stdout"
        }
      ]
    },
    {
      "cell_type": "markdown",
      "metadata": {
        "id": "JS1Ak7cy9ceb"
      },
      "source": [
        "### 2. readlines 이용"
      ]
    },
    {
      "cell_type": "code",
      "metadata": {
        "id": "5qh-Ckc_9bAW"
      },
      "source": [
        "students2= {}"
      ],
      "execution_count": null,
      "outputs": []
    },
    {
      "cell_type": "code",
      "metadata": {
        "colab": {
          "base_uri": "https://localhost:8080/"
        },
        "id": "we7vMfz89ezJ",
        "outputId": "447e1d3e-bb3b-4cfb-e041-544048c1e3bd"
      },
      "source": [
        ""
      ],
      "execution_count": null,
      "outputs": [
        {
          "output_type": "stream",
          "text": [
            "['홍길동\\t50\\t70\\t65\\n', '홍계월\\t80\\t90\\t100\\n', '뽀로로\\t83\\t92\\t86\\n', '펭수\\t95\\t100\\t97\\n', '뚝딱이\\t77\\t72\\t87']\n",
            "----\n",
            "['홍길동', '50', '70', '65\\n']\n",
            "['홍계월', '80', '90', '100\\n']\n",
            "['뽀로로', '83', '92', '86\\n']\n",
            "['펭수', '95', '100', '97\\n']\n",
            "['뚝딱이', '77', '72', '87']\n"
          ],
          "name": "stdout"
        }
      ]
    },
    {
      "cell_type": "markdown",
      "metadata": {
        "id": "M3qQ3YuU9i6G"
      },
      "source": [
        "문제 3)\n",
        "\n",
        "저장한 딕셔너리를 토대로 학생들의 평균을 구하라. 전체 학생의 국어, 영어, 수학 점수의 평균을 구해서 각각 kor, eng, math라는 변수에 저장하고, 출력하라.\n"
      ]
    },
    {
      "cell_type": "code",
      "metadata": {
        "colab": {
          "base_uri": "https://localhost:8080/"
        },
        "id": "G30dmwf09fse",
        "outputId": "e7909e26-4082-4c30-f19d-edfdae711d5e"
      },
      "source": [
        "students"
      ],
      "execution_count": null,
      "outputs": [
        {
          "output_type": "execute_result",
          "data": {
            "text/plain": [
              "{'뚝딱이': ['77', '72', '87'],\n",
              " '뽀로로': ['83', '92', '86'],\n",
              " '펭수': ['95', '100', '97'],\n",
              " '홍계월': ['80', '90', '100'],\n",
              " '홍길동': ['50', '70', '65']}"
            ]
          },
          "metadata": {
            "tags": []
          },
          "execution_count": 8
        }
      ]
    },
    {
      "cell_type": "code",
      "metadata": {
        "id": "rgvKs8vI9lo5"
      },
      "source": [
        "kor = 0\n",
        "eng = 0\n",
        "math = 0"
      ],
      "execution_count": null,
      "outputs": []
    },
    {
      "cell_type": "code",
      "metadata": {
        "id": "xe5QT3dr9mtU"
      },
      "source": [
        ""
      ],
      "execution_count": null,
      "outputs": []
    },
    {
      "cell_type": "code",
      "metadata": {
        "colab": {
          "base_uri": "https://localhost:8080/"
        },
        "id": "K0T0SOu49npe",
        "outputId": "42715d81-1a63-4f26-afff-9e5a337df5fd"
      },
      "source": [
        ""
      ],
      "execution_count": null,
      "outputs": [
        {
          "output_type": "stream",
          "text": [
            "학생들의 평균은 아래와 같습니다.\n",
            "국어 : 77.0\n",
            "영어 : 84.8\n",
            "수학 : 87.0\n"
          ],
          "name": "stdout"
        }
      ]
    },
    {
      "cell_type": "markdown",
      "metadata": {
        "id": "0-0jfS6Z9rn3"
      },
      "source": [
        "## 문제 4)\n",
        "\n",
        "학생들 개개인의 평균을 구하는 함수를 작성하라. 이름을 넣으면 국어, 영어, 수학 3과목의 평균을 계산하여 반환하는 함수를 작성하라."
      ]
    },
    {
      "cell_type": "code",
      "metadata": {
        "id": "6wuYUJre9od2"
      },
      "source": [
        ""
      ],
      "execution_count": null,
      "outputs": []
    },
    {
      "cell_type": "code",
      "metadata": {
        "id": "iI7i2N1B9zvh"
      },
      "source": [
        ""
      ],
      "execution_count": null,
      "outputs": []
    },
    {
      "cell_type": "markdown",
      "metadata": {
        "id": "F7MXZm9m92_5"
      },
      "source": [
        "### 문제 5)\n",
        "\n",
        "복리이자율7%로 1000만원 저금시 2000만원이 되기까지 몇년이 걸리는가?"
      ]
    },
    {
      "cell_type": "code",
      "metadata": {
        "colab": {
          "base_uri": "https://localhost:8080/"
        },
        "id": "hPsPYea290pd",
        "outputId": "4645c324-c017-44cf-a0a5-68c7fc7a1335"
      },
      "source": [
        ""
      ],
      "execution_count": null,
      "outputs": [
        {
          "output_type": "stream",
          "text": [
            "11 년\n"
          ],
          "name": "stdout"
        }
      ]
    },
    {
      "cell_type": "markdown",
      "metadata": {
        "id": "Dl1UgbeB-ypd"
      },
      "source": [
        "## 문제 6)\n",
        "\n",
        "다음 문장에서 모음('aeiou')을 제거하시오\n",
        "\n",
        "문장 : \"Life is too short, you need python!\" (Hint : List comprehension or for 문을 사용하세요.)"
      ]
    },
    {
      "cell_type": "code",
      "metadata": {
        "colab": {
          "base_uri": "https://localhost:8080/"
        },
        "id": "bRNprkeV96t9",
        "outputId": "7043253f-888f-4876-d1e8-a2ba35b879ab"
      },
      "source": [
        ""
      ],
      "execution_count": null,
      "outputs": [
        {
          "output_type": "stream",
          "text": [
            "Lf s t shrt, y nd pythn\n"
          ],
          "name": "stdout"
        }
      ]
    },
    {
      "cell_type": "markdown",
      "metadata": {
        "id": "3Yos2ui8-32y"
      },
      "source": [
        "## 문제 7)\n",
        "\n",
        "리스트 중에서 홀수에만 2를 곱하여 저장하는 코드 작성."
      ]
    },
    {
      "cell_type": "code",
      "metadata": {
        "colab": {
          "base_uri": "https://localhost:8080/"
        },
        "id": "BGnLqQJd-06Z",
        "outputId": "ffd07fb5-3c19-473c-a7c1-eba5414401d3"
      },
      "source": [
        ""
      ],
      "execution_count": null,
      "outputs": [
        {
          "output_type": "execute_result",
          "data": {
            "text/plain": [
              "[0, 1, 2, 3, 4, 5, 6, 7, 8, 9]"
            ]
          },
          "metadata": {
            "tags": []
          },
          "execution_count": 16
        }
      ]
    },
    {
      "cell_type": "code",
      "metadata": {
        "colab": {
          "base_uri": "https://localhost:8080/"
        },
        "id": "K4ZygubH-6xb",
        "outputId": "b9dce612-f3ee-4595-d463-d0262ccfd41a"
      },
      "source": [
        ""
      ],
      "execution_count": null,
      "outputs": [
        {
          "output_type": "execute_result",
          "data": {
            "text/plain": [
              "[2, 6, 10, 14, 18]"
            ]
          },
          "metadata": {
            "tags": []
          },
          "execution_count": 17
        }
      ]
    },
    {
      "cell_type": "markdown",
      "metadata": {
        "id": "xxuBaI1p--Fi"
      },
      "source": [
        "## 문제 8)\n",
        "\n",
        "LIst Comprehension을 이용해서 list1이 1부터 100사이의 8의 배수를 가지도록 만들어 보세요\n",
        "\n"
      ]
    },
    {
      "cell_type": "code",
      "metadata": {
        "colab": {
          "base_uri": "https://localhost:8080/"
        },
        "id": "SzbxWUVo-7yt",
        "outputId": "2f827cc1-7248-4113-82c5-f233b43a0aa4"
      },
      "source": [
        ""
      ],
      "execution_count": null,
      "outputs": [
        {
          "output_type": "execute_result",
          "data": {
            "text/plain": [
              "[8, 16, 24, 32, 40, 48, 56, 64, 72, 80, 88, 96]"
            ]
          },
          "metadata": {
            "tags": []
          },
          "execution_count": 20
        }
      ]
    },
    {
      "cell_type": "markdown",
      "metadata": {
        "id": "oaLHvYNm_IM1"
      },
      "source": [
        "## 문제 9)\n",
        "\n",
        "Shape를 부모 클래스로 Square 자식 클래스를 정의하는 코드를 작성하십시오.\n",
        "\n",
        "Square 클래스는 length 필드를 가지며, 0을 반환하는 Shape 클래스의 area 메서드를\n",
        "\n",
        "length * length 값을 반환하는 메서드로 오버라이딩합니다.\""
      ]
    },
    {
      "cell_type": "code",
      "metadata": {
        "colab": {
          "base_uri": "https://localhost:8080/"
        },
        "id": "poj-cCpm_DKn",
        "outputId": "d13ebd38-2435-4f34-f31a-915b61364c80"
      },
      "source": [
        ""
      ],
      "execution_count": null,
      "outputs": [
        {
          "output_type": "stream",
          "text": [
            "정사각형의 면적: 9\n"
          ],
          "name": "stdout"
        }
      ]
    },
    {
      "cell_type": "markdown",
      "metadata": {
        "id": "FXXbYx3T_MC4"
      },
      "source": [
        "## 문제 10)\n",
        "\n",
        "Person를 부모 클래스로 Male, Female 자식 클래스를 정의하는 코드를 작성하십시오.\n",
        "\n",
        "\"Unknown\"을 반환하는 Person 클래스의 getGender 메서드를 Male 클래스와 Female 클래스는\n",
        "\n",
        "\"Male\", \"Female\" 값을 반환하는 메서드로 오버라이딩합니다.\n"
      ]
    },
    {
      "cell_type": "code",
      "metadata": {
        "colab": {
          "base_uri": "https://localhost:8080/"
        },
        "id": "sfr8aBv8_KpU",
        "outputId": "44ead391-7d9e-405d-f90b-95f21059efad"
      },
      "source": [
        ""
      ],
      "execution_count": null,
      "outputs": [
        {
          "output_type": "stream",
          "text": [
            "Male\n",
            "Female\n"
          ],
          "name": "stdout"
        }
      ]
    },
    {
      "cell_type": "markdown",
      "metadata": {
        "id": "_UFKkeXj_Q6E"
      },
      "source": [
        "## 문제 11)\n",
        "\n",
        "행렬의 덧셈은 행과 열의 크기가 같은 두 행렬의 같은 행, 같은 열의 값을 서로 더한 결과가 됩니다. 2개의 행렬 arr1과 arr2를 입력받아, 행렬 덧셈의 결과를 반환하는 함수, solution을 완성해주세요.\n",
        "\n",
        "제한 조건 행렬 arr1, arr2의 행과 열의 길이는 500을 넘지 않습니다.\n",
        "\n",
        "문제풀이1) for 문 작성 문제풀이2) zip 함수 이용 문제풀이3) list comprehension을 이용\n",
        "\n"
      ]
    },
    {
      "cell_type": "code",
      "metadata": {
        "id": "L3XR1yVD_PV5"
      },
      "source": [
        ""
      ],
      "execution_count": null,
      "outputs": []
    },
    {
      "cell_type": "code",
      "metadata": {
        "id": "bynHgsq9_Vko"
      },
      "source": [
        ""
      ],
      "execution_count": null,
      "outputs": []
    },
    {
      "cell_type": "code",
      "metadata": {
        "id": "I7QPjHga_WdY"
      },
      "source": [
        ""
      ],
      "execution_count": null,
      "outputs": []
    },
    {
      "cell_type": "markdown",
      "metadata": {
        "id": "1W-nnhXh_h59"
      },
      "source": [
        "## 문제 12)\n",
        "\n",
        "\n",
        "1부터 입력받은 숫자 n 사이에 있는 소수의 개수를 반환하는 함수, solution을 만들어 보세요.\n",
        "소수는 1과 자기 자신으로만 나누어지는 수를 의미합니다.\n",
        "(1은 소수가 아닙니다.)\n",
        "\n",
        "\n",
        "[제한 조건]\n",
        "\n",
        "\n",
        "n은 2이상 1000000이하의 자연수입니다.\n",
        "\n",
        "n\tresult\n",
        "\n",
        "10\t4\n",
        "\n",
        "5\t3\n",
        "\n",
        "입출력 예 설명\n",
        "\n",
        "입출력 예 #1\n",
        "\n",
        "1부터 10 사이의 소수는 [2,3,5,7] 4개가 존재하므로 4를 반환\n",
        "\n",
        "\n",
        "입출력 예 #2\n",
        "\n",
        "1부터 5 사이의 소수는 [2,3,5] 3개가 \n",
        "존재하므로 3를 반환"
      ]
    },
    {
      "cell_type": "code",
      "metadata": {
        "id": "3PsU-lds_XX5"
      },
      "source": [
        ""
      ],
      "execution_count": null,
      "outputs": []
    },
    {
      "cell_type": "code",
      "metadata": {
        "id": "FrqLwHv_ADPZ"
      },
      "source": [
        ""
      ],
      "execution_count": null,
      "outputs": []
    },
    {
      "cell_type": "code",
      "metadata": {
        "id": "EpiCTEtIAIvL"
      },
      "source": [
        ""
      ],
      "execution_count": null,
      "outputs": []
    },
    {
      "cell_type": "code",
      "metadata": {
        "id": "MmbxFoxJAT2o"
      },
      "source": [
        ""
      ],
      "execution_count": null,
      "outputs": []
    },
    {
      "cell_type": "markdown",
      "metadata": {
        "id": "rX75cGuOBUvS"
      },
      "source": [
        "## 문제 15) \n",
        "\n",
        "로또 번호 자동생성기를 작성하세요(Numpy를 모르시면 random 모듈로도 구현가능)\n"
      ]
    },
    {
      "cell_type": "code",
      "metadata": {
        "colab": {
          "base_uri": "https://localhost:8080/"
        },
        "id": "puBzt2XUBTx6",
        "outputId": "8d475200-e037-49dd-bf74-323022cb6f4e"
      },
      "source": [
        ""
      ],
      "execution_count": null,
      "outputs": [
        {
          "output_type": "stream",
          "text": [
            "[42, 14, 34, 7, 30, 2]\n"
          ],
          "name": "stdout"
        }
      ]
    },
    {
      "cell_type": "code",
      "metadata": {
        "colab": {
          "base_uri": "https://localhost:8080/"
        },
        "id": "7ao6OlRcBL4S",
        "outputId": "ed7a13f7-51f6-4d31-ef44-dd79fbf8fdb0"
      },
      "source": [
        ""
      ],
      "execution_count": null,
      "outputs": [
        {
          "output_type": "stream",
          "text": [
            "***** 로또 번호 자동 생성기*****\n",
            "--------------------------------\n",
            "게임 수 : 5\n",
            "[4, 20, 22, 26, 27, 30]\n",
            "[1, 10, 18, 27, 36, 42]\n",
            "[19, 23, 24, 32, 37, 40]\n",
            "[10, 16, 23, 24, 40, 43]\n",
            "[2, 18, 24, 25, 26, 32]\n",
            "***** 로또 번호 자동 완료 *****\n"
          ],
          "name": "stdout"
        }
      ]
    },
    {
      "cell_type": "code",
      "metadata": {
        "colab": {
          "base_uri": "https://localhost:8080/"
        },
        "id": "rHKuiFaDCRcG",
        "outputId": "9c812c78-c200-415a-9633-6004d9bcd4a9"
      },
      "source": [
        ""
      ],
      "execution_count": null,
      "outputs": [
        {
          "output_type": "stream",
          "text": [
            "[16, 21, 13, 33, 8, 1]\n"
          ],
          "name": "stdout"
        }
      ]
    },
    {
      "cell_type": "code",
      "metadata": {
        "colab": {
          "base_uri": "https://localhost:8080/"
        },
        "id": "jdfoC0sXCp5K",
        "outputId": "6b77621b-d446-429c-f718-66c3efa1f3de"
      },
      "source": [
        ""
      ],
      "execution_count": null,
      "outputs": [
        {
          "output_type": "stream",
          "text": [
            "로또: [3, 17, 19, 34, 39, 43]\n",
            "로또: [4, 17, 21, 33, 36, 45]\n",
            "로또: [1, 9, 17, 32, 33, 42]\n",
            "로또: [8, 10, 11, 21, 29, 31]\n",
            "로또: [2, 3, 14, 18, 22, 42]\n"
          ],
          "name": "stdout"
        }
      ]
    },
    {
      "cell_type": "code",
      "metadata": {
        "colab": {
          "base_uri": "https://localhost:8080/"
        },
        "id": "RMY7rB8BC8BN",
        "outputId": "723c6bcf-4b19-4ba6-efce-4da6ca02a69d"
      },
      "source": [
        ""
      ],
      "execution_count": null,
      "outputs": [
        {
          "output_type": "stream",
          "text": [
            "로또: [7, 12, 13, 23, 34, 35]\n",
            "로또: [2, 5, 11, 23, 30, 40]\n",
            "로또: [1, 9, 15, 18, 28, 42]\n",
            "로또: [3, 8, 14, 19, 23, 42]\n",
            "로또: [5, 9, 11, 19, 21, 31]\n"
          ],
          "name": "stdout"
        }
      ]
    },
    {
      "cell_type": "code",
      "metadata": {
        "colab": {
          "base_uri": "https://localhost:8080/"
        },
        "id": "KUCO4HPPC8Nh",
        "outputId": "3c785fb2-7359-4852-ef4f-b0a92deefd68"
      },
      "source": [
        ""
      ],
      "execution_count": null,
      "outputs": [
        {
          "output_type": "stream",
          "text": [
            "[23, 4, 28, 34, 3, 12]\n"
          ],
          "name": "stdout"
        }
      ]
    },
    {
      "cell_type": "code",
      "metadata": {
        "colab": {
          "base_uri": "https://localhost:8080/"
        },
        "id": "e2AcR_KpDRUi",
        "outputId": "f1beaf0a-2aa9-402e-a418-f5e2bac92035"
      },
      "source": [
        ""
      ],
      "execution_count": null,
      "outputs": [
        {
          "output_type": "stream",
          "text": [
            "로또를 몇장 구매하시겠습니까? 5\n",
            "랜덤하게 생성된 로또 번호입니다.\n",
            "[1]:   10  38  14  32  21  11 \n",
            "[2]:   13  30  25  19  36  27 \n",
            "[3]:   34  11   8  10  43  40 \n",
            "[4]:   16  24   6  36  31  41 \n",
            "[5]:   44  14  28  17  37   3 \n",
            "로또를 몇장 구매하시겠습니까? 1\n",
            "랜덤하게 생성된 로또 번호입니다.\n",
            "[1]:   45  25  13  14  15  14 \n",
            "로또를 몇장 구매하시겠습니까? -1\n",
            "종료합니다.\n"
          ],
          "name": "stdout"
        }
      ]
    },
    {
      "cell_type": "markdown",
      "metadata": {
        "id": "GqPfrOnRENFi"
      },
      "source": [
        "###문제 16) 비트연산 문제\n",
        "\n",
        "이 문제의 핵심은 비트 연산을 얼마나 잘 이해하고 있냐이기 때문에 비트 연산으로 풀어주세요.¶\n",
        "input은 int n을 입력 받아 첫번째 row는 (n-1)의 O와 X, 두번째 row는 (n-2)의 O와 XX, 세번째 row는 (n-3)의 0와 XXX... n번째 row는 n의 X을 출력하시오.\n",
        "\n",
        "입력 예시: 6\n",
        "\n",
        "출력 예시:\n",
        "\n",
        "OOOOOX\n",
        "\n",
        "OOOOXX\n",
        "\n",
        "OOOXXX\n",
        "\n",
        "OOXXXX\n",
        "\n",
        "OXXXXX\n",
        "\n",
        "XXXXXX\n",
        "\n"
      ]
    },
    {
      "cell_type": "code",
      "metadata": {
        "colab": {
          "base_uri": "https://localhost:8080/"
        },
        "id": "gYlC5lwTDqPP",
        "outputId": "4198fe60-6a16-4a62-d284-85f00dd1584e"
      },
      "source": [
        ""
      ],
      "execution_count": null,
      "outputs": [
        {
          "output_type": "stream",
          "text": [
            "숫자 n을 입력하시오\n",
            ":6\n",
            "OOOOOX\n",
            "OOOOXX\n",
            "OOOXXX\n",
            "OOXXXX\n",
            "OXXXXX\n",
            "XXXXXX\n"
          ],
          "name": "stdout"
        }
      ]
    },
    {
      "cell_type": "code",
      "metadata": {
        "colab": {
          "base_uri": "https://localhost:8080/"
        },
        "id": "WtnMGectEXbT",
        "outputId": "f90063df-bece-4e50-ca04-446c35b81b09"
      },
      "source": [
        ""
      ],
      "execution_count": null,
      "outputs": [
        {
          "output_type": "stream",
          "text": [
            "OOOOOX\n",
            "OOOOXX\n",
            "OOOXXX\n",
            "OOXXXX\n",
            "OXXXXX\n",
            "XXXXXX\n"
          ],
          "name": "stdout"
        }
      ]
    },
    {
      "cell_type": "markdown",
      "metadata": {
        "id": "AuO51RWyEbs4"
      },
      "source": [
        "## 문제 17)\n",
        "\n",
        "아래 조건에 따라 리스트를 회전하는 프로그램을 작성하시오.\n",
        "조건 입력값은 한 행의 문자열로 주어지며, 각 값은 공백으로 구분된다.\n",
        "\n",
        "첫 번째 값은 리스트를 회전하는 양과 방향(음수의 경우 좌측으로, 양수의 경우 우측으로 회전)이다.\n",
        "\n",
        "첫 번째 값을 제외한 나머지 값은 리스트의 각 항목의 값이다.\n",
        "\n",
        "회전된 리스트를 문자열로 출력한다.\n",
        "\n",
        "구현에 이용할 자료구조에 대한 조건이나 제약은 없다.\n",
        "\n",
        "입력되는 리스트의 항목의 개수는 유한한다.\n",
        "\n",
        "입출력예 예 1)\n",
        "\n",
        "입력: 1 10 20 30 40 50\n",
        "\n",
        "출력: 50 10 20 30 40\n",
        "\n",
        "예 2)\n",
        "\n",
        "입력: 4 가 나 다 라 마 바 사\n",
        "\n",
        "출력: 라 마 바 사 가 나 다\n",
        "\n",
        "예 3)\n",
        "\n",
        "입력: -2 A B C D E F G\n",
        "\n",
        "출력: C D E F G A B\n",
        "\n",
        "예 4)\n",
        "\n",
        "입력: 0 똘기 떵이 호치 새초미\n",
        "\n",
        "출력: 똘기 떵이 호치 새초미\n",
        "\n"
      ]
    },
    {
      "cell_type": "code",
      "metadata": {
        "colab": {
          "base_uri": "https://localhost:8080/"
        },
        "id": "DWX10hpBEZHC",
        "outputId": "6f189eca-dd67-44ae-90e5-7f3110362040"
      },
      "source": [
        ""
      ],
      "execution_count": null,
      "outputs": [
        {
          "output_type": "stream",
          "text": [
            "회전수와 문자열을 입력하세요. :  -2 i miss you so much\n",
            "you so much i miss\n"
          ],
          "name": "stdout"
        }
      ]
    },
    {
      "cell_type": "code",
      "metadata": {
        "colab": {
          "base_uri": "https://localhost:8080/"
        },
        "id": "SKdVfHkREovn",
        "outputId": "83d308b6-1e49-4687-ab85-70a77e4f845b"
      },
      "source": [
        ""
      ],
      "execution_count": null,
      "outputs": [
        {
          "output_type": "stream",
          "text": [
            "Input : 1 10 20 30 40 50\n",
            "Output : 50 10 20 30 40\n"
          ],
          "name": "stdout"
        }
      ]
    },
    {
      "cell_type": "code",
      "metadata": {
        "colab": {
          "base_uri": "https://localhost:8080/"
        },
        "id": "pwNw3EzKE1lz",
        "outputId": "ce4a9ace-02de-4f29-a076-951757a4f3f2"
      },
      "source": [
        ""
      ],
      "execution_count": null,
      "outputs": [
        {
          "output_type": "stream",
          "text": [
            "50 10 20 30 40\n",
            "라 마 바 사 가 나 다\n",
            "C D E F G A B\n",
            "똘기 떵이 호치 새초미\n"
          ],
          "name": "stdout"
        }
      ]
    },
    {
      "cell_type": "code",
      "metadata": {
        "colab": {
          "base_uri": "https://localhost:8080/"
        },
        "id": "2EwlTaIBE5Vp",
        "outputId": "719e9aec-7713-45d0-c4e0-d0b116458000"
      },
      "source": [
        ""
      ],
      "execution_count": null,
      "outputs": [
        {
          "output_type": "stream",
          "text": [
            "50 10 20 30 40\n",
            "C D E F G A B\n"
          ],
          "name": "stdout"
        }
      ]
    },
    {
      "cell_type": "code",
      "metadata": {
        "colab": {
          "base_uri": "https://localhost:8080/"
        },
        "id": "UIq-KGuCE7Ln",
        "outputId": "dbf8b419-8bdc-44b2-f4a1-050c996a13b8"
      },
      "source": [
        ""
      ],
      "execution_count": null,
      "outputs": [
        {
          "output_type": "stream",
          "text": [
            "30 40 50 10 20\n"
          ],
          "name": "stdout"
        }
      ]
    },
    {
      "cell_type": "markdown",
      "metadata": {
        "id": "8BOAdmisFEKy"
      },
      "source": [
        "## 문제 18)\n",
        "\n",
        "숫자 형태의 문자열을 콤마가 포함된 금액 표기식 문자열로 바꾸어주는 프로그램을 작성하시오.\n",
        "※ 단, 프로그래밍 언어에서 지원하는 금액변환 라이브러리는 사용하지 말것\n",
        "\n",
        "예)\n",
        "\n",
        "숫자 금액 1000 -> 1,000\n",
        "\n",
        "20000000 -> 20,000,000\n",
        "\n",
        "3245.24 -> -3,245.24"
      ]
    },
    {
      "cell_type": "code",
      "metadata": {
        "id": "vaa1POzrFBVH"
      },
      "source": [
        ""
      ],
      "execution_count": null,
      "outputs": []
    },
    {
      "cell_type": "code",
      "metadata": {
        "colab": {
          "base_uri": "https://localhost:8080/"
        },
        "id": "pc_jpLl3FL83",
        "outputId": "7470cc7d-3f1c-4d67-eeb3-1b80f3012490"
      },
      "source": [
        ""
      ],
      "execution_count": null,
      "outputs": [
        {
          "output_type": "stream",
          "text": [
            "숫자를 입력하십시오: 5\n",
            "5\n"
          ],
          "name": "stdout"
        }
      ]
    },
    {
      "cell_type": "markdown",
      "metadata": {
        "id": "_8R5Fsb6FXfu"
      },
      "source": [
        "## 문제 19)\n",
        "\n",
        "약수를 모두 찾는 수학 문제를 풀다가 지친 X는 컴퓨터의 도움을 받아 문제를 풀어 보기로 하였다. 하지만 계산기를 이용하자니 계산기로 하고 싶지만 찾기도 어려우며, 쉽게 찾아낼 수도 없었다.\n",
        "풀이에 지친 그는 결국 약수들이 가지고 있는 특징을 찾아 결국 몇시간에 걸쳐 복잡한 수라도 약수를 찾아줄 수 있고 개수도 알려주는 프로그램을 짜게 된다.\n",
        "\n",
        "다음은 약수를 얻기 위한 입력과 출력 예제들이다.\n",
        "\n",
        "입력 1\n",
        "\n",
        "24 출력 1\n",
        "\n",
        "{ 1, 2, 3, 4, 6, 8, 12, 24} 약수의 개수는 8개 입니다. 입력 2\n",
        "\n",
        "36 출력 2\n",
        "\n",
        "{ 1, 2, 3, 4, 6, 9, 12, 18, 36 } 약수의 개수는 9개 입니다. 입력 3\n",
        "\n",
        "2468013579 출력 3\n",
        "\n",
        "{ 1, 3, 9, 61, 183, 549, 4495471, 13486413, 40459239, 274223731, 822671193, 2468013579 } 약수의 개수는 12개 입니다. 사용한 소스코드를 풀이에 넣어 입력과 출력이 나왔음을 보이고, 소스코드를 디버깅하여 123456789를 입력해 출력된 결과를 '{ a, b, ... } / 약수의 개수는 ~개 입니다' 형식으로 하시오."
      ]
    },
    {
      "cell_type": "code",
      "metadata": {
        "id": "WVODs0vxFP-u"
      },
      "source": [
        ""
      ],
      "execution_count": null,
      "outputs": []
    },
    {
      "cell_type": "markdown",
      "metadata": {
        "id": "95f0tv-SFpvJ"
      },
      "source": [
        "## 문제 20)\n",
        "\n",
        " 2^15 = 32768 의 각 자리수를 더하면 3 + 2 + 7 + 6 + 8 = 26 입니다. 2^1000의 각 자리수를 모두 더하면 얼마입니까?"
      ]
    },
    {
      "cell_type": "code",
      "metadata": {
        "colab": {
          "base_uri": "https://localhost:8080/"
        },
        "id": "05eijlwhFgIg",
        "outputId": "cf0ae613-715f-48b4-f07b-678c2de6ee50"
      },
      "source": [
        ""
      ],
      "execution_count": null,
      "outputs": [
        {
          "output_type": "stream",
          "text": [
            "1366\n"
          ],
          "name": "stdout"
        }
      ]
    },
    {
      "cell_type": "code",
      "metadata": {
        "colab": {
          "base_uri": "https://localhost:8080/"
        },
        "id": "FXKGO98yFtw3",
        "outputId": "dfa95941-8bd3-46da-96c4-c20a7c286b02"
      },
      "source": [
        ""
      ],
      "execution_count": null,
      "outputs": [
        {
          "output_type": "stream",
          "text": [
            "1366\n"
          ],
          "name": "stdout"
        }
      ]
    },
    {
      "cell_type": "markdown",
      "metadata": {
        "id": "TGhiyCcFGC6Z"
      },
      "source": [
        "문제 21)\n",
        "\n",
        "아래와 같은 결과를 출력하는 function을 구현하라\n",
        "bool OneEditApart(string s1, string s2)\n",
        "\n",
        "OneEditApart(\"cat\", \"dog\") = false\n",
        "\n",
        "OneEditApart(\"cat\", \"cats\") = true\n",
        "\n",
        "OneEditApart(\"cat\", \"cut\") = true\n",
        "\n",
        "OneEditApart(\"cat\", \"cast\") = true\n",
        "\n",
        "OneEditApart(\"cat\", \"at\") = true\n",
        "\n",
        "OneEditApart(\"cat\", \"acts\") = false\n",
        "\n",
        "한개의 문자를 삽입, 제거, 변환을 했을때 s1, s2가 동일한지를 판별하는 OneEditApart 함수를 작성하시오."
      ]
    },
    {
      "cell_type": "code",
      "metadata": {
        "colab": {
          "base_uri": "https://localhost:8080/"
        },
        "id": "J-SzhRDcF_jG",
        "outputId": "b8c3b96a-b4d2-46cc-efd9-953324900f8a"
      },
      "source": [
        ""
      ],
      "execution_count": null,
      "outputs": [
        {
          "output_type": "stream",
          "text": [
            "False\n",
            "True\n",
            "True\n",
            "True\n",
            "True\n",
            "False\n"
          ],
          "name": "stdout"
        }
      ]
    },
    {
      "cell_type": "markdown",
      "metadata": {
        "id": "hmORWyNIGXNw"
      },
      "source": [
        "## 문제 21) 시침과 분침이 직각이 되는 순간?\n",
        "\n",
        "\n",
        "###  문제\n",
        "\n",
        "> 일반적인 1부터 12까지 아라비아 숫자가 적혀있는 시계가 있습니다.<Br>\n",
        "> 이 시계는 오전 12:00 정각에 작동하기 시작하여 하루동안 움직이게 되어있습니다.<Br>\n",
        "> 이 때 시침과 분침이 **직각**이 될 때의 시간을 hh:mm 형태로 나타내고 하루동안 직각이 된 총 횟수를 구해보세요!\n",
        "\n",
        "### 출력(예시)\n",
        "> 1. 09:00<p>\n",
        "> 2. 15:00<p>\n",
        "> ...<p>\n",
        "> Total: n번!<p>\n",
        "\n",
        "<p><p>\n",
        "시간표현은 오전, 오후가 아닌 24시 방식으로 써주세요!"
      ]
    },
    {
      "cell_type": "code",
      "metadata": {
        "colab": {
          "base_uri": "https://localhost:8080/"
        },
        "id": "Fq3yXxH7GMJM",
        "outputId": "0260610f-9518-4595-b312-6793714794bf"
      },
      "source": [
        ""
      ],
      "execution_count": null,
      "outputs": [
        {
          "output_type": "stream",
          "text": [
            "0:0\n",
            "0:0\n",
            "1:0\n",
            "1:0\n",
            "2:0\n",
            "3:0\n",
            "3:0\n",
            "4:0\n",
            "4:0\n",
            "5:0\n",
            "5:0\n",
            "6:0\n",
            "6:0\n",
            "7:0\n",
            "7:0\n",
            "8:0\n",
            "9:0\n",
            "9:0\n",
            "10:0\n",
            "10:0\n",
            "11:0\n",
            "11:0\n",
            "12:0\n",
            "12:0\n",
            "13:0\n",
            "13:0\n",
            "14:0\n",
            "15:0\n",
            "15:0\n",
            "16:0\n",
            "16:0\n",
            "17:0\n",
            "17:0\n",
            "18:0\n",
            "18:0\n",
            "19:0\n",
            "19:0\n",
            "20:0\n",
            "21:0\n",
            "21:0\n",
            "22:0\n",
            "22:0\n",
            "23:0\n",
            "23:0\n"
          ],
          "name": "stdout"
        }
      ]
    },
    {
      "cell_type": "markdown",
      "metadata": {
        "id": "j6ElLfmGGxG2"
      },
      "source": [
        "## 문제 22)\n",
        "\n",
        "2진법이란, 어떤 자연수를 0과 1로만 나타내는 것이다. \n",
        "\n",
        "예를 들어 73은 64(2^6)+8(2^3)+1(2^0)이기 때문에 1001001으로 표현한다. \n",
        "\n",
        "어떤 숫자를 입력받았을 때 그 숫자를 2진법으로 출력하는 프로그램을 작성하시오."
      ]
    },
    {
      "cell_type": "code",
      "metadata": {
        "id": "5GSB7iihGqOZ"
      },
      "source": [
        ""
      ],
      "execution_count": null,
      "outputs": []
    },
    {
      "cell_type": "code",
      "metadata": {
        "colab": {
          "base_uri": "https://localhost:8080/"
        },
        "id": "X-IuwyAYG8wZ",
        "outputId": "75a9db24-7a7a-4501-df57-d2fdf9b4a45c"
      },
      "source": [
        ""
      ],
      "execution_count": null,
      "outputs": [
        {
          "output_type": "stream",
          "text": [
            "1: (15, 1)\n",
            "2: (7, 1)\n",
            "3: (3, 1)\n",
            "4: (1, 1)\n",
            "5: (0, 1)\n",
            "11111\n"
          ],
          "name": "stdout"
        }
      ]
    },
    {
      "cell_type": "markdown",
      "metadata": {
        "id": "jhgU64wDIyYq"
      },
      "source": [
        "## 문제 23) 가성비 최대화\n",
        "\n",
        "기계를 구입하려 하는데 이 기계는 추가 부품을 장착할 수 있다. 추가 부품은 종류당 하나씩만 장착 가능하고, 모든 추가 부품은 동일한 가격을 가진다.\n",
        "\n",
        "원래 기계의 가격과 성능, 추가 부품의 가격과 각 부품의 성능이 주어졌을 때, 추가 부품을 장착하여 얻을 수 있는 최대 가성비를 정수 부분까지 구하시오(가격 및 성능은 상대적인 값으로 수치화되어 주어진다).\n",
        "\n",
        "e.g.)\n",
        "\n",
        "원래 기계의 가격 : 10\n",
        "\n",
        "원래 기계의 성능 : 150\n",
        "\n",
        "추가 부품의 가격 : 3\n",
        "\n",
        "추가 부품의 성능 : 각각 30, 70, 15, 40, 65\n",
        "\n",
        "추가 부품을 장착하여 얻을 수 있는 최대 가성비 : 17.81... → 17\n",
        "\n",
        "(성능이 70과 65인 부품을 장착하면 됨)\n",
        "\n",
        "\n",
        "\n"
      ]
    },
    {
      "cell_type": "code",
      "metadata": {
        "colab": {
          "base_uri": "https://localhost:8080/"
        },
        "id": "JBC-b8XlId8N",
        "outputId": "8f4abcd8-8a09-43ca-81d4-86c6f178e083"
      },
      "source": [
        ""
      ],
      "execution_count": null,
      "outputs": [
        {
          "output_type": "stream",
          "text": [
            "12.368421052631579\n",
            "13.68421052631579\n",
            "13.947368421052632\n"
          ],
          "name": "stdout"
        }
      ]
    },
    {
      "cell_type": "code",
      "metadata": {
        "id": "NpEu9mxoI6ub"
      },
      "source": [
        ""
      ],
      "execution_count": null,
      "outputs": []
    }
  ]
}